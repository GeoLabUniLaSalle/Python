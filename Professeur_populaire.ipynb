{
  "nbformat": 4,
  "nbformat_minor": 0,
  "metadata": {
    "colab": {
      "name": "Professeur populaire.ipynb",
      "provenance": [],
      "collapsed_sections": [],
      "authorship_tag": "ABX9TyNGlTDwSc9WSvuNBSMbTW7W",
      "include_colab_link": true
    },
    "kernelspec": {
      "name": "python3",
      "display_name": "Python 3"
    }
  },
  "cells": [
    {
      "cell_type": "markdown",
      "metadata": {
        "id": "view-in-github",
        "colab_type": "text"
      },
      "source": [
        "<a href=\"https://colab.research.google.com/github/GeoLabUniLaSalle/Python/blob/main/Professeur_populaire.ipynb\" target=\"_parent\"><img src=\"https://colab.research.google.com/assets/colab-badge.svg\" alt=\"Open In Colab\"/></a>"
      ]
    },
    {
      "cell_type": "markdown",
      "metadata": {
        "id": "R8kQ2CJh9aDY"
      },
      "source": [
        "## **Professeur populaire ★★☆**\n",
        "\n",
        "\n",
        "\n",
        "\n",
        "*Exercice disponible sur la plateforme TOSA : Battle Dev Hello Works - Novembre 2018 : https://www.isograd.com/FR/solutionconcours.php*\n",
        "\n",
        "\n",
        "\n",
        "**Enoncé**\n",
        "\n",
        "\n",
        "Vous vous êtes enfin décidé à monétiser vos connaissances en algorithmique en proposant des cours particuliers à des parents remplis d'espoirs injustifiés. Vous devenez rapidement très populaire, trop populaire, vous n'êtes plus sûr de pouvoir assurer tous vos cours. Pour avoir plus de chance d'acquérir votre savoir, tous vos élèves vous proposent deux créneaux de 60 minutes pendant lesquels ils sont disponibles, vous ne pourrez leur donner cours que sur un seul de ces deux créneaux (si vous avez le temps).\n",
        "\n",
        "Sachant que vous ne pouvez donner cours qu'à un seul élève en même temps et que vous ne pouvez pas commencer un cours et en terminer un autre à la même minute, combien d'élèves différents pouvez-vous prendre au maximum ?\n",
        "\n",
        "Indication : vous pouvez procéder par énumération exhaustive (force brute).\n",
        "\n",
        "**Format des données**\n",
        "\n",
        "*Entrée*\n",
        "\n",
        "\n",
        "Ligne 1 : un entier N entre 3 et 8 inclus, le nombre d'étudiants.\n",
        "\n",
        "Lignes 2 à N+1 : deux entiers entre 0 et 1000 inclus, les deux débuts de créneaux (en minutes) auxquels un étudiant est disponible, chaque créneau a une durée de 60 minutes à partir des débuts indiqués.\n",
        "\n",
        "\n",
        "\n",
        "*Sortie*\n",
        "\n",
        "Le nombre maximum d'étudiant différents qu'il est possible de prendre.\n",
        "\n",
        "*Exemple*\n",
        "\n",
        "Pour l'entrée suivante :\n",
        "\n",
        "\n",
        "5\n",
        "\n",
        "205 300\n",
        "\n",
        "210 370\n",
        "\n",
        "290 380\n",
        "\n",
        "120 305\n",
        "\n",
        "390 110\n",
        "\n",
        "La réponse attendue est 4. Vous pourrez par exemple prendre les 4 étudiants suivants :\n",
        "- L'étudiant 1 sur son premier créneau de 205 à 265\n",
        "- L'étudiant 2 sur son second créneau de 370 à 430\n",
        "- L'étudiant 3 sur son premier créneau de 290 à 350\n",
        "- L'étudiant 4 sur son premier créneau de 120 à 180\n",
        "Il est possible de prendre d'autres combinaisons de 4 étudiants sur différents créneaux, mais il n'en existe aucune à 5 étudiants."
      ]
    },
    {
      "cell_type": "markdown",
      "metadata": {
        "id": "LaFrvPhE-Ezb"
      },
      "source": [
        "## **Données**\n",
        "\n",
        "*Accès aux données*"
      ]
    },
    {
      "cell_type": "code",
      "metadata": {
        "colab": {
          "base_uri": "https://localhost:8080/"
        },
        "id": "2HlpCu_r-aqr",
        "outputId": "dd8b1858-bedc-4b4c-e09f-7ee26d2367b0"
      },
      "source": [
        "import csv\n",
        "filedir = ('https://cours.unilasalle.fr/courses/SG4007/document/Exercices_Python/Professeur_populaire/')\n",
        "\n",
        "import ssl\n",
        "ssl._create_default_https_context = ssl._create_unverified_context\n",
        "\n",
        "import urllib.request\n",
        "\n",
        "for x in range(1,6):\n",
        "  f = urllib.request.urlopen(str(filedir+\"input\"+str(x)+\".txt\"))\n",
        "\n",
        "  data=[]\n",
        "  for i in f:\n",
        "      line=i.decode('utf-8').strip()\n",
        "      data.append(line)\n",
        "  print('Entrée',x,':',data)\n",
        "\n",
        "  f = urllib.request.urlopen(str(filedir+\"output\"+str(x)+\".txt\"))\n",
        "  for i in f:\n",
        "      line=i.decode('utf-8').strip()\n",
        "  print('Sortie',x,':',line,'\\n')"
      ],
      "execution_count": 1,
      "outputs": [
        {
          "output_type": "stream",
          "text": [
            "Entrée 1 : ['3', '60 400', '120 340', '120 400']\n",
            "Sortie 1 : 2 \n",
            "\n",
            "Entrée 2 : ['5', '205 300', '210 370', '290 380', '120 305', '390 110']\n",
            "Sortie 2 : 4 \n",
            "\n",
            "Entrée 3 : ['6', '69 150', '65 166', '67 13', '199 116', '33 8', '27 82']\n",
            "Sortie 3 : 3 \n",
            "\n",
            "Entrée 4 : ['6', '347 94', '256 500', '335 480', '479 57', '135 300', '247 388']\n",
            "Sortie 4 : 5 \n",
            "\n",
            "Entrée 5 : ['8', '799 978', '180 600', '907 852', '967 576', '697 37', '682 391', '364 214', '220 833']\n",
            "Sortie 5 : 8 \n",
            "\n"
          ],
          "name": "stdout"
        }
      ]
    }
  ]
}