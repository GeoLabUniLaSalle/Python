{
  "nbformat": 4,
  "nbformat_minor": 0,
  "metadata": {
    "colab": {
      "provenance": [],
      "authorship_tag": "ABX9TyNrYZGya3SjfMIcVz3i/bAd",
      "include_colab_link": true
    },
    "kernelspec": {
      "name": "python3",
      "display_name": "Python 3"
    },
    "language_info": {
      "name": "python"
    }
  },
  "cells": [
    {
      "cell_type": "markdown",
      "metadata": {
        "id": "view-in-github",
        "colab_type": "text"
      },
      "source": [
        "<a href=\"https://colab.research.google.com/github/GeoLabUniLaSalle/Python/blob/main/Tests.ipynb\" target=\"_parent\"><img src=\"https://colab.research.google.com/assets/colab-badge.svg\" alt=\"Open In Colab\"/></a>"
      ]
    },
    {
      "cell_type": "markdown",
      "source": [
        "**Tests**\n",
        "\n",
        "Ce Notebook vous permettra de vous exercer sur la manipulation des tests.\n",
        "\n",
        "*Exercice 1*\n",
        "\n",
        "Ecrivez un programme qui affiche 'xp validée' si la variable note vaut 10 ou plus, et 'xp non validée' sinon.\n",
        "\n",
        "\n"
      ],
      "metadata": {
        "id": "y2SlWoJvXXg1"
      }
    },
    {
      "cell_type": "code",
      "execution_count": 5,
      "metadata": {
        "id": "krIEU5o7XU6H"
      },
      "outputs": [],
      "source": [
        "note = 15 # pour testez votre programme, vous pouvez modifier la valeur affecter à note sur cette ligne\n",
        "\n",
        "# votre code"
      ]
    },
    {
      "cell_type": "code",
      "source": [
        "# @title\n",
        "if note >= 10:\n",
        "  print(\"xp validée\")\n",
        "else:\n",
        "  print(\"xp non validée\")"
      ],
      "metadata": {
        "colab": {
          "base_uri": "https://localhost:8080/"
        },
        "cellView": "form",
        "id": "vizWael4aB0H",
        "outputId": "9b7eb265-dc7e-48e7-f210-70bbd6ddb819"
      },
      "execution_count": 6,
      "outputs": [
        {
          "output_type": "stream",
          "name": "stdout",
          "text": [
            "xp validée\n"
          ]
        }
      ]
    }
  ]
}