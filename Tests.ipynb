{
  "nbformat": 4,
  "nbformat_minor": 0,
  "metadata": {
    "colab": {
      "provenance": [],
      "authorship_tag": "ABX9TyMRbGNoAC+SlV/1jL3Dc1aw",
      "include_colab_link": true
    },
    "kernelspec": {
      "name": "python3",
      "display_name": "Python 3"
    },
    "language_info": {
      "name": "python"
    }
  },
  "cells": [
    {
      "cell_type": "markdown",
      "metadata": {
        "id": "view-in-github",
        "colab_type": "text"
      },
      "source": [
        "<a href=\"https://colab.research.google.com/github/GeoLabUniLaSalle/Python/blob/main/Tests.ipynb\" target=\"_parent\"><img src=\"https://colab.research.google.com/assets/colab-badge.svg\" alt=\"Open In Colab\"/></a>"
      ]
    },
    {
      "cell_type": "markdown",
      "source": [
        "**Tests**\n",
        "\n",
        "Ce Notebook vous permettra de vous exercer sur la manipulation des tests.\n",
        "\n",
        "*Exercice 1*\n",
        "\n",
        "Ecrivez un programme qui affiche 'xp validée' si la variable note vaut 10 ou plus, et 'xp non validée' sinon.\n",
        "\n",
        "\n"
      ],
      "metadata": {
        "id": "y2SlWoJvXXg1"
      }
    },
    {
      "cell_type": "code",
      "execution_count": 5,
      "metadata": {
        "id": "krIEU5o7XU6H"
      },
      "outputs": [],
      "source": [
        "note = 15 # pour testez votre programme, vous pouvez modifier la valeur affecter à note sur cette ligne\n",
        "\n",
        "# votre code"
      ]
    },
    {
      "cell_type": "markdown",
      "source": [
        "N'affichez le code de la correction que si vous ne parvenez pas à résoudre l'exercice par vous même."
      ],
      "metadata": {
        "id": "-XjLqdJpboLr"
      }
    },
    {
      "cell_type": "code",
      "source": [
        "# @title\n",
        "if note >= 10:\n",
        "  print(\"xp validée\")\n",
        "else:\n",
        "  print(\"xp non validée\")"
      ],
      "metadata": {
        "colab": {
          "base_uri": "https://localhost:8080/"
        },
        "cellView": "form",
        "id": "vizWael4aB0H",
        "outputId": "9b7eb265-dc7e-48e7-f210-70bbd6ddb819"
      },
      "execution_count": 6,
      "outputs": [
        {
          "output_type": "stream",
          "name": "stdout",
          "text": [
            "xp validée\n"
          ]
        }
      ]
    },
    {
      "cell_type": "markdown",
      "source": [
        "Ré-écrivez ce programme sous la forme d'une fonction prenant un entier en paramètre, et retournant le texte à afficher."
      ],
      "metadata": {
        "id": "dWSY4QN7c3e7"
      }
    },
    {
      "cell_type": "code",
      "source": [
        "def evaluation(x):\n",
        "  # votre code\n",
        "  return 'votre réponse'\n",
        "\n",
        "note = 15 # pour testez votre programme, vous pouvez modifier la valeur affecter à note sur cette ligne\n",
        "print(evaluation(note))"
      ],
      "metadata": {
        "id": "wlEuNmDSc_AR"
      },
      "execution_count": null,
      "outputs": []
    },
    {
      "cell_type": "markdown",
      "source": [
        "N'affichez le code de la correction que si vous ne parvenez pas à résoudre l'exercice par vous même."
      ],
      "metadata": {
        "id": "fcYXApgKdN1n"
      }
    },
    {
      "cell_type": "code",
      "source": [
        "# @title\n",
        "def evaluation(x):\n",
        "  if x >= 10:\n",
        "    rep = \"xp validée\"\n",
        "  else:\n",
        "    rep = \"xp non validée\"\n",
        "  return rep\n",
        "\n",
        "note = 15\n",
        "print(evaluation(note))"
      ],
      "metadata": {
        "colab": {
          "base_uri": "https://localhost:8080/"
        },
        "collapsed": true,
        "id": "LfjjoisQdPUu",
        "outputId": "cc649e5a-2a48-47ed-8477-2504e8981e7f"
      },
      "execution_count": 13,
      "outputs": [
        {
          "output_type": "stream",
          "name": "stdout",
          "text": [
            "xp validée\n"
          ]
        }
      ]
    },
    {
      "cell_type": "markdown",
      "source": [
        "*Exercice 2*\n",
        "\n",
        "Ecrivez un programme qui affiche 'xp validée' si la variable note vaut 10 ou plus, 'xp validée en argent' si note vaut 20, et 'xp non validée' note est inférieure à 10.\n",
        "\n",
        "\n"
      ],
      "metadata": {
        "id": "9FvGd68MbisA"
      }
    },
    {
      "cell_type": "code",
      "source": [
        "note = 15 # pour testez votre programme, vous pouvez modifier la valeur affecter à note sur cette ligne\n",
        "\n",
        "# votre code"
      ],
      "metadata": {
        "id": "XgFd1Eqbb4Sc"
      },
      "execution_count": null,
      "outputs": []
    },
    {
      "cell_type": "markdown",
      "source": [
        "N'affichez le code de la correction que si vous ne parvenez pas à résoudre l'exercice par vous même."
      ],
      "metadata": {
        "id": "pxKutmA1b5Oz"
      }
    },
    {
      "cell_type": "code",
      "source": [
        "# @title\n",
        "if note == 20:\n",
        "  print(\"xp validée en argent\")\n",
        "elif note >= 10:\n",
        "  print(\"xp validée\")\n",
        "else:\n",
        "  print(\"xp non validée\")"
      ],
      "metadata": {
        "colab": {
          "base_uri": "https://localhost:8080/"
        },
        "cellView": "form",
        "id": "QSxMpQT_b6dG",
        "outputId": "08fcdc76-7b15-47ec-ba65-3f5a2205462e"
      },
      "execution_count": 8,
      "outputs": [
        {
          "output_type": "stream",
          "name": "stdout",
          "text": [
            "xp validée\n"
          ]
        }
      ]
    },
    {
      "cell_type": "markdown",
      "source": [
        "Ré-écrivez ce programme sous la forme d'une fonction prenant un entier en paramètre, et retournant le texte à afficher."
      ],
      "metadata": {
        "id": "RGQ66Rz5de5Z"
      }
    },
    {
      "cell_type": "code",
      "source": [
        "def evaluation(x):\n",
        "  # votre code\n",
        "  return 'votre réponse'\n",
        "\n",
        "note = 15 # pour testez votre programme, vous pouvez modifier la valeur affecter à note sur cette ligne\n",
        "print(evaluation(note))"
      ],
      "metadata": {
        "id": "OBE2MHYJdfdA"
      },
      "execution_count": null,
      "outputs": []
    },
    {
      "cell_type": "markdown",
      "source": [
        "N'affichez le code de la correction que si vous ne parvenez pas à résoudre l'exercice par vous même."
      ],
      "metadata": {
        "id": "qwWqXTHrdjQi"
      }
    },
    {
      "cell_type": "code",
      "source": [
        "# @title\n",
        "def evaluation(x):\n",
        "  if x == 20:\n",
        "    rep = \"xp validée en argent\"\n",
        "  elif x >= 10:\n",
        "    rep = \"xp validée\"\n",
        "  else:\n",
        "    rep = \"xp non validée\"\n",
        "  return rep\n",
        "\n",
        "note = 15\n",
        "print(evaluation(note))"
      ],
      "metadata": {
        "colab": {
          "base_uri": "https://localhost:8080/"
        },
        "cellView": "form",
        "id": "XZHajsBJdlam",
        "outputId": "19cecf61-79bb-451a-a601-68ccf941a830"
      },
      "execution_count": 14,
      "outputs": [
        {
          "output_type": "stream",
          "name": "stdout",
          "text": [
            "xp validée\n"
          ]
        }
      ]
    },
    {
      "cell_type": "markdown",
      "source": [
        "*Exercice 3*\n",
        "\n",
        "Ecrivez un programme qui affiche 'xp validée' si la variable note vaut 10 ou plus, et si la variable prerequis vaut True, et 'xp non validée sinon'."
      ],
      "metadata": {
        "id": "kCROYuY1cMdY"
      }
    },
    {
      "cell_type": "code",
      "source": [
        "note = 15\n",
        "prerequis = True\n",
        "# pour testez votre programme, vous pouvez modifier la valeur affecter à note et prerequis sur ces lignes\n",
        "\n",
        "# votre code"
      ],
      "metadata": {
        "id": "FQ3yAUQ5cC34"
      },
      "execution_count": 11,
      "outputs": []
    },
    {
      "cell_type": "markdown",
      "source": [
        "N'affichez le code de la correction que si vous ne parvenez pas à résoudre l'exercice par vous même."
      ],
      "metadata": {
        "id": "vTjyLahkcihD"
      }
    },
    {
      "cell_type": "code",
      "source": [
        "# @title\n",
        "if note >= 10 and prerequis:\n",
        "  print(\"xp validée\")\n",
        "else:\n",
        "  print(\"xp non validée\")"
      ],
      "metadata": {
        "colab": {
          "base_uri": "https://localhost:8080/"
        },
        "cellView": "form",
        "id": "HcGRAYSocbpD",
        "outputId": "37a0f0fc-e5bb-466c-c340-10995ac0e2af"
      },
      "execution_count": 12,
      "outputs": [
        {
          "output_type": "stream",
          "name": "stdout",
          "text": [
            "xp validée\n"
          ]
        }
      ]
    },
    {
      "cell_type": "markdown",
      "source": [
        "Ré-écrivez ce programme sous la forme d'une fonction prenant un entier et un booléen en paramètre, et retournant le texte à afficher."
      ],
      "metadata": {
        "id": "WNdOoFodeB8E"
      }
    },
    {
      "cell_type": "code",
      "source": [
        "def evaluation(x,y):\n",
        "  # votre code\n",
        "  return 'votre réponse'\n",
        "\n",
        "note = 15\n",
        "prerequis = True\n",
        "# pour testez votre programme, vous pouvez modifier la valeur affecter à note et prerequis sur ces lignes\n",
        "print(evaluation(note,prerequis))"
      ],
      "metadata": {
        "colab": {
          "base_uri": "https://localhost:8080/"
        },
        "id": "KRu4qAS3eB8F",
        "outputId": "cc40b0fb-d088-4b75-bb5e-44974bf59c6f"
      },
      "execution_count": 17,
      "outputs": [
        {
          "output_type": "stream",
          "name": "stdout",
          "text": [
            "votre réponse\n"
          ]
        }
      ]
    },
    {
      "cell_type": "markdown",
      "source": [
        "N'affichez le code de la correction que si vous ne parvenez pas à résoudre l'exercice par vous même."
      ],
      "metadata": {
        "id": "01goWW8teB8G"
      }
    },
    {
      "cell_type": "code",
      "source": [
        "# @title\n",
        "def evaluation(x,y):\n",
        "  if x >= 10 and y:\n",
        "    rep = \"xp validée\"\n",
        "  else:\n",
        "    rep = \"xp non validée\"\n",
        "  return rep\n",
        "\n",
        "note = 15\n",
        "prerequis = True\n",
        "print(evaluation(note,prerequis))"
      ],
      "metadata": {
        "colab": {
          "base_uri": "https://localhost:8080/"
        },
        "cellView": "form",
        "outputId": "0fc1e29f-db46-4481-94a4-d81149bf7bdb",
        "id": "bvWCHLiceB8G"
      },
      "execution_count": 20,
      "outputs": [
        {
          "output_type": "stream",
          "name": "stdout",
          "text": [
            "xp validée\n"
          ]
        }
      ]
    }
  ]
}