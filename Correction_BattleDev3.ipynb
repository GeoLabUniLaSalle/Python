{
  "nbformat": 4,
  "nbformat_minor": 0,
  "metadata": {
    "colab": {
      "name": "Correction BattleDev3.ipynb",
      "provenance": [],
      "collapsed_sections": [],
      "authorship_tag": "ABX9TyNvaSFjyQ1hPzVAhKLk7p2K",
      "include_colab_link": true
    },
    "kernelspec": {
      "name": "python3",
      "display_name": "Python 3"
    }
  },
  "cells": [
    {
      "cell_type": "markdown",
      "metadata": {
        "id": "view-in-github",
        "colab_type": "text"
      },
      "source": [
        "<a href=\"https://colab.research.google.com/github/GeoLabUniLaSalle/Python/blob/main/Correction_BattleDev3.ipynb\" target=\"_parent\"><img src=\"https://colab.research.google.com/assets/colab-badge.svg\" alt=\"Open In Colab\"/></a>"
      ]
    },
    {
      "cell_type": "markdown",
      "metadata": {
        "id": "pGQuPEjWYJBW"
      },
      "source": [
        "# **Battle Dev !**\n",
        "\n",
        "Vous avez 1h30 pour résoudre les 3 problèmes suivants. Bon courage :)\n",
        "\n",
        "## **Exercice 1 : Une Histoire de Couleur ★☆☆**\n",
        "\n",
        "**Objectif**\n",
        "\n",
        "*Un concours d'Art spécial*\n",
        "\n",
        "Aujourd'hui se déroule l'un des événements artistiques des plus attendus : Le concours d'Art de Rouffiac. Le concours est de très grande renommée selon son créateur. Organisé par Gérard Traquenard, petit fermier du coin, il se déroule dans la salle des fêtes du village. Composé de six épreuves artistiques, chaque participant devra faire ses preuves dans chaque discipline. Avec un budget resserré par M.Didier, le maire de la ville, Gérard se retrouve bien embêté. Il craint que le matériel manque face au succès grandissant du concours (on passe de 22 personnes à 23 avec la mamie boulangère de Rouffiac). Ainsi, pour que le concours d'art se passe au mieux, il vous demande à vous, bénévole, de l'aider.\n",
        "\n",
        "*Une histoire de couleur*\n",
        "\n",
        "Nous voilà à la première épreuve : la peinture. Gérard a oublié de commander la peinture. Il a pu trouver des restes dans son cabanon de jardin, mais ce n'est pas suffisant pour les besoins du concours et des artistes. Il aurait pu changer le thème du concours en concours d'art minimaliste, mais non, parce que Gérard est ambitieux. Ainsi, il vous demandera de développer un mélangeur de couleurs, un calculateur pour prévoir à l'avance les couleurs mélangées par les artistes. Dans le but d'éviter les mélanges inutiles et donc le gaspillage de peinture, votre mission est donc de calculer la couleur moyenne issue d'un mélange de deux couleurs C1 et C2. Les couleurs sont des entiers compris entre 0 et 255. Le résultat sera toujours entier et arrondi à l'entier supérieur si nécessaire.\n",
        "\n",
        "\n",
        "**Format des données**\n",
        "\n",
        "*Entrée*\n",
        "\n",
        "Ligne 1, 2 : Sur les deux premières lignes, deux entiers C1 et C2 (0 ≤ C1,C2 ≤ 255) représentant les deux couleurs à mélanger.\n",
        "\n",
        "*Sortie*\n",
        "\n",
        "Afficher, sur une seule ligne, la valeur de la couleur obtenue, correspondant à la moyenne des couleurs en entrée, arrondie à l'entier supérieur si nécessaire."
      ]
    },
    {
      "cell_type": "markdown",
      "metadata": {
        "id": "ODGfDRPOYGwQ"
      },
      "source": [
        "## **Données**\n",
        "\n",
        "*Accès aux données*"
      ]
    },
    {
      "cell_type": "code",
      "metadata": {
        "colab": {
          "base_uri": "https://localhost:8080/"
        },
        "id": "jlu0JxHXYkaM",
        "outputId": "4af1a5db-075a-4ef4-c5ef-2224bf33c11b"
      },
      "source": [
        "import csv\n",
        "filedir = ('https://cours.unilasalle.fr/courses/SG4007/document/Exercices_Python/Une_histoire_de_couleur/')\n",
        "\n",
        "import ssl\n",
        "ssl._create_default_https_context = ssl._create_unverified_context\n",
        "\n",
        "import urllib.request\n",
        "\n",
        "for x in range(1,6):\n",
        "  f = urllib.request.urlopen(str(filedir+\"input\"+str(x)+\".txt\"))\n",
        "\n",
        "  data=[]\n",
        "  for i in f:\n",
        "      line=i.decode('utf-8').strip()\n",
        "      data.append(line)\n",
        "  print('Entrée',x,':',data)\n",
        "\n",
        "  f = urllib.request.urlopen(str(filedir+\"output\"+str(x)+\".txt\"))\n",
        "  for i in f:\n",
        "      line=i.decode('utf-8').strip()\n",
        "  print('Sortie',x,':',line,'\\n')"
      ],
      "execution_count": null,
      "outputs": [
        {
          "output_type": "stream",
          "name": "stdout",
          "text": [
            "Entrée 1 : ['24', '57']\n",
            "Sortie 1 : 41 \n",
            "\n",
            "Entrée 2 : ['87', '26']\n",
            "Sortie 2 : 57 \n",
            "\n",
            "Entrée 3 : ['208', '74']\n",
            "Sortie 3 : 141 \n",
            "\n",
            "Entrée 4 : ['212', '15']\n",
            "Sortie 4 : 114 \n",
            "\n",
            "Entrée 5 : ['29', '38']\n",
            "Sortie 5 : 34 \n",
            "\n"
          ]
        }
      ]
    },
    {
      "cell_type": "code",
      "metadata": {
        "id": "ibgG9zWLu4Vg",
        "colab": {
          "base_uri": "https://localhost:8080/"
        },
        "outputId": "3c38ddb0-34eb-47ef-8cbc-cbdfe2c1a9f2"
      },
      "source": [
        "import math as m\n",
        "\n",
        "lines = ['24', '57']\n",
        "print(m.ceil((int(lines[0])+int(lines[1]))/2))"
      ],
      "execution_count": 3,
      "outputs": [
        {
          "output_type": "stream",
          "name": "stdout",
          "text": [
            "41\n"
          ]
        }
      ]
    },
    {
      "cell_type": "markdown",
      "metadata": {
        "id": "6p6eR4lLumXa"
      },
      "source": [
        "## **Exercice 2 : Gros Tas de Bouquins ★☆☆**\n",
        "\n",
        "**Objectif**\n",
        "\n",
        "Nous voilà à la deuxième épreuve, l'épreuve de littérature. Les participants ont dû écrire un livre sur le thème de leur choix, mais dans un temps imparti. Face à la pile de livres grandissante et pour éviter un burn-out du jury (dont Gerard Traquenard), ces derniers ont décidé de s'imposer un temps de lecture limite. Le jury de cette épreuve est composé de trois membres. Chaque membre a une spécialité et ne juge que sa spécialité, et dispose d'un temps limite pour juger les livres. Il vous est donné le temps de lecture et le type pour chaque livre, vous devez indiquer si chaque jury aura le temps de lire tous les livres de sa spécialité.\n",
        "\n",
        "**Format des données**\n",
        "\n",
        "*Entrée*\n",
        "\n",
        "Ligne 1 : 3 entiers TF,TP et TA (avec 0 ≤ TF,TP,TA ≤ 10^6) les temps donnés en minutes pour chaque jury, respectivement pour la catégorie de romans Fantastique, Policier, et Autre.\n",
        "\n",
        "Ligne 2 : Un entier N (avec N ≤ 10^3) représentant le nombre de romans à lire. N lignes suivantes : Séparés d'un espace, une lettre représentant le type de roman (F pour fantastique, P pour policier, A pour autre) et un entier t représentant le temps en minutes nécessaire pour le lire.\n",
        "\n",
        "*Sortie*\n",
        "\n",
        "Une seule ligne avec \"oui\" si le jury a le temps de lire tous les livres, \"non\" sinon. Le jury a le temps de lire tous les livres si chaque membre du jury a le temps de lire tous les romans de sa spécialité."
      ]
    },
    {
      "cell_type": "code",
      "metadata": {
        "colab": {
          "base_uri": "https://localhost:8080/"
        },
        "id": "Ng3ND4XyrK6W",
        "outputId": "82a43f09-f11e-4ced-e709-1992c9df3586"
      },
      "source": [
        "import csv\n",
        "filedir = ('https://cours.unilasalle.fr/courses/SG4007/document/Exercices_Python/Gros_tas_de_bouquins/')\n",
        "\n",
        "import ssl\n",
        "ssl._create_default_https_context = ssl._create_unverified_context\n",
        "\n",
        "import urllib.request\n",
        "\n",
        "for x in range(1,5):\n",
        "  f = urllib.request.urlopen(str(filedir+\"input\"+str(x)+\".txt\"))\n",
        "\n",
        "  data=[]\n",
        "  for i in f:\n",
        "      line=i.decode('utf-8').strip()\n",
        "      data.append(line)\n",
        "  print('Entrée',x,':',data)\n",
        "\n",
        "  f = urllib.request.urlopen(str(filedir+\"output\"+str(x)+\".txt\"))\n",
        "  for i in f:\n",
        "      line=i.decode('utf-8').strip()\n",
        "  print('Sortie',x,':',line,'\\n')"
      ],
      "execution_count": null,
      "outputs": [
        {
          "output_type": "stream",
          "name": "stdout",
          "text": [
            "Entrée 1 : ['392 119 156', '6', 'A 7', 'A 36', 'A 82', 'P 52', 'P 33', 'P 28']\n",
            "Sortie 1 : oui \n",
            "\n",
            "Entrée 2 : ['221 330 262', '9', 'P 36', 'F 60', 'A 44', 'A 21', 'A 26', 'P 26', 'P 62', 'A 31', 'A 20']\n",
            "Sortie 2 : oui \n",
            "\n",
            "Entrée 3 : ['783 450 972', '5', 'A 48', 'A 125', 'P 196', 'P 28', 'P 98']\n",
            "Sortie 3 : oui \n",
            "\n",
            "Entrée 4 : ['590625 915705 444871', '574', 'F 1201', 'A 1526', 'F 1603', 'P 1051', 'A 1125', 'P 1566', 'P 88', 'F 884', 'P 444', 'F 1437', 'F 1341', 'F 1606', 'P 986', 'P 43', 'A 226', 'A 1395', 'F 1722', 'A 1462', 'F 258', 'F 129', 'F 581', 'A 22', 'F 1584', 'A 808', 'A 1581', 'F 660', 'P 516', 'P 55', 'P 485', 'A 939', 'A 431', 'A 564', 'F 95', 'P 259', 'F 1209', 'P 676', 'A 376', 'F 988', 'A 1122', 'A 313', 'P 1668', 'P 624', 'P 810', 'F 1601', 'P 956', 'F 1627', 'A 210', 'F 1372', 'F 610', 'A 126', 'P 176', 'P 51', 'A 529', 'A 1098', 'F 900', 'A 322', 'F 1502', 'F 163', 'P 631', 'P 1282', 'F 14', 'P 255', 'A 1428', 'P 648', 'A 1377', 'P 893', 'A 793', 'P 814', 'P 180', 'F 1682', 'A 42', 'P 1381', 'P 357', 'P 378', 'A 377', 'P 316', 'P 1742', 'P 534', 'A 806', 'P 148', 'F 1475', 'P 1272', 'A 1043', 'F 1133', 'A 1110', 'P 109', 'A 1643', 'F 1218', 'P 1034', 'A 451', 'A 295', 'A 1691', 'F 1358', 'P 121', 'A 115', 'F 1343', 'A 1394', 'P 1480', 'A 142', 'F 1014', 'F 1041', 'F 717', 'F 1537', 'F 1325', 'F 999', 'A 1039', 'P 987', 'A 667', 'P 888', 'P 1506', 'F 784', 'A 1560', 'P 1062', 'A 311', 'P 402', 'A 262', 'P 612', 'A 1035', 'P 1180', 'P 132', 'A 1090', 'F 1148', 'A 210', 'F 929', 'F 1489', 'P 959', 'F 510', 'A 1486', 'A 996', 'A 255', 'A 370', 'F 171', 'A 855', 'P 342', 'P 1571', 'F 1194', 'P 799', 'P 817', 'F 1668', 'F 819', 'A 1644', 'A 400', 'F 512', 'P 12', 'F 359', 'F 408', 'F 1225', 'F 377', 'F 1246', 'A 689', 'P 1295', 'F 1606', 'P 619', 'A 787', 'F 416', 'P 77', 'F 587', 'A 1519', 'P 811', 'F 81', 'P 568', 'P 1297', 'F 314', 'A 1579', 'A 610', 'F 1362', 'P 533', 'P 282', 'F 1387', 'P 768', 'P 1248', 'A 1453', 'F 1364', 'F 1535', 'A 1676', 'P 851', 'A 1498', 'F 1643', 'A 144', 'A 562', 'P 1413', 'F 210', 'P 981', 'P 1242', 'A 326', 'F 371', 'A 333', 'F 354', 'F 891', 'F 638', 'F 933', 'P 201', 'A 333', 'F 865', 'A 429', 'P 166', 'P 1356', 'A 470', 'A 714', 'A 1060', 'F 1102', 'F 323', 'F 1132', 'P 652', 'P 1505', 'A 764', 'A 262', 'A 930', 'P 888', 'P 1641', 'A 1126', 'P 546', 'P 1321', 'A 606', 'A 1546', 'A 1700', 'A 1196', 'P 97', 'A 788', 'F 1181', 'F 1250', 'F 98', 'P 678', 'A 858', 'A 1360', 'F 926', 'P 435', 'F 49', 'F 1000', 'P 1024', 'A 528', 'F 106', 'A 306', 'A 1446', 'P 982', 'A 1193', 'A 698', 'A 1345', 'F 551', 'P 1062', 'F 562', 'P 92', 'A 17', 'P 562', 'F 882', 'P 931', 'A 590', 'F 1252', 'F 426', 'F 1464', 'P 1210', 'A 232', 'A 969', 'P 902', 'A 1358', 'A 1401', 'A 970', 'A 746', 'F 1478', 'F 1379', 'A 1094', 'A 1283', 'P 1121', 'A 887', 'P 1695', 'P 1440', 'P 186', 'A 432', 'P 688', 'F 532', 'F 1690', 'A 482', 'F 378', 'A 804', 'P 1347', 'A 1363', 'P 712', 'P 1506', 'P 1422', 'A 43', 'F 405', 'P 462', 'A 449', 'F 209', 'A 568', 'P 1686', 'F 791', 'P 743', 'A 1413', 'F 1265', 'P 57', 'F 1254', 'P 1410', 'F 1480', 'F 1160', 'F 1306', 'F 292', 'A 1457', 'F 1597', 'F 1288', 'F 144', 'P 1625', 'P 1447', 'F 1252', 'F 1346', 'P 769', 'F 1456', 'A 1256', 'P 616', 'F 1534', 'F 1495', 'P 442', 'P 1509', 'P 539', 'A 895', 'P 1690', 'P 1187', 'A 1317', 'A 285', 'A 905', 'A 623', 'A 401', 'P 432', 'A 1000', 'A 1693', 'A 1596', 'P 441', 'F 638', 'F 760', 'P 1150', 'P 670', 'P 318', 'P 525', 'F 24', 'P 1671', 'P 581', 'P 506', 'P 460', 'P 30', 'F 1202', 'P 725', 'P 1263', 'F 683', 'F 478', 'F 335', 'P 1561', 'F 1168', 'P 733', 'A 1363', 'F 690', 'P 407', 'A 769', 'P 451', 'A 1617', 'P 1382', 'A 1579', 'P 689', 'A 654', 'F 1100', 'F 119', 'F 375', 'F 215', 'A 1423', 'A 1086', 'F 1504', 'P 961', 'P 209', 'A 21', 'P 51', 'P 1666', 'F 612', 'P 1428', 'P 833', 'P 1195', 'P 1577', 'P 1355', 'F 285', 'A 292', 'P 888', 'P 1573', 'A 323', 'P 800', 'F 228', 'A 354', 'A 1470', 'F 793', 'A 19', 'F 1686', 'F 1454', 'P 929', 'F 323', 'P 1302', 'F 1739', 'P 1044', 'P 1392', 'P 466', 'A 1182', 'A 435', 'P 1181', 'P 1627', 'P 1175', 'P 1458', 'F 32', 'P 898', 'F 682', 'F 1361', 'P 311', 'F 114', 'F 13', 'P 1122', 'P 261', 'A 1421', 'P 1167', 'P 344', 'P 1138', 'A 1664', 'F 1309', 'P 153', 'A 874', 'P 290', 'A 1324', 'P 44', 'A 243', 'F 352', 'F 679', 'A 963', 'F 736', 'P 1430', 'F 991', 'P 1363', 'A 605', 'P 205', 'P 1731', 'A 512', 'P 1403', 'P 506', 'F 42', 'A 765', 'P 1716', 'A 197', 'F 204', 'F 1703', 'A 70', 'P 840', 'P 55', 'P 1354', 'P 132', 'A 1244', 'A 511', 'P 1', 'P 90', 'F 1459', 'F 1071', 'P 336', 'F 792', 'A 209', 'F 1492', 'P 408', 'F 370', 'A 183', 'A 684', 'F 1571', 'A 700', 'F 1026', 'A 728', 'P 320', 'P 507', 'P 1646', 'A 759', 'F 1685', 'F 65', 'P 247', 'F 1470', 'F 548', 'A 1104', 'F 873', 'A 1459', 'F 268', 'F 1134', 'A 1395', 'A 361', 'P 351', 'P 1305', 'P 1531', 'A 1211', 'A 193', 'A 363', 'F 1637', 'F 1430', 'F 933', 'F 351', 'F 1730', 'P 1028', 'P 729', 'A 1263', 'F 936', 'F 958', 'A 522', 'P 650', 'F 659', 'F 1499', 'A 868', 'F 1206', 'F 637', 'P 1524', 'A 1414', 'A 262', 'A 168', 'A 1167', 'A 181', 'F 413', 'P 73', 'P 1381', 'P 473', 'P 637', 'A 534', 'F 420', 'A 1408', 'F 391', 'P 1388', 'F 732', 'A 1329', 'F 869', 'F 1349', 'F 960', 'A 1739', 'A 457', 'P 980', 'A 745', 'P 827', 'P 1446', 'A 1184', 'A 1689', 'F 539', 'F 701', 'F 57', 'A 839', 'P 1593', 'F 856', 'F 1461', 'A 41', 'P 1169', 'A 552', 'F 1649', 'A 13', 'P 1666', 'P 1704', 'F 1374', 'A 349', 'P 1296', 'F 759', 'F 1379', 'F 989', 'F 1446', 'F 797', 'F 602', 'F 510', 'P 350', 'F 1695', 'A 537', 'P 474', 'P 1404', 'F 1265', 'A 1152', 'P 1554', 'P 1082', 'A 1000', 'A 1000', 'F 907', 'F 140', 'A 1629', 'F 195', 'A 1192', 'F 1562']\n",
            "Sortie 4 : oui \n",
            "\n"
          ]
        }
      ]
    },
    {
      "cell_type": "code",
      "metadata": {
        "id": "LHfsjUasvHPH",
        "colab": {
          "base_uri": "https://localhost:8080/"
        },
        "outputId": "a52ff141-3faf-49ef-86ca-9fdb821b5da3"
      },
      "source": [
        "lines = ['392 119 156', '6', 'A 7', 'A 36', 'A 82', 'P 52', 'P 33', 'P 28']\n",
        "\n",
        "TF, TP, TA = list(map(int,lines[0].split()))\n",
        "for b in lines[2:]:\n",
        "  genre, pages = b.split()\n",
        "  if genre=='F':\n",
        "    TF-=int(pages)\n",
        "  elif genre=='P':\n",
        "    TP-=int(pages)\n",
        "  else:\n",
        "    TA-=int(pages)\n",
        "if(TF>0 and TP>0 and TA>0):\n",
        "  print('oui')\n",
        "else:\n",
        "  print('non')"
      ],
      "execution_count": 12,
      "outputs": [
        {
          "output_type": "stream",
          "name": "stdout",
          "text": [
            "non\n"
          ]
        }
      ]
    },
    {
      "cell_type": "markdown",
      "metadata": {
        "id": "AxHjx5XjvMx4"
      },
      "source": [
        "## **Exercice 3 : Oh la belle prise ★★☆**\n",
        "\n",
        "**Objectif**\n",
        "\n",
        "Après avoir fini de ranger tous les livres, l'épreuve de photographie peut enfin commencer ! Cette fois, Gerard Traquenard a demandé au grand Marcel Fauto, pécheur du village de Rouffiac mais surtout photographe en herbe, d'organiser l'épreuve. Marcel a voulu aller à l'essentiel, les règles sont donc plutôt simples : les différents candidats vont devoir prendre une photo du paysage, et la meilleure photo gagnera l'épreuve. Hélas avec des endroits magnifiques comme les eaux cristallines de l'Espinet ou encore la forêt de Bonnal, les paysages du Cantal sont bien trop beaux, et les photographes n'arrivent pas à trouver le cliché parfait ! Le but pour gagner est, à partir d'un paysage donné, de trouver la (ou les) photos ayant le plus grand nombre de points d'intérêt. Les photos prises sont toutes au format carré de 3 par 3.\n",
        "\n",
        "**Format des données**\n",
        "\n",
        "*Entrée*\n",
        "\n",
        "Ligne 1 : Deux entiers H et L (avec 3 ≤ H,L ≤ 100), correspondant respectivement à la hauteur et à la largeur du paysage.\n",
        "\n",
        "Lignes 2 à H+1 : Une chaîne de L caractères composée de \"-\" et de \"X\". Un \"X\" représente un point d'intérêt, un \"-\" un point sans intérêt.\n",
        "\n",
        "*Sortie*\n",
        "\n",
        "Deux entiers a et b correspondant aux coordonnées du coin haut gauche d'une photo de dimension 3 points par 3, contenant le plus de points d'intérêt possible. Si plusieurs photos ont le nombre maximum de points d'intérêt, vous pouvez renvoyer n'importe quelle photo maximisant le score.\n",
        "\n",
        "*Remarques :*\n",
        "\n",
        "1 ≤ a ≤ H-2 et 1 ≤ b ≤ L-2\n",
        "Le point haut gauche du paysage est aux coordonnées (1, 1)\n",
        "\n",
        "**Exemples**\n",
        "\n",
        "*Exemple 1*\n",
        "\n",
        "Pour l'entrée :\n",
        "3 10\n",
        "----X--X-X\n",
        "---X----X-\n",
        "X------X-X\n",
        "\n",
        "Dans cet exemple, il est possible de prendre une photo avec 5 points d'intérêt :\n",
        "\n",
        "![image.png](data:image/png;base64,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)\n",
        "\n",
        "On prend le coin haut gauche comme coordonnées pour la photo, donc la sortie attendue est :\n",
        "\n",
        "1 8\n",
        "\n",
        "*Exemple 2*\n",
        "\n",
        "Pour l'entrée :\n",
        "4 7\n",
        "X------\n",
        "-X---X-\n",
        "X---X--\n",
        "------X\n",
        "\n",
        "Dans cet exemple, il y a deux photos possibles avec 3 points d'intérêt ((1, 1) et (2, 5)) :\n",
        "\n",
        "![image.png](data:image/png;base64,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)\n",
        "\n",
        "On peut renvoyer n'importe laquelle, par exemple :\n",
        "\n",
        "1 1"
      ]
    },
    {
      "cell_type": "code",
      "metadata": {
        "colab": {
          "base_uri": "https://localhost:8080/"
        },
        "id": "Z9dHS08ivKWc",
        "outputId": "bfd9f310-faf1-4151-a84b-11164dc08784"
      },
      "source": [
        "import csv\n",
        "filedir = ('https://cours.unilasalle.fr/courses/SG4007/document/Exercices_Python/Oh_la_belle_prise/')\n",
        "\n",
        "import ssl\n",
        "ssl._create_default_https_context = ssl._create_unverified_context\n",
        "\n",
        "import urllib.request\n",
        "\n",
        "for x in range(1,7):\n",
        "  f = urllib.request.urlopen(str(filedir+\"input\"+str(x)+\".txt\"))\n",
        "\n",
        "  data=[]\n",
        "  for i in f:\n",
        "      line=i.decode('utf-8').strip()\n",
        "      data.append(line)\n",
        "  print('Entrée',x,':',data)\n",
        "\n",
        "  f = urllib.request.urlopen(str(filedir+\"output\"+str(x)+\".txt\"))\n",
        "  for i in f:\n",
        "      line=i.decode('utf-8').strip()\n",
        "  print('Sortie',x,':',line,'\\n')"
      ],
      "execution_count": null,
      "outputs": [
        {
          "output_type": "stream",
          "name": "stdout",
          "text": [
            "Entrée 1 : ['5 9', '-XX-XX---', '--X-XXX--', 'X-X---X-X', '---X--XXX', 'X---X-XX-']\n",
            "Sortie 1 : 3 7 \n",
            "\n",
            "Entrée 2 : ['3 6', '--XX-X', '--XXX-', 'XX---X']\n",
            "Sortie 2 : 1 2 \n",
            "\n",
            "Entrée 3 : ['52 69', '-----------------------X-----------X-----------X-----X-X----------X--', 'X------X-----X----------X-------------------X----X-------------------', '-------------------------XX------X------X--X-----------X-------------', '----XX--------X---------------X-----------------------X----------X---', 'X---X---X--X-----------------X--------------X------------------------', '----------X-X---X-------------------X--------X----------------X------', '-X----X-------X------------------X----X-------X----------------------', '---------------------X--------X-X----X---------X-----X---------------', '---X-X-X---------X-X------------------------------------------------X', '-X-X-----------X-------------------------------X--X---X--------------', '------------------------------------X-------X---X-----X-X---X--------', '-------X------------------X----X--X-----------X-----X----------------', '-----------------X----------------------------XXX---------X---X------', '------------X-----X-----------------------------X-X--------------X-X-', '---------X--X-----X------------------------------------------X-XX----', 'XX-X-------------------------------X-----X------------------------X--', '---------X-----------------X----X-----X--------X------X--------------', '------------X----------X--------X-------X----------------X--X--------', '-----------------------------------X----------X------X-X-----X-----X-', '---X--------------X--X--------------XX-----------------------------X-', '---X--------------------X---------X--X-----X-----------------------X-', 'X---------------X----------X-------X------------X------------X-------', '--X---X----------X------------X-----------------------X----------X---', '--XX-----X------------------X----------X-------------------------X---', '---X-----------X------X--------------------X-X------------X----------', '-XX---X----X----------X---------------------------X------------------', '--X----------------------------------X---X--X--X--X------------------', '-------X----------X--------------X----X---------------X----------X---', '--------------------------X--------------X------X---X----X----------X', '-----------------------------XX------X--X---X--------X---------------', '---------X------------------X-------X-----X------X-----------X-------', '----X-------------X--------------------X-X---X----X------------------', '---------------------------X-----X----------X--------------XX---X----', '----X-----X----X----------X-------------------------X----------X-----', '-----------X-----X-----------------------------------------X--X--X--X', '------X---------------------X--X------X------X----------------X------', '-----X-------------------------------------------XX-----X----X------X', '-X--------X------------X-------X-------------------------X-----X-----', '--------X---------X-X-----------------------------X---X----X---------', '----------------------------------------X--XXX---------X-X-----------', '----------X---X---X----------X----------------------X---X------------', '---X------------------------------------X---X----X---------X-----X---', '---X-------------------------X---------X--X----------------X--X------', '----X------------------X------X------X------------------X-X----------', '--------X-----------------X------------X-------X--X------------X-----', '---X------------X--------X---------------X-------------------XX------', 'X---------------X---------------------------X-----------XX----------X', 'X--------------------------------------X---X---X-------X-------X-----', '----X--------X----------------------X--------X--------X-------X------', '-----X-------------------X------------------------------X--XXX-------', '-------------------X---X-X-------X--------------------X-------------X', '-----X---------------------X------------X---------X-------------XX---']\n",
            "Sortie 3 : 11 47 \n",
            "\n",
            "Entrée 4 : ['27 41', 'XXXXXXXXXXXXXXXXXXXXXXXXXXXXXXXXXXXXXXXXX', 'XXXXXXXXXXXXXXXXXXXXXXXXXXXXXXXXXXXXXXXXX', 'XXXXXXXXXXXXXXXXXXXXXXXXXXXXXXXXXXXXXXXXX', 'XXXXXXXXXXXXXXXXXXXXXXXXXXXXXXXXXXXXXXXXX', 'XXXXXXXXXXXXXXXXXXXXXXXXXXXXXXXXXXXXXXXXX', 'XXXXXXXXXXXXXXXXXXXXXXXXXXXXXXXXXXXXXXXXX', 'XXXXXXXXXXXXXXXXXXXXXXXXXXXXXXXXXXXXXXXXX', 'XXXXXXXXXXXXXXXXXXXXXXXXXXXXXXXXXXXXXXXXX', 'XXXXXXXXXXXXXXXXXXXXXXXXXXXXXXXXXXXXXXXXX', 'XXXXXXXXXXXXXXXXXXXXXXXXXXXXXXXXXXXXXXXXX', 'XXXXXXXXXXXXXXXXXXXXXXXXXXXXXXXXXXXXXXXXX', 'XXXXXXXXXXXXXXXXXXXXXXXXXXXXXXXXXXXXXXXXX', 'XXXXXXXXXXXXXXXXXXXXXXXXXXXXXXXXXXXXXXXXX', 'XXXXXXXXXXXXXXXXXXXXXXXXXXXXXXXXXXXXXXXXX', 'XXXXXXXXXXXXXXXXXXXXXXXXXXXXXXXXXXXXXXXXX', 'XXXXXXXXXXXXXXXXXXXXXXXXXXXXXXXXXXXXXXXXX', 'XXXXXXXXXXXXXXXXXXXXXXXXXXXXXXXXXXXXXXXXX', 'XXXXXXXXXXXXXXXXXXXXXXXXXXXXXXXXXXXXXXXXX', 'XXXXXXXXXXXXXXXXXXXXXXXXXXXXXXXXXXXXXXXXX', 'XXXXXXXXXXXXXXXXXXXXXXXXXXXXXXXXXXXXXXXXX', 'XXXXXXXXXXXXXXXXXXXXXXXXXXXXXXXXXXXXXXXXX', 'XXXXXXXXXXXXXXXXXXXXXXXXXXXXXXXXXXXXXXXXX', 'XXXXXXXXXXXXXXXXXXXXXXXXXXXXXXXXXXXXXXXXX', 'XXXXXXXXXXXXXXXXXXXXXXXXXXXXXXXXXXXXXXXXX', 'XXXXXXXXXXXXXXXXXXXXXXXXXXXXXXXXXXXXXXXXX', 'XXXXXXXXXXXXXXXXXXXXXXXXXXXXXXXXXXXXXXXXX', 'XXXXXXXXXXXXXXXXXXXXXXXXXXXXXXXXXXXXXXXXX']\n",
            "Sortie 4 : 1 1 \n",
            "\n",
            "Entrée 5 : ['10 92', '--------------------------------------------------------------------------------------------', '--------------------------------------------------------------------------------------------', '--------------------------------------------------------------------------------------------', '--------------------------------------------------------------------------------------------', '--------------------------------------------------------------------------------------------', '--------------------------------------------------------------------------------------------', '--------------------------------------------------------------------------------------------', '--------------------------------------------------------------------------------------------', '--------------------------------------------------------------------------------------------', '--------------------------------------------------------------------------------------------']\n",
            "Sortie 5 : 1 1 \n",
            "\n",
            "Entrée 6 : ['5 5', '-----', '-----', '--XXX', '--XXX', '--XXX']\n",
            "Sortie 6 : 3 3 \n",
            "\n"
          ]
        }
      ]
    },
    {
      "cell_type": "code",
      "metadata": {
        "id": "4You-yNQvrva",
        "colab": {
          "base_uri": "https://localhost:8080/"
        },
        "outputId": "bb072feb-e4f1-48cd-d390-972d21f4a378"
      },
      "source": [
        "lines = ['5 9', '-XX-XX---', '--X-XXX--', 'X-X---X-X', '---X--XXX', 'X---X-XX-']\n",
        "\n",
        "paysage=[]\n",
        "for l in lines[1:]:\n",
        "  paysage.append(list(l))\n",
        "\n",
        "L, C = list(map(int,lines[0].split()))\n",
        "max=0\n",
        "for i in range(L-2):\n",
        "  for j in range(C-2):\n",
        "    cpt=0\n",
        "    if paysage[i][j]=='X':\n",
        "      cpt+=1\n",
        "    if paysage[i][j+1]=='X':\n",
        "      cpt+=1\n",
        "    if paysage[i][j+2]=='X':\n",
        "      cpt+=1\n",
        "    if paysage[i+1][j]=='X':\n",
        "      cpt+=1\n",
        "    if paysage[i+1][j+1]=='X':\n",
        "      cpt+=1\n",
        "    if paysage[i+1][j+2]=='X':\n",
        "      cpt+=1\n",
        "    if paysage[i+2][j]=='X':\n",
        "      cpt+=1\n",
        "    if paysage[i+2][j+1]=='X':\n",
        "      cpt+=1\n",
        "    if paysage[i+2][j+2]=='X':\n",
        "      cpt+=1\n",
        "    if cpt>max:\n",
        "      max=cpt\n",
        "      a,b=i,j\n",
        "print(a+1,b+1)"
      ],
      "execution_count": 41,
      "outputs": [
        {
          "output_type": "stream",
          "name": "stdout",
          "text": [
            "3 7\n"
          ]
        }
      ]
    }
  ]
}