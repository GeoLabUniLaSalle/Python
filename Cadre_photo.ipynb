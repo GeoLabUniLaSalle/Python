{
  "nbformat": 4,
  "nbformat_minor": 0,
  "metadata": {
    "colab": {
      "name": "Cadre photo.ipynb",
      "provenance": [],
      "collapsed_sections": [],
      "authorship_tag": "ABX9TyNeaOHo5VRVUAYNRU17HlBr",
      "include_colab_link": true
    },
    "kernelspec": {
      "name": "python3",
      "display_name": "Python 3"
    }
  },
  "cells": [
    {
      "cell_type": "markdown",
      "metadata": {
        "id": "view-in-github",
        "colab_type": "text"
      },
      "source": [
        "<a href=\"https://colab.research.google.com/github/GeoLabUniLaSalle/Python/blob/main/Cadre_photo.ipynb\" target=\"_parent\"><img src=\"https://colab.research.google.com/assets/colab-badge.svg\" alt=\"Open In Colab\"/></a>"
      ]
    },
    {
      "cell_type": "markdown",
      "metadata": {
        "id": "R8kQ2CJh9aDY"
      },
      "source": [
        "## **Cadre photo ★☆☆**\n",
        "\n",
        "\n",
        "\n",
        "\n",
        "*Exercice disponible sur la plateforme TOSA : Battle Dev Hello Works - Novembre 2019 : https://www.isograd.com/FR/solutionconcours.php*\n",
        "\n",
        "\n",
        "\n",
        "**Enoncé**\n",
        "\n",
        "\n",
        "Pour les 80 ans de votre grand-mère, vous êtes chargé de préparer le cadeau des invités : un cadre carré en bois pour y coller une photo de la star de la soirée.\n",
        "\n",
        "Votre budget étant assez serré, vous décidez de fabriquer les cadres dans votre atelier. Et tant qu’à faire, si vous vous en chargez vous -même, autant utiliser de la récup. Vous avez un carton plein de fines planches de bois de même épaisseur et de même largeur mais de longueurs différentes. Votre grand-mère ne vous en voudra pas si les cadres ne sont pas tous de la même taille, par-contre elle insiste pour qu’ils soient carrés.\n",
        "\n",
        "Vous décidez alors de prendre au hasard 4 planches dans le carton et de les découper, si besoin, de manière à avoir un cadre carré le plus grand possible.\n",
        "\n",
        "À noter que lorsque vous découpez une planche, vous gardez la partie qui vous intéresse et vous jetez la seconde partie dans le carton, vous ne pouvez plus l’utiliser pour ce cadre.\n",
        "\n",
        "L’objectif est de déterminer combien de centimètres de bois vous aurez jeté dans le carton au total si vous construisez le cadre carré le plus grand possible.\n",
        "\n",
        "\n",
        "\n",
        "\n",
        "**Format des données**\n",
        "\n",
        "*Entrée*\n",
        "\n",
        "Lignes 1 à 4 : un entier compris entre 1 et 1 000 correspondant à la longueur d'une planche en bois en centimètres.\n",
        "\n",
        "\n",
        "*Sortie*\n",
        "\n",
        "Un entier correspondant au nombre de centimètres de bois que vous jetez dans le carton si vous réalisez le plus grand cadre carré possible."
      ]
    },
    {
      "cell_type": "markdown",
      "metadata": {
        "id": "LaFrvPhE-Ezb"
      },
      "source": [
        "## **Données**\n",
        "\n",
        "*Accès aux données*"
      ]
    },
    {
      "cell_type": "code",
      "metadata": {
        "colab": {
          "base_uri": "https://localhost:8080/"
        },
        "id": "2HlpCu_r-aqr",
        "outputId": "68e0df0c-e3af-4c9f-c916-32e6700dda07"
      },
      "source": [
        "import csv\n",
        "filedir = ('https://cours.unilasalle.fr/courses/SG4007/document/Exercices_Python/Cadre_photo/')\n",
        "\n",
        "import ssl\n",
        "ssl._create_default_https_context = ssl._create_unverified_context\n",
        "\n",
        "import urllib.request\n",
        "\n",
        "for x in range(1,5):\n",
        "  f = urllib.request.urlopen(str(filedir+\"input\"+str(x)+\".txt\"))\n",
        "\n",
        "  data=[]\n",
        "  for i in f:\n",
        "      line=i.decode('utf-8').strip()\n",
        "      data.append(line)\n",
        "  print('Entrée',x,':',data)\n",
        "\n",
        "  f = urllib.request.urlopen(str(filedir+\"output\"+str(x)+\".txt\"))\n",
        "  for i in f:\n",
        "      line=i.decode('utf-8').strip()\n",
        "  print('Sortie',x,':',line,'\\n')"
      ],
      "execution_count": 1,
      "outputs": [
        {
          "output_type": "stream",
          "text": [
            "Entrée 1 : ['8', '5', '3', '5']\n",
            "Sortie 1 : 9 \n",
            "\n",
            "Entrée 2 : ['3', '3', '10', '10']\n",
            "Sortie 2 : 14 \n",
            "\n",
            "Entrée 3 : ['50', '50', '50', '50']\n",
            "Sortie 3 : 0 \n",
            "\n",
            "Entrée 4 : ['1', '100', '100', '100']\n",
            "Sortie 4 : 297 \n",
            "\n"
          ],
          "name": "stdout"
        }
      ]
    }
  ]
}