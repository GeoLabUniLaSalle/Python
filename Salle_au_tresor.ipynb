{
  "nbformat": 4,
  "nbformat_minor": 0,
  "metadata": {
    "colab": {
      "name": "Salle au tresor.ipynb",
      "provenance": [],
      "collapsed_sections": [],
      "authorship_tag": "ABX9TyM9IgCnXOxo+svx6z4jQb39",
      "include_colab_link": true
    },
    "kernelspec": {
      "name": "python3",
      "display_name": "Python 3"
    }
  },
  "cells": [
    {
      "cell_type": "markdown",
      "metadata": {
        "id": "view-in-github",
        "colab_type": "text"
      },
      "source": [
        "<a href=\"https://colab.research.google.com/github/GeoLabUniLaSalle/Python/blob/main/Salle_au_tresor.ipynb\" target=\"_parent\"><img src=\"https://colab.research.google.com/assets/colab-badge.svg\" alt=\"Open In Colab\"/></a>"
      ]
    },
    {
      "cell_type": "markdown",
      "metadata": {
        "id": "R8kQ2CJh9aDY"
      },
      "source": [
        "## **Salle au trésor ★☆☆**\n",
        "\n",
        "\n",
        "\n",
        "\n",
        "*Exercice disponible sur la plateforme TOSA : Battle Dev Hello Works - Mars 2019 : https://www.isograd.com/FR/solutionconcours.php*\n",
        "\n",
        "\n",
        "\n",
        "**Enoncé**\n",
        "\n",
        "Après avoir surmonté un boss difficile de jeu vidéo, il est temps pour vous de récupérer votre récompense : vous arrivez dans une salle au trésor. Dans ce jeu, votre personnage peut ramasser deux sortes d'objets :\n",
        "- les pièces d'or, qui augmentent votre richesse d'une unité ;\n",
        "- les multiplicateurs, qui doublent la fortune dont vous disposez au moment de les ramasser. Donc plus vous êtes riche, plus vous vous enrichissez. (Toute ressemblance avec la réalité est une pure coïncidence.)\n",
        "\n",
        "\n",
        "\n",
        "\n",
        "**Objectif**\n",
        "\n",
        "La salle est représentée par une grille carrée de taille NxN, et vous commencez dans le coin en haut à gauche. L'objectif est de déterminer la séquence de mouvements qui vous permettra de maximiser votre butin.\n",
        "\n",
        "\n",
        "\n",
        "\n",
        "**Format des données**\n",
        "\n",
        "*Entrée*\n",
        "\n",
        "\n",
        "Ligne 1 : un entier N compris entre 1 et 20, représentant la taille de la grille.\n",
        "Lignes 2 à N+1 : les lignes de la carte représentées par des chaînes de N caractères. Les caractères de la ligne sont soit o (une pièce), soit * (un multiplicateur), soit . (vide).\n",
        "\n",
        "\n",
        "\n",
        "*Sortie*\n",
        "\n",
        "Une chaîne de caractères, indiquant les mouvements successifs à effectuer par votre personnage. Les caractères possibles sont les suivants :\n",
        "- ^ : déplacement d'une case vers le haut\n",
        "- v : déplacement d'une case vers le bas\n",
        "- < : déplacement d'une case vers la gauche\n",
        "- \\> : déplacement d'une case vers la droite\n",
        "- x : ramasser l'objet sur la case actuelle\n",
        "\n",
        "On demande que cette chaîne indique des mouvements légaux : le personnage ne doit pas sortir des bords de la grille, ni tenter de ramasser un objet sur une case ne contenant pas d'objet. (Après avoir été ramassé, un objet disparaît de sa case.) Il faut de plus qu'elle atteigne le score le plus grand possible.\n",
        "\n",
        "*Exemple*\n",
        "\n",
        "4\n",
        "\n",
        "....\n",
        "\n",
        "o.*o\n",
        "\n",
        "....\n",
        "\n",
        "....\n",
        "\n",
        "Une sortie acceptée est vx>>>x<x :\n",
        "- on descend d'une case (v) sur la pièce la plus à gauche, puis on la ramasse (x) ;\n",
        "- on se déplace de 3 cases vers la droite, pour atteindre la pièce de droite (en passant au-dessus du *, qu'on n'active pas encore);\n",
        "- on ramasse cette seconde pièce, puis on se déplace vers la gauche sur le multiplicateur, qu'on ramasse à son tour.\n",
        "\n",
        "Ainsi on obtient un total de 4 pièces (soit (1+1)×2), c'est bien le mieux qu'on puisse faire. Par exemple, si on avait utilisé le multiplicateur avant de récupérer la seconde pièce, on aurait obtenu seulement 3 pièces. Il y a d'autres façons de se déplacer pour finir par avoir 4 pièces, qui sont également des solutions acceptées."
      ]
    },
    {
      "cell_type": "markdown",
      "metadata": {
        "id": "LaFrvPhE-Ezb"
      },
      "source": [
        "## **Données**\n",
        "\n",
        "*Accès aux données*"
      ]
    },
    {
      "cell_type": "code",
      "metadata": {
        "colab": {
          "base_uri": "https://localhost:8080/"
        },
        "id": "2HlpCu_r-aqr",
        "outputId": "9d672094-df44-47cf-cf6c-2bb891243dd2"
      },
      "source": [
        "import csv\n",
        "filedir = ('https://cours.unilasalle.fr/courses/SG4007/document/Exercices_Python/Salle_au_tresor/')\n",
        "\n",
        "import ssl\n",
        "ssl._create_default_https_context = ssl._create_unverified_context\n",
        "\n",
        "import urllib.request\n",
        "\n",
        "for x in range(1,4):\n",
        "  f = urllib.request.urlopen(str(filedir+\"input\"+str(x)+\".txt\"))\n",
        "\n",
        "  data=[]\n",
        "  for i in f:\n",
        "      line=i.decode('utf-8').strip()\n",
        "      data.append(line)\n",
        "  print('Entrée',x,':',data)\n",
        "\n",
        "  f = urllib.request.urlopen(str(filedir+\"output\"+str(x)+\".txt\"))\n",
        "  for i in f:\n",
        "      line=i.decode('utf-8').strip()\n",
        "  print('Sortie',x,':',line,'\\n')"
      ],
      "execution_count": 1,
      "outputs": [
        {
          "output_type": "stream",
          "text": [
            "Entrée 1 : ['4', '....', 'o.*o', '....', '....']\n",
            "Sortie 1 : vx>>>x<x \n",
            "\n",
            "Entrée 2 : ['10', '.**oo.oo**', '*.*oooo.o.', '***.......', '..o*.....o', '.oo.*o*.oo', '...o**.*.o', 'o.***..o.o', '..o.**.o*o', '*........o', '*..*.**...']\n",
            "Sortie 2 : >>>x>x>>x>xv<<<<x>x>x>x>>xvv<<<<<<x>>>>>>>xv<<<<<<<<x>x>>>x>>>x>xv<<<<<<x>>>>>>xv<<<<<<<<<x>>>>>>>x>>xv<<<<<<<x>>>>>x>>xvx^^^^^^^^<<<<<<<<x>x>>>>>>x>xv<<<<<<<<<x>>xv<<x>x>xv>xv>x>>xv<<x>x>>xv<<<<<x>x>xvx>x>>>xv<<<<<<<<xvx>>>x>>x>x \n",
            "\n",
            "Entrée 3 : ['20', '*oo*o.o*.ooo**..*o..', '.*.*....ooo..*oo*oo*', '...*.*.o*o*.oo..***o', '.*oo**..**..*o..***.', '*..o.*.*..***o*o....', 'oooo.***o.oo....o..o', 'oo.o**o.o..*****....', 'o*..*..*o..ooo*o*..*', '*.o.*..o.*o*......*.', '..o..*..o*.o...o.o*.', '....ooo.*..o..o..o*.', '..o.o.**...o.*..**..', '*......*...*....o.oo', '..o.o...o*...o*.o.*o', '..oo*.o*o*o*o*o.*..o', '...o*oo**o..*o*o.o..', '.**.*..oo.oo*o.o.*o.', 'o.***.....*o.*.o*.o.', '...*o.*..*....*o..*o', '.oo.****...oo...o**o']\n",
            "Sortie 3 : >x>x>>x>>x>>>x>x>x>>>>>>xv<<<<<<<<<x>x>x>>>>x>x>>x>xv<<<<<<<<<<<x>>x>>>x>x>>>>>>xv<<<<<<<<<<<<<<<<<x>x>>>>>>>>>>xv<<<<<<<<<<x>>>>>>>>>>x>>xv<<<<<<<<<<<<<<<x>x>x>x>>>>>x>>x>x>>>>>x>>>xv<<<<<<<<<<<<<<<<<<<x>x>>x>>>x>>xv<<<<<<<<x>>>>>>>>x>>>x>x>x>>xv<<<<<<<<<<<<<x>>>>>x>>>xv<<<<<<<<x>>>>>>x>>>x>>>>x>>xv<<<<<<<<<<<<<x>x>x>>>>>x>>>x>>>xv<<<<<<<<<<<<<<<x>>x>>>>>>>xv>>>>>x>>x>xv<<<<<<<<<<<<<<<<<x>>x>>>>x>>>>>x>>>x>>>xv<<<<<<<<<<<<<<<<<x>x>>>x>>x>>x>>x>>x>>>>>xv<<<<<<<<<<<<<<<<x>>x>x>>>x>>>>x>>x>>xv<<<<<<<<<<x>x>>x>x>>x>>x>>>xv<<<<<<<<<<<<<<<<<<x>>>>>>>>>>>x>>>>x>>>xv<<<<<<<<<<<<<<x>>>>>>>>>>>x>>>>xv<<<<<<<<<<<<<<<<<<x>x>>>>>>>>>x>x>>>>x>>>x^^^^^^^^^^^^^^^^^^^<<<<<<<<<<<<<<<<<<<x>>>x>>>>x>>>>>x>x>>>xv<<<<<<<<<<<<<<<x>>x>>>>>>>>>>x>>>x>>>xv<<<<<<<<<<<<<<<<x>>x>>>x>>x>>>>>>x>x>xv<<<<<<<<<<<<<<<<<x>>>x>x>>>x>x>>>x>>>>x>x>xv<<<<<<<<<<<<<<<<<<x>>>>>x>>x>>>x>x>x>>xv<<<<<<<<<x>x>xv<<<x>x>>>>>>x>x>x>x>xv<<<<<<<<<<<<<<x>>>x>>>x>>>>>>>x>>x>>>xv<<<<<<<<<<<<<<<<<<<x>>>>x>>>>>x>>x>>>>>>>xv<<<<<<<<<<<<<x>>>>x>>>>>>>>>xv<<<<<<<<<<x>>>>>>>>>>xv<<<<<<<<<<<<x>x>>>>>>x>>>x>xv<<<<<<<<<<<<<<<<<x>>>>>>>x>>>>xv<<x>>>>>x>>>>xv<<<<<<<<<<<<<<x>>>x>>x>>x>>x>>>xv<<<<<<<<<<<<x>>>x>x>>>>x>>xv<<<<<<<<<<<<<x>x>>x>>>>>>>>x>>>>>xv<<<<<<<<<<<<<<<x>x>x>>>>>>x>>>x>>>xv<<<<<<<<<<<<<x>>>x>>>x>>>>>x>>>>xv<<<<<<<<<<<<<<x>x>x>x>>>>>>>>>>x>x \n",
            "\n"
          ],
          "name": "stdout"
        }
      ]
    }
  ]
}