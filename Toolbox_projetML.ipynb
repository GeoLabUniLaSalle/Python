{
  "nbformat": 4,
  "nbformat_minor": 0,
  "metadata": {
    "kernelspec": {
      "display_name": "Python 3",
      "language": "python",
      "name": "python3"
    },
    "language_info": {
      "codemirror_mode": {
        "name": "ipython",
        "version": 3
      },
      "file_extension": ".py",
      "mimetype": "text/x-python",
      "name": "python",
      "nbconvert_exporter": "python",
      "pygments_lexer": "ipython3",
      "version": "3.8.3"
    },
    "colab": {
      "name": "Toolbox_projetML.ipynb",
      "provenance": [],
      "include_colab_link": true
    }
  },
  "cells": [
    {
      "cell_type": "markdown",
      "metadata": {
        "id": "view-in-github",
        "colab_type": "text"
      },
      "source": [
        "<a href=\"https://colab.research.google.com/github/GeoLabUniLaSalle/Python/blob/main/Toolbox_projetML.ipynb\" target=\"_parent\"><img src=\"https://colab.research.google.com/assets/colab-badge.svg\" alt=\"Open In Colab\"/></a>"
      ]
    },
    {
      "cell_type": "markdown",
      "metadata": {
        "id": "1svx_l_KYciP"
      },
      "source": [
        "# Toolbox projet PA numérique AE\n",
        "Cette boite à outils vous donnes accès à certaines bibliothèques python qui vous seront utiles dans la réalisation de votre projet. \n",
        "Elles sont à mettre en perspectives avec les différents cours que vous suivrez au cours de la semaine \n",
        "En cas de problème ou de question : jean-marie.vient@univ-brest.\n",
        "\n",
        "Voila un rappel des éléments attendus (avec un petit planning à titre indicatif):\n",
        "* J1 : Récupération et traitement de vos données (fusion de matrices, ajout des latitudes longitudes, traietement input Torch) et préparation de votre Présentation des données \n",
        "* J2 : Dimensionnement et architecture de votre autoEncoder et application des PCA \n",
        "* J3 : PArametrage de votre modèle AE et comparaison avec PCA\n",
        "* J4 : Finalisation des traitements et préparation de votre présentation\n",
        "\n",
        "Amusez-vous bien "
      ]
    },
    {
      "cell_type": "markdown",
      "metadata": {
        "id": "XhbInGhxYciU"
      },
      "source": [
        "## Domaines d'études \n",
        "3 ZOIsont proposées,voila leur coordonnées dans la matrice de données spim: \n",
        "* [:,1650:1778,970:1098]\n",
        "* [:,1000:1128,372:500]\n",
        "* [:,1201:1329,275:403]\n",
        "\n",
        "Ils sont situés en 3 zones différentes de votre zone d'études entre Mer du nord, Mediterranée et Atlantique\n",
        "C'est à vous de trouver leurs coordonnées excates avec les autres variables de votre fichier NetCDF\n",
        "\n",
        "Les fichiers sont stockés dans le NAS : 'Geolab/PA_Numerique/Projet ML'"
      ]
    },
    {
      "cell_type": "markdown",
      "metadata": {
        "id": "cDUQJ08sYciV"
      },
      "source": [
        "## NetCDF"
      ]
    },
    {
      "cell_type": "code",
      "metadata": {
        "id": "nlela9frYciW",
        "outputId": "b9797b2f-1610-4d4c-e13e-678b67e5f55f"
      },
      "source": [
        "import netCDF4 \n",
        "import bz2\n",
        "import numpy as np\n",
        "import matplotlib.pyplot as plt\n",
        "with bz2.open(\"mon_nom_de_fichier.nc.bz2\", \"rb\") as b:#pour décompresser un fichier bz2\n",
        "    f = netCDF4.Dataset(\"mon_nom_de_fichier\")# Pour ouvir un fichier netcdf \n",
        "f.variables #vous affiche l'ensemble des variables contenu dans le netcdf a vous d'detifier celle qui sont importantes pour votre travail"
      ],
      "execution_count": null,
      "outputs": [
        {
          "data": {
            "text/plain": [
              "{'time': <class 'netCDF4._netCDF4.Variable'>\n",
              " int32 time(time)\n",
              "     long_name: reference time of spim field\n",
              "     standard_name: time\n",
              "     axis: T\n",
              "     units: seconds since 1998-01-01 00:00:00\n",
              " unlimited dimensions: \n",
              " current shape = (1,)\n",
              " filling on, default _FillValue of -2147483647 used,\n",
              " 'lat': <class 'netCDF4._netCDF4.Variable'>\n",
              " float32 lat(lat)\n",
              "     long_name: latitude\n",
              "     standard_name: latitude\n",
              "     axis: Y\n",
              "     units: degrees_north\n",
              " unlimited dimensions: \n",
              " current shape = (2401,)\n",
              " filling on, default _FillValue of 9.969209968386869e+36 used,\n",
              " 'lon': <class 'netCDF4._netCDF4.Variable'>\n",
              " float32 lon(lon)\n",
              "     long_name: longitude\n",
              "     standard_name: longitude\n",
              "     axis: X\n",
              "     units: degrees_east\n",
              " unlimited dimensions: \n",
              " current shape = (1667,)\n",
              " filling on, default _FillValue of 9.969209968386869e+36 used,\n",
              " 'analysed_spim': <class 'netCDF4._netCDF4.Variable'>\n",
              " int16 analysed_spim(time, lat, lon)\n",
              "     long_name: analysed inorganic suspended matters\n",
              "     standard_name: spim\n",
              "     type: foundation\n",
              "     units: g m-3\n",
              "     _FillValue: -32768\n",
              "     add_offset: 0\n",
              "     scale_factor: 0.01\n",
              "     valid_min: -300\n",
              "     valid_max: 4500\n",
              "     coordinates: lon lat\n",
              " unlimited dimensions: \n",
              " current shape = (1, 2401, 1667)\n",
              " filling on,\n",
              " 'analysed_spim_anomaly': <class 'netCDF4._netCDF4.Variable'>\n",
              " int16 analysed_spim_anomaly(time, lat, lon)\n",
              "     long_name: spim anomaly\n",
              "     units: g m-3\n",
              "     scale_factor: 0.01\n",
              "     add_offset: 0\n",
              "     valid_min: -4000\n",
              "     valid_max: 4000\n",
              "     _FillValue: -32768\n",
              "     comment: spim anomaly calculated from a monthly climatology (1998-2007) (Saulquin, 2009)\n",
              "     coordinates: lon lat\n",
              " unlimited dimensions: \n",
              " current shape = (1, 2401, 1667)\n",
              " filling on,\n",
              " 'analysis_error': <class 'netCDF4._netCDF4.Variable'>\n",
              " int16 analysis_error(time, lat, lon)\n",
              "     long_name: stdev estimated error\n",
              "     units: g m-3\n",
              "     _FillValue: -32768\n",
              "     scale_factor: 0.01\n",
              "     add_offset: 0\n",
              "     valid_min: 0\n",
              "     valid_max: 10000\n",
              "     coordinates: lon lat\n",
              " unlimited dimensions: \n",
              " current shape = (1, 2401, 1667)\n",
              " filling on,\n",
              " 'mask': <class 'netCDF4._netCDF4.Variable'>\n",
              " int8 mask(time, lat, lon)\n",
              "     long_name: sea/land/cloud-nodata field composite mask\n",
              "     flag_mask: 0b 1b 2b\n",
              "     flag_meanings: sea land cloud-nodata\n",
              " unlimited dimensions: \n",
              " current shape = (1, 2401, 1667)\n",
              " filling on, default _FillValue of -127 ignored}"
            ]
          },
          "execution_count": 137,
          "metadata": {},
          "output_type": "execute_result"
        }
      ]
    },
    {
      "cell_type": "code",
      "metadata": {
        "id": "jLDOIy-yYciY",
        "outputId": "421aa3db-a1ce-4218-aa42-a46d065334c1"
      },
      "source": [
        "spim=f.variables['analysed_spim'][:]# Vous avez ici la matrice correspondant à la variable analysed_spim"
      ],
      "execution_count": null,
      "outputs": [
        {
          "data": {
            "text/plain": [
              "(1, 2401, 1667)"
            ]
          },
          "execution_count": 28,
          "metadata": {},
          "output_type": "execute_result"
        }
      ]
    },
    {
      "cell_type": "code",
      "metadata": {
        "id": "Jc7k_3DrYciY",
        "outputId": "db803b33-2193-4db8-c366-daa76f691b48"
      },
      "source": [
        "print(spim.mask)#on remarque que la donnée est masquée"
      ],
      "execution_count": null,
      "outputs": [
        {
          "name": "stdout",
          "output_type": "stream",
          "text": [
            "[[[False False False ... False False False]\n",
            "  [False False False ... False False False]\n",
            "  [False False False ... False False False]\n",
            "  ...\n",
            "  [ True  True  True ...  True  True  True]\n",
            "  [ True  True  True ...  True  True  True]\n",
            "  [ True  True  True ...  True  True  True]]]\n"
          ]
        }
      ]
    },
    {
      "cell_type": "code",
      "metadata": {
        "id": "AchYAt-yYciZ",
        "outputId": "89050a99-9b73-419a-8fff-dda658963f5e"
      },
      "source": [
        "spimsansmask=spim.data #ajouter .data pour ne récupérer que la variables sans la partie masquée \n",
        "print(spimsansmask)"
      ],
      "execution_count": null,
      "outputs": [
        {
          "name": "stdout",
          "output_type": "stream",
          "text": [
            "[[[ 4.2999998e-01  3.8999999e-01  3.8999999e-01 ...  3.5999998e-01\n",
            "    3.4999999e-01  3.5999998e-01]\n",
            "  [ 3.7000000e-01  3.4000000e-01  3.5999998e-01 ...  3.4999999e-01\n",
            "    3.4999999e-01  3.5999998e-01]\n",
            "  [ 3.8000000e-01  3.2999998e-01  3.8999999e-01 ...  3.4999999e-01\n",
            "    3.4999999e-01  3.5999998e-01]\n",
            "  ...\n",
            "  [-3.2768000e+04 -3.2768000e+04 -3.2768000e+04 ... -3.2768000e+04\n",
            "   -3.2768000e+04 -3.2768000e+04]\n",
            "  [-3.2768000e+04 -3.2768000e+04 -3.2768000e+04 ... -3.2768000e+04\n",
            "   -3.2768000e+04 -3.2768000e+04]\n",
            "  [-3.2768000e+04 -3.2768000e+04 -3.2768000e+04 ... -3.2768000e+04\n",
            "   -3.2768000e+04 -3.2768000e+04]]]\n"
          ]
        }
      ]
    },
    {
      "cell_type": "code",
      "metadata": {
        "id": "UUXUCqhmYciZ",
        "outputId": "2c291990-b02e-4b46-ad2e-3c9266fd98bb"
      },
      "source": [
        "plt.imshow(spim,origin='lower')# l'image nous donnes un erreur, celle-ci vient de nos dimensions, voir plus haut "
      ],
      "execution_count": null,
      "outputs": [
        {
          "ename": "TypeError",
          "evalue": "Invalid shape (1, 2401, 1667) for image data",
          "output_type": "error",
          "traceback": [
            "\u001b[0;31m---------------------------------------------------------------------------\u001b[0m",
            "\u001b[0;31mTypeError\u001b[0m                                 Traceback (most recent call last)",
            "\u001b[0;32m<ipython-input-36-cecec2186c6c>\u001b[0m in \u001b[0;36m<module>\u001b[0;34m\u001b[0m\n\u001b[0;32m----> 1\u001b[0;31m \u001b[0mplt\u001b[0m\u001b[0;34m.\u001b[0m\u001b[0mimshow\u001b[0m\u001b[0;34m(\u001b[0m\u001b[0mspim\u001b[0m\u001b[0;34m)\u001b[0m\u001b[0;31m# l'image nous donnes un erreur, celle-ci vient de nos dimensions, voir plus haut\u001b[0m\u001b[0;34m\u001b[0m\u001b[0;34m\u001b[0m\u001b[0m\n\u001b[0m",
            "\u001b[0;32m~/anaconda3/lib/python3.8/site-packages/matplotlib/pyplot.py\u001b[0m in \u001b[0;36mimshow\u001b[0;34m(X, cmap, norm, aspect, interpolation, alpha, vmin, vmax, origin, extent, filternorm, filterrad, resample, url, data, **kwargs)\u001b[0m\n\u001b[1;32m   2722\u001b[0m         \u001b[0mfilternorm\u001b[0m\u001b[0;34m=\u001b[0m\u001b[0;32mTrue\u001b[0m\u001b[0;34m,\u001b[0m \u001b[0mfilterrad\u001b[0m\u001b[0;34m=\u001b[0m\u001b[0;36m4.0\u001b[0m\u001b[0;34m,\u001b[0m \u001b[0mresample\u001b[0m\u001b[0;34m=\u001b[0m\u001b[0;32mNone\u001b[0m\u001b[0;34m,\u001b[0m \u001b[0murl\u001b[0m\u001b[0;34m=\u001b[0m\u001b[0;32mNone\u001b[0m\u001b[0;34m,\u001b[0m\u001b[0;34m\u001b[0m\u001b[0;34m\u001b[0m\u001b[0m\n\u001b[1;32m   2723\u001b[0m         data=None, **kwargs):\n\u001b[0;32m-> 2724\u001b[0;31m     __ret = gca().imshow(\n\u001b[0m\u001b[1;32m   2725\u001b[0m         \u001b[0mX\u001b[0m\u001b[0;34m,\u001b[0m \u001b[0mcmap\u001b[0m\u001b[0;34m=\u001b[0m\u001b[0mcmap\u001b[0m\u001b[0;34m,\u001b[0m \u001b[0mnorm\u001b[0m\u001b[0;34m=\u001b[0m\u001b[0mnorm\u001b[0m\u001b[0;34m,\u001b[0m \u001b[0maspect\u001b[0m\u001b[0;34m=\u001b[0m\u001b[0maspect\u001b[0m\u001b[0;34m,\u001b[0m\u001b[0;34m\u001b[0m\u001b[0;34m\u001b[0m\u001b[0m\n\u001b[1;32m   2726\u001b[0m         \u001b[0minterpolation\u001b[0m\u001b[0;34m=\u001b[0m\u001b[0minterpolation\u001b[0m\u001b[0;34m,\u001b[0m \u001b[0malpha\u001b[0m\u001b[0;34m=\u001b[0m\u001b[0malpha\u001b[0m\u001b[0;34m,\u001b[0m \u001b[0mvmin\u001b[0m\u001b[0;34m=\u001b[0m\u001b[0mvmin\u001b[0m\u001b[0;34m,\u001b[0m\u001b[0;34m\u001b[0m\u001b[0;34m\u001b[0m\u001b[0m\n",
            "\u001b[0;32m~/anaconda3/lib/python3.8/site-packages/matplotlib/__init__.py\u001b[0m in \u001b[0;36minner\u001b[0;34m(ax, data, *args, **kwargs)\u001b[0m\n\u001b[1;32m   1445\u001b[0m     \u001b[0;32mdef\u001b[0m \u001b[0minner\u001b[0m\u001b[0;34m(\u001b[0m\u001b[0max\u001b[0m\u001b[0;34m,\u001b[0m \u001b[0;34m*\u001b[0m\u001b[0margs\u001b[0m\u001b[0;34m,\u001b[0m \u001b[0mdata\u001b[0m\u001b[0;34m=\u001b[0m\u001b[0;32mNone\u001b[0m\u001b[0;34m,\u001b[0m \u001b[0;34m**\u001b[0m\u001b[0mkwargs\u001b[0m\u001b[0;34m)\u001b[0m\u001b[0;34m:\u001b[0m\u001b[0;34m\u001b[0m\u001b[0;34m\u001b[0m\u001b[0m\n\u001b[1;32m   1446\u001b[0m         \u001b[0;32mif\u001b[0m \u001b[0mdata\u001b[0m \u001b[0;32mis\u001b[0m \u001b[0;32mNone\u001b[0m\u001b[0;34m:\u001b[0m\u001b[0;34m\u001b[0m\u001b[0;34m\u001b[0m\u001b[0m\n\u001b[0;32m-> 1447\u001b[0;31m             \u001b[0;32mreturn\u001b[0m \u001b[0mfunc\u001b[0m\u001b[0;34m(\u001b[0m\u001b[0max\u001b[0m\u001b[0;34m,\u001b[0m \u001b[0;34m*\u001b[0m\u001b[0mmap\u001b[0m\u001b[0;34m(\u001b[0m\u001b[0msanitize_sequence\u001b[0m\u001b[0;34m,\u001b[0m \u001b[0margs\u001b[0m\u001b[0;34m)\u001b[0m\u001b[0;34m,\u001b[0m \u001b[0;34m**\u001b[0m\u001b[0mkwargs\u001b[0m\u001b[0;34m)\u001b[0m\u001b[0;34m\u001b[0m\u001b[0;34m\u001b[0m\u001b[0m\n\u001b[0m\u001b[1;32m   1448\u001b[0m \u001b[0;34m\u001b[0m\u001b[0m\n\u001b[1;32m   1449\u001b[0m         \u001b[0mbound\u001b[0m \u001b[0;34m=\u001b[0m \u001b[0mnew_sig\u001b[0m\u001b[0;34m.\u001b[0m\u001b[0mbind\u001b[0m\u001b[0;34m(\u001b[0m\u001b[0max\u001b[0m\u001b[0;34m,\u001b[0m \u001b[0;34m*\u001b[0m\u001b[0margs\u001b[0m\u001b[0;34m,\u001b[0m \u001b[0;34m**\u001b[0m\u001b[0mkwargs\u001b[0m\u001b[0;34m)\u001b[0m\u001b[0;34m\u001b[0m\u001b[0;34m\u001b[0m\u001b[0m\n",
            "\u001b[0;32m~/anaconda3/lib/python3.8/site-packages/matplotlib/axes/_axes.py\u001b[0m in \u001b[0;36mimshow\u001b[0;34m(self, X, cmap, norm, aspect, interpolation, alpha, vmin, vmax, origin, extent, filternorm, filterrad, resample, url, **kwargs)\u001b[0m\n\u001b[1;32m   5521\u001b[0m                               resample=resample, **kwargs)\n\u001b[1;32m   5522\u001b[0m \u001b[0;34m\u001b[0m\u001b[0m\n\u001b[0;32m-> 5523\u001b[0;31m         \u001b[0mim\u001b[0m\u001b[0;34m.\u001b[0m\u001b[0mset_data\u001b[0m\u001b[0;34m(\u001b[0m\u001b[0mX\u001b[0m\u001b[0;34m)\u001b[0m\u001b[0;34m\u001b[0m\u001b[0;34m\u001b[0m\u001b[0m\n\u001b[0m\u001b[1;32m   5524\u001b[0m         \u001b[0mim\u001b[0m\u001b[0;34m.\u001b[0m\u001b[0mset_alpha\u001b[0m\u001b[0;34m(\u001b[0m\u001b[0malpha\u001b[0m\u001b[0;34m)\u001b[0m\u001b[0;34m\u001b[0m\u001b[0;34m\u001b[0m\u001b[0m\n\u001b[1;32m   5525\u001b[0m         \u001b[0;32mif\u001b[0m \u001b[0mim\u001b[0m\u001b[0;34m.\u001b[0m\u001b[0mget_clip_path\u001b[0m\u001b[0;34m(\u001b[0m\u001b[0;34m)\u001b[0m \u001b[0;32mis\u001b[0m \u001b[0;32mNone\u001b[0m\u001b[0;34m:\u001b[0m\u001b[0;34m\u001b[0m\u001b[0;34m\u001b[0m\u001b[0m\n",
            "\u001b[0;32m~/anaconda3/lib/python3.8/site-packages/matplotlib/image.py\u001b[0m in \u001b[0;36mset_data\u001b[0;34m(self, A)\u001b[0m\n\u001b[1;32m    709\u001b[0m         if not (self._A.ndim == 2\n\u001b[1;32m    710\u001b[0m                 or self._A.ndim == 3 and self._A.shape[-1] in [3, 4]):\n\u001b[0;32m--> 711\u001b[0;31m             raise TypeError(\"Invalid shape {} for image data\"\n\u001b[0m\u001b[1;32m    712\u001b[0m                             .format(self._A.shape))\n\u001b[1;32m    713\u001b[0m \u001b[0;34m\u001b[0m\u001b[0m\n",
            "\u001b[0;31mTypeError\u001b[0m: Invalid shape (1, 2401, 1667) for image data"
          ]
        },
        {
          "data": {
            "image/png": "[encoded data removed]",
            "text/plain": [
              "<Figure size 432x288 with 1 Axes>"
            ]
          },
          "metadata": {
            "needs_background": "light"
          },
          "output_type": "display_data"
        }
      ]
    },
    {
      "cell_type": "code",
      "metadata": {
        "id": "CdZ2xZfaYcia",
        "outputId": "af3c122a-07fb-4759-a61b-18d75c59e082"
      },
      "source": [
        "plt.imshow(spim.reshape(spim.shape[1],spim.shape[2]),origin='lower')"
      ],
      "execution_count": null,
      "outputs": [
        {
          "data": {
            "text/plain": [
              "<matplotlib.image.AxesImage at 0x7fe5e5fb8760>"
            ]
          },
          "execution_count": 126,
          "metadata": {},
          "output_type": "execute_result"
        },
        {
          "data": {
            "image/png": "[encoded data removed]",
            "text/plain": [
              "<Figure size 432x288 with 1 Axes>"
            ]
          },
          "metadata": {
            "needs_background": "light"
          },
          "output_type": "display_data"
        }
      ]
    },
    {
      "cell_type": "code",
      "metadata": {
        "id": "WnymhO6oYcib",
        "outputId": "76305313-dc7a-437b-c8f9-e17fbc727f8f"
      },
      "source": [
        "extrait= f.variables['analysed_spim'][:,732:1517,456:1234]#Si vous souhaitez extraire un bloc spécifique \n",
        "extrait.shape"
      ],
      "execution_count": null,
      "outputs": [
        {
          "data": {
            "text/plain": [
              "(1, 785, 778)"
            ]
          },
          "execution_count": 127,
          "metadata": {},
          "output_type": "execute_result"
        }
      ]
    },
    {
      "cell_type": "code",
      "metadata": {
        "id": "d-8Pdzp5Ycib",
        "outputId": "73dd05c8-7e5b-4ffa-b9fb-7eace20bedfd"
      },
      "source": [
        "plt.imshow(extrait.reshape(extrait.shape[1],extrait.shape[2]),origin='lower')"
      ],
      "execution_count": null,
      "outputs": [
        {
          "data": {
            "text/plain": [
              "<matplotlib.image.AxesImage at 0x7fe5e5f8cf10>"
            ]
          },
          "execution_count": 128,
          "metadata": {},
          "output_type": "execute_result"
        },
        {
          "data": {
            "image/png": "[encoded data removed]",
            "text/plain": [
              "<Figure size 432x288 with 1 Axes>"
            ]
          },
          "metadata": {
            "needs_background": "light"
          },
          "output_type": "display_data"
        }
      ]
    },
    {
      "cell_type": "markdown",
      "metadata": {
        "id": "Q7IpJ8rwYcic"
      },
      "source": [
        "## ACP "
      ]
    },
    {
      "cell_type": "code",
      "metadata": {
        "id": "d8wwJOdLYcic"
      },
      "source": [
        "from sklearn.decomposition import PCA\n",
        "pca = PCA(n_eof)#(nb modes ou valeur entre 0 et 1) dans le projet, je vous demande 95% de Variance expliquée\n",
        "Valeurs propres = pca.singular_values_\n",
        "Vecteurs propres = pca.components_"
      ],
      "execution_count": null,
      "outputs": []
    },
    {
      "cell_type": "markdown",
      "metadata": {
        "id": "HIcS6TqtYcid"
      },
      "source": [
        "# AE"
      ]
    },
    {
      "cell_type": "code",
      "metadata": {
        "id": "nko_3wpUYcid"
      },
      "source": [
        "#voila un exemple d'auto encodeur basique fait sous pytorch, il ne s'agit ici que de la \n",
        "class AE(nn.Module):\n",
        "    def __init__(self, **kwargs):\n",
        "        super().__init__()\n",
        "        self.encoder_hidden_layer = nn.Linear(\n",
        "            in_features=kwargs[\"input_shape\"], out_features=128\n",
        "        )\n",
        "        self.encoder_output_layer = nn.Linear(\n",
        "            in_features=128, out_features=128\n",
        "        )\n",
        "        self.decoder_hidden_layer = nn.Linear(\n",
        "            in_features=128, out_features=128\n",
        "        )\n",
        "        self.decoder_output_layer = nn.Linear(\n",
        "            in_features=128, out_features=kwargs[\"input_shape\"]\n",
        "        )\n",
        "\n",
        "    def forward(self, features):\n",
        "        activation = self.encoder_hidden_layer(features)\n",
        "        activation = torch.relu(activation)\n",
        "        code = self.encoder_output_layer(activation)\n",
        "        code = torch.relu(code)\n",
        "        activation = self.decoder_hidden_layer(code)\n",
        "        activation = torch.relu(activation)\n",
        "        activation = self.decoder_output_layer(activation)\n",
        "        reconstructed = torch.relu(activation)\n",
        "        return reconstructed"
      ],
      "execution_count": null,
      "outputs": []
    }
  ]
}