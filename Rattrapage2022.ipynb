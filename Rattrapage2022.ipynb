{
  "nbformat": 4,
  "nbformat_minor": 0,
  "metadata": {
    "colab": {
      "name": "Rattrapage2022.ipynb",
      "provenance": [],
      "collapsed_sections": [],
      "authorship_tag": "ABX9TyNobtoHPUP18rGw6OiB5SXP",
      "include_colab_link": true
    },
    "kernelspec": {
      "name": "python3",
      "display_name": "Python 3"
    }
  },
  "cells": [
    {
      "cell_type": "markdown",
      "metadata": {
        "id": "view-in-github",
        "colab_type": "text"
      },
      "source": [
        "<a href=\"https://colab.research.google.com/github/GeoLabUniLaSalle/Python/blob/main/Rattrapage2022.ipynb\" target=\"_parent\"><img src=\"https://colab.research.google.com/assets/colab-badge.svg\" alt=\"Open In Colab\"/></a>"
      ]
    },
    {
      "cell_type": "markdown",
      "metadata": {
        "id": "pGQuPEjWYJBW"
      },
      "source": [
        "# **Battle Dev !**\n",
        "\n",
        "Vous avez 0h45 pour résoudre les 2 problèmes suivants. Bon courage :)\n",
        "\n",
        "## **Exercice 1 : Gants ★☆☆**\n",
        "\n",
        "**Objectif**\n",
        "\n",
        "L'hiver approche, c'est le moment de préparer vos vacances au ski. L'objectif de ce challenge est de déterminer combien de paires de gants vous pouvez constituer à partir des gants que vous trouvez dans votre tiroir.\n",
        "\n",
        "Une paire de gants est constituée de deux gants de même couleur.\n",
        "\n",
        "\n",
        "**Format des données**\n",
        "\n",
        "*Entrée*\n",
        "\n",
        "Ligne 1 : un entier N compris entre 1 et 1000 représentant le nombre de gants.\n",
        "\n",
        "Ligne 2 à N + 1 : une chaîne comprenant entre 1 et 7 caractères en minuscules représentant la couleur d'un gant.\n",
        "\n",
        "*Sortie*\n",
        "\n",
        "Un entier représentant le nombre de paires que vous pouvez constituer. Pour constituer une paire, il faut deux gants de la même couleur."
      ]
    },
    {
      "cell_type": "markdown",
      "metadata": {
        "id": "ODGfDRPOYGwQ"
      },
      "source": [
        "## **Données**\n",
        "\n",
        "*Accès aux données*"
      ]
    },
    {
      "cell_type": "code",
      "metadata": {
        "colab": {
          "base_uri": "https://localhost:8080/"
        },
        "id": "jlu0JxHXYkaM",
        "outputId": "400fab4c-3209-492f-8218-20885f6facec"
      },
      "source": [
        "import csv\n",
        "filedir = ('https://cours.unilasalle.fr/courses/SG4007/document/Exercices_Python/Gants/')\n",
        "\n",
        "import ssl\n",
        "ssl._create_default_https_context = ssl._create_unverified_context\n",
        "\n",
        "import urllib.request\n",
        "\n",
        "for x in range(1,4):\n",
        "  f = urllib.request.urlopen(str(filedir+\"input\"+str(x)+\".txt\"))\n",
        "\n",
        "  data=[]\n",
        "  for i in f:\n",
        "      line=i.decode('utf-8').strip()\n",
        "      data.append(line)\n",
        "  print('Entrée',x,':',data)\n",
        "\n",
        "  f = urllib.request.urlopen(str(filedir+\"output\"+str(x)+\".txt\"))\n",
        "  for i in f:\n",
        "      line=i.decode('utf-8').strip()\n",
        "  print('Sortie',x,':',line,'\\n')"
      ],
      "execution_count": null,
      "outputs": [
        {
          "output_type": "stream",
          "text": [
            "Entrée 1 : ['5', 'rouge', 'rouge', 'bleu', 'vert', 'bleu']\n",
            "Sortie 1 : 2 \n",
            "\n",
            "Entrée 2 : ['7', 'rouge', 'rouge', 'bleu', 'vert', 'bleu', 'rouge', 'rouge']\n",
            "Sortie 2 : 3 \n",
            "\n",
            "Entrée 3 : ['100', 'blanc', 'vert', 'bleu', 'noir', 'y', 'or', 'perle', 'diamant', 'saphir', 'blanc', 'argent', 'y', 'x', 'platine', 'argent', 'blanc', 'or', 'blanc', 'x', 'vert', 'argent', 'blanc', 'platine', 'platine', 'saphir', 'rubis', 'rouge', 'perle', 'jaune', 'or', 'rubis', 'rubis', 'rouge', 'saphir', 'y', 'vert', 'saphir', 'jaune', 'or', 'x', 'vert', 'y', 'bleu', 'platine', 'or', 'rubis', 'argent', 'platine', 'x', 'blanc', 'or', 'rouge', 'perle', 'rouge', 'noir', 'blanc', 'saphir', 'bleu', 'diamant', 'vert', 'platine', 'or', 'jaune', 'vert', 'x', 'platine', 'saphir', 'jaune', 'noir', 'diamant', 'bleu', 'y', 'perle', 'platine', 'argent', 'or', 'rubis', 'bleu', 'perle', 'diamant', 'vert', 'perle', 'rouge', 'rubis', 'x', 'jaune', 'rubis', 'diamant', 'diamant', 'platine', 'noir', 'saphir', 'x', 'saphir', 'saphir', 'bleu', 'jaune', 'rouge', 'saphir', 'perle']\n",
            "Sortie 3 : 46 \n",
            "\n"
          ],
          "name": "stdout"
        }
      ]
    },
    {
      "cell_type": "code",
      "metadata": {
        "id": "ibgG9zWLu4Vg"
      },
      "source": [
        "lines = ['5', 'rouge', 'rouge', 'bleu', 'vert', 'bleu']\n",
        "# A vous de jouer !"
      ],
      "execution_count": null,
      "outputs": []
    },
    {
      "cell_type": "markdown",
      "metadata": {
        "id": "6p6eR4lLumXa"
      },
      "source": [
        "## **Exercice 2 : Flocons ★★☆**\n",
        "\n",
        "**Objectif**\n",
        "\n",
        "En attendant la neige, on peut toujours dessiner des flocons.... Le but de ce challenge est de dessiner des flocons.\n",
        "\n",
        "Pour dessiner un flocon de taille N (où N est un entier impair), vous devez créer un losange de dimension N dans une feuille comprenant N lignes et N colonnes. Chaque point non compris dans le losange est représenté par un . et chaque point du losange est représenté par un *.\n",
        "\n",
        "*Exemples*\n",
        "\n",
        "Exemples\n",
        "Si N = 3, le losange sera ainsi :\n",
        "\n",
        ".*.\n",
        "\n",
        "\\***\n",
        "\n",
        ".*.\n",
        "\n",
        "\n",
        "Si N =7, le losange sera ainsi :\n",
        "\n",
        "...*...\n",
        "\n",
        "..***..\n",
        "\n",
        ".*****.\n",
        "\n",
        "\\*\\******\n",
        "\n",
        ".*****.\n",
        "\n",
        "..***..\n",
        "\n",
        "...*...\n",
        "\n",
        "\n",
        "**Format des données**\n",
        "\n",
        "*Entrée*\n",
        "\n",
        "Ligne 1 : un entier impair N compris entre 3 et 51 représentant la taille du flocon.\n",
        "\n",
        "*Sortie*\n",
        "\n",
        "N lignes de N caractères représentant le flocon. Chaque caractère pouvant être un '.' ou un '*'.\n",
        "\n",
        "Si vous rencontrez des problèmes avec les sauts de ligne dans votre sortie, vous pouvez aussi renvoyer une ligne unique comprenant toutes les lignes du dessin, en séparant chaque ligne du dessin par un espace.\n",
        "Par exemple si N=3 votre sortie serait :\n",
        "\n",
        ".\\*.  \\*\\**  .\\*."
      ]
    },
    {
      "cell_type": "code",
      "metadata": {
        "colab": {
          "base_uri": "https://localhost:8080/"
        },
        "id": "Ng3ND4XyrK6W",
        "outputId": "87dcc25d-a3fe-4ced-d31d-ba72129c09b4"
      },
      "source": [
        "import csv\n",
        "filedir = ('https://cours.unilasalle.fr/courses/SG4007/document/Exercices_Python/Flocons/')\n",
        "\n",
        "import ssl\n",
        "ssl._create_default_https_context = ssl._create_unverified_context\n",
        "\n",
        "import urllib.request\n",
        "\n",
        "for x in range(1,3):\n",
        "  f = urllib.request.urlopen(str(filedir+\"input\"+str(x)+\".txt\"))\n",
        "\n",
        "  data=[]\n",
        "  for i in f:\n",
        "      line=i.decode('utf-8').strip()\n",
        "      data.append(line)\n",
        "  print('Entrée',x,':',data)\n",
        "\n",
        "  f = urllib.request.urlopen(str(filedir+\"output\"+str(x)+\".txt\"))\n",
        "  print('Sortie',x,':')\n",
        "  for i in f:\n",
        "      line=i.decode('utf-8').strip()\n",
        "      print(line,'\\n')"
      ],
      "execution_count": null,
      "outputs": [
        {
          "output_type": "stream",
          "text": [
            "Entrée 1 : ['5']\n",
            "Sortie 1 :\n",
            "..*.. \n",
            "\n",
            ".***. \n",
            "\n",
            "***** \n",
            "\n",
            ".***. \n",
            "\n",
            "..*.. \n",
            "\n",
            "Entrée 2 : ['45']\n",
            "Sortie 2 :\n",
            "......................*...................... \n",
            "\n",
            ".....................***..................... \n",
            "\n",
            "....................*****.................... \n",
            "\n",
            "...................*******................... \n",
            "\n",
            "..................*********.................. \n",
            "\n",
            ".................***********................. \n",
            "\n",
            "................*************................ \n",
            "\n",
            "...............***************............... \n",
            "\n",
            "..............*****************.............. \n",
            "\n",
            ".............*******************............. \n",
            "\n",
            "............*********************............ \n",
            "\n",
            "...........***********************........... \n",
            "\n",
            "..........*************************.......... \n",
            "\n",
            ".........***************************......... \n",
            "\n",
            "........*****************************........ \n",
            "\n",
            ".......*******************************....... \n",
            "\n",
            "......*********************************...... \n",
            "\n",
            ".....***********************************..... \n",
            "\n",
            "....*************************************.... \n",
            "\n",
            "...***************************************... \n",
            "\n",
            "..*****************************************.. \n",
            "\n",
            ".*******************************************. \n",
            "\n",
            "********************************************* \n",
            "\n",
            ".*******************************************. \n",
            "\n",
            "..*****************************************.. \n",
            "\n",
            "...***************************************... \n",
            "\n",
            "....*************************************.... \n",
            "\n",
            ".....***********************************..... \n",
            "\n",
            "......*********************************...... \n",
            "\n",
            ".......*******************************....... \n",
            "\n",
            "........*****************************........ \n",
            "\n",
            ".........***************************......... \n",
            "\n",
            "..........*************************.......... \n",
            "\n",
            "...........***********************........... \n",
            "\n",
            "............*********************............ \n",
            "\n",
            ".............*******************............. \n",
            "\n",
            "..............*****************.............. \n",
            "\n",
            "...............***************............... \n",
            "\n",
            "................*************................ \n",
            "\n",
            ".................***********................. \n",
            "\n",
            "..................*********.................. \n",
            "\n",
            "...................*******................... \n",
            "\n",
            "....................*****.................... \n",
            "\n",
            ".....................***..................... \n",
            "\n",
            "......................*...................... \n",
            "\n"
          ],
          "name": "stdout"
        }
      ]
    },
    {
      "cell_type": "code",
      "metadata": {
        "id": "LHfsjUasvHPH"
      },
      "source": [
        "lines = ['5']\n",
        "# A vous de jouer !"
      ],
      "execution_count": null,
      "outputs": []
    }
  ]
}