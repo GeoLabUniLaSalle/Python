{
  "nbformat": 4,
  "nbformat_minor": 0,
  "metadata": {
    "colab": {
      "name": "Le meilleur restaurant ★☆☆.ipynb",
      "provenance": [],
      "collapsed_sections": [],
      "toc_visible": true,
      "authorship_tag": "ABX9TyNw+SRC+M+WitGMl7UHOLjC",
      "include_colab_link": true
    },
    "kernelspec": {
      "name": "python3",
      "display_name": "Python 3"
    }
  },
  "cells": [
    {
      "cell_type": "markdown",
      "metadata": {
        "id": "view-in-github",
        "colab_type": "text"
      },
      "source": [
        "<a href=\"https://colab.research.google.com/github/GeoLabUniLaSalle/Python/blob/main/Le_meilleur_restaurant_%E2%98%85%E2%98%86%E2%98%86.ipynb\" target=\"_parent\"><img src=\"https://colab.research.google.com/assets/colab-badge.svg\" alt=\"Open In Colab\"/></a>"
      ]
    },
    {
      "cell_type": "markdown",
      "metadata": {
        "id": "pQDJrV35HzwI"
      },
      "source": [
        "## **Le meilleur restaurant ★☆☆**\n",
        "\n",
        "*Exercice disponible sur la plateforme TOSA : Battle Dev RegionJob - Mars 2018 : https://www.isograd.com/FR/solutionconcours.php*\n",
        "\n",
        "**Énoncé**\n",
        "\n",
        "Vous avez mis en place un site de recommandations de restaurants. A partir des opinons laissées par les visiteurs, vous avez pu construire pour chaque restaurant 3 notes sur 20 :\n",
        "- Qualité de la nourriture\n",
        "- Qualité de la salle\n",
        "- Qualité du service\n",
        "\n",
        "Pour classer les restaurants, vous calculez un score qui correspond à la moyenne de ces 3 notes.\n",
        "\n",
        "\n",
        "\n",
        "**Format des données**\n",
        "\n",
        "*Entrée*\n",
        "\n",
        "Ligne 1 : un entier N compris entre 5 et 500 représentant le nombre de restaurants dans votre base.\n",
        "Lignes 2 à N+1 : trois entiers compris entre 0 et 20 et séparés par des espaces représentant respectivement les notes que vous avez calculées à partir des opinions des visiteurs pour la nourriture, la salle et le service pour un restaurant donné.\n",
        "\n",
        "*Sortie*\n",
        "\n",
        "Un entier représentant le score du meilleur restaurant de votre base arrondi à l'entier supérieur."
      ]
    },
    {
      "cell_type": "markdown",
      "metadata": {
        "id": "VYYpRJ1bMN-b"
      },
      "source": [
        "## **Données**\n",
        "\n",
        "Ajouter les jeux de données disponibles ici : https://drive.google.com/drive/folders/1-48wHv1eDzM7KOd5uTHdfEUAtWJvDML_?usp=sharing en ajoutant le dossier à \n",
        "\n",
        "*Accès aux données*"
      ]
    },
    {
      "cell_type": "code",
      "metadata": {
        "colab": {
          "base_uri": "https://localhost:8080/"
        },
        "id": "909m9mgwLfW0",
        "outputId": "92f1a55b-a933-4d14-f7fa-a6c54ff70cd6"
      },
      "source": [
        "import csv\n",
        "filedir = ('https://cours.unilasalle.fr/courses/SG4007/document/Exercices_Python/Le_Meilleur_Restaurant/')\n",
        "\n",
        "import ssl\n",
        "ssl._create_default_https_context = ssl._create_unverified_context\n",
        "\n",
        "import urllib.request\n",
        "\n",
        "for x in range(1,4):\n",
        "  f = urllib.request.urlopen(str(filedir+\"input\"+str(x)+\".txt\"))\n",
        "\n",
        "  data=[]\n",
        "  for i in f:\n",
        "      line=i.decode('utf-8').strip()\n",
        "      data.append(line)\n",
        "  print('Entrée',x,':',data)\n",
        "\n",
        "  f = urllib.request.urlopen(str(filedir+\"output\"+str(x)+\".txt\"))\n",
        "  for i in f:\n",
        "      line=i.decode('utf-8').strip()\n",
        "  print('Sortie',x,':',line,'\\n')"
      ],
      "execution_count": 19,
      "outputs": [
        {
          "output_type": "stream",
          "text": [
            "Entrée 1 : ['2', '5 9 7', '10 17 7']\n",
            "Sortie 1 : 12 \n",
            "\n",
            "Entrée 2 : ['44', '6 14 14', '16 14 10', '18 4 19', '11 18 20', '6 2 10', '0 7 17', '20 4 17', '1 14 11', '12 5 13', '15 0 3', '6 14 6', '1 3 9', '14 3 3', '16 1 11', '2 12 9', '12 20 7', '10 5 12', '3 9 18', '1 11 19', '20 15 3', '6 17 8', '11 8 8', '4 15 3', '1 10 3', '8 16 17', '9 19 5', '20 16 18', '4 16 11', '9 9 4', '2 17 9', '18 5 16', '3 19 19', '2 9 1', '14 16 0', '12 13 7', '6 4 14', '18 4 8', '4 4 15', '5 5 14', '13 6 1', '7 18 9', '13 16 19', '4 19 18', '1 1 4']\n",
            "Sortie 2 : 18 \n",
            "\n",
            "Entrée 3 : ['100', '8 8 14', '10 12 8', '6 9 8', '9 1 5', '14 10 14', '12 4 9', '8 4 8', '4 4 7', '14 7 4', '1 6 2', '3 4 11', '0 3 6', '14 7 14', '2 3 0', '11 1 11', '10 7 11', '8 9 6', '14 5 10', '9 7 3', '8 6 15', '2 6 3', '5 14 15', '15 11 5', '2 10 9', '10 0 12', '11 9 5', '13 7 1', '5 8 10', '8 3 2', '6 15 0', '13 3 15', '1 14 11', '9 3 15', '10 10 13', '14 11 14', '0 2 12', '15 9 13', '12 10 12', '11 4 6', '8 2 5', '8 0 11', '8 6 11', '4 15 13', '13 13 10', '15 15 2', '8 0 3', '0 12 12', '7 7 6', '8 5 14', '1 2 3', '8 13 10', '7 2 12', '6 5 1', '3 13 4', '8 14 5', '13 14 11', '10 8 7', '10 9 2', '10 0 0', '15 14 0', '6 15 13', '12 15 15', '9 15 7', '7 3 6', '13 1 10', '1 1 9', '5 9 1', '7 12 12', '4 4 1', '6 1 7', '3 1 4', '12 9 5', '4 2 14', '2 10 5', '11 1 8', '5 12 15', '5 11 12', '2 8 5', '13 8 10', '1 0 1', '13 0 1', '9 1 13', '7 12 1', '2 5 15', '3 14 10', '0 5 12', '2 15 2', '9 1 13', '0 9 11', '4 0 13', '0 11 11', '7 0 12', '12 8 7', '12 5 11', '1 11 2', '11 1 8', '12 15 3', '2 0 14', '11 13 4', '4 6 12']\n",
            "Sortie 3 : 14 \n",
            "\n"
          ],
          "name": "stdout"
        }
      ]
    },
    {
      "cell_type": "markdown",
      "metadata": {
        "id": "KvCvhDO3N2Z6"
      },
      "source": [
        "## **Traitement**\n",
        "\n",
        "Reprenons de jeu de données 1 :"
      ]
    },
    {
      "cell_type": "code",
      "metadata": {
        "id": "FrBbw8NSOKyT",
        "colab": {
          "base_uri": "https://localhost:8080/"
        },
        "outputId": "e4cb24c4-19cd-4e36-b405-aebbdee3f0b5"
      },
      "source": [
        "lines = ['2', '5 9 7', '10 17 7']\n",
        "print(lines)"
      ],
      "execution_count": 21,
      "outputs": [
        {
          "output_type": "stream",
          "text": [
            "['2', '5 9 7', '10 17 7']\n"
          ],
          "name": "stdout"
        }
      ]
    },
    {
      "cell_type": "markdown",
      "metadata": {
        "id": "RvY_Wqd_PZo3"
      },
      "source": [
        "\n",
        "Ici, nous avons 2 restaurants ayant obtenu chacun 3 notes pour la qualité de la nourriture, de la salle, et du service.\n",
        "\n",
        "Le premier restaurant a obtenu les notes 5, 9 et 7\n",
        "Le second restaurant a obtenu les notes 10, 17 et 7\n",
        "\n",
        "Dans un premier temps, nous calculons la somme des 3 notes pour chaque restaurant."
      ]
    },
    {
      "cell_type": "code",
      "metadata": {
        "colab": {
          "base_uri": "https://localhost:8080/"
        },
        "id": "OAXIKJGrPZBc",
        "outputId": "53776bf7-7083-44aa-aa43-49845cd0635f"
      },
      "source": [
        "for x in lines[1:]:\n",
        "  somme=0\n",
        "  for y in x.split():\n",
        "    somme+=int(y)\n",
        "  print(somme)"
      ],
      "execution_count": 22,
      "outputs": [
        {
          "output_type": "stream",
          "text": [
            "21\n",
            "34\n"
          ],
          "name": "stdout"
        }
      ]
    },
    {
      "cell_type": "markdown",
      "metadata": {
        "id": "c5wjXJLYP-kB"
      },
      "source": [
        "La somme des notes du premier restaurant est de 21\n",
        "La somme des notes du second restaurant est de 34\n",
        "\n",
        "Identifions maintenant la plus grande somme."
      ]
    },
    {
      "cell_type": "code",
      "metadata": {
        "colab": {
          "base_uri": "https://localhost:8080/"
        },
        "id": "K1d_uhO_PxC5",
        "outputId": "82ddb00e-255d-47dd-de8f-7083d1ac11e7"
      },
      "source": [
        "maximum=0\n",
        "for x in lines[1:]:\n",
        "  somme=0\n",
        "  for y in x.split():\n",
        "    somme+=int(y)\n",
        "  if(somme>maximum):\n",
        "    maximum=somme\n",
        "print(maximum)"
      ],
      "execution_count": 23,
      "outputs": [
        {
          "output_type": "stream",
          "text": [
            "34\n"
          ],
          "name": "stdout"
        }
      ]
    },
    {
      "cell_type": "markdown",
      "metadata": {
        "id": "SstDIPtlQfgD"
      },
      "source": [
        "Divisons maintenant cette somme par 3 pour obtenir la plus grande moyenne."
      ]
    },
    {
      "cell_type": "code",
      "metadata": {
        "colab": {
          "base_uri": "https://localhost:8080/"
        },
        "id": "HqDUyRVjQbGC",
        "outputId": "6453410e-d19f-415f-f444-1a63a41249b1"
      },
      "source": [
        "moyenne=maximum/3\n",
        "print(moyenne)"
      ],
      "execution_count": 24,
      "outputs": [
        {
          "output_type": "stream",
          "text": [
            "11.333333333333334\n"
          ],
          "name": "stdout"
        }
      ]
    },
    {
      "cell_type": "markdown",
      "metadata": {
        "id": "gOV5t6yHQzxo"
      },
      "source": [
        "Il ne reste plus qu'à arrondir cette moyenne à l'entier supérieur, grâce à la fonction *ceil*"
      ]
    },
    {
      "cell_type": "code",
      "metadata": {
        "colab": {
          "base_uri": "https://localhost:8080/"
        },
        "id": "vvSk8zdvQxy5",
        "outputId": "f632a825-34a5-4bc6-86f6-3743c5543a36"
      },
      "source": [
        "import math as m\n",
        "print(m.ceil(moyenne))"
      ],
      "execution_count": 25,
      "outputs": [
        {
          "output_type": "stream",
          "text": [
            "12\n"
          ],
          "name": "stdout"
        }
      ]
    },
    {
      "cell_type": "markdown",
      "metadata": {
        "id": "_zIrXZpQRLEh"
      },
      "source": [
        "12 est le résultat qui était attendu !\n",
        "\n",
        "Voici un corrigé qui reprend l'ensemble des opérations."
      ]
    },
    {
      "cell_type": "code",
      "metadata": {
        "colab": {
          "base_uri": "https://localhost:8080/"
        },
        "id": "znwE5rK4Ranl",
        "outputId": "fb26d5ea-f3f7-49c7-e213-f66412cfb4a2"
      },
      "source": [
        "import math as m\n",
        "maximum=0\n",
        "for x in lines[1:]:\n",
        "  somme=0\n",
        "  for y in x.split():\n",
        "    somme+=int(y)\n",
        "  if(somme>maximum):\n",
        "    maximum=somme\n",
        "print(m.ceil(maximum/3))"
      ],
      "execution_count": 26,
      "outputs": [
        {
          "output_type": "stream",
          "text": [
            "12\n"
          ],
          "name": "stdout"
        }
      ]
    },
    {
      "cell_type": "markdown",
      "metadata": {
        "id": "OtMMa0CDRkCD"
      },
      "source": [
        "Et voici un corrigé plus concis."
      ]
    },
    {
      "cell_type": "code",
      "metadata": {
        "colab": {
          "base_uri": "https://localhost:8080/"
        },
        "id": "XL5ncM3HRjRu",
        "outputId": "e13cb6fc-dbaa-4b10-c8ce-83d947170544"
      },
      "source": [
        "import math as m\n",
        "t=[[int(x) for x in lines[i+1].split()] for i in range(int(lines[0]))]\n",
        "print(max(m.ceil(sum(l)/3) for l in t))"
      ],
      "execution_count": 27,
      "outputs": [
        {
          "output_type": "stream",
          "text": [
            "12\n"
          ],
          "name": "stdout"
        }
      ]
    }
  ]
}