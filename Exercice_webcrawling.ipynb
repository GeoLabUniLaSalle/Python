{
  "nbformat": 4,
  "nbformat_minor": 0,
  "metadata": {
    "kernelspec": {
      "display_name": "Python 3",
      "language": "python",
      "name": "python3"
    },
    "language_info": {
      "codemirror_mode": {
        "name": "ipython",
        "version": 3
      },
      "file_extension": ".py",
      "mimetype": "text/x-python",
      "name": "python",
      "nbconvert_exporter": "python",
      "pygments_lexer": "ipython3",
      "version": "3.7.6"
    },
    "metadata": {
      "interpreter": {
        "hash": "8f1c706bd267d08789cea23d60c4acb3a9603109c56a3225f3410bb2e8cd1ca0"
      }
    },
    "colab": {
      "name": "Exercice webcrawling.ipynb",
      "provenance": [],
      "collapsed_sections": [],
      "include_colab_link": true
    }
  },
  "cells": [
    {
      "cell_type": "markdown",
      "metadata": {
        "id": "view-in-github",
        "colab_type": "text"
      },
      "source": [
        "<a href=\"https://colab.research.google.com/github/GeoLabUniLaSalle/Python/blob/main/Exercice_webcrawling.ipynb\" target=\"_parent\"><img src=\"https://colab.research.google.com/assets/colab-badge.svg\" alt=\"Open In Colab\"/></a>"
      ]
    },
    {
      "cell_type": "markdown",
      "metadata": {
        "id": "mUFhYsk7Mdsv"
      },
      "source": [
        "# Exercice\n",
        "\n",
        "* Website: https://www.offshore-energy.biz/ ​\n",
        "\n",
        "* Targeted articles in News section.​\n",
        "\n",
        "* Crawl 2 pages of news.​\n",
        "\n",
        "* ​For all these articles, find the following items and print them on the screen:​\n",
        "\n",
        " * Date​\n",
        " * Article title​\n",
        " * Article URL ​\n",
        " * Article body​\n",
        "\n",
        "* Bonus: Save them into an Excel/CSV (if you have some time left)"
      ]
    },
    {
      "cell_type": "code",
      "metadata": {
        "id": "axsTmIR1LI2l"
      },
      "source": [
        "# Install modules\n",
        "import sys\n",
        "!{sys.executable} -m pip install --user bs4\n",
        "!{sys.executable} -m pip install --user pandas"
      ],
      "execution_count": 12,
      "outputs": []
    },
    {
      "cell_type": "markdown",
      "metadata": {
        "id": "44dfdPsRLMtF"
      },
      "source": [
        "Restart the kernel after installing the packages"
      ]
    },
    {
      "cell_type": "code",
      "metadata": {
        "id": "9oNJPsIAKy6W"
      },
      "source": [
        "# Import modules\n",
        "import bs4s\n",
        "import requests\n",
        "import pandas as pd"
      ],
      "execution_count": 3,
      "outputs": []
    },
    {
      "cell_type": "code",
      "metadata": {
        "id": "KLs7B3KTRic_"
      },
      "source": [
        ""
      ],
      "execution_count": null,
      "outputs": []
    }
  ]
}