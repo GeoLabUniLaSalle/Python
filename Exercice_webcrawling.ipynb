{
  "nbformat": 4,
  "nbformat_minor": 0,
  "metadata": {
    "kernelspec": {
      "display_name": "Python 3",
      "language": "python",
      "name": "python3"
    },
    "language_info": {
      "codemirror_mode": {
        "name": "ipython",
        "version": 3
      },
      "file_extension": ".py",
      "mimetype": "text/x-python",
      "name": "python",
      "nbconvert_exporter": "python",
      "pygments_lexer": "ipython3",
      "version": "3.7.6"
    },
    "metadata": {
      "interpreter": {
        "hash": "8f1c706bd267d08789cea23d60c4acb3a9603109c56a3225f3410bb2e8cd1ca0"
      }
    },
    "colab": {
      "name": "Exercice webcrawling.ipynb",
      "provenance": [],
      "collapsed_sections": [],
      "include_colab_link": true
    }
  },
  "cells": [
    {
      "cell_type": "markdown",
      "metadata": {
        "id": "view-in-github",
        "colab_type": "text"
      },
      "source": [
        "<a href=\"https://colab.research.google.com/github/GeoLabUniLaSalle/Python/blob/main/Exercice_webcrawling.ipynb\" target=\"_parent\"><img src=\"https://colab.research.google.com/assets/colab-badge.svg\" alt=\"Open In Colab\"/></a>"
      ]
    },
    {
      "cell_type": "markdown",
      "metadata": {
        "id": "mUFhYsk7Mdsv"
      },
      "source": [
        "# Exercice\n",
        "\n",
        "* Website: https://www.offshore-energy.biz/ ​\n",
        "\n",
        "* Targeted articles in News section.​\n",
        "\n",
        "* Crawl 2 pages of news.​\n",
        "\n",
        "* ​For all these articles, find the following items and print them on the screen:​\n",
        "\n",
        " * Date​\n",
        " * Article title​\n",
        " * Article URL ​\n",
        " * Article body​\n",
        "\n",
        "* Bonus: Save them into an Excel/CSV (if you have some time left)"
      ]
    },
    {
      "cell_type": "code",
      "metadata": {
        "id": "axsTmIR1LI2l"
      },
      "source": [
        "# Install modules\n",
        "import sys\n",
        "!{sys.executable} -m pip install --user bs4\n",
        "!{sys.executable} -m pip install --user pandas"
      ],
      "execution_count": 12,
      "outputs": []
    },
    {
      "cell_type": "markdown",
      "metadata": {
        "id": "44dfdPsRLMtF"
      },
      "source": [
        "Restart the kernel after installing the packages"
      ]
    },
    {
      "cell_type": "code",
      "metadata": {
        "id": "9oNJPsIAKy6W"
      },
      "source": [
        "# Import modules\n",
        "import bs4\n",
        "import requests\n",
        "import pandas as pd"
      ],
      "execution_count": 3,
      "outputs": []
    },
    {
      "cell_type": "markdown",
      "metadata": {
        "id": "WwNyZNaJKy6Y"
      },
      "source": [
        "# 1. Define starting urls in a list"
      ]
    },
    {
      "cell_type": "code",
      "metadata": {
        "id": "tzc49NOPKy6Z"
      },
      "source": [
        "urls = ['https://www.offshore-energy.biz/news/', 'https://www.offshore-energy.biz/news/page/2/']"
      ],
      "execution_count": 4,
      "outputs": []
    },
    {
      "cell_type": "markdown",
      "metadata": {
        "id": "-NZjpCg5Ky6a"
      },
      "source": [
        "# 2. Find article links for every url"
      ]
    },
    {
      "cell_type": "code",
      "metadata": {
        "id": "AwcdQCUjKy6b"
      },
      "source": [
        "links = []\n",
        "\n",
        "for url in urls:\n",
        "    # Gets the content of the page \n",
        "    html_code = requests.get(url).content\n",
        "    #print(html_code)\n",
        "\n",
        "    # Transforms it to a tree of tags\n",
        "    soup = bs4.BeautifulSoup(html_code, 'html.parser')\n",
        "    \n",
        "    # Select article links\n",
        "    tag_links = soup.select('div.card-rich h3 a') # all tags corresponding are selected\n",
        "\n",
        "    for link in tag_links:\n",
        "        links.append(link.get('href')) # selects href from tags and put them into a list"
      ],
      "execution_count": 5,
      "outputs": []
    },
    {
      "cell_type": "code",
      "metadata": {
        "colab": {
          "base_uri": "https://localhost:8080/"
        },
        "id": "4TQnrMtDKy6b",
        "outputId": "73ffbda6-16b2-4c9c-e2fd-014f7fea6772"
      },
      "source": [
        "len(links) # verifies how much articles are selected (we expect approx. 50)"
      ],
      "execution_count": 6,
      "outputs": [
        {
          "output_type": "execute_result",
          "data": {
            "text/plain": [
              "51"
            ]
          },
          "metadata": {},
          "execution_count": 6
        }
      ]
    },
    {
      "cell_type": "markdown",
      "metadata": {
        "id": "0HTapBYnKy6b"
      },
      "source": [
        "# 3. Parse articles \n",
        "We have a list of article links. \\\n",
        "For every link, we will put the title, body and date of the article in a dictionary \\\n",
        "As we have more than 50 links, it can be long !"
      ]
    },
    {
      "cell_type": "code",
      "metadata": {
        "id": "nbWdD_yQKy6c"
      },
      "source": [
        "parsed_articles = [] # Defines a list to store dictionnary of parsed articles\n",
        "\n",
        "for art_link in links:\n",
        "    html_code = requests.get(art_link).content # fetches article content\n",
        "    soup = bs4.BeautifulSoup(html_code, 'lxml') # transforms raw html into a tree of tags\n",
        "    \n",
        "    # Title\n",
        "    title = soup.select('article h1')[0].get_text() # gets the title. \n",
        "                                                    # As get returns a list, we pick the first element [0]\n",
        "    \n",
        "    # Body\n",
        "    body = soup.select('article div.wp-content p') # gets the article body\n",
        "    body_clean = []\n",
        "    for paragraph in body:\n",
        "        body_clean.append(paragraph.get_text()) # appends the text of every paragraph to a list\n",
        "\n",
        "    body_text = '\\n'.join(body_clean) # converts the list of strings into a unique string by joining all strings.\n",
        "                                    # as '\\n' was used to join strings, the space between paragraphs is kept.\n",
        "    \n",
        "    # Date\n",
        "    date = soup.select_one('div.article-meta__info').get_text() # gets date\n",
        "    date = date.split('by')[0].split('posted')[0].strip() # removes the noise around the date\n",
        "    # see split and strip() funtions on Stack Overflow. (or see below)\n",
        "    \n",
        "    parsed_articles.append({'Title': title,\n",
        "                           'Date': date,\n",
        "                           'Body': body_text,\n",
        "                           'URL': art_link}) # results are is a list of dictionaries"
      ],
      "execution_count": 7,
      "outputs": []
    },
    {
      "cell_type": "code",
      "metadata": {
        "colab": {
          "base_uri": "https://localhost:8080/"
        },
        "id": "ld1eO_NpKy6c",
        "outputId": "835530aa-6892-41a0-d836-2a4709950c9f"
      },
      "source": [
        "# Example of '\\n'.join(list_of_str)\n",
        "l = ['Hello', 'world']\n",
        "print(' '.join(l))\n",
        "print('-----')\n",
        "print('\\n'.join(l))"
      ],
      "execution_count": 8,
      "outputs": [
        {
          "output_type": "stream",
          "name": "stdout",
          "text": [
            "Hello world\n",
            "-----\n",
            "Hello\n",
            "world\n"
          ]
        }
      ]
    },
    {
      "cell_type": "code",
      "metadata": {
        "colab": {
          "base_uri": "https://localhost:8080/"
        },
        "id": "ZoIc9KH_Ky6d",
        "outputId": "491d3b94-c4ab-49db-fb19-e7bde4b9297b"
      },
      "source": [
        "# Example of split\n",
        "word = 'hello my friend'\n",
        "split_word = word.split('my')\n",
        "print(split_word)"
      ],
      "execution_count": 9,
      "outputs": [
        {
          "output_type": "stream",
          "name": "stdout",
          "text": [
            "['hello ', ' friend']\n"
          ]
        }
      ]
    },
    {
      "cell_type": "markdown",
      "metadata": {
        "id": "8GoBfeb8Ky6e"
      },
      "source": [
        "# 4. Put results in a table (pandas DataFrame)"
      ]
    },
    {
      "cell_type": "code",
      "metadata": {
        "id": "9-pEyfTJKy6e"
      },
      "source": [
        "table = pd.DataFrame(parsed_articles)"
      ],
      "execution_count": 10,
      "outputs": []
    },
    {
      "cell_type": "code",
      "metadata": {
        "colab": {
          "base_uri": "https://localhost:8080/",
          "height": 204
        },
        "id": "1kG5nqOpKy6e",
        "outputId": "d4fa1841-6b95-43bb-c34d-f5df5c5197cb"
      },
      "source": [
        "table.head(5) # Print first 5 rows"
      ],
      "execution_count": 11,
      "outputs": [
        {
          "output_type": "execute_result",
          "data": {
            "text/html": [
              "<div>\n",
              "<style scoped>\n",
              "    .dataframe tbody tr th:only-of-type {\n",
              "        vertical-align: middle;\n",
              "    }\n",
              "\n",
              "    .dataframe tbody tr th {\n",
              "        vertical-align: top;\n",
              "    }\n",
              "\n",
              "    .dataframe thead th {\n",
              "        text-align: right;\n",
              "    }\n",
              "</style>\n",
              "<table border=\"1\" class=\"dataframe\">\n",
              "  <thead>\n",
              "    <tr style=\"text-align: right;\">\n",
              "      <th></th>\n",
              "      <th>Title</th>\n",
              "      <th>Date</th>\n",
              "      <th>Body</th>\n",
              "      <th>URL</th>\n",
              "    </tr>\n",
              "  </thead>\n",
              "  <tbody>\n",
              "    <tr>\n",
              "      <th>0</th>\n",
              "      <td>In focus: Converting jack-up rigs and combinin...</td>\n",
              "      <td>September 24, 2021,</td>\n",
              "      <td>\\nThis week saw a plethora of energy transitio...</td>\n",
              "      <td>https://www.offshore-energy.biz/in-focus-conve...</td>\n",
              "    </tr>\n",
              "    <tr>\n",
              "      <th>1</th>\n",
              "      <td>Murphy Oil’s giant FPS King’s Quay reaches Texas</td>\n",
              "      <td>September 22, 2021,</td>\n",
              "      <td>\\nMurphy Oil is on schedule to achieve the fir...</td>\n",
              "      <td>https://www.offshore-energy.biz/murphy-oils-gi...</td>\n",
              "    </tr>\n",
              "    <tr>\n",
              "      <th>2</th>\n",
              "      <td>Buzzing networking drinks at OEEC!</td>\n",
              "      <td>September 15, 2021,</td>\n",
              "      <td>Offshore Energy Exhibition and Conference (OEE...</td>\n",
              "      <td>https://www.offshore-energy.biz/buzzing-networ...</td>\n",
              "    </tr>\n",
              "    <tr>\n",
              "      <th>3</th>\n",
              "      <td>Maersk, CCS team up on carbon-neutral technolo...</td>\n",
              "      <td>September 27, 2021,</td>\n",
              "      <td>Danish shipping giant A.P. Moller – Maersk has...</td>\n",
              "      <td>https://www.offshore-energy.biz/maersk-china-c...</td>\n",
              "    </tr>\n",
              "    <tr>\n",
              "      <th>4</th>\n",
              "      <td>Odfjell Drilling to bag $20 million from extra...</td>\n",
              "      <td>September 27, 2021,</td>\n",
              "      <td>Norwegian energy giant Equinor has added an ad...</td>\n",
              "      <td>https://www.offshore-energy.biz/odfjell-drilli...</td>\n",
              "    </tr>\n",
              "  </tbody>\n",
              "</table>\n",
              "</div>"
            ],
            "text/plain": [
              "                                               Title  ...                                                URL\n",
              "0  In focus: Converting jack-up rigs and combinin...  ...  https://www.offshore-energy.biz/in-focus-conve...\n",
              "1   Murphy Oil’s giant FPS King’s Quay reaches Texas  ...  https://www.offshore-energy.biz/murphy-oils-gi...\n",
              "2                 Buzzing networking drinks at OEEC!  ...  https://www.offshore-energy.biz/buzzing-networ...\n",
              "3  Maersk, CCS team up on carbon-neutral technolo...  ...  https://www.offshore-energy.biz/maersk-china-c...\n",
              "4  Odfjell Drilling to bag $20 million from extra...  ...  https://www.offshore-energy.biz/odfjell-drilli...\n",
              "\n",
              "[5 rows x 4 columns]"
            ]
          },
          "metadata": {},
          "execution_count": 11
        }
      ]
    },
    {
      "cell_type": "code",
      "metadata": {
        "colab": {
          "base_uri": "https://localhost:8080/"
        },
        "id": "wy5cO_32Ky6e",
        "outputId": "6feddcd8-800c-42be-aefd-7840326ea74f"
      },
      "source": [
        "# More details about an article\n",
        "article_id = 4\n",
        "print(table.iloc[article_id])"
      ],
      "execution_count": 12,
      "outputs": [
        {
          "output_type": "stream",
          "name": "stdout",
          "text": [
            "Title    Odfjell Drilling to bag $20 million from extra...\n",
            "Date                                   September 27, 2021,\n",
            "Body     Norwegian energy giant Equinor has added an ad...\n",
            "URL      https://www.offshore-energy.biz/odfjell-drilli...\n",
            "Name: 4, dtype: object\n"
          ]
        }
      ]
    }
  ]
}