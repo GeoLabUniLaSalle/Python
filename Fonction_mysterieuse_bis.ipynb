{
  "nbformat": 4,
  "nbformat_minor": 0,
  "metadata": {
    "colab": {
      "name": "Fonction mysterieuse bis.ipynb",
      "provenance": [],
      "collapsed_sections": [],
      "authorship_tag": "ABX9TyPtKl9Mf6BOUPmCytuWIXSI",
      "include_colab_link": true
    },
    "kernelspec": {
      "name": "python3",
      "display_name": "Python 3"
    }
  },
  "cells": [
    {
      "cell_type": "markdown",
      "metadata": {
        "id": "view-in-github",
        "colab_type": "text"
      },
      "source": [
        "<a href=\"https://colab.research.google.com/github/GeoLabUniLaSalle/Python/blob/main/Fonction_mysterieuse_bis.ipynb\" target=\"_parent\"><img src=\"https://colab.research.google.com/assets/colab-badge.svg\" alt=\"Open In Colab\"/></a>"
      ]
    },
    {
      "cell_type": "markdown",
      "metadata": {
        "id": "R8kQ2CJh9aDY"
      },
      "source": [
        "## **Fonction mystérieuse bis ★★★**\n",
        "\n",
        "\n",
        "\n",
        "\n",
        "*Exercice disponible sur la plateforme TOSA : Battle Dev Hello Works - Novembre 2018 : https://www.isograd.com/FR/solutionconcours.php*\n",
        "\n",
        "\n",
        "\n",
        "**Objectif**\n",
        "\n",
        "\n",
        "Souvenez-vous, dans l'un des problèmes précédents, vous disposiez d'une fonction mystérieuse obtenue par interpolation linéaire, et vous vouliez savoir combien de fois elle atteignait la valeur N/2. Maintenant, vous appliquez la fonction plusieurs fois, ce qui, vous l'espérez, améliorera l'efficacité de votre contre-mesure cryptographique en mélangeant mieux l'intervalle [0,N]. La question est alors : combien de fois est-ce que la fonction itérée passe-t-elle par la valeur N/2. Pour éviter de nombreux cas particuliers, on va se limiter à des valeurs de N impaires.\n",
        "\n",
        "**Format des données**\n",
        "\n",
        "*Entrée*\n",
        "\n",
        "Ligne 1 : un entier impair N entre 1 et 99.\n",
        "\n",
        "Ligne 2 : N+1 entiers (et non N, attention !) séparés par des espaces, indiquant f(0), f(1), …, f(N) (f étant votre fonction).\n",
        "\n",
        "Ligne 3 : un entier k entre 1 et 1000, le nombre d'itérations.\n",
        "\n",
        "\n",
        "*Sortie*\n",
        "\n",
        "Les trois derniers chiffres (en base 10) du nombre d'entrées différentes comprises entre 0 et N pour lesquelles f itérée k fois vaut N/2.\n",
        "\n",
        "La raison pour laquelle on vous demande seulement les 3 derniers chiffres est que quand le nombre d'itérations k est grand, le nombre de points sur lesquels la fonction itérée vaut N/2 peut devenir très grand.\n",
        "\n",
        "*Exemple*\n",
        "\n",
        "Pour N=5, considérons la fonction qui vaut :\n",
        "f(0) = 0, f(1) = 2, f(2) = 4, f(3) = 3, f(4) = 2, f(5) = 1\n",
        "\n",
        "f elle-même atteint 2,5 deux fois, mais la fonction qui renvoie f(f(f(x))) sur l'entrée x, elle, atteint 2,5 cinq fois. Dans la figure ci-dessous, on a représenté f en rouge et f itérée trois fois en bleu.\n",
        "\n",
        "![Sans titre5.png](data:image/png;base64,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)\n",
        "\n",
        "Donc, sur l'entrée suivante :\n",
        "\n",
        "5\n",
        "0 2 4 3 2 1\n",
        "1\n",
        "\n",
        "votre code devra renvoyer 2, tandis que sur la suivante :\n",
        "\n",
        "5\n",
        "0 2 4 3 2 1\n",
        "3\n",
        "\n",
        "il devra renvoyer 5."
      ]
    },
    {
      "cell_type": "markdown",
      "metadata": {
        "id": "LaFrvPhE-Ezb"
      },
      "source": [
        "## **Données**\n",
        "\n",
        "*Accès aux données*"
      ]
    },
    {
      "cell_type": "code",
      "metadata": {
        "colab": {
          "base_uri": "https://localhost:8080/"
        },
        "id": "2HlpCu_r-aqr",
        "outputId": "fac57c25-b593-48a2-bc0a-0e945edbf551"
      },
      "source": [
        "import csv\n",
        "filedir = ('https://cours.unilasalle.fr/courses/SG4007/document/Exercices_Python/Fonction_mysterieuse_bis/')\n",
        "\n",
        "import ssl\n",
        "ssl._create_default_https_context = ssl._create_unverified_context\n",
        "\n",
        "import urllib.request\n",
        "\n",
        "for x in range(1,4):\n",
        "  f = urllib.request.urlopen(str(filedir+\"input\"+str(x)+\".txt\"))\n",
        "\n",
        "  data=[]\n",
        "  for i in f:\n",
        "      line=i.decode('utf-8').strip()\n",
        "      data.append(line)\n",
        "  print('Entrée',x,':',data)\n",
        "\n",
        "  f = urllib.request.urlopen(str(filedir+\"output\"+str(x)+\".txt\"))\n",
        "  for i in f:\n",
        "      line=i.decode('utf-8').strip()\n",
        "  print('Sortie',x,':',line,'\\n')"
      ],
      "execution_count": 1,
      "outputs": [
        {
          "output_type": "stream",
          "text": [
            "Entrée 1 : ['15', '13 14 3 9 13 9 4 15 9 15 13 14 13 13 2 13', '3']\n",
            "Sortie 1 : 132 \n",
            "\n",
            "Entrée 2 : ['45', '5 40 3 7 1 23 45 17 43 33 29 9 23 26 0 10 2 26 22 0 10 11 32 31 5 40 23 37 34 10 8 8 5 22 35 1 21 22 35 5 45 37 27 1 23 18', '10']\n",
            "Sortie 2 : 525 \n",
            "\n",
            "Entrée 3 : ['99', '42 72 42 68 95 45 41 77 64 70 45 32 22 19 15 16 28 51 77 87 9 42 93 95 49 49 76 55 41 33 2 83 31 37 0 77 18 54 42 56 35 31 15 0 68 5 15 91 24 83 62 13 69 67 20 71 54 85 61 54 9 19 7 69 48 80 25 93 55 73 39 66 81 55 65 0 20 98 69 90 15 80 20 29 50 67 75 53 27 40 1 8 59 88 13 94 74 24 2 39', '100']\n",
            "Sortie 3 : 449 \n",
            "\n"
          ],
          "name": "stdout"
        }
      ]
    }
  ]
}