{
  "nbformat": 4,
  "nbformat_minor": 0,
  "metadata": {
    "colab": {
      "name": "Manipuler les tableaux.ipynb",
      "provenance": [],
      "collapsed_sections": [],
      "authorship_tag": "ABX9TyObYQUIh1dzyNe0IVDqx20E",
      "include_colab_link": true
    },
    "kernelspec": {
      "name": "python3",
      "display_name": "Python 3"
    }
  },
  "cells": [
    {
      "cell_type": "markdown",
      "metadata": {
        "id": "view-in-github",
        "colab_type": "text"
      },
      "source": [
        "<a href=\"https://colab.research.google.com/github/GeoLabUniLaSalle/Python/blob/main/Manipuler_les_tableaux.ipynb\" target=\"_parent\"><img src=\"https://colab.research.google.com/assets/colab-badge.svg\" alt=\"Open In Colab\"/></a>"
      ]
    },
    {
      "cell_type": "markdown",
      "metadata": {
        "id": "f-mnoONfaOyo"
      },
      "source": [
        "## **Manipuler les tableaux**\n",
        "\n",
        "Dans ce chapitre, nous allons réaliser du calcul matriciel grâce au module NumPy qui permet de travailler avec des tableaux multidimensionnels/matrices.\n",
        "\n",
        "\n",
        "Commençons par importer le module NumPy.\n"
      ]
    },
    {
      "cell_type": "code",
      "metadata": {
        "id": "x9t7BBM0miUb"
      },
      "source": [
        "import numpy as np"
      ],
      "execution_count": null,
      "outputs": []
    },
    {
      "cell_type": "markdown",
      "metadata": {
        "id": "alBph7zvmozi"
      },
      "source": [
        "En cas d'erreur sur cette ligne, lancez l'installation du module numpy, redémarrez le noyau, puis re-exécutez l'import du module."
      ]
    },
    {
      "cell_type": "code",
      "metadata": {
        "id": "1hItzXWJmo-R"
      },
      "source": [
        "import sys  \n",
        "!{sys.executable} -m pip install --user numpy"
      ],
      "execution_count": null,
      "outputs": []
    },
    {
      "cell_type": "markdown",
      "metadata": {
        "id": "I0AaV5B9mid3"
      },
      "source": [
        "Créons un premier tableau à partir d'une liste."
      ]
    },
    {
      "cell_type": "code",
      "metadata": {
        "colab": {
          "base_uri": "https://localhost:8080/"
        },
        "id": "mdMnAWFDZy7U",
        "outputId": "dc961e3c-5526-4372-b8f4-e78cd6c43bff"
      },
      "source": [
        "a = np.arange(5, dtype=float)\n",
        "print(a)"
      ],
      "execution_count": null,
      "outputs": [
        {
          "output_type": "stream",
          "text": [
            "[0. 1. 2. 3. 4.]\n"
          ],
          "name": "stdout"
        }
      ]
    },
    {
      "cell_type": "markdown",
      "metadata": {
        "id": "E5Vq_j5umJsJ"
      },
      "source": [
        "En cas d'erreur sur ce bloc d'instructions, lancez l'installation du module matplotlib, redémarrez le noyau, puis re-exécutez la dernière cellule de code."
      ]
    },
    {
      "cell_type": "code",
      "metadata": {
        "id": "tl7Kd7yqmKMa"
      },
      "source": [
        ""
      ],
      "execution_count": null,
      "outputs": []
    },
    {
      "cell_type": "markdown",
      "metadata": {
        "id": "SrdwAgzqasKF"
      },
      "source": [
        "Réalisons maintenant quelques opérations basiques."
      ]
    },
    {
      "cell_type": "code",
      "metadata": {
        "colab": {
          "base_uri": "https://localhost:8080/"
        },
        "id": "oefoZeTmalL3",
        "outputId": "730649bd-a039-4f13-9624-b4b862f3c20e"
      },
      "source": [
        "print(a + 1)\n",
        "print(2 * a)\n",
        "print(a ** 2)\n",
        "print(a + a)\n",
        "print(a * a)"
      ],
      "execution_count": null,
      "outputs": [
        {
          "output_type": "stream",
          "text": [
            "[1. 2. 3. 4. 5.]\n",
            "[0. 2. 4. 6. 8.]\n",
            "[ 0.  1.  4.  9. 16.]\n",
            "[0. 2. 4. 6. 8.]\n",
            "[ 0.  1.  4.  9. 16.]\n"
          ],
          "name": "stdout"
        }
      ]
    },
    {
      "cell_type": "markdown",
      "metadata": {
        "id": "GHwuud9obHYA"
      },
      "source": [
        "Il est possible de réaliser des calculs avec les éléments de 2 tableaux."
      ]
    },
    {
      "cell_type": "code",
      "metadata": {
        "colab": {
          "base_uri": "https://localhost:8080/"
        },
        "id": "J6hQxN4ga4Fq",
        "outputId": "5baa40e8-f951-483d-ff4f-21ad6c6aa520"
      },
      "source": [
        "a = np.array([2, 4])\n",
        "b = np.array([7, 8])\n",
        "print(a/b)\n",
        "print(a//b)"
      ],
      "execution_count": null,
      "outputs": [
        {
          "output_type": "stream",
          "text": [
            "[0.28571429 0.5       ]\n",
            "[0 0]\n"
          ],
          "name": "stdout"
        }
      ]
    },
    {
      "cell_type": "markdown",
      "metadata": {
        "id": "0UC4sZaZbYwb"
      },
      "source": [
        "Construisons une matrice avec des éléments aléatoires compris entre 0 et 1 avec un tirage uniforme grâce au module random."
      ]
    },
    {
      "cell_type": "code",
      "metadata": {
        "colab": {
          "base_uri": "https://localhost:8080/"
        },
        "id": "mbzG7D67bLcx",
        "outputId": "3a5cf343-c6b4-4b90-f0d9-d162f4163a97"
      },
      "source": [
        "M = np.random.random_sample((3, 3))\n",
        "print(M)"
      ],
      "execution_count": null,
      "outputs": [
        {
          "output_type": "stream",
          "text": [
            "[[0.0967705  0.74950087 0.99089962]\n",
            " [0.74142837 0.68231353 0.61931616]\n",
            " [0.20591362 0.70852023 0.09888867]]\n"
          ],
          "name": "stdout"
        }
      ]
    },
    {
      "cell_type": "markdown",
      "metadata": {
        "id": "kgzyfu4-b90a"
      },
      "source": [
        "Construisons une nouvelle matrice contenant des éléments aléatoires compris entre 0 et 1 avec un tirage suivant une loi normale standard (gaussienne centrée normée)."
      ]
    },
    {
      "cell_type": "code",
      "metadata": {
        "colab": {
          "base_uri": "https://localhost:8080/"
        },
        "id": "LkOVs-89bhud",
        "outputId": "ece191ac-e79d-4484-ffdd-cab02fa69d21"
      },
      "source": [
        "M = np.random.standard_normal((3, 3))\n",
        "print(M)"
      ],
      "execution_count": null,
      "outputs": [
        {
          "output_type": "stream",
          "text": [
            "[[ 0.3754451  -0.45102459  0.2687735 ]\n",
            " [ 0.15052498 -1.72212515  0.39019252]\n",
            " [ 0.55040801  0.8833739   0.53934318]]\n"
          ],
          "name": "stdout"
        }
      ]
    },
    {
      "cell_type": "markdown",
      "metadata": {
        "id": "LDrt6SJTcWBz"
      },
      "source": [
        "Construisons une matrice remplie de 0."
      ]
    },
    {
      "cell_type": "code",
      "metadata": {
        "colab": {
          "base_uri": "https://localhost:8080/"
        },
        "id": "o4i_8TVCcQpb",
        "outputId": "c9f2c4b7-1dc1-4a90-f6d2-e9b4e4dc418c"
      },
      "source": [
        "A = np.zeros((2, 3))\n",
        "print(A)\n",
        "print(A.dtype)"
      ],
      "execution_count": null,
      "outputs": [
        {
          "output_type": "stream",
          "text": [
            "[[0. 0. 0.]\n",
            " [0. 0. 0.]]\n",
            "float64\n"
          ],
          "name": "stdout"
        }
      ]
    },
    {
      "cell_type": "markdown",
      "metadata": {
        "id": "jQmgGMbXcdWz"
      },
      "source": [
        "Construisons une matrice remplie de 0, de type entier."
      ]
    },
    {
      "cell_type": "code",
      "metadata": {
        "colab": {
          "base_uri": "https://localhost:8080/"
        },
        "id": "HTk67NzRcan2",
        "outputId": "fb625b6d-867b-47b4-a234-aac678bda5f9"
      },
      "source": [
        "A = np.zeros((2, 3), dtype=int)\n",
        "print(A)\n",
        "print(A.dtype)"
      ],
      "execution_count": null,
      "outputs": [
        {
          "output_type": "stream",
          "text": [
            "[[0 0 0]\n",
            " [0 0 0]]\n",
            "int64\n"
          ],
          "name": "stdout"
        }
      ]
    },
    {
      "cell_type": "markdown",
      "metadata": {
        "id": "H-uwz5ctcsyp"
      },
      "source": [
        "Construisons une matrice remplie de 1."
      ]
    },
    {
      "cell_type": "code",
      "metadata": {
        "colab": {
          "base_uri": "https://localhost:8080/"
        },
        "id": "-kde1Ddzco1h",
        "outputId": "844f76bd-08a2-4a05-c3b4-a7e27182c7e3"
      },
      "source": [
        "A = np.ones((3, 3))\n",
        "print(A)"
      ],
      "execution_count": null,
      "outputs": [
        {
          "output_type": "stream",
          "text": [
            "[[1. 1. 1.]\n",
            " [1. 1. 1.]\n",
            " [1. 1. 1.]]\n"
          ],
          "name": "stdout"
        }
      ]
    },
    {
      "cell_type": "markdown",
      "metadata": {
        "id": "Itk0WeSyc1_m"
      },
      "source": [
        "Construisons une matrice diagonale à partir d'une liste à une dimension."
      ]
    },
    {
      "cell_type": "code",
      "metadata": {
        "colab": {
          "base_uri": "https://localhost:8080/"
        },
        "id": "hGRIycs1cw43",
        "outputId": "334c648c-7b88-4796-fd1a-8c7dbd0857b8"
      },
      "source": [
        "D = np.diag([1, 2, 3])\n",
        "print(D)"
      ],
      "execution_count": null,
      "outputs": [
        {
          "output_type": "stream",
          "text": [
            "[[1 0 0]\n",
            " [0 2 0]\n",
            " [0 0 3]]\n"
          ],
          "name": "stdout"
        }
      ]
    },
    {
      "cell_type": "markdown",
      "metadata": {
        "id": "Fjo-nHA1c_Ht"
      },
      "source": [
        "Extrayons la diagonale d'une matrice."
      ]
    },
    {
      "cell_type": "code",
      "metadata": {
        "colab": {
          "base_uri": "https://localhost:8080/"
        },
        "id": "80G6JipMc75Y",
        "outputId": "504e00bf-bfe8-40cf-892d-c24d6c2d07b3"
      },
      "source": [
        "l = np.diag(D)\n",
        "print(l)\n",
        "print(type(l))"
      ],
      "execution_count": null,
      "outputs": [
        {
          "output_type": "stream",
          "text": [
            "[1 2 3]\n"
          ],
          "name": "stdout"
        }
      ]
    },
    {
      "cell_type": "markdown",
      "metadata": {
        "id": "-DNuIDEIdKzp"
      },
      "source": [
        "La diagonale est retournée sous la forme d'un tableau.\n",
        "\n",
        "Réalisons une nouvelle matrice."
      ]
    },
    {
      "cell_type": "code",
      "metadata": {
        "colab": {
          "base_uri": "https://localhost:8080/"
        },
        "id": "gWJ03FcOdHZX",
        "outputId": "ff07ab05-0a66-4bba-8e94-060bf480f364"
      },
      "source": [
        "l = []\n",
        "for m in range(4):\n",
        "  c = []\n",
        "  for n in range(4):\n",
        "    c.append(n+m*10)\n",
        "  l.append(c)\n",
        "A = np.array(l)\n",
        "print(A)"
      ],
      "execution_count": null,
      "outputs": [
        {
          "output_type": "stream",
          "text": [
            "[[ 0  1  2  3]\n",
            " [10 11 12 13]\n",
            " [20 21 22 23]\n",
            " [30 31 32 33]]\n"
          ],
          "name": "stdout"
        }
      ]
    },
    {
      "cell_type": "markdown",
      "metadata": {
        "id": "B19_O-_ldeys"
      },
      "source": [
        "Réalisons la transposée de cette matrice."
      ]
    },
    {
      "cell_type": "code",
      "metadata": {
        "colab": {
          "base_uri": "https://localhost:8080/"
        },
        "id": "Df9PQgCjdeJn",
        "outputId": "a6b57692-a79b-467d-b56f-e1ae496c6790"
      },
      "source": [
        "print(A.T)"
      ],
      "execution_count": null,
      "outputs": [
        {
          "output_type": "stream",
          "text": [
            "[[ 0 10 20 30]\n",
            " [ 1 11 21 31]\n",
            " [ 2 12 22 32]\n",
            " [ 3 13 23 33]]\n"
          ],
          "name": "stdout"
        }
      ]
    },
    {
      "cell_type": "markdown",
      "metadata": {
        "id": "wONpvcCTdnty"
      },
      "source": [
        "Réalisons la somme de cette matrice et de sa transposée."
      ]
    },
    {
      "cell_type": "code",
      "metadata": {
        "colab": {
          "base_uri": "https://localhost:8080/"
        },
        "id": "XZJ0nxIjdlHa",
        "outputId": "4cd2e17c-194e-47cd-85e7-20e5a6a23257"
      },
      "source": [
        "print(A+A.T)"
      ],
      "execution_count": null,
      "outputs": [
        {
          "output_type": "stream",
          "text": [
            "[[ 0 11 22 33]\n",
            " [11 22 33 44]\n",
            " [22 33 44 55]\n",
            " [33 44 55 66]]\n"
          ],
          "name": "stdout"
        }
      ]
    },
    {
      "cell_type": "markdown",
      "metadata": {
        "id": "_Lwoo060dsdi"
      },
      "source": [
        "Réalisons la trace (somme des éléments diagonaux) de la matrice A."
      ]
    },
    {
      "cell_type": "code",
      "metadata": {
        "colab": {
          "base_uri": "https://localhost:8080/"
        },
        "id": "se5cVdmadrwI",
        "outputId": "8a66f4f6-f4e9-45b4-f423-45d05065f363"
      },
      "source": [
        "print(np.trace(A))"
      ],
      "execution_count": null,
      "outputs": [
        {
          "output_type": "stream",
          "text": [
            "66\n"
          ],
          "name": "stdout"
        }
      ]
    },
    {
      "cell_type": "markdown",
      "metadata": {
        "id": "2ENZDv-heBLl"
      },
      "source": [
        "Réalisons la multiplication, élément par élément, de A par A."
      ]
    },
    {
      "cell_type": "code",
      "metadata": {
        "colab": {
          "base_uri": "https://localhost:8080/"
        },
        "id": "f5B9glfHd2tU",
        "outputId": "71c5c1a3-f330-4ff2-86b5-64f8cced33aa"
      },
      "source": [
        "print(A * A)"
      ],
      "execution_count": null,
      "outputs": [
        {
          "output_type": "stream",
          "text": [
            "[[   0    1    4    9]\n",
            " [ 100  121  144  169]\n",
            " [ 400  441  484  529]\n",
            " [ 900  961 1024 1089]]\n"
          ],
          "name": "stdout"
        }
      ]
    },
    {
      "cell_type": "markdown",
      "metadata": {
        "id": "kwDnmt8zeHQz"
      },
      "source": [
        "Réalisons le produit matriciel de A par A."
      ]
    },
    {
      "cell_type": "code",
      "metadata": {
        "colab": {
          "base_uri": "https://localhost:8080/"
        },
        "id": "dSGNEZkBeGVX",
        "outputId": "bf5b2c92-f751-4e94-9669-e5f6bec55272"
      },
      "source": [
        "print(np.dot(A, A))"
      ],
      "execution_count": null,
      "outputs": [
        {
          "output_type": "stream",
          "text": [
            "[[ 140  146  152  158]\n",
            " [ 740  786  832  878]\n",
            " [1340 1426 1512 1598]\n",
            " [1940 2066 2192 2318]]\n"
          ],
          "name": "stdout"
        }
      ]
    },
    {
      "cell_type": "markdown",
      "metadata": {
        "id": "S34WuePceV3z"
      },
      "source": [
        "Essayons de réaliser le produit de 2 matrices de dimensions différentes."
      ]
    },
    {
      "cell_type": "code",
      "metadata": {
        "colab": {
          "base_uri": "https://localhost:8080/",
          "height": 249
        },
        "id": "KROClri7eLpH",
        "outputId": "e65f7a6c-6e7e-4611-b474-024b58b7db51"
      },
      "source": [
        "v = np.array([1, 2, 3, 4, 5])\n",
        "print(v)\n",
        "print(np.dot(A, v))"
      ],
      "execution_count": null,
      "outputs": [
        {
          "output_type": "stream",
          "text": [
            "[1 2 3 4 5]\n"
          ],
          "name": "stdout"
        },
        {
          "output_type": "error",
          "ename": "ValueError",
          "evalue": "ignored",
          "traceback": [
            "\u001b[0;31m---------------------------------------------------------------------------\u001b[0m",
            "\u001b[0;31mValueError\u001b[0m                                Traceback (most recent call last)",
            "\u001b[0;32m<ipython-input-28-f7717f96fa0e>\u001b[0m in \u001b[0;36m<module>\u001b[0;34m()\u001b[0m\n\u001b[1;32m      1\u001b[0m \u001b[0mv\u001b[0m \u001b[0;34m=\u001b[0m \u001b[0mnp\u001b[0m\u001b[0;34m.\u001b[0m\u001b[0marray\u001b[0m\u001b[0;34m(\u001b[0m\u001b[0;34m[\u001b[0m\u001b[0;36m1\u001b[0m\u001b[0;34m,\u001b[0m \u001b[0;36m2\u001b[0m\u001b[0;34m,\u001b[0m \u001b[0;36m3\u001b[0m\u001b[0;34m,\u001b[0m \u001b[0;36m4\u001b[0m\u001b[0;34m,\u001b[0m \u001b[0;36m5\u001b[0m\u001b[0;34m]\u001b[0m\u001b[0;34m)\u001b[0m\u001b[0;34m\u001b[0m\u001b[0;34m\u001b[0m\u001b[0m\n\u001b[1;32m      2\u001b[0m \u001b[0mprint\u001b[0m\u001b[0;34m(\u001b[0m\u001b[0mv\u001b[0m\u001b[0;34m)\u001b[0m\u001b[0;34m\u001b[0m\u001b[0;34m\u001b[0m\u001b[0m\n\u001b[0;32m----> 3\u001b[0;31m \u001b[0mprint\u001b[0m\u001b[0;34m(\u001b[0m\u001b[0mnp\u001b[0m\u001b[0;34m.\u001b[0m\u001b[0mdot\u001b[0m\u001b[0;34m(\u001b[0m\u001b[0mA\u001b[0m\u001b[0;34m,\u001b[0m \u001b[0mv\u001b[0m\u001b[0;34m)\u001b[0m\u001b[0;34m)\u001b[0m\u001b[0;34m\u001b[0m\u001b[0;34m\u001b[0m\u001b[0m\n\u001b[0m",
            "\u001b[0;32m<__array_function__ internals>\u001b[0m in \u001b[0;36mdot\u001b[0;34m(*args, **kwargs)\u001b[0m\n",
            "\u001b[0;31mValueError\u001b[0m: shapes (4,4) and (5,) not aligned: 4 (dim 1) != 5 (dim 0)"
          ]
        }
      ]
    },
    {
      "cell_type": "markdown",
      "metadata": {
        "id": "ti-EpZIWeegb"
      },
      "source": [
        "Cette opération est impossible parce que la matrice v est incompatible avec la matrice A (elle contient 5 éléments).\n",
        "\n",
        "Rendons la matrice v compatible pour réaliser le produit matriciel de A par v."
      ]
    },
    {
      "cell_type": "code",
      "metadata": {
        "colab": {
          "base_uri": "https://localhost:8080/"
        },
        "id": "y8W3WUOpedzO",
        "outputId": "307a9826-9a31-4c49-d4fb-5a1ef0ca6bfd"
      },
      "source": [
        "print(np.dot(A, v[:4]))"
      ],
      "execution_count": null,
      "outputs": [
        {
          "output_type": "stream",
          "text": [
            "[ 20 120 220 320]\n"
          ],
          "name": "stdout"
        }
      ]
    },
    {
      "cell_type": "markdown",
      "metadata": {
        "id": "uXui6ObWe0wP"
      },
      "source": [
        "Inversons une matrice aléatoire B."
      ]
    },
    {
      "cell_type": "code",
      "metadata": {
        "colab": {
          "base_uri": "https://localhost:8080/"
        },
        "id": "VT46o9fFe2z6",
        "outputId": "4b4f8728-cc96-45ed-8bac-2bd32284860a"
      },
      "source": [
        "B = np.random.standard_normal((3, 3))\n",
        "print(B)\n",
        "inv = np.linalg.inv(B)\n",
        "print(inv)"
      ],
      "execution_count": null,
      "outputs": [
        {
          "output_type": "stream",
          "text": [
            "[[-1.40792954  0.07016109  1.28598934]\n",
            " [-0.17353153  0.18019434  0.17469442]\n",
            " [ 1.76972955 -1.07579654  0.71176396]]\n",
            "[[-0.5406463   2.45092917  0.37526728]\n",
            " [-0.73981857  5.60489662 -0.03898118]\n",
            " [ 0.22606298  2.37753909  0.41297764]]\n"
          ],
          "name": "stdout"
        }
      ]
    },
    {
      "cell_type": "markdown",
      "metadata": {
        "id": "lmAH8hu5fVvD"
      },
      "source": [
        "Réalisons enfin le produit de B par son inverse pour retrouver la matrice identité (aux erreurs d'arrondis près)."
      ]
    },
    {
      "cell_type": "code",
      "metadata": {
        "colab": {
          "base_uri": "https://localhost:8080/"
        },
        "id": "eASd5HkFewGj",
        "outputId": "7c99e6dc-5db2-4953-982e-b0c8b638adf5"
      },
      "source": [
        "print(np.dot(B, inv))"
      ],
      "execution_count": null,
      "outputs": [
        {
          "output_type": "stream",
          "text": [
            "[[ 1.00000000e+00 -8.61196386e-16 -1.90023439e-17]\n",
            " [-2.12753324e-19  1.00000000e+00 -3.22534676e-17]\n",
            " [-7.69506246e-17  4.96751135e-17  1.00000000e+00]]\n"
          ],
          "name": "stdout"
        }
      ]
    }
  ]
}