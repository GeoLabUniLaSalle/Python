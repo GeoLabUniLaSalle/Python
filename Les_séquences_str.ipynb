{
  "nbformat": 4,
  "nbformat_minor": 0,
  "metadata": {
    "colab": {
      "name": "Les séquences : str.ipynb",
      "provenance": [],
      "collapsed_sections": [],
      "authorship_tag": "ABX9TyMfob+F3RPR+ZfIoI9Di26V",
      "include_colab_link": true
    },
    "kernelspec": {
      "name": "python3",
      "display_name": "Python 3"
    }
  },
  "cells": [
    {
      "cell_type": "markdown",
      "metadata": {
        "id": "view-in-github",
        "colab_type": "text"
      },
      "source": [
        "<a href=\"https://colab.research.google.com/github/GeoLabUniLaSalle/Python/blob/main/Les_s%C3%A9quences_str.ipynb\" target=\"_parent\"><img src=\"https://colab.research.google.com/assets/colab-badge.svg\" alt=\"Open In Colab\"/></a>"
      ]
    },
    {
      "cell_type": "markdown",
      "metadata": {
        "id": "z-SWyES1GTPV"
      },
      "source": [
        "# **Les séquences : str**\n",
        "\n",
        "Dans ce chapitre, nous allons étudier le fonctionnement des séquences, et plus particulièrement du type str (chaîne de caractères).\n",
        "\n",
        "Les str sont des **séquences** d'objets **immuables** **homogènes**. On dit que le type str est homogène parce que tous les objets de la séquence sont de même type (caractères Unicode).\n",
        "\n",
        "Commençons par créer un variable de type chaîne de caractères et vérifions son type."
      ]
    },
    {
      "cell_type": "code",
      "metadata": {
        "colab": {
          "base_uri": "https://localhost:8080/"
        },
        "id": "OBLlLyYmGLW8",
        "outputId": "de9af587-ed43-42ce-b8ef-49acb30bb918"
      },
      "source": [
        "s = 'hello, world !'\n",
        "type(s)"
      ],
      "execution_count": 1,
      "outputs": [
        {
          "output_type": "execute_result",
          "data": {
            "text/plain": [
              "str"
            ]
          },
          "metadata": {
            "tags": []
          },
          "execution_count": 1
        }
      ]
    },
    {
      "cell_type": "markdown",
      "metadata": {
        "id": "xi6YzvYvGxGP"
      },
      "source": [
        "Le type de s est str (chaîne de caractères). Le typage a été réalisé de manière dynamique, cf. chapitre sur le [typage dynamique](https://mybinder.org/v2/gh/GeoLabUniLaSalle/Python/HEAD?filepath=Typage_dynamique.ipynb).\n",
        "\n",
        "Voici une représentation du contenu de s :\n",
        "![Capture d’écran 2021-01-13 à 15.25.11.png](data:image/png;base64,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)\n",
        "\n",
        "s est une **séquence**, et les séquences peuvent être représentées comme un tableau. Ici nous aurons un tableau de 14 cases (parce qu'il y a 14 caractères dans 'hello, world !\"), numérotées de 0 à 13.\n",
        "\n",
        "Voila comment accéder au contenu d'une case à partir de son numéro/indice."
      ]
    },
    {
      "cell_type": "code",
      "metadata": {
        "colab": {
          "base_uri": "https://localhost:8080/"
        },
        "id": "Qz3gAYa-GwPu",
        "outputId": "4ab07ce3-5fe3-48bb-ade0-572fb99062bf"
      },
      "source": [
        "print(s[0])\n",
        "print(s[13])"
      ],
      "execution_count": 4,
      "outputs": [
        {
          "output_type": "stream",
          "text": [
            "h\n",
            "!\n"
          ],
          "name": "stdout"
        }
      ]
    },
    {
      "cell_type": "markdown",
      "metadata": {
        "id": "gtOLUTrVKK9W"
      },
      "source": [
        "On dit que les str son **immuables** parce qu'il est impossible de modifier directement l'un des objets qui le compose :"
      ]
    },
    {
      "cell_type": "code",
      "metadata": {
        "colab": {
          "base_uri": "https://localhost:8080/",
          "height": 164
        },
        "id": "6ehyFtwdJWmz",
        "outputId": "daa50446-03e3-48cc-891e-86a9481ccd70"
      },
      "source": [
        "s[4] = 'a'"
      ],
      "execution_count": 5,
      "outputs": [
        {
          "output_type": "error",
          "ename": "TypeError",
          "evalue": "ignored",
          "traceback": [
            "\u001b[0;31m---------------------------------------------------------------------------\u001b[0m",
            "\u001b[0;31mTypeError\u001b[0m                                 Traceback (most recent call last)",
            "\u001b[0;32m<ipython-input-5-87c961ec5e61>\u001b[0m in \u001b[0;36m<module>\u001b[0;34m()\u001b[0m\n\u001b[0;32m----> 1\u001b[0;31m \u001b[0ms\u001b[0m\u001b[0;34m[\u001b[0m\u001b[0;36m4\u001b[0m\u001b[0;34m]\u001b[0m \u001b[0;34m=\u001b[0m \u001b[0;34m'a'\u001b[0m\u001b[0;34m\u001b[0m\u001b[0;34m\u001b[0m\u001b[0m\n\u001b[0m",
            "\u001b[0;31mTypeError\u001b[0m: 'str' object does not support item assignment"
          ]
        }
      ]
    },
    {
      "cell_type": "markdown",
      "metadata": {
        "id": "-AHX9HqUK0ky"
      },
      "source": [
        "Voici quelques opérateurs pour le type str :"
      ]
    },
    {
      "cell_type": "code",
      "metadata": {
        "colab": {
          "base_uri": "https://localhost:8080/"
        },
        "id": "5A85JaRAKn08",
        "outputId": "1765e0b5-3ba0-4a39-a579-2ecc5f176583"
      },
      "source": [
        "print(s + ' bonsoir') # concaténation\n",
        "print(s*3) # Réptition de la séquence"
      ],
      "execution_count": 8,
      "outputs": [
        {
          "output_type": "stream",
          "text": [
            "hello, world ! bonsoir\n",
            "hello, world !hello, world !hello, world !\n"
          ],
          "name": "stdout"
        }
      ]
    },
    {
      "cell_type": "markdown",
      "metadata": {
        "id": "0wTUGbcULLO7"
      },
      "source": [
        "Et voici quelques fonctions indispensables :"
      ]
    },
    {
      "cell_type": "code",
      "metadata": {
        "colab": {
          "base_uri": "https://localhost:8080/"
        },
        "id": "1Az0aj3ZK84-",
        "outputId": "c6276ada-b24f-4f5c-bc73-b1a6ef3580da"
      },
      "source": [
        "print(len(s))\n",
        "print(min(s)) # Ici, le caractère ayant le code ASCII le plus petit est le caractère ' ' (espace)\n",
        "print(max(s))"
      ],
      "execution_count": 11,
      "outputs": [
        {
          "output_type": "stream",
          "text": [
            "14\n",
            " \n",
            "w\n"
          ],
          "name": "stdout"
        }
      ]
    },
    {
      "cell_type": "markdown",
      "metadata": {
        "id": "o9mQmDCFLz6d"
      },
      "source": [
        "Plusieurs fonctions de recherche peuvent aussi être utiles :"
      ]
    },
    {
      "cell_type": "code",
      "metadata": {
        "colab": {
          "base_uri": "https://localhost:8080/"
        },
        "id": "0oG8EOgDLbeL",
        "outputId": "b4a8c587-57f3-45a0-a8eb-658fb6f3c7f8"
      },
      "source": [
        "print('w' in s)\n",
        "print('a' in s)"
      ],
      "execution_count": 12,
      "outputs": [
        {
          "output_type": "stream",
          "text": [
            "True\n",
            "False\n"
          ],
          "name": "stdout"
        }
      ]
    },
    {
      "cell_type": "markdown",
      "metadata": {
        "id": "4vuZAskoMBqZ"
      },
      "source": [
        "Le caractère 'w' est présent au moins une fois dans 'hello, **w**orld' : 'w' in s retourne True. Le caractère 'a' est, lui, absent et la recherche retourne donc False.\n",
        "\n",
        "Le type str permet également de chercher la première occurence d'une lettre ou d'un mot dans une chaîne de caractères, par la méthode index qui retourne l'indice de la première case contenant cette lettre/ce mot :"
      ]
    },
    {
      "cell_type": "code",
      "metadata": {
        "colab": {
          "base_uri": "https://localhost:8080/"
        },
        "id": "FyJklLU3MAm4",
        "outputId": "2dc00d48-2ee4-40eb-cc65-3caadbbb8ad0"
      },
      "source": [
        "print(s.index('o'))\n",
        "print(s.index('wor'))"
      ],
      "execution_count": 17,
      "outputs": [
        {
          "output_type": "stream",
          "text": [
            "4\n",
            "7\n"
          ],
          "name": "stdout"
        }
      ]
    },
    {
      "cell_type": "markdown",
      "metadata": {
        "id": "nOKFuF2NM-UQ"
      },
      "source": [
        "Il est enfin possible de compter le nombre d'occurences d'une lettre ou d'un mot dans une chaîne de caractères avec la méthode count :"
      ]
    },
    {
      "cell_type": "code",
      "metadata": {
        "colab": {
          "base_uri": "https://localhost:8080/"
        },
        "id": "POMgWYX0MghE",
        "outputId": "ad17318e-752e-4fc4-ecbe-7a0669cdecab"
      },
      "source": [
        "s.count('l')"
      ],
      "execution_count": 18,
      "outputs": [
        {
          "output_type": "execute_result",
          "data": {
            "text/plain": [
              "3"
            ]
          },
          "metadata": {
            "tags": []
          },
          "execution_count": 18
        }
      ]
    },
    {
      "cell_type": "code",
      "metadata": {
        "id": "vCRkidXSNM_F"
      },
      "source": [
        ""
      ],
      "execution_count": null,
      "outputs": []
    }
  ]
}