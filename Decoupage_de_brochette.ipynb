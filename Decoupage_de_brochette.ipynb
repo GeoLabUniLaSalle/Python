{
  "nbformat": 4,
  "nbformat_minor": 0,
  "metadata": {
    "colab": {
      "name": "Decoupage de brochette.ipynb",
      "provenance": [],
      "collapsed_sections": [],
      "authorship_tag": "ABX9TyMOE3h2mR84KxwIJxHW7ymu",
      "include_colab_link": true
    },
    "kernelspec": {
      "name": "python3",
      "display_name": "Python 3"
    }
  },
  "cells": [
    {
      "cell_type": "markdown",
      "metadata": {
        "id": "view-in-github",
        "colab_type": "text"
      },
      "source": [
        "<a href=\"https://colab.research.google.com/github/GeoLabUniLaSalle/Python/blob/main/Decoupage_de_brochette.ipynb\" target=\"_parent\"><img src=\"https://colab.research.google.com/assets/colab-badge.svg\" alt=\"Open In Colab\"/></a>"
      ]
    },
    {
      "cell_type": "markdown",
      "metadata": {
        "id": "R8kQ2CJh9aDY"
      },
      "source": [
        "## **Découpage de brochette ★★★**\n",
        "\n",
        "\n",
        "\n",
        "\n",
        "*Exercice disponible sur la plateforme TOSA : Battle Dev Hello Works - Mars 2020 : https://www.isograd.com/FR/solutionconcours.php*\n",
        "\n",
        "\n",
        "\n",
        "**Objectif**\n",
        "\n",
        "\n",
        "Pour votre prochain barbecue géant, vous avez prévu de cuisiner une brochette géante à partager entre tous vos invités.\n",
        "\n",
        "De nombreux ingrédients sont présents sur la brochette, et pour des raisons d'esthétique vous souhaitez découper la brochette en plusieurs sous-parties dont les ingrédients seront symétriques.\n",
        "\n",
        "La taille des parts vous importe peu, mais vous avez horreur du gaspillage alimentaire : votre découpage devra donc produire exactement une part pour chaque invité, et l'intégralité de votre brochette devra être utilisée.\n",
        "\n",
        "\n",
        "\n",
        "\n",
        "**Format des données**\n",
        "\n",
        "*Entrée*\n",
        "\n",
        "Ligne 1 : deux entiers séparés par un espace, N la taille de la brochette géante comprise entre 1 et 10 000, et K le nombre d'invités compris entre 1 et 500.\n",
        "Ligne 2 : une chaîne de N lettres minuscules représentant les ingrédients de la brochette.\n",
        "\n",
        "*Sortie*\n",
        "\n",
        "- S'il est possible de découper la chaîne en une série de K palindromes, renvoyez une découpe possible sur une ligne, en séparant les parts par des espaces. Pour en savoir plus sur les palindromes : https://fr.wikipedia.org/wiki/Palindrome\n",
        "- Sinon, renvoyez IMPOSSIBLE\n",
        "\n",
        "\n",
        "*Commentaires*\n",
        "\n",
        "- Il est garanti qu'il y aura au maximum 100 000 parts valides dans une brochette donnée.\n",
        "- Une part contenant un seul ingrédient est un palindrome valide.\n",
        "\n",
        "Exemple 1\n",
        "\n",
        "Pour l'entrée suivante:\n",
        "\n",
        "24 10\n",
        "\n",
        "uvxuuxvvhikinwnjponopjfd\n",
        "\n",
        "Une sortie possible est :\n",
        "\n",
        "u v xuux vv h iki nwn jponopj f d\n",
        "\n",
        "Exemple 2\n",
        "\n",
        "Pour l'entrée suivante :\n",
        "\n",
        "6 3\n",
        "\n",
        "abacdc\n",
        "\n",
        "La sortie attendue est :\n",
        "\n",
        "IMPOSSIBLE\n",
        "\n",
        "En effet, il existe des solutions de 2, 4 ou 6 parts, mais aucune pour 3 invités."
      ]
    },
    {
      "cell_type": "markdown",
      "metadata": {
        "id": "LaFrvPhE-Ezb"
      },
      "source": [
        "## **Données**\n",
        "\n",
        "*Accès aux données*"
      ]
    },
    {
      "cell_type": "code",
      "metadata": {
        "colab": {
          "base_uri": "https://localhost:8080/"
        },
        "id": "2HlpCu_r-aqr",
        "outputId": "776b1185-8583-4a6c-c6cb-84a5aa1145d1"
      },
      "source": [
        "import csv\n",
        "filedir = ('https://cours.unilasalle.fr/courses/SG4007/document/Exercices_Python/Decoupage_de_brochette/')\n",
        "\n",
        "import ssl\n",
        "ssl._create_default_https_context = ssl._create_unverified_context\n",
        "\n",
        "import urllib.request\n",
        "\n",
        "for x in range(1,5):\n",
        "  f = urllib.request.urlopen(str(filedir+\"input\"+str(x)+\".txt\"))\n",
        "\n",
        "  data=[]\n",
        "  for i in f:\n",
        "      line=i.decode('utf-8').strip()\n",
        "      data.append(line)\n",
        "  print('Entrée',x,':',data)\n",
        "\n",
        "  f = urllib.request.urlopen(str(filedir+\"output\"+str(x)+\".txt\"))\n",
        "  for i in f:\n",
        "      line=i.decode('utf-8').strip()\n",
        "  print('Sortie',x,':',line,'\\n')"
      ],
      "execution_count": null,
      "outputs": [
        {
          "output_type": "stream",
          "text": [
            "Entrée 1 : ['24 10', 'uvxuuxvvhikinwnjponopjfd']\n",
            "Sortie 1 : u v xuux vv h iki nwn jponopj f d \n",
            "\n",
            "Entrée 2 : ['6 3', 'abacdc']\n",
            "Sortie 2 : IMPOSSIBLE \n",
            "\n",
            "Entrée 3 : ['5000 198', 'pfnyfltnlplvyuzccyqyxryhpkzipekqhsmsstbmpygqafmzisccfccsizmfaqqqqafmzisccfccsizmfaqgywwvwwygqafmzisccfccsizmfaqqqqddddqqqqafmzisccfccsizmzzlzzmzisccfccsizmfaqqqqddddqqqqafmiiiiimfaqqqqddddssssssddddqqqqafmiiiiimfaqqqqddddqqqqafmzisccnrmfmrnccsizmfaqqqqddddqqqqafmiiiiimfaqxxxnxxnxxxqafmiiiiimfaqqqqddddqqjjmjjqqdssssssdqqjjmjjqrrrrdrrrrqjjmjjhhhhhhhhjjmjjqrrrrdrrrruuuauuurrrrdrrrrqjjmjjhhhhhhhhjjmjjqrrrrdrrrnnnnnnnnnnrrrdrrrrqjjmjjhhhkkklkkkhhhjjmjjqrrrrdrrrnnnnnnnnnnrrrdrrkkkkrrdrrrnnnnnnnnnnrrrdrrrrqjttttjqrrrrdrrrnnnnnnnnnaaaannnnnnnnnrddddtddddrnnnnnnnnnaaypppzpppyaannnmiiiriiimnnnaaypppzpppyaannnnnbbbbbbnnnnnaaypppzpppyaannnmiiiriwwwwwwiriiimnnoohqhoonnmiiiriwwwwwwiriiimnnnaaypppzvvivvzpppyvvrvvypppzvvivvzpppyaannnmiiiriwwwwwwiccecciwwwwwwiriiimnnnaaypppzvvivvzppuuujuuuppzvvivvzpppyaannnmiiirwwwwywwwwriiimnnnaaypppzvvivvzppuuujuuuzzzzzqzzzzzuuujuuuppzvvivvzpppyaannnmiiirwwwwppppppppppwwwwriiimnnnaaypppzvvivvzppuxkxxxxxxkxuppppdppppqqbqqppppdppppuxkxxxxxxkxuppzvvjjjjhjjjjvvzppuxkxxxxxxkxuggpgguxkxxxxxxkxuppzvvjjjjhjjjjvvzppuxxxxxxxxxxxxuppzvvjjjjhjttttvttttjhjjjjvvztttztttzvvjjjjhjttttvttttjhjjjjvvzppummmmymmmmuppzvvjjjjhjttttvttttrrsrrttttvttttjhjjjjvvzppummmmymmmmuppyyygyyyppuffffuppyyygyyyppummmbbbbmmmuppyyygyyyppwwwiwwwppyyygyyyppummmbbbbmmmiiiifiiiimmmbbbbmbbbqbbbmbbbbmmmiiiifiiiimmmvvvvvvvvmmmikikikikimmmvvvvvvvvmmmiiiifiiiffffzffffiiifieeeeeeeeifiiiffffzffffiiooooxooooiiffffzffffiiifieeeuquuqueeeifiiiffffzffffiiooooxooooiiffqqqqqfqqqqqffiiooooxooooiiffffzffffiiifieelulwhwluleeifiiiffffzffeeedeeeffzffffiiifieelulwvvvvvvvvwluleeifiiifffffgfffffiiifieelulwvvvffffeffffvvvwluleeifiiiffuuuuffiiifieelulwvvvffffeffffvvvwlulebbbbbbbbelulwvvvffffeffffviiiiiiiivffffeffffpppppdpppppffffeffffviiiiiiiddddhddddiiiiiiivffffeffffpppppdpppppffeeeeeeeeffpppppdfzvzfdpppppffeeeeeeeeffpppppdpppppffffeaawaaeeemeeeaawaaeffffpppppdpppppffeeeeeeepppppdpppppeeeeeeeffpppppdpppppffffvffffpppppdpppppffeeekzzkeeeffppppmvmmvmppppffeeekzzkeeeffpppppdppphhhhzhhhhpppdpppppffeeekzzkeeeffppppmvmmvmpprrrrrrrrppmvmmvmppppffeeekzzkeeeffpppppdwwwowowwwdpppppffexxxxxqxxxxxeffpppqqqqzqqqqpppffexxxxxqxxxxxeffpppppdwwwfkkfwwwdpppppffexxxxxqzzszzqxxxxxeffpppppdwwwfkkfwwwwwwwwwwwwwwfkkfwwwdpppppffexxxxxqzzszzqxxggjggggjggxxqzzszzqxxxxxvvvvsvvvvxxxxxqzzszzqxxggjggggjggxxqztttttttzqxxggjggggjggxxxxxoxxxxxggjggggjggxxqztttttttzqxxfxxqztttttttzqxxggzzzczzzggxxqztttttttzqxxfxxqztttttyyygyyytttttzqxxfxxqzuuuuuuzqxxllllllxxqzuuuuuuzqffffiffffqzuuuuuuzqxxllllllxxqzuuuuuuzqxxfxxqbbsbbsbbqxxfxxqzuuuuuuzqxxllllllxxqzuuuuuuzrrrnrrrzuuuuuuzqxxllllllxxccccccccccxmmmmxccccccccccxxllllllxxqzuuuuuuzrrrnrrrdddfdddrrrnrrraaaaalaaaaarrrpppoppprrraaaaalaaaaarrrnaaaagaaaanrrrccctcccrrrnaaaagaaaanrrraaaaalaaaaarrrnnnnrrraaaaalxxxxxxxxxxlaaaaarrrnnnnnpnnnnnrrraaaaalxxxxffffkffffxxxxlaaaaarrrnnnnnpnnnnnrrraaaaalxxxxxeeeneeexxxxxlhhheccehhhlxxxxxeeeneeexxxllllxxxeeeneeexxxxxlhhheccesswsseccehhhlxxxxxeeenennnnnjnnnnneneeexxxxxlhhhecciiiiiiiiiiccehhpppphhecciiiiiiiiiicuuuuuruuuuuciiiiiiiiiiccehhpppphhecciiiijjjvjjjiiiiccehttgtthecciiiijjjvjjjiiiiccehhpppphhecciiiiiiiffllllffiiiiiiiccehhpppphhecciiiijjjvjjjiooiooijjjvjjjiiijjjjjjjjiiijjjvjjjioffiffoijjjvjjjiiijjjjjjjjiiijjjvjjjiooiooeeeeooiooijjjvjjjiiijjjjjjjjiiijjjvjjjittittijjjttdttjjjittittijjjvjjjiiijjjjjoooookooooojjjjjiiijjjvjjjittittijjjttdttjjjittiqqtqqittijjjttdttjjjittittijjjvjkxxkjvjjjittittijjjttdttjjjittiqjjjjjjjjqittijjjttdttjjjittittijjjvjkxxkjvjeeeeeyeeeeejvjkxxkjvjjjittittijjjttdttjjjittiqjabbjbbajqittijjjttdttjjjitbbbbbbtijjjttdttjjyyyjyyyjjttdttjjjitbbbbbbtiffffcffffitbbbbbbtijjjttaaajaaattjjjitbbbbbbtiffffcmmmmwmmmmcffffitbbbbbbtijjjttaaajallxotoxllajaaattjaaaalaaaajssssfssssjoonoonoojssssfssssjaaaalaaaajttaaajallxotoxllajakkkkajallxotoxllajaaattjaaaalaaaajssssfssssxxnxxssssfssssjaaaaiiiiiiaaaajssssfssssxxnxxssssfssssjaaaaeeeeeeaaaajssssfssssxxnxxssssfssssjaaaaaaaaaajssccccrccccsqqeqqsccaaaaaaaaccsqqeqqsccccrccccssjaaaaaaaaaajssssfshhhhhhhhhhsfssssjaaaaaaaaaajsscchhhzhhhccssjaaaaaaaaaajssssfshhhhhhhhhhsfsttttggttttsfddddddfsuuuuseeeesuuuusfddddddfstfffffffftsfddddddfsuuuuseeeesuuuusfddddddfstttlllllllltttsfddddddfsuuuuddddbdddduuuusfdddiiiiiyiiiiidddfsuuuuddddbdddduuuusfddddddfstttrrrrrrtttsfddddddfsuuuuddddbdddduhhhjhhhuddddbdddduuuusfdddddduuuuuuuuddddddfsuuuuddddbdddduhhhjhhhurrryrrruhhhjhhhuddddbdddduuuusbbbbbbbbbbsuuuueeedeeeubbbbbbueennnnnnnneeubbbbzzzzzzzzbbbbueennnnnnnneeubbbbbbueegggggsgggggeeubbbbbbuzzzzzzubbbbbbueegggggsgggggeeubbbbbbueennnhttttutttthnnneeubbbbbbueegggggcccttcccgggggeeubbbbbssssbbbbbueeggkkkkkkggeeubbbbbzzwzzbbbbbueeggkkkkkkggeeuffffffueeggkkkkeeeeebeeeeekkkkggeeuffffffueeggkkkkkkggeeubbbbyyyyysyyyyybbbbueooonoooeubbbbyyyvvvvyvvvvyyybbbbueooonoooeubbbbyyyyuuuuuuuuuuyyyybbbbueooonoooeubbbbyymmfmmyynnvvcvvnnyymmfmmyybbbbueooonoooeubbbbyyyyuuuuuullllqlllluuuuuuyyyybbbbuhhohhohhubbbbyyyyuuuuuullllqlllluuuuaaaaayaaaaauuuulllttttttttllluuuurrnnnnnnrruuuulllttttttttlllhhhhhhhhhhlllttttttttllluuuurrnnnnbwwwhwwwbnnnnrruuuulllttttttttlllhhhhhhhhhhllzzzzllhhhhhhhhhhllltttttttaacaattttt']\n",
            "Sortie 3 : p f n y f l t n lpl v y u z cc yqy x r y h p k z i p e k q h sms s t b m p y g qafmzisccfccsizmfaq qqqafmzisccfccsizmfaqgywwvwwygqafmzisccfccsizmfaqqq qddddqqqqafmzisccfccsizmzzlzzmzisccfccsizmfaqqqqddddq qqqafmiiiiimfaqqqqddddssssssddddqqqqafmiiiiimfaqqq qddddqqqqafmzisccnrmfmrnccsizmfaqqqqddddq qqqafmiiiiimfaqxxxnxxnxxxqafmiiiiimfaqqq qddddq qjjmjjqqdssssssdqqjjmjjq r rrrdrrrrqjjmjjhhhhhhhhjjmjjqrrrrdrrrruuuauuurrrrdrrrrqjjmjjhhhhhhhhjjmjjqrrrrdrrr nnnnnnnnnnrrrdrrrrqjjmjjhhhkkklkkkhhhjjmjjqrrrrdrrrnnnnnnnnnn rrrdrrkkkkrrdrrr n nnnnnnnnnrrrdrrrrqjttttjqrrrrdrrrnnnnnnnnn aa aannnnnnnnnrddddtddddrnnnnnnnnnaa ypppzpppyaannnmiiiriiimnnnaaypppzpppy aannnnnbbbbbbnnnnnaa ypppzpppy aannnmiiiriwwwwwwiriiimnnoohqhoonnmiiiriwwwwwwiriiimnnnaa ypppzvvivvzpppyvvrvvypppzvvivvzpppy aannnmiiiriwwwwwwiccecciwwwwwwiriiimnnnaa ypppzvvivvzppuuujuuuppzvvivvzpppy aannnmiiirwwwwywwwwriiimnnnaa ypppzvvivvzppuuujuuuzzzzzqzzzzzuuujuuuppzvvivvzpppy aannnmiiirwwwwppppppppppwwwwriiimnnnaa y p ppzvvivvzpp uxkxxxxxxkxuppppdppppqqbqqppppdppppuxkxxxxxxkxu ppzvvjjjjhjjjjvvzppuxkxxxxxxkxuggpgguxkxxxxxxkxuppzvvjjjjhjjjjvvzpp uxxxxxxxxxxxxu ppzvvjjjjhjttttvttttjhjjjjvvztttztttzvvjjjjhjttttvttttjhjjjjvvzpp ummmmymmmmuppzvvjjjjhjttttvttttrrsrrttttvttttjhjjjjvvzppummmmymmmmu ppyyygyyyppuffffuppyyygyyypp u mmmbbbbmmmuppyyygyyyppwwwiwwwppyyygyyyppummmbbbbmmm iiiifiiiimmmbbbbmbbbqbbbmbbbbmmmiiiifiiii mmmvvvvvvvvmmmikikikikimmmvvvvvvvvmmm iii ifiiiffffzffffiiifi eeeeee eeifiiiffffzffffiiooooxooooiiffffzffffiiifiee euquuque eeifiiiffffzffffiiooooxooooiiffqqqqqfqqqqqffiiooooxooooiiffffzffffiiifiee lulwhwlul eeifiiiffffzffeeedeeeffzffffiiifiee lul w vvvvv vvvwluleeifiiifffffgfffffiiifieelulwvvv ffffeffffvvvwluleeifiiiffuuuuffiiifieelulwvvvffffeffff vvvwlulebbbbbbbbelulwvvv ffffeffffviiiiiiiivffffeffff pppppdpppppffffeffffviiiiiiiddddhddddiiiiiiivffffeffffpppppdppppp ffeeeeeeeeffpppppdfzvzfdpppppffeeeeeeeeff pppppdpppppffffeaawaaeeemeeeaawaaeffffpppppdppppp ffeeeeeeepppppdpppppeeeeeeeff pppppdpppppffffvffffpppppdppppp ffeeekzzkeeeffppppmvmmvmppppffeeekzzkeeeff pppppdppphhhhzhhhhpppdppppp ffeeekzzkeeeffppppmvmmvmpprrrrrrrrppmvmmvmppppffeeekzzkeeeff pppppdwwwowowwwdppppp ffexxxxxqxxxxxeffpppqqqqzqqqqpppffexxxxxqxxxxxeff pppppdwwwfkkfwwwdppppp ff e xxxxx qzzszzqxxxxxeffpppppdwwwfkkfwwwwwwwwwwwwwwfkkfwwwdpppppffexxxxxqzzszzq xxggjggggjggxxqzzszzqxxxxxvvvvsvvvvxxxxxqzzszzqxxggjggggjggxx qztttttttzqxxggjggggjggxxxxxoxxxxxggjggggjggxxqztttttttzq xxfxxqztttttttzqxxggzzzczzzggxxqztttttttzqxxfxx qztttttyyygyyytttttzq xxfxxqzuuuuuuzqxxllllllxxqzuuuuuuzqffffiffffqzuuuuuuzqxxllllllxxqzuuuuuuzqxxfxx qbbsbbsbbq xxfxx q zuuuuuuzqxxllllllxxqzuuuuuuz rrrnrrrzuuuuuuzqxxllllllxxccccccccccxmmmmxccccccccccxxllllllxxqzuuuuuuzrrrnrrr dddfddd rrrnrrr aaaaalaaaaarrrpppoppprrraaaaalaaaaa rrrnaaaagaaaanrrrccctcccrrrnaaaagaaaanrrr aaaaa laaaaarrrnnnnrrraaaaal xxxxxxxxxx laaaaarrrnnnnnpnnnnnrrraaaaalxxxxffffkffffxxxxlaaaaarrrnnnnnpnnnnnrrraaaaal xxxxxeeeneeexxxxx l hhh eccehhhlxxxxxeeeneeexxxllllxxxeeeneeexxxxxlhhhecce sswss e ccehhhlxxxxxeeenennnnnjnnnnneneeexxxxxlhhhecc iiiiii iiiiccehhpppphhecciiiiiiiiiicuuuuuruuuuuciiiiiiiiiiccehhpppphhecciiii jjjvjjjiiiiccehttgtthecciiiijjjvjjj iiiiccehhpppphhecciiiiiiiffllllffiiiiiiiccehhpppphhecciiii jjjvjjjiooiooijjjvjjj iiijjjjjjjjiiijjjvjjjioffiffoijjjvjjjiiijjjjjjjjiii jjjvjjjiooiooeeeeooiooijjjvjjj iiijjjjjjjjiii jjjvjjj ittitti jjjttdttjjjittittijjjvjjjiiijjjjjoooookooooojjjjjiiijjjvjjjittittijjjttdttjjj ittiqqtqqitti jjjttdttjjjittittijjjvjkxxkjvjjjittittijjjttdttjjj ittiqjjjjjjjjqitti jjjttdttjjjittittijjjvjkxxkjvjeeeeeyeeeeejvjkxxkjvjjjittittijjjttdttjjj ittiqjabbjbbajqitti jjjttdttjjj itbbbbbbtijjjttdttjjyyyjyyyjjttdttjjjitbbbbbbti ffffcffff itbbbbbbtijjjttaaajaaattjjjitbbbbbbti ffffcmmmmwmmmmcffff itbbbbbbti jjj ttaaajallxotoxllajaaatt jaaaalaaaajssssfssssjoonoonoojssssfssssjaaaalaaaaj ttaaajallxotoxllajakkkkajallxotoxllajaaatt jaaaalaaaaj ssssfssssxxnxxssssfssssjaaaaiiiiiiaaaajssssfssssxxnxxssssfssss jaaaaeeeeeeaaaaj ssssfssssxxnxxssssfssss jaaaaaaaaaajssccccrccccsqqeqqsccaaaaaaaaccsqqeqqsccccrccccssjaaaaaaaaaaj sss sfshhhhhhhhhhsfssssjaaaaaaaaaajsscchhhzhhhccssjaaaaaaaaaajssssfshhhhhhhhhhsfs ttttggtttt sfddddddfsuuuuseeeesuuuusfddddddfstfffffffftsfddddddfsuuuuseeeesuuuusfddddddfs tttllllllllttt sfddddddfsuuuuddddbdddduuuusfdddiiiiiyiiiiidddfsuuuuddddbdddduuuusfddddddfs tttrrrrrrttt sfddddddfs uuuuddddbdddduhhhjhhhuddddbdddduuuu sfdddddduuuuuuuuddddddfs uuuuddddbdddduhhhjhhhurrryrrruhhhjhhhuddddbdddduuuu sbbbbbbbbbbs uuu ueeedeeeu bbbbbbueennnnnnnneeubbbbzzzzzzzzbbbbueennnnnnnneeubbbbbb ueegggggsgggggeeubbbbbbuzzzzzzubbbbbbueegggggsgggggeeu bbbbbbueennnhttttutttthnnneeubbbbbb ueegggggcccttcccgggggeeu bbbbbssssbbbbb ueeggkkkkkkggeeubbbbbzzwzzbbbbbueeggkkkkkkggeeu ffffffueeggkkkkeeeeebeeeeekkkkggeeuffffff ueeggkkkkkkggeeu bbbbyyyyysyyyyybbbb ueooonoooeubbbbyyyvvvvyvvvvyyybbbbueooonoooeu bbbb yyyy uuuu uuuuuuyyyybbbbueooonoooeubbbbyymmfmmyynnvvcvvnnyymmfmmyybbbbueooonoooeubbbbyyyyuuuuuu llllqlllluuuuuuyyyybbbbuhhohhohhubbbbyyyyuuuuuullllqllll uuuuaaaaayaaaaauuuu lllttttttttllluuuurrnnnnnnrruuuulllttttttttlll hhhhhhhhhhlllttttttttllluuuurrnnnnbwwwhwwwbnnnnrruuuulllttttttttlllhhhhhhhhhh llzzzzll hhhhhhhhhh lll tt tttttaacaattttt \n",
            "\n",
            "Entrée 4 : ['9976 347', 'jfsqiodxhzturkgkrutzhxdoiqsfjohrdxuqfkgsztijitzsgkfquxdrhogzijdktfxosurhqhrusoxftkdjizgsutxdjgirhfzkoqokzfhrigjdxtusofujkdhqzsigrtxtrgiszqhdkjufoxogiqjthfuksrzdzrskufhtjqigoxrkhgtjdfuoixqszsqxioufdjtghkrdztughskqifrjoxojrfiqkshgutzdtojhdukrxizgsqfqsgzixrkudhjotkodzhfqrxijsgutugsjixrqfhzdokzrfjsquxtohgkidikghotxuqsjfrzkdhituzfsroxjqgqjxorsfzutihdkhzudrqxjsfokgtitgkofsjxqrduzhjhqroutgzfxksdidskxfzgtuorqhjdxrihutzgqkfjosojfkqgztuhirxdrtofsgdkuhjziqxqizjhukdgsfotrsqrojtugdxhfzkikzfhxdgutjorqsqrtzsfdukighjoxojhgikudfsztrqgsdxzqukijtforhroftjikuqzxdsguoitzqksxfdrhgjghrdfxskqztioufdikzgrhoqutsxjxstuqohrgzkidfxoqikgrfdstzuhjhuztsdfrgkiqoxohzfriskudqjgtxtgjqduksirfzhogjduhqzroktixsfsxitkorzqhudjgurtfkgsiqdhjxozoxjhdqisgkftruizodhjkftruqsxgxsqurtfkjhdozizoghksxfrqiutdjdtuiqrfxskhgozrqdkjthfxsiguzozugisxfhtjkdqrshujzigoftdqxkrkxqdtfogizjuhsuxkqsfijrtdhzgogzhdtrjifsqkxusjdzfrgkoxiqtuhutqixokgrfzdjsdtrkugifsxjzoqhqozjxsfigukrtdhrtqsfuijzogkdxdkgozjiufsqtrhtskuqfgihxrjodzdojrxhigfqukstotzkqgujdhsrfixifrshdjugqkztordtihouzqxgfskjksfgxqzuohitdrfjrxquszikgtdohodtgkizsuqxrjftufrjzqgsohdxikixdhosgqzjrfutskjruxzgtdifqhohqfidtgzxurjksiohxkdqjgftzsrursztfgjqdkxhoixshigfkjrdzqotutoqzdrjkfgihsxtrjdgihsuqzoxfkfxozqushigdjrtjksifrthdzxouqgquoxzdhtrfiskjgqdfuohtxkjirzszrijkxthoufdqgqrfdtxhijkugozszogukjihxtdfrqriugjoxfdqzkthshtkzqdfxojguiroqhurigjtxfdzskszdfxtjgiruhqogsfudhqkxztjoiriojtzxkqhdufsgosfjrktuxgzhqdidqhzgxutkrjfsofhuqxzjorgtdsikisdtgrojzxquhfsihufxzrktjdoqgqodjtkrzxfuhisuidrkotxqfjhgzszghjfqxtokrdiutxjogsizdfhuqrkrquhfdzisgojxtghdstqxfzkiruojourikzfxqtsdhgjditrkqhgusofxzxfosughqkrtidjiodxutqjrfgkszhzskgfrjqtuxdoirdukzgihfqsjxtotxjsqfhigzkudrogrhzifsxqkujdtdjukqxsfizhrgogqtihurjzxdofsksfodxzjruhitqgdfgoqshrxtikzjujzkitxrhsqogfdfrutoikdhgzjsqxqsjzghdkioturfkrtqdxzfjhogusisugohjfzxdqtrkqhtdkfuxjoiszgrgzsiojxufkdthqdihgfkuqxrzotsjstozrxqukfghidhxkuqtsijrzfogdgofzrjistqukxhroufdgthqsxkjzizjkxsqhtgdfuorzdqxrjitkhgsuofousghktijrxqdzrzthkixofuqdsgjgsdqufoxikhtzruozhgsixtfjrkdqdkrjftxisghzougidqsrfxzuhokjtjkohuzxfrsqdigisdtohrfjzgkquxuqkgzjfrhotdsitjurkzdsohxiqgfgqixhosdzkrujtsdoqfhgruijxztktzxjiurghfqodstdihzufjkoqxsgrgsxqokjfuzhidtjguhitsxqdrzfkokfzrdqxstihugjordjtzfxgsuikqhqkiusgxfztjdrorfhuzitkgjoqdxsxdqojgktizuhfrzfqxiusorkhtgdjdgthkrosuixqfzkftdjqouzrghsixishgrzuoqjdtfkdsoqtfgkjrxhzuiuzhxrjkgftqosdskhqjdxizturfgogfrutzixdjqhkshqrdzxfotujisgkgsijutofxzdrqhsjgtzrqdofixkhuhkxifodqrztgjsgxohdfrtzquksijiskuqztrfdhoxgriszuhjtkfdoqxgxqodfktjhuzsirqsijrtzdfuhxkogokxhufdztrjisquxhkotzrgisfdqjqdfsigrztokhxuskitjqhrxgfzduoudzfgxrhqjtiksqgdhijkfutxrozszorxtufkjihdgqdgtxojzifhkqsrursqkhfizjoxtgdziqkoftshjxdgurugdxjhstfokqizfsthkziorjxuqgdgquxjroizkhtsfquksixzfotdgrhjhrgdtofzxiskuqguoijxtqhrsdfzkzfdsrhqtxjiougrqjoxzsfudightkthgidufszxojqrzjrgdsiuxtkqhofohqktxuisdgrjzgkifztsjxqhdruourdhqxjstzfikgqjtodzkgruifshxhsfiurgkzdotjqihgsrkodfztqujxjuqtzfdokrsghiqsdihfxtukrjgzozgjrkutxfhidsqugzrsxdihkfjqotoqjfkhidxsrzguogfzdhxriqjukstskujqirxhdzfgotgxjqruhzdofksiskfodzhurqjxgthosrjifutqzdgxkxgdzqtufijrsohkjutgirzqdhfosxsofhdqzrigtujkuxkihdgsjqztrfofrtzqjsgdhikxujogizufdhrstkqxqktsrhdfuzigojsfkhxojtdgqrizuzirqgdtjoxhkfsfshtkoizqjgudrxrdugjqziokthsfsgduzhjqrixofktkfoxirqjhzudgshtzuijsqfgrkoxdxokrgfqsjiuzthgozrtikhjqudfsxsfduqjhkitrzogzhkidgtsqojfuxrxufjoqstgdikhzrifjqdztkxsoguhugosxktzdqjfirktzixusjhqfrgodogrfqhjsuxiztkhqxurdsfjziotkgktoizjfsdruxqhudohjqxgzfrksitiskrfzgxqjhodufrgdhstiquojkxzxkjouqitshdgrfrkjohszxqutgfdidfgtuqxzshojkrdukqfzrghxsjtioitjsxhgrzfqkudkhoqzgxtrsjfdiuidfjsrtxgzqohkdgtqsxzjforukihikurofjzxsqtgdhkdufxgizsorjqtqjroszigxfudkhizgosurfthkjdqxqdjkhtfrusogzizrhdfkogxiqtjusujtqixgokfdhrzdiqshtxfruogzkjkzgourfxthsqidqtzfrkxhugojdisidjoguhxkrfztqxhqgftzdrsjikuoukijsrdztfgqhxdforxusgjhkqztitzqkhjgsuxrofdrdixqokjfgtshzuzhstgfjkoqxidrfsgzxjrudikhtoqothkidurjxzgsfikhgdtzjufqosrxrsoqfujztdghkizorfsidqxhguktjtkughxqdisfroztiufjdoqxrhzksgskzhrxqodjfuitrgdtqjzxusfhokikohfsuxzjqtdgroidhfztjkgrsuqxqusrgkjtzfhdiozrjshkdutxgfoiqiofgxtudkhsjrzhjsqxozktrgidufudigrtkzoxqsjhkrsizhoxqdgtjufujtgdqxohzisrkojtgzudkhisqxrfrxqsihkduzgtjodqjurfhztxgkosisokgxtzhfrujqdghzkuorjdxtifsqsfitxdjroukzhgkgqhjixrftusozdzosutfrxijhqgktjxfgzkidsruoqhqoursdikzgfxjtqztijskxurhgdofodghruxksjitzqxrikfsohtqudgzjzgduqthosfkirxdjokfitxsqhuzgrgzuhqsxtifkojdhixojdqksrfutzgztufrskqdjoxihuhsjrdokqizfgxtxgfziqkodrjshusoduxijzrkhftqgqtfhkrzjixudoszxfjhkrgtsudoqiqodustgrkhjfxzigsxzfthuorqjkdkjqrouhtfzxsgirtusfqkoxijhzdgdzhjixokqfsutrqstfkhogdxrizjujzirxdgohkftsqzogsxjdutkhiqfrfqihktudjxsgozxdjifzgkohtqusrsuqthokgzfijdxoidhfsrjqkugzxtxzgukqjrsfhdiokihrtujoqfszxdgdxzsfqojutrhikfiutzxdrgsjhoqkqohjsgrdxztuiftsjogrfzkdqxihuhixqdkzfrgojstufdzokqisxtrgjhjgrtxsiqkozdfujuhdfqtorgxizskszixgrotqfdhujtsjdfghirqzxoukuoxzqrihgfdjstozqshkgiuftjxrdrxjtfuigkhsqzoqhifkjgxtudsrozorsdutxgjkfihqgurkfizjohdqstxtsqdhojzifkrugiudkhfzqorgxjstsjxgroqzfhkduixgrjiqdozuhkfstsfkhuzodqijrgxrxqujgfshtoidzkzdiothsfgjuqxrzuktrjsqgdhifoxofihdgqsjrtkuzfrqstihgxuodjzkzjdouxghitsqrfxdrojkhfzqtguisiugtqzfhkjordxsiujkorqdhzgftxtfgzhdqrokjuisgzqfodxihksrjtutjrskhixdofqzgdioxkzfusgtrqjhjqrtgsufzkxoidqzjtrxuogfdhkisikhdfgouxrtjzqzgqhriofktusjdxdjsutkfoirhqgzsuqzohjfxdrigtktgirdxfjhozqusdgjqfuhrkztixosoxitzkrhufqjgdjigtudqzxrsfohkhofsrxzqdutgijudgiktozqxshfjrjfhsxqzotkigdugszxfujkdrhotiqitohrdkjufxzsgdutogszhkriqfjxjfqirkhzsgotudrzkihsjqxfogudtdugofxqjshikzrorsdxkzuhtjifgqgfijthuzkxdsrosixfdrkhjogzutqtuzgojhkrdfxisdhgjqoistxfzrukurzfxtsioqjghdhxsgfzrkquitdojodtiuqkrzfgsxhigoxkquzsfdjrhthrjdfszuqkxogizxtfdigsrkhuqojoquhkrsgidftxzgzrusijqtxofhdkdhfoxtqjisurzghfjsgkxtduroqiziqorudtxkgsjfhtizhqsjxfgkrouduorkgfxjsqhzitigqzousdhxkfrtjtrfkxhdsuozqgitskrgfijzdohqxuxqhodzjifgrkstrohsjiqtgzxfukdkufxzgtqijshorgrdijxqofhtzskukszthfoqxjidrgdrsqxjihfotugkzkgutofhijxqsrdohsidfrjkqtxzgugzxtqkjrfdishoskrxdfqzgiojthuhtjoigzqfdxrksqrdzuithgfskjoxojksfghtiuzdrqfixjrsouqhgtzdkdztghquosrjxifuzkoshdrqftxjgigjxtfqrdhsokzujodufxtqkshzgirigzhskqtxfudojzqfhgitkrxdjousuojdxrktighfqzroxtkzsdjihgqfufqghijdszktxorgqihzkufoxsdtjrjtdsxofukzhiqgofkrztxjhgiqsudusqighjxtzrkfogtzjkfqihdxsurorusxdhiqfkjztgjohitfusqkxzrdgdrzxkqsuftihojzqtxifjdogsrhkukhrsgodjfixtqzqxjiohzgtdrfkusukfrdtgzhoijxqroxdfizshgjutqkqtujghszifdxorqojxrzusihktdfgfdtkhisuzrxjoqurzisdthjqxfgokogfxqjhtdsizrusgjfqdzioxrthukuhtrxoizdqfjgsdhosqgzfjxriutktuirxjfzgqsohdiojuzqrkshxdftgtfdxhskrqzujoixkrhgtjqzdisoufuosidzqjtghrkxrgfhjzqousxitkdktixsuoqzjhfgrugsqzdotkrfjhixihjfrktodzqsgusruqxgtihzodfkjkfdozhitgxqurszkodfgrhtsxqjuiujqxsthrgfdokzutdhzoifxskrjgqgjrksxfiozhdtuoskfdjqtxuirhgzghriuxtqjdfksodrqsotzkguhfixjxifhugkztosqrdhdourfjtziqskxgxksqiztjfruodhqhgkfouzjstirxdxritsjzuofkghqdrsfugjzkhitxoqoxtihkzjgufsrdisxjdgruhkzqfotofqzkhurgdjxsiztohkfqrusgdxijixdgsurqfkhotzkzqfghtsujdioxrxoidjusthgfqzkxgiozhruskjtfqdqftjksurhzoigxjiushofzkdqrtgxgtrqdkzfohsuijrtjshqzodgukixfxikugdozqhsjtrkrtsdzxigjhuqofoquhjgixzdstrkzohjrkgxtqusdifidsuqtxgkrjhozdiuohgstrzxkjqfqjkxzrtsghouidkzudxogstfirjhqhjriftsgoxduzkjtxduqhigkrsofzfosrkgihqudxtjzhjqtudoixsgkrfrkgsxiodutqjhzxsrjditzgqfohukuhofqgztidjrsxtsozfjxkrugqhdidhqgurkxjfzostgjurshokqfxzditidzxfqkohsrujgxjruiofsthdqzkgkzqdhtsfoiurjxkrxidoutqjshfzgzfhsjqtuodixrkxtrokhfgqdjuzsiszujdqgfhkortxjordihxkugztfqsqftzgukxhidrojdxiztuoskgqrhfjfhrqgksoutzixdqtuzfrsioxghjkdkjhgxoisrfzutqgxuotkfrqhzsjidijszhqrfktouxgiufsotzhkjrxdqgqdxrjkhztosfuirkgzjdqtxfsiuohouisfxtqdjzgkristdkrzhgfujoxqxojufghzrkdtsithdugjrkfoxzqisiqzxofkrjgudhtrhdzfsutkgixqjojqxigktusfzdhrgsdkxtjhfzqriouoirqzfhjtxkdsgjodzquighxkrftstfrkxhgiuqzdojthrifzkqgdujsoxosjudgqkzfirhtktdxsojhgufrqzizqrfughjosxdtkojrxgudfkhisqtztqsihkfdugxrjortxhqiodkuzjgsfsgjzukdoiqhxtrijqktgofhxsrzdudzrsxhfogtkqjirjzfuqotdkgsixhxisgkdtoqufzjruqosxfijkrhzgtdtgzhrkjifxsoqurqksxhgotfjzuidiuzjftoghxskqrdgsufqtizjhkxrorxkhjzitqfusgdzfkrqsoxihdtjugujtdhixosqrkfzuozgixjtrkdqfhshfqdkrtjxigzouhxkfrgjqiodtzsusztdoiqjgrfkxhtqkihruxjdozfgsgfzodjxurhikqtzrxghioudqjftksktfjqduoihgxrzqtgrkdjoifxzsuhuszxfiojdkrgtqxfoiqgsujhzkrtdtrkzhjusgqiofxtuiqkzorgxjshdfdhsjxgrozkqiutfrjuzdsgktqioxhxoiqtkgsdzujrfxtduzjgoiqhskrfrkshqiogjzudtxgoxrjshidktuqfzfqutkdihsjrxogkfgjzrdqotixhusuhxitoqdrzjgfkhorsxjuzgktfiqdqiftkgzujxsrohjxifutshgzkdqoroqdkzghstufixjukofrqgjixdhztstzhdxijgqrfokujqotigrsdhzxfkukfxzhdsrgitoqjzkfiqoudsthrjxgxjrhtsduoqifkzjiqtzdkhsgfxuorouxfgshkdztqijotzuqrhkxfsdjigijdsfxkhrquztohiutxjdgszqkorfrokqzsgdjxtuihrkdqsztighofjxuxjfohgitzsqdkrjohxzsdifkgqturutqgkfidszxhojuogtkfizrsjxdhqhdxjsrzifktgouxjhkogitqrzfusdsufzrqtigokhjxjfdsziuhtqrkgoxogkrqthuizsdfjrqofikzstjxuhgdghuxjtszkifoqrkgqufsihrdojxtztxjodrhisfuqgkqjkiruzghxtdfsosfdtxhgzurikjqohkxjiurfgsztqdqtzsgfruijxkhojgsrdutiqkxzhofohzxkqitudrsgjodgiftkxruhsqzjzqshurxktfigdodtrqxoiszujkgfhfgkjuzsioxqrtdzjrfqsohdikguxtxugkidhosqfrjzdukxfgiqzrhtjosojthrzqigfxkudziorsqhdujtxgfkfgxtjudhqsroizoiufzqdxghjtsrkrstjhgxdqzfuiofqjutixszohdrgkgrdhozsxitujqfuhfdzgrqjositxkxtisojqrgzdfhujtfqxzhuskrdoigiodrksuhzxqftjudqxhtkszrgifojofigrzskthxqduxhjzgokuftqisdrdsiqtfukogzjhxsrfohjtugdikzqxqzkidgutjhofrsqdrxoisthjzfgukugfzjhtsioxrdqsizthrjxfodqukgkuqdofxjrhtzisfkjoixhgdzrsqutuqsrzdghxiojkfqisgjkthzuxfdrordfxuzhtkjgsiquqzhrfxtdgjkosisokjgdtxfrhzqujhofirgqdsutzkxkztusdqgrifohjogsxhkjqzfrditutidrfzqjkhxsgoifjursozqdkxgthtgxkdqzosrujfigtzhkxofsjriuqdquirjsfoxkhztgsdtxjkhoizrgqufuqgrziohkjxtdskidusfrogtzxjhqhjxztgorfsudikztjhiuqskrogdfxfdgorksquihjtzuhtqorzgjkfxsdidsxfkjgzroqthuxurqtjfogdszihkhizsdgofjtqruxuzhigktfjosdxqrqxdsojftkgihzuxzkosurqihfjtgdgtjfhiqrusokzxuxtodkfrzhsqigjgiqshzrfkdotxurfoqikgdzthuxjsjxuhtzdgkiqofrqgirzxtsufhjdokodjhfustxzrigqfzoiguqksrxjdhthdjxrskqugiozfuzjhoidxqrtsfgkgfstrqxdiohjzutodgkqxihfzsujrjuszfhixqkgdotsxizjqfruhgodtktdoghurfqjzixsjtsokuixzhfdgrqrgdfhzxiukostjtxzofgrsjhqidukudiqhjsrgfozxtudzgxikjrsohfqtqfhosrjkixgzduiosxtqrkjfzguhdhugzfjkrqtxsoijodqigsuzkxfhrtrhfxkzusgiqdojgsfixujhktdqrzozrqdtkhjuxifsgfjskqougtrzdihxhidzrtguoqksjfjiodsftqhzrxkgugkxrzhqtfsdoijujrhsofdkxqgtziztgqxkdfoshrjufjxhotsirdzgqukuqgzdristohxjfqrhgftsdojzkuxixukzjodstfghrqjzghuofixtrqksdskqrtxifouhgzj']\n",
            "Sortie 4 : IMPOSSIBLE \n",
            "\n"
          ],
          "name": "stdout"
        }
      ]
    }
  ]
}