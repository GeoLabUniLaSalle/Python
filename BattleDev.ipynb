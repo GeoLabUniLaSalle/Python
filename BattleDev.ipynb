{
  "nbformat": 4,
  "nbformat_minor": 0,
  "metadata": {
    "colab": {
      "name": "BattleDev.ipynb",
      "provenance": [],
      "collapsed_sections": [],
      "authorship_tag": "ABX9TyOOjpGc5ctOeTv0xrrCa/zX",
      "include_colab_link": true
    },
    "kernelspec": {
      "name": "python3",
      "display_name": "Python 3"
    }
  },
  "cells": [
    {
      "cell_type": "markdown",
      "metadata": {
        "id": "view-in-github",
        "colab_type": "text"
      },
      "source": [
        "<a href=\"https://colab.research.google.com/github/GeoLabUniLaSalle/Python/blob/main/BattleDev.ipynb\" target=\"_parent\"><img src=\"https://colab.research.google.com/assets/colab-badge.svg\" alt=\"Open In Colab\"/></a>"
      ]
    },
    {
      "cell_type": "markdown",
      "metadata": {
        "id": "pGQuPEjWYJBW"
      },
      "source": [
        "# **Battle Dev !**\n",
        "\n",
        "Vous avez 2h pour résoudre les 4 problèmes suivants. Bon courage :)\n",
        "\n",
        "## **Exercice 1 : La Bataille ★☆☆**\n",
        "\n",
        "**Objectif**\n",
        "\n",
        "Un soir, deux frères profitent de l'absence de leurs parents pour commander des burgers. Pour ne pas laisser de trace, l'un d'entre eux doit descendre les poubelles avant minuit. Ils décident de se départager au jeu de la bataille. Le principe est simple, chaque joueur a le même nombre de cartes et à chaque tour, chaque joueur présente une carte. Celui qui a la carte de plus grande valeur remporte le point. Si les deux cartes ont la même valeur, personne ne remporte le point. Le gagnant du jeu est celui qui a le plus de points à la fin.\n",
        "\n",
        "L'objectif de ce challenge est de déterminer qui ne descendra pas les poubelles ce soir (gagnant de la partie).\n",
        "\n",
        "On va nommer les deux frères A et B. Pour simplifier, nous allons considérer que les cartes ont des valeurs pouvant aller de 1 à 10. Nous vous garantissons qu'il y a bien un gagnant à la fin de la partie (pas d'égalité possible entre les deux joueurs).\n",
        "\n",
        "\n",
        "**Format des données**\n",
        "\n",
        "*Entrée*\n",
        "\n",
        "Ligne 1 : un entier N compris entre 10 et 100 représentant le nombre de tours.\n",
        "\n",
        "Lignes 2 à N+1 : deux entiers compris entre 1 et 10 séparés par un espace représentant la carte du joueur A et celle du joueur B.\n",
        "\n",
        "*Sortie*\n",
        "\n",
        "Le caractère A ou le caractère B représentant le gagnant de la partie."
      ]
    },
    {
      "cell_type": "markdown",
      "metadata": {
        "id": "ODGfDRPOYGwQ"
      },
      "source": [
        "## **Données**\n",
        "\n",
        "*Accès aux données*"
      ]
    },
    {
      "cell_type": "code",
      "metadata": {
        "colab": {
          "base_uri": "https://localhost:8080/"
        },
        "id": "jlu0JxHXYkaM",
        "outputId": "421d20b7-6d8a-4936-920a-eab34dba2fdc"
      },
      "source": [
        "import csv\n",
        "filedir = ('https://cours.unilasalle.fr/courses/SG4007/document/Exercices_Python/La_bataille/')\n",
        "\n",
        "import ssl\n",
        "ssl._create_default_https_context = ssl._create_unverified_context\n",
        "\n",
        "import urllib.request\n",
        "\n",
        "for x in range(1,4):\n",
        "  f = urllib.request.urlopen(str(filedir+\"input\"+str(x)+\".txt\"))\n",
        "\n",
        "  data=[]\n",
        "  for i in f:\n",
        "      line=i.decode('utf-8').strip()\n",
        "      data.append(line)\n",
        "  print('Entrée',x,':',data)\n",
        "\n",
        "  f = urllib.request.urlopen(str(filedir+\"output\"+str(x)+\".txt\"))\n",
        "  for i in f:\n",
        "      line=i.decode('utf-8').strip()\n",
        "  print('Sortie',x,':',line,'\\n')"
      ],
      "execution_count": 1,
      "outputs": [
        {
          "output_type": "stream",
          "text": [
            "Entrée 1 : ['10', '10 3', '4 5', '6 10', '7 8', '4 8', '4 5', '10 2', '7 7', '10 7', '5 1']\n",
            "Sortie 1 : B \n",
            "\n",
            "Entrée 2 : ['50', '4 7', '6 2', '2 4', '8 10', '4 2', '6 5', '5 7', '1 2', '6 5', '6 10', '4 6', '1 2', '2 3', '8 1', '4 10', '10 7', '2 8', '2 4', '2 6', '2 3', '10 8', '9 6', '5 6', '7 2', '9 6', '4 1', '6 9', '8 7', '4 3', '3 5', '2 1', '5 1', '7 6', '1 3', '7 10', '4 10', '10 9', '8 3', '6 3', '5 9', '4 3', '4 1', '8 3', '4 2', '9 5', '9 8', '9 3', '10 2', '5 7', '4 9']\n",
            "Sortie 2 : A \n",
            "\n",
            "Entrée 3 : ['100', '7 9', '2 1', '4 5', '10 6', '5 5', '4 10', '9 3', '1 8', '8 9', '3 9', '5 4', '2 10', '10 7', '2 1', '6 3', '10 3', '10 10', '8 3', '10 6', '7 6', '5 6', '7 10', '4 4', '10 3', '8 9', '8 1', '1 1', '6 8', '3 9', '5 7', '6 2', '3 8', '2 5', '6 4', '6 7', '7 6', '5 6', '2 7', '1 6', '3 4', '1 10', '6 2', '1 2', '7 4', '2 9', '4 1', '9 3', '5 2', '4 10', '7 6', '7 5', '7 4', '7 5', '4 8', '4 4', '10 2', '9 3', '7 7', '9 3', '6 9', '1 6', '8 9', '7 7', '10 8', '5 1', '2 7', '6 1', '6 1', '9 4', '3 4', '8 4', '10 10', '6 3', '2 5', '8 7', '9 4', '3 4', '3 4', '10 5', '4 5', '5 1', '4 3', '3 8', '3 10', '4 3', '3 9', '8 4', '9 4', '8 7', '3 8', '1 1', '7 6', '7 9', '1 7', '1 3', '6 2', '9 6', '2 7', '3 6', '6 1']\n",
            "Sortie 3 : A \n",
            "\n"
          ],
          "name": "stdout"
        }
      ]
    },
    {
      "cell_type": "code",
      "metadata": {
        "id": "ibgG9zWLu4Vg"
      },
      "source": [
        "lines = ['10', '10 3', '4 5', '6 10', '7 8', '4 8', '4 5', '10 2', '7 7', '10 7', '5 1']\n",
        "# A vous de jouer !"
      ],
      "execution_count": 5,
      "outputs": []
    },
    {
      "cell_type": "markdown",
      "metadata": {
        "id": "6p6eR4lLumXa"
      },
      "source": [
        "## **Exercice 2 : Prix le plus bas ★☆☆**\n",
        "\n",
        "**Objectif**\n",
        "\n",
        "Pendant les soldes d'hiver, les bonnes affaires partent vite. C'est souvent le premier arrivé sur place qui déniche les bonnes occasions. Une seule solution : se rendre dans un maximum de magasins en quelques heures.\n",
        "\n",
        "Afin d'optimiser au maximum votre temps, vous décidez de créer votre propre comparateur de prix. Vous alimentez votre comparateur depuis une base de données contenant des catalogues de produits provenant de plusieurs enseignes différentes.\n",
        "\n",
        "L'objectif de ce challenge est de déterminer le prix le plus bas pour un produit donné. Un produit peut apparaître plusieurs fois dans le comparateur avec des prix différents (en fonction du prix affiché par les différentes enseignes).\n",
        "\n",
        "\n",
        "**Format des données**\n",
        "\n",
        "*Entrée*\n",
        "\n",
        "Ligne 1 : un entier N compris entre 10 et 10000 représentant le nombre de produits dans votre comparateur.\n",
        "\n",
        "Ligne 2 : une chaîne P comprenant entre 2 et 50 caractères représentant le produit recherché.\n",
        "\n",
        "Lignes 3 à N+2 : une chaîne comprenant entre 2 et 50 caractères et un entier séparés par un espace représentant respectivement le nom d'un produit et le prix associé. Le produit P apparaîtra au moins une fois dans la liste.\n",
        "\n",
        "*Sortie*\n",
        "\n",
        "Un entier représentant le prix le plus bas du produit P dans la liste."
      ]
    },
    {
      "cell_type": "code",
      "metadata": {
        "colab": {
          "base_uri": "https://localhost:8080/"
        },
        "id": "Ng3ND4XyrK6W",
        "outputId": "5007d437-36d6-4460-f4d5-b5bf404434e9"
      },
      "source": [
        "import csv\n",
        "filedir = ('https://cours.unilasalle.fr/courses/SG4007/document/Exercices_Python/Prix_le_plus_bas/')\n",
        "\n",
        "import ssl\n",
        "ssl._create_default_https_context = ssl._create_unverified_context\n",
        "\n",
        "import urllib.request\n",
        "\n",
        "for x in range(1,4):\n",
        "  f = urllib.request.urlopen(str(filedir+\"input\"+str(x)+\".txt\"))\n",
        "\n",
        "  data=[]\n",
        "  for i in f:\n",
        "      line=i.decode('utf-8').strip()\n",
        "      data.append(line)\n",
        "  print('Entrée',x,':',data)\n",
        "\n",
        "  f = urllib.request.urlopen(str(filedir+\"output\"+str(x)+\".txt\"))\n",
        "  for i in f:\n",
        "      line=i.decode('utf-8').strip()\n",
        "  print('Sortie',x,':',line,'\\n')"
      ],
      "execution_count": 3,
      "outputs": [
        {
          "output_type": "stream",
          "text": [
            "Entrée 1 : ['37', 'armoire', 'armoire 16', 'armoire 38', 'armoire 83', 'four 82', 'armoire 85', 'armoire 17', 'tv 41', 'armoire 91', 'armoire 92', 'four 5', 'tv 67', 'four 69', 'armoire 48', 'four 46', 'tv 65', 'armoire 93', 'tv 95', 'armoire 99', 'armoire 96', 'armoire 20', 'armoire 87', 'four 53', 'four 16', 'armoire 83', 'tv 51', 'four 57', 'four 57', 'four 58', 'four 22', 'armoire 31', 'armoire 15', 'four 14', 'tv 37', 'armoire 64', 'tv 12', 'four 58', 'four 92']\n",
            "Sortie 1 : 15 \n",
            "\n",
            "Entrée 2 : ['71', 'table', 'veste 57', 'chapeau 10', 'casque 54', 'livre 84', 'mac 49', 'gant 66', 'chapeau 43', 'chaise 96', 'veste 58', 'chapeau 34', 'gant 15', 'chaussette 25', 'bonnet 11', 'montre 90', 'armoire 3', 'casque 10', 'bonnet 54', 'table 56', 'veste 1', 'table 6', 'souris 61', 'parapluie 57', 'casque 13', 'souris 41', 'chaise 79', 'montre 41', 'chaise 66', 'casque 69', 'chaise 35', 'souris 71', 'gant 5', 'livre 92', 'montre 85', 'chaise 74', 'chaise 59', 'gant 42', 'table 12', 'armoire 81', 'gant 56', 'mac 33', 'chaise 78', 'livre 83', 'short 82', 'livre 57', 'short 69', 'mac 71', 'chaise 95', 'table 83', 'veste 46', 'chapeau 17', 'table 20', 'livre 1', 'table 7', 'livre 74', 'armoire 1', 'veste 27', 'gant 90', 'montre 86', 'veste 33', 'armoire 83', 'veste 66', 'bonnet 85', 'chaussette 86', 'bonnet 92', 'casque 93', 'chaise 88', 'armoire 70', 'parapluie 15', 'gant 11', 'chapeau 56', 'chapeau 89']\n",
            "Sortie 2 : 6 \n",
            "\n",
            "Entrée 3 : ['819', 'pc', 'cd 29', 'smartphone 36', 'table 71', 'casque 25', 'chaussure 48', 'armoire 7', 'four 92', 'casque 33', 'hdmi 54', 'souris 64', 'tablette 67', 'chaussure 11', 'cd 71', 'veste 76', 'four 20', 'pc 11', 'ssd 67', 'parapluie 95', 'chaise 39', 'four 12', 'bonnet 71', 'echarpe 62', 'chargeur 85', 'clavier 64', 'bonnet 81', 'table 1', 'chaise 27', 'table 14', 'ssd 98', 'chaise 84', 'short 20', 'chaussure 71', 'mac 4', 'armoire 48', 'souris 26', 'parapluie 16', 'table 28', 'armoire 33', 'tablette 30', 'tv 36', 'chaussette 80', 'gant 66', 'smartphone 36', 'mac 9', 'tablette 94', 'tv 43', 'chapeau 38', 'casque 19', 'gant 22', 'parapluie 67', 'hdmi 42', 'veste 42', 'bonnet 79', 'tv 27', 'chaussure 5', 'montre 90', 'echarpe 9', 'souris 6', 'tablette 54', 'chaussure 44', 'mac 19', 'clavier 35', 'parapluie 4', 'montre 59', 'ecouteurs 85', 'table 79', 'clavier 8', 'parapluie 1', 'chaussette 95', 'pull 90', 'pull 80', 'livre 72', 'smartphone 71', 'veste 17', 'echarpe 27', 'pull 4', 'hdmi 13', 'cd 25', 'tv 56', 'pull 26', 'hdmi 1', 'chaise 66', 'smartphone 93', 'chaussette 86', 'bonnet 56', 'ecouteurs 71', 'livre 39', 'ecouteurs 76', 'gant 88', 'armoire 10', 'armoire 88', 'ssd 96', 'parapluie 23', 'armoire 16', 'chapeau 14', 'table 70', 'chaussette 47', 'tv 60', 'chapeau 53', 'livre 67', 'bonnet 30', 'short 56', 'smartphone 32', 'parapluie 55', 'table 50', 'clavier 5', 'parapluie 50', 'pc 18', 'montre 6', 'pc 18', 'pc 98', 'chargeur 92', 'ssd 78', 'livre 11', 'montre 11', 'souris 46', 'bonnet 80', 'ecouteurs 8', 'pull 32', 'mac 23', 'chaussure 84', 'ssd 72', 'bonnet 94', 'chargeur 31', 'chapeau 44', 'pull 14', 'four 83', 'tv 43', 'smartphone 31', 'tablette 58', 'hdmi 38', 'table 43', 'chaussette 48', 'livre 75', 'four 8', 'chaussure 40', 'smartphone 51', 'armoire 46', 'cd 96', 'chaussette 23', 'tablette 17', 'four 26', 'smartphone 6', 'casque 99', 'casque 66', 'chargeur 80', 'ssd 69', 'clavier 21', 'tv 95', 'mac 58', 'chaussure 96', 'chaussure 81', 'montre 25', 'gant 28', 'hdmi 40', 'tablette 97', 'ssd 13', 'livre 21', 'pc 48', 'sweat 17', 'four 51', 'bonnet 80', 'smartphone 15', 'livre 10', 'table 16', 'souris 5', 'bonnet 16', 'chaussette 71', 'mac 91', 'armoire 91', 'tablette 81', 'ecouteurs 42', 'gant 36', 'souris 14', 'tablette 10', 'livre 65', 'four 17', 'cd 61', 'echarpe 84', 'echarpe 8', 'chapeau 54', 'clavier 29', 'chapeau 49', 'pc 51', 'veste 18', 'chargeur 99', 'chaussette 63', 'chargeur 59', 'ssd 53', 'livre 23', 'gant 44', 'armoire 9', 'cd 51', 'pull 44', 'chargeur 70', 'hdmi 31', 'chaise 96', 'smartphone 32', 'veste 56', 'tablette 88', 'parapluie 15', 'armoire 17', 'cd 6', 'chaussure 46', 'short 51', 'tv 61', 'souris 28', 'livre 60', 'echarpe 32', 'gant 100', 'tablette 84', 'chaussure 24', 'chapeau 2', 'four 34', 'four 10', 'sweat 75', 'smartphone 16', 'chargeur 38', 'ssd 17', 'parapluie 9', 'smartphone 46', 'souris 62', 'montre 70', 'chaussette 12', 'table 96', 'veste 78', 'short 2', 'hdmi 55', 'mac 59', 'echarpe 36', 'chaussure 41', 'casque 80', 'chaussette 21', 'souris 78', 'parapluie 46', 'bonnet 50', 'livre 1', 'chaussure 27', 'montre 25', 'bonnet 60', 'casque 55', 'chargeur 96', 'cd 12', 'chaise 36', 'gant 76', 'tv 23', 'ssd 47', 'smartphone 39', 'clavier 40', 'gant 87', 'casque 64', 'chaussette 41', 'hdmi 38', 'livre 33', 'chaussette 62', 'chapeau 8', 'short 76', 'echarpe 35', 'chapeau 79', 'smartphone 29', 'chaise 30', 'chapeau 77', 'bonnet 56', 'echarpe 86', 'chaussure 22', 'short 29', 'veste 98', 'montre 24', 'short 97', 'ecouteurs 4', 'montre 14', 'veste 65', 'short 33', 'chapeau 94', 'hdmi 37', 'pc 33', 'four 2', 'casque 19', 'chapeau 52', 'ecouteurs 60', 'tablette 99', 'veste 19', 'short 4', 'chargeur 68', 'tv 95', 'bonnet 22', 'chaise 48', 'chaise 25', 'tablette 41', 'chaussure 9', 'souris 33', 'parapluie 23', 'chaussette 58', 'souris 27', 'armoire 81', 'chaise 36', 'mac 52', 'montre 33', 'pull 1', 'parapluie 77', 'ssd 6', 'gant 67', 'mac 19', 'bonnet 54', 'chapeau 58', 'chapeau 41', 'hdmi 48', 'chargeur 95', 'short 38', 'echarpe 20', 'gant 28', 'short 48', 'four 99', 'armoire 22', 'four 38', 'ssd 36', 'parapluie 19', 'bonnet 24', 'hdmi 75', 'smartphone 43', 'four 20', 'chargeur 59', 'chapeau 1', 'table 36', 'table 2', 'clavier 79', 'cd 97', 'tablette 21', 'ssd 8', 'clavier 85', 'ecouteurs 88', 'mac 100', 'four 35', 'short 39', 'pc 42', 'table 5', 'chaussette 97', 'tablette 14', 'montre 22', 'bonnet 2', 'chaussure 99', 'chargeur 20', 'livre 50', 'cd 39', 'pull 5', 'tablette 18', 'montre 100', 'hdmi 52', 'ecouteurs 6', 'ecouteurs 21', 'veste 54', 'cd 34', 'hdmi 91', 'tv 60', 'pc 76', 'armoire 11', 'casque 56', 'short 48', 'chargeur 3', 'casque 69', 'souris 97', 'mac 93', 'armoire 87', 'parapluie 74', 'ecouteurs 49', 'livre 95', 'smartphone 92', 'tv 94', 'ecouteurs 35', 'smartphone 42', 'mac 13', 'short 56', 'parapluie 33', 'casque 95', 'chaussure 96', 'chapeau 49', 'clavier 20', 'ssd 100', 'veste 94', 'clavier 37', 'livre 41', 'chapeau 17', 'short 9', 'tv 32', 'short 27', 'gant 31', 'bonnet 11', 'armoire 68', 'smartphone 43', 'echarpe 48', 'ecouteurs 92', 'chapeau 28', 'chapeau 29', 'four 7', 'parapluie 47', 'pull 56', 'tablette 28', 'chaise 94', 'ecouteurs 73', 'bonnet 74', 'armoire 2', 'chaussure 72', 'table 86', 'smartphone 28', 'gant 22', 'chapeau 65', 'pull 89', 'cd 83', 'chaussette 70', 'ssd 58', 'table 19', 'montre 36', 'hdmi 25', 'parapluie 11', 'tablette 4', 'ecouteurs 32', 'gant 67', 'four 37', 'mac 5', 'souris 32', 'gant 97', 'pc 80', 'chaussette 77', 'chaussette 42', 'short 1', 'pc 36', 'ecouteurs 80', 'casque 66', 'casque 59', 'ecouteurs 3', 'casque 11', 'tablette 40', 'echarpe 97', 'gant 37', 'gant 80', 'chaussette 36', 'tv 76', 'four 62', 'sweat 3', 'sweat 83', 'chapeau 64', 'gant 68', 'chaise 6', 'veste 49', 'chapeau 31', 'chaussette 39', 'hdmi 79', 'montre 27', 'souris 68', 'parapluie 50', 'chaussure 44', 'parapluie 8', 'bonnet 7', 'hdmi 48', 'clavier 8', 'parapluie 23', 'tablette 31', 'clavier 96', 'montre 69', 'parapluie 30', 'smartphone 67', 'pull 93', 'pull 63', 'short 66', 'ssd 22', 'pull 15', 'parapluie 83', 'pull 75', 'hdmi 96', 'clavier 56', 'gant 44', 'clavier 44', 'echarpe 21', 'casque 52', 'mac 61', 'chaussette 44', 'chaise 86', 'chaussure 29', 'tablette 10', 'veste 4', 'pull 91', 'tablette 6', 'casque 3', 'chargeur 80', 'souris 42', 'parapluie 100', 'armoire 82', 'gant 100', 'echarpe 81', 'chaussure 83', 'short 64', 'ecouteurs 60', 'veste 64', 'tv 16', 'chaise 10', 'chaise 16', 'parapluie 11', 'smartphone 35', 'bonnet 62', 'chaussette 73', 'gant 89', 'chapeau 44', 'chargeur 49', 'tv 4', 'montre 29', 'chargeur 32', 'cd 30', 'livre 39', 'chaise 55', 'four 91', 'table 98', 'souris 45', 'veste 99', 'chargeur 20', 'cd 48', 'chaise 89', 'bonnet 37', 'montre 7', 'livre 66', 'four 1', 'casque 38', 'ssd 53', 'parapluie 43', 'hdmi 55', 'cd 47', 'chaise 45', 'chapeau 9', 'pc 92', 'hdmi 88', 'smartphone 29', 'short 43', 'clavier 83', 'montre 48', 'tv 82', 'chaussette 65', 'veste 72', 'gant 41', 'bonnet 80', 'chaise 62', 'ssd 85', 'chapeau 40', 'ecouteurs 59', 'tv 90', 'cd 52', 'armoire 83', 'mac 35', 'chaussure 32', 'montre 61', 'echarpe 97', 'gant 24', 'casque 60', 'clavier 98', 'pull 56', 'montre 91', 'chapeau 65', 'mac 38', 'table 63', 'mac 74', 'ssd 61', 'chaise 30', 'sweat 31', 'livre 77', 'ecouteurs 95', 'chaussette 30', 'mac 79', 'tv 1', 'gant 22', 'clavier 89', 'four 7', 'chargeur 30', 'pc 12', 'tablette 26', 'armoire 37', 'chaussette 34', 'veste 36', 'gant 74', 'gant 8', 'four 13', 'tv 80', 'clavier 69', 'bonnet 70', 'four 51', 'gant 61', 'smartphone 34', 'cd 33', 'chaussette 59', 'chapeau 33', 'pc 88', 'chaise 42', 'tablette 29', 'echarpe 18', 'hdmi 61', 'four 51', 'casque 87', 'table 15', 'chargeur 69', 'tv 80', 'ecouteurs 34', 'clavier 83', 'chapeau 87', 'livre 3', 'souris 99', 'mac 46', 'chaussette 52', 'echarpe 75', 'hdmi 18', 'souris 69', 'mac 27', 'veste 85', 'chaussette 8', 'chaise 79', 'echarpe 36', 'pc 92', 'chapeau 82', 'veste 23', 'tv 24', 'hdmi 49', 'casque 60', 'sweat 78', 'gant 71', 'livre 15', 'mac 59', 'veste 32', 'hdmi 69', 'cd 81', 'gant 38', 'chargeur 37', 'chaise 1', 'table 89', 'ssd 52', 'tablette 76', 'montre 95', 'short 17', 'livre 87', 'gant 31', 'ecouteurs 60', 'pc 1', 'pull 22', 'four 90', 'livre 72', 'tablette 15', 'mac 10', 'clavier 45', 'cd 99', 'chapeau 33', 'souris 22', 'livre 10', 'pc 46', 'smartphone 33', 'mac 59', 'livre 67', 'chaise 12', 'montre 79', 'table 6', 'ecouteurs 9', 'chargeur 82', 'tablette 82', 'tablette 68', 'sweat 68', 'ecouteurs 83', 'table 97', 'tv 89', 'chargeur 5', 'mac 14', 'chaise 85', 'hdmi 87', 'hdmi 52', 'mac 73', 'parapluie 51', 'tablette 2', 'table 18', 'cd 95', 'ssd 22', 'souris 96', 'souris 55', 'ssd 71', 'short 7', 'chaise 99', 'tablette 91', 'livre 47', 'table 37', 'cd 87', 'chaussette 91', 'tablette 42', 'clavier 50', 'chaussette 99', 'parapluie 58', 'veste 27', 'clavier 31', 'armoire 27', 'hdmi 79', 'chaise 82', 'short 69', 'casque 26', 'tablette 55', 'tv 88', 'ecouteurs 77', 'mac 41', 'four 56', 'cd 39', 'tv 58', 'ecouteurs 22', 'tablette 2', 'ssd 60', 'tablette 96', 'hdmi 40', 'sweat 73', 'sweat 75', 'chaussure 96', 'table 95', 'pc 57', 'parapluie 17', 'hdmi 37', 'pc 26', 'montre 92', 'table 19', 'armoire 10', 'montre 34', 'smartphone 95', 'montre 15', 'table 38', 'chaussure 26', 'armoire 10', 'parapluie 36', 'gant 79', 'armoire 87', 'veste 65', 'parapluie 59', 'cd 94', 'four 31', 'veste 23', 'chargeur 93', 'chaussure 77', 'armoire 82', 'veste 27', 'casque 79', 'veste 51', 'souris 14', 'armoire 63', 'tablette 63', 'four 55', 'montre 31', 'clavier 67', 'ecouteurs 51', 'chaussette 65', 'veste 48', 'ecouteurs 15', 'tablette 70', 'chaussette 9', 'smartphone 14', 'parapluie 83', 'hdmi 61', 'ssd 47', 'clavier 2', 'clavier 91', 'echarpe 29', 'gant 59', 'montre 4', 'casque 91', 'table 76', 'clavier 78', 'smartphone 44', 'chargeur 25', 'chargeur 78', 'chaussure 82', 'ssd 82', 'cd 5', 'pull 13', 'veste 33', 'armoire 58', 'chaussure 51', 'montre 51', 'chaussette 55', 'pull 88', 'four 41', 'veste 9', 'livre 36', 'pc 4', 'ecouteurs 4', 'tablette 72', 'livre 78', 'sweat 32', 'chaise 95', 'short 25', 'pc 57', 'veste 69', 'tablette 26', 'livre 91', 'tv 87', 'tv 53', 'ssd 54', 'hdmi 52', 'gant 97', 'ssd 43', 'chapeau 5', 'armoire 98', 'pc 58', 'montre 26', 'souris 69', 'four 51', 'hdmi 93', 'veste 37', 'chaussure 65', 'smartphone 13', 'echarpe 29', 'parapluie 23', 'pc 95', 'ssd 63', 'sweat 89', 'livre 15', 'clavier 58', 'pull 80', 'sweat 61', 'gant 57', 'tablette 8', 'bonnet 84', 'clavier 86', 'montre 7', 'montre 87']\n",
            "Sortie 3 : 1 \n",
            "\n"
          ],
          "name": "stdout"
        }
      ]
    },
    {
      "cell_type": "code",
      "metadata": {
        "id": "LHfsjUasvHPH"
      },
      "source": [
        "lines = ['37', 'armoire', 'armoire 16', 'armoire 38', 'armoire 83', 'four 82', 'armoire 85', 'armoire 17', 'tv 41', 'armoire 91', 'armoire 92', 'four 5', 'tv 67', 'four 69', 'armoire 48', 'four 46', 'tv 65', 'armoire 93', 'tv 95', 'armoire 99', 'armoire 96', 'armoire 20', 'armoire 87', 'four 53', 'four 16', 'armoire 83', 'tv 51', 'four 57', 'four 57', 'four 58', 'four 22', 'armoire 31', 'armoire 15', 'four 14', 'tv 37', 'armoire 64', 'tv 12', 'four 58', 'four 92']\n",
        "# A vous de jouer !"
      ],
      "execution_count": 4,
      "outputs": []
    },
    {
      "cell_type": "markdown",
      "metadata": {
        "id": "AxHjx5XjvMx4"
      },
      "source": [
        "## **Exercice 3 : Hydroponie ★★☆**\n",
        "\n",
        "**Objectif**\n",
        "\n",
        "Il y a fort longtemps, dans une galaxie lointaine, très lointaine… Vous habitez une planète désertique à deux soleils, et êtes le modeste exploitant d’une ferme hydroponique. Votre exploitation est représentée par une grille carrée sur laquelle sont disposés des évaporateurs d’humidité. Chaque évaporateur d’humidité irrigue et rend ainsi cultivables les 8 cases qui lui sont adjacentes (on ne peut rien cultiver sur une case contenant un évaporateur d’humidité).\n",
        "\n",
        "Le but de ce challenge est de déterminer le nombre de cases cultivables de votre exploitation.\n",
        "\n",
        "\n",
        "\n",
        "**Format des données**\n",
        "\n",
        "*Entrée*\n",
        "\n",
        "Ligne 1 : un entier N compris entre 3 et 50 représentant la taille de votre ferme (une grille carrée de dimension N x N)\n",
        "\n",
        "Lignes 2 à N+1 : les lignes de la carte représentées par des chaînes de N caractères. Les caractères de la ligne sont soit X (un évaporateur) soit . (une case vide).\n",
        "\n",
        "*Sortie*\n",
        "\n",
        "Un entier représentant le nombre de cases cultivables de votre ferme."
      ]
    },
    {
      "cell_type": "code",
      "metadata": {
        "colab": {
          "base_uri": "https://localhost:8080/"
        },
        "id": "Z9dHS08ivKWc",
        "outputId": "9cbd2e9a-1cdf-4c48-a445-0bddc7a1303a"
      },
      "source": [
        "import csv\n",
        "filedir = ('https://cours.unilasalle.fr/courses/SG4007/document/Exercices_Python/Hydroponie/')\n",
        "\n",
        "import ssl\n",
        "ssl._create_default_https_context = ssl._create_unverified_context\n",
        "\n",
        "import urllib.request\n",
        "\n",
        "for x in range(1,6):\n",
        "  f = urllib.request.urlopen(str(filedir+\"input\"+str(x)+\".txt\"))\n",
        "\n",
        "  data=[]\n",
        "  for i in f:\n",
        "      line=i.decode('utf-8').strip()\n",
        "      data.append(line)\n",
        "  print('Entrée',x,':',data)\n",
        "\n",
        "  f = urllib.request.urlopen(str(filedir+\"output\"+str(x)+\".txt\"))\n",
        "  for i in f:\n",
        "      line=i.decode('utf-8').strip()\n",
        "  print('Sortie',x,':',line,'\\n')"
      ],
      "execution_count": 6,
      "outputs": [
        {
          "output_type": "stream",
          "text": [
            "Entrée 1 : ['6', '.....X', '....X.', '......', '......', '.XX...', '......']\n",
            "Sortie 1 : 17 \n",
            "\n",
            "Entrée 2 : ['12', '.....X..X.X.', 'X..X.......X', '...X..X.X..X', '....X.......', '.X...X......', '.X.X........', 'X.XX......X.', '...X........', '.....X......', '...X....X...', '...........X', '.....X...X..']\n",
            "Sortie 2 : 92 \n",
            "\n",
            "Entrée 3 : ['18', '.X..XX...X...X..X.', '............X...X.', 'X........X.......X', '...X....X.........', '.XX....X.........X', 'X................X', '....X.........X...', 'X....XX..X........', '....X.X.XX.X.X....', '.................X', 'XX................', '............X.X...', '....X.....X..X....', '...X.X...XX.......', '..X..X........X...', '.X.XX.X.....XXX..X', '............X..X.X', '................X.']\n",
            "Sortie 3 : 196 \n",
            "\n",
            "Entrée 4 : ['24', '............X.....X....X', '.....X.X.....X.X........', '....X.X...X...X..X..X...', '...X.........XXX.X......', '...X............X....X..', '.X..X........XX.........', 'X..X.XXXX...X.X.......X.', 'XX..........X...........', '......X........X........', '......X...XX............', '..X.....X.......X.X.....', '..X......X..XX.X.XX...X.', '.....X.......XX.....X...', 'X....X..X.X.X......X....', '.X...X.X...........X....', '...X..X.................', '.XX..X.XXX.............X', 'X..............X.....XX.', '.X..........X...X...X...', '..X...................X.', '....X.....X..X.X.....XX.', '.....................X..', '...X.X...........XX.....', 'X.X.........X.........X.']\n",
            "Sortie 4 : 349 \n",
            "\n",
            "Entrée 5 : ['30', '......X.........X.....X.....X.', '.X.....X.........X.X.X.X...X..', 'X.X..X........X............X..', '............X.......X..X...X..', '.X..X.X...X..X............X...', '.......X......X...........X...', '..X......X..................XX', 'X..X..........................', '..............................', '..X...........................', '...X..XX......................', '.X.X............X..X..........', '.........XX......X....X.......', '....X...X.X.X.X.....XX...X.X..', 'X.........X.X..XX.....XX......', '....................X....X....', '................X........X....', 'X...XX.X.....X......XX.X......', '.....X..X....X........X.....X.', 'X....X.XX.....X.X.X....XX.XX..', '..........XX.............X....', '.......X.....X..........X..X..', '...X...........X....X.XX......', '...XX..........X.X.X..X...X..X', '.X.............X.X..X....X....', '.....X.........X........X.....', '.....X.X........X......X......', '..X...................X......X', 'XX........X...................', '.X..X...X.....................']\n",
            "Sortie 5 : 499 \n",
            "\n"
          ],
          "name": "stdout"
        }
      ]
    },
    {
      "cell_type": "code",
      "metadata": {
        "id": "4You-yNQvrva"
      },
      "source": [
        "lines = ['6', '.....X', '....X.', '......', '......', '.XX...', '......']\n",
        "# A vous de jouer !"
      ],
      "execution_count": 23,
      "outputs": []
    },
    {
      "cell_type": "markdown",
      "metadata": {
        "id": "XTYqQOkmxE_Y"
      },
      "source": [
        "## **Exercice 4 : ADN ★★★**\n",
        "\n",
        "**Objectif**\n",
        "\n",
        "Vous avez pour mission d’évaluer le potentiel génétique des candidats d’un nouveau centre spatial. Pour cela, vous avez développé une méthode de séquençage de leur ADN. Le candidat est une espèce à 1 chromosome double brin. C’est-à-dire que son ADN peut être vu comme deux chaînes de caractères a et b composées exclusivement des lettres A, C, G et T. Par ailleurs ces deux chaînes sont complémentaires, elles sont donc de même longueur et vérifient :\n",
        "- a[i] = A ⇔ b[i] = T\n",
        "- a[i] = T ⇔ b[i] = A\n",
        "- a[i] = C ⇔ b[i] = G\n",
        "- a[i] = G ⇔ b[i] = C\n",
        "\n",
        "Lors du séquençage, les deux chaînes se cassent en plusieurs petits fragments qui sont mélangés entre eux. Votre méthode n’est pas si mauvaise que ça, vous savez que l’ordre des caractères dans un fragment n’a pas été inversé. Vous êtes cependant obligé écrire un programme pour recoller les morceaux dans un ordre plausible. Pour vous assurer que vous n’avez oublié aucun fragment, votre programme renverra les deux chaînes a et b en séparant les différents fragments par des espaces.\n",
        "\n",
        "Indication : l’ADN d’un candidat n’est pas très complexe, il n’y aura jamais plus de 8 fragments, vous pourrez donc procéder par énumération exhaustive (force brute).\n",
        "\n",
        "**Exemple**\n",
        "\n",
        "Si vous avez les fragments suivants :\n",
        "AT\n",
        "G\n",
        "CC\n",
        "TAG\n",
        "\n",
        "Une solution possible est alors :\n",
        "\n",
        "![codecontest_fr_ot_ctstfr0114.png](data:image/png;base64,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)\n",
        "\n",
        "Ce qui donne la sortie suivante (voir plus bas pour le format de sortie) :\n",
        "TAG G#AT CC\n",
        "On pourrait bien sûr permuter les brins 1 et 2 et la solution serait aussi correcte.\n",
        "\n",
        "**Format des données**\n",
        "\n",
        "*Entrée*\n",
        "\n",
        "Ligne 1 : un entier N compris entre 2 et 8, indiquant le nombre de fragments d’ADN.\n",
        "\n",
        "Lignes 2 à N+1 : une chaine comprenant entre 1 et 16 caractères, composée exclusivement des lettres A, T, C, et G représentant un fragment.\n",
        "\n",
        "*Sortie*\n",
        "\n",
        "Une chaîne de caractères représentant les 2 brins. Les 2 brins sont séparés par le caractère # et dans un brin donné les fragments utilisés sont séparés par des espaces."
      ]
    },
    {
      "cell_type": "code",
      "metadata": {
        "colab": {
          "base_uri": "https://localhost:8080/"
        },
        "id": "FVQKLiUHxaw1",
        "outputId": "4244e4e1-ca80-4a7b-aa69-cf5090a26c83"
      },
      "source": [
        "import csv\n",
        "filedir = ('https://cours.unilasalle.fr/courses/SG4007/document/Exercices_Python/ADN/')\n",
        "\n",
        "import ssl\n",
        "ssl._create_default_https_context = ssl._create_unverified_context\n",
        "\n",
        "import urllib.request\n",
        "\n",
        "for x in range(1,7):\n",
        "  f = urllib.request.urlopen(str(filedir+\"input\"+str(x)+\".txt\"))\n",
        "\n",
        "  data=[]\n",
        "  for i in f:\n",
        "      line=i.decode('utf-8').strip()\n",
        "      data.append(line)\n",
        "  print('Entrée',x,':',data)\n",
        "\n",
        "  f = urllib.request.urlopen(str(filedir+\"output\"+str(x)+\".txt\"))\n",
        "  for i in f:\n",
        "      line=i.decode('utf-8').strip()\n",
        "  print('Sortie',x,':',line,'\\n')"
      ],
      "execution_count": 7,
      "outputs": [
        {
          "output_type": "stream",
          "text": [
            "Entrée 1 : ['3', 'CT', 'G', 'A']\n",
            "Sortie 1 : G A#CT \n",
            "\n",
            "Entrée 2 : ['4', 'CGTG', 'GCAC', 'TC', 'AG']\n",
            "Sortie 2 : CGTG TC#GCAC AG \n",
            "\n",
            "Entrée 3 : ['5', 'TGA', 'ATA', 'T', 'ACT', 'TA']\n",
            "Sortie 3 : ATA TGA#TA T ACT \n",
            "\n",
            "Entrée 4 : ['6', 'GTG', 'CAC', 'GCG', 'GGTC', 'CGC', 'CCAG']\n",
            "Sortie 4 : GTG CGC GGTC#CAC GCG CCAG \n",
            "\n",
            "Entrée 5 : ['7', 'C', 'T', 'T', 'CGA', 'AG', 'GG', 'CC']\n",
            "Sortie 5 : T CGA GG#AG C T CC \n",
            "\n",
            "Entrée 6 : ['8', 'ACT', 'AGGG', 'GGT', 'CCAC', 'GTG', 'TAC', 'TCCC', 'AATG']\n",
            "Sortie 6 : TCCC CCAC ACT TAC#AGGG GGT GTG AATG \n",
            "\n"
          ],
          "name": "stdout"
        }
      ]
    },
    {
      "cell_type": "code",
      "metadata": {
        "id": "Sk4a642ixnWy"
      },
      "source": [
        "lines = ['3', 'CT', 'G', 'A']\n",
        "# A vous de jouer !"
      ],
      "execution_count": 8,
      "outputs": []
    }
  ]
}