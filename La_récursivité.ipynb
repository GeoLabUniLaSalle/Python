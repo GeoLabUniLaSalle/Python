{
  "nbformat": 4,
  "nbformat_minor": 0,
  "metadata": {
    "colab": {
      "name": "La récursivité",
      "provenance": [],
      "collapsed_sections": [],
      "authorship_tag": "ABX9TyMrZZo6anb2ALCXQZhqv6FM",
      "include_colab_link": true
    },
    "kernelspec": {
      "name": "python3",
      "display_name": "Python 3"
    }
  },
  "cells": [
    {
      "cell_type": "markdown",
      "metadata": {
        "id": "view-in-github",
        "colab_type": "text"
      },
      "source": [
        "<a href=\"https://colab.research.google.com/github/GeoLabUniLaSalle/Python/blob/main/La_r%C3%A9cursivit%C3%A9.ipynb\" target=\"_parent\"><img src=\"https://colab.research.google.com/assets/colab-badge.svg\" alt=\"Open In Colab\"/></a>"
      ]
    },
    {
      "cell_type": "markdown",
      "metadata": {
        "id": "UrTVvc1zY9IS"
      },
      "source": [
        "# **La récursivité**\n",
        "\n",
        "Dans ce chapitre, nous allons aborder la notion de fonction récursive qui nous sera utile dans les prochains chapitres.\n",
        "\n",
        "Une **fonction** est dite **récursive** si elle contient au moins un appel à elle-même.\n",
        "\n",
        "Voyons un premier exemple avec une fonction qui calcule le produit factoriel d'un nombre passé en paramètre."
      ]
    },
    {
      "cell_type": "code",
      "metadata": {
        "colab": {
          "base_uri": "https://localhost:8080/"
        },
        "id": "IrEtECt-Y7Al",
        "outputId": "437c3b92-a71d-4959-a8b5-575b78f32a48"
      },
      "source": [
        "def factorielle(x):\n",
        "  if(x==0):\n",
        "    return 1\n",
        "  else:\n",
        "    return x*factorielle(x-1)\n",
        "\n",
        "print(factorielle(6))"
      ],
      "execution_count": 14,
      "outputs": [
        {
          "output_type": "stream",
          "text": [
            "720\n"
          ],
          "name": "stdout"
        }
      ]
    },
    {
      "cell_type": "markdown",
      "metadata": {
        "id": "dYscWckxaP7f"
      },
      "source": [
        "Pour comprendre le fonctionnement de cette fonction, en voici la trace."
      ]
    },
    {
      "cell_type": "code",
      "metadata": {
        "colab": {
          "base_uri": "https://localhost:8080/"
        },
        "id": "zrm2zwrbZ5YG",
        "outputId": "67530103-1b2b-4024-fb8b-64eedcd2729c"
      },
      "source": [
        "from functools import wraps\n",
        "\n",
        "def trace(func):\n",
        "    @wraps(func)\n",
        "    def decorateur(*args):\n",
        "        indent = '...' * decorateur.__depth\n",
        "        print('{:s} -> {:s}{:s}'.format(indent, decorateur.__name__, repr((args))))\n",
        "        decorateur.__depth += 1\n",
        "        f = func(*args)\n",
        "        decorateur.__depth -= 1\n",
        "        print('{:s} <- {:s}'.format(indent, repr(f)))\n",
        "        return f\n",
        "    decorateur.__depth = 0\n",
        "    return decorateur\n",
        "\n",
        "@trace\n",
        "def factorielle(x):\n",
        "  if(x==0):\n",
        "    return 1\n",
        "  else:\n",
        "    return x*factorielle(x-1)\n",
        "\n",
        "print(factorielle(6))"
      ],
      "execution_count": 21,
      "outputs": [
        {
          "output_type": "stream",
          "text": [
            " -> factorielle(6,)\n",
            "... -> factorielle(5,)\n",
            "...... -> factorielle(4,)\n",
            "......... -> factorielle(3,)\n",
            "............ -> factorielle(2,)\n",
            "............... -> factorielle(1,)\n",
            ".................. -> factorielle(0,)\n",
            ".................. <- 1\n",
            "............... <- 1\n",
            "............ <- 2\n",
            "......... <- 6\n",
            "...... <- 24\n",
            "... <- 120\n",
            " <- 720\n",
            "720\n"
          ],
          "name": "stdout"
        }
      ]
    },
    {
      "cell_type": "markdown",
      "metadata": {
        "id": "io8p5eYgi60R"
      },
      "source": [
        "Le point important lorsque l'on manipule une fonction décursive est de s'assurer que la fonction possède une **condition d'arrêt** pour éviter qu'elle ne s'appelle à l'infini."
      ]
    },
    {
      "cell_type": "code",
      "metadata": {
        "colab": {
          "base_uri": "https://localhost:8080/",
          "height": 375
        },
        "id": "3NgM_cWMeFpx",
        "outputId": "2839642e-5755-40a5-fee2-44c50ba25c08"
      },
      "source": [
        "def factorielle(x):\n",
        "  # print(x) pour comprende l'évolution de x\n",
        "  return x*factorielle(x-1)\n",
        "\n",
        "print(factorielle(6))"
      ],
      "execution_count": 31,
      "outputs": [
        {
          "output_type": "error",
          "ename": "RecursionError",
          "evalue": "ignored",
          "traceback": [
            "\u001b[0;31m---------------------------------------------------------------------------\u001b[0m",
            "\u001b[0;31mRecursionError\u001b[0m                            Traceback (most recent call last)",
            "\u001b[0;32m<ipython-input-31-a565d42d45ab>\u001b[0m in \u001b[0;36m<module>\u001b[0;34m()\u001b[0m\n\u001b[1;32m      3\u001b[0m   \u001b[0;32mreturn\u001b[0m \u001b[0mx\u001b[0m\u001b[0;34m*\u001b[0m\u001b[0mfactorielle\u001b[0m\u001b[0;34m(\u001b[0m\u001b[0mx\u001b[0m\u001b[0;34m-\u001b[0m\u001b[0;36m1\u001b[0m\u001b[0;34m)\u001b[0m\u001b[0;34m\u001b[0m\u001b[0;34m\u001b[0m\u001b[0m\n\u001b[1;32m      4\u001b[0m \u001b[0;34m\u001b[0m\u001b[0m\n\u001b[0;32m----> 5\u001b[0;31m \u001b[0mprint\u001b[0m\u001b[0;34m(\u001b[0m\u001b[0mfactorielle\u001b[0m\u001b[0;34m(\u001b[0m\u001b[0;36m6\u001b[0m\u001b[0;34m)\u001b[0m\u001b[0;34m)\u001b[0m\u001b[0;34m\u001b[0m\u001b[0;34m\u001b[0m\u001b[0m\n\u001b[0m",
            "\u001b[0;32m<ipython-input-31-a565d42d45ab>\u001b[0m in \u001b[0;36mfactorielle\u001b[0;34m(x)\u001b[0m\n\u001b[1;32m      1\u001b[0m \u001b[0;32mdef\u001b[0m \u001b[0mfactorielle\u001b[0m\u001b[0;34m(\u001b[0m\u001b[0mx\u001b[0m\u001b[0;34m)\u001b[0m\u001b[0;34m:\u001b[0m\u001b[0;34m\u001b[0m\u001b[0;34m\u001b[0m\u001b[0m\n\u001b[1;32m      2\u001b[0m   \u001b[0;31m# print(x) pour comprende l'évolution de x\u001b[0m\u001b[0;34m\u001b[0m\u001b[0;34m\u001b[0m\u001b[0;34m\u001b[0m\u001b[0m\n\u001b[0;32m----> 3\u001b[0;31m   \u001b[0;32mreturn\u001b[0m \u001b[0mx\u001b[0m\u001b[0;34m*\u001b[0m\u001b[0mfactorielle\u001b[0m\u001b[0;34m(\u001b[0m\u001b[0mx\u001b[0m\u001b[0;34m-\u001b[0m\u001b[0;36m1\u001b[0m\u001b[0;34m)\u001b[0m\u001b[0;34m\u001b[0m\u001b[0;34m\u001b[0m\u001b[0m\n\u001b[0m\u001b[1;32m      4\u001b[0m \u001b[0;34m\u001b[0m\u001b[0m\n\u001b[1;32m      5\u001b[0m \u001b[0mprint\u001b[0m\u001b[0;34m(\u001b[0m\u001b[0mfactorielle\u001b[0m\u001b[0;34m(\u001b[0m\u001b[0;36m6\u001b[0m\u001b[0;34m)\u001b[0m\u001b[0;34m)\u001b[0m\u001b[0;34m\u001b[0m\u001b[0;34m\u001b[0m\u001b[0m\n",
            "... last 1 frames repeated, from the frame below ...\n",
            "\u001b[0;32m<ipython-input-31-a565d42d45ab>\u001b[0m in \u001b[0;36mfactorielle\u001b[0;34m(x)\u001b[0m\n\u001b[1;32m      1\u001b[0m \u001b[0;32mdef\u001b[0m \u001b[0mfactorielle\u001b[0m\u001b[0;34m(\u001b[0m\u001b[0mx\u001b[0m\u001b[0;34m)\u001b[0m\u001b[0;34m:\u001b[0m\u001b[0;34m\u001b[0m\u001b[0;34m\u001b[0m\u001b[0m\n\u001b[1;32m      2\u001b[0m   \u001b[0;31m# print(x) pour comprende l'évolution de x\u001b[0m\u001b[0;34m\u001b[0m\u001b[0;34m\u001b[0m\u001b[0;34m\u001b[0m\u001b[0m\n\u001b[0;32m----> 3\u001b[0;31m   \u001b[0;32mreturn\u001b[0m \u001b[0mx\u001b[0m\u001b[0;34m*\u001b[0m\u001b[0mfactorielle\u001b[0m\u001b[0;34m(\u001b[0m\u001b[0mx\u001b[0m\u001b[0;34m-\u001b[0m\u001b[0;36m1\u001b[0m\u001b[0;34m)\u001b[0m\u001b[0;34m\u001b[0m\u001b[0;34m\u001b[0m\u001b[0m\n\u001b[0m\u001b[1;32m      4\u001b[0m \u001b[0;34m\u001b[0m\u001b[0m\n\u001b[1;32m      5\u001b[0m \u001b[0mprint\u001b[0m\u001b[0;34m(\u001b[0m\u001b[0mfactorielle\u001b[0m\u001b[0;34m(\u001b[0m\u001b[0;36m6\u001b[0m\u001b[0;34m)\u001b[0m\u001b[0;34m)\u001b[0m\u001b[0;34m\u001b[0m\u001b[0;34m\u001b[0m\u001b[0m\n",
            "\u001b[0;31mRecursionError\u001b[0m: maximum recursion depth exceeded"
          ]
        }
      ]
    },
    {
      "cell_type": "markdown",
      "metadata": {
        "id": "q6lXs-xGjs5l"
      },
      "source": [
        "Toute fonction récursive débutera par une condition d'arrêt permettant d'arrêter les appels à la fonction lorsqu'une condition est remplie.\n",
        "\n",
        "Dans le premier exemple, factorielle s'arrête quand la valeur passée en paramètre est 0."
      ]
    },
    {
      "cell_type": "code",
      "metadata": {
        "colab": {
          "base_uri": "https://localhost:8080/"
        },
        "id": "TDj9Avf_f3mn",
        "outputId": "40d5bccd-d152-40d8-b9fd-2f8a195ea7ef"
      },
      "source": [
        "def factorielle(x):\n",
        "  if(x==0):\n",
        "    return 1\n",
        "  else:\n",
        "    return x*factorielle(x-1)\n",
        "\n",
        "print(factorielle(6))"
      ],
      "execution_count": 28,
      "outputs": [
        {
          "output_type": "stream",
          "text": [
            "720\n"
          ],
          "name": "stdout"
        }
      ]
    },
    {
      "cell_type": "markdown",
      "metadata": {
        "id": "6LjJjCVNkQMZ"
      },
      "source": [
        "Il faut s'assurer que la condition d'arrêt devienne obligatoirement *True* au bout d'un moment.\n",
        "\n",
        "La condition d'arrêt que nous avons choisi semble correcte, mais si on appelle la fonction factorielle avec un paramètre négatif, nous avons un problème."
      ]
    },
    {
      "cell_type": "code",
      "metadata": {
        "colab": {
          "base_uri": "https://localhost:8080/",
          "height": 375
        },
        "id": "ri97yVDjkMk8",
        "outputId": "69530829-442f-465b-a4f4-ed8b3018b5fc"
      },
      "source": [
        "def factorielle(x):\n",
        "  if(x==0):\n",
        "    return 1\n",
        "  else:\n",
        "    # print(x) pour comprende l'évolution de x\n",
        "    return x*factorielle(x-1)\n",
        "\n",
        "print(factorielle(-3))"
      ],
      "execution_count": 32,
      "outputs": [
        {
          "output_type": "error",
          "ename": "RecursionError",
          "evalue": "ignored",
          "traceback": [
            "\u001b[0;31m---------------------------------------------------------------------------\u001b[0m",
            "\u001b[0;31mRecursionError\u001b[0m                            Traceback (most recent call last)",
            "\u001b[0;32m<ipython-input-32-fb9daa74dcae>\u001b[0m in \u001b[0;36m<module>\u001b[0;34m()\u001b[0m\n\u001b[1;32m      6\u001b[0m     \u001b[0;32mreturn\u001b[0m \u001b[0mx\u001b[0m\u001b[0;34m*\u001b[0m\u001b[0mfactorielle\u001b[0m\u001b[0;34m(\u001b[0m\u001b[0mx\u001b[0m\u001b[0;34m-\u001b[0m\u001b[0;36m1\u001b[0m\u001b[0;34m)\u001b[0m\u001b[0;34m\u001b[0m\u001b[0;34m\u001b[0m\u001b[0m\n\u001b[1;32m      7\u001b[0m \u001b[0;34m\u001b[0m\u001b[0m\n\u001b[0;32m----> 8\u001b[0;31m \u001b[0mprint\u001b[0m\u001b[0;34m(\u001b[0m\u001b[0mfactorielle\u001b[0m\u001b[0;34m(\u001b[0m\u001b[0;34m-\u001b[0m\u001b[0;36m3\u001b[0m\u001b[0;34m)\u001b[0m\u001b[0;34m)\u001b[0m\u001b[0;34m\u001b[0m\u001b[0;34m\u001b[0m\u001b[0m\n\u001b[0m",
            "\u001b[0;32m<ipython-input-32-fb9daa74dcae>\u001b[0m in \u001b[0;36mfactorielle\u001b[0;34m(x)\u001b[0m\n\u001b[1;32m      4\u001b[0m   \u001b[0;32melse\u001b[0m\u001b[0;34m:\u001b[0m\u001b[0;34m\u001b[0m\u001b[0;34m\u001b[0m\u001b[0m\n\u001b[1;32m      5\u001b[0m     \u001b[0;31m# print(x) pour comprende l'évolution de x\u001b[0m\u001b[0;34m\u001b[0m\u001b[0;34m\u001b[0m\u001b[0;34m\u001b[0m\u001b[0m\n\u001b[0;32m----> 6\u001b[0;31m     \u001b[0;32mreturn\u001b[0m \u001b[0mx\u001b[0m\u001b[0;34m*\u001b[0m\u001b[0mfactorielle\u001b[0m\u001b[0;34m(\u001b[0m\u001b[0mx\u001b[0m\u001b[0;34m-\u001b[0m\u001b[0;36m1\u001b[0m\u001b[0;34m)\u001b[0m\u001b[0;34m\u001b[0m\u001b[0;34m\u001b[0m\u001b[0m\n\u001b[0m\u001b[1;32m      7\u001b[0m \u001b[0;34m\u001b[0m\u001b[0m\n\u001b[1;32m      8\u001b[0m \u001b[0mprint\u001b[0m\u001b[0;34m(\u001b[0m\u001b[0mfactorielle\u001b[0m\u001b[0;34m(\u001b[0m\u001b[0;34m-\u001b[0m\u001b[0;36m3\u001b[0m\u001b[0;34m)\u001b[0m\u001b[0;34m)\u001b[0m\u001b[0;34m\u001b[0m\u001b[0;34m\u001b[0m\u001b[0m\n",
            "... last 1 frames repeated, from the frame below ...\n",
            "\u001b[0;32m<ipython-input-32-fb9daa74dcae>\u001b[0m in \u001b[0;36mfactorielle\u001b[0;34m(x)\u001b[0m\n\u001b[1;32m      4\u001b[0m   \u001b[0;32melse\u001b[0m\u001b[0;34m:\u001b[0m\u001b[0;34m\u001b[0m\u001b[0;34m\u001b[0m\u001b[0m\n\u001b[1;32m      5\u001b[0m     \u001b[0;31m# print(x) pour comprende l'évolution de x\u001b[0m\u001b[0;34m\u001b[0m\u001b[0;34m\u001b[0m\u001b[0;34m\u001b[0m\u001b[0m\n\u001b[0;32m----> 6\u001b[0;31m     \u001b[0;32mreturn\u001b[0m \u001b[0mx\u001b[0m\u001b[0;34m*\u001b[0m\u001b[0mfactorielle\u001b[0m\u001b[0;34m(\u001b[0m\u001b[0mx\u001b[0m\u001b[0;34m-\u001b[0m\u001b[0;36m1\u001b[0m\u001b[0;34m)\u001b[0m\u001b[0;34m\u001b[0m\u001b[0;34m\u001b[0m\u001b[0m\n\u001b[0m\u001b[1;32m      7\u001b[0m \u001b[0;34m\u001b[0m\u001b[0m\n\u001b[1;32m      8\u001b[0m \u001b[0mprint\u001b[0m\u001b[0;34m(\u001b[0m\u001b[0mfactorielle\u001b[0m\u001b[0;34m(\u001b[0m\u001b[0;34m-\u001b[0m\u001b[0;36m3\u001b[0m\u001b[0;34m)\u001b[0m\u001b[0;34m)\u001b[0m\u001b[0;34m\u001b[0m\u001b[0;34m\u001b[0m\u001b[0m\n",
            "\u001b[0;31mRecursionError\u001b[0m: maximum recursion depth exceeded in comparison"
          ]
        }
      ]
    },
    {
      "cell_type": "markdown",
      "metadata": {
        "id": "YqD-iHzekz9d"
      },
      "source": [
        "Voici une solution."
      ]
    },
    {
      "cell_type": "code",
      "metadata": {
        "colab": {
          "base_uri": "https://localhost:8080/"
        },
        "id": "6KNJA_vAklnC",
        "outputId": "eaab9fda-699c-4008-a00a-52672ed38139"
      },
      "source": [
        "def factorielle(x):\n",
        "  if(x<0):\n",
        "    return None\n",
        "  elif(x==0):\n",
        "    return 1\n",
        "  else:\n",
        "    # print(x) pour comprende l'évolution de x\n",
        "    return x*factorielle(x-1)\n",
        "\n",
        "print(factorielle(-3))\n",
        "print(factorielle(6))"
      ],
      "execution_count": 35,
      "outputs": [
        {
          "output_type": "stream",
          "text": [
            "None\n",
            "720\n"
          ],
          "name": "stdout"
        }
      ]
    },
    {
      "cell_type": "markdown",
      "metadata": {
        "id": "s0c-INzolP24"
      },
      "source": [
        "Il n'existe pas de solution automatique pour valider une condition d'arrêt. Il faut prendre en compte manuellement tous les cas particuliers.\n",
        "\n",
        "Notons que la fonction factorielle peut s'écrire sans récursivite, mais avec une boucle."
      ]
    },
    {
      "cell_type": "code",
      "metadata": {
        "colab": {
          "base_uri": "https://localhost:8080/"
        },
        "id": "LEuvGQKGm2J7",
        "outputId": "e3340b98-cd46-4bde-e112-143ae1370cc2"
      },
      "source": [
        "def factorielle(x):\n",
        "  if(x==0):\n",
        "    return 1\n",
        "  else:\n",
        "    f=1\n",
        "    for i in range(2,x+1):\n",
        "      f*=i\n",
        "  return f\n",
        "\n",
        "print(factorielle(6))"
      ],
      "execution_count": 51,
      "outputs": [
        {
          "output_type": "stream",
          "text": [
            "720\n"
          ],
          "name": "stdout"
        }
      ]
    },
    {
      "cell_type": "markdown",
      "metadata": {
        "id": "p1uXGe4cne8Z"
      },
      "source": [
        "De manière générale, une boucle peut être remplacée par une fonction récursive. L'inverse n'est pas vrai, et il peut être beaucoup plus facile de trouver une solution récursive plutôt qu'itérative.\n",
        "\n",
        "Prenons l'exemple de la suite de *Fibonacci* qui peut être codée simplement ainsi."
      ]
    },
    {
      "cell_type": "code",
      "metadata": {
        "colab": {
          "base_uri": "https://localhost:8080/"
        },
        "id": "hFkK7a0mk99A",
        "outputId": "bcf8a598-c59b-46cf-9759-b998b540fa3c"
      },
      "source": [
        "def fibonacci(x):\n",
        "  if(x<=1):\n",
        "    return x\n",
        "  else:\n",
        "    return (fibonacci(x-1) + fibonacci(x-2))\n",
        "\n",
        "for i in range(12):\n",
        "    print(fibonacci(i))"
      ],
      "execution_count": 47,
      "outputs": [
        {
          "output_type": "stream",
          "text": [
            "0\n",
            "1\n",
            "1\n",
            "2\n",
            "3\n",
            "5\n",
            "8\n",
            "13\n",
            "21\n",
            "34\n",
            "55\n",
            "89\n"
          ],
          "name": "stdout"
        }
      ]
    },
    {
      "cell_type": "markdown",
      "metadata": {
        "id": "vG1pkpMeoNUt"
      },
      "source": [
        "La version itérative de cette fonction est moins évidente."
      ]
    },
    {
      "cell_type": "code",
      "metadata": {
        "colab": {
          "base_uri": "https://localhost:8080/"
        },
        "id": "XygRnmkPmIBD",
        "outputId": "8d9c0f89-a9bf-4293-ebc9-78412c173274"
      },
      "source": [
        "def fibonacci(x):\n",
        "  if(x<=1):\n",
        "    return x\n",
        "  else:\n",
        "    a,b = 0,1\n",
        "    for i in range(2,x+1):\n",
        "      a,b = b,a+b\n",
        "  return b\n",
        "\n",
        "for i in range(12):\n",
        "    print(fibonacci(i))"
      ],
      "execution_count": 52,
      "outputs": [
        {
          "output_type": "stream",
          "text": [
            "0\n",
            "1\n",
            "1\n",
            "2\n",
            "3\n",
            "5\n",
            "8\n",
            "13\n",
            "21\n",
            "34\n",
            "55\n",
            "89\n"
          ],
          "name": "stdout"
        }
      ]
    }
  ]
}