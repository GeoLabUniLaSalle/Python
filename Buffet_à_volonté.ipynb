{
  "nbformat": 4,
  "nbformat_minor": 0,
  "metadata": {
    "colab": {
      "name": "Buffet à volonté.ipynb",
      "provenance": [],
      "collapsed_sections": [],
      "authorship_tag": "ABX9TyPtpUzmIQJ/Vb6/m+zVg7fg",
      "include_colab_link": true
    },
    "kernelspec": {
      "name": "python3",
      "display_name": "Python 3"
    }
  },
  "cells": [
    {
      "cell_type": "markdown",
      "metadata": {
        "id": "view-in-github",
        "colab_type": "text"
      },
      "source": [
        "<a href=\"https://colab.research.google.com/github/GeoLabUniLaSalle/Python/blob/main/Buffet_%C3%A0_volont%C3%A9.ipynb\" target=\"_parent\"><img src=\"https://colab.research.google.com/assets/colab-badge.svg\" alt=\"Open In Colab\"/></a>"
      ]
    },
    {
      "cell_type": "markdown",
      "metadata": {
        "id": "uANRNSjaBLPH"
      },
      "source": [
        "## **Buffet à volonté ★☆☆**\n",
        "\n",
        "*Exercice disponible sur la plateforme TOSA : Battle Dev RegionJob - Mars 2018 : https://www.isograd.com/FR/solutionconcours.php*\n",
        "\n",
        "**Énoncé**\n",
        "\n",
        "L'informatique c'est bien, mais la cuisine c'est encore mieux. Lassé de quitter vos cantines préférées en ayant encore faim, vous avez décidé de monter un restaurant avec un concept de buffet à volonté. Comme vous voyez grand, vous avez décidé de faire des \"réductions de groupe\" :\n",
        "- 10% sur la note pour les groupes d'au moins 4 personnes\n",
        "- 20% sur la note pour les groupes d'au moins 6 personnes\n",
        "- 30% sur la note pour les groupes d'au moins 10 personnes\n",
        "\n",
        "\n",
        "Pour votre business plan, vous souhaitez estimer le montant des ventes en fonction du prix par personne et de la configuration des tables servies.\n",
        "\n",
        "\n",
        "\n",
        "**Format des données**\n",
        "\n",
        "*Entrée*\n",
        "\n",
        "Ligne 1 : un entier compris entre 20 et 40 correspondant au prix du buffet par personne.\n",
        "Ligne 2 : un entier N compris entre 5 et 50 correspondant au nombre de tables servies.\n",
        "Lignes 3 à N+2 : un entier compris entre 2 et 15 représentant le nombre de personnes présentes à une table.\n",
        "\n",
        "*Sortie*\n",
        "\n",
        "Un entier représentant le montant des ventes du restaurant arrondi à l'entier supérieur."
      ]
    },
    {
      "cell_type": "markdown",
      "metadata": {
        "id": "niziBj0lCjIs"
      },
      "source": [
        "## **Données**\n",
        "\n",
        "*Accès aux données*"
      ]
    },
    {
      "cell_type": "code",
      "metadata": {
        "colab": {
          "base_uri": "https://localhost:8080/"
        },
        "id": "Zca4cpMjBI78",
        "outputId": "4853d008-fbc0-4106-fc8f-e4405e7ef5fd"
      },
      "source": [
        "import csv\n",
        "filedir = ('https://cours.unilasalle.fr/courses/SG4007/document/Exercices_Python/Buffet_a_volonte/')\n",
        "\n",
        "import ssl\n",
        "ssl._create_default_https_context = ssl._create_unverified_context\n",
        "\n",
        "import urllib.request\n",
        "\n",
        "for x in range(1,4):\n",
        "  f = urllib.request.urlopen(str(filedir+\"input\"+str(x)+\".txt\"))\n",
        "\n",
        "  data=[]\n",
        "  for i in f:\n",
        "      line=i.decode('utf-8').strip()\n",
        "      data.append(line)\n",
        "  print('Entrée',x,':',data)\n",
        "\n",
        "  f = urllib.request.urlopen(str(filedir+\"output\"+str(x)+\".txt\"))\n",
        "  for i in f:\n",
        "      line=i.decode('utf-8').strip()\n",
        "  print('Sortie',x,':',line,'\\n')"
      ],
      "execution_count": null,
      "outputs": [
        {
          "output_type": "stream",
          "text": [
            "Entrée 1 : ['37', '7', '3', '15', '14', '5', '5', '14', '3']\n",
            "Sortie 1 : 1669 \n",
            "\n",
            "Entrée 2 : ['21', '9', '13', '14', '12', '14', '8', '5', '15', '2', '10']\n",
            "Sortie 2 : 1418 \n",
            "\n",
            "Entrée 3 : ['35', '22', '3', '8', '12', '3', '7', '5', '6', '14', '4', '12', '10', '5', '2', '14', '11', '5', '13', '13', '6', '7', '4', '10']\n",
            "Sortie 3 : 4627 \n",
            "\n"
          ],
          "name": "stdout"
        }
      ]
    },
    {
      "cell_type": "markdown",
      "metadata": {
        "id": "AypUX8sLFIZc"
      },
      "source": [
        "## **Traitement**\n",
        "\n",
        "Reprenons de jeu de données 1 :"
      ]
    },
    {
      "cell_type": "code",
      "metadata": {
        "colab": {
          "base_uri": "https://localhost:8080/"
        },
        "id": "gQVGnYSwFBZQ",
        "outputId": "c03f3d66-de1a-4fb6-813c-ff8b50039bfa"
      },
      "source": [
        "lines = ['37', '7', '3', '15', '14', '5', '5', '14', '3']\n",
        "print(lines)"
      ],
      "execution_count": null,
      "outputs": [
        {
          "output_type": "stream",
          "text": [
            "['37', '7', '3', '15', '14', '5', '5', '14', '3']\n"
          ],
          "name": "stdout"
        }
      ]
    },
    {
      "cell_type": "markdown",
      "metadata": {
        "id": "RM4jaWIoFSYe"
      },
      "source": [
        "\n",
        "Ici, nous avons le prix du menu (37 €), le nombre de tables (7 tables) et le nombre de convives pour chacune des 7 tables du restaurant.\n",
        "\n",
        "La première table accueille 3 convives.\n",
        "La seconde table accueille 15 convives.\n",
        "etc.\n",
        "\n",
        "Pour la première table :\n",
        "3 convives prennent chacun un menu à 37 € et n'obtiennent pas de remise parce qu'ils sont moins de 4 personnes.\n",
        "\n",
        "3 x 37 = 111 €\n",
        "\n",
        "Pour la seconde table :\n",
        "15 convives prennent chacun un menu à 37 € et obtiennent une remise de 30% parce qu'ils sont au moins 10 personnes.\n",
        "\n",
        "15 x 37 x 0.7 = 388.5 €\n",
        "\n",
        "Nous réalisons cette opération pour chacune des tables et en faisant la somme des additions, nous obtenons la valeur de sortie attendue : 1669 € (arrondi à l'entier supérieur)\n",
        "\n"
      ]
    },
    {
      "cell_type": "code",
      "metadata": {
        "colab": {
          "base_uri": "https://localhost:8080/"
        },
        "id": "GbKJHC81HOrk",
        "outputId": "a1a3edae-6f2f-4891-ba64-b61320a718b7"
      },
      "source": [
        "prix = int(lines[0])\n",
        "print(prix)"
      ],
      "execution_count": null,
      "outputs": [
        {
          "output_type": "stream",
          "text": [
            "37\n"
          ],
          "name": "stdout"
        }
      ]
    },
    {
      "cell_type": "markdown",
      "metadata": {
        "id": "lObQ8f7PHij9"
      },
      "source": [
        "Parcourons maintenant les nombres de personnes par table (On commence à parcourir à partir de l'élément d'indice 2 pour ne pas traiter les 2 premiers éléments qui contiennent le prix du menu et le nombre de tables) :"
      ]
    },
    {
      "cell_type": "code",
      "metadata": {
        "colab": {
          "base_uri": "https://localhost:8080/"
        },
        "id": "ixMYgv_LHpKT",
        "outputId": "ec28784e-6fed-4015-d6c0-c39de4961135"
      },
      "source": [
        "for x in lines[2:]:\n",
        "  print(x)"
      ],
      "execution_count": null,
      "outputs": [
        {
          "output_type": "stream",
          "text": [
            "3\n",
            "15\n",
            "14\n",
            "5\n",
            "5\n",
            "14\n",
            "3\n"
          ],
          "name": "stdout"
        }
      ]
    },
    {
      "cell_type": "markdown",
      "metadata": {
        "id": "wU_1w2sqIAWz"
      },
      "source": [
        "Obtenons une valeur entière sur laquelle nous pourrons faire un calcul :"
      ]
    },
    {
      "cell_type": "code",
      "metadata": {
        "colab": {
          "base_uri": "https://localhost:8080/"
        },
        "id": "XiiREgHmIE7Q",
        "outputId": "b045c05f-7d6a-4fe8-9c46-20507b5aa0b0"
      },
      "source": [
        "for x in lines[2:]:\n",
        "  nb = int(x)\n",
        "  print(nb)"
      ],
      "execution_count": null,
      "outputs": [
        {
          "output_type": "stream",
          "text": [
            "3\n",
            "15\n",
            "14\n",
            "5\n",
            "5\n",
            "14\n",
            "3\n"
          ],
          "name": "stdout"
        }
      ]
    },
    {
      "cell_type": "markdown",
      "metadata": {
        "id": "5I4RGIQgHN_k"
      },
      "source": [
        "Calculons maintenant la valeur de la réduction en fonction du nombre de personnes à table ;\n"
      ]
    },
    {
      "cell_type": "code",
      "metadata": {
        "colab": {
          "base_uri": "https://localhost:8080/"
        },
        "id": "h8YkBR9xFOUk",
        "outputId": "7e6222c7-f22c-4d4a-c5cf-de5947b71d6f"
      },
      "source": [
        "for x in lines[2:]:\n",
        "  nb = int(x)\n",
        "  if(nb>9):\n",
        "    reduc = 0.7\n",
        "  elif(nb>5):\n",
        "    reduc = 0.8\n",
        "  elif(nb>3):\n",
        "    reduc = 0.9\n",
        "  else:\n",
        "    reduc = 1\n",
        "  print(nb,reduc)"
      ],
      "execution_count": null,
      "outputs": [
        {
          "output_type": "stream",
          "text": [
            "3 1\n",
            "15 0.7\n",
            "14 0.7\n",
            "5 0.9\n",
            "5 0.9\n",
            "14 0.7\n",
            "3 1\n"
          ],
          "name": "stdout"
        }
      ]
    },
    {
      "cell_type": "markdown",
      "metadata": {
        "id": "vGxkNBnPIzhB"
      },
      "source": [
        "Calculons l'addition pour chaque table :"
      ]
    },
    {
      "cell_type": "code",
      "metadata": {
        "colab": {
          "base_uri": "https://localhost:8080/"
        },
        "id": "vbJOyWSCIv6p",
        "outputId": "90705f66-23f4-4be3-dd91-a2bdbcf92c00"
      },
      "source": [
        "for x in lines[2:]:\n",
        "  nb = int(x)\n",
        "  if(nb>9):\n",
        "    reduc = 0.7\n",
        "  elif(nb>5):\n",
        "    reduc = 0.8\n",
        "  elif(nb>3):\n",
        "    reduc = 0.9\n",
        "  else:\n",
        "    reduc = 1\n",
        "  print(nb * prix * reduc)"
      ],
      "execution_count": null,
      "outputs": [
        {
          "output_type": "stream",
          "text": [
            "111\n",
            "388.5\n",
            "362.59999999999997\n",
            "166.5\n",
            "166.5\n",
            "362.59999999999997\n",
            "111\n"
          ],
          "name": "stdout"
        }
      ]
    },
    {
      "cell_type": "markdown",
      "metadata": {
        "id": "Y7FSe7vhI8GY"
      },
      "source": [
        "Faisons la somme de ces additions :"
      ]
    },
    {
      "cell_type": "code",
      "metadata": {
        "colab": {
          "base_uri": "https://localhost:8080/"
        },
        "id": "zHkJLOdEI5ra",
        "outputId": "7c84aee9-3a6d-46aa-e99d-0e7bc22134f7"
      },
      "source": [
        "somme = 0\n",
        "for x in lines[2:]:\n",
        "  nb = int(x)\n",
        "  if(nb>9):\n",
        "    reduc = 0.7\n",
        "  elif(nb>5):\n",
        "    reduc = 0.8\n",
        "  elif(nb>3):\n",
        "    reduc = 0.9\n",
        "  else:\n",
        "    reduc = 1\n",
        "  somme += nb * prix * reduc\n",
        "print(somme)"
      ],
      "execution_count": null,
      "outputs": [
        {
          "output_type": "stream",
          "text": [
            "1668.6999999999998\n"
          ],
          "name": "stdout"
        }
      ]
    },
    {
      "cell_type": "markdown",
      "metadata": {
        "id": "HJhH3T09JE7K"
      },
      "source": [
        "Enfin, réalisons un arrondi à l'entier supérieur :"
      ]
    },
    {
      "cell_type": "code",
      "metadata": {
        "colab": {
          "base_uri": "https://localhost:8080/"
        },
        "id": "s82GelCnJDum",
        "outputId": "e45e2846-452f-4050-81a7-ac00050c4afa"
      },
      "source": [
        "import math as m\n",
        "somme = 0\n",
        "for x in lines[2:]:\n",
        "  nb = int(x)\n",
        "  if(nb>9):\n",
        "    reduc = 0.7\n",
        "  elif(nb>5):\n",
        "    reduc = 0.8\n",
        "  elif(nb>3):\n",
        "    reduc = 0.9\n",
        "  else:\n",
        "    reduc = 1\n",
        "  somme += nb * prix * reduc\n",
        "print(m.ceil(somme))"
      ],
      "execution_count": null,
      "outputs": [
        {
          "output_type": "stream",
          "text": [
            "1669\n"
          ],
          "name": "stdout"
        }
      ]
    },
    {
      "cell_type": "markdown",
      "metadata": {
        "id": "MjsZ4hL0JPGS"
      },
      "source": [
        "1669 est bien le résultat attendu !\n",
        "\n",
        "Et voici un corrigé plus concis."
      ]
    },
    {
      "cell_type": "code",
      "metadata": {
        "colab": {
          "base_uri": "https://localhost:8080/"
        },
        "id": "1IAQks-aJKyq",
        "outputId": "51fae800-b701-4887-da8d-42b2001f7f3d"
      },
      "source": [
        "from math import ceil\n",
        "\n",
        "prix = int(lines[0])\n",
        "nb_personnes = [int(a) for a in lines[2:]]\n",
        "\n",
        "def note(prix, k):\n",
        "    x = prix*k\n",
        "    if k >= 10:\n",
        "        x *= 0.7\n",
        "    elif k >= 6:\n",
        "        x *= 0.8\n",
        "    elif k >= 4:\n",
        "        x *= 0.9\n",
        "    return x\n",
        "\n",
        "print(ceil(sum(note(prix, k) for k in nb_personnes)))"
      ],
      "execution_count": null,
      "outputs": [
        {
          "output_type": "stream",
          "text": [
            "1669\n"
          ],
          "name": "stdout"
        }
      ]
    }
  ]
}