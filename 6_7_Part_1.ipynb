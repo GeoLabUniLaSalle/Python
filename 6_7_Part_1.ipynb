{
  "nbformat": 4,
  "nbformat_minor": 0,
  "metadata": {
    "kernelspec": {
      "display_name": "Python 3",
      "name": "python3"
    },
    "language_info": {
      "name": "python"
    },
    "colab": {
      "name": "6_7_Part_1.ipynb",
      "provenance": [],
      "include_colab_link": true
    }
  },
  "cells": [
    {
      "cell_type": "markdown",
      "metadata": {
        "id": "view-in-github",
        "colab_type": "text"
      },
      "source": [
        "<a href=\"https://colab.research.google.com/github/GeoLabUniLaSalle/Python/blob/main/6_7_Part_1.ipynb\" target=\"_parent\"><img src=\"https://colab.research.google.com/assets/colab-badge.svg\" alt=\"Open In Colab\"/></a>"
      ]
    },
    {
      "cell_type": "markdown",
      "metadata": {
        "id": "W0DEmZTKN7VC"
      },
      "source": [
        "\n",
        "## **Data Science**\n",
        "Machine Learning\n",
        "\n",
        "# **PyTorch: Facebook's deep learning library**\n",
        "Lyes LAKHAL\n",
        "lyes.lakhal@unilasalle.fr\n",
        "\n",
        "\n",
        "\n",
        "\n",
        "\n",
        "\n",
        "\n",
        "\n",
        "# All machine learning is concerned with extracting information from data. So we will begin by learning the practical skills for storing, manipulating, and preprocessing data with PyTorch, the Facebook's deep learning library.\n"
      ]
    },
    {
      "cell_type": "markdown",
      "metadata": {
        "origin_pos": 0,
        "id": "IXYqMlzxom3R"
      },
      "source": [
        "# **1. Data Manipulation**\n",
        "\n",
        "\n",
        "# **1.1 Getting Started**\n",
        "\n"
      ]
    },
    {
      "cell_type": "markdown",
      "metadata": {
        "origin_pos": 2,
        "tab": [
          "pytorch"
        ],
        "id": "bARxDW20om3W"
      },
      "source": [
        "**To start, we import `torch`.**\n"
      ]
    },
    {
      "cell_type": "code",
      "metadata": {
        "origin_pos": 5,
        "tab": [
          "pytorch"
        ],
        "id": "syRxn9zeom3W"
      },
      "source": [
        "import torch"
      ],
      "execution_count": null,
      "outputs": []
    },
    {
      "cell_type": "markdown",
      "metadata": {
        "origin_pos": 7,
        "id": "7YZpi3JJom3Y"
      },
      "source": [
        "A tensor represents a (possibly multi-dimensional) array of numerical values\n",
        "With one axis, a tensor corresponds (in math) to a *vector*.\n",
        "With two axes, a tensor corresponds to a *matrix*.\n",
        "Tensors with more than two axes do not have special\n",
        "mathematical names.\n",
        "\n",
        "To start, we can use `arange` to create a row vector `x`\n",
        "containing the first 12 integers starting with 0,\n",
        "though they are created as floats by default.\n",
        "Each of the values in a tensor is called an *element* of the tensor.\n"
      ]
    },
    {
      "cell_type": "code",
      "metadata": {
        "origin_pos": 9,
        "tab": [
          "pytorch"
        ],
        "id": "p9osPRwwom3Z",
        "colab": {
          "base_uri": "https://localhost:8080/"
        },
        "outputId": "8256d9ca-d75a-4418-d15a-0d1a9c028bde"
      },
      "source": [
        "x = torch.arange(12)\n",
        "x"
      ],
      "execution_count": null,
      "outputs": [
        {
          "output_type": "execute_result",
          "data": {
            "text/plain": [
              "tensor([ 0,  1,  2,  3,  4,  5,  6,  7,  8,  9, 10, 11])"
            ]
          },
          "metadata": {},
          "execution_count": 31
        }
      ]
    },
    {
      "cell_type": "markdown",
      "metadata": {
        "origin_pos": 11,
        "id": "3qQaEjsgom3a"
      },
      "source": [
        "**We can access a tensor's *shape*** (the length along each axis)\n",
        "by inspecting its `shape` property.\n"
      ]
    },
    {
      "cell_type": "code",
      "metadata": {
        "origin_pos": 12,
        "tab": [
          "pytorch"
        ],
        "id": "RAkzSW5nom3b",
        "colab": {
          "base_uri": "https://localhost:8080/"
        },
        "outputId": "0f0c6a34-ead7-4bc4-bcd8-1a7b0d4a3642"
      },
      "source": [
        "x.shape"
      ],
      "execution_count": null,
      "outputs": [
        {
          "output_type": "execute_result",
          "data": {
            "text/plain": [
              "torch.Size([12])"
            ]
          },
          "metadata": {},
          "execution_count": 32
        }
      ]
    },
    {
      "cell_type": "markdown",
      "metadata": {
        "origin_pos": 13,
        "id": "ZBziEzrYom3c"
      },
      "source": [
        "If we just want to know the total number of elements in a tensor,\n",
        "we can inspect its size.\n",
        "Because we are dealing with a vector here,\n",
        "the single element of its `shape` is identical to its size.\n"
      ]
    },
    {
      "cell_type": "code",
      "metadata": {
        "origin_pos": 15,
        "tab": [
          "pytorch"
        ],
        "id": "MZ6UpLzOom3c",
        "colab": {
          "base_uri": "https://localhost:8080/"
        },
        "outputId": "35e944bf-39d0-4078-a459-3ea9905bf9fd"
      },
      "source": [
        "x.numel()"
      ],
      "execution_count": null,
      "outputs": [
        {
          "output_type": "execute_result",
          "data": {
            "text/plain": [
              "12"
            ]
          },
          "metadata": {},
          "execution_count": 33
        }
      ]
    },
    {
      "cell_type": "markdown",
      "metadata": {
        "origin_pos": 17,
        "id": "wfzTdG0som3d"
      },
      "source": [
        "To change the shape of a tensor without altering\n",
        "either the number of elements or their values,\n",
        "we can invoke the `reshape` function.\n",
        "\n"
      ]
    },
    {
      "cell_type": "code",
      "metadata": {
        "origin_pos": 18,
        "tab": [
          "pytorch"
        ],
        "id": "OVnQv9pUom3d",
        "colab": {
          "base_uri": "https://localhost:8080/"
        },
        "outputId": "8354834b-5c70-4153-fef0-8c00c5d55458"
      },
      "source": [
        "X = x.reshape(3, 4)\n",
        "X"
      ],
      "execution_count": null,
      "outputs": [
        {
          "output_type": "execute_result",
          "data": {
            "text/plain": [
              "tensor([[ 0,  1,  2,  3],\n",
              "        [ 4,  5,  6,  7],\n",
              "        [ 8,  9, 10, 11]])"
            ]
          },
          "metadata": {},
          "execution_count": 34
        }
      ]
    },
    {
      "cell_type": "markdown",
      "metadata": {
        "origin_pos": 20,
        "id": "wfqoJPwbom3e"
      },
      "source": [
        "Create a tensor with all elements\n",
        "set to 0 and a shape of (2, 3, 4) :\n"
      ]
    },
    {
      "cell_type": "code",
      "metadata": {
        "origin_pos": 22,
        "tab": [
          "pytorch"
        ],
        "id": "buKOqbTmom3e",
        "colab": {
          "base_uri": "https://localhost:8080/"
        },
        "outputId": "d39eced5-018e-4fe9-f8f0-c319a7f45c67"
      },
      "source": [
        "torch.zeros((2, 3, 4))"
      ],
      "execution_count": null,
      "outputs": [
        {
          "output_type": "execute_result",
          "data": {
            "text/plain": [
              "tensor([[[0., 0., 0., 0.],\n",
              "         [0., 0., 0., 0.],\n",
              "         [0., 0., 0., 0.]],\n",
              "\n",
              "        [[0., 0., 0., 0.],\n",
              "         [0., 0., 0., 0.],\n",
              "         [0., 0., 0., 0.]]])"
            ]
          },
          "metadata": {},
          "execution_count": 35
        }
      ]
    },
    {
      "cell_type": "markdown",
      "metadata": {
        "origin_pos": 24,
        "id": "W1Ajsx2com3f"
      },
      "source": [
        "Similarly, we can create tensors with each element set to 1 as follows:\n"
      ]
    },
    {
      "cell_type": "code",
      "metadata": {
        "origin_pos": 26,
        "tab": [
          "pytorch"
        ],
        "id": "1IHCoxBvom3f",
        "colab": {
          "base_uri": "https://localhost:8080/"
        },
        "outputId": "a594e4d5-8fd7-46a9-af83-f6a2072025f8"
      },
      "source": [
        "torch.ones((2, 3, 4))"
      ],
      "execution_count": null,
      "outputs": [
        {
          "output_type": "execute_result",
          "data": {
            "text/plain": [
              "tensor([[[1., 1., 1., 1.],\n",
              "         [1., 1., 1., 1.],\n",
              "         [1., 1., 1., 1.]],\n",
              "\n",
              "        [[1., 1., 1., 1.],\n",
              "         [1., 1., 1., 1.],\n",
              "         [1., 1., 1., 1.]]])"
            ]
          },
          "metadata": {},
          "execution_count": 36
        }
      ]
    },
    {
      "cell_type": "markdown",
      "metadata": {
        "origin_pos": 28,
        "id": "FAP9we7Rom3f"
      },
      "source": [
        "Creates a tensor with shape (3, 4) with elements randomly sampled\n",
        "from a standard Gaussian (normal) distribution\n",
        "with a mean of 0 and a standard deviation of 1.\n"
      ]
    },
    {
      "cell_type": "code",
      "metadata": {
        "origin_pos": 30,
        "tab": [
          "pytorch"
        ],
        "id": "aIlGYUllom3f",
        "colab": {
          "base_uri": "https://localhost:8080/"
        },
        "outputId": "fc87b680-033e-462e-89da-2c49c92cec44"
      },
      "source": [
        "torch.randn(3, 4)"
      ],
      "execution_count": null,
      "outputs": [
        {
          "output_type": "execute_result",
          "data": {
            "text/plain": [
              "tensor([[-0.1897, -1.0606,  2.1862,  0.8286],\n",
              "        [-0.7529,  1.0529, -0.9317, -0.1295],\n",
              "        [ 0.4705,  0.0611,  0.9392, -0.9576]])"
            ]
          },
          "metadata": {},
          "execution_count": 37
        }
      ]
    },
    {
      "cell_type": "markdown",
      "metadata": {
        "origin_pos": 32,
        "id": "Md4IA9Tnom3g"
      },
      "source": [
        "We can also specify the exact values for each element in the desired tensor\n",
        "by supplying a Python list (or list of lists) containing the numerical values.\n",
        "**Here, the outermost list corresponds to axis 0, and the inner list to axis 1.**\n"
      ]
    },
    {
      "cell_type": "code",
      "metadata": {
        "origin_pos": 34,
        "tab": [
          "pytorch"
        ],
        "id": "cZy2HTPGom3g",
        "colab": {
          "base_uri": "https://localhost:8080/"
        },
        "outputId": "727fe7c4-3079-4380-b22e-566f00c105ba"
      },
      "source": [
        "torch.tensor([[2, 1, 4, 3], [1, 2, 3, 4], [4, 3, 2, 1]])"
      ],
      "execution_count": null,
      "outputs": [
        {
          "output_type": "execute_result",
          "data": {
            "text/plain": [
              "tensor([[2, 1, 4, 3],\n",
              "        [1, 2, 3, 4],\n",
              "        [4, 3, 2, 1]])"
            ]
          },
          "metadata": {},
          "execution_count": 38
        }
      ]
    },
    {
      "cell_type": "markdown",
      "metadata": {
        "origin_pos": 36,
        "id": "4XSYjHMBom3h"
      },
      "source": [
        "# **1.2. Operations**\n",
        "\n",
        "The common standard arithmetic operators\n",
        "(`+`, `-`, `*`, `/`, and `**`)\n",
        "have all been *lifted* to elementwise operations.\n"
      ]
    },
    {
      "cell_type": "code",
      "metadata": {
        "origin_pos": 38,
        "tab": [
          "pytorch"
        ],
        "id": "dKCrFFi0om3i",
        "colab": {
          "base_uri": "https://localhost:8080/"
        },
        "outputId": "186c9eac-5d34-4eb5-9ed9-072dc624cee2"
      },
      "source": [
        "x = torch.tensor([1.0, 2, 4, 8])\n",
        "y = torch.tensor([2, 2, 2, 2])\n",
        "x + y, x - y, x * y, x / y, x**y  # The ** operator is exponentiation"
      ],
      "execution_count": null,
      "outputs": [
        {
          "output_type": "execute_result",
          "data": {
            "text/plain": [
              "(tensor([ 3.,  4.,  6., 10.]),\n",
              " tensor([-1.,  0.,  2.,  6.]),\n",
              " tensor([ 2.,  4.,  8., 16.]),\n",
              " tensor([0.5000, 1.0000, 2.0000, 4.0000]),\n",
              " tensor([ 1.,  4., 16., 64.]))"
            ]
          },
          "metadata": {},
          "execution_count": 29
        }
      ]
    },
    {
      "cell_type": "markdown",
      "metadata": {
        "origin_pos": 40,
        "id": "96GB8nmGom3j"
      },
      "source": [
        "Many **more operations can be applied elementwise**,\n",
        "including unary operators like exponentiation.\n"
      ]
    },
    {
      "cell_type": "code",
      "metadata": {
        "origin_pos": 42,
        "tab": [
          "pytorch"
        ],
        "id": "qsVuAjBZom3j",
        "colab": {
          "base_uri": "https://localhost:8080/"
        },
        "outputId": "6be6bf15-0f9c-4b95-e74f-98870319a972"
      },
      "source": [
        "torch.exp(x)"
      ],
      "execution_count": null,
      "outputs": [
        {
          "output_type": "execute_result",
          "data": {
            "text/plain": [
              "tensor([2.7183e+00, 7.3891e+00, 5.4598e+01, 2.9810e+03])"
            ]
          },
          "metadata": {},
          "execution_count": 7
        }
      ]
    },
    {
      "cell_type": "markdown",
      "metadata": {
        "origin_pos": 44,
        "id": "PzH-Efx-om3j"
      },
      "source": [
        "We can also concatenate multiple tensors together,\n",
        "stacking them end-to-end to form a larger tensor.\n"
      ]
    },
    {
      "cell_type": "code",
      "metadata": {
        "origin_pos": 46,
        "tab": [
          "pytorch"
        ],
        "id": "O5mnuuDUom3k",
        "colab": {
          "base_uri": "https://localhost:8080/"
        },
        "outputId": "00d6a097-88c6-480f-f39a-5bfe6f794d6d"
      },
      "source": [
        "X = torch.arange(12, dtype=torch.float32).reshape((3, 4))\n",
        "Y = torch.tensor([[2.0, 1, 4, 3], [1, 2, 3, 4], [4, 3, 2, 1]])\n",
        "torch.cat((X, Y), dim=0) "
      ],
      "execution_count": null,
      "outputs": [
        {
          "output_type": "execute_result",
          "data": {
            "text/plain": [
              "tensor([[ 0.,  1.,  2.,  3.],\n",
              "        [ 4.,  5.,  6.,  7.],\n",
              "        [ 8.,  9., 10., 11.],\n",
              "        [ 2.,  1.,  4.,  3.],\n",
              "        [ 1.,  2.,  3.,  4.],\n",
              "        [ 4.,  3.,  2.,  1.]])"
            ]
          },
          "metadata": {},
          "execution_count": 36
        }
      ]
    },
    {
      "cell_type": "code",
      "metadata": {
        "colab": {
          "base_uri": "https://localhost:8080/"
        },
        "id": "VP9LCcB9r3d5",
        "outputId": "12854cf3-f131-47e2-8205-a4f728518a1c"
      },
      "source": [
        "torch.cat((X, Y), dim=1)"
      ],
      "execution_count": null,
      "outputs": [
        {
          "output_type": "execute_result",
          "data": {
            "text/plain": [
              "tensor([[ 0.,  1.,  2.,  3.,  2.,  1.,  4.,  3.],\n",
              "        [ 4.,  5.,  6.,  7.,  1.,  2.,  3.,  4.],\n",
              "        [ 8.,  9., 10., 11.,  4.,  3.,  2.,  1.]])"
            ]
          },
          "metadata": {},
          "execution_count": 38
        }
      ]
    },
    {
      "cell_type": "markdown",
      "metadata": {
        "origin_pos": 48,
        "id": "UYg5Ncv8om3k"
      },
      "source": [
        "Sometimes, we want to construct a binary tensor via *logical statements*.\n",
        "Take `X == Y` as an example.\n",
        "\n"
      ]
    },
    {
      "cell_type": "code",
      "metadata": {
        "origin_pos": 49,
        "tab": [
          "pytorch"
        ],
        "id": "ea8YBh_Uom3k",
        "colab": {
          "base_uri": "https://localhost:8080/"
        },
        "outputId": "99e2754f-656c-4029-8126-fa2ce20aed1e"
      },
      "source": [
        "X == Y"
      ],
      "execution_count": null,
      "outputs": [
        {
          "output_type": "execute_result",
          "data": {
            "text/plain": [
              "tensor([[False,  True, False,  True],\n",
              "        [False, False, False, False],\n",
              "        [False, False, False, False]])"
            ]
          },
          "metadata": {},
          "execution_count": 39
        }
      ]
    },
    {
      "cell_type": "markdown",
      "metadata": {
        "origin_pos": 50,
        "id": "Fu4xI9JKom3k"
      },
      "source": [
        "**Summing all the elements in the tensor** yields a tensor with only one element.\n"
      ]
    },
    {
      "cell_type": "code",
      "metadata": {
        "origin_pos": 51,
        "tab": [
          "pytorch"
        ],
        "id": "-cjw839Iom3l",
        "colab": {
          "base_uri": "https://localhost:8080/"
        },
        "outputId": "7398958b-6f27-4ccd-b802-492193585299"
      },
      "source": [
        "X.sum()"
      ],
      "execution_count": null,
      "outputs": [
        {
          "output_type": "execute_result",
          "data": {
            "text/plain": [
              "tensor(66.)"
            ]
          },
          "metadata": {},
          "execution_count": 40
        }
      ]
    },
    {
      "cell_type": "markdown",
      "metadata": {
        "origin_pos": 53,
        "id": "NYjl0gpVom3l"
      },
      "source": [
        "# **1.3 Broadcasting Mechanism (*to be deeply understand* !)**\n",
        "\n",
        "\n",
        "In the above section, we saw how to perform elementwise operations\n",
        "on two tensors of the same shape. Under certain conditions (when one of the dimensions of the tensor is 1), even when shapes differ, we can still perform elementwise operations by invoking the *broadcasting mechanism*.\n",
        "\n",
        "\n"
      ]
    },
    {
      "cell_type": "code",
      "metadata": {
        "origin_pos": 55,
        "tab": [
          "pytorch"
        ],
        "id": "7wV6sJUsom3l",
        "colab": {
          "base_uri": "https://localhost:8080/"
        },
        "outputId": "c4369641-6739-4136-cca0-27318d3c549f"
      },
      "source": [
        "a = torch.arange(8).reshape((8,1))\n",
        "b = torch.arange(6).reshape((1,6))\n",
        "a, b"
      ],
      "execution_count": null,
      "outputs": [
        {
          "output_type": "execute_result",
          "data": {
            "text/plain": [
              "(tensor([[0],\n",
              "         [1],\n",
              "         [2],\n",
              "         [3],\n",
              "         [4],\n",
              "         [5],\n",
              "         [6],\n",
              "         [7]]), tensor([[0, 1, 2, 3, 4, 5]]))"
            ]
          },
          "metadata": {},
          "execution_count": 39
        }
      ]
    },
    {
      "cell_type": "markdown",
      "metadata": {
        "origin_pos": 57,
        "id": "v0onnk8uom3l"
      },
      "source": [
        "Since `a` and `b` are $3\\times1$ and $1\\times2$ matrices respectively,\n",
        "their shapes do not match up if we want to add them.\n",
        "We *broadcast* the entries of both matrices into a larger $3\\times2$ matrix as follows:\n",
        "for matrix `a` it replicates the columns\n",
        "and for matrix `b` it replicates the rows\n",
        "before adding up both elementwise.\n"
      ]
    },
    {
      "cell_type": "code",
      "metadata": {
        "origin_pos": 58,
        "tab": [
          "pytorch"
        ],
        "id": "NORB_UjQom3l",
        "colab": {
          "base_uri": "https://localhost:8080/"
        },
        "outputId": "faac216e-6aae-48e7-e659-07363de5939b"
      },
      "source": [
        "a + b"
      ],
      "execution_count": null,
      "outputs": [
        {
          "output_type": "execute_result",
          "data": {
            "text/plain": [
              "tensor([[ 0,  1,  2,  3,  4,  5],\n",
              "        [ 1,  2,  3,  4,  5,  6],\n",
              "        [ 2,  3,  4,  5,  6,  7],\n",
              "        [ 3,  4,  5,  6,  7,  8],\n",
              "        [ 4,  5,  6,  7,  8,  9],\n",
              "        [ 5,  6,  7,  8,  9, 10],\n",
              "        [ 6,  7,  8,  9, 10, 11],\n",
              "        [ 7,  8,  9, 10, 11, 12]])"
            ]
          },
          "metadata": {},
          "execution_count": 27
        }
      ]
    },
    {
      "cell_type": "markdown",
      "metadata": {
        "origin_pos": 59,
        "id": "pOoFGRDtom3m"
      },
      "source": [
        "# **1.4. Indexing and Slicing**\n",
        "\n",
        "Just as in any other Python array, elements in a tensor can be accessed by index.\n",
        "\n",
        "\n",
        "Thus, `[-1]` selects the last element and `[1:3]`\n",
        "selects the second and the third elements as follows:\n"
      ]
    },
    {
      "cell_type": "code",
      "metadata": {
        "colab": {
          "base_uri": "https://localhost:8080/"
        },
        "id": "bhWAPwabaJ1m",
        "outputId": "f86946f3-195e-4df2-ec44-46ac7a4ee759"
      },
      "source": [
        "X"
      ],
      "execution_count": null,
      "outputs": [
        {
          "output_type": "execute_result",
          "data": {
            "text/plain": [
              "tensor([[ 0,  1,  2,  3],\n",
              "        [ 4,  5,  6,  7],\n",
              "        [ 8,  9, 10, 11]])"
            ]
          },
          "metadata": {},
          "execution_count": 41
        }
      ]
    },
    {
      "cell_type": "code",
      "metadata": {
        "origin_pos": 60,
        "tab": [
          "pytorch"
        ],
        "id": "vO0FNVq4om3m",
        "colab": {
          "base_uri": "https://localhost:8080/"
        },
        "outputId": "25f99b7d-133c-4efc-be23-40c16d173f7f"
      },
      "source": [
        "X[-1], X[1:3]"
      ],
      "execution_count": null,
      "outputs": [
        {
          "output_type": "execute_result",
          "data": {
            "text/plain": [
              "(tensor([ 8,  9, 10, 11]), tensor([[ 4,  5,  6,  7],\n",
              "         [ 8,  9, 10, 11]]))"
            ]
          },
          "metadata": {},
          "execution_count": 42
        }
      ]
    },
    {
      "cell_type": "markdown",
      "metadata": {
        "origin_pos": 61,
        "tab": [
          "pytorch"
        ],
        "id": "71KP6r2dom3m"
      },
      "source": [
        "Beyond reading, (**we can also write elements of a matrix by specifying indices.**)\n"
      ]
    },
    {
      "cell_type": "code",
      "metadata": {
        "origin_pos": 63,
        "tab": [
          "pytorch"
        ],
        "id": "rakH8Uekom3m",
        "colab": {
          "base_uri": "https://localhost:8080/"
        },
        "outputId": "234471fb-98ff-42ab-a77e-ad4856bf33c8"
      },
      "source": [
        "X[1, 2] = 9\n",
        "X"
      ],
      "execution_count": null,
      "outputs": [
        {
          "output_type": "execute_result",
          "data": {
            "text/plain": [
              "tensor([[ 0,  1,  2,  3],\n",
              "        [ 4,  5,  9,  7],\n",
              "        [ 8,  9, 10, 11]])"
            ]
          },
          "metadata": {},
          "execution_count": 43
        }
      ]
    },
    {
      "cell_type": "markdown",
      "metadata": {
        "origin_pos": 65,
        "id": "XN7WV8DCom3m"
      },
      "source": [
        "If we want [**to assign multiple elements the same value,\n",
        "we simply index all of them and then assign them the value.**]\n",
        "For instance, `[0:2, :]` accesses the first and second rows,\n",
        "where `:` takes all the elements along axis 1 (column).\n",
        "While we discussed indexing for matrices,\n",
        "this obviously also works for vectors\n",
        "and for tensors of more than 2 dimensions.\n"
      ]
    },
    {
      "cell_type": "code",
      "metadata": {
        "origin_pos": 66,
        "tab": [
          "pytorch"
        ],
        "id": "sGeMfonyom3n",
        "colab": {
          "base_uri": "https://localhost:8080/"
        },
        "outputId": "1911606e-5a2c-4c01-85a3-8a0cde011b9c"
      },
      "source": [
        "X[0:2, :] = 12\n",
        "X"
      ],
      "execution_count": null,
      "outputs": [
        {
          "output_type": "execute_result",
          "data": {
            "text/plain": [
              "tensor([[12, 12, 12, 12],\n",
              "        [12, 12, 12, 12],\n",
              "        [ 8,  9, 10, 11]])"
            ]
          },
          "metadata": {},
          "execution_count": 45
        }
      ]
    },
    {
      "cell_type": "markdown",
      "metadata": {
        "origin_pos": 80,
        "id": "5011ClGeom3o"
      },
      "source": [
        "# **1.5 Conversion to Other Python Objects**\n"
      ]
    },
    {
      "cell_type": "markdown",
      "metadata": {
        "origin_pos": 82,
        "tab": [
          "pytorch"
        ],
        "id": "G2xVJA7Iom3o"
      },
      "source": [
        "Converting to a NumPy tensor (`ndarray`), or vice versa, is easy.\n",
        "The torch Tensor and numpy array will share their underlying memory\n",
        "locations, and changing one through an in-place operation will also\n",
        "change the other.\n"
      ]
    },
    {
      "cell_type": "code",
      "metadata": {
        "origin_pos": 84,
        "tab": [
          "pytorch"
        ],
        "id": "FLyYPJ9Com3o",
        "outputId": "311fab32-d8b2-4ae0-f807-da755dad4578"
      },
      "source": [
        "A = X.numpy()\n",
        "B = torch.from_numpy(A)\n",
        "type(A), type(B)"
      ],
      "execution_count": null,
      "outputs": [
        {
          "data": {
            "text/plain": [
              "(numpy.ndarray, torch.Tensor)"
            ]
          },
          "execution_count": 23,
          "metadata": {},
          "output_type": "execute_result"
        }
      ]
    },
    {
      "cell_type": "markdown",
      "metadata": {
        "origin_pos": 86,
        "id": "pd71qEbMom3o"
      },
      "source": [
        "To convert a size-1 tensor to a Python scalar,\n",
        "we can invoke the `item` function or Python's built-in functions.\n"
      ]
    },
    {
      "cell_type": "code",
      "metadata": {
        "origin_pos": 88,
        "tab": [
          "pytorch"
        ],
        "id": "ZR4qzdgxom3o",
        "outputId": "9d1a2615-f5a7-4c42-8d33-95d28d7ac801"
      },
      "source": [
        "a = torch.tensor([3.5])\n",
        "a, a.item(), float(a), int(a)"
      ],
      "execution_count": null,
      "outputs": [
        {
          "data": {
            "text/plain": [
              "(tensor([3.5000]), 3.5, 3.5, 3)"
            ]
          },
          "execution_count": 24,
          "metadata": {},
          "output_type": "execute_result"
        }
      ]
    }
  ]
}