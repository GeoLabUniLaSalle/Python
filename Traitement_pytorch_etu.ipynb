{
  "nbformat": 4,
  "nbformat_minor": 0,
  "metadata": {
    "colab": {
      "name": "Traitement pytorch_etu.ipynb",
      "provenance": [],
      "collapsed_sections": [],
      "include_colab_link": true
    },
    "kernelspec": {
      "name": "python3",
      "display_name": "Python 3"
    },
    "language_info": {
      "name": "python"
    },
    "widgets": {
      "application/vnd.jupyter.widget-state+json": {
        "57524a5cacf4400287ac4554042e05bf": {
          "model_module": "@jupyter-widgets/controls",
          "model_name": "HBoxModel",
          "model_module_version": "1.5.0",
          "state": {
            "_view_name": "HBoxView",
            "_dom_classes": [],
            "_model_name": "HBoxModel",
            "_view_module": "@jupyter-widgets/controls",
            "_model_module_version": "1.5.0",
            "_view_count": null,
            "_view_module_version": "1.5.0",
            "box_style": "",
            "layout": "IPY_MODEL_3c2d9b0a556f457fa80a156278551387",
            "_model_module": "@jupyter-widgets/controls",
            "children": [
              "IPY_MODEL_c8e7d475e3a0491cba5ef9b20ed2d77f",
              "IPY_MODEL_d5ac25f6cafe49a2be8818f7ef072e87",
              "IPY_MODEL_055239d8b80f40d899e2b7ff262ebab5"
            ]
          }
        },
        "3c2d9b0a556f457fa80a156278551387": {
          "model_module": "@jupyter-widgets/base",
          "model_name": "LayoutModel",
          "model_module_version": "1.2.0",
          "state": {
            "_view_name": "LayoutView",
            "grid_template_rows": null,
            "right": null,
            "justify_content": null,
            "_view_module": "@jupyter-widgets/base",
            "overflow": null,
            "_model_module_version": "1.2.0",
            "_view_count": null,
            "flex_flow": null,
            "width": null,
            "min_width": null,
            "border": null,
            "align_items": null,
            "bottom": null,
            "_model_module": "@jupyter-widgets/base",
            "top": null,
            "grid_column": null,
            "overflow_y": null,
            "overflow_x": null,
            "grid_auto_flow": null,
            "grid_area": null,
            "grid_template_columns": null,
            "flex": null,
            "_model_name": "LayoutModel",
            "justify_items": null,
            "grid_row": null,
            "max_height": null,
            "align_content": null,
            "visibility": null,
            "align_self": null,
            "height": null,
            "min_height": null,
            "padding": null,
            "grid_auto_rows": null,
            "grid_gap": null,
            "max_width": null,
            "order": null,
            "_view_module_version": "1.2.0",
            "grid_template_areas": null,
            "object_position": null,
            "object_fit": null,
            "grid_auto_columns": null,
            "margin": null,
            "display": null,
            "left": null
          }
        },
        "c8e7d475e3a0491cba5ef9b20ed2d77f": {
          "model_module": "@jupyter-widgets/controls",
          "model_name": "HTMLModel",
          "model_module_version": "1.5.0",
          "state": {
            "_view_name": "HTMLView",
            "style": "IPY_MODEL_af3b8fea35d84d8c9dd7fe96fc903b6d",
            "_dom_classes": [],
            "description": "",
            "_model_name": "HTMLModel",
            "placeholder": "​",
            "_view_module": "@jupyter-widgets/controls",
            "_model_module_version": "1.5.0",
            "value": "",
            "_view_count": null,
            "_view_module_version": "1.5.0",
            "description_tooltip": null,
            "_model_module": "@jupyter-widgets/controls",
            "layout": "IPY_MODEL_c33c76ff679d4fdcb94094932756f717"
          }
        },
        "d5ac25f6cafe49a2be8818f7ef072e87": {
          "model_module": "@jupyter-widgets/controls",
          "model_name": "FloatProgressModel",
          "model_module_version": "1.5.0",
          "state": {
            "_view_name": "ProgressView",
            "style": "IPY_MODEL_7b5ec5aba9784f88a91a996fea7e9943",
            "_dom_classes": [],
            "description": "",
            "_model_name": "FloatProgressModel",
            "bar_style": "success",
            "max": 170498071,
            "_view_module": "@jupyter-widgets/controls",
            "_model_module_version": "1.5.0",
            "value": 170498071,
            "_view_count": null,
            "_view_module_version": "1.5.0",
            "orientation": "horizontal",
            "min": 0,
            "description_tooltip": null,
            "_model_module": "@jupyter-widgets/controls",
            "layout": "IPY_MODEL_ee6ef315b7934a99978118a163371fe3"
          }
        },
        "055239d8b80f40d899e2b7ff262ebab5": {
          "model_module": "@jupyter-widgets/controls",
          "model_name": "HTMLModel",
          "model_module_version": "1.5.0",
          "state": {
            "_view_name": "HTMLView",
            "style": "IPY_MODEL_246156026394400a94f96baec418b802",
            "_dom_classes": [],
            "description": "",
            "_model_name": "HTMLModel",
            "placeholder": "​",
            "_view_module": "@jupyter-widgets/controls",
            "_model_module_version": "1.5.0",
            "value": " 170499072/? [00:02&lt;00:00, 68905715.04it/s]",
            "_view_count": null,
            "_view_module_version": "1.5.0",
            "description_tooltip": null,
            "_model_module": "@jupyter-widgets/controls",
            "layout": "IPY_MODEL_7e6371cb55bb4f8da9faaf39bc388a43"
          }
        },
        "af3b8fea35d84d8c9dd7fe96fc903b6d": {
          "model_module": "@jupyter-widgets/controls",
          "model_name": "DescriptionStyleModel",
          "model_module_version": "1.5.0",
          "state": {
            "_view_name": "StyleView",
            "_model_name": "DescriptionStyleModel",
            "description_width": "",
            "_view_module": "@jupyter-widgets/base",
            "_model_module_version": "1.5.0",
            "_view_count": null,
            "_view_module_version": "1.2.0",
            "_model_module": "@jupyter-widgets/controls"
          }
        },
        "c33c76ff679d4fdcb94094932756f717": {
          "model_module": "@jupyter-widgets/base",
          "model_name": "LayoutModel",
          "model_module_version": "1.2.0",
          "state": {
            "_view_name": "LayoutView",
            "grid_template_rows": null,
            "right": null,
            "justify_content": null,
            "_view_module": "@jupyter-widgets/base",
            "overflow": null,
            "_model_module_version": "1.2.0",
            "_view_count": null,
            "flex_flow": null,
            "width": null,
            "min_width": null,
            "border": null,
            "align_items": null,
            "bottom": null,
            "_model_module": "@jupyter-widgets/base",
            "top": null,
            "grid_column": null,
            "overflow_y": null,
            "overflow_x": null,
            "grid_auto_flow": null,
            "grid_area": null,
            "grid_template_columns": null,
            "flex": null,
            "_model_name": "LayoutModel",
            "justify_items": null,
            "grid_row": null,
            "max_height": null,
            "align_content": null,
            "visibility": null,
            "align_self": null,
            "height": null,
            "min_height": null,
            "padding": null,
            "grid_auto_rows": null,
            "grid_gap": null,
            "max_width": null,
            "order": null,
            "_view_module_version": "1.2.0",
            "grid_template_areas": null,
            "object_position": null,
            "object_fit": null,
            "grid_auto_columns": null,
            "margin": null,
            "display": null,
            "left": null
          }
        },
        "7b5ec5aba9784f88a91a996fea7e9943": {
          "model_module": "@jupyter-widgets/controls",
          "model_name": "ProgressStyleModel",
          "model_module_version": "1.5.0",
          "state": {
            "_view_name": "StyleView",
            "_model_name": "ProgressStyleModel",
            "description_width": "",
            "_view_module": "@jupyter-widgets/base",
            "_model_module_version": "1.5.0",
            "_view_count": null,
            "_view_module_version": "1.2.0",
            "bar_color": null,
            "_model_module": "@jupyter-widgets/controls"
          }
        },
        "ee6ef315b7934a99978118a163371fe3": {
          "model_module": "@jupyter-widgets/base",
          "model_name": "LayoutModel",
          "model_module_version": "1.2.0",
          "state": {
            "_view_name": "LayoutView",
            "grid_template_rows": null,
            "right": null,
            "justify_content": null,
            "_view_module": "@jupyter-widgets/base",
            "overflow": null,
            "_model_module_version": "1.2.0",
            "_view_count": null,
            "flex_flow": null,
            "width": null,
            "min_width": null,
            "border": null,
            "align_items": null,
            "bottom": null,
            "_model_module": "@jupyter-widgets/base",
            "top": null,
            "grid_column": null,
            "overflow_y": null,
            "overflow_x": null,
            "grid_auto_flow": null,
            "grid_area": null,
            "grid_template_columns": null,
            "flex": null,
            "_model_name": "LayoutModel",
            "justify_items": null,
            "grid_row": null,
            "max_height": null,
            "align_content": null,
            "visibility": null,
            "align_self": null,
            "height": null,
            "min_height": null,
            "padding": null,
            "grid_auto_rows": null,
            "grid_gap": null,
            "max_width": null,
            "order": null,
            "_view_module_version": "1.2.0",
            "grid_template_areas": null,
            "object_position": null,
            "object_fit": null,
            "grid_auto_columns": null,
            "margin": null,
            "display": null,
            "left": null
          }
        },
        "246156026394400a94f96baec418b802": {
          "model_module": "@jupyter-widgets/controls",
          "model_name": "DescriptionStyleModel",
          "model_module_version": "1.5.0",
          "state": {
            "_view_name": "StyleView",
            "_model_name": "DescriptionStyleModel",
            "description_width": "",
            "_view_module": "@jupyter-widgets/base",
            "_model_module_version": "1.5.0",
            "_view_count": null,
            "_view_module_version": "1.2.0",
            "_model_module": "@jupyter-widgets/controls"
          }
        },
        "7e6371cb55bb4f8da9faaf39bc388a43": {
          "model_module": "@jupyter-widgets/base",
          "model_name": "LayoutModel",
          "model_module_version": "1.2.0",
          "state": {
            "_view_name": "LayoutView",
            "grid_template_rows": null,
            "right": null,
            "justify_content": null,
            "_view_module": "@jupyter-widgets/base",
            "overflow": null,
            "_model_module_version": "1.2.0",
            "_view_count": null,
            "flex_flow": null,
            "width": null,
            "min_width": null,
            "border": null,
            "align_items": null,
            "bottom": null,
            "_model_module": "@jupyter-widgets/base",
            "top": null,
            "grid_column": null,
            "overflow_y": null,
            "overflow_x": null,
            "grid_auto_flow": null,
            "grid_area": null,
            "grid_template_columns": null,
            "flex": null,
            "_model_name": "LayoutModel",
            "justify_items": null,
            "grid_row": null,
            "max_height": null,
            "align_content": null,
            "visibility": null,
            "align_self": null,
            "height": null,
            "min_height": null,
            "padding": null,
            "grid_auto_rows": null,
            "grid_gap": null,
            "max_width": null,
            "order": null,
            "_view_module_version": "1.2.0",
            "grid_template_areas": null,
            "object_position": null,
            "object_fit": null,
            "grid_auto_columns": null,
            "margin": null,
            "display": null,
            "left": null
          }
        }
      }
    }
  },
  "cells": [
    {
      "cell_type": "markdown",
      "metadata": {
        "id": "view-in-github",
        "colab_type": "text"
      },
      "source": [
        "<a href=\"https://colab.research.google.com/github/GeoLabUniLaSalle/Python/blob/main/Traitement_pytorch_etu.ipynb\" target=\"_parent\"><img src=\"https://colab.research.google.com/assets/colab-badge.svg\" alt=\"Open In Colab\"/></a>"
      ]
    },
    {
      "cell_type": "markdown",
      "metadata": {
        "id": "XKww3kF5Du8D"
      },
      "source": [
        "# Données et Tenseurs avec pytorch \n",
        "Les tenseurs sont une structure de données spécialisée qui ressemble beaucoup aux tableaux et aux matrices. Dans PyTorch, nous utilisons les tenseurs pour coder les entrées et les sorties d'un modèle, ainsi que les paramètres du modèle."
      ]
    },
    {
      "cell_type": "code",
      "metadata": {
        "id": "ZDWiu1UMDtEQ"
      },
      "source": [
        "import torch\n",
        "import numpy as np"
      ],
      "execution_count": null,
      "outputs": []
    },
    {
      "cell_type": "markdown",
      "metadata": {
        "id": "tk7asZidEABy"
      },
      "source": [
        "## Définir un tenseur"
      ]
    },
    {
      "cell_type": "code",
      "metadata": {
        "id": "cmNDHDF2D8vl"
      },
      "source": [
        "data = [[1, 2],[3, 4]]\n",
        "x_data = #"
      ],
      "execution_count": null,
      "outputs": []
    },
    {
      "cell_type": "markdown",
      "metadata": {
        "id": "PQf0u22-EFbO"
      },
      "source": [
        "Il est possible de le définir selon un matrice numpy"
      ]
    },
    {
      "cell_type": "code",
      "metadata": {
        "id": "e3_nxg-1D-Ye"
      },
      "source": [
        "np_array = np.array(data)\n",
        "x_np = #"
      ],
      "execution_count": null,
      "outputs": []
    },
    {
      "cell_type": "markdown",
      "metadata": {
        "id": "lC67dA1pEQkW"
      },
      "source": [
        "En cas de redéfinition d'un tenseur,celui-ci conserve les propriétés (forme, type de données) du tenseur en argument, sauf s'il est explicitement surchargé."
      ]
    },
    {
      "cell_type": "code",
      "metadata": {
        "id": "Ot8nI11AEK5i"
      },
      "source": [
        "x_ones = torch.ones_like(x_data) # retains the properties of x_data\n",
        "print(f\"Ones Tensor: \\n {x_ones} \\n\")\n",
        "\n",
        "x_rand = torch.rand_like(x_data, dtype=torch.float) # overrides the datatype of x_data\n",
        "print(f\"Random Tensor: \\n {x_rand} \\n\")"
      ],
      "execution_count": null,
      "outputs": []
    },
    {
      "cell_type": "markdown",
      "metadata": {
        "id": "haP7Y9jUEmFH"
      },
      "source": [
        "Shape (canal) permet de donner une même informations de dimensions pour la définition de torseur"
      ]
    },
    {
      "cell_type": "code",
      "metadata": {
        "id": "AVU0HKUpEUGb"
      },
      "source": [
        "shape = (2,3,)\n",
        "rand_tensor = torch.rand(shape)\n",
        "ones_tensor = torch.ones(shape)\n",
        "zeros_tensor = torch.zeros(shape)\n",
        "\n",
        "print(f\"Random Tensor: \\n {rand_tensor} \\n\")\n",
        "print(f\"Ones Tensor: \\n {ones_tensor} \\n\")\n",
        "print(f\"Zeros Tensor: \\n {zeros_tensor}\")"
      ],
      "execution_count": null,
      "outputs": []
    },
    {
      "cell_type": "markdown",
      "metadata": {
        "id": "2hN1acACE2fZ"
      },
      "source": [
        "## Attributs d'un Tenseur"
      ]
    },
    {
      "cell_type": "code",
      "metadata": {
        "id": "0bZ_dippEgn7"
      },
      "source": [
        "tensor = torch.rand(3,4)\n",
        "\n",
        "print(f\"Shape of tensor: {tensor.shape}\")\n",
        "print(f\"Datatype of tensor: {tensor.dtype}\")\n",
        "print(f\"Device tensor is stored on: {tensor.device}\")"
      ],
      "execution_count": null,
      "outputs": []
    },
    {
      "cell_type": "markdown",
      "metadata": {
        "id": "CQS1GJYLFDY1"
      },
      "source": [
        "Nos notons que notre tenseur est stocké sur CPU, or pour avoir de meilleure performance nous souhaitons le passer en GPU (si disponible)\n"
      ]
    },
    {
      "cell_type": "code",
      "metadata": {
        "colab": {
          "base_uri": "https://localhost:8080/"
        },
        "id": "B4gXCypBE7bO",
        "outputId": "c43f9231-cb4e-451c-e980-1187149cb311"
      },
      "source": [
        "# We move our tensor to the GPU if available\n",
        "if torch.cuda.is_available():\n",
        "    tensor = tensor.to('cuda')\n",
        "print(f\"Device tensor is stored on: {tensor.device}\")"
      ],
      "execution_count": null,
      "outputs": [
        {
          "output_type": "stream",
          "name": "stdout",
          "text": [
            "Device tensor is stored on: cpu\n"
          ]
        }
      ]
    },
    {
      "cell_type": "markdown",
      "metadata": {
        "id": "7cQjzfTMFbkK"
      },
      "source": [
        "En utilisant les connaissance que vous avez sur les array donner en output : \n",
        "* La première ligne du tenseur\n",
        "* La première colonne du tenseur\n",
        "* La dernière colonne du tenseur\n"
      ]
    },
    {
      "cell_type": "code",
      "metadata": {
        "id": "bfgKPYhYFwtR"
      },
      "source": [
        "tensor = torch.ones(4, 4)"
      ],
      "execution_count": null,
      "outputs": []
    },
    {
      "cell_type": "code",
      "metadata": {
        "id": "Cz4zbpiEFS_w"
      },
      "source": [
        "#"
      ],
      "execution_count": null,
      "outputs": []
    },
    {
      "cell_type": "markdown",
      "metadata": {
        "id": "I5mIDJFGFz5r"
      },
      "source": [
        "Il est possible d'assembler les tenseurs en les concatenant "
      ]
    },
    {
      "cell_type": "code",
      "metadata": {
        "colab": {
          "base_uri": "https://localhost:8080/"
        },
        "id": "veh9sQwjFaPd",
        "outputId": "ecd9851b-47d4-4f1a-ea53-a02f0a2306c1"
      },
      "source": [
        "t1 = torch.cat([tensor, tensor, tensor], dim=1)\n",
        "print(t1)"
      ],
      "execution_count": null,
      "outputs": [
        {
          "output_type": "stream",
          "name": "stdout",
          "text": [
            "tensor([[1., 0., 1., 1., 1., 0., 1., 1., 1., 0., 1., 1.],\n",
            "        [1., 0., 1., 1., 1., 0., 1., 1., 1., 0., 1., 1.],\n",
            "        [1., 0., 1., 1., 1., 0., 1., 1., 1., 0., 1., 1.],\n",
            "        [1., 0., 1., 1., 1., 0., 1., 1., 1., 0., 1., 1.]])\n"
          ]
        }
      ]
    },
    {
      "cell_type": "markdown",
      "metadata": {
        "id": "jvuTUbagGcpu"
      },
      "source": [
        "## Tenseur avec numpy"
      ]
    },
    {
      "cell_type": "markdown",
      "metadata": {
        "id": "YD8uH8xXGi_I"
      },
      "source": [
        "Il est possible de fusionner dans la mémoire les tenseur stocké sur le CPU et une array numpy. Ce qui facilite grandement l'efficacité des opérations sur celles-ci"
      ]
    },
    {
      "cell_type": "code",
      "metadata": {
        "colab": {
          "base_uri": "https://localhost:8080/"
        },
        "id": "CWetp8FIGeMg",
        "outputId": "89b8f60a-1a15-4c25-d868-c2a11e67e6b7"
      },
      "source": [
        "t = torch.ones(5)\n",
        "print(f\"t: {t}\")\n",
        "#\n",
        "print(f\"n: {n}\")"
      ],
      "execution_count": null,
      "outputs": [
        {
          "output_type": "stream",
          "name": "stdout",
          "text": [
            "t: tensor([1., 1., 1., 1., 1.])\n",
            "n: [1. 1. 1. 1. 1.]\n"
          ]
        }
      ]
    },
    {
      "cell_type": "code",
      "metadata": {
        "colab": {
          "base_uri": "https://localhost:8080/"
        },
        "id": "cqhtzkzLGuWG",
        "outputId": "403bd308-b2b9-428a-d919-1b23aef33a8a"
      },
      "source": [
        "t.add_(1)\n",
        "print(f\"t: {t}\")\n",
        "print(f\"n: {n}\")"
      ],
      "execution_count": null,
      "outputs": [
        {
          "output_type": "stream",
          "name": "stdout",
          "text": [
            "t: tensor([2., 2., 2., 2., 2.])\n",
            "n: [2. 2. 2. 2. 2.]\n"
          ]
        }
      ]
    },
    {
      "cell_type": "code",
      "metadata": {
        "colab": {
          "base_uri": "https://localhost:8080/"
        },
        "id": "Lia1r9vnHGlp",
        "outputId": "db9968b2-0997-4c31-9b70-5601a113dc04"
      },
      "source": [
        "np.add(n,1,out=n)\n",
        "print(f\"t: {t}\")\n",
        "print(f\"n: {n}\")"
      ],
      "execution_count": null,
      "outputs": [
        {
          "output_type": "stream",
          "name": "stdout",
          "text": [
            "t: tensor([3., 3., 3., 3., 3.])\n",
            "n: [3. 3. 3. 3. 3.]\n"
          ]
        }
      ]
    },
    {
      "cell_type": "markdown",
      "metadata": {
        "id": "MMQJ5DsfG75d"
      },
      "source": [
        "Array dans un tenseur"
      ]
    },
    {
      "cell_type": "code",
      "metadata": {
        "id": "KRJcqKJeG-Od"
      },
      "source": [
        "n = np.ones(5)\n",
        "t = #(n)"
      ],
      "execution_count": null,
      "outputs": []
    },
    {
      "cell_type": "code",
      "metadata": {
        "colab": {
          "base_uri": "https://localhost:8080/"
        },
        "id": "ciUtBs0gHA3d",
        "outputId": "59d25114-ab6b-4dfe-cf35-134632e833e0"
      },
      "source": [
        "np.add(n, 1, out=n)\n",
        "print(f\"t: {t}\")\n",
        "print(f\"n: {n}\")"
      ],
      "execution_count": null,
      "outputs": [
        {
          "output_type": "stream",
          "name": "stdout",
          "text": [
            "t: tensor([2., 2., 2., 2., 2.], dtype=torch.float64)\n",
            "n: [2. 2. 2. 2. 2.]\n"
          ]
        }
      ]
    },
    {
      "cell_type": "markdown",
      "metadata": {
        "id": "6Z-GccFTfSpC"
      },
      "source": [
        "## Normalisation et standadisation avec **Pytorch**"
      ]
    },
    {
      "cell_type": "markdown",
      "metadata": {
        "id": "KFxuDK0agzUi"
      },
      "source": [
        "La normalisation c’est le fait de modifier les données de chaque canal/tenseur de telle sorte que la moyenne soit nulle et l’écart-type égale à un.\n",
        "\n",
        "La normalisation est un passage indispensable dans le machine learning car il condiionne le bon apprentissage par le modèle. "
      ]
    },
    {
      "cell_type": "markdown",
      "metadata": {
        "id": "zCmCPgEZhVJb"
      },
      "source": [
        "La normalisation de données necessite de calculer l'écart-type et la moyenne de notre jeu de donées. "
      ]
    },
    {
      "cell_type": "code",
      "metadata": {
        "id": "HM_aMZtehUer"
      },
      "source": [
        "import numpy as np\n",
        "\n",
        "x = [79, 9, 37, 14, 23, 4]"
      ],
      "execution_count": null,
      "outputs": []
    },
    {
      "cell_type": "markdown",
      "metadata": {
        "id": "n83mOd5ih2rF"
      },
      "source": [
        "A vous de jouer : \n",
        "* Calculer l'écart-type et la moyenne de cette array"
      ]
    },
    {
      "cell_type": "code",
      "metadata": {
        "id": "iqU1GJbih2Fg"
      },
      "source": [
        "#"
      ],
      "execution_count": null,
      "outputs": []
    },
    {
      "cell_type": "markdown",
      "metadata": {
        "id": "ZqNbHtKFhuim"
      },
      "source": [
        "Cet Ecart-type et cette moyenne vont nous servir por la normalisation de la matrice. \n",
        "\n",
        "La normalisation s'exprime selon la formule suivante : \n",
        "\n",
        "$Xnorm = (x-\\bar x)/std$"
      ]
    },
    {
      "cell_type": "markdown",
      "metadata": {
        "id": "LIBdsKmCiuAH"
      },
      "source": [
        "A vous de jouer : \n",
        "* Appliquer la formule de l'écart-type sur la matrice"
      ]
    },
    {
      "cell_type": "code",
      "metadata": {
        "id": "AT7Ni6Ytf_us"
      },
      "source": [
        "#"
      ],
      "execution_count": null,
      "outputs": []
    },
    {
      "cell_type": "markdown",
      "metadata": {
        "id": "ppKIKOtHjjLT"
      },
      "source": [
        "La matrice est maintenant normalisée \n",
        "\n",
        "* Pour le verifier il est possible de calculer sa moyenne et son ecart-type \n",
        "Que remarquez-vous "
      ]
    },
    {
      "cell_type": "code",
      "metadata": {
        "id": "WOgGFUAdi9tx"
      },
      "source": [
        "#"
      ],
      "execution_count": null,
      "outputs": []
    },
    {
      "cell_type": "markdown",
      "metadata": {
        "id": "GNZn1zhnkAzl"
      },
      "source": [
        "Pourquoi normaliser les données ? "
      ]
    },
    {
      "cell_type": "markdown",
      "metadata": {
        "id": "kf-oA6cKkEIq"
      },
      "source": [
        "* Le fait de normaliser nos données les inclues toutes dans la même plage que nos fonctions d’activation, généralement entre 0 et 1. Cela permet d’avoir moins souvent des gradients non nuls lors de l’entraînement et, par conséquent, les neurones de notre réseau apprendront plus rapidement.\n",
        "* En normalisant chaque canal de manière à ce qu’ils aient la même distribution, on s’assure que les informations du canal peuvent être mélangées et mises à jour lors de la descente de gradient (back propagation) en utilisant un même learning rate (taux d’apprentissage).\n"
      ]
    },
    {
      "cell_type": "markdown",
      "metadata": {
        "id": "jGCQhxmGkVpD"
      },
      "source": [
        "Pytorch permet, à l'instar de plusieurs bibliothèque de calculs scientifiques de calculer directement la normalisation. Prenons un exemple sur une image extraite d'un dataset spécifique"
      ]
    },
    {
      "cell_type": "code",
      "metadata": {
        "colab": {
          "base_uri": "https://localhost:8080/",
          "height": 103,
          "referenced_widgets": [
            "57524a5cacf4400287ac4554042e05bf",
            "3c2d9b0a556f457fa80a156278551387",
            "c8e7d475e3a0491cba5ef9b20ed2d77f",
            "d5ac25f6cafe49a2be8818f7ef072e87",
            "055239d8b80f40d899e2b7ff262ebab5",
            "af3b8fea35d84d8c9dd7fe96fc903b6d",
            "c33c76ff679d4fdcb94094932756f717",
            "7b5ec5aba9784f88a91a996fea7e9943",
            "ee6ef315b7934a99978118a163371fe3",
            "246156026394400a94f96baec418b802",
            "7e6371cb55bb4f8da9faaf39bc388a43"
          ]
        },
        "id": "kNo8PKS0j52z",
        "outputId": "58727e25-086d-4c31-a1dd-3e64fce3458c"
      },
      "source": [
        "from torchvision import datasets\n",
        "from torchvision import transforms\n",
        "\n",
        "data_path = '../data-unversioned/p1ch7/'\n",
        "\n",
        "cifar10 = datasets.CIFAR10(\n",
        "    data_path, train=True, download=True,\n",
        "    transform=transforms.ToTensor()\n",
        "    )"
      ],
      "execution_count": null,
      "outputs": [
        {
          "output_type": "stream",
          "name": "stdout",
          "text": [
            "Downloading https://www.cs.toronto.edu/~kriz/cifar-10-python.tar.gz to ../data-unversioned/p1ch7/cifar-10-python.tar.gz\n"
          ]
        },
        {
          "output_type": "display_data",
          "data": {
            "application/vnd.jupyter.widget-view+json": {
              "model_id": "57524a5cacf4400287ac4554042e05bf",
              "version_minor": 0,
              "version_major": 2
            },
            "text/plain": [
              "  0%|          | 0/170498071 [00:00<?, ?it/s]"
            ]
          },
          "metadata": {}
        },
        {
          "output_type": "stream",
          "name": "stdout",
          "text": [
            "Extracting ../data-unversioned/p1ch7/cifar-10-python.tar.gz to ../data-unversioned/p1ch7/\n"
          ]
        }
      ]
    },
    {
      "cell_type": "markdown",
      "metadata": {
        "id": "jkEdbEfzlVLg"
      },
      "source": [
        "Concernant les parametres : \n",
        "* data_path, le répertoire sera enregistré le jeu de données cifar-10 \n",
        "* train = True, crée le jeu de données à partir de l’ensemble d’entraînement, si False crée à partir de l’ensemble de test.\n",
        "* download = True, télécharge l’ensemble de données depuis internet et le place dans le répertoire racine. Si le jeu de données est déjà téléchargé, il n’est pas téléchargé à nouveau.\n",
        "* transform = transforms.ToTensor(), permet d’initiliaser les images directement sous forme de Tenseur PyTorch (si rien n’est spécifié les images sont au format PIL.Image)"
      ]
    },
    {
      "cell_type": "markdown",
      "metadata": {
        "id": "p6X8Uf47lkuK"
      },
      "source": [
        "A vous de jouer :\n",
        "* Récuperer la 6ème image du jeu de données et afficher la"
      ]
    },
    {
      "cell_type": "code",
      "metadata": {
        "colab": {
          "base_uri": "https://localhost:8080/"
        },
        "id": "50o0sl5JlKYU",
        "outputId": "a1edd1ed-0b1b-438e-c39a-caf85c414e32"
      },
      "source": [
        "img_t, index_label = cifar10[5]\n",
        "type(img_t), type(index_label)"
      ],
      "execution_count": null,
      "outputs": [
        {
          "output_type": "execute_result",
          "data": {
            "text/plain": [
              "(torch.Tensor, int)"
            ]
          },
          "metadata": {},
          "execution_count": 17
        }
      ]
    },
    {
      "cell_type": "code",
      "metadata": {
        "colab": {
          "base_uri": "https://localhost:8080/",
          "height": 266
        },
        "id": "y5yeAhy4l0Y_",
        "outputId": "6926ea69-bdc8-4b80-c157-4c7661a38112"
      },
      "source": [
        "import matplotlib.pyplot as plt\n",
        "\n",
        "#"
      ],
      "execution_count": null,
      "outputs": [
        {
          "output_type": "display_data",
          "data": {
            "image/png": "[encoded data removed]",
            "text/plain": [
              "<Figure size 432x288 with 1 Axes>"
            ]
          },
          "metadata": {
            "needs_background": "light"
          }
        }
      ]
    },
    {
      "cell_type": "markdown",
      "metadata": {
        "id": "cacjzp4WmkFi"
      },
      "source": [
        "On va créer le canal de tenseur dont nous parlions dans la partie précédente.\n",
        "\n",
        "Pour cela, on utilise la fonction stack() en indiquant chacun des tenseurs de notre variable cifar10 :"
      ]
    },
    {
      "cell_type": "code",
      "metadata": {
        "colab": {
          "base_uri": "https://localhost:8080/"
        },
        "id": "Ay2rRiaIl3OO",
        "outputId": "54ab7994-03b6-4191-99d9-7b1f6b31aa6d"
      },
      "source": [
        "import torch\n",
        "\n",
        "#\n",
        "imgs.shape"
      ],
      "execution_count": null,
      "outputs": [
        {
          "output_type": "execute_result",
          "data": {
            "text/plain": [
              "torch.Size([3, 32, 32, 50000])"
            ]
          },
          "metadata": {},
          "execution_count": 19
        }
      ]
    },
    {
      "cell_type": "code",
      "metadata": {
        "colab": {
          "base_uri": "https://localhost:8080/"
        },
        "id": "OJKNtctjmh_U",
        "outputId": "fac6936c-aadb-4845-bc42-d55970993716"
      },
      "source": [
        "imgs.view(3, -1).mean(dim=1)"
      ],
      "execution_count": null,
      "outputs": [
        {
          "output_type": "execute_result",
          "data": {
            "text/plain": [
              "tensor([0.4914, 0.4822, 0.4465])"
            ]
          },
          "metadata": {},
          "execution_count": 20
        }
      ]
    },
    {
      "cell_type": "markdown",
      "metadata": {
        "id": "JQ0SE0R5mwzo"
      },
      "source": [
        "A vous de jouer : \n",
        "* De manière analogue calculer l'écart_type "
      ]
    },
    {
      "cell_type": "code",
      "metadata": {
        "colab": {
          "base_uri": "https://localhost:8080/"
        },
        "id": "aFtfSi3dmpnm",
        "outputId": "3f582a8c-d583-484c-894a-cd051946a474"
      },
      "source": [
        "imgs.view(3, -1).std(dim=1)"
      ],
      "execution_count": null,
      "outputs": [
        {
          "output_type": "execute_result",
          "data": {
            "text/plain": [
              "tensor([0.2470, 0.2435, 0.2616])"
            ]
          },
          "metadata": {},
          "execution_count": 21
        }
      ]
    },
    {
      "cell_type": "code",
      "metadata": {
        "id": "wwfcpOnwm4Sm"
      },
      "source": [
        "imgs_norm = transforms.Normalize((0.4915, 0.4823, 0.4468), (0.2470, 0.2435, 0.2616))"
      ],
      "execution_count": null,
      "outputs": []
    },
    {
      "cell_type": "markdown",
      "metadata": {
        "id": "pzF5lM9_nK_Q"
      },
      "source": [
        "A vous de jouer: \n",
        "* Normaliser l'ensemble des images en une boucle\n",
        "* Verifier si la normalisation est correcte pour l'ensemble de la série "
      ]
    },
    {
      "cell_type": "code",
      "metadata": {
        "id": "AxQgNVp6m-1B"
      },
      "source": [
        "#"
      ],
      "execution_count": null,
      "outputs": []
    },
    {
      "cell_type": "code",
      "metadata": {
        "id": "a7HCnUNMneXi"
      },
      "source": [
        "#"
      ],
      "execution_count": null,
      "outputs": []
    },
    {
      "cell_type": "markdown",
      "metadata": {
        "id": "3eI41KHMn9Ul"
      },
      "source": [
        "Il est possible de normaliser directement le dataset dans le dataloader"
      ]
    },
    {
      "cell_type": "code",
      "metadata": {
        "id": "uSzAWBVTnnKb"
      },
      "source": [
        "transformed_cifar10 = datasets.CIFAR10(\n",
        "    data_path, train=True, download=True,\n",
        "    transform=transforms.Compose([\n",
        "        transforms.ToTensor(),\n",
        "        t#\n",
        "        ]))\n",
        "#"
      ],
      "execution_count": null,
      "outputs": []
    },
    {
      "cell_type": "markdown",
      "metadata": {
        "id": "yaHGF28Zok-5"
      },
      "source": [
        "A vous de jouer : \n",
        "* Afficher graphiquement le dataset normalisé. Que constatez vous ? \n",
        "* A vous de dénormaliser les données pour revenir l'état inital "
      ]
    },
    {
      "cell_type": "code",
      "metadata": {
        "id": "rVgOWelkofzt"
      },
      "source": [
        "#"
      ],
      "execution_count": null,
      "outputs": []
    },
    {
      "cell_type": "code",
      "metadata": {
        "id": "p_lc9iYxo0Fs"
      },
      "source": [
        "#"
      ],
      "execution_count": null,
      "outputs": []
    },
    {
      "cell_type": "markdown",
      "metadata": {
        "id": "I4OqiAB2plFi"
      },
      "source": [
        "Pour revenir a l'état initial, il suffit de suivre la formule suivante : \n",
        "* $mean=-\\bar x/std$\n",
        "* $std=1/std$"
      ]
    },
    {
      "cell_type": "code",
      "metadata": {
        "id": "aALStL9io6BN"
      },
      "source": [
        "plt.imshow(unorm(img).permute(1, 2, 0))\n",
        "plt.show()"
      ],
      "execution_count": null,
      "outputs": []
    }
  ]
}