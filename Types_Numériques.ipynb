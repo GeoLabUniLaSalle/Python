{
  "nbformat": 4,
  "nbformat_minor": 0,
  "metadata": {
    "colab": {
      "name": "Types Numériques.ipynb",
      "provenance": [],
      "collapsed_sections": [],
      "authorship_tag": "ABX9TyO71lCV7BhwcNODjgNzLNZb",
      "include_colab_link": true
    },
    "kernelspec": {
      "name": "python3",
      "display_name": "Python 3"
    }
  },
  "cells": [
    {
      "cell_type": "markdown",
      "metadata": {
        "id": "view-in-github",
        "colab_type": "text"
      },
      "source": [
        "<a href=\"https://colab.research.google.com/github/GeoLabUniLaSalle/Python/blob/main/Types_Num%C3%A9riques.ipynb\" target=\"_parent\"><img src=\"https://colab.research.google.com/assets/colab-badge.svg\" alt=\"Open In Colab\"/></a>"
      ]
    },
    {
      "cell_type": "markdown",
      "metadata": {
        "id": "SosKeU-O_Ga5"
      },
      "source": [
        "# **Types Numériques**\n",
        "\n",
        "Dans ce chapitre, nous allons manipuler des variables de type numérique : entiers, réels et booléens\n",
        "\n",
        "Commençons par créer une variable et affichons son type de données."
      ]
    },
    {
      "cell_type": "code",
      "metadata": {
        "colab": {
          "base_uri": "https://localhost:8080/"
        },
        "id": "tvUxJS-L_Eds",
        "outputId": "57de5f3d-938e-43a2-ba3d-41a12910b9ac"
      },
      "source": [
        "a = 5\n",
        "type(a)"
      ],
      "execution_count": 1,
      "outputs": [
        {
          "output_type": "execute_result",
          "data": {
            "text/plain": [
              "int"
            ]
          },
          "metadata": {
            "tags": []
          },
          "execution_count": 1
        }
      ]
    },
    {
      "cell_type": "markdown",
      "metadata": {
        "id": "YiIRLUbi_b1N"
      },
      "source": [
        "Le type de a est int (entier). Le typage a été réalisé de manière dynamique, cf. chapitre sur le [typage dynamique](https://mybinder.org/v2/gh/GeoLabUniLaSalle/Python/HEAD?filepath=Typage_dynamique.ipynb).\n",
        "\n",
        "Affectons maintenant une valeur très grande à une nouvelle variable et examinons sa représentation interne :"
      ]
    },
    {
      "cell_type": "code",
      "metadata": {
        "colab": {
          "base_uri": "https://localhost:8080/"
        },
        "id": "J9-9skB7_bLr",
        "outputId": "97efc7dd-a1da-4137-c8c0-4647f4cccf67"
      },
      "source": [
        "b = 67436981489327890143207089341366271987813608115539816830106738362549278017937\n",
        "b"
      ],
      "execution_count": 3,
      "outputs": [
        {
          "output_type": "execute_result",
          "data": {
            "text/plain": [
              "67436981489327890143207089341366271987813608115539816830106738362549278017937"
            ]
          },
          "metadata": {
            "tags": []
          },
          "execution_count": 3
        }
      ]
    },
    {
      "cell_type": "markdown",
      "metadata": {
        "id": "rHVsteiTA0rV"
      },
      "source": [
        "En Python, les entiers ont une précision illimitée.\n",
        "\n",
        "Manipulons maintenant les différents opérateurs numériques :\n"
      ]
    },
    {
      "cell_type": "code",
      "metadata": {
        "colab": {
          "base_uri": "https://localhost:8080/"
        },
        "id": "AWJQbWibCfG-",
        "outputId": "1d0833fd-3b56-4367-de76-16ac4f28a8b1"
      },
      "source": [
        "print(7+2)\n",
        "print(7-2)\n",
        "print(7*2)\n",
        "print(7/2)\n",
        "print(7//2) # division entière, qui donne le quotient de la division de 7 par 2 : 3\n",
        "print(7%2) # % est l'opérateur modulo, qui permet d'obtenir le reste de la division entière de 7 par 2 : 7 = 2 x 3 + 1, 1 est le reste.\n",
        "print(7**2) # 7 puissance 2"
      ],
      "execution_count": 13,
      "outputs": [
        {
          "output_type": "stream",
          "text": [
            "9\n",
            "5\n",
            "14\n",
            "3.5\n",
            "3\n",
            "1\n",
            "49\n"
          ],
          "name": "stdout"
        }
      ]
    },
    {
      "cell_type": "markdown",
      "metadata": {
        "id": "v0qS-5LxCWFU"
      },
      "source": [
        "Notez que le symbole # permet d'insérer des commentaires dans votre code. Pour mettre plusieurs lignes en commentaire, nous pouvons utiliser ''' en début et en fin de la zone à mettre en commentaire :"
      ]
    },
    {
      "cell_type": "code",
      "metadata": {
        "colab": {
          "base_uri": "https://localhost:8080/"
        },
        "id": "iY72J9QvDPZi",
        "outputId": "8c932e48-e98d-4ec8-ee61-1bdc59aaea7d"
      },
      "source": [
        "print(7+2)\n",
        "'''\n",
        "print(7-2)\n",
        "print(7*2)\n",
        "print(7/2)\n",
        "'''\n",
        "print(7%2) # % est l'opérateur modulo, qui permet d'obtenir le reste de la division entière de 7 par 2 : 7 = 2 x 3 + 1, 1 est le reste."
      ],
      "execution_count": 12,
      "outputs": [
        {
          "output_type": "stream",
          "text": [
            "9\n",
            "1\n"
          ],
          "name": "stdout"
        }
      ]
    },
    {
      "cell_type": "markdown",
      "metadata": {
        "id": "BJQrCsLnDOBw"
      },
      "source": [
        "Passons maintenant aux nombres réels :"
      ]
    },
    {
      "cell_type": "code",
      "metadata": {
        "colab": {
          "base_uri": "https://localhost:8080/"
        },
        "id": "IR7BlkT5Auho",
        "outputId": "5a3ff201-ab3b-4039-c794-dd7d981b666e"
      },
      "source": [
        "c = 8.2\n",
        "type(c)"
      ],
      "execution_count": 4,
      "outputs": [
        {
          "output_type": "execute_result",
          "data": {
            "text/plain": [
              "float"
            ]
          },
          "metadata": {
            "tags": []
          },
          "execution_count": 4
        }
      ]
    },
    {
      "cell_type": "markdown",
      "metadata": {
        "id": "j8qk25rNBTa_"
      },
      "source": [
        "Le type de c est float (réel). Le typage a également été réalisé de manière dynamique.\n",
        "\n",
        "Affectons maintenant une valeur très grande à c en lui ajoutant b et examinons sa représentation interne :"
      ]
    },
    {
      "cell_type": "code",
      "metadata": {
        "colab": {
          "base_uri": "https://localhost:8080/"
        },
        "id": "Uznsr53DBE4d",
        "outputId": "0540b9b0-6219-4505-9add-1ca3c6f21caa"
      },
      "source": [
        "b+c"
      ],
      "execution_count": 6,
      "outputs": [
        {
          "output_type": "execute_result",
          "data": {
            "text/plain": [
              "6.743698148932789e+76"
            ]
          },
          "metadata": {
            "tags": []
          },
          "execution_count": 6
        }
      ]
    },
    {
      "cell_type": "markdown",
      "metadata": {
        "id": "9vI1nx7EBbP4"
      },
      "source": [
        "Nous observons ici une perte de précision dûe au type float : seules les premières décimales sont conservées.\n",
        "\n",
        "Réalisons maintenant une conversion du type float vers le type int. En Python, tout les types peuvent être convertis en tout autre type de cette manière :"
      ]
    },
    {
      "cell_type": "code",
      "metadata": {
        "colab": {
          "base_uri": "https://localhost:8080/"
        },
        "id": "HCsD95nEBVky",
        "outputId": "4f9e481a-e49c-426f-8dcb-e69b996dbb70"
      },
      "source": [
        "int(8.2)"
      ],
      "execution_count": 7,
      "outputs": [
        {
          "output_type": "execute_result",
          "data": {
            "text/plain": [
              "8"
            ]
          },
          "metadata": {
            "tags": []
          },
          "execution_count": 7
        }
      ]
    },
    {
      "cell_type": "markdown",
      "metadata": {
        "id": "UW66_g52CGO-"
      },
      "source": [
        "Le passage du type float au type int nous prive des décimales (arrondi à l'inférieur).\n",
        "\n",
        "Tous les opérateurs numériques peuvent être utilisés sur des float, exemples :\n"
      ]
    },
    {
      "cell_type": "code",
      "metadata": {
        "colab": {
          "base_uri": "https://localhost:8080/"
        },
        "id": "W6ArYp5rCBCX",
        "outputId": "4c560b81-90f8-44f3-9bbf-ae08fff76175"
      },
      "source": [
        "print(8.2/1.7)\n",
        "print(8.2//1.7)"
      ],
      "execution_count": 17,
      "outputs": [
        {
          "output_type": "stream",
          "text": [
            "4.823529411764706\n",
            "4.0\n"
          ],
          "name": "stdout"
        }
      ]
    },
    {
      "cell_type": "markdown",
      "metadata": {
        "id": "qcbYK2bqEY-3"
      },
      "source": [
        "Découvrons enfin de type booléen"
      ]
    },
    {
      "cell_type": "code",
      "metadata": {
        "colab": {
          "base_uri": "https://localhost:8080/"
        },
        "id": "keWY3dnuEL27",
        "outputId": "01b4a710-25aa-4147-d476-2e508bb2fba7"
      },
      "source": [
        "d = True\n",
        "type(d)"
      ],
      "execution_count": 18,
      "outputs": [
        {
          "output_type": "execute_result",
          "data": {
            "text/plain": [
              "bool"
            ]
          },
          "metadata": {
            "tags": []
          },
          "execution_count": 18
        }
      ]
    },
    {
      "cell_type": "markdown",
      "metadata": {
        "id": "ewKRPWyZEik5"
      },
      "source": [
        "Le type de d est booléen (bool). Le typage a également été réalisé de manière dynamique.\n",
        "\n",
        "Nous pouvons obtenir des valeurs booléennes avec les opérateurs de comparaison :"
      ]
    },
    {
      "cell_type": "code",
      "metadata": {
        "colab": {
          "base_uri": "https://localhost:8080/"
        },
        "id": "pDiFJN0aEgPo",
        "outputId": "5c5a36b1-add3-456f-c9e9-4df5e51ebf01"
      },
      "source": [
        "print(3<4)\n",
        "print(3<=4)\n",
        "print(3>4)\n",
        "print(3>=4)\n",
        "print(3==4)\n",
        "print(3!=4)"
      ],
      "execution_count": 19,
      "outputs": [
        {
          "output_type": "stream",
          "text": [
            "True\n",
            "True\n",
            "False\n",
            "False\n",
            "False\n",
            "True\n"
          ],
          "name": "stdout"
        }
      ]
    },
    {
      "cell_type": "markdown",
      "metadata": {
        "id": "3ijP95DkFNG7"
      },
      "source": [
        "Les opérateurs booléens classiques peuvent alors être employés :"
      ]
    },
    {
      "cell_type": "code",
      "metadata": {
        "colab": {
          "base_uri": "https://localhost:8080/"
        },
        "id": "H6O2uK4LFG6b",
        "outputId": "9a6ee8fa-c0e4-44fb-f922-8da231c2168f"
      },
      "source": [
        "print(True and False)\n",
        "print(True or False)\n",
        "print(not True)"
      ],
      "execution_count": 20,
      "outputs": [
        {
          "output_type": "stream",
          "text": [
            "False\n",
            "True\n",
            "False\n"
          ],
          "name": "stdout"
        }
      ]
    }
  ]
}