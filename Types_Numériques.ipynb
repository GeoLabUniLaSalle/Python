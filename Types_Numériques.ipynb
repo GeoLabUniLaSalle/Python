{
  "nbformat": 4,
  "nbformat_minor": 0,
  "metadata": {
    "colab": {
      "name": "Types Numériques.ipynb",
      "provenance": [],
      "collapsed_sections": [],
      "authorship_tag": "ABX9TyMtDHEpOTN8qhW6u08084A5",
      "include_colab_link": true
    },
    "kernelspec": {
      "name": "python3",
      "display_name": "Python 3"
    }
  },
  "cells": [
    {
      "cell_type": "markdown",
      "metadata": {
        "id": "view-in-github",
        "colab_type": "text"
      },
      "source": [
        "<a href=\"https://colab.research.google.com/github/GeoLabUniLaSalle/Python/blob/main/Types_Num%C3%A9riques.ipynb\" target=\"_parent\"><img src=\"https://colab.research.google.com/assets/colab-badge.svg\" alt=\"Open In Colab\"/></a>"
      ]
    },
    {
      "cell_type": "markdown",
      "metadata": {
        "id": "SosKeU-O_Ga5"
      },
      "source": [
        "# **Types Numériques**\n",
        "\n",
        "Dans ce chapitre, nous allons manipuler des variables de type numérique : entiers, réels et booléens\n",
        "\n",
        "Commençons par créer une variable et affichons son type de données."
      ]
    },
    {
      "cell_type": "code",
      "metadata": {
        "colab": {
          "base_uri": "https://localhost:8080/"
        },
        "id": "tvUxJS-L_Eds",
        "outputId": "57de5f3d-938e-43a2-ba3d-41a12910b9ac"
      },
      "source": [
        "a = 5\n",
        "type(a)"
      ],
      "execution_count": null,
      "outputs": [
        {
          "output_type": "execute_result",
          "data": {
            "text/plain": [
              "int"
            ]
          },
          "metadata": {
            "tags": []
          },
          "execution_count": 1
        }
      ]
    },
    {
      "cell_type": "markdown",
      "metadata": {
        "id": "YiIRLUbi_b1N"
      },
      "source": [
        "Le type de a est int (entier). Le typage a été réalisé de manière dynamique, cf. chapitre sur le [typage dynamique](https://mybinder.org/v2/gh/GeoLabUniLaSalle/Python/HEAD?filepath=Typage_dynamique.ipynb).\n",
        "\n",
        "Affectons maintenant une valeur très grande à une nouvelle variable et examinons sa représentation interne :"
      ]
    },
    {
      "cell_type": "code",
      "metadata": {
        "colab": {
          "base_uri": "https://localhost:8080/"
        },
        "id": "J9-9skB7_bLr",
        "outputId": "97efc7dd-a1da-4137-c8c0-4647f4cccf67"
      },
      "source": [
        "b = 67436981489327890143207089341366271987813608115539816830106738362549278017937\n",
        "b"
      ],
      "execution_count": null,
      "outputs": [
        {
          "output_type": "execute_result",
          "data": {
            "text/plain": [
              "67436981489327890143207089341366271987813608115539816830106738362549278017937"
            ]
          },
          "metadata": {
            "tags": []
          },
          "execution_count": 3
        }
      ]
    },
    {
      "cell_type": "markdown",
      "metadata": {
        "id": "rHVsteiTA0rV"
      },
      "source": [
        "En Python, les entiers ont une précision illimitée.\n",
        "\n",
        "Manipulons maintenant les différents opérateurs numériques :\n"
      ]
    },
    {
      "cell_type": "code",
      "metadata": {
        "colab": {
          "base_uri": "https://localhost:8080/"
        },
        "id": "AWJQbWibCfG-",
        "outputId": "1d0833fd-3b56-4367-de76-16ac4f28a8b1"
      },
      "source": [
        "print(7+2)\n",
        "print(7-2)\n",
        "print(7*2)\n",
        "print(7/2)\n",
        "print(7//2) # division entière, qui donne le quotient de la division de 7 par 2 : 3\n",
        "print(7%2) # % est l'opérateur modulo, qui permet d'obtenir le reste de la division entière de 7 par 2 : 7 = 2 x 3 + 1, 1 est le reste.\n",
        "print(7**2) # 7 puissance 2"
      ],
      "execution_count": null,
      "outputs": [
        {
          "output_type": "stream",
          "text": [
            "9\n",
            "5\n",
            "14\n",
            "3.5\n",
            "3\n",
            "1\n",
            "49\n"
          ],
          "name": "stdout"
        }
      ]
    },
    {
      "cell_type": "markdown",
      "metadata": {
        "id": "v0qS-5LxCWFU"
      },
      "source": [
        "Notez que le symbole # permet d'insérer des commentaires dans votre code. Pour mettre plusieurs lignes en commentaire, nous pouvons utiliser ''' en début et en fin de la zone à mettre en commentaire :"
      ]
    },
    {
      "cell_type": "code",
      "metadata": {
        "colab": {
          "base_uri": "https://localhost:8080/"
        },
        "id": "iY72J9QvDPZi",
        "outputId": "8c932e48-e98d-4ec8-ee61-1bdc59aaea7d"
      },
      "source": [
        "print(7+2)\n",
        "'''\n",
        "print(7-2)\n",
        "print(7*2)\n",
        "print(7/2)\n",
        "'''\n",
        "print(7%2) # % est l'opérateur modulo, qui permet d'obtenir le reste de la division entière de 7 par 2 : 7 = 2 x 3 + 1, 1 est le reste."
      ],
      "execution_count": null,
      "outputs": [
        {
          "output_type": "stream",
          "text": [
            "9\n",
            "1\n"
          ],
          "name": "stdout"
        }
      ]
    },
    {
      "cell_type": "markdown",
      "metadata": {
        "id": "BJQrCsLnDOBw"
      },
      "source": [
        "Passons maintenant aux nombres réels :"
      ]
    },
    {
      "cell_type": "code",
      "metadata": {
        "colab": {
          "base_uri": "https://localhost:8080/"
        },
        "id": "IR7BlkT5Auho",
        "outputId": "5a3ff201-ab3b-4039-c794-dd7d981b666e"
      },
      "source": [
        "c = 8.2\n",
        "type(c)"
      ],
      "execution_count": null,
      "outputs": [
        {
          "output_type": "execute_result",
          "data": {
            "text/plain": [
              "float"
            ]
          },
          "metadata": {
            "tags": []
          },
          "execution_count": 4
        }
      ]
    },
    {
      "cell_type": "markdown",
      "metadata": {
        "id": "j8qk25rNBTa_"
      },
      "source": [
        "Le type de c est float (réel). Le typage a également été réalisé de manière dynamique.\n",
        "\n",
        "Affectons maintenant une valeur très grande à c en lui ajoutant b et examinons sa représentation interne :"
      ]
    },
    {
      "cell_type": "code",
      "metadata": {
        "colab": {
          "base_uri": "https://localhost:8080/"
        },
        "id": "Uznsr53DBE4d",
        "outputId": "0540b9b0-6219-4505-9add-1ca3c6f21caa"
      },
      "source": [
        "b+c"
      ],
      "execution_count": null,
      "outputs": [
        {
          "output_type": "execute_result",
          "data": {
            "text/plain": [
              "6.743698148932789e+76"
            ]
          },
          "metadata": {
            "tags": []
          },
          "execution_count": 6
        }
      ]
    },
    {
      "cell_type": "markdown",
      "metadata": {
        "id": "9vI1nx7EBbP4"
      },
      "source": [
        "Nous observons ici une perte de précision dûe au type float : seules les premières décimales sont conservées.\n",
        "\n",
        "Réalisons maintenant une conversion du type float vers le type int. En Python, tout les types peuvent être convertis en tout autre type de cette manière :"
      ]
    },
    {
      "cell_type": "code",
      "metadata": {
        "colab": {
          "base_uri": "https://localhost:8080/"
        },
        "id": "HCsD95nEBVky",
        "outputId": "4f9e481a-e49c-426f-8dcb-e69b996dbb70"
      },
      "source": [
        "int(8.2)"
      ],
      "execution_count": null,
      "outputs": [
        {
          "output_type": "execute_result",
          "data": {
            "text/plain": [
              "8"
            ]
          },
          "metadata": {
            "tags": []
          },
          "execution_count": 7
        }
      ]
    },
    {
      "cell_type": "markdown",
      "metadata": {
        "id": "UW66_g52CGO-"
      },
      "source": [
        "Le passage du type float au type int nous prive des décimales (arrondi à l'inférieur).\n",
        "\n",
        "Tous les opérateurs numériques peuvent être utilisés sur des float, exemples :\n"
      ]
    },
    {
      "cell_type": "code",
      "metadata": {
        "colab": {
          "base_uri": "https://localhost:8080/"
        },
        "id": "W6ArYp5rCBCX",
        "outputId": "4c560b81-90f8-44f3-9bbf-ae08fff76175"
      },
      "source": [
        "print(8.2/1.7)\n",
        "print(8.2//1.7)"
      ],
      "execution_count": null,
      "outputs": [
        {
          "output_type": "stream",
          "text": [
            "4.823529411764706\n",
            "4.0\n"
          ],
          "name": "stdout"
        }
      ]
    },
    {
      "cell_type": "markdown",
      "metadata": {
        "id": "MnvHCCTV8Ebt"
      },
      "source": [
        "Pour initialiser une variable à plus l'infini, on écrit :"
      ]
    },
    {
      "cell_type": "code",
      "metadata": {
        "colab": {
          "base_uri": "https://localhost:8080/"
        },
        "id": "Pz_BXYDA8JiU",
        "outputId": "77ea1f09-f1bd-435a-8de6-d7232a3abc76"
      },
      "source": [
        "mini = float('inf')\n",
        "print(mini)\n",
        "print(999999999999999999999999999999>mini)"
      ],
      "execution_count": null,
      "outputs": [
        {
          "output_type": "stream",
          "text": [
            "inf\n",
            "False\n"
          ],
          "name": "stdout"
        }
      ]
    },
    {
      "cell_type": "markdown",
      "metadata": {
        "id": "qcbYK2bqEY-3"
      },
      "source": [
        "Découvrons enfin de type booléen"
      ]
    },
    {
      "cell_type": "code",
      "metadata": {
        "colab": {
          "base_uri": "https://localhost:8080/"
        },
        "id": "keWY3dnuEL27",
        "outputId": "01b4a710-25aa-4147-d476-2e508bb2fba7"
      },
      "source": [
        "d = True\n",
        "type(d)"
      ],
      "execution_count": null,
      "outputs": [
        {
          "output_type": "execute_result",
          "data": {
            "text/plain": [
              "bool"
            ]
          },
          "metadata": {
            "tags": []
          },
          "execution_count": 18
        }
      ]
    },
    {
      "cell_type": "markdown",
      "metadata": {
        "id": "ewKRPWyZEik5"
      },
      "source": [
        "Le type de d est booléen (bool). Le typage a également été réalisé de manière dynamique.\n",
        "\n",
        "Nous pouvons obtenir des valeurs booléennes avec les opérateurs de comparaison :"
      ]
    },
    {
      "cell_type": "code",
      "metadata": {
        "colab": {
          "base_uri": "https://localhost:8080/"
        },
        "id": "pDiFJN0aEgPo",
        "outputId": "5c5a36b1-add3-456f-c9e9-4df5e51ebf01"
      },
      "source": [
        "print(3<4)\n",
        "print(3<=4)\n",
        "print(3>4)\n",
        "print(3>=4)\n",
        "print(3==4)\n",
        "print(3!=4)"
      ],
      "execution_count": null,
      "outputs": [
        {
          "output_type": "stream",
          "text": [
            "True\n",
            "True\n",
            "False\n",
            "False\n",
            "False\n",
            "True\n"
          ],
          "name": "stdout"
        }
      ]
    },
    {
      "cell_type": "markdown",
      "metadata": {
        "id": "3ijP95DkFNG7"
      },
      "source": [
        "Les opérateurs booléens classiques peuvent alors être employés :"
      ]
    },
    {
      "cell_type": "code",
      "metadata": {
        "colab": {
          "base_uri": "https://localhost:8080/"
        },
        "id": "H6O2uK4LFG6b",
        "outputId": "9a6ee8fa-c0e4-44fb-f922-8da231c2168f"
      },
      "source": [
        "print(True and False)\n",
        "print(True or False)\n",
        "print(not True)"
      ],
      "execution_count": null,
      "outputs": [
        {
          "output_type": "stream",
          "text": [
            "False\n",
            "True\n",
            "False\n"
          ],
          "name": "stdout"
        }
      ]
    },
    {
      "cell_type": "markdown",
      "source": [
        "Voici les tables de vérité des opérateurs and et or.\n",
        "\n",
        "![Capture d’écran 2022-03-01 à 09.21.19.png](data:image/png;base64,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)"
      ],
      "metadata": {
        "id": "UqjAiVXcj1_q"
      }
    }
  ]
}