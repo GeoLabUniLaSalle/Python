{
  "nbformat": 4,
  "nbformat_minor": 0,
  "metadata": {
    "colab": {
      "name": "Types Numériques.ipynb",
      "provenance": [],
      "collapsed_sections": [],
      "authorship_tag": "ABX9TyNQ22qnwBx2HUSTKRL3qhfG",
      "include_colab_link": true
    },
    "kernelspec": {
      "name": "python3",
      "display_name": "Python 3"
    }
  },
  "cells": [
    {
      "cell_type": "markdown",
      "metadata": {
        "id": "view-in-github",
        "colab_type": "text"
      },
      "source": [
        "<a href=\"https://colab.research.google.com/github/GeoLabUniLaSalle/Python/blob/main/Types_Num%C3%A9riques.ipynb\" target=\"_parent\"><img src=\"https://colab.research.google.com/assets/colab-badge.svg\" alt=\"Open In Colab\"/></a>"
      ]
    },
    {
      "cell_type": "markdown",
      "metadata": {
        "id": "SosKeU-O_Ga5"
      },
      "source": [
        "# **Types Numériques**\n",
        "\n",
        "Dans ce chapitre, nous allons manipuler des variables de type numérique : entiers, réels et booléens\n",
        "\n",
        "Commençons par créer une variable et affichons son type de données."
      ]
    },
    {
      "cell_type": "code",
      "metadata": {
        "colab": {
          "base_uri": "https://localhost:8080/"
        },
        "id": "tvUxJS-L_Eds",
        "outputId": "57de5f3d-938e-43a2-ba3d-41a12910b9ac"
      },
      "source": [
        "a = 5\n",
        "type(a)"
      ],
      "execution_count": null,
      "outputs": [
        {
          "output_type": "execute_result",
          "data": {
            "text/plain": [
              "int"
            ]
          },
          "metadata": {
            "tags": []
          },
          "execution_count": 1
        }
      ]
    },
    {
      "cell_type": "markdown",
      "metadata": {
        "id": "YiIRLUbi_b1N"
      },
      "source": [
        "Le type de a est int (entier). Le typage a été réalisé de manière dynamique, cf. chapitre sur le [typage dynamique](https://mybinder.org/v2/gh/GeoLabUniLaSalle/Python/HEAD?filepath=Typage_dynamique.ipynb).\n",
        "\n",
        "Affectons maintenant une valeur très grande à une nouvelle variable et examinons sa représentation interne :"
      ]
    },
    {
      "cell_type": "code",
      "metadata": {
        "colab": {
          "base_uri": "https://localhost:8080/"
        },
        "id": "J9-9skB7_bLr",
        "outputId": "97efc7dd-a1da-4137-c8c0-4647f4cccf67"
      },
      "source": [
        "b = 67436981489327890143207089341366271987813608115539816830106738362549278017937\n",
        "b"
      ],
      "execution_count": null,
      "outputs": [
        {
          "output_type": "execute_result",
          "data": {
            "text/plain": [
              "67436981489327890143207089341366271987813608115539816830106738362549278017937"
            ]
          },
          "metadata": {
            "tags": []
          },
          "execution_count": 3
        }
      ]
    },
    {
      "cell_type": "markdown",
      "metadata": {
        "id": "rHVsteiTA0rV"
      },
      "source": [
        "En Python, les entiers ont une précision illimitée.\n",
        "\n",
        "Manipulons maintenant les différents opérateurs numériques :\n"
      ]
    },
    {
      "cell_type": "code",
      "metadata": {
        "colab": {
          "base_uri": "https://localhost:8080/"
        },
        "id": "AWJQbWibCfG-",
        "outputId": "1d0833fd-3b56-4367-de76-16ac4f28a8b1"
      },
      "source": [
        "print(7+2)\n",
        "print(7-2)\n",
        "print(7*2)\n",
        "print(7/2)\n",
        "print(7//2) # division entière, qui donne le quotient de la division de 7 par 2 : 3\n",
        "print(7%2) # % est l'opérateur modulo, qui permet d'obtenir le reste de la division entière de 7 par 2 : 7 = 2 x 3 + 1, 1 est le reste.\n",
        "print(7**2) # 7 puissance 2"
      ],
      "execution_count": null,
      "outputs": [
        {
          "output_type": "stream",
          "text": [
            "9\n",
            "5\n",
            "14\n",
            "3.5\n",
            "3\n",
            "1\n",
            "49\n"
          ],
          "name": "stdout"
        }
      ]
    },
    {
      "cell_type": "markdown",
      "metadata": {
        "id": "v0qS-5LxCWFU"
      },
      "source": [
        "Notez que le symbole # permet d'insérer des commentaires dans votre code. Pour mettre plusieurs lignes en commentaire, nous pouvons utiliser ''' en début et en fin de la zone à mettre en commentaire :"
      ]
    },
    {
      "cell_type": "code",
      "metadata": {
        "colab": {
          "base_uri": "https://localhost:8080/"
        },
        "id": "iY72J9QvDPZi",
        "outputId": "8c932e48-e98d-4ec8-ee61-1bdc59aaea7d"
      },
      "source": [
        "print(7+2)\n",
        "'''\n",
        "print(7-2)\n",
        "print(7*2)\n",
        "print(7/2)\n",
        "'''\n",
        "print(7%2) # % est l'opérateur modulo, qui permet d'obtenir le reste de la division entière de 7 par 2 : 7 = 2 x 3 + 1, 1 est le reste."
      ],
      "execution_count": null,
      "outputs": [
        {
          "output_type": "stream",
          "text": [
            "9\n",
            "1\n"
          ],
          "name": "stdout"
        }
      ]
    },
    {
      "cell_type": "markdown",
      "metadata": {
        "id": "BJQrCsLnDOBw"
      },
      "source": [
        "Passons maintenant aux nombres réels :"
      ]
    },
    {
      "cell_type": "code",
      "metadata": {
        "colab": {
          "base_uri": "https://localhost:8080/"
        },
        "id": "IR7BlkT5Auho",
        "outputId": "5a3ff201-ab3b-4039-c794-dd7d981b666e"
      },
      "source": [
        "c = 8.2\n",
        "type(c)"
      ],
      "execution_count": null,
      "outputs": [
        {
          "output_type": "execute_result",
          "data": {
            "text/plain": [
              "float"
            ]
          },
          "metadata": {
            "tags": []
          },
          "execution_count": 4
        }
      ]
    },
    {
      "cell_type": "markdown",
      "metadata": {
        "id": "j8qk25rNBTa_"
      },
      "source": [
        "Le type de c est float (réel). Le typage a également été réalisé de manière dynamique.\n",
        "\n",
        "Affectons maintenant une valeur très grande à c en lui ajoutant b et examinons sa représentation interne :"
      ]
    },
    {
      "cell_type": "code",
      "metadata": {
        "colab": {
          "base_uri": "https://localhost:8080/"
        },
        "id": "Uznsr53DBE4d",
        "outputId": "0540b9b0-6219-4505-9add-1ca3c6f21caa"
      },
      "source": [
        "b+c"
      ],
      "execution_count": null,
      "outputs": [
        {
          "output_type": "execute_result",
          "data": {
            "text/plain": [
              "6.743698148932789e+76"
            ]
          },
          "metadata": {
            "tags": []
          },
          "execution_count": 6
        }
      ]
    },
    {
      "cell_type": "markdown",
      "metadata": {
        "id": "9vI1nx7EBbP4"
      },
      "source": [
        "Nous observons ici une perte de précision dûe au type float : seules les premières décimales sont conservées.\n",
        "\n",
        "Réalisons maintenant une conversion du type float vers le type int. En Python, tout les types peuvent être convertis en tout autre type de cette manière :"
      ]
    },
    {
      "cell_type": "code",
      "metadata": {
        "colab": {
          "base_uri": "https://localhost:8080/"
        },
        "id": "HCsD95nEBVky",
        "outputId": "4f9e481a-e49c-426f-8dcb-e69b996dbb70"
      },
      "source": [
        "int(8.2)"
      ],
      "execution_count": null,
      "outputs": [
        {
          "output_type": "execute_result",
          "data": {
            "text/plain": [
              "8"
            ]
          },
          "metadata": {
            "tags": []
          },
          "execution_count": 7
        }
      ]
    },
    {
      "cell_type": "markdown",
      "metadata": {
        "id": "UW66_g52CGO-"
      },
      "source": [
        "Le passage du type float au type int nous prive des décimales (arrondi à l'inférieur).\n",
        "\n",
        "Tous les opérateurs numériques peuvent être utilisés sur des float, exemples :\n"
      ]
    },
    {
      "cell_type": "code",
      "metadata": {
        "colab": {
          "base_uri": "https://localhost:8080/"
        },
        "id": "W6ArYp5rCBCX",
        "outputId": "4c560b81-90f8-44f3-9bbf-ae08fff76175"
      },
      "source": [
        "print(8.2/1.7)\n",
        "print(8.2//1.7)"
      ],
      "execution_count": null,
      "outputs": [
        {
          "output_type": "stream",
          "text": [
            "4.823529411764706\n",
            "4.0\n"
          ],
          "name": "stdout"
        }
      ]
    },
    {
      "cell_type": "markdown",
      "metadata": {
        "id": "MnvHCCTV8Ebt"
      },
      "source": [
        "Pour initialiser une variable à plus l'infini, on écrit :"
      ]
    },
    {
      "cell_type": "code",
      "metadata": {
        "colab": {
          "base_uri": "https://localhost:8080/"
        },
        "id": "Pz_BXYDA8JiU",
        "outputId": "77ea1f09-f1bd-435a-8de6-d7232a3abc76"
      },
      "source": [
        "mini = float('inf')\n",
        "print(mini)\n",
        "print(999999999999999999999999999999>mini)"
      ],
      "execution_count": null,
      "outputs": [
        {
          "output_type": "stream",
          "text": [
            "inf\n",
            "False\n"
          ],
          "name": "stdout"
        }
      ]
    },
    {
      "cell_type": "markdown",
      "metadata": {
        "id": "qcbYK2bqEY-3"
      },
      "source": [
        "Découvrons enfin de type booléen"
      ]
    },
    {
      "cell_type": "code",
      "metadata": {
        "colab": {
          "base_uri": "https://localhost:8080/"
        },
        "id": "keWY3dnuEL27",
        "outputId": "01b4a710-25aa-4147-d476-2e508bb2fba7"
      },
      "source": [
        "d = True\n",
        "type(d)"
      ],
      "execution_count": null,
      "outputs": [
        {
          "output_type": "execute_result",
          "data": {
            "text/plain": [
              "bool"
            ]
          },
          "metadata": {
            "tags": []
          },
          "execution_count": 18
        }
      ]
    },
    {
      "cell_type": "markdown",
      "metadata": {
        "id": "ewKRPWyZEik5"
      },
      "source": [
        "Le type de d est booléen (bool). Le typage a également été réalisé de manière dynamique.\n",
        "\n",
        "Nous pouvons obtenir des valeurs booléennes avec les opérateurs de comparaison :"
      ]
    },
    {
      "cell_type": "code",
      "metadata": {
        "colab": {
          "base_uri": "https://localhost:8080/"
        },
        "id": "pDiFJN0aEgPo",
        "outputId": "5c5a36b1-add3-456f-c9e9-4df5e51ebf01"
      },
      "source": [
        "print(3<4)\n",
        "print(3<=4)\n",
        "print(3>4)\n",
        "print(3>=4)\n",
        "print(3==4)\n",
        "print(3!=4)"
      ],
      "execution_count": null,
      "outputs": [
        {
          "output_type": "stream",
          "text": [
            "True\n",
            "True\n",
            "False\n",
            "False\n",
            "False\n",
            "True\n"
          ],
          "name": "stdout"
        }
      ]
    },
    {
      "cell_type": "markdown",
      "metadata": {
        "id": "3ijP95DkFNG7"
      },
      "source": [
        "Les opérateurs booléens classiques peuvent alors être employés :"
      ]
    },
    {
      "cell_type": "code",
      "metadata": {
        "colab": {
          "base_uri": "https://localhost:8080/"
        },
        "id": "H6O2uK4LFG6b",
        "outputId": "9a6ee8fa-c0e4-44fb-f922-8da231c2168f"
      },
      "source": [
        "print(True and False)\n",
        "print(True or False)\n",
        "print(not True)"
      ],
      "execution_count": null,
      "outputs": [
        {
          "output_type": "stream",
          "text": [
            "False\n",
            "True\n",
            "False\n"
          ],
          "name": "stdout"
        }
      ]
    },
    {
      "cell_type": "markdown",
      "source": [
        "Voici les tables de vérité des opérateurs and et or.\n",
        "\n",
        "![Capture d’écran 2022-03-01 à 09.19.29.png](data:image/png;base64,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)\n",
        "\n",
        "![Capture d’écran 2022-03-01 à 09.19.37.png](data:image/png;base64,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)"
      ],
      "metadata": {
        "id": "UqjAiVXcj1_q"
      }
    }
  ]
}