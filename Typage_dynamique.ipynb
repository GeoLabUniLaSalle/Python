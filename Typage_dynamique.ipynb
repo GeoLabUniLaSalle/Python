{
  "nbformat": 4,
  "nbformat_minor": 0,
  "metadata": {
    "colab": {
      "name": "Typage dynamique.ipynb",
      "provenance": [],
      "collapsed_sections": [],
      "authorship_tag": "ABX9TyPrKB9qPe0yHrReD8ZMnTj+",
      "include_colab_link": true
    },
    "kernelspec": {
      "name": "python3",
      "display_name": "Python 3"
    }
  },
  "cells": [
    {
      "cell_type": "markdown",
      "metadata": {
        "id": "view-in-github",
        "colab_type": "text"
      },
      "source": [
        "<a href=\"https://colab.research.google.com/github/GeoLabUniLaSalle/Python/blob/main/Typage_dynamique.ipynb\" target=\"_parent\"><img src=\"https://colab.research.google.com/assets/colab-badge.svg\" alt=\"Open In Colab\"/></a>"
      ]
    },
    {
      "cell_type": "markdown",
      "metadata": {
        "id": "nuhbDCXb51ve"
      },
      "source": [
        "# **Typage dynamique**\n",
        "\n",
        "Dans ce chapitre de cours, nous verrons comment sont gérées les variables dans Python.\n",
        "\n",
        "Avant de commencer, il est important de noter que toutes les variables que nous allons manipuler sont des objets, ayant un type, et sur lesquels il sera possible d'utiliser les méthodes associées au type de donnée de l'objet.\n",
        "\n",
        "Prenons un exemple en créant un premier objet. Pour exécuter le code ci-dessous, sélectionnez la cellule contenant le code et appuyes sur Maj+Entrée."
      ]
    },
    {
      "cell_type": "code",
      "metadata": {
        "colab": {
          "base_uri": "https://localhost:8080/",
          "height": 35
        },
        "id": "acbNmniV5wE1",
        "outputId": "bbab1ab4-decd-4d38-9e59-bd897fba57bc"
      },
      "source": [
        "'bonjour'"
      ],
      "execution_count": 1,
      "outputs": [
        {
          "output_type": "execute_result",
          "data": {
            "application/vnd.google.colaboratory.intrinsic+json": {
              "type": "string"
            },
            "text/plain": [
              "'bonjour'"
            ]
          },
          "metadata": {
            "tags": []
          },
          "execution_count": 1
        }
      ]
    },
    {
      "cell_type": "markdown",
      "metadata": {
        "id": "Bu3wr3UH7Bd0"
      },
      "source": [
        "Ici, nous venons de créer un objet de type str (chaîne de caractères), dont le contenu est le texte 'bonjour'. Nous n'avons pas donné de nom à cette variable.\n",
        "\n",
        "Ce que l'on voit appraître lorsque l'on exécute cette ligne est la **représentation interne** de l'objet.\n",
        "\n",
        "Appelons maintenant une méthode sur cet objet. La méthode upper() peut être appliquée sur un objet de type str et retourne l'objet en question écrit en majuscules."
      ]
    },
    {
      "cell_type": "code",
      "metadata": {
        "colab": {
          "base_uri": "https://localhost:8080/",
          "height": 35
        },
        "id": "0lFK0oLX7ALg",
        "outputId": "e342785c-2a7e-41a2-f1fe-1622fbcb792b"
      },
      "source": [
        "'bonjour'.upper()"
      ],
      "execution_count": 2,
      "outputs": [
        {
          "output_type": "execute_result",
          "data": {
            "application/vnd.google.colaboratory.intrinsic+json": {
              "type": "string"
            },
            "text/plain": [
              "'BONJOUR'"
            ]
          },
          "metadata": {
            "tags": []
          },
          "execution_count": 2
        }
      ]
    },
    {
      "cell_type": "markdown",
      "metadata": {
        "id": "9u5fxraB8LqR"
      },
      "source": [
        "Créons maintenant une nouvelle variable nommée."
      ]
    },
    {
      "cell_type": "code",
      "metadata": {
        "id": "HG4WnPZ68FQu"
      },
      "source": [
        "a = 3"
      ],
      "execution_count": 3,
      "outputs": []
    },
    {
      "cell_type": "markdown",
      "metadata": {
        "id": "1tOqbOK68VlV"
      },
      "source": [
        "Ici, nous avons créé un objet de type int (entier), dont le contenu est l'entier 3, et dont le nom est a. Notons qu'en Python il n'est pas nécessaire de déclarer les variables avant de les utiliser. Le **typage est dynamique**, c'est à dire que la variable a a reçu le type int automatiquement en fonction du type de donnée de la valeur qu'on lui a affectée (ici, 3).\n",
        "\n",
        "La variable a peut être réutilisée dans n'importe quel bloc d'instruction exécuté après le bloc que nous venons d'exécuter."
      ]
    },
    {
      "cell_type": "code",
      "metadata": {
        "colab": {
          "base_uri": "https://localhost:8080/"
        },
        "id": "LKeNOuXp8Uql",
        "outputId": "d2f40581-dfeb-4a91-a0f8-70c4cb61c5f7"
      },
      "source": [
        "a"
      ],
      "execution_count": 4,
      "outputs": [
        {
          "output_type": "execute_result",
          "data": {
            "text/plain": [
              "3"
            ]
          },
          "metadata": {
            "tags": []
          },
          "execution_count": 4
        }
      ]
    },
    {
      "cell_type": "markdown",
      "metadata": {
        "id": "SEliHZdW8uOv"
      },
      "source": [
        "Si l'on affecte une nouvelle valeur à a, d'un autre type, pas de problème : a change automatiquement de type."
      ]
    },
    {
      "cell_type": "code",
      "metadata": {
        "colab": {
          "base_uri": "https://localhost:8080/",
          "height": 35
        },
        "id": "yjZU6_Xf8sN4",
        "outputId": "26ff4d93-2d97-438b-c556-1c4a5e277aac"
      },
      "source": [
        "a = 'bonjour'\n",
        "a"
      ],
      "execution_count": 6,
      "outputs": [
        {
          "output_type": "execute_result",
          "data": {
            "application/vnd.google.colaboratory.intrinsic+json": {
              "type": "string"
            },
            "text/plain": [
              "'bonjour'"
            ]
          },
          "metadata": {
            "tags": []
          },
          "execution_count": 6
        }
      ]
    },
    {
      "cell_type": "markdown",
      "metadata": {
        "id": "rTL8yU5g9cz0"
      },
      "source": [
        "Pour afficher la représentation interne de a, on écrit simplement a sur une nouvelle ligne.\n",
        "\n",
        "Pour afficher la valeur de la variable a, on utilise la fonction print()"
      ]
    },
    {
      "cell_type": "code",
      "metadata": {
        "colab": {
          "base_uri": "https://localhost:8080/"
        },
        "id": "VhKMC6YE9ZXk",
        "outputId": "168cb758-6697-45a4-a2d1-0ee89ca0b102"
      },
      "source": [
        "print(a)"
      ],
      "execution_count": 7,
      "outputs": [
        {
          "output_type": "stream",
          "text": [
            "bonjour\n"
          ],
          "name": "stdout"
        }
      ]
    },
    {
      "cell_type": "markdown",
      "metadata": {
        "id": "VZ0cm7169_1v"
      },
      "source": [
        "Notez que la fonction print() génère un affichage \"propre\", sans les ' ' qui indiquent que nous avons à faire à un str, contairement à l'affichage obtenu lorsque l'on regarde la représentation interne de a.\n",
        "\n",
        "Cela fonctionne de la même manière avec un objet non nommé :"
      ]
    },
    {
      "cell_type": "code",
      "metadata": {
        "colab": {
          "base_uri": "https://localhost:8080/"
        },
        "id": "J95F25o99-do",
        "outputId": "fd322629-aab7-42f2-d859-8ace0f91c123"
      },
      "source": [
        "print('hello')"
      ],
      "execution_count": 8,
      "outputs": [
        {
          "output_type": "stream",
          "text": [
            "hello\n"
          ],
          "name": "stdout"
        }
      ]
    },
    {
      "cell_type": "markdown",
      "metadata": {
        "id": "vEP-gKxT-loa"
      },
      "source": [
        "Il est possible d'afficher la valeur de plusieurs objets dans un seul print. Ces valeurs seront alors séparées par un espace :"
      ]
    },
    {
      "cell_type": "code",
      "metadata": {
        "colab": {
          "base_uri": "https://localhost:8080/"
        },
        "id": "zxGkcwta-j01",
        "outputId": "a0ca218d-1c11-40ad-9844-aa951c138f02"
      },
      "source": [
        "b = 5\n",
        "print(a,b)"
      ],
      "execution_count": 9,
      "outputs": [
        {
          "output_type": "stream",
          "text": [
            "bonjour 5\n"
          ],
          "name": "stdout"
        }
      ]
    }
  ]
}