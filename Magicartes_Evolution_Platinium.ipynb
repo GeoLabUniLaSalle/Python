{
  "nbformat": 4,
  "nbformat_minor": 0,
  "metadata": {
    "colab": {
      "name": "Magicartes Evolution Platinium.ipynb",
      "provenance": [],
      "collapsed_sections": [],
      "authorship_tag": "ABX9TyOr4AGXVsntGYa+CCcp9ADp",
      "include_colab_link": true
    },
    "kernelspec": {
      "name": "python3",
      "display_name": "Python 3"
    }
  },
  "cells": [
    {
      "cell_type": "markdown",
      "metadata": {
        "id": "view-in-github",
        "colab_type": "text"
      },
      "source": [
        "<a href=\"https://colab.research.google.com/github/GeoLabUniLaSalle/Python/blob/main/Magicartes_Evolution_Platinium.ipynb\" target=\"_parent\"><img src=\"https://colab.research.google.com/assets/colab-badge.svg\" alt=\"Open In Colab\"/></a>"
      ]
    },
    {
      "cell_type": "markdown",
      "metadata": {
        "id": "R8kQ2CJh9aDY"
      },
      "source": [
        "## **Magicartes Évolution Platinium ★★☆**\n",
        "\n",
        "*Exercice disponible sur la plateforme TOSA : Battle Dev Hello Works - Mars 2020 : https://www.isograd.com/FR/solutionconcours.php*\n",
        "\n",
        "\n",
        "\n",
        "**Objectif**\n",
        "\n",
        "\n",
        "Sacha aime vraiment beaucoup jouer à Pogemon avec vous, mais vous commencez à vous lasser de perdre à chaque fois... vous décidez humblement de tricher. Connaissant à l'avance l'ordre des cartes du deck de Sacha, vous devez trouver un ordre pour vos cartes vous permettant de gagner à coup sûr, (si cela est possible).\n",
        "\n",
        "**Règles de Pogemon**\n",
        "\n",
        "Chaque joueur commence la partie avec un deck de Pogemons, indiqués uniquement par leur type, par exemple, type feu, type eau. Chaque tour de jeu, les deux joueurs présentent sur la table la carte se trouvant sur le dessus de leur deck :\n",
        "- Le joueur qui pose la carte avec le type le plus puissant bat son adversaire à cette manche, il conserve sa carte et la carte reste au combat pour le prochain tour (i.e. elle reste au sommet de la pile du deck!)\n",
        "- Quant au perdant, il perd sa carte et s'en débarrasse définitivement (disons que le Pogemon doit aller se reposer dans sa Pogeball).\n",
        "- Si aucun des types n'est plus puissant que l'autre ou si les deux types sont identiques, alors les deux Pogemons sont éliminés et sont perdus pour le jeu.\n",
        "Vous ne pouvez pas gagner par KO mutuel, vous gagnez si et seulement si votre adversaire n'a plus de Pogemon et qu'il vous en reste au moins un dans votre deck « en vie ».\n",
        "\n",
        "Liste des types\n",
        "\n",
        "- Feu\n",
        "- Eau\n",
        "- Plante\n",
        "- Glace\n",
        "- Poison\n",
        "- Sol\n",
        "- Vol\n",
        "\n",
        "Règles sur les types\n",
        "\n",
        "- Feu vs Eau: Eau l'emporte\n",
        "- Feu vs Plante: Feu l'emporte\n",
        "- Feu vs Glace: Feu l'emporte\n",
        "\n",
        "- Eau vs Plante: Plante l'emporte\n",
        "- Eau vs Sol: Sol l'emporte\n",
        "\n",
        "- Plante vs Poison: Plante l'emporte\n",
        "- Plante vs Sol: Sol l'emporte\n",
        "- Plante vs Vol: Plante l'emporte\n",
        "\n",
        "- Si le résultat d'un affrontement entre deux types n'est pas précisé, alors aucun type n'est plus puissant que l'autre par défaut.\n",
        "\n",
        "\n",
        "\n",
        "\n",
        "**Format des données**\n",
        "\n",
        "*Entrée*\n",
        "\n",
        "Ligne 1 : Un entier N, inférieur ou égal à 10 indiquant le nombre de cartes contenues dans les decks de chacun des joueurs.\n",
        "Ligne 2 : N chaînes de caractères (en minuscules) séparées par des espaces décrivant le type de Pogemon, dont la liste est donnée ci-dessus, de chaque carte de Sacha, du sommet vers le fond de la pile de carte.\n",
        "Ligne 3 : N chaînes de caractères (en minuscules) séparées par des espaces décrivant le type de Pogemon, dont la liste est donnée ci-dessus, de chacune de vos cartes, l'ordre ici n'est pas important !\n",
        "\n",
        "*Sortie*\n",
        "\n",
        "Les Pogemon de votre deck de cartes séparés par des espaces, dans un ordre vous garantissant de gagner s'il en existe un, ou -1 si cela n'est pas possible.\n",
        "\n",
        "N.B. : Plusieurs solutions peuvent exister, vous pouvez choisir une solution quelconque.\n",
        "\n",
        "\n",
        "*Exemple*\n",
        "\n",
        "Entrée\n",
        "\n",
        "3\n",
        "\n",
        "feu plante eau\n",
        "\n",
        "feu feu feu\n",
        "\n",
        "Sortie\n",
        "\n",
        "-1\n",
        "\n",
        "Comme toutes nos cartes sont identiques (feu), il n'y a qu'un seul ordre possible pour notre deck . Donc il suffit juste de voir si on peut gagner avec feu feu feu. D'abord feu contre feu annule les deux cartes. Ensuite, feu contre plante, nous gagnons, donc nous gardons feu sur la table et il reste eau à Sacha, or on ne pourra jamais vaincre eau avec feu, donc nous perdons toutes nos cartes de type feu contre l'eau et nous perdons définitivement."
      ]
    },
    {
      "cell_type": "markdown",
      "metadata": {
        "id": "LaFrvPhE-Ezb"
      },
      "source": [
        "## **Données**\n",
        "\n",
        "*Accès aux données*"
      ]
    },
    {
      "cell_type": "code",
      "metadata": {
        "colab": {
          "base_uri": "https://localhost:8080/"
        },
        "id": "2HlpCu_r-aqr",
        "outputId": "1995eac4-d28e-4d85-c992-1a49824e5b47"
      },
      "source": [
        "import csv\n",
        "filedir = ('https://cours.unilasalle.fr/courses/SG4007/document/Exercices_Python/Magicartes_Evolution_Platinium/')\n",
        "\n",
        "import ssl\n",
        "ssl._create_default_https_context = ssl._create_unverified_context\n",
        "\n",
        "import urllib.request\n",
        "\n",
        "for x in range(1,9):\n",
        "  f = urllib.request.urlopen(str(filedir+\"input\"+str(x)+\".txt\"))\n",
        "\n",
        "  data=[]\n",
        "  for i in f:\n",
        "      line=i.decode('utf-8').strip()\n",
        "      data.append(line)\n",
        "  print('Entrée',x,':',data)\n",
        "\n",
        "  f = urllib.request.urlopen(str(filedir+\"output\"+str(x)+\".txt\"))\n",
        "  for i in f:\n",
        "      line=i.decode('utf-8').strip()\n",
        "  print('Sortie',x,':',line,'\\n')"
      ],
      "execution_count": 1,
      "outputs": [
        {
          "output_type": "stream",
          "text": [
            "Entrée 1 : ['3', '25 32 38', '2 7 5']\n",
            "Sortie 1 : 2 7 5 \n",
            "\n",
            "Entrée 2 : ['5', '31 2 21 8 20', '26 30 5 4 5']\n",
            "Sortie 2 : 26 30 5 4 5 \n",
            "\n",
            "Entrée 3 : ['5', '32 33 39 34 31', '25 20 17 21 25']\n",
            "Sortie 3 : 25 20 17 21 25 \n",
            "\n",
            "Entrée 4 : ['7', '42 39 33 34 37 27 42', '5 3 1 22 20 11 6']\n",
            "Sortie 4 : 5 3 1 22 20 11 6 \n",
            "\n",
            "Entrée 5 : ['7', '38 14 37 17 21 13 6', '9 27 28 19 7 34 3']\n",
            "Sortie 5 : 9 27 28 19 7 34 3 \n",
            "\n",
            "Entrée 6 : ['9', '33 11 19 37 24 42 40 30 12', '39 16 17 29 9 19 18 12 35']\n",
            "Sortie 6 : 39 16 17 29 9 19 18 12 35 \n",
            "\n",
            "Entrée 7 : ['10', '42 31 38 34 32 35 32 32 41 38', '26 17 3 29 17 21 21 5 13 17']\n",
            "Sortie 7 : 26 17 3 29 17 21 21 5 13 17 \n",
            "\n",
            "Entrée 8 : ['10', '36 25 3 8 10 15 16 20 17 1', '28 4 20 14 35 30 16 9 38 37']\n",
            "Sortie 8 : 28 4 20 14 35 30 16 9 38 37 \n",
            "\n"
          ],
          "name": "stdout"
        }
      ]
    }
  ]
}