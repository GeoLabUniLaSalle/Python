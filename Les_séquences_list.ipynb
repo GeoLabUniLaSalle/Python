{
  "nbformat": 4,
  "nbformat_minor": 0,
  "metadata": {
    "colab": {
      "name": "Les séquences list.ipynb",
      "provenance": [],
      "collapsed_sections": [],
      "authorship_tag": "ABX9TyM5eXGO8roxqsNowl7Kp9CS",
      "include_colab_link": true
    },
    "kernelspec": {
      "name": "python3",
      "display_name": "Python 3"
    }
  },
  "cells": [
    {
      "cell_type": "markdown",
      "metadata": {
        "id": "view-in-github",
        "colab_type": "text"
      },
      "source": [
        "<a href=\"https://colab.research.google.com/github/GeoLabUniLaSalle/Python/blob/main/Les_s%C3%A9quences_list.ipynb\" target=\"_parent\"><img src=\"https://colab.research.google.com/assets/colab-badge.svg\" alt=\"Open In Colab\"/></a>"
      ]
    },
    {
      "cell_type": "markdown",
      "metadata": {
        "id": "JFuIqREFFDEg"
      },
      "source": [
        "## **Les séquences : list**\n",
        "\n",
        "Dans ce chapitre, nous allons étudier le fonctionnement des séquences, et plus particulièrement du type list (liste).\n",
        "\n",
        "Les list sont des **séquences** d'objets **mutables** **heterogènes**. On dit que le type list est heterogène parce que les objets de la séquence peuvent être de types différents (int, float, bool, str, list, ...).\n",
        "\n",
        "Commençons par créer un variable de type liste et vérifions son type."
      ]
    },
    {
      "cell_type": "code",
      "metadata": {
        "colab": {
          "base_uri": "https://localhost:8080/"
        },
        "id": "RtBBqTGeE9L0",
        "outputId": "ebc1e556-ec40-42c9-92f5-cab073fb47e6"
      },
      "source": [
        "l = []\n",
        "type(l)"
      ],
      "execution_count": 1,
      "outputs": [
        {
          "output_type": "execute_result",
          "data": {
            "text/plain": [
              "list"
            ]
          },
          "metadata": {
            "tags": []
          },
          "execution_count": 1
        }
      ]
    },
    {
      "cell_type": "markdown",
      "metadata": {
        "id": "13smACzlFx-m"
      },
      "source": [
        "Examinons maintenant la représentation interne de l :"
      ]
    },
    {
      "cell_type": "code",
      "metadata": {
        "colab": {
          "base_uri": "https://localhost:8080/"
        },
        "id": "Ln0Ds9_zFl9U",
        "outputId": "077d9a6e-daa8-4bf7-861d-7681ac10bc3f"
      },
      "source": [
        "l"
      ],
      "execution_count": 2,
      "outputs": [
        {
          "output_type": "execute_result",
          "data": {
            "text/plain": [
              "[]"
            ]
          },
          "metadata": {
            "tags": []
          },
          "execution_count": 2
        }
      ]
    },
    {
      "cell_type": "markdown",
      "metadata": {
        "id": "yeiJPXvIF2ji"
      },
      "source": [
        "Les symboles [ ] indiquent que l est de type list.\n",
        "\n",
        "Recréons maintenant la liste l en lui attribuant des valeurs hétérogènes."
      ]
    },
    {
      "cell_type": "code",
      "metadata": {
        "colab": {
          "base_uri": "https://localhost:8080/"
        },
        "id": "dnEd9zxCF1Nn",
        "outputId": "00ffa7ae-5eb7-4808-f30c-24a7eb656573"
      },
      "source": [
        "x = 4\n",
        "l = [\"hello\",x,True,27.6]\n",
        "l"
      ],
      "execution_count": 16,
      "outputs": [
        {
          "output_type": "execute_result",
          "data": {
            "text/plain": [
              "['hello', 4, True, 27.6]"
            ]
          },
          "metadata": {
            "tags": []
          },
          "execution_count": 16
        }
      ]
    },
    {
      "cell_type": "markdown",
      "metadata": {
        "id": "CqgI5UpFHq-w"
      },
      "source": [
        "Notre liste contient un str, un int, un bool et un float et est donc bien **hétérogène**.\n",
        "\n",
        "Remarque : La liste ne stocke pas les objets mais seulement la référence de ces objets. La taille en mémoire de la liste augmente uniquement en fonction du nombre d'objets stockés.\n",
        "\n",
        "Manipulons maintenant la liste l. Le type list est manipulable de la même manière que le type str, ces deux types étant des séquences."
      ]
    },
    {
      "cell_type": "code",
      "metadata": {
        "colab": {
          "base_uri": "https://localhost:8080/"
        },
        "id": "SsW5zhr7HoQM",
        "outputId": "46c3ebeb-b045-4738-ba48-2c4057e5e6c4"
      },
      "source": [
        "print(l[1])\n",
        "print(l[3])"
      ],
      "execution_count": 7,
      "outputs": [
        {
          "output_type": "stream",
          "text": [
            "4\n",
            "27.6\n"
          ],
          "name": "stdout"
        }
      ]
    },
    {
      "cell_type": "markdown",
      "metadata": {
        "id": "1PcTii-hIECK"
      },
      "source": [
        "Le type list est **mutable**, nous pouvons donc modifier son contenu directement :"
      ]
    },
    {
      "cell_type": "code",
      "metadata": {
        "colab": {
          "base_uri": "https://localhost:8080/"
        },
        "id": "fmKcWJ7DH0Iq",
        "outputId": "fc5a46ac-9cc8-4ee8-d82d-29b51e46ea29"
      },
      "source": [
        "l[1] = 8\n",
        "l"
      ],
      "execution_count": 17,
      "outputs": [
        {
          "output_type": "execute_result",
          "data": {
            "text/plain": [
              "['hello', 8, True, 27.6]"
            ]
          },
          "metadata": {
            "tags": []
          },
          "execution_count": 17
        }
      ]
    },
    {
      "cell_type": "markdown",
      "metadata": {
        "id": "gYiijfAGI4E8"
      },
      "source": [
        "Il est possible de slicer une liste, cf. chapitre sur le [slicing](https://mybinder.org/v2/gh/GeoLabUniLaSalle/Python/HEAD?filepath=Les_s%C3%A9quences_slicing.ipynb).\n",
        "\n",
        "Voici une représentation de la liste que l'on manipule ici :\n",
        "\n",
        "![Capture d’écran 2021-01-14 à 10.06.24.png](data:image/png;base64,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)"
      ]
    },
    {
      "cell_type": "code",
      "metadata": {
        "colab": {
          "base_uri": "https://localhost:8080/"
        },
        "id": "gijvBAZMIyZ6",
        "outputId": "a9c1b83e-3f08-46f3-d46b-9978d171a82e"
      },
      "source": [
        "l[1:3] # Les objets d'indice 1 (inclu) à 3 (exclu)"
      ],
      "execution_count": 12,
      "outputs": [
        {
          "output_type": "execute_result",
          "data": {
            "text/plain": [
              "[8, True]"
            ]
          },
          "metadata": {
            "tags": []
          },
          "execution_count": 12
        }
      ]
    },
    {
      "cell_type": "markdown",
      "metadata": {
        "id": "GM70YFf5J2ZJ"
      },
      "source": [
        "Il est possible de mettre une list dans une list :"
      ]
    },
    {
      "cell_type": "code",
      "metadata": {
        "colab": {
          "base_uri": "https://localhost:8080/"
        },
        "id": "CprdNBBTI-ej",
        "outputId": "5cb2907b-9cd1-4a82-ee98-f8f21012e84c"
      },
      "source": [
        "l[1] = [6,\"rouge\"]\n",
        "l"
      ],
      "execution_count": 18,
      "outputs": [
        {
          "output_type": "execute_result",
          "data": {
            "text/plain": [
              "['hello', [6, 'rouge'], True, 27.6]"
            ]
          },
          "metadata": {
            "tags": []
          },
          "execution_count": 18
        }
      ]
    },
    {
      "cell_type": "markdown",
      "metadata": {
        "id": "CnI1ERUpKLKg"
      },
      "source": [
        "Nous pouvons également remplacer une sous-séquence par un autre contenu :"
      ]
    },
    {
      "cell_type": "code",
      "metadata": {
        "colab": {
          "base_uri": "https://localhost:8080/"
        },
        "id": "K6eWp5aYKGIa",
        "outputId": "f8ca5865-7573-4a94-a1b8-25c7017be68b"
      },
      "source": [
        "print(l)\n",
        "l[1:3] = [42, False] # Suppression des éléments d'indice 1 (inclu) à 3 (exclu) et remplacement de ces éléments par une nouvelle slice\n",
        "print(l)"
      ],
      "execution_count": 19,
      "outputs": [
        {
          "output_type": "stream",
          "text": [
            "['hello', [6, 'rouge'], True, 27.6]\n",
            "['hello', 42, False, 27.6]\n"
          ],
          "name": "stdout"
        }
      ]
    },
    {
      "cell_type": "markdown",
      "metadata": {
        "id": "lHdd3HBALGns"
      },
      "source": [
        "Créons maintenant des listes automatiquement avec la fonction range qui génère des valeurs allant de 0 à la borne indiquée en paramètre (exclue) :"
      ]
    },
    {
      "cell_type": "code",
      "metadata": {
        "colab": {
          "base_uri": "https://localhost:8080/"
        },
        "id": "84oCOY12KeXm",
        "outputId": "f3c11206-7c56-4b21-ccc8-25a750125121"
      },
      "source": [
        "list(range(10))"
      ],
      "execution_count": 23,
      "outputs": [
        {
          "output_type": "execute_result",
          "data": {
            "text/plain": [
              "[0, 1, 2, 3, 4, 5, 6, 7, 8, 9]"
            ]
          },
          "metadata": {
            "tags": []
          },
          "execution_count": 23
        }
      ]
    },
    {
      "cell_type": "markdown",
      "metadata": {
        "id": "bFrCEbCRLXWj"
      },
      "source": [
        "La fonction range accepte la même notation que les slice et peut prendre plusieurs paramètres pour générer ses valeurs : valeur de début (inclue), valeur de fin (exclue), et pas :"
      ]
    },
    {
      "cell_type": "code",
      "metadata": {
        "colab": {
          "base_uri": "https://localhost:8080/"
        },
        "id": "HxH3_A2xLFes",
        "outputId": "50cd1505-a990-4ba7-efbb-4c1dbd877a63"
      },
      "source": [
        "list(range(10,30,2))"
      ],
      "execution_count": 24,
      "outputs": [
        {
          "output_type": "execute_result",
          "data": {
            "text/plain": [
              "[10, 12, 14, 16, 18, 20, 22, 24, 26, 28]"
            ]
          },
          "metadata": {
            "tags": []
          },
          "execution_count": 24
        }
      ]
    }
  ]
}