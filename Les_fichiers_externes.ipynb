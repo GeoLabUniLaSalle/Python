{
  "nbformat": 4,
  "nbformat_minor": 0,
  "metadata": {
    "colab": {
      "name": "Les fichiers externes.ipynb",
      "provenance": [],
      "toc_visible": true,
      "authorship_tag": "ABX9TyOoBtffYg6EmdhubaG3ke+w",
      "include_colab_link": true
    },
    "kernelspec": {
      "name": "python3",
      "display_name": "Python 3"
    }
  },
  "cells": [
    {
      "cell_type": "markdown",
      "metadata": {
        "id": "view-in-github",
        "colab_type": "text"
      },
      "source": [
        "<a href=\"https://colab.research.google.com/github/GeoLabUniLaSalle/Python/blob/main/Les_fichiers_externes.ipynb\" target=\"_parent\"><img src=\"https://colab.research.google.com/assets/colab-badge.svg\" alt=\"Open In Colab\"/></a>"
      ]
    },
    {
      "cell_type": "markdown",
      "metadata": {
        "id": "pjB2xOR7bgT1"
      },
      "source": [
        "# **Les fichiers externes**\n",
        "\n",
        "Dans ce chapitre, nous allons voir comment ouvrir un fichier externe pour accéder ou modifier son contenu.\n",
        "\n",
        "Débutons par la création d'un fichier dans lequel nous allons écrire du texte."
      ]
    },
    {
      "cell_type": "code",
      "metadata": {
        "id": "aYCxKCp1beV6"
      },
      "source": [
        "fichier = open(\"data.txt\", \"a\") # a indique que le fichier est ouvert en écriture, ajoutant du contenu à la fin du fichier s'il existe\n",
        "fichier.write(\"Hello World !\")\n",
        "fichier.close()"
      ],
      "execution_count": 1,
      "outputs": []
    },
    {
      "cell_type": "code",
      "metadata": {
        "id": "PM75Laj7cN6T"
      },
      "source": [
        ""
      ],
      "execution_count": null,
      "outputs": []
    }
  ]
}