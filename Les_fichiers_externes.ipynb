{
  "nbformat": 4,
  "nbformat_minor": 0,
  "metadata": {
    "colab": {
      "name": "Les fichiers externes.ipynb",
      "provenance": [],
      "collapsed_sections": [],
      "authorship_tag": "ABX9TyNIrUHLsGyCKGZ8MvsPVcb+",
      "include_colab_link": true
    },
    "kernelspec": {
      "name": "python3",
      "display_name": "Python 3"
    }
  },
  "cells": [
    {
      "cell_type": "markdown",
      "metadata": {
        "id": "view-in-github",
        "colab_type": "text"
      },
      "source": [
        "<a href=\"https://colab.research.google.com/github/GeoLabUniLaSalle/Python/blob/main/Les_fichiers_externes.ipynb\" target=\"_parent\"><img src=\"https://colab.research.google.com/assets/colab-badge.svg\" alt=\"Open In Colab\"/></a>"
      ]
    },
    {
      "cell_type": "markdown",
      "metadata": {
        "id": "pjB2xOR7bgT1"
      },
      "source": [
        "# **Les fichiers externes**\n",
        "\n",
        "Dans ce chapitre, nous allons voir comment ouvrir un fichier externe pour accéder ou modifier son contenu.\n",
        "\n",
        "Débutons par la création d'un fichier dans lequel nous allons écrire du texte."
      ]
    },
    {
      "cell_type": "code",
      "metadata": {
        "id": "aYCxKCp1beV6"
      },
      "source": [
        "fichier = open(\"data.txt\", \"a\") # a indique que le fichier est ouvert en écriture, ajoutant du contenu à la fin du fichier s'il existe\n",
        "fichier.write(\"Hello World !\")\n",
        "fichier.close()"
      ],
      "execution_count": null,
      "outputs": []
    },
    {
      "cell_type": "markdown",
      "metadata": {
        "id": "tC2p6Kobeh7B"
      },
      "source": [
        "Le fichier est accessible dans les fichiers de ce Jupyter Notebook.\n",
        "\n",
        "Voici les différents modes d'ouverture disponibles."
      ]
    },
    {
      "cell_type": "code",
      "metadata": {
        "colab": {
          "base_uri": "https://localhost:8080/"
        },
        "id": "aVFOjonPegyg",
        "outputId": "0c47aee3-3411-4151-be9f-66e032bffc2b"
      },
      "source": [
        "help(open)"
      ],
      "execution_count": null,
      "outputs": [
        {
          "output_type": "stream",
          "text": [
            "Help on built-in function open in module io:\n",
            "\n",
            "open(file, mode='r', buffering=-1, encoding=None, errors=None, newline=None, closefd=True, opener=None)\n",
            "    Open file and return a stream.  Raise OSError upon failure.\n",
            "    \n",
            "    file is either a text or byte string giving the name (and the path\n",
            "    if the file isn't in the current working directory) of the file to\n",
            "    be opened or an integer file descriptor of the file to be\n",
            "    wrapped. (If a file descriptor is given, it is closed when the\n",
            "    returned I/O object is closed, unless closefd is set to False.)\n",
            "    \n",
            "    mode is an optional string that specifies the mode in which the file\n",
            "    is opened. It defaults to 'r' which means open for reading in text\n",
            "    mode.  Other common values are 'w' for writing (truncating the file if\n",
            "    it already exists), 'x' for creating and writing to a new file, and\n",
            "    'a' for appending (which on some Unix systems, means that all writes\n",
            "    append to the end of the file regardless of the current seek position).\n",
            "    In text mode, if encoding is not specified the encoding used is platform\n",
            "    dependent: locale.getpreferredencoding(False) is called to get the\n",
            "    current locale encoding. (For reading and writing raw bytes use binary\n",
            "    mode and leave encoding unspecified.) The available modes are:\n",
            "    \n",
            "    ========= ===============================================================\n",
            "    Character Meaning\n",
            "    --------- ---------------------------------------------------------------\n",
            "    'r'       open for reading (default)\n",
            "    'w'       open for writing, truncating the file first\n",
            "    'x'       create a new file and open it for writing\n",
            "    'a'       open for writing, appending to the end of the file if it exists\n",
            "    'b'       binary mode\n",
            "    't'       text mode (default)\n",
            "    '+'       open a disk file for updating (reading and writing)\n",
            "    'U'       universal newline mode (deprecated)\n",
            "    ========= ===============================================================\n",
            "    \n",
            "    The default mode is 'rt' (open for reading text). For binary random\n",
            "    access, the mode 'w+b' opens and truncates the file to 0 bytes, while\n",
            "    'r+b' opens the file without truncation. The 'x' mode implies 'w' and\n",
            "    raises an `FileExistsError` if the file already exists.\n",
            "    \n",
            "    Python distinguishes between files opened in binary and text modes,\n",
            "    even when the underlying operating system doesn't. Files opened in\n",
            "    binary mode (appending 'b' to the mode argument) return contents as\n",
            "    bytes objects without any decoding. In text mode (the default, or when\n",
            "    't' is appended to the mode argument), the contents of the file are\n",
            "    returned as strings, the bytes having been first decoded using a\n",
            "    platform-dependent encoding or using the specified encoding if given.\n",
            "    \n",
            "    'U' mode is deprecated and will raise an exception in future versions\n",
            "    of Python.  It has no effect in Python 3.  Use newline to control\n",
            "    universal newlines mode.\n",
            "    \n",
            "    buffering is an optional integer used to set the buffering policy.\n",
            "    Pass 0 to switch buffering off (only allowed in binary mode), 1 to select\n",
            "    line buffering (only usable in text mode), and an integer > 1 to indicate\n",
            "    the size of a fixed-size chunk buffer.  When no buffering argument is\n",
            "    given, the default buffering policy works as follows:\n",
            "    \n",
            "    * Binary files are buffered in fixed-size chunks; the size of the buffer\n",
            "      is chosen using a heuristic trying to determine the underlying device's\n",
            "      \"block size\" and falling back on `io.DEFAULT_BUFFER_SIZE`.\n",
            "      On many systems, the buffer will typically be 4096 or 8192 bytes long.\n",
            "    \n",
            "    * \"Interactive\" text files (files for which isatty() returns True)\n",
            "      use line buffering.  Other text files use the policy described above\n",
            "      for binary files.\n",
            "    \n",
            "    encoding is the name of the encoding used to decode or encode the\n",
            "    file. This should only be used in text mode. The default encoding is\n",
            "    platform dependent, but any encoding supported by Python can be\n",
            "    passed.  See the codecs module for the list of supported encodings.\n",
            "    \n",
            "    errors is an optional string that specifies how encoding errors are to\n",
            "    be handled---this argument should not be used in binary mode. Pass\n",
            "    'strict' to raise a ValueError exception if there is an encoding error\n",
            "    (the default of None has the same effect), or pass 'ignore' to ignore\n",
            "    errors. (Note that ignoring encoding errors can lead to data loss.)\n",
            "    See the documentation for codecs.register or run 'help(codecs.Codec)'\n",
            "    for a list of the permitted encoding error strings.\n",
            "    \n",
            "    newline controls how universal newlines works (it only applies to text\n",
            "    mode). It can be None, '', '\\n', '\\r', and '\\r\\n'.  It works as\n",
            "    follows:\n",
            "    \n",
            "    * On input, if newline is None, universal newlines mode is\n",
            "      enabled. Lines in the input can end in '\\n', '\\r', or '\\r\\n', and\n",
            "      these are translated into '\\n' before being returned to the\n",
            "      caller. If it is '', universal newline mode is enabled, but line\n",
            "      endings are returned to the caller untranslated. If it has any of\n",
            "      the other legal values, input lines are only terminated by the given\n",
            "      string, and the line ending is returned to the caller untranslated.\n",
            "    \n",
            "    * On output, if newline is None, any '\\n' characters written are\n",
            "      translated to the system default line separator, os.linesep. If\n",
            "      newline is '' or '\\n', no translation takes place. If newline is any\n",
            "      of the other legal values, any '\\n' characters written are translated\n",
            "      to the given string.\n",
            "    \n",
            "    If closefd is False, the underlying file descriptor will be kept open\n",
            "    when the file is closed. This does not work when a file name is given\n",
            "    and must be True in that case.\n",
            "    \n",
            "    A custom opener can be used by passing a callable as *opener*. The\n",
            "    underlying file descriptor for the file object is then obtained by\n",
            "    calling *opener* with (*file*, *flags*). *opener* must return an open\n",
            "    file descriptor (passing os.open as *opener* results in functionality\n",
            "    similar to passing None).\n",
            "    \n",
            "    open() returns a file object whose type depends on the mode, and\n",
            "    through which the standard file operations such as reading and writing\n",
            "    are performed. When open() is used to open a file in a text mode ('w',\n",
            "    'r', 'wt', 'rt', etc.), it returns a TextIOWrapper. When used to open\n",
            "    a file in a binary mode, the returned class varies: in read binary\n",
            "    mode, it returns a BufferedReader; in write binary and append binary\n",
            "    modes, it returns a BufferedWriter, and in read/write mode, it returns\n",
            "    a BufferedRandom.\n",
            "    \n",
            "    It is also possible to use a string or bytearray as a file for both\n",
            "    reading and writing. For strings StringIO can be used like a file\n",
            "    opened in a text mode, and for bytes a BytesIO can be used like a file\n",
            "    opened in a binary mode.\n",
            "\n"
          ],
          "name": "stdout"
        }
      ]
    },
    {
      "cell_type": "markdown",
      "metadata": {
        "id": "R1V8Z3BYe3qT"
      },
      "source": [
        "Ecrivons maintenant le contenu d'une liste de listes (équivalent à un tableau à 2 dimensions) dans un fichier externe."
      ]
    },
    {
      "cell_type": "code",
      "metadata": {
        "id": "M0cW3UyUewhs"
      },
      "source": [
        "l=[[1, 3], [2, 4]]\n",
        "fichier = open(\"data.txt\", \"w\") # w indique que le fichier est ouvert en écriture, écrasant le contenu du fichier\n",
        "for x in l :\n",
        "  for y in x :\n",
        "    fichier.write(str(y))\n",
        "fichier.close()"
      ],
      "execution_count": null,
      "outputs": []
    },
    {
      "cell_type": "markdown",
      "metadata": {
        "id": "zTxoO6yiftaj"
      },
      "source": [
        "Dans le sens inverse, accédons au contenu du fichier."
      ]
    },
    {
      "cell_type": "code",
      "metadata": {
        "colab": {
          "base_uri": "https://localhost:8080/"
        },
        "id": "mfDl_gIgfKl9",
        "outputId": "2f3d0c12-74d9-4ed2-cc7e-4d32c6f5d5fd"
      },
      "source": [
        "fichier = open(\"data.txt\", \"r\") # r indique que le fichier est ouvert en lecture (mode par défaut)\n",
        "z = fichier.read()\n",
        "fichier.close()\n",
        "print(z, type(z))"
      ],
      "execution_count": null,
      "outputs": [
        {
          "output_type": "stream",
          "text": [
            "1324 <class 'str'>\n"
          ],
          "name": "stdout"
        }
      ]
    },
    {
      "cell_type": "markdown",
      "metadata": {
        "id": "g6r-wHU4gB2b"
      },
      "source": [
        "Le fichier contient le texte \"1324\". Nous n'avons pas stocké la structure de la liste (liste de listes).\n",
        "\n",
        "Stockons maintenant le contenu de notre liste dans un fichier au format csv."
      ]
    },
    {
      "cell_type": "code",
      "metadata": {
        "id": "BQ7QMlJvhX-_"
      },
      "source": [
        "import csv\n",
        "l=[[1, 3], [2, 4]]\n",
        "with open('data.csv', 'w', newline='') as fichier:\n",
        "    writer = csv.writer(fichier)\n",
        "    writer.writerows(l)"
      ],
      "execution_count": null,
      "outputs": []
    },
    {
      "cell_type": "markdown",
      "source": [
        "Ajoutons des en-têtes de colonnes."
      ],
      "metadata": {
        "id": "FcnBfSK0v_O-"
      }
    },
    {
      "cell_type": "code",
      "source": [
        "import csv\n",
        "l=[[1, 3], [2, 4]]\n",
        "champs = ['col1','col2']\n",
        "with open('data.csv', 'w', newline='') as fichier:\n",
        "    writer = csv.writer(fichier)\n",
        "    writer.writerow(champs)\n",
        "    writer.writerows(l)"
      ],
      "metadata": {
        "id": "SzKQILBPwD3v"
      },
      "execution_count": 1,
      "outputs": []
    },
    {
      "cell_type": "markdown",
      "metadata": {
        "id": "JNNQa5h6iYpL"
      },
      "source": [
        "Accédons maintenant au contenu de ce fichier."
      ]
    },
    {
      "cell_type": "code",
      "metadata": {
        "colab": {
          "base_uri": "https://localhost:8080/"
        },
        "id": "JYWu7206iED9",
        "outputId": "4514de00-4647-454f-cf23-1d30b5735950"
      },
      "source": [
        "import csv\n",
        "with open('data.csv', 'r') as fichier:\n",
        "    reader = csv.reader(fichier)\n",
        "    for i in reader:\n",
        "        print(i)"
      ],
      "execution_count": 2,
      "outputs": [
        {
          "output_type": "stream",
          "name": "stdout",
          "text": [
            "['col1', 'col2']\n",
            "['1', '3']\n",
            "['2', '4']\n"
          ]
        }
      ]
    },
    {
      "cell_type": "markdown",
      "metadata": {
        "id": "7tpBJKi5ishR"
      },
      "source": [
        "Stockons ce contenu dans une nouvelle liste équivalente à la liste initiale."
      ]
    },
    {
      "cell_type": "code",
      "metadata": {
        "colab": {
          "base_uri": "https://localhost:8080/"
        },
        "id": "n31ACcOnk_yK",
        "outputId": "fe4ff5e8-65b8-4c82-84b5-2371e0f9c877"
      },
      "source": [
        "import csv\n",
        "with open('data.csv', newline='') as fichier:\n",
        "    reader = csv.reader(fichier)\n",
        "    headings = next(reader)\n",
        "    l2 = list(reader)\n",
        "print(l2)"
      ],
      "execution_count": 7,
      "outputs": [
        {
          "output_type": "stream",
          "name": "stdout",
          "text": [
            "[['1', '3'], ['2', '4']]\n"
          ]
        }
      ]
    },
    {
      "cell_type": "markdown",
      "metadata": {
        "id": "akhleXq_qJyi"
      },
      "source": [
        "Pour convertir les str en int, nous pouvons utiliser la fonction map qui applique un opérateur sur tous les termes d'une liste. Ici, nous appliquons l'operateur de conversion 'int' sur tous les termes de la liste x."
      ]
    },
    {
      "cell_type": "code",
      "metadata": {
        "colab": {
          "base_uri": "https://localhost:8080/"
        },
        "id": "ALUGp79tpXuW",
        "outputId": "b20e14ef-36bd-4a2e-b7c0-df1cdf36fa34"
      },
      "source": [
        "l3=[]\n",
        "for x in l2:\n",
        "  l3.append(list(map(int,x)))\n",
        "print(l3)"
      ],
      "execution_count": null,
      "outputs": [
        {
          "output_type": "stream",
          "text": [
            "[[1, 3], [2, 4]]\n"
          ],
          "name": "stdout"
        }
      ]
    },
    {
      "cell_type": "markdown",
      "metadata": {
        "id": "nR335UaIqdiV"
      },
      "source": [
        "Une autre fonction souvent utile lorsque l'on traite des fichiers csv est la fonction strip qui élimine des caractères inutiles. Par défaut, strip supprime les caractères 'espace' qui sont en début et fin d'un str."
      ]
    },
    {
      "cell_type": "code",
      "metadata": {
        "colab": {
          "base_uri": "https://localhost:8080/"
        },
        "id": "gGXj8C0VpbO3",
        "outputId": "833f5116-3432-45f3-d5e4-48f0bc97ae4a"
      },
      "source": [
        "x = '     bonjour     '\n",
        "print(x.strip())"
      ],
      "execution_count": null,
      "outputs": [
        {
          "output_type": "stream",
          "text": [
            "bonjour\n"
          ],
          "name": "stdout"
        }
      ]
    },
    {
      "cell_type": "markdown",
      "metadata": {
        "id": "xfwsmlOAq1eY"
      },
      "source": [
        "Il est possible de spécifier certains caractères à éliminer, mais toujours en début ou fin de str."
      ]
    },
    {
      "cell_type": "code",
      "metadata": {
        "colab": {
          "base_uri": "https://localhost:8080/"
        },
        "id": "aod_p0INqvxj",
        "outputId": "35332239-0b28-4732-a27d-f7d840548431"
      },
      "source": [
        "x = '!!???###bonjour /?!#\\ bonjour##??!!!!'\n",
        "print(x.strip('?#!'))"
      ],
      "execution_count": null,
      "outputs": [
        {
          "output_type": "stream",
          "text": [
            "bonjour /?!#\\ bonjour\n"
          ],
          "name": "stdout"
        }
      ]
    },
    {
      "cell_type": "markdown",
      "source": [
        "Il est possible de créer un fichier .zip contenant plusieurs fichiers."
      ],
      "metadata": {
        "id": "8kOYg0F6xFiB"
      }
    },
    {
      "cell_type": "code",
      "source": [
        "from zipfile import ZipFile\n",
        "\n",
        "zipObj = ZipFile('data.zip', 'w')\n",
        "\n",
        "for i in range(3):\n",
        "  nom = \"a\"+str(i)+\".txt\"\n",
        "  fichier = open(nom,\"w\")\n",
        "  fichier.write(\"Hello\")\n",
        "  fichier.close()\n",
        "  zipObj.write(nom)\n",
        "\n",
        "zipObj.close()"
      ],
      "metadata": {
        "id": "lfDnapPjxPmF"
      },
      "execution_count": 13,
      "outputs": []
    }
  ]
}