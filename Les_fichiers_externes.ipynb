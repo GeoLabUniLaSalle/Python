{
  "nbformat": 4,
  "nbformat_minor": 0,
  "metadata": {
    "colab": {
      "name": "Les fichiers externes.ipynb",
      "provenance": [],
      "collapsed_sections": [],
      "authorship_tag": "ABX9TyNbOhAkHbFSH/fEVfGvR0CI",
      "include_colab_link": true
    },
    "kernelspec": {
      "name": "python3",
      "display_name": "Python 3"
    }
  },
  "cells": [
    {
      "cell_type": "markdown",
      "metadata": {
        "id": "view-in-github",
        "colab_type": "text"
      },
      "source": [
        "<a href=\"https://colab.research.google.com/github/GeoLabUniLaSalle/Python/blob/main/Les_fichiers_externes.ipynb\" target=\"_parent\"><img src=\"https://colab.research.google.com/assets/colab-badge.svg\" alt=\"Open In Colab\"/></a>"
      ]
    },
    {
      "cell_type": "markdown",
      "metadata": {
        "id": "pjB2xOR7bgT1"
      },
      "source": [
        "# **Les fichiers externes**\n",
        "\n",
        "Dans ce chapitre, nous allons voir comment ouvrir un fichier externe pour accéder ou modifier son contenu.\n",
        "\n",
        "Débutons par la création d'un fichier dans lequel nous allons écrire du texte."
      ]
    },
    {
      "cell_type": "code",
      "metadata": {
        "id": "aYCxKCp1beV6"
      },
      "source": [
        "fichier = open(\"data.txt\", \"a\") # a indique que le fichier est ouvert en écriture, ajoutant du contenu à la fin du fichier s'il existe\n",
        "fichier.write(\"Hello World !\")\n",
        "fichier.close()"
      ],
      "execution_count": 1,
      "outputs": []
    },
    {
      "cell_type": "markdown",
      "metadata": {
        "id": "tC2p6Kobeh7B"
      },
      "source": [
        "Le fichier est accessible dans les fichiers de ce Jupyter Notebook.\n",
        "\n",
        "Voici les différents modes d'ouverture disponibles."
      ]
    },
    {
      "cell_type": "code",
      "metadata": {
        "id": "aVFOjonPegyg"
      },
      "source": [
        "help(open)"
      ],
      "execution_count": 1,
      "outputs": []
    },
    {
      "cell_type": "markdown",
      "metadata": {
        "id": "R1V8Z3BYe3qT"
      },
      "source": [
        "Ecrivons maintenant le contenu d'une liste de listes (équivalent à un tableau à 2 dimensions) dans un fichier externe."
      ]
    },
    {
      "cell_type": "code",
      "metadata": {
        "id": "M0cW3UyUewhs"
      },
      "source": [
        "l=[[1, 3], [2, 4]]\n",
        "fichier = open(\"data.txt\", \"w\") # w indique que le fichier est ouvert en écriture, écrasant le contenu du fichier\n",
        "for x in l :\n",
        "  for y in x :\n",
        "    fichier.write(str(y))\n",
        "fichier.close()"
      ],
      "execution_count": 2,
      "outputs": []
    },
    {
      "cell_type": "markdown",
      "metadata": {
        "id": "zTxoO6yiftaj"
      },
      "source": [
        "Dans le sens inverse, accédons au contenu du fichier."
      ]
    },
    {
      "cell_type": "code",
      "metadata": {
        "colab": {
          "base_uri": "https://localhost:8080/"
        },
        "id": "mfDl_gIgfKl9",
        "outputId": "e035de76-e26a-4cb0-86b9-a60970e5cbf7"
      },
      "source": [
        "fichier = open(\"data.txt\", \"r\") # r indique que le fichier est ouvert en lecture (mode par défaut)\n",
        "z = fichier.read()\n",
        "fichier.close()\n",
        "print(z, type(z))"
      ],
      "execution_count": 3,
      "outputs": [
        {
          "output_type": "stream",
          "name": "stdout",
          "text": [
            "1324 <class 'str'>\n"
          ]
        }
      ]
    },
    {
      "cell_type": "markdown",
      "metadata": {
        "id": "g6r-wHU4gB2b"
      },
      "source": [
        "Le fichier contient le texte \"1324\". Nous n'avons pas stocké la structure de la liste (liste de listes).\n",
        "\n",
        "Stockons maintenant le contenu de notre liste dans un fichier au format csv."
      ]
    },
    {
      "cell_type": "code",
      "metadata": {
        "id": "BQ7QMlJvhX-_"
      },
      "source": [
        "import csv\n",
        "l=[[1, 3], [2, 4]]\n",
        "with open('data.csv', 'w', newline='') as fichier:\n",
        "    writer = csv.writer(fichier)\n",
        "    writer.writerows(l)"
      ],
      "execution_count": 4,
      "outputs": []
    },
    {
      "cell_type": "markdown",
      "source": [
        "Ajoutons des en-têtes de colonnes."
      ],
      "metadata": {
        "id": "FcnBfSK0v_O-"
      }
    },
    {
      "cell_type": "code",
      "source": [
        "import csv\n",
        "l=[[1, 3], [2, 4]]\n",
        "champs = ['col1','col2']\n",
        "with open('data.csv', 'w', newline='') as fichier:\n",
        "    writer = csv.writer(fichier)\n",
        "    writer.writerow(champs)\n",
        "    writer.writerows(l)"
      ],
      "metadata": {
        "id": "SzKQILBPwD3v"
      },
      "execution_count": 5,
      "outputs": []
    },
    {
      "cell_type": "markdown",
      "metadata": {
        "id": "JNNQa5h6iYpL"
      },
      "source": [
        "Accédons maintenant au contenu de ce fichier."
      ]
    },
    {
      "cell_type": "code",
      "metadata": {
        "colab": {
          "base_uri": "https://localhost:8080/"
        },
        "id": "JYWu7206iED9",
        "outputId": "080354de-abc4-478d-ab27-5a5dcef7d11c"
      },
      "source": [
        "import csv\n",
        "with open('data.csv', 'r') as fichier:\n",
        "    reader = csv.reader(fichier)\n",
        "    for i in reader:\n",
        "        print(i)"
      ],
      "execution_count": 6,
      "outputs": [
        {
          "output_type": "stream",
          "name": "stdout",
          "text": [
            "['col1', 'col2']\n",
            "['1', '3']\n",
            "['2', '4']\n"
          ]
        }
      ]
    },
    {
      "cell_type": "markdown",
      "metadata": {
        "id": "7tpBJKi5ishR"
      },
      "source": [
        "Stockons ce contenu dans une nouvelle liste équivalente à la liste initiale."
      ]
    },
    {
      "cell_type": "code",
      "metadata": {
        "colab": {
          "base_uri": "https://localhost:8080/"
        },
        "id": "n31ACcOnk_yK",
        "outputId": "d1e9c317-cea5-40d6-8bed-c9be05035f87"
      },
      "source": [
        "import csv\n",
        "with open('data.csv', newline='') as fichier:\n",
        "    reader = csv.reader(fichier)\n",
        "    headings = next(reader)\n",
        "    l2 = list(reader)\n",
        "print(l2)"
      ],
      "execution_count": 7,
      "outputs": [
        {
          "output_type": "stream",
          "name": "stdout",
          "text": [
            "[['1', '3'], ['2', '4']]\n"
          ]
        }
      ]
    },
    {
      "cell_type": "markdown",
      "metadata": {
        "id": "akhleXq_qJyi"
      },
      "source": [
        "Pour convertir les str en int, nous pouvons utiliser la fonction map qui applique un opérateur sur tous les termes d'une liste. Ici, nous appliquons l'operateur de conversion 'int' sur tous les termes de la liste x."
      ]
    },
    {
      "cell_type": "code",
      "metadata": {
        "colab": {
          "base_uri": "https://localhost:8080/"
        },
        "id": "ALUGp79tpXuW",
        "outputId": "84f373d1-842e-492c-e8b6-d1dd9dfdd1f6"
      },
      "source": [
        "l3=[]\n",
        "for x in l2:\n",
        "  l3.append(list(map(int,x)))\n",
        "print(l3)"
      ],
      "execution_count": 8,
      "outputs": [
        {
          "output_type": "stream",
          "name": "stdout",
          "text": [
            "[[1, 3], [2, 4]]\n"
          ]
        }
      ]
    },
    {
      "cell_type": "markdown",
      "metadata": {
        "id": "nR335UaIqdiV"
      },
      "source": [
        "Une autre fonction souvent utile lorsque l'on traite des fichiers csv est la fonction strip qui élimine des caractères inutiles. Par défaut, strip supprime les caractères 'espace' qui sont en début et fin d'un str."
      ]
    },
    {
      "cell_type": "code",
      "metadata": {
        "colab": {
          "base_uri": "https://localhost:8080/"
        },
        "id": "gGXj8C0VpbO3",
        "outputId": "371c1dea-32ea-4236-fd25-1ad3514ea9e6"
      },
      "source": [
        "x = '     bonjour     '\n",
        "print(x.strip())"
      ],
      "execution_count": 9,
      "outputs": [
        {
          "output_type": "stream",
          "name": "stdout",
          "text": [
            "bonjour\n"
          ]
        }
      ]
    },
    {
      "cell_type": "markdown",
      "metadata": {
        "id": "xfwsmlOAq1eY"
      },
      "source": [
        "Il est possible de spécifier certains caractères à éliminer, mais toujours en début ou fin de str."
      ]
    },
    {
      "cell_type": "code",
      "metadata": {
        "colab": {
          "base_uri": "https://localhost:8080/"
        },
        "id": "aod_p0INqvxj",
        "outputId": "629b61d5-9d26-48f6-fbb7-3e34f85b301a"
      },
      "source": [
        "x = '!!???###bonjour /?!#\\ bonjour##??!!!!'\n",
        "print(x.strip('?#!'))"
      ],
      "execution_count": 10,
      "outputs": [
        {
          "output_type": "stream",
          "name": "stdout",
          "text": [
            "bonjour /?!#\\ bonjour\n"
          ]
        }
      ]
    },
    {
      "cell_type": "markdown",
      "source": [
        "Le fichiers peuvent être encodés en suivant différents standards. Il peut être nécessaire de decoder un fichier avant de pouvoir le manipuler."
      ],
      "metadata": {
        "id": "w0fTpJOvwgq-"
      }
    },
    {
      "cell_type": "code",
      "source": [
        "s = \"Hello World\"\n",
        "x = s.encode(\"UTF-8\")\n",
        "print(x)\n",
        "print(x.decode(\"UTF-8\"))"
      ],
      "metadata": {
        "colab": {
          "base_uri": "https://localhost:8080/"
        },
        "id": "ukGAXJrrwfBs",
        "outputId": "38551a3f-ad61-4014-edc8-99cfc9af4147"
      },
      "execution_count": 11,
      "outputs": [
        {
          "output_type": "stream",
          "name": "stdout",
          "text": [
            "b'Hello World'\n",
            "Hello World\n"
          ]
        }
      ]
    },
    {
      "cell_type": "markdown",
      "source": [
        "Il est possible de générer des fichiers Excel (.xlsx)."
      ],
      "metadata": {
        "id": "l8-3IKjQtanX"
      }
    },
    {
      "cell_type": "code",
      "source": [
        "import pandas as pd\n",
        "\n",
        "df = pd.DataFrame(l,columns = ['col1','col2'])\n",
        "writer = pd.ExcelWriter('file.xlsx')\n",
        "df.to_excel(writer, sheet_name='data', index=False)\n",
        "writer.save()"
      ],
      "metadata": {
        "id": "esxMMtN0thC7"
      },
      "execution_count": 12,
      "outputs": []
    },
    {
      "cell_type": "markdown",
      "source": [
        "Il est possible de créer un fichier .zip contenant plusieurs fichiers."
      ],
      "metadata": {
        "id": "8kOYg0F6xFiB"
      }
    },
    {
      "cell_type": "code",
      "source": [
        "from zipfile import ZipFile\n",
        "\n",
        "zipObj = ZipFile('data.zip', 'w')\n",
        "\n",
        "for i in range(3):\n",
        "  nom = \"a\"+str(i)+\".txt\"\n",
        "  fichier = open(nom,\"w\")\n",
        "  fichier.write(\"Hello\")\n",
        "  fichier.close()\n",
        "  zipObj.write(nom)\n",
        "\n",
        "zipObj.close()"
      ],
      "metadata": {
        "id": "lfDnapPjxPmF"
      },
      "execution_count": 14,
      "outputs": []
    }
  ]
}