{
  "nbformat": 4,
  "nbformat_minor": 0,
  "metadata": {
    "colab": {
      "name": "Marathon.ipynb",
      "provenance": [],
      "collapsed_sections": [],
      "authorship_tag": "ABX9TyMscRatHrAJmEvmH7AF18r+",
      "include_colab_link": true
    },
    "kernelspec": {
      "name": "python3",
      "display_name": "Python 3"
    }
  },
  "cells": [
    {
      "cell_type": "markdown",
      "metadata": {
        "id": "view-in-github",
        "colab_type": "text"
      },
      "source": [
        "<a href=\"https://colab.research.google.com/github/GeoLabUniLaSalle/Python/blob/main/Marathon.ipynb\" target=\"_parent\"><img src=\"https://colab.research.google.com/assets/colab-badge.svg\" alt=\"Open In Colab\"/></a>"
      ]
    },
    {
      "cell_type": "markdown",
      "metadata": {
        "id": "R8kQ2CJh9aDY"
      },
      "source": [
        "## **Marathon ★☆☆**\n",
        "\n",
        "\n",
        "\n",
        "\n",
        "*Exercice disponible sur la plateforme TOSA : Battle Dev Hello Works - Mars 2019 : https://www.isograd.com/FR/solutionconcours.php*\n",
        "\n",
        "\n",
        "\n",
        "**Enoncé**\n",
        "\n",
        "\n",
        "Le marathon est une épreuve sportive où les participants doivent parcourir 42 kilomètres. Lors d'une soirée pizza avec vos amis, vous discutez du prochain marathon qui se tiendra dans votre ville. Vos amis sont convaincus que vous n'êtes pas capable de terminer la course et vous, vous leur jurez que vous êtes sûr(e) de finir dans les 100 premiers.\n",
        "Les paris sont lancés :\n",
        "- si vous terminez dans le top 100, vous gagnez 1 000 euros ;\n",
        "- si vous terminez le marathon, vous gagnez 100 euros ;\n",
        "- si vous ne terminez pas le marathon, vous aurez juste perdu votre crédibilité.\n",
        "\n",
        "\n",
        "Vous passez la ligne de départ à une certaine place, et tous les kilomètres, vous faites le point sur le nombre de personnes qui vous ont dépassées et celles que vous avez dépassées pour connaitre votre classement.\n",
        "\n",
        "Dans ce challenge, on considère que le marathon fait exactement 42km et que si vous terminez après la 10 000ème place, cela veut dire que vous avez abandonné.\n",
        "\n",
        "**Objectif**\n",
        "\n",
        "Vous devez déterminer le montant gagné lors de votre pari.\n",
        "\n",
        "\n",
        "\n",
        "\n",
        "**Format des données**\n",
        "\n",
        "*Entrée*\n",
        "\n",
        "\n",
        "Ligne 1 : un entier compris entre 1 et 20 000 correspondant à votre classement lorsque vous passez la ligne de départ.\n",
        "\n",
        "Lignes 2 à 43 : deux entiers séparés par un espace représentant respectivement les personnes vous ayant dépassé(e) et celles que vous avez dépassées pour un kilomètre donné.\n",
        "\n",
        "\n",
        "\n",
        "*Sortie*\n",
        "\n",
        "Un entier correspondant au montant gagné lors de votre pari. Si vous ne gagnez rien, renvoyez la chaîne de caractères KO."
      ]
    },
    {
      "cell_type": "markdown",
      "metadata": {
        "id": "LaFrvPhE-Ezb"
      },
      "source": [
        "## **Données**\n",
        "\n",
        "*Accès aux données*"
      ]
    },
    {
      "cell_type": "code",
      "metadata": {
        "colab": {
          "base_uri": "https://localhost:8080/"
        },
        "id": "2HlpCu_r-aqr",
        "outputId": "a6a62e4b-2e86-4679-8e7e-38f5a2a2e709"
      },
      "source": [
        "import csv\n",
        "filedir = ('https://cours.unilasalle.fr/courses/SG4007/document/Exercices_Python/Marathon/')\n",
        "\n",
        "import ssl\n",
        "ssl._create_default_https_context = ssl._create_unverified_context\n",
        "\n",
        "import urllib.request\n",
        "\n",
        "for x in range(1,7):\n",
        "  f = urllib.request.urlopen(str(filedir+\"input\"+str(x)+\".txt\"))\n",
        "\n",
        "  data=[]\n",
        "  for i in f:\n",
        "      line=i.decode('utf-8').strip()\n",
        "      data.append(line)\n",
        "  print('Entrée',x,':',data)\n",
        "\n",
        "  f = urllib.request.urlopen(str(filedir+\"output\"+str(x)+\".txt\"))\n",
        "  for i in f:\n",
        "      line=i.decode('utf-8').strip()\n",
        "  print('Sortie',x,':',line,'\\n')"
      ],
      "execution_count": null,
      "outputs": [
        {
          "output_type": "stream",
          "text": [
            "Entrée 1 : ['50', '0 1', '0 1', '0 1', '0 1', '0 1', '0 1', '0 1', '0 1', '0 1', '0 1', '0 1', '0 1', '0 1', '0 1', '0 1', '0 1', '0 1', '0 1', '0 1', '0 1', '0 1', '0 1', '0 1', '0 1', '0 1', '0 1', '0 1', '0 1', '0 1', '0 1', '0 1', '0 1', '0 1', '0 1', '0 1', '0 1', '0 1', '0 1', '0 1', '0 1', '0 1', '0 1']\n",
            "Sortie 1 : 1000 \n",
            "\n",
            "Entrée 2 : ['200', '0 1', '0 1', '0 1', '0 1', '0 1', '0 1', '0 1', '0 1', '0 1', '0 1', '0 1', '0 1', '0 1', '0 1', '0 1', '0 1', '0 1', '0 1', '0 1', '0 1', '0 1', '0 1', '0 1', '0 1', '0 1', '0 1', '0 1', '0 1', '0 1', '0 1', '0 1', '0 1', '0 1', '0 1', '0 1', '0 1', '0 1', '0 1', '0 1', '0 1', '0 1', '0 1']\n",
            "Sortie 2 : 100 \n",
            "\n",
            "Entrée 3 : ['12000', '0 1', '0 1', '0 1', '0 1', '0 1', '0 1', '0 1', '0 1', '0 1', '0 1', '0 1', '0 1', '0 1', '0 1', '0 1', '0 1', '0 1', '0 1', '0 1', '0 1', '0 1', '0 1', '0 1', '0 1', '0 1', '0 1', '0 1', '0 1', '0 1', '0 1', '0 1', '0 1', '0 1', '0 1', '0 1', '0 1', '0 1', '0 1', '0 1', '0 1', '0 1', '0 1']\n",
            "Sortie 3 : KO \n",
            "\n",
            "Entrée 4 : ['10042', '0 1', '0 1', '0 1', '0 1', '0 1', '0 1', '0 1', '0 1', '0 1', '0 1', '0 1', '0 1', '0 1', '0 1', '0 1', '0 1', '0 1', '0 1', '0 1', '0 1', '0 1', '0 1', '0 1', '0 1', '0 1', '0 1', '0 1', '0 1', '0 1', '0 1', '0 1', '0 1', '0 1', '0 1', '0 1', '0 1', '0 1', '0 1', '0 1', '0 1', '0 1', '0 1']\n",
            "Sortie 4 : 100 \n",
            "\n",
            "Entrée 5 : ['68', '3 2', '72 4', '75 8', '4 5', '3 4', '30 6', '25 4', '34 0', '47 1', '39 9', '21 7', '56 9', '63 2', '46 7', '19 7', '6 10', '70 8', '53 4', '46 5', '61 0', '15 7', '3 6', '4 1', '33 5', '4 5', '74 3', '16 4', '20 2', '59 5', '27 6', '45 5', '65 10', '45 7', '68 9', '41 7', '76 10', '19 4', '9 0', '4 3', '15 9', '66 3', '16 3']\n",
            "Sortie 5 : 100 \n",
            "\n",
            "Entrée 6 : ['1288', '114 8', '137 19', '104 9', '38 13', '140 10', '28 17', '40 8', '18 5', '141 1', '5 0', '15 17', '106 15', '120 18', '88 2', '54 3', '134 17', '70 12', '22 15', '56 12', '104 10', '143 6', '108 8', '154 1', '64 9', '81 17', '88 3', '121 2', '77 10', '82 6', '34 6', '25 12', '79 2', '46 8', '86 13', '120 12', '40 8', '26 12', '71 19', '71 18', '57 1', '54 1', '144 16']\n",
            "Sortie 6 : 100 \n",
            "\n"
          ],
          "name": "stdout"
        }
      ]
    }
  ]
}