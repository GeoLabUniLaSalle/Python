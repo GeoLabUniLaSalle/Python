{
  "nbformat": 4,
  "nbformat_minor": 0,
  "metadata": {
    "colab": {
      "provenance": [],
      "authorship_tag": "ABX9TyN13jEYPZengYJ75ZzgU57i",
      "include_colab_link": true
    },
    "kernelspec": {
      "name": "python3",
      "display_name": "Python 3"
    },
    "language_info": {
      "name": "python"
    }
  },
  "cells": [
    {
      "cell_type": "markdown",
      "metadata": {
        "id": "view-in-github",
        "colab_type": "text"
      },
      "source": [
        "<a href=\"https://colab.research.google.com/github/GeoLabUniLaSalle/Python/blob/main/Manipuler_des_donn%C3%A9es.ipynb\" target=\"_parent\"><img src=\"https://colab.research.google.com/assets/colab-badge.svg\" alt=\"Open In Colab\"/></a>"
      ]
    },
    {
      "cell_type": "markdown",
      "source": [
        "**Manipuler des données**\n",
        "\n",
        "Ce Notebook vous permettra de vous exercer sur la manipulation de données.\n",
        "\n",
        "*Exercice 1*\n",
        "\n",
        "Créez des variables de type (en les nommant a, b, c, ... jusque h) :\n",
        "\n",
        "\n",
        "*   Entier\n",
        "*   Réel\n",
        "*   Chaîne de caractères\n",
        "*   Booléen\n",
        "*   list\n",
        "*   tuple\n",
        "*   dict\n",
        "*   ensemble\n",
        "\n",
        "Vérifiez le type de données avec la fonction type() :\n",
        "\n",
        "```\n",
        "# print(x,type(x))\n",
        "```\n",
        "\n",
        "\n",
        "\n"
      ],
      "metadata": {
        "id": "fjcMPBTgNAOO"
      }
    },
    {
      "cell_type": "code",
      "source": [
        "# donnez à vos variables les valeurs indiquées ci-dessous\n",
        "\n"
      ],
      "metadata": {
        "id": "zoNOsBvuPmxR"
      },
      "execution_count": null,
      "outputs": []
    },
    {
      "cell_type": "markdown",
      "source": [
        "N'affichez le code de la correction que si vous ne parvenez pas à résoudre l'exercice par vous même.\n",
        "\n",
        "\n",
        "\n"
      ],
      "metadata": {
        "id": "Bac_3KTpQcWz"
      }
    },
    {
      "cell_type": "code",
      "execution_count": 17,
      "metadata": {
        "colab": {
          "base_uri": "https://localhost:8080/"
        },
        "cellView": "form",
        "id": "WBxK2h_bM_fQ",
        "outputId": "50934bd3-658b-401e-e4c9-daeb10f6ff18"
      },
      "outputs": [
        {
          "output_type": "stream",
          "name": "stdout",
          "text": [
            "5 <class 'int'>\n",
            "4.2 <class 'float'>\n",
            "bonjour <class 'str'>\n",
            "True <class 'bool'>\n",
            "[8, 'ok', 4.2] <class 'list'>\n",
            "(False, True, 17.1) <class 'tuple'>\n",
            "{'A': 65, 'B': 66, 'C': 67} <class 'dict'>\n",
            "{'j', 'b', 'u', 'r', 'o', 'n'} <class 'set'>\n"
          ]
        }
      ],
      "source": [
        "# @title\n",
        "a = 5\n",
        "print(a,type(a))\n",
        "\n",
        "b = 4.2\n",
        "print(b,type(b))\n",
        "\n",
        "c = 'bonjour'\n",
        "print(c,type(c))\n",
        "\n",
        "d = True\n",
        "print(d,type(d))\n",
        "\n",
        "e = [8,'ok',b]\n",
        "print(e,type(e))\n",
        "\n",
        "f = (False,d,17.1)\n",
        "print(f,type(f))\n",
        "\n",
        "g = {'A':65, 'B': 66, 'C': 67}\n",
        "print(g,type(g))\n",
        "\n",
        "h = set(c)\n",
        "print(h,type(h))"
      ]
    },
    {
      "cell_type": "markdown",
      "source": [
        "*Exercice 2*\n",
        "\n",
        "Manipulez vos 8 variables :\n",
        "*   ajoutez 13 à a\n",
        "*   obtenez la partie entière de la division de a par b\n",
        "*   dupliquez le contenu de c\n",
        "*   inversez d\n",
        "*   ajoutez la valeur False à la fin de e\n",
        "*   affichez le 3ème élément de f\n",
        "*   ajoutez la clé 'D' associée à la valeur 68 à g\n",
        "*   supprimez l'élément 'u' de h\n"
      ],
      "metadata": {
        "id": "Bgu6_45TSNP3"
      }
    },
    {
      "cell_type": "code",
      "source": [
        "# a vous de jouer !\n",
        "\n"
      ],
      "metadata": {
        "id": "-CSQo7h2V5ix"
      },
      "execution_count": null,
      "outputs": []
    },
    {
      "cell_type": "markdown",
      "source": [
        "N'affichez le code de la correction que si vous ne parvenez pas à résoudre l'exercice par vous même.*"
      ],
      "metadata": {
        "id": "_YxCgGGaTJ73"
      }
    },
    {
      "cell_type": "code",
      "source": [
        "# @title\n",
        "a += 13\n",
        "print(a)\n",
        "\n",
        "b = a//b\n",
        "print(b)\n",
        "\n",
        "c = c + c\n",
        "print(c)\n",
        "\n",
        "d = not d\n",
        "print(d)\n",
        "\n",
        "e.append(False)\n",
        "print(e)\n",
        "\n",
        "print(f[2])\n",
        "\n",
        "g['D'] = 68\n",
        "print(g)\n",
        "\n",
        "h.discard('u')\n",
        "print(h)"
      ],
      "metadata": {
        "colab": {
          "base_uri": "https://localhost:8080/"
        },
        "cellView": "form",
        "id": "oIRx1bBnTGtW",
        "outputId": "034719be-9bcd-4910-fb3e-e13ca7c1ad5a"
      },
      "execution_count": 18,
      "outputs": [
        {
          "output_type": "stream",
          "name": "stdout",
          "text": [
            "18\n",
            "4.0\n",
            "bonjourbonjour\n",
            "False\n",
            "[8, 'ok', 4.2, False]\n",
            "17.1\n",
            "{'A': 65, 'B': 66, 'C': 67, 'D': 68}\n",
            "{'j', 'b', 'r', 'o', 'n'}\n"
          ]
        }
      ]
    },
    {
      "cell_type": "markdown",
      "source": [
        "*Exercice 3*\n",
        "\n",
        "Utilisez le slicing pour obtenir des sous-séquences de s :\n",
        "\n",
        "\n",
        "\n",
        "*   Obtenez les 3 premiers éléments de s\n",
        "*   Obtenez les 2 derniers éléments de s\n",
        "*   Obtenez les éléments d'indice 2 à 6 de s\n",
        "*   Obtenez un élément sur 3 de s\n",
        "*   Obtenez un élément sur 2 de s à partir du second élément\n",
        "*   Obtenez s en ordre inversé\n",
        "*   Obtenez le dernier élément de s\n",
        "*   Obtenez les éléments d'indics 4 à 7 de s en sens inversé\n",
        "\n",
        "\n"
      ],
      "metadata": {
        "id": "t1GRKBnqUeRW"
      }
    },
    {
      "cell_type": "code",
      "source": [
        "s = ['a','b','c','d','e','f','g','h','i','j','k']\n",
        "# écrivez vos instructions ci-dessous\n",
        "\n"
      ],
      "metadata": {
        "id": "3HroRiuAT-cG"
      },
      "execution_count": 20,
      "outputs": []
    },
    {
      "cell_type": "markdown",
      "source": [
        "N'affichez le code de la correction que si vous ne parvenez pas à résoudre l'exercice par vous même."
      ],
      "metadata": {
        "id": "XmCHL5i7V-pZ"
      }
    },
    {
      "cell_type": "code",
      "source": [
        "# @title\n",
        "print(s[:3])\n",
        "print(s[-2:])\n",
        "print(s[2:7])\n",
        "print(s[::3])\n",
        "print(s[1::2])\n",
        "print(s[::-1])\n",
        "print(s[-1])\n",
        "print(s[7:3:-1])"
      ],
      "metadata": {
        "colab": {
          "base_uri": "https://localhost:8080/"
        },
        "cellView": "form",
        "id": "rwJHaTgKVyIL",
        "outputId": "0bf8f6f4-b931-4476-e83a-47bb6ad24848"
      },
      "execution_count": 22,
      "outputs": [
        {
          "output_type": "stream",
          "name": "stdout",
          "text": [
            "['a', 'b', 'c']\n",
            "['j', 'k']\n",
            "['c', 'd', 'e', 'f', 'g']\n",
            "['a', 'd', 'g', 'j']\n",
            "['b', 'd', 'f', 'h', 'j']\n",
            "['k', 'j', 'i', 'h', 'g', 'f', 'e', 'd', 'c', 'b', 'a']\n",
            "k\n",
            "['h', 'g', 'f', 'e']\n"
          ]
        }
      ]
    }
  ]
}