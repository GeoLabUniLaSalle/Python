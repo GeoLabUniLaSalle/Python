{
  "nbformat": 4,
  "nbformat_minor": 0,
  "metadata": {
    "colab": {
      "name": "Le probleme du sac a dos.ipynb",
      "provenance": [],
      "collapsed_sections": [],
      "authorship_tag": "ABX9TyNNEIv5K7qF39hxFpCeqp+A",
      "include_colab_link": true
    },
    "kernelspec": {
      "name": "python3",
      "display_name": "Python 3"
    },
    "language_info": {
      "name": "python"
    }
  },
  "cells": [
    {
      "cell_type": "markdown",
      "metadata": {
        "id": "view-in-github",
        "colab_type": "text"
      },
      "source": [
        "<a href=\"https://colab.research.google.com/github/GeoLabUniLaSalle/Python/blob/main/Le_probleme_du_sac_a_dos.ipynb\" target=\"_parent\"><img src=\"https://colab.research.google.com/assets/colab-badge.svg\" alt=\"Open In Colab\"/></a>"
      ]
    },
    {
      "cell_type": "markdown",
      "metadata": {
        "id": "IUBWmYezron9"
      },
      "source": [
        "# **Les problème du sac à dos**\n",
        "\n",
        "Voici un exercice qui vous permettra de vous exercer sur la pratique d'optimisation.\n",
        "\n",
        "Le problème du sac à dos est un des 21 problèmes NP-Complet, qui sont les plus difficiles en optimisation combinatoire.\n",
        "\n",
        "Son énoncé est simple : \"Étant donné plusieurs objets possédant chacun un poids et une valeur et étant donné un poids maximum pour le sac, quels objets faut-il mettre dans le sac de manière à maximiser la valeur totale sans dépasser le poids maximal autorisé pour le sac ?\".\n",
        "\n",
        "Nous disposons des paramètres suivants :\n",
        "- poids, la liste des poids des objets disponibles\n",
        "- valeurs, la liste des valeurs des objets disponibles, classées dans le même ordre que poids\n",
        "- capacite, le poids maximal autorisé pour le sac\n",
        "\n"
      ]
    },
    {
      "cell_type": "code",
      "metadata": {
        "id": "nClsGe0qsbGG"
      },
      "source": [
        "poids = [1,5,3,2,4] \n",
        "valeurs = [10,50,20,30,60]\n",
        "capacite = 11"
      ],
      "execution_count": null,
      "outputs": []
    },
    {
      "cell_type": "markdown",
      "metadata": {
        "id": "-aESy850tMKs"
      },
      "source": [
        "1. **Solution gloutonne**\n",
        "\n",
        "Une solution efficace consiste à déterminer quels objets placer en priorité dans le sac, en fonction de leur rapport valeur/poids. On trie les objets suivant ce rapport, en ordre décroissant, et on ajoute au sac les éléments positionnés en premiers dans cette liste."
      ]
    },
    {
      "cell_type": "code",
      "metadata": {
        "colab": {
          "base_uri": "https://localhost:8080/"
        },
        "id": "5frVEXW_pv9O",
        "outputId": "6a1ce40b-ff2a-498d-a7ef-774b02ea70f1"
      },
      "source": [
        "def tri(l):\n",
        "  \"\"\"\n",
        "  Tri l en ordre décroissant suivant le valeur contenue dans le 4ème élément (rapport valeur/poids)\n",
        "  \"\"\"\n",
        "  for i in range(len(l)):\n",
        "    rapport1 = l[i][3]\n",
        "    x = l[i]\n",
        "    j = i\n",
        "    rapport2 = l[j-1][3]\n",
        "    while j > 0 and rapport2<rapport1 :\n",
        "      l[j] = l[j-1]\n",
        "      j-=1\n",
        "    l[j] = x\n",
        "  return l\n",
        "\n",
        "def sac_a_dos_glouton(poids, valeurs, capacite): \n",
        "  \"\"\"\n",
        "  Retourne la solution gloutonne au problème du sac à dos\n",
        "  \"\"\"\n",
        "  l = []\n",
        "  for i in range(len(poids)): \n",
        "    l.append([i,poids[i],valeurs[i],valeurs[i]/poids[i]])\n",
        "  l = tri(l)\n",
        "  cpt = 0\n",
        "  for i in l:\n",
        "    poidsCourant = i[1] \n",
        "    valeurCourante = i[2] \n",
        "    if capacite - poidsCourant >= 0: \n",
        "      capacite -= poidsCourant \n",
        "      cpt += valeurCourante\n",
        "  return cpt \n",
        "\n",
        "print('La valeur maximale pouvant être contenue dans le sac à dos est de :',sac_a_dos_glouton(poids, valeurs, capacite))"
      ],
      "execution_count": 17,
      "outputs": [
        {
          "output_type": "stream",
          "text": [
            "La valeur maximale pouvant être contenue dans le sac à dos est de : 120\n"
          ],
          "name": "stdout"
        }
      ]
    },
    {
      "cell_type": "code",
      "metadata": {
        "colab": {
          "base_uri": "https://localhost:8080/",
          "height": 317
        },
        "id": "dktSj_zNp1fj",
        "outputId": "87cb260a-d92e-40ca-a2e5-fc550f564c4d"
      },
      "source": [
        "from ortoolpy import knapsack\n",
        "knapsack(valeurs, poids, capacite)"
      ],
      "execution_count": 27,
      "outputs": [
        {
          "output_type": "error",
          "ename": "ModuleNotFoundError",
          "evalue": "ignored",
          "traceback": [
            "\u001b[0;31m---------------------------------------------------------------------------\u001b[0m",
            "\u001b[0;31mModuleNotFoundError\u001b[0m                       Traceback (most recent call last)",
            "\u001b[0;32m<ipython-input-27-982836d8b395>\u001b[0m in \u001b[0;36m<module>\u001b[0;34m()\u001b[0m\n\u001b[0;32m----> 1\u001b[0;31m \u001b[0;32mfrom\u001b[0m \u001b[0mortoolpy\u001b[0m \u001b[0;32mimport\u001b[0m \u001b[0mknapsack\u001b[0m\u001b[0;34m\u001b[0m\u001b[0;34m\u001b[0m\u001b[0m\n\u001b[0m\u001b[1;32m      2\u001b[0m \u001b[0mknapsack\u001b[0m\u001b[0;34m(\u001b[0m\u001b[0mvaleurs\u001b[0m\u001b[0;34m,\u001b[0m \u001b[0mpoids\u001b[0m\u001b[0;34m,\u001b[0m \u001b[0mcapacite\u001b[0m\u001b[0;34m)\u001b[0m\u001b[0;34m\u001b[0m\u001b[0;34m\u001b[0m\u001b[0m\n",
            "\u001b[0;31mModuleNotFoundError\u001b[0m: No module named 'ortoolpy'",
            "",
            "\u001b[0;31m---------------------------------------------------------------------------\u001b[0;32m\nNOTE: If your import is failing due to a missing package, you can\nmanually install dependencies using either !pip or !apt.\n\nTo view examples of installing some common dependencies, click the\n\"Open Examples\" button below.\n\u001b[0;31m---------------------------------------------------------------------------\u001b[0m\n"
          ]
        }
      ]
    },
    {
      "cell_type": "markdown",
      "metadata": {
        "id": "Gpq70spvrksr"
      },
      "source": [
        ""
      ]
    },
    {
      "cell_type": "code",
      "metadata": {
        "colab": {
          "base_uri": "https://localhost:8080/"
        },
        "id": "uow8llTtxkNG",
        "outputId": "f538803b-399e-43c2-ae4d-48dcf0d01f51"
      },
      "source": [
        "import sys  \n",
        "!{sys.executable} -m pip install --user ortoolpy"
      ],
      "execution_count": 26,
      "outputs": [
        {
          "output_type": "stream",
          "text": [
            "Collecting ortoolpy\n",
            "  Downloading https://files.pythonhosted.org/packages/1f/11/2964268b029323dac4aeb0925dc2553c06a6dd2a175ccd12de3048bd032c/ortoolpy-0.2.38-py3-none-any.whl\n",
            "Requirement already satisfied: pandas<2.0.0,>=1.1.4 in /usr/local/lib/python3.7/dist-packages (from ortoolpy) (1.1.5)\n",
            "Collecting pulp<3.0.0,>=2.3.1\n",
            "\u001b[?25l  Downloading https://files.pythonhosted.org/packages/14/c4/0eec14a0123209c261de6ff154ef3be5cad3fd557c084f468356662e0585/PuLP-2.4-py3-none-any.whl (40.6MB)\n",
            "\u001b[K     |████████████████████████████████| 40.6MB 103kB/s \n",
            "\u001b[?25hRequirement already satisfied: more-itertools<9.0.0,>=8.6.0 in /usr/local/lib/python3.7/dist-packages (from ortoolpy) (8.7.0)\n",
            "Requirement already satisfied: numpy>=1.15.4 in /usr/local/lib/python3.7/dist-packages (from pandas<2.0.0,>=1.1.4->ortoolpy) (1.19.5)\n",
            "Requirement already satisfied: python-dateutil>=2.7.3 in /usr/local/lib/python3.7/dist-packages (from pandas<2.0.0,>=1.1.4->ortoolpy) (2.8.1)\n",
            "Requirement already satisfied: pytz>=2017.2 in /usr/local/lib/python3.7/dist-packages (from pandas<2.0.0,>=1.1.4->ortoolpy) (2018.9)\n",
            "Collecting amply>=0.1.2\n",
            "  Downloading https://files.pythonhosted.org/packages/f3/c5/dfa09dd2595a2ab2ab4e6fa7bebef9565812722e1980d04b0edce5032066/amply-0.1.4-py3-none-any.whl\n",
            "Requirement already satisfied: six>=1.5 in /usr/local/lib/python3.7/dist-packages (from python-dateutil>=2.7.3->pandas<2.0.0,>=1.1.4->ortoolpy) (1.15.0)\n",
            "Requirement already satisfied: pyparsing in /usr/local/lib/python3.7/dist-packages (from amply>=0.1.2->pulp<3.0.0,>=2.3.1->ortoolpy) (2.4.7)\n",
            "Requirement already satisfied: docutils>=0.3 in /usr/local/lib/python3.7/dist-packages (from amply>=0.1.2->pulp<3.0.0,>=2.3.1->ortoolpy) (0.16)\n",
            "Installing collected packages: amply, pulp, ortoolpy\n",
            "\u001b[33m  WARNING: The script pulptest is installed in '/root/.local/bin' which is not on PATH.\n",
            "  Consider adding this directory to PATH or, if you prefer to suppress this warning, use --no-warn-script-location.\u001b[0m\n",
            "Successfully installed amply-0.1.4 ortoolpy-0.2.38 pulp-2.4\n"
          ],
          "name": "stdout"
        }
      ]
    },
    {
      "cell_type": "code",
      "metadata": {
        "id": "z-vI6e9Yxlwh"
      },
      "source": [
        ""
      ],
      "execution_count": null,
      "outputs": []
    }
  ]
}