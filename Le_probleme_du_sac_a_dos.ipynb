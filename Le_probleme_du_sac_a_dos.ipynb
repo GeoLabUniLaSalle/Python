{
  "nbformat": 4,
  "nbformat_minor": 0,
  "metadata": {
    "colab": {
      "name": "Le probleme du sac a dos.ipynb",
      "provenance": [],
      "collapsed_sections": [],
      "authorship_tag": "ABX9TyPwi9NQ+E3Ju31UpVvcPC/a",
      "include_colab_link": true
    },
    "kernelspec": {
      "name": "python3",
      "display_name": "Python 3"
    },
    "language_info": {
      "name": "python"
    }
  },
  "cells": [
    {
      "cell_type": "markdown",
      "metadata": {
        "id": "view-in-github",
        "colab_type": "text"
      },
      "source": [
        "<a href=\"https://colab.research.google.com/github/GeoLabUniLaSalle/Python/blob/main/Le_probleme_du_sac_a_dos.ipynb\" target=\"_parent\"><img src=\"https://colab.research.google.com/assets/colab-badge.svg\" alt=\"Open In Colab\"/></a>"
      ]
    },
    {
      "cell_type": "markdown",
      "metadata": {
        "id": "IUBWmYezron9"
      },
      "source": [
        "# **Les problème du sac à dos**\n",
        "\n",
        "Voici un exercice qui vous permettra de vous exercer sur la pratique d'optimisation.\n",
        "\n",
        "Le problème du sac à dos est un des 21 problèmes NP-Complet, qui sont les plus difficiles en optimisation combinatoire.\n",
        "\n",
        "Son énoncé est simple : \"Étant donné plusieurs objets possédant chacun un poids et une valeur et étant donné un poids maximum pour le sac, quels objets faut-il mettre dans le sac de manière à maximiser la valeur totale sans dépasser le poids maximal autorisé pour le sac ?\".\n",
        "\n",
        "Nous disposons des paramètres suivants :\n",
        "- poids, la liste des poids des objets disponibles\n",
        "- valeurs, la liste des valeurs des objets disponibles, classées dans le même ordre que poids\n",
        "- capacite, le poids maximal autorisé pour le sac\n",
        "\n"
      ]
    },
    {
      "cell_type": "code",
      "metadata": {
        "id": "nClsGe0qsbGG"
      },
      "source": [
        "poids = [1,5,3,2,4] \n",
        "valeurs = [10,50,20,30,60]\n",
        "capacite = 11"
      ],
      "execution_count": null,
      "outputs": []
    },
    {
      "cell_type": "markdown",
      "metadata": {
        "id": "-aESy850tMKs"
      },
      "source": [
        "1. **Solution gloutonne**\n",
        "\n",
        "Une solution efficace consiste à déterminer quels objets placer en priorité dans le sac, en fonction de leur rapport valeur/poids. On trie les objets suivant ce rapport, en ordre décroissant, et on ajoute au sac les éléments positionnés en premiers dans cette liste."
      ]
    },
    {
      "cell_type": "code",
      "metadata": {
        "colab": {
          "base_uri": "https://localhost:8080/"
        },
        "id": "5frVEXW_pv9O",
        "outputId": "6a1ce40b-ff2a-498d-a7ef-774b02ea70f1"
      },
      "source": [
        "def tri(l):\n",
        "  \"\"\"\n",
        "  Tri l en ordre décroissant suivant le valeur contenue dans le 4ème élément (rapport valeur/poids)\n",
        "  \"\"\"\n",
        "  for i in range(len(l)):\n",
        "    rapport1 = l[i][3]\n",
        "    x = l[i]\n",
        "    j = i\n",
        "    rapport2 = l[j-1][3]\n",
        "    while j > 0 and rapport2<rapport1 :\n",
        "      l[j] = l[j-1]\n",
        "      j-=1\n",
        "    l[j] = x\n",
        "  return l\n",
        "\n",
        "def sac_a_dos_glouton(poids, valeurs, capacite): \n",
        "  \"\"\"\n",
        "  Retourne la solution gloutonne au problème du sac à dos\n",
        "  \"\"\"\n",
        "  l = []\n",
        "  for i in range(len(poids)): \n",
        "    l.append([i,poids[i],valeurs[i],valeurs[i]/poids[i]])\n",
        "  l = tri(l)\n",
        "  cpt = 0\n",
        "  for i in l:\n",
        "    poidsCourant = i[1] \n",
        "    valeurCourante = i[2] \n",
        "    if capacite - poidsCourant >= 0: \n",
        "      capacite -= poidsCourant \n",
        "      cpt += valeurCourante\n",
        "  return cpt \n",
        "\n",
        "print('La valeur maximale pouvant être contenue dans le sac à dos est de :',sac_a_dos_glouton(poids, valeurs, capacite))"
      ],
      "execution_count": 17,
      "outputs": [
        {
          "output_type": "stream",
          "text": [
            "La valeur maximale pouvant être contenue dans le sac à dos est de : 120\n"
          ],
          "name": "stdout"
        }
      ]
    },
    {
      "cell_type": "markdown",
      "metadata": {
        "id": "KZDBKkW1y4Bg"
      },
      "source": [
        "Cette solution est rapide, mais ne fonctionne pas sur toutes les entrées. Dans ce cas précis, nous avons sélectionné les objets suivants :"
      ]
    },
    {
      "cell_type": "code",
      "metadata": {
        "colab": {
          "base_uri": "https://localhost:8080/"
        },
        "id": "4aDcvIXkzl1T",
        "outputId": "f46d9944-3aa7-4ea3-db98-c2b618990220"
      },
      "source": [
        "def sac_a_dos_glouton(poids, valeurs, capacite): \n",
        "  \"\"\"\n",
        "  Retourne la solution gloutonne au problème du sac à dos\n",
        "  \"\"\"\n",
        "  l = []\n",
        "  for i in range(len(poids)): \n",
        "    l.append([i,poids[i],valeurs[i],valeurs[i]/poids[i]])\n",
        "  print('Liste des objets et rapport valeur/poids',l)\n",
        "  l = tri(l)\n",
        "  cpt = 0\n",
        "  for i in l:\n",
        "    poidsCourant = i[1] \n",
        "    valeurCourante = i[2] \n",
        "    if capacite - poidsCourant >= 0: \n",
        "      capacite -= poidsCourant \n",
        "      cpt += valeurCourante\n",
        "      print(\"Ajout de l'objet\",i[0],'de valeur',i[1],'et de poids',i[2])\n",
        "  return cpt \n",
        "\n",
        "print('La valeur maximale pouvant être contenue dans le sac à dos est de :',sac_a_dos_glouton(poids, valeurs, capacite))"
      ],
      "execution_count": 32,
      "outputs": [
        {
          "output_type": "stream",
          "text": [
            "Liste des objets et rapport valeur/poids [[0, 1, 10, 10.0], [1, 5, 50, 10.0], [2, 3, 20, 6.666666666666667], [3, 2, 30, 15.0], [4, 4, 60, 15.0]]\n",
            "Ajout de l'objet 4 de valeur 4 et de poids 60\n",
            "Ajout de l'objet 3 de valeur 2 et de poids 30\n",
            "Ajout de l'objet 0 de valeur 1 et de poids 10\n",
            "Ajout de l'objet 2 de valeur 3 et de poids 20\n",
            "La valeur maximale pouvant être contenue dans le sac à dos est de : 120\n"
          ],
          "name": "stdout"
        }
      ]
    },
    {
      "cell_type": "markdown",
      "metadata": {
        "id": "owlUdVl-0ios"
      },
      "source": [
        "Une meilleure solution consiste à sélectionner les objets d'indice 1, 3 et 4, dont le poids est de 5 + 2 + 4 = 11 et la valeur est de 50 + 30 + 60 = 140.\n",
        "\n",
        "2. **Solution optimale**\n",
        "\n",
        "Plusieurs algorithmes permettent d'obtenir la solution optimale, mais ceux-ci demandent un temps de calcul souvent beaucoup plus long.\n",
        "\n",
        "Une solution célèbre est l'algorithme **branch and bound** qui applique une sorte de résolution par force brute, mais en ne sélectionnant que les combinaisons qui sont potentiellement de bonne qualité et en n'explorant pas les pistes qui ne peuvent pas conduire à améliorer la solution courante.\n",
        "\n",
        "Une autre solution est d'utiliser la **programmation dynamique**, en décomposant le problème en sous-problèmes et en faisant appel à de la récursivité. On essaie de résoudre le problème seulement sur ses i premiers objets à partir de la solution optimale obtenue sur les i-1 premiers objets. Pour chaque i, on décide de l'ajouter au sac à dos ou non.\n",
        "\n",
        "Utilisons un module qui permet de résoudre le problème du cas à dos en programmation dynamique."
      ]
    },
    {
      "cell_type": "code",
      "metadata": {
        "id": "qS_yNpNp77GN"
      },
      "source": [
        "import knapsack"
      ],
      "execution_count": null,
      "outputs": []
    },
    {
      "cell_type": "markdown",
      "metadata": {
        "id": "Gpq70spvrksr"
      },
      "source": [
        "En cas d'erreur sur ce bloc d'instructions, lancez l'installation des modules matplotlib et networkx, redémarrez le noyau, puis re-exécutez la dernière cellule de code."
      ]
    },
    {
      "cell_type": "code",
      "metadata": {
        "id": "ezs0xjL46fOf"
      },
      "source": [
        "import sys  \n",
        "!{sys.executable} -m pip install --user knapsack"
      ],
      "execution_count": null,
      "outputs": []
    },
    {
      "cell_type": "markdown",
      "metadata": {
        "id": "2FxAgsq78Zjj"
      },
      "source": [
        "Résolvons maintenant le problème :"
      ]
    },
    {
      "cell_type": "code",
      "metadata": {
        "colab": {
          "base_uri": "https://localhost:8080/"
        },
        "id": "_mp0vgyi6gtQ",
        "outputId": "152a3224-93c4-4394-c2d8-4e0fac6d49f3"
      },
      "source": [
        "knapsack.knapsack(valeurs, poids, capacite)"
      ],
      "execution_count": 57,
      "outputs": [
        {
          "output_type": "stream",
          "text": [
            "(140.0, [1, 3, 4])\n"
          ],
          "name": "stdout"
        }
      ]
    }
  ]
}