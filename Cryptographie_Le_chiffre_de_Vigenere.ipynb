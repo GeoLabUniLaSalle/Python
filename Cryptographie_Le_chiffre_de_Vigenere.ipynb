{
  "nbformat": 4,
  "nbformat_minor": 0,
  "metadata": {
    "colab": {
      "name": "Cryptographie - Le chiffre de Vigenere.ipynb",
      "provenance": [],
      "collapsed_sections": [],
      "authorship_tag": "ABX9TyPYCXr8n7nQ6PMJRlfNUk1C",
      "include_colab_link": true
    },
    "kernelspec": {
      "name": "python3",
      "display_name": "Python 3"
    },
    "language_info": {
      "name": "python"
    }
  },
  "cells": [
    {
      "cell_type": "markdown",
      "metadata": {
        "id": "view-in-github",
        "colab_type": "text"
      },
      "source": [
        "<a href=\"https://colab.research.google.com/github/GeoLabUniLaSalle/Python/blob/main/Cryptographie_Le_chiffre_de_Vigenere.ipynb\" target=\"_parent\"><img src=\"https://colab.research.google.com/assets/colab-badge.svg\" alt=\"Open In Colab\"/></a>"
      ]
    },
    {
      "cell_type": "markdown",
      "metadata": {
        "id": "SWXYl10yVp2p"
      },
      "source": [
        "# **Introduction à la cryptographie**\n",
        "\n",
        "Dans ce chapitre, nous allons introduire la notion de **cryptograhie** et découvrir quelques algorithme de **chiffrement faible**\n",
        "\n",
        "Le chiffrement est un procédé de cryptographie qui consiste à rendre un document illisible à toute personne ne possédant pas la **clé** de déchiffrement.\n",
        "\n",
        "Ici, nous allons découvrir le fonctionnement du **chiffre de Vigenère** qui est un système de **chiffrement par substitution polyalphanumérique**, **résistant à l'analyse de fréquences**.\n",
        "\n",
        "Ici, l'idée est de définir un clé qui peut être un mot, une phrase, ou un paragraphe, et de décaler chaque lettre du texte à coder avec les lettres de la clé.\n",
        "\n",
        "Prenons un exemple, avec la clé 'super' et le texte 'J'aime Python' à chiffrer. La clé est répétée autant de fois que nécessaire :\n",
        "\n",
        "![Capture d’écran 2021-07-19 à 18.02.26.png](data:image/png;base64,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)\n",
        "\n",
        "Ainsi, le texte 'j'aime le python' devient 'b'pmdw ai hsilff', et il n'est plus possible de détecter que des mots se terminent par la même lettre ('e' qui est converti en 'w' puis en 'i', et des lettres identiques qui se suivent ne donnent aucun indice ('ff' en fin du mot traduit, alors que les lettres d'origine sont différente : 'on').\n"
      ]
    },
    {
      "cell_type": "code",
      "metadata": {
        "colab": {
          "base_uri": "https://localhost:8080/"
        },
        "id": "hQdzj20AaQRw",
        "outputId": "6ee1c2c8-e357-43f4-b87f-b3ab7620f0ec"
      },
      "source": [
        "from string import ascii_lowercase, ascii_uppercase\n",
        "print(ascii_lowercase)\n",
        "print(ascii_uppercase)"
      ],
      "execution_count": 2,
      "outputs": [
        {
          "output_type": "stream",
          "text": [
            "abcdefghijklmnopqrstuvwxyz\n",
            "ABCDEFGHIJKLMNOPQRSTUVWXYZ\n"
          ],
          "name": "stdout"
        }
      ]
    },
    {
      "cell_type": "markdown",
      "metadata": {
        "id": "HK2je7xFaTBE"
      },
      "source": [
        "En cas d'erreur sur ce bloc d'instructions, lancez l'installation du module string, redémarrez le noyau, puis re-exécutez la dernière cellule de code."
      ]
    },
    {
      "cell_type": "code",
      "metadata": {
        "id": "I3B254dbaWW8"
      },
      "source": [
        "import sys  \n",
        "!{sys.executable} -m pip install --user string"
      ],
      "execution_count": null,
      "outputs": []
    },
    {
      "cell_type": "markdown",
      "metadata": {
        "id": "tUPAuk4Dbpfw"
      },
      "source": [
        "Si nous cherchons à traduire le mot 'python' avec la clé 'super', commençons par chercher ce que donne la somme des lettres 'p' et 's'.\n",
        "Nous devons trouver le numéro des deux lettres, les additionner, et retrouver la lettre obtenue :"
      ]
    },
    {
      "cell_type": "code",
      "metadata": {
        "colab": {
          "base_uri": "https://localhost:8080/"
        },
        "id": "TMEmVBD7cWCp",
        "outputId": "7c61736d-c041-4fe9-c4d7-2ceba8b18b4c"
      },
      "source": [
        "lower = ascii_lowercase\n",
        "upper = ascii_uppercase\n",
        "iMot = lower.index('j')\n",
        "print(\"indice de la lettre 'j' : \",iMot)\n",
        "iCle = lower.index('s')\n",
        "print(\"indice de la lettre 's' : \",iCle)\n",
        "iCode = iMot + iCle\n",
        "print(\"indice de la somme des lettres 'j' et 's' : \",iCode)\n",
        "iCode2 = iCode % 26\n",
        "print(\"indice de la somme des lettres 'j' et 's' sans erreur : \",iCode2)\n",
        "lettre = lower[iCode2]\n",
        "print(\"lettre chiffrée : \",lettre)"
      ],
      "execution_count": 35,
      "outputs": [
        {
          "output_type": "stream",
          "text": [
            "indice de la lettre 'j' :  9\n",
            "indice de la lettre 's' :  18\n",
            "indice de la somme des lettres 'j' et 's' :  27\n",
            "indice de la somme des lettres 'j' et 's' sans erreur :  1\n",
            "lettre chiffrée :  b\n"
          ],
          "name": "stdout"
        }
      ]
    },
    {
      "cell_type": "markdown",
      "metadata": {
        "id": "ss_ueRDMaYAq"
      },
      "source": [
        "Voici maintenant la fonction de Vigenère reprenant ces principes :"
      ]
    },
    {
      "cell_type": "code",
      "metadata": {
        "id": "Do9jK1ZLVpKF"
      },
      "source": [
        "def vigenere(x,cle):\n",
        "  \"\"\"\n",
        "  Retourne x chiffré avec le chiffre de Vigenère et le texte cle\n",
        "  \"\"\"\n",
        "  code=\"\"\n",
        "  for i in range(len(x)):\n",
        "    if x[i] in lower:\n",
        "      code += lower[(lower.index(x[i])+lower.index(cle[i%len(cle)]))%26]\n",
        "    elif x[i] in upper:\n",
        "      code += upper[(upper.index(x[i])+lower.index(cle[i%len(cle)]))%26]\n",
        "    else:\n",
        "      code+=x[i]\n",
        "  return code"
      ],
      "execution_count": 39,
      "outputs": []
    },
    {
      "cell_type": "markdown",
      "metadata": {
        "id": "LsxAYttcg1zF"
      },
      "source": [
        "Chiffrons le texte 'j'aime le python' avec la clé 'super' :"
      ]
    },
    {
      "cell_type": "code",
      "metadata": {
        "colab": {
          "base_uri": "https://localhost:8080/"
        },
        "id": "NKhF2RsWaPg-",
        "outputId": "cf730efa-04e1-49ff-dd9c-3f61e06329c7"
      },
      "source": [
        "code = vigenere(\"j'aime le python\",'super')\n",
        "print(code)"
      ],
      "execution_count": 40,
      "outputs": [
        {
          "output_type": "stream",
          "text": [
            "b'pmdw ai hsilff\n"
          ],
          "name": "stdout"
        }
      ]
    },
    {
      "cell_type": "markdown",
      "metadata": {
        "id": "GZrOialZg9P-"
      },
      "source": [
        "Pour décoder, on réalise une soustraction :"
      ]
    },
    {
      "cell_type": "code",
      "metadata": {
        "id": "PtWt0Dagg_yc"
      },
      "source": [
        "def decode_vigenere(x,cle):\n",
        "  \"\"\"\n",
        "  Retourne x chiffré avec le chiffre de Vigenère et le texte cle\n",
        "  \"\"\"\n",
        "  code=\"\"\n",
        "  for i in range(len(x)):\n",
        "    if x[i] in lower:\n",
        "      code += lower[(lower.index(x[i])-lower.index(cle[i%len(cle)]))%26]\n",
        "    elif x[i] in upper:\n",
        "      code += upper[(upper.index(x[i])-lower.index(cle[i%len(cle)]))%26]\n",
        "    else:\n",
        "      code+=x[i]\n",
        "  return code"
      ],
      "execution_count": 38,
      "outputs": []
    },
    {
      "cell_type": "code",
      "metadata": {
        "colab": {
          "base_uri": "https://localhost:8080/"
        },
        "id": "SFEeIZ79hBRa",
        "outputId": "0e328e7e-fa07-440c-88e1-3db4b6a5ff5a"
      },
      "source": [
        "decode = decode_vigenere(code,'super')\n",
        "print(decode)"
      ],
      "execution_count": 44,
      "outputs": [
        {
          "output_type": "stream",
          "text": [
            "j'aime le python\n"
          ],
          "name": "stdout"
        }
      ]
    }
  ]
}