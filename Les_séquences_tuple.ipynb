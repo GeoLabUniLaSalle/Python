{
  "nbformat": 4,
  "nbformat_minor": 0,
  "metadata": {
    "colab": {
      "name": "Les séquences tuple.ipynb",
      "provenance": [],
      "collapsed_sections": [],
      "authorship_tag": "ABX9TyMv9zAhkf4yhY3PhK2BzM7P",
      "include_colab_link": true
    },
    "kernelspec": {
      "name": "python3",
      "display_name": "Python 3"
    }
  },
  "cells": [
    {
      "cell_type": "markdown",
      "metadata": {
        "id": "view-in-github",
        "colab_type": "text"
      },
      "source": [
        "<a href=\"https://colab.research.google.com/github/GeoLabUniLaSalle/Python/blob/main/Les_s%C3%A9quences_tuple.ipynb\" target=\"_parent\"><img src=\"https://colab.research.google.com/assets/colab-badge.svg\" alt=\"Open In Colab\"/></a>"
      ]
    },
    {
      "cell_type": "markdown",
      "metadata": {
        "id": "8cZW0eKDCWl8"
      },
      "source": [
        "## **Les séquences : tuple**\n",
        "\n",
        "Dans ce chapitre, nous allons étudier le fonctionnement des séquences, et plus particulièrement du type tuple.\n",
        "\n",
        "Les tuple sont des **séquences** d'objets **immuables** **heterogènes**. On dit que le type tuple est heterogène parce que les objets de la séquence peuvent être de types différents (int, float, bool, str, list, tuple, ...).\n",
        "\n",
        "Commençons par créer un variable de type tuple et vérifions son type."
      ]
    },
    {
      "cell_type": "code",
      "metadata": {
        "colab": {
          "base_uri": "https://localhost:8080/"
        },
        "id": "pfv9UAPPCGJA",
        "outputId": "164f5a67-187e-46f0-923f-29568910dd18"
      },
      "source": [
        "t = ()\n",
        "type(t)"
      ],
      "execution_count": 1,
      "outputs": [
        {
          "output_type": "execute_result",
          "data": {
            "text/plain": [
              "tuple"
            ]
          },
          "metadata": {
            "tags": []
          },
          "execution_count": 1
        }
      ]
    },
    {
      "cell_type": "markdown",
      "metadata": {
        "id": "_jAxbUouC_8l"
      },
      "source": [
        "Examinons maintenant la représentation interne de t :"
      ]
    },
    {
      "cell_type": "code",
      "metadata": {
        "colab": {
          "base_uri": "https://localhost:8080/"
        },
        "id": "Ma3smSzbC78Z",
        "outputId": "a77336d7-7662-4b7e-932a-a70487e2a0fa"
      },
      "source": [
        "t"
      ],
      "execution_count": 2,
      "outputs": [
        {
          "output_type": "execute_result",
          "data": {
            "text/plain": [
              "()"
            ]
          },
          "metadata": {
            "tags": []
          },
          "execution_count": 2
        }
      ]
    },
    {
      "cell_type": "markdown",
      "metadata": {
        "id": "J1FGnNY0DDSM"
      },
      "source": [
        "Les symboles ( ) indiquent que t est de type tuple.\n",
        "\n",
        "Recréons maintenant le tuple t en lui attribuant une première valeur."
      ]
    },
    {
      "cell_type": "code",
      "metadata": {
        "colab": {
          "base_uri": "https://localhost:8080/"
        },
        "id": "gGcSMjp3C-7X",
        "outputId": "2654a7f1-dc60-44b5-9aea-d51c3a335055"
      },
      "source": [
        "t = (6,)\n",
        "print(t)\n",
        "type(t)"
      ],
      "execution_count": 5,
      "outputs": [
        {
          "output_type": "stream",
          "text": [
            "(6,)\n"
          ],
          "name": "stdout"
        },
        {
          "output_type": "execute_result",
          "data": {
            "text/plain": [
              "tuple"
            ]
          },
          "metadata": {
            "tags": []
          },
          "execution_count": 5
        }
      ]
    },
    {
      "cell_type": "markdown",
      "metadata": {
        "id": "bEiis8s-DT5g"
      },
      "source": [
        "La virgule est obligatoire si le tuple ne contient qu'une seul élément pour qu'il n'y ait pas de confusion possible avec le type entier.\n",
        "\n",
        "Modifions maintenant t en lui attribuant plusieurs éléments et affichons son contenu."
      ]
    },
    {
      "cell_type": "code",
      "metadata": {
        "colab": {
          "base_uri": "https://localhost:8080/"
        },
        "id": "YkG9lekQDQ4N",
        "outputId": "c819b8af-9497-4d1e-a90d-7ed555590b12"
      },
      "source": [
        "t = (6,False,'hello',7.3)\n",
        "t"
      ],
      "execution_count": 6,
      "outputs": [
        {
          "output_type": "execute_result",
          "data": {
            "text/plain": [
              "(6, False, 'hello', 7.3)"
            ]
          },
          "metadata": {
            "tags": []
          },
          "execution_count": 6
        }
      ]
    },
    {
      "cell_type": "markdown",
      "metadata": {
        "id": "vq_gjCM-Dret"
      },
      "source": [
        "Nos pouvons aussi créer des tuple sans se servir des parenthèses :"
      ]
    },
    {
      "cell_type": "code",
      "metadata": {
        "colab": {
          "base_uri": "https://localhost:8080/"
        },
        "id": "X7JOD9d9DmtH",
        "outputId": "d77dd93b-a1f5-41da-bcc4-8383c4ab5f29"
      },
      "source": [
        "t = 6,\n",
        "print(t)\n",
        "t = 6,False,'hello',7.3\n",
        "print(t)"
      ],
      "execution_count": 8,
      "outputs": [
        {
          "output_type": "stream",
          "text": [
            "(6,)\n",
            "(6, False, 'hello', 7.3)\n"
          ],
          "name": "stdout"
        }
      ]
    },
    {
      "cell_type": "markdown",
      "metadata": {
        "id": "wV7TqqYzELOd"
      },
      "source": [
        "Le type tuple est une séquence et nous pouvons donc utiliser toutes les fonctions et opoérations liées aux séquences :"
      ]
    },
    {
      "cell_type": "code",
      "metadata": {
        "colab": {
          "base_uri": "https://localhost:8080/"
        },
        "id": "3P-OnX_VD3Y4",
        "outputId": "656de5b0-5bee-4fcd-d4a4-a65b84b4c067"
      },
      "source": [
        "print(6 in t)\n",
        "print(8.1 in t)\n",
        "print(t[2])\n",
        "print(t[1:3])"
      ],
      "execution_count": 10,
      "outputs": [
        {
          "output_type": "stream",
          "text": [
            "True\n",
            "False\n",
            "hello\n",
            "(False, 'hello')\n"
          ],
          "name": "stdout"
        }
      ]
    },
    {
      "cell_type": "markdown",
      "metadata": {
        "id": "HzSKKmFqEqdy"
      },
      "source": [
        "Le type tuple est **immuable**, il n'est pas possible de modifier son contenu directement :"
      ]
    },
    {
      "cell_type": "code",
      "metadata": {
        "colab": {
          "base_uri": "https://localhost:8080/",
          "height": 164
        },
        "id": "cEu_JLmKEhZF",
        "outputId": "912942ee-4848-4224-9c97-a56785d5b6d9"
      },
      "source": [
        "t[1] = True"
      ],
      "execution_count": 11,
      "outputs": [
        {
          "output_type": "error",
          "ename": "TypeError",
          "evalue": "ignored",
          "traceback": [
            "\u001b[0;31m---------------------------------------------------------------------------\u001b[0m",
            "\u001b[0;31mTypeError\u001b[0m                                 Traceback (most recent call last)",
            "\u001b[0;32m<ipython-input-11-9cba5e46a0ec>\u001b[0m in \u001b[0;36m<module>\u001b[0;34m()\u001b[0m\n\u001b[0;32m----> 1\u001b[0;31m \u001b[0mt\u001b[0m\u001b[0;34m[\u001b[0m\u001b[0;36m1\u001b[0m\u001b[0;34m]\u001b[0m \u001b[0;34m=\u001b[0m \u001b[0;32mTrue\u001b[0m\u001b[0;34m\u001b[0m\u001b[0;34m\u001b[0m\u001b[0m\n\u001b[0m",
            "\u001b[0;31mTypeError\u001b[0m: 'tuple' object does not support item assignment"
          ]
        }
      ]
    },
    {
      "cell_type": "markdown",
      "metadata": {
        "id": "EI5W5kaYE178"
      },
      "source": [
        "Une solution pour modifier son contenu est de convertir le tuple en list, puis reconvertir la list en tuple après avoir réalisé la modification :"
      ]
    },
    {
      "cell_type": "code",
      "metadata": {
        "colab": {
          "base_uri": "https://localhost:8080/"
        },
        "id": "BmTtCEE7Ez_2",
        "outputId": "820b4810-e4dc-4b92-ddf7-ee86a7c8ddad"
      },
      "source": [
        "l = list(t)\n",
        "print(l)\n",
        "l[1] = True\n",
        "print(l)\n",
        "t = tuple(l)\n",
        "print(t)"
      ],
      "execution_count": 12,
      "outputs": [
        {
          "output_type": "stream",
          "text": [
            "[6, False, 'hello', 7.3]\n",
            "[6, True, 'hello', 7.3]\n",
            "(6, True, 'hello', 7.3)\n"
          ],
          "name": "stdout"
        }
      ]
    },
    {
      "cell_type": "markdown",
      "metadata": {
        "id": "4lcaLyG7FMd0"
      },
      "source": [
        "Ici, t est un nouveau tuple créé à partir de l.\n",
        "\n",
        "Il n'est pas non plus possible d'utiliser les méthodes de list pour modifier un tuple :"
      ]
    },
    {
      "cell_type": "code",
      "metadata": {
        "colab": {
          "base_uri": "https://localhost:8080/",
          "height": 164
        },
        "id": "jCBg-w2VFJgP",
        "outputId": "d44c115a-cf33-4c28-9af3-d19e44c1fc3b"
      },
      "source": [
        "t.append(42)"
      ],
      "execution_count": 13,
      "outputs": [
        {
          "output_type": "error",
          "ename": "AttributeError",
          "evalue": "ignored",
          "traceback": [
            "\u001b[0;31m---------------------------------------------------------------------------\u001b[0m",
            "\u001b[0;31mAttributeError\u001b[0m                            Traceback (most recent call last)",
            "\u001b[0;32m<ipython-input-13-f015ee2b60c8>\u001b[0m in \u001b[0;36m<module>\u001b[0;34m()\u001b[0m\n\u001b[0;32m----> 1\u001b[0;31m \u001b[0mt\u001b[0m\u001b[0;34m.\u001b[0m\u001b[0mappend\u001b[0m\u001b[0;34m(\u001b[0m\u001b[0;36m42\u001b[0m\u001b[0;34m)\u001b[0m\u001b[0;34m\u001b[0m\u001b[0;34m\u001b[0m\u001b[0m\n\u001b[0m",
            "\u001b[0;31mAttributeError\u001b[0m: 'tuple' object has no attribute 'append'"
          ]
        }
      ]
    },
    {
      "cell_type": "markdown",
      "metadata": {
        "id": "o9EKdSCiFcNn"
      },
      "source": [
        "Nous avons recours à la même astuce pour utiliser ces méthodes :"
      ]
    },
    {
      "cell_type": "code",
      "metadata": {
        "colab": {
          "base_uri": "https://localhost:8080/"
        },
        "id": "MKMirnitFgRJ",
        "outputId": "5c877d3d-5caa-4585-b9b8-f2a694fa8250"
      },
      "source": [
        "l = list(t)\n",
        "print(l)\n",
        "l.append(42)\n",
        "print(l)\n",
        "t = tuple(l)\n",
        "print(t)"
      ],
      "execution_count": 14,
      "outputs": [
        {
          "output_type": "stream",
          "text": [
            "[6, True, 'hello', 7.3]\n",
            "[6, True, 'hello', 7.3, 42]\n",
            "(6, True, 'hello', 7.3, 42)\n"
          ],
          "name": "stdout"
        }
      ]
    },
    {
      "cell_type": "markdown",
      "metadata": {
        "id": "vJr8-wg_FqPR"
      },
      "source": [
        "Le type tuple permet de réaliser des tris efficaces.\n",
        "\n",
        "Créons une list de tuple qui associe des noms d'étudiants à deux notes qu'ils ont obtenues :"
      ]
    },
    {
      "cell_type": "code",
      "metadata": {
        "colab": {
          "base_uri": "https://localhost:8080/"
        },
        "id": "84cEFEFFFpys",
        "outputId": "6e880825-3e3c-4dcc-f1d6-dae2b8a82e5b"
      },
      "source": [
        "notes = [('Thomas',14.6,13.8),('Antoine',15.9,14.0),('Camille',8.4,10.5),('Marion',11.3,16.2),('Anne',14.6,11.1),('Quentin',13.6,9.7)]\n",
        "notes"
      ],
      "execution_count": 25,
      "outputs": [
        {
          "output_type": "execute_result",
          "data": {
            "text/plain": [
              "[('Thomas', 14.6, 13.8),\n",
              " ('Antoine', 15.9, 14.0),\n",
              " ('Camille', 8.4, 10.5),\n",
              " ('Marion', 11.3, 16.2),\n",
              " ('Anne', 14.6, 11.1),\n",
              " ('Quentin', 13.6, 9.7)]"
            ]
          },
          "metadata": {
            "tags": []
          },
          "execution_count": 25
        }
      ]
    },
    {
      "cell_type": "markdown",
      "metadata": {
        "id": "5X-JHlxPIESE"
      },
      "source": [
        "Trions cette liste par ordre alphabétique grâce à la méthode sort() qui peut prendre en paramètre une clé qui indique sur quel critère le tri doit être effectué."
      ]
    },
    {
      "cell_type": "code",
      "metadata": {
        "colab": {
          "base_uri": "https://localhost:8080/"
        },
        "id": "a1j54gi7FaCi",
        "outputId": "3bfb2e5c-04db-4299-ddfb-ac1221b6c442"
      },
      "source": [
        "notes.sort(key = lambda x:x[0]) # 0 indique que le tri est réalisé sur l'élément d'indice 0 (le premier élément) de chaque tuple\n",
        "notes"
      ],
      "execution_count": 26,
      "outputs": [
        {
          "output_type": "execute_result",
          "data": {
            "text/plain": [
              "[('Anne', 14.6, 11.1),\n",
              " ('Antoine', 15.9, 14.0),\n",
              " ('Camille', 8.4, 10.5),\n",
              " ('Marion', 11.3, 16.2),\n",
              " ('Quentin', 13.6, 9.7),\n",
              " ('Thomas', 14.6, 13.8)]"
            ]
          },
          "metadata": {
            "tags": []
          },
          "execution_count": 26
        }
      ]
    },
    {
      "cell_type": "markdown",
      "metadata": {
        "id": "5k0vTBKrJy0R"
      },
      "source": [
        "Nous pouvons trier sur la première valeur numérique :"
      ]
    },
    {
      "cell_type": "code",
      "metadata": {
        "colab": {
          "base_uri": "https://localhost:8080/"
        },
        "id": "U3LXbxJKJ9sj",
        "outputId": "a74b03c3-1a03-4a65-ae4c-b8a2ee50ae84"
      },
      "source": [
        "notes.sort(key = lambda x:x[1]) # 1 indique que le tri est réalisé sur l'élément d'indice 1 (le second élément) de chaque tuple\n",
        "notes"
      ],
      "execution_count": 27,
      "outputs": [
        {
          "output_type": "execute_result",
          "data": {
            "text/plain": [
              "[('Camille', 8.4, 10.5),\n",
              " ('Marion', 11.3, 16.2),\n",
              " ('Quentin', 13.6, 9.7),\n",
              " ('Anne', 14.6, 11.1),\n",
              " ('Thomas', 14.6, 13.8),\n",
              " ('Antoine', 15.9, 14.0)]"
            ]
          },
          "metadata": {
            "tags": []
          },
          "execution_count": 27
        }
      ]
    },
    {
      "cell_type": "markdown",
      "metadata": {
        "id": "rvKnfGhbKEKY"
      },
      "source": [
        "Nous pouvons trier sur la seconde valeur numérique en cas d'égalité sur la première valeur numérique :"
      ]
    },
    {
      "cell_type": "code",
      "metadata": {
        "colab": {
          "base_uri": "https://localhost:8080/"
        },
        "id": "Li680R3sKAv-",
        "outputId": "8cf2b550-7f59-4208-89ea-d61324614978"
      },
      "source": [
        "notes.sort(key = lambda x:x[2]) # Tri sur la seconde note\n",
        "notes.sort(key = lambda x:x[1]) # Tri sur la première note\n",
        "notes"
      ],
      "execution_count": 28,
      "outputs": [
        {
          "output_type": "execute_result",
          "data": {
            "text/plain": [
              "[('Camille', 8.4, 10.5),\n",
              " ('Marion', 11.3, 16.2),\n",
              " ('Quentin', 13.6, 9.7),\n",
              " ('Anne', 14.6, 11.1),\n",
              " ('Thomas', 14.6, 13.8),\n",
              " ('Antoine', 15.9, 14.0)]"
            ]
          },
          "metadata": {
            "tags": []
          },
          "execution_count": 28
        }
      ]
    },
    {
      "cell_type": "markdown",
      "metadata": {
        "id": "U9n4ZiTkKmS9"
      },
      "source": [
        "Nous pouvons aussi trier par la somme des notes :"
      ]
    },
    {
      "cell_type": "code",
      "metadata": {
        "colab": {
          "base_uri": "https://localhost:8080/"
        },
        "id": "R-cdbhihKjtB",
        "outputId": "a5f54d82-b927-4958-faff-dfc67dc8a9f2"
      },
      "source": [
        "notes.sort(key = lambda x:x[1] + x[2])\n",
        "notes"
      ],
      "execution_count": 29,
      "outputs": [
        {
          "output_type": "execute_result",
          "data": {
            "text/plain": [
              "[('Camille', 8.4, 10.5),\n",
              " ('Quentin', 13.6, 9.7),\n",
              " ('Anne', 14.6, 11.1),\n",
              " ('Marion', 11.3, 16.2),\n",
              " ('Thomas', 14.6, 13.8),\n",
              " ('Antoine', 15.9, 14.0)]"
            ]
          },
          "metadata": {
            "tags": []
          },
          "execution_count": 29
        }
      ]
    }
  ]
}