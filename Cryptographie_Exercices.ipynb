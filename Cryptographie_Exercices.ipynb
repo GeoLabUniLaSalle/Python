{
  "nbformat": 4,
  "nbformat_minor": 0,
  "metadata": {
    "colab": {
      "name": "Cryptographie - Exercices.ipynb",
      "provenance": [],
      "collapsed_sections": [],
      "history_visible": true,
      "authorship_tag": "ABX9TyNBcr1O+fVp6fWNNl2bXXy9",
      "include_colab_link": true
    },
    "kernelspec": {
      "name": "python3",
      "display_name": "Python 3"
    },
    "language_info": {
      "name": "python"
    }
  },
  "cells": [
    {
      "cell_type": "markdown",
      "metadata": {
        "id": "view-in-github",
        "colab_type": "text"
      },
      "source": [
        "<a href=\"https://colab.research.google.com/github/GeoLabUniLaSalle/Python/blob/main/Cryptographie_Exercices.ipynb\" target=\"_parent\"><img src=\"https://colab.research.google.com/assets/colab-badge.svg\" alt=\"Open In Colab\"/></a>"
      ]
    },
    {
      "cell_type": "markdown",
      "metadata": {
        "id": "5-CCoKXFZT3Q"
      },
      "source": [
        "## **Exercice 1 : Temps de calcul**\n",
        "\n",
        "**Objectif**\n",
        "\n",
        "Connaissant le texte d'origine, le même texte chiffré, et l'algorithme de cryptographie utilisé, déterminer le temps nécessaire pour découvrir la clé par force brute.\n",
        "Voici les paramètres utiles :\n",
        "\n",
        "*   La clé à déterminer pèse 128 bits\n",
        "*   On estime le nombre d'opérations élémentaires pour chiffrer à 1000\n",
        "*   Nous disposons d'un PC équipé d'un processeur capable d'effectuer 110 000 millions d'instructions par seconde (Intel Core i7-8086K, 2018)\n",
        "\n"
      ]
    },
    {
      "cell_type": "code",
      "metadata": {
        "id": "RMZlzjlxZP20"
      },
      "source": [
        ""
      ],
      "execution_count": null,
      "outputs": []
    },
    {
      "cell_type": "markdown",
      "metadata": {
        "id": "t59zVdvCdC-K"
      },
      "source": [
        "Vous devez trouver 9.8 x 10^22 années.\n",
        "\n",
        "Pour donner un idée, le Big Bang date de 13,7 milliards d'années.\n",
        "\n",
        "Le calcul peut être réparti sur plusieurs ordinateurs mais ça ne suffirait pas...\n",
        "\n",
        "Quelle est la durée du calcul pour une clé codée sur 56 bits ? Et si on réparti le calcul sur 1000 PC ?"
      ]
    },
    {
      "cell_type": "code",
      "metadata": {
        "id": "Nn2X7I4IcXw7"
      },
      "source": [
        ""
      ],
      "execution_count": null,
      "outputs": []
    },
    {
      "cell_type": "markdown",
      "metadata": {
        "id": "PZ7GHOJSeKDB"
      },
      "source": [
        "Un peu moins de 20 ans, et cela descent à 7.5 jours si on fait travailler 1000 processeurs en parallèle sur la tâche. \n",
        "\n",
        "## **Exercice 2 : Chiffrement faible**\n",
        "\n",
        "**Objectif**\n",
        "\n",
        "Un système de cryptage consiste à faire une rotation du texte d'un certain nombre de caractères (vers la droite), puis à ajouter une valeur (avec modulo) à chacun des caractères.\n",
        "\n",
        "Par exemple, si on prend la chaîne \"abcz\", on peut faire une rotation d'un caractère vers la droite, et obtenir \"zabc\", puis ajouter 1 à chaque caractère, et obtenir la chaîne cryptée \"abcd\". \n",
        "\n",
        "Vous devez écrire un programme qui, à partir d'un texte original *a* (donné sous la forme d'une liste ne contenant que des lettres minuscules non accentuées) et d'un texte cryptée *b* (donné sous la même forme, et ayant la même taille), permette de retrouver les deux valeurs utilisées pour le cryptage (on garantit l'unicité de la solution).\n",
        "\n",
        "Voici un exemple :"
      ]
    },
    {
      "cell_type": "code",
      "metadata": {
        "id": "9NG2L4swc3P_"
      },
      "source": [
        "a = ['a','b','c','d']\n",
        "b = ['h','e','f','g']\n",
        "\n",
        "# Code à rédiger"
      ],
      "execution_count": null,
      "outputs": []
    },
    {
      "cell_type": "markdown",
      "metadata": {
        "id": "UKXbgTSK87uC"
      },
      "source": [
        "Dans cet exemple, nous devons trouver :"
      ]
    },
    {
      "cell_type": "code",
      "metadata": {
        "colab": {
          "base_uri": "https://localhost:8080/"
        },
        "id": "ps32SQJ988Cu",
        "outputId": "43c8214e-3cfd-42dd-8501-e84b030ac290"
      },
      "source": [
        "print('1 4')"
      ],
      "execution_count": 1,
      "outputs": [
        {
          "output_type": "stream",
          "name": "stdout",
          "text": [
            "1 4\n"
          ]
        }
      ]
    },
    {
      "cell_type": "markdown",
      "metadata": {
        "id": "7MtSJGew9wYX"
      },
      "source": [
        "En effet, en appliquant une rotation de 1 et une permutation de 4, nous obtenons le texte crypté :"
      ]
    },
    {
      "cell_type": "code",
      "metadata": {
        "colab": {
          "base_uri": "https://localhost:8080/"
        },
        "id": "C7hzSFA296q9",
        "outputId": "9eaa9ed8-f573-4864-f43c-e352f292ebd0"
      },
      "source": [
        "a = ['a','b','c','d']\n",
        "a = a[-1:] + a[:-1]\n",
        "print(a)\n",
        "\n",
        "for i in range(len(a)):\n",
        "  a[i]=str(chr(ord(a[i])+4))\n",
        "print(a)"
      ],
      "execution_count": 7,
      "outputs": [
        {
          "output_type": "stream",
          "name": "stdout",
          "text": [
            "['d', 'a', 'b', 'c']\n",
            "['h', 'e', 'f', 'g']\n"
          ]
        }
      ]
    },
    {
      "cell_type": "markdown",
      "metadata": {
        "id": "DoA4RTKD7vdT"
      },
      "source": [
        "## **Exercice 3 : Permutation alphabétique**\n",
        "\n",
        "**Objectif**\n",
        "\n",
        "Chiffrez le texte 'vive la cryptographie' avec la clé suivante : 'yruhfwlkdxeajitsvznmcpbgqo' et un chiffrement en permutation alphabétique (a remplacé par y, b remplacé par r, etc.)"
      ]
    },
    {
      "cell_type": "code",
      "metadata": {
        "id": "AjDUGq8G7yCG"
      },
      "source": [
        ""
      ],
      "execution_count": null,
      "outputs": []
    },
    {
      "cell_type": "markdown",
      "metadata": {
        "id": "w-0NRLONgls9"
      },
      "source": [
        "Vous devez obtenir : 'pdpf ay uzqsmtlzyskdf'\n",
        "\n",
        "## **Exercice 4 : Le chiffre de Vigenère**\n",
        "\n",
        "**Objectif**\n",
        "\n",
        "Chiffrez le texte 'vive la cryptographie' avec la clé 'python'."
      ]
    },
    {
      "cell_type": "code",
      "metadata": {
        "id": "XlCUROW5fpHl"
      },
      "source": [
        ""
      ],
      "execution_count": null,
      "outputs": []
    },
    {
      "cell_type": "markdown",
      "metadata": {
        "id": "tY_4VK56hS40"
      },
      "source": [
        "Vous devez obtenir 'kgol yp vymcimzyocwgx'.\n",
        "\n",
        "Retrouvez maintenant le texte en clair associé au texte 'vn jsbgx puov zvjflirwhv' qui a été chiffré avec la clé 'baguette'."
      ]
    },
    {
      "cell_type": "code",
      "metadata": {
        "id": "xvEvxo48gM_D"
      },
      "source": [
        ""
      ],
      "execution_count": null,
      "outputs": []
    },
    {
      "cell_type": "markdown",
      "metadata": {
        "id": "UCHyk8w6hrVb"
      },
      "source": [
        "Vous devez obtenir 'un point pour griffondor !'.\n",
        "\n",
        "Retrouvez enfin la clé associée au texte 'un point pour griffondor' dont la version chiffrée est 'kh srqgv ficu okkmvivgrz !'."
      ]
    },
    {
      "cell_type": "code",
      "metadata": {
        "id": "9AFK8T6XgV8R"
      },
      "source": [
        ""
      ],
      "execution_count": null,
      "outputs": []
    },
    {
      "cell_type": "markdown",
      "metadata": {
        "id": "ynPpI4iIiUAM"
      },
      "source": [
        "La réponse est 'quidditch'.\n",
        "\n",
        "\n",
        "## **Conclusion**\n",
        "\n",
        "Les algorithmes vus dans ce chapitre sont dits **symétriques** parce qu'ils utilisent une seule et même clé pour **chiffer** et pour **déchiffrer**.\n",
        "\n",
        "Le défaut de cette technique est que la clé doit rester **confidentielle**. Si une autre personne que le correspondant a accès à la clé, il sera capable de lire de texte en clair, et de produire de faux textes chiffrés à destination du correspondant initial.\n",
        "\n",
        "En pratique, on crée une **clé unique** pour chaque correspondant différent.\n",
        "\n",
        "Les algorithmes vus ici sont les plus simples, il en existe de beaucoup plus élaborés.\n",
        "\n",
        "Par exemple, l'algorithme du **masque jetable** qui reprend le principe du chiffre de Vigenère, mais pour lequel la clé est générée aléatoirement, est forcément d'une taille au moins égale à celle du texte à chiffrer, et n'est pas réutilisable (on génère une nouvelle clé pour chaque texte à chiffrer, même pour un même correspondant).\n",
        "\n",
        "D'autres algorithmes de chiffrement symétrique sont actuellement utilisés en pratique, comme AES qui est le **standard actuel**. AES (Advanced Encryption Standard) fonctionne avec une clé codée sur 128, 192 ou 256 bits stockée dans une matrice sur laquelle on opère des opérations (rotation, multiplication, opérations logiques) pour chiffrer les messages.\n",
        "\n"
      ]
    }
  ]
}