{
  "nbformat": 4,
  "nbformat_minor": 0,
  "metadata": {
    "colab": {
      "name": "Labyrinthe - Generation.ipynb",
      "provenance": [],
      "collapsed_sections": [],
      "authorship_tag": "ABX9TyMdA70Tyg8nfXSratauXXEt",
      "include_colab_link": true
    },
    "kernelspec": {
      "name": "python3",
      "display_name": "Python 3"
    }
  },
  "cells": [
    {
      "cell_type": "markdown",
      "metadata": {
        "id": "view-in-github",
        "colab_type": "text"
      },
      "source": [
        "<a href=\"https://colab.research.google.com/github/GeoLabUniLaSalle/Python/blob/main/Labyrinthe_Generation.ipynb\" target=\"_parent\"><img src=\"https://colab.research.google.com/assets/colab-badge.svg\" alt=\"Open In Colab\"/></a>"
      ]
    },
    {
      "cell_type": "markdown",
      "metadata": {
        "id": "J4hds6Mdj9tI"
      },
      "source": [
        "# **Labyrinthe - Génération**\n",
        "\n",
        "Nous souhaitons construire un labyrinthe aléatoire.\n",
        "\n",
        "Commençons par importer les modules nécessaires."
      ]
    },
    {
      "cell_type": "code",
      "metadata": {
        "id": "AlN1UGhAkab5"
      },
      "source": [
        "import random as rd\n",
        "import matplotlib.pyplot as plt\n",
        "import time\n",
        "from IPython import display"
      ],
      "execution_count": 4,
      "outputs": []
    },
    {
      "cell_type": "markdown",
      "metadata": {
        "id": "Wcb2wYJHkfWQ"
      },
      "source": [
        "En cas d'erreur sur ce bloc d'instructions, lancez l'installation des modules matplotlib et networkx, redémarrez le noyau, puis re-exécutez la dernière cellule de code."
      ]
    },
    {
      "cell_type": "code",
      "metadata": {
        "id": "kAFuL87bmzf5"
      },
      "source": [
        "import sys  \n",
        "!{sys.executable} -m pip install --user matplotlib\n",
        "!{sys.executable} -m pip install --user random\n",
        "!{sys.executable} -m pip install --user time\n",
        "!{sys.executable} -m pip install --user IPython"
      ],
      "execution_count": null,
      "outputs": []
    },
    {
      "cell_type": "markdown",
      "metadata": {
        "id": "vbkN-8FGkmE-"
      },
      "source": [
        "Créons maintenant notre propre labyrinthe, en utilisant :\n",
        "*   Une fonction **voisins** qui retourne la liste des cases voisines d'une case passée en paramètre\n",
        "*   Une liste **labyrinthe** pour stocker les chemins qui composent le labyrinthe. Une case contenant un 0 est un mur et une case contenant un 1 est un chemin\n",
        "*   Un dictionnaire **parcours** qui associe des cases voisines reliées par un chemin sous la forme (x1,y1):(x2,y2) : la case de coordonnées (x1,y1) est reliée à la case de coordonnées (x2,y2) par un chemin\n",
        "\n",
        "Nous utiliserons le parcours en profondeur **DFS** pour construire les associations entre deux cases stockées dans **parcours**.\n",
        "\n"
      ]
    },
    {
      "cell_type": "code",
      "metadata": {
        "colab": {
          "base_uri": "https://localhost:8080/",
          "height": 252
        },
        "id": "Fhl97KAfjxeS",
        "outputId": "08b08998-c17a-4495-e30a-3895b27b9413"
      },
      "source": [
        "# Dimensions du labyrinthe\n",
        "LARGEUR = 20\n",
        "HAUTEUR = 20\n",
        "\n",
        "def voisins(couple):\n",
        "  \"\"\"\n",
        "  Renvoie la liste des cellules voisines\n",
        "  de la cellule 'couple'\n",
        "  \"\"\"\n",
        "  listeVoisins = []\n",
        "  i, j = couple\n",
        "  for d in (-1, 1):\n",
        "    if -1 < i+d < HAUTEUR:\n",
        "      listeVoisins.append((i+d, j))\n",
        "    if   -1 < j+d < LARGEUR:\n",
        "      listeVoisins.append((i, j+d))\n",
        "  return listeVoisins\n",
        "\n",
        "def dfs(s) :\n",
        "  P={s:None}\n",
        "  Q=[s]\n",
        "  while Q:\n",
        "    u=Q[-1]\n",
        "    R=[y for y in voisins(u) if y not in P]\n",
        "    if R :\n",
        "      v=rd.choice(R) # Tire un élément au hasard parmi R (parmi les voisins possibles)\n",
        "      P[v]=u\n",
        "      Q.append(v)\n",
        "    else :\n",
        "      Q.pop()\n",
        "  return P\n",
        "\n",
        "def generer():\n",
        "  labyrinthe = [[0] * (2*LARGEUR+1) for i in range(2*HAUTEUR+1)] # Initialisation du labyrinthe avec des 0 dans toutes les cases\n",
        "  parcours = dfs((0,0)) # Initialisation de parcours avec les couples de cases reliées par un chemin\n",
        "\n",
        "  for i,j in parcours:\n",
        "    labyrinthe[2*i+1][2*j+1] = 1 # On crée un chemin sur toutes les cases du labyrinthe\n",
        "    if (i,j)!=(0,0):\n",
        "      k,l = parcours[(i,j)]\n",
        "      labyrinthe[i+k+1][j+l+1] = 1 # Quand deux cases sont reliées, on crée un chemin reliant ces cases\n",
        "\n",
        "  plt.imshow(labyrinthe) # Affichage du labyrinthe sous la forme d'une image\n",
        "  plt.xticks([])\n",
        "  plt.yticks([])\n",
        "  plt.show()\n",
        "\n",
        "generer()"
      ],
      "execution_count": 5,
      "outputs": [
        {
          "output_type": "display_data",
          "data": {
            "image/png": "[encoded data removed]",
            "text/plain": [
              "<Figure size 432x288 with 1 Axes>"
            ]
          },
          "metadata": {
            "tags": []
          }
        }
      ]
    },
    {
      "cell_type": "markdown",
      "metadata": {
        "id": "GgCzSJoGM1re"
      },
      "source": [
        "# **Parcours**\n",
        "\n",
        "Affichons le parcours de ce labyrinthe avec un parcours en profondeur **DFS**.\n"
      ]
    },
    {
      "cell_type": "code",
      "metadata": {
        "colab": {
          "base_uri": "https://localhost:8080/",
          "height": 252
        },
        "id": "r7Z_gNySjyEs",
        "outputId": "8871726c-5dc9-4316-9977-fd01e5ce5242"
      },
      "source": [
        "def generer2():\n",
        "  labyrinthe = [[0] * (2*LARGEUR+1) for i in range(2*HAUTEUR+1)]\n",
        "  parcours = dfs((0,0))\n",
        "  for i,j in parcours:\n",
        "    labyrinthe[2*i+1][2*j+1] = 1\n",
        "    if (i,j)!=(0,0):\n",
        "      k,l = parcours[(i,j)]\n",
        "      labyrinthe[i+k+1][j+l+1] = 1\n",
        "  return labyrinthe, parcours\n",
        "\n",
        "def maj(labyrinthe,parcours,u):\n",
        "  i,j = u\n",
        "  labyrinthe[2*i+1][2*j+1] = 2\n",
        "  if u!=(0,0):\n",
        "    k,l = parcours[u]\n",
        "    labyrinthe[i+k+1][j+l+1] = 2\n",
        "  return labyrinthe\n",
        "\n",
        "def affiche(f,l):\n",
        "  f.set_data(l)\n",
        "  display.display(plt.gcf())\n",
        "  display.clear_output(wait=True)\n",
        "  time.sleep(0.05)\n",
        "\n",
        "l, p = generer2()\n",
        "l[1][0] = 2\n",
        "f = plt.imshow(l)\n",
        "plt.xticks([])\n",
        "plt.yticks([])\n",
        "for u in p:\n",
        "  l = maj(l,p,u)\n",
        "  affiche(f,l)"
      ],
      "execution_count": 12,
      "outputs": [
        {
          "output_type": "display_data",
          "data": {
            "image/png": "[encoded data removed]",
            "text/plain": [
              "<Figure size 432x288 with 1 Axes>"
            ]
          },
          "metadata": {
            "tags": []
          }
        }
      ]
    },
    {
      "cell_type": "markdown",
      "metadata": {
        "id": "XEr4jqEckiAz"
      },
      "source": [
        "Voyons enfin le parcours de ce labyrinthe avec un parcours en largeur **BFS**.\n"
      ]
    },
    {
      "cell_type": "code",
      "metadata": {
        "colab": {
          "base_uri": "https://localhost:8080/",
          "height": 252
        },
        "id": "_ROcX49EknE2",
        "outputId": "c4ad62b8-b1e4-4b7f-c9ec-e6539fe60e0d"
      },
      "source": [
        "def bfs(G, S, f, labyrinthe):\n",
        "  P = {S : None}\n",
        "  Q = [S]\n",
        "  while Q:\n",
        "    u = Q.pop(0)\n",
        "    i,j = u\n",
        "    labyrinthe[2*i+1][2*j+1] = 2\n",
        "    for v in G[u]:\n",
        "      if v in P:\n",
        "        continue\n",
        "      P[v] = u\n",
        "      Q.append(v)\n",
        "      k,l = v\n",
        "      labyrinthe[i+k+1][j+l+1] = 2\n",
        "    affiche(f,labyrinthe)\n",
        "\n",
        "def graphe(l):\n",
        "  G = dict()\n",
        "  for i in range(HAUTEUR):\n",
        "    for j in range(LARGEUR):\n",
        "      v=voisins((i,j))\n",
        "      val = []\n",
        "      for k in v:\n",
        "        a,b = k\n",
        "        if l[i+a+1][j+b+1] == 1:\n",
        "          val.append((a,b))\n",
        "      G[(i,j)]=val\n",
        "  return G\n",
        "\n",
        "l, p = generer2()\n",
        "l[1][0] = 2\n",
        "D = graphe(l)\n",
        "f = plt.imshow(l)\n",
        "plt.xticks([])\n",
        "plt.yticks([])\n",
        "bfs(D,(0,0),f,l)"
      ],
      "execution_count": 13,
      "outputs": [
        {
          "output_type": "display_data",
          "data": {
            "image/png": "[encoded data removed]",
            "text/plain": [
              "<Figure size 432x288 with 1 Axes>"
            ]
          },
          "metadata": {
            "tags": []
          }
        }
      ]
    },
    {
      "cell_type": "markdown",
      "metadata": {
        "id": "AK5GyKG9z_Pa"
      },
      "source": [
        "Le parcours en largeur (**BFS**) permet de connaitre le plus court chemin entre deux sommets, contrairement au partours en profondeur (**DFS**).\n",
        "\n",
        "Dans le cas où on cherche à savoir si deux sommets sont reliés par un chemin, les deux solutions présentent leurs avantages.\n",
        "\n",
        "Si le sommet à atteindre est proche du sommet source, **BFS** sera souvent plus efficace que **DFS**. A l'inverse, si le sommet à atteindre est éloigné du sommet source, **DFS** sera souvent plus efficace que **BFS**."
      ]
    },
    {
      "cell_type": "markdown",
      "metadata": {
        "id": "rDlgtkhHzHMj"
      },
      "source": [
        "# **Exercice**\n",
        "\n",
        "A partir du labyrinthe généré ce-dessus, affichez s'il existe un chemin reliant deux points A et B de coordonnées aléatoires, avec un parcours en largeur (**BFS**) et avec un parcours en profondeur(**DFS**)."
      ]
    },
    {
      "cell_type": "code",
      "metadata": {
        "id": "0Z01Bq_2zFtX"
      },
      "source": [
        "def cheminBFS(l,debut,fin):\n",
        "  # A compléter\n",
        "\n",
        "A = # A compléter\n",
        "B = # A compléter\n",
        "c chemincheminBFS(l,A,B):\n",
        "if c:\n",
        "  print(\"Il existe un chemin reliant les sommets\",A,\"et\",B)\n",
        "else:\n",
        "  print(\"Il n'existe pas de chemin reliant les sommets\",A,\"et\",B)"
      ],
      "execution_count": null,
      "outputs": []
    },
    {
      "cell_type": "code",
      "metadata": {
        "id": "RS8U8xp91d02"
      },
      "source": [
        "def cheminDFS(l,debut,fin):\n",
        "  # A compléter\n",
        "\n",
        "A = # A compléter\n",
        "B = # A compléter\n",
        "c chemincheminBFS(l,A,B):\n",
        "if c:\n",
        "  print(\"Il existe un chemin reliant les sommets\",A,\"et\",B)\n",
        "else:\n",
        "  print(\"Il n'existe pas de chemin reliant les sommets\",A,\"et\",B)"
      ],
      "execution_count": null,
      "outputs": []
    },
    {
      "cell_type": "markdown",
      "metadata": {
        "id": "TA3SWjrs1guE"
      },
      "source": [
        "Affichez visuellement les chemins parcourus par cheminBFS et cheminDFS pour déterminer si les sommets sont reliés."
      ]
    },
    {
      "cell_type": "code",
      "metadata": {
        "id": "2dczTfOF1qX1"
      },
      "source": [
        "def cheminBFS2(l,debut,fin):\n",
        "  # A compléter\n",
        "\n",
        "A = # A compléter\n",
        "B = # A compléter\n",
        "c chemincheminBFS(l,A,B):\n",
        "if c:\n",
        "  print(\"Il existe un chemin reliant les sommets\",A,\"et\",B)\n",
        "else:\n",
        "  print(\"Il n'existe pas de chemin reliant les sommets\",A,\"et\",B)"
      ],
      "execution_count": null,
      "outputs": []
    },
    {
      "cell_type": "code",
      "metadata": {
        "id": "CDYDwsR11tYY"
      },
      "source": [
        "def cheminDFS(l,debut,fin):\n",
        "  # A compléter\n",
        "\n",
        "A = # A compléter\n",
        "B = # A compléter\n",
        "c chemincheminBFS(l,A,B):\n",
        "if c:\n",
        "  print(\"Il existe un chemin reliant les sommets\",A,\"et\",B)\n",
        "else:\n",
        "  print(\"Il n'existe pas de chemin reliant les sommets\",A,\"et\",B)"
      ],
      "execution_count": null,
      "outputs": []
    }
  ]
}