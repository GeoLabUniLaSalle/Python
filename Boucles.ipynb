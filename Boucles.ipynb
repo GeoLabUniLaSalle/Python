{
  "nbformat": 4,
  "nbformat_minor": 0,
  "metadata": {
    "colab": {
      "provenance": [],
      "authorship_tag": "ABX9TyPDbkECl/WSpQfmL2z6u0FE",
      "include_colab_link": true
    },
    "kernelspec": {
      "name": "python3",
      "display_name": "Python 3"
    },
    "language_info": {
      "name": "python"
    }
  },
  "cells": [
    {
      "cell_type": "markdown",
      "metadata": {
        "id": "view-in-github",
        "colab_type": "text"
      },
      "source": [
        "<a href=\"https://colab.research.google.com/github/GeoLabUniLaSalle/Python/blob/main/Boucles.ipynb\" target=\"_parent\"><img src=\"https://colab.research.google.com/assets/colab-badge.svg\" alt=\"Open In Colab\"/></a>"
      ]
    },
    {
      "cell_type": "markdown",
      "source": [
        "**Boucles**\n",
        "\n",
        "Ce Notebook vous permettra de vous exercer sur la manipulation des boucles.\n",
        "\n",
        "*Exercice 1*\n",
        "\n",
        "Ecrivez un programme qui affiche la table de multiplication de 7.\n",
        "\n"
      ],
      "metadata": {
        "id": "GPp51MgFe7v1"
      }
    },
    {
      "cell_type": "code",
      "source": [
        "# a vous de jouer !\n",
        "\n"
      ],
      "metadata": {
        "id": "gGbmULdDfLsh"
      },
      "execution_count": null,
      "outputs": []
    },
    {
      "cell_type": "markdown",
      "source": [
        "N'affichez le code de la correction que si vous ne parvenez pas à résoudre l'exercice par vous même."
      ],
      "metadata": {
        "id": "rRmhjvx_fXEd"
      }
    },
    {
      "cell_type": "code",
      "execution_count": 6,
      "metadata": {
        "colab": {
          "base_uri": "https://localhost:8080/"
        },
        "cellView": "form",
        "id": "2gPziFeKe6Rd",
        "outputId": "0ed86515-2584-46c2-f2cf-03b01175cd3c"
      },
      "outputs": [
        {
          "output_type": "stream",
          "name": "stdout",
          "text": [
            "Table de multiplication de 7\n",
            "7 x  7\n",
            "7 x  14\n",
            "7 x  21\n",
            "7 x  28\n",
            "7 x  35\n",
            "7 x  42\n",
            "7 x  49\n",
            "7 x  56\n",
            "7 x  63\n",
            "7 x  70\n"
          ]
        }
      ],
      "source": [
        "# @title\n",
        "print(\"Table de multiplication de 7\")\n",
        "for i in range(1,11):\n",
        "  print(\"7 x \",7*i)"
      ]
    },
    {
      "cell_type": "markdown",
      "source": [
        "Ré-écrivez ce programme sous la forme d'une fonction prenant un entier et un booléen en paramètre, et retournant le texte à afficher."
      ],
      "metadata": {
        "id": "hEio_CfffdUn"
      }
    },
    {
      "cell_type": "code",
      "source": [
        "def multiplication(x):\n",
        "  # votre code\n",
        "\n",
        "nombre = 7 # pour testez votre programme, vous pouvez modifier la valeur affectée à nombre sur cette ligne\n",
        "multiplication(nombre)"
      ],
      "metadata": {
        "colab": {
          "base_uri": "https://localhost:8080/"
        },
        "id": "AA3_KNfnfgq-",
        "outputId": "c121aeb3-d421-4646-b05d-67aaab024232"
      },
      "execution_count": 5,
      "outputs": [
        {
          "output_type": "stream",
          "name": "stdout",
          "text": [
            "\n"
          ]
        }
      ]
    },
    {
      "cell_type": "markdown",
      "source": [
        "N'affichez le code de la correction que si vous ne parvenez pas à résoudre l'exercice par vous même."
      ],
      "metadata": {
        "id": "GHF0Enmjf_WZ"
      }
    },
    {
      "cell_type": "code",
      "source": [
        "# @title\n",
        "def multiplication(x):\n",
        "  print(\"Table de multiplication de \",x)\n",
        "  for i in range(1,11):\n",
        "    print(f\"{x} x {i} = {x*i}\")\n",
        "\n",
        "nombre = 7\n",
        "multiplication(nombre)"
      ],
      "metadata": {
        "colab": {
          "base_uri": "https://localhost:8080/"
        },
        "cellView": "form",
        "id": "S8r3zaWnf_wx",
        "outputId": "7bb76c26-b281-40e2-a863-533bf92cf547"
      },
      "execution_count": 8,
      "outputs": [
        {
          "output_type": "stream",
          "name": "stdout",
          "text": [
            "Table de multiplication de  7\n",
            "7 x 1 = 7\n",
            "7 x 2 = 14\n",
            "7 x 3 = 21\n",
            "7 x 4 = 28\n",
            "7 x 5 = 35\n",
            "7 x 6 = 42\n",
            "7 x 7 = 49\n",
            "7 x 8 = 56\n",
            "7 x 9 = 63\n",
            "7 x 10 = 70\n"
          ]
        }
      ]
    },
    {
      "cell_type": "markdown",
      "source": [
        "Exercice 2\n",
        "\n",
        "Ecrivez un programme qui parcourt une liste l et affiche les valeurs pairs."
      ],
      "metadata": {
        "id": "sx-ry5PAgrRq"
      }
    },
    {
      "cell_type": "code",
      "source": [
        "l = [4,5,9,11,8,0,5,3,4,5,1]\n",
        "\n",
        "# votre code"
      ],
      "metadata": {
        "id": "nDJSX1LZghwd"
      },
      "execution_count": 10,
      "outputs": []
    },
    {
      "cell_type": "markdown",
      "source": [
        "N'affichez le code de la correction que si vous ne parvenez pas à résoudre l'exercice par vous même."
      ],
      "metadata": {
        "id": "YX5o-irThrNO"
      }
    },
    {
      "cell_type": "code",
      "source": [
        "# @title\n",
        "for i in l:\n",
        "  if i % 2 == 0:\n",
        "    print(i)"
      ],
      "metadata": {
        "colab": {
          "base_uri": "https://localhost:8080/"
        },
        "cellView": "form",
        "id": "PB2-NauRhes7",
        "outputId": "560e410f-5d84-47f5-c009-4bfbf0e09a6f"
      },
      "execution_count": 12,
      "outputs": [
        {
          "output_type": "stream",
          "name": "stdout",
          "text": [
            "4\n",
            "8\n",
            "0\n",
            "4\n"
          ]
        }
      ]
    },
    {
      "cell_type": "markdown",
      "source": [
        "Ré-écrivez ce programme sous la forme d'une fonction prenant un entier et un booléen en paramètre, et retournant le texte à afficher."
      ],
      "metadata": {
        "id": "12KnFMPZhtz-"
      }
    },
    {
      "cell_type": "code",
      "source": [
        "# votre code"
      ],
      "metadata": {
        "id": "-aJhfUr4hmKa"
      },
      "execution_count": null,
      "outputs": []
    },
    {
      "cell_type": "markdown",
      "source": [
        "N'affichez le code de la correction que si vous ne parvenez pas à résoudre l'exercice par vous même."
      ],
      "metadata": {
        "id": "MvySkg2eh0g4"
      }
    },
    {
      "cell_type": "code",
      "source": [
        "# @title\n",
        "def pair(x):\n",
        "  for i in x:\n",
        "    if i % 2 == 0:\n",
        "      print(i)\n",
        "\n",
        "pair(l)"
      ],
      "metadata": {
        "colab": {
          "base_uri": "https://localhost:8080/"
        },
        "cellView": "form",
        "id": "FPQyK1aFh2tD",
        "outputId": "ec17294b-2378-4b63-b28b-fe7dd7aa4cfe"
      },
      "execution_count": 13,
      "outputs": [
        {
          "output_type": "stream",
          "name": "stdout",
          "text": [
            "4\n",
            "8\n",
            "0\n",
            "4\n"
          ]
        }
      ]
    },
    {
      "cell_type": "markdown",
      "source": [
        "Exercice 3\n",
        "\n",
        "Ecrivez un programme qui parcourt une liste l et compte le nombre de valeurs pairs."
      ],
      "metadata": {
        "id": "4RuITHjwiGLf"
      }
    },
    {
      "cell_type": "code",
      "source": [
        "l = [4,5,9,11,8,0,5,3,4,5,1]\n",
        "\n",
        "# votre code"
      ],
      "metadata": {
        "id": "LV-whJHkiByq"
      },
      "execution_count": 14,
      "outputs": []
    },
    {
      "cell_type": "markdown",
      "source": [
        "N'affichez le code de la correction que si vous ne parvenez pas à résoudre l'exercice par vous même."
      ],
      "metadata": {
        "id": "Sn3-_dhziMRe"
      }
    },
    {
      "cell_type": "code",
      "source": [
        "# @title\n",
        "cpt = 0\n",
        "for i in l:\n",
        "  if i % 2 == 0:\n",
        "    cpt += 1\n",
        "print(\"Nombre de valeurs pairs :\",cpt)"
      ],
      "metadata": {
        "colab": {
          "base_uri": "https://localhost:8080/"
        },
        "cellView": "form",
        "id": "zTvrazzqiLnl",
        "outputId": "a8aca0bf-340c-452f-98b9-4f143399d783"
      },
      "execution_count": 24,
      "outputs": [
        {
          "output_type": "stream",
          "name": "stdout",
          "text": [
            "Nombre de valeurs pairs : 4\n"
          ]
        }
      ]
    },
    {
      "cell_type": "markdown",
      "source": [
        "Ré-écrivez ce programme sous la forme d'une fonction prenant un entier et un booléen en paramètre, et retournant le texte à afficher."
      ],
      "metadata": {
        "id": "rA76Y036iWTh"
      }
    },
    {
      "cell_type": "code",
      "source": [
        "# votre code"
      ],
      "metadata": {
        "id": "cPgAY6Mbj-jw"
      },
      "execution_count": null,
      "outputs": []
    },
    {
      "cell_type": "markdown",
      "source": [
        "N'affichez le code de la correction que si vous ne parvenez pas à résoudre l'exercice par vous même."
      ],
      "metadata": {
        "id": "XREFRl-NkBGl"
      }
    },
    {
      "cell_type": "code",
      "source": [
        "# @title\n",
        "def pair(x):\n",
        "  cpt = 0\n",
        "  for i in x:\n",
        "    if i % 2 == 0:\n",
        "      cpt += 1\n",
        "  return cpt\n",
        "\n",
        "print(\"Nombre de valeurs pairs :\",pair(l))"
      ],
      "metadata": {
        "colab": {
          "base_uri": "https://localhost:8080/"
        },
        "cellView": "form",
        "id": "JlLL6TuPiRJh",
        "outputId": "053ec6c2-48a0-4b4d-8374-95f048e84ddd"
      },
      "execution_count": 18,
      "outputs": [
        {
          "output_type": "stream",
          "name": "stdout",
          "text": [
            "Nombre de valeurs pairs : 4\n"
          ]
        }
      ]
    },
    {
      "cell_type": "markdown",
      "source": [
        "Exercice 4\n",
        "\n",
        "Ecrivez un programme qui parcourt un matrice m, stockée sous la forme d'une liste de listes, et compte le nombre de 2 qui y sont présents."
      ],
      "metadata": {
        "id": "byRkhxTNiuLW"
      }
    },
    {
      "cell_type": "code",
      "source": [
        "m = [\n",
        "    [1, 2, 3],\n",
        "    [4, 2, 6],\n",
        "    [7, 2, 9]\n",
        "]\n",
        "\n",
        "# votre code"
      ],
      "metadata": {
        "id": "XDNfAPVjiez6"
      },
      "execution_count": 20,
      "outputs": []
    },
    {
      "cell_type": "markdown",
      "source": [
        "N'affichez le code de la correction que si vous ne parvenez pas à résoudre l'exercice par vous même."
      ],
      "metadata": {
        "id": "6zpH6N-MjU06"
      }
    },
    {
      "cell_type": "code",
      "source": [
        "# @title\n",
        "cpt = 0\n",
        "for i in m:\n",
        "  for j in i:\n",
        "    if j == 2:\n",
        "      cpt += 1\n",
        "print(\"Nombre de 2 dans la matrice :\",cpt)"
      ],
      "metadata": {
        "colab": {
          "base_uri": "https://localhost:8080/"
        },
        "cellView": "form",
        "id": "RpGfRPLEjRYc",
        "outputId": "99995f5e-fe9c-41e0-da30-cf784f5bfd9e"
      },
      "execution_count": 21,
      "outputs": [
        {
          "output_type": "stream",
          "name": "stdout",
          "text": [
            "Nombre de 2 dans la matrice : 3\n"
          ]
        }
      ]
    },
    {
      "cell_type": "markdown",
      "source": [
        "Ré-écrivez ce programme sous la forme d'une fonction prenant un entier et un booléen en paramètre, et retournant le texte à afficher."
      ],
      "metadata": {
        "id": "BPuZxK5Mjh59"
      }
    },
    {
      "cell_type": "code",
      "source": [
        "# votre code"
      ],
      "metadata": {
        "id": "5AyK2gwGjiCb"
      },
      "execution_count": null,
      "outputs": []
    },
    {
      "cell_type": "markdown",
      "source": [
        "N'affichez le code de la correction que si vous ne parvenez pas à résoudre l'exercice par vous même."
      ],
      "metadata": {
        "id": "FRF0TcknjbsD"
      }
    },
    {
      "cell_type": "code",
      "source": [
        "# @title\n",
        "def compte_2(x):\n",
        "  cpt = 0\n",
        "  for i in x:\n",
        "    for j in i:\n",
        "      if j == 2:\n",
        "        cpt += 1\n",
        "  return cpt\n",
        "\n",
        "print(\"Nombre de 2 dans la matrice :\",compte_2(m))"
      ],
      "metadata": {
        "colab": {
          "base_uri": "https://localhost:8080/"
        },
        "cellView": "form",
        "id": "8mWNoiN-jXwF",
        "outputId": "686b0f6d-d719-4607-e095-44c7f750b9c1"
      },
      "execution_count": 23,
      "outputs": [
        {
          "output_type": "stream",
          "name": "stdout",
          "text": [
            "Nombre de 2 dans la matrice : 3\n"
          ]
        }
      ]
    },
    {
      "cell_type": "markdown",
      "source": [
        "Modifiez cette fonction pour que l'on puisse choisir le nombre à compter en le mettant en paramètre de la fonction."
      ],
      "metadata": {
        "id": "6TyF-XZOkJl0"
      }
    },
    {
      "cell_type": "code",
      "source": [
        "def compte(x,y):\n",
        "  # votre code"
      ],
      "metadata": {
        "id": "z-eUflEajdDP"
      },
      "execution_count": 27,
      "outputs": []
    },
    {
      "cell_type": "markdown",
      "source": [
        "N'affichez le code de la correction que si vous ne parvenez pas à résoudre l'exercice par vous même."
      ],
      "metadata": {
        "id": "tAboMOMVkcCy"
      }
    },
    {
      "cell_type": "code",
      "source": [
        "# @title\n",
        "def compte(x,y):\n",
        "  cpt = 0\n",
        "  for i in x:\n",
        "    for j in i:\n",
        "      if j == y:\n",
        "        cpt += 1\n",
        "  return cpt\n",
        "\n",
        "nb = 2\n",
        "print(\"Nombre d'apparitions de\",2,\"dans la matrice :\",compte(m,nb))"
      ],
      "metadata": {
        "colab": {
          "base_uri": "https://localhost:8080/"
        },
        "cellView": "form",
        "id": "A-ry3RgykWfG",
        "outputId": "bbd23004-5afb-4314-fd24-bf18c029055c"
      },
      "execution_count": 31,
      "outputs": [
        {
          "output_type": "stream",
          "name": "stdout",
          "text": [
            "Nombre d'apparitions de 2 dans la matrice : 3\n"
          ]
        }
      ]
    }
  ]
}