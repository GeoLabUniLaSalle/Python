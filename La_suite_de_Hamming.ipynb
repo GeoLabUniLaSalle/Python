{
  "nbformat": 4,
  "nbformat_minor": 0,
  "metadata": {
    "colab": {
      "name": "La suite de Hamming.ipynb",
      "provenance": [],
      "collapsed_sections": [],
      "history_visible": true,
      "authorship_tag": "ABX9TyN3hDIwr9WgOUjUfi2ISC5C",
      "include_colab_link": true
    },
    "kernelspec": {
      "name": "python3",
      "display_name": "Python 3"
    }
  },
  "cells": [
    {
      "cell_type": "markdown",
      "metadata": {
        "id": "view-in-github",
        "colab_type": "text"
      },
      "source": [
        "<a href=\"https://colab.research.google.com/github/GeoLabUniLaSalle/Python/blob/main/La_suite_de_Hamming.ipynb\" target=\"_parent\"><img src=\"https://colab.research.google.com/assets/colab-badge.svg\" alt=\"Open In Colab\"/></a>"
      ]
    },
    {
      "cell_type": "markdown",
      "metadata": {
        "id": "qmHj83z0OJLc"
      },
      "source": [
        "# **La suite de Hamming**\n",
        "\n",
        "Un nombre de Hamming est un entier naturel non nul dont les facteurs premiers sont inférieurs ou égal à 5.\n",
        "Les 30 premiers nombres de Hamming sont les suivants.\n",
        "1, 2, 3, 4, 5, 6, 8, 9, 10, 12, 15, 16, 18, 20, 24, 25, 27, 30, 32, 36, 40, 45, 48, 50, 54, 60, 64, 72, 75, 80.\n",
        "Le problème de Hamming consiste à énumérer les n premiers entiers de Hamming par ordre croissant.\n",
        "\n",
        "Une solution par « force brute » au problème de Hamming est de parcourir les entiers un par un et, pour chacun d’entre eux, de l'enfiler dans une file s’il s’agit d’un nombre de Hamming, jusqu’à obtenir une file de taille n. Cette démarche montre vite ses limites : le 1999e entier de Hamming est égal à 8 100 000 000 et le 2000e à 8 153 726 976 : il faudrait tester plus de 53 millions de nombres avant d’augmenter notre liste d’un élément.\n",
        "\n",
        "On adopte donc une autre stratégie : Tout nombre de Hamming différent de 1 etant un produit par 2, 3 ou 5 d'un nombre de Hamming plus petit, nous réalisons 3 files f2, f3 et f5 qui contiendront les nombres de Hamming trouvés et multipliés par 2, 3 ou 5.\n",
        "\n",
        "Initialement, f2, f3 et f5 ne contiennent que l'entier 1.\n",
        "*   On détermine x le plus petit nombre en tête d'une des 3 files, et on l'affiche.\n",
        "*   On retire x des files qui le contiennent.\n",
        "*   On ajoute en queue de files, 2x à f2, 3x à f3, et 5x à f5.\n",
        "\n",
        "Pour montrer cet exemple, nous utiliserons la classe File vue dans le chapitre sur [les files](https://mybinder.org/v2/gh/GeoLabUniLaSalle/Python/HEAD?filepath=Les_files.ipynb)."
      ]
    },
    {
      "cell_type": "code",
      "metadata": {
        "id": "J53EjZC3OFD-"
      },
      "source": [
        "class File:\n",
        "  \n",
        "  def __init__(self):\n",
        "    self.elements = []\n",
        "    \n",
        "  def enfile(self, element):\n",
        "    self.elements.append(element)\n",
        "\n",
        "  def defile(self):\n",
        "    if self.elements:\n",
        "      return self.elements.pop(0)\n",
        "  \n",
        "  def taille(self):\n",
        "    return len(self.elements)\n",
        "\n",
        "  def sommet(self):\n",
        "    if len(self.elements)==0:\n",
        "         raise Exception(\"La file est vide\")\n",
        "    return self.elements[0]\n",
        "    \n",
        "  def __str__(self):\n",
        "    out = str(self.elements[0])\n",
        "    for x in self.elements[1:]:\n",
        "      out = str(x) + \" -> \" + out\n",
        "    out = \"File : \" + out\n",
        "    return out"
      ],
      "execution_count": null,
      "outputs": []
    },
    {
      "cell_type": "markdown",
      "metadata": {
        "id": "6sMuZWIsQoqa"
      },
      "source": [
        "Ecrivez un programme qui affiche les x premiers nombres de Hamming.\n",
        "\n",
        "\n",
        "\n",
        "\n"
      ]
    },
    {
      "cell_type": "code",
      "metadata": {
        "id": "_57jZ-5IRRTk"
      },
      "source": [
        "def hamming(n):\n",
        "  # A compléter\n",
        "\n",
        "hamming(2000)"
      ],
      "execution_count": null,
      "outputs": []
    },
    {
      "cell_type": "markdown",
      "metadata": {
        "id": "H3Ap6K5QS-cq"
      },
      "source": [
        "Notons que cette méthode, même si elle est plus efficace que la méthode par \"force brute\", n'est pas optimale parce que le même nombre peut se retrouver dans plusieurs des 3 files alors qu'une seule suffirait."
      ]
    }
  ]
}