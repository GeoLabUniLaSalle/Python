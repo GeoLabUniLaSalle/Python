{
  "nbformat": 4,
  "nbformat_minor": 0,
  "metadata": {
    "colab": {
      "name": "Les dictionnaires.ipynb",
      "provenance": [],
      "collapsed_sections": [],
      "authorship_tag": "ABX9TyOwoswRpjp7S5fcqpMZCk+B",
      "include_colab_link": true
    },
    "kernelspec": {
      "name": "python3",
      "display_name": "Python 3"
    }
  },
  "cells": [
    {
      "cell_type": "markdown",
      "metadata": {
        "id": "view-in-github",
        "colab_type": "text"
      },
      "source": [
        "<a href=\"https://colab.research.google.com/github/GeoLabUniLaSalle/Python/blob/main/Les_dictionnaires.ipynb\" target=\"_parent\"><img src=\"https://colab.research.google.com/assets/colab-badge.svg\" alt=\"Open In Colab\"/></a>"
      ]
    },
    {
      "cell_type": "markdown",
      "metadata": {
        "id": "I6W7jtlJl4yq"
      },
      "source": [
        "## **Les dictionnaires**\n",
        "\n",
        "Dans ce chapitre, nous allons étudier le fonctionnement des dictionnaires.\n",
        "\n",
        "Les dictionnaires sont des associations entre des clés et des valeurs.\n",
        "\n",
        "Commençons par créer un dictionnaire grâce au symbole {} qui est égalelment associé à ce type."
      ]
    },
    {
      "cell_type": "code",
      "metadata": {
        "colab": {
          "base_uri": "https://localhost:8080/"
        },
        "id": "cjeBEEz1l4b7",
        "outputId": "14269be6-d695-440e-cdda-dc36eb0ab70d"
      },
      "source": [
        "dic = {}\n",
        "type(dic)"
      ],
      "execution_count": 1,
      "outputs": [
        {
          "output_type": "execute_result",
          "data": {
            "text/plain": [
              "dict"
            ]
          },
          "metadata": {
            "tags": []
          },
          "execution_count": 1
        }
      ]
    },
    {
      "cell_type": "markdown",
      "metadata": {
        "id": "2SQT_uyfmtdS"
      },
      "source": [
        "Réalisons maitenant un dictionnaire qui utilisera des mots en français comme **clés** et ces mots traduits en anglais en **valeurs**. "
      ]
    },
    {
      "cell_type": "code",
      "metadata": {
        "colab": {
          "base_uri": "https://localhost:8080/"
        },
        "id": "AIU2Bhvtmrp7",
        "outputId": "05b648e1-e175-46d1-e2bf-ee14c63521e4"
      },
      "source": [
        "dic = {'pomme':'apple', 'banane': 'banana', 'poire': 'pear'}\n",
        "print(dic)"
      ],
      "execution_count": 4,
      "outputs": [
        {
          "output_type": "stream",
          "text": [
            "{'pomme': 'apple', 'banane': 'banana', 'poire': 'pear'}\n"
          ],
          "name": "stdout"
        }
      ]
    },
    {
      "cell_type": "markdown",
      "metadata": {
        "id": "o0y1sG5Un_pq"
      },
      "source": [
        "Il est possible d'ajouter une entrée dans notre dictionnaire ainsi."
      ]
    },
    {
      "cell_type": "code",
      "metadata": {
        "colab": {
          "base_uri": "https://localhost:8080/"
        },
        "id": "XAXAgvXOn6NY",
        "outputId": "1747d607-11d9-4b39-9c0b-580ecba09647"
      },
      "source": [
        "dic['raisin'] = 'grape'\n",
        "print(dic)"
      ],
      "execution_count": 6,
      "outputs": [
        {
          "output_type": "stream",
          "text": [
            "{'pomme': 'apple', 'banane': 'banana', 'poire': 'pear', 'raisin': 'grape'}\n"
          ],
          "name": "stdout"
        }
      ]
    },
    {
      "cell_type": "markdown",
      "metadata": {
        "id": "HDhjcj8oq6q-"
      },
      "source": [
        "Il est possible de consulter les valeurs associées à leur clé de cette manière."
      ]
    },
    {
      "cell_type": "code",
      "metadata": {
        "colab": {
          "base_uri": "https://localhost:8080/",
          "height": 35
        },
        "id": "qok4_mseoWKo",
        "outputId": "86e51366-87a6-459a-fb61-08a3a7d2de73"
      },
      "source": [
        "dic['poire']"
      ],
      "execution_count": 7,
      "outputs": [
        {
          "output_type": "execute_result",
          "data": {
            "application/vnd.google.colaboratory.intrinsic+json": {
              "type": "string"
            },
            "text/plain": [
              "'pear'"
            ]
          },
          "metadata": {
            "tags": []
          },
          "execution_count": 7
        }
      ]
    },
    {
      "cell_type": "markdown",
      "metadata": {
        "id": "8gFV1sUJrEPf"
      },
      "source": [
        "Attention cependant : si la valeur à laquelle on souhaite accéder n'existe pas, nous obtenons un message d'erreur."
      ]
    },
    {
      "cell_type": "code",
      "metadata": {
        "colab": {
          "base_uri": "https://localhost:8080/",
          "height": 164
        },
        "id": "cCXIK-nerB84",
        "outputId": "f6ec88a2-033d-406e-8b49-d4402008ee87"
      },
      "source": [
        "dic['cerise']"
      ],
      "execution_count": 8,
      "outputs": [
        {
          "output_type": "error",
          "ename": "KeyError",
          "evalue": "ignored",
          "traceback": [
            "\u001b[0;31m---------------------------------------------------------------------------\u001b[0m",
            "\u001b[0;31mKeyError\u001b[0m                                  Traceback (most recent call last)",
            "\u001b[0;32m<ipython-input-8-ace18bcaf07c>\u001b[0m in \u001b[0;36m<module>\u001b[0;34m()\u001b[0m\n\u001b[0;32m----> 1\u001b[0;31m \u001b[0mdic\u001b[0m\u001b[0;34m[\u001b[0m\u001b[0;34m'cerise'\u001b[0m\u001b[0;34m]\u001b[0m\u001b[0;34m\u001b[0m\u001b[0;34m\u001b[0m\u001b[0m\n\u001b[0m",
            "\u001b[0;31mKeyError\u001b[0m: 'cerise'"
          ]
        }
      ]
    },
    {
      "cell_type": "markdown",
      "metadata": {
        "id": "xznpeXYKraro"
      },
      "source": [
        "Les **valeurs** contenues dans les dictionnaires peuvent être de n'importe quel type."
      ]
    },
    {
      "cell_type": "code",
      "metadata": {
        "colab": {
          "base_uri": "https://localhost:8080/"
        },
        "id": "4kaFxj6Vrew8",
        "outputId": "57969bbf-36f1-47f8-8995-9f01f3943108"
      },
      "source": [
        "dic2 = {'a': 17, 'b': 'bonjour', 'c': True, 'd': [5, 8, 4], 'e' : 5.972, 'f' : (3,1,6), 'g' : dic}\n",
        "print(dic2)"
      ],
      "execution_count": 12,
      "outputs": [
        {
          "output_type": "stream",
          "text": [
            "{'a': 17, 'b': 'bonjour', 'c': True, 'd': [5, 8, 4], 'e': 5.972, 'f': (3, 1, 6), 'g': {'pomme': 'apple', 'banane': 'banana', 'poire': 'pear', 'raisin': 'grape'}}\n"
          ],
          "name": "stdout"
        }
      ]
    },
    {
      "cell_type": "markdown",
      "metadata": {
        "id": "LNsCZU_dtAWf"
      },
      "source": [
        "Ici, le dictionnaire dic est une valeur du dictionnaire dic2 (associée à la clé 'g'). Son contenu est accessible ainsi."
      ]
    },
    {
      "cell_type": "code",
      "metadata": {
        "colab": {
          "base_uri": "https://localhost:8080/",
          "height": 35
        },
        "id": "2rIh9dM4tKgj",
        "outputId": "c98b3a1d-ce3d-429f-97f0-63e28737cfed"
      },
      "source": [
        "dic2['g']['pomme']"
      ],
      "execution_count": 14,
      "outputs": [
        {
          "output_type": "execute_result",
          "data": {
            "application/vnd.google.colaboratory.intrinsic+json": {
              "type": "string"
            },
            "text/plain": [
              "'apple'"
            ]
          },
          "metadata": {
            "tags": []
          },
          "execution_count": 14
        }
      ]
    },
    {
      "cell_type": "markdown",
      "metadata": {
        "id": "ijZd0C8Xtb2G"
      },
      "source": [
        "De même pour la liste "
      ]
    },
    {
      "cell_type": "markdown",
      "metadata": {
        "id": "XhjTqUe4rUrw"
      },
      "source": [
        "Les **clés** contenues dans les dictionnaires, comme les valeurs contenues dans les ensembles, peuvent être de n'importe quel type primitif (int, float, bool) ou des séquences **immuables** (str, tuple), mais pas de séquences **mutables** (list, dict)."
      ]
    },
    {
      "cell_type": "code",
      "metadata": {
        "colab": {
          "base_uri": "https://localhost:8080/"
        },
        "id": "Z0qU18c5sSa-",
        "outputId": "c016c355-1677-47d2-c20e-e011bb96a838"
      },
      "source": [
        "dic3 = {'bonjour': 17, False: [5, 8, 4], (3,1,6) : 5.972}\n",
        "print(dic3)"
      ],
      "execution_count": 13,
      "outputs": [
        {
          "output_type": "stream",
          "text": [
            "{'bonjour': 17, False: [5, 8, 4], (3, 1, 6): 5.972}\n"
          ],
          "name": "stdout"
        }
      ]
    },
    {
      "cell_type": "markdown",
      "metadata": {
        "id": "weMDtFXOujbg"
      },
      "source": [
        "Comme pour les valeurs contenues dans les ensembles, les **clés** d'un dictionnaire sont **uniques**.\n",
        "\n",
        "Si on entre une nouvelle valeur associée à une clé déjà existante, cette valeur viendra remplacer la valeur précédemment stockée."
      ]
    },
    {
      "cell_type": "code",
      "metadata": {
        "colab": {
          "base_uri": "https://localhost:8080/"
        },
        "id": "ocElgIzfrQ01",
        "outputId": "fcbb923d-f6c2-4897-8b4e-f2b5ca785571"
      },
      "source": [
        "print(dic3)\n",
        "dic3['bonjour'] = 42\n",
        "print(dic3)"
      ],
      "execution_count": 15,
      "outputs": [
        {
          "output_type": "stream",
          "text": [
            "{'bonjour': 17, False: [5, 8, 4], (3, 1, 6): 5.972}\n",
            "{'bonjour': 42, False: [5, 8, 4], (3, 1, 6): 5.972}\n"
          ],
          "name": "stdout"
        }
      ]
    },
    {
      "cell_type": "markdown",
      "metadata": {
        "id": "OoYL9YvJu8Wz"
      },
      "source": [
        "Les opérateurs *len* et *in* peuvent être appliqués aux dictionnaires."
      ]
    },
    {
      "cell_type": "code",
      "metadata": {
        "colab": {
          "base_uri": "https://localhost:8080/"
        },
        "id": "TW4G7Nqtu5Ox",
        "outputId": "9804d8a7-579f-4f5a-9f42-d82d40fb0b2d"
      },
      "source": [
        "print(len(dic3))\n",
        "print('pomme' in dic)\n",
        "print('apple' in dic)"
      ],
      "execution_count": 17,
      "outputs": [
        {
          "output_type": "stream",
          "text": [
            "3\n",
            "True\n",
            "False\n"
          ],
          "name": "stdout"
        }
      ]
    },
    {
      "cell_type": "markdown",
      "metadata": {
        "id": "iI3ebggcvY7W"
      },
      "source": [
        "L'opérateur *in* applique la recherche sur les clés et non sur les valeurs.\n",
        "\n",
        "Il est possible de parcourir un dictionnaire."
      ]
    },
    {
      "cell_type": "code",
      "metadata": {
        "colab": {
          "base_uri": "https://localhost:8080/"
        },
        "id": "6GTeNKA-vSwg",
        "outputId": "218c967d-dcba-42c8-961a-2e2dbce0ba13"
      },
      "source": [
        "for fruit in dic:\n",
        "  print(dic[fruit])"
      ],
      "execution_count": 19,
      "outputs": [
        {
          "output_type": "stream",
          "text": [
            "apple\n",
            "banana\n",
            "pear\n",
            "grape\n"
          ],
          "name": "stdout"
        }
      ]
    },
    {
      "cell_type": "markdown",
      "metadata": {
        "id": "8BFITcUpvwB1"
      },
      "source": [
        "Il est possible de supprimer une entrée d'un dictionnaire avec la fonction *del*."
      ]
    },
    {
      "cell_type": "code",
      "metadata": {
        "colab": {
          "base_uri": "https://localhost:8080/"
        },
        "id": "pwEgj4EEv0i2",
        "outputId": "3a383bea-5e57-4fd1-d764-e0980710b96f"
      },
      "source": [
        "del(dic['pomme'])\n",
        "print(dic)"
      ],
      "execution_count": 21,
      "outputs": [
        {
          "output_type": "stream",
          "text": [
            "{'banane': 'banana', 'poire': 'pear', 'raisin': 'grape'}\n"
          ],
          "name": "stdout"
        }
      ]
    },
    {
      "cell_type": "markdown",
      "metadata": {
        "id": "X4CEsuUvweUg"
      },
      "source": [
        "Utiliser un tuple comme clé dans un dictionnaire est un usage courant."
      ]
    },
    {
      "cell_type": "code",
      "metadata": {
        "colab": {
          "base_uri": "https://localhost:8080/"
        },
        "id": "wMceiPGCvoVz",
        "outputId": "c9a1b677-4650-4b2b-e9e5-7fb07415026e"
      },
      "source": [
        "age = {('Petit','Thomas') : 47, ('Durand','Marion') : 24, ('Leroy','Antoine') : 38, ('Lefebvre','Anne') : 43}\n",
        "print(age)"
      ],
      "execution_count": 29,
      "outputs": [
        {
          "output_type": "stream",
          "text": [
            "{('Petit', 'Thomas'): 47, ('Durand', 'Marion'): 24, ('Leroy', 'Antoine'): 38, ('Lefebvre', 'Anne'): 43}\n"
          ],
          "name": "stdout"
        }
      ]
    },
    {
      "cell_type": "markdown",
      "metadata": {
        "id": "IH6_9HTkxVvL"
      },
      "source": [
        "Il est possible de parcourir le dictionnaire ainsi."
      ]
    },
    {
      "cell_type": "code",
      "metadata": {
        "colab": {
          "base_uri": "https://localhost:8080/"
        },
        "id": "V63oUL-vwHDO",
        "outputId": "675ed67a-18aa-405b-a710-9d23a35ad927"
      },
      "source": [
        "for nom, prenom in ages:\n",
        "  print(prenom, nom, age[(nom,prenom)])"
      ],
      "execution_count": 33,
      "outputs": [
        {
          "output_type": "stream",
          "text": [
            "Thomas Petit 47\n",
            "Marion Durand 24\n",
            "Antoine Leroy 38\n",
            "Anne Lefebvre 43\n"
          ],
          "name": "stdout"
        }
      ]
    }
  ]
}