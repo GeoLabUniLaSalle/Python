{
  "nbformat": 4,
  "nbformat_minor": 0,
  "metadata": {
    "colab": {
      "name": "Fake News 6.ipynb",
      "provenance": [],
      "collapsed_sections": [],
      "authorship_tag": "ABX9TyPLHUxERh7NtEeW5/JrBacM",
      "include_colab_link": true
    },
    "kernelspec": {
      "name": "python3",
      "display_name": "Python 3"
    }
  },
  "cells": [
    {
      "cell_type": "markdown",
      "metadata": {
        "id": "view-in-github",
        "colab_type": "text"
      },
      "source": [
        "<a href=\"https://colab.research.google.com/github/GeoLabUniLaSalle/Python/blob/main/Fake_News_6.ipynb\" target=\"_parent\"><img src=\"https://colab.research.google.com/assets/colab-badge.svg\" alt=\"Open In Colab\"/></a>"
      ]
    },
    {
      "cell_type": "markdown",
      "metadata": {
        "id": "34M0DFP2BsJt"
      },
      "source": [
        "## **Fake News 6 ★★★**\n",
        "\n",
        "*Exercice disponible sur la plateforme TOSA : Battle Dev Hello Works - Novembre 2020 : https://www.isograd.com/FR/solutionconcours.php*\n",
        "\n",
        "**Énoncé**\n",
        "\n",
        "\n",
        "Le temps d'une soirée, vous incarnez Jean-Claude Van Debunk, un des plus grands journalistes d'investigations du XXIe siècle.\n",
        "\n",
        "Votre nouvelle enquête ? Vous cherchez la source d'une vague de fake news sans précédent, cherchant à déstabiliser les élections prochaines en Russie. Et vous pensez avoir une excellente piste, qui pourrait mener aux plus grandes révélations de votre carrière !\n",
        "\n",
        "Plusieurs sources vous ont indiqué qui serait à la tête de ce puissant réseau : un mystérieux Dolan Grump.\n",
        "\n",
        "Prêt.e à démasquer Dolan et démanteler son réseau ? Il n'y a pas de temps à perdre, les fake news continuent d'arriver par millions !\n",
        "\n",
        "\n",
        "**Objectif**\n",
        "\n",
        "\n",
        "Maintenant que vous avez déchiffré toutes les communications du réseau de fake news, vous avez prévenu les autorités compétentes. Malheureusement, ces autorités ne sont pas suffisamment compétentes pour arrêter le réseau de fake news à temps pour les élections de 2022. Vous devez donc prendre les choses en main pour empêcher les fake news de se répandre.\n",
        "\n",
        "Pour chacun des N articles de fake news sortis au cours des derniers mois, vous avez un article de debunk sorti à la même période. Un article est représenté par une string S = S[1]...S[|S|] représentant une suite de sujets. Chaque caractère de la chaîne de caractères représente donc un sujet, et un même sujet peut être traité plusieurs fois dans un article (avec des arguments différents).\n",
        "\n",
        "Pour ne pas surcharger le cerveau des lecteurs et des lectrices, chaque matin vous allez pouvoir choisir un article F de fake news et l'article D de debunk correspondant et faire un tweet T = [(a[1], b[1]), (a[2], b[2]), ..., (a[k], b[k])] mettant en évidence k paires d'arguments traités dans les articles. Pour qu'un tweet soit frappant, il y a quelques règles à suivre :\n",
        "- deux arguments comparés (x, y) doivent correspondre au même sujet (F[x] = D[­y]);\n",
        "- les arguments doivent être traités dans le même ordre que dans les articles (0<=a[1]\n",
        "Votre stratégie n'est pas passée inaperçue, et la rédaction de fake news a décidé de faire exactement la même chose que vous. Ainsi, pour chaque tweet que vous ferez, ils feront aussi un tweet l'après-midi, mais pas nécessairement sur le même article.\n",
        "Comme l'important est d'avoir le dernier mot, le premier ou la première à ne plus pouvoir traiter d'un argument non déjà traité (qu'il ait été traité par vous ou par eux) aura perdu de cette joute journalistique.\n",
        "\n",
        "Étant donné la liste des articles, déterminez si vous pouvez être sûr(e) d'avoir le dernier mot.\n",
        "\n",
        "\n",
        "\n",
        "\n",
        "**Format des données**\n",
        "\n",
        "*Entrée*\n",
        "\n",
        "Ligne 1 : Un entier N (avec 1 <= N <= 100), le nombre de paires d'articles que vous avez à disposition.\n",
        "\n",
        "Lignes 2 à N+1 : deux chaînes de caractères F et D (avec 1 <= |F|,|D| <= 5) séparées par une espace et composées de lettres minuscules uniquement. Les caractères de F et D représentent les sujets de ces articles, et un même sujet peut être traité plusieurs fois dans un article\n",
        "\n",
        "*Sortie*\n",
        "\n",
        "Le mot \"DEBUNK\" si vous pouvez être sûr d'avoir le dernier mot en tweetant en premier, sinon \"FAKE\".\n",
        "\n",
        "\n",
        "*Exemple*\n",
        "\n",
        "Pour l'entrée :\n",
        "\n",
        "2\n",
        "\n",
        "cabc dbad\n",
        "\n",
        "abab cdcd\n",
        "\n",
        "Dans cet exemple, il n'y a pas d'argument en commun dans la deuxième paire d'article, on ne pourra donc pas tweeter dessus. Dans le premier par contre, il n'y a que 2 sous-suites de caractères en commun : \"a\" et \"b\" (aucune sous-suite commune de 2 caractère ou plus n'existe). Comme vous commençez à tweeter, on peut commencer par \"a\" et votre adversaire tweetera \"b\" (ou l'inverse), et nous aurons perdu. Ainsi, vous ne pourrez pas avoir le dernier mot et devez donc afficher :\n",
        "\n",
        "FAKE\n",
        "\n",
        "Pour l'entrée :\n",
        "\n",
        "2\n",
        "\n",
        "cabc dbad\n",
        "\n",
        "abcab abadb\n",
        "\n",
        "Ici, vous pouvez commencer par tweeter \"abab\" dans la deuxième paire d'article. Il ne reste plus que \"c\" dans le premier article de cette paire, et \"d\" dans le second : ni vous ni votre adversaire ne pouvez donc tweeter un argument de cette paire d'articles. Votre adversaire se retrouve alors avec deux arguments restant (\"a\" et \"b\" de la première paire d'articles), mais ne peut tweeter qu'à propos de l'un à la fois. Vous aurez donc le dernier mot et pouvez fièrement afficher :\n",
        "\n",
        "DEBUNK"
      ]
    },
    {
      "cell_type": "markdown",
      "metadata": {
        "id": "e7G56hKHCCJ3"
      },
      "source": [
        "## **Données**\n",
        "\n",
        "*Accès aux données*\n"
      ]
    },
    {
      "cell_type": "code",
      "metadata": {
        "colab": {
          "base_uri": "https://localhost:8080/"
        },
        "id": "KOjnc7HkCDN1",
        "outputId": "56f84555-f8b2-4a7a-b82b-be4d305c88ba"
      },
      "source": [
        "import csv\n",
        "filedir = ('https://cours.unilasalle.fr/courses/SG4007/document/Exercices_Python/Fake_News_6/')\n",
        "\n",
        "import ssl\n",
        "ssl._create_default_https_context = ssl._create_unverified_context\n",
        "\n",
        "import urllib.request\n",
        "\n",
        "for x in range(1,13):\n",
        "  f = urllib.request.urlopen(str(filedir+\"input\"+str(x)+\".txt\"))\n",
        "\n",
        "  data=[]\n",
        "  for i in f:\n",
        "      line=i.decode('utf-8').strip()\n",
        "      data.append(line)\n",
        "  print('Entrée',x,':',data)\n",
        "\n",
        "  f = urllib.request.urlopen(str(filedir+\"output\"+str(x)+\".txt\"))\n",
        "  for i in f:\n",
        "      line=i.decode('utf-8').strip()\n",
        "  print('Sortie',x,':',line,'\\n')"
      ],
      "execution_count": 1,
      "outputs": [
        {
          "output_type": "stream",
          "text": [
            "Entrée 1 : ['1', 'addcb dcbda']\n",
            "Sortie 1 : DEBUNK \n",
            "\n",
            "Entrée 2 : ['1', 'eecab eceba']\n",
            "Sortie 2 : DEBUNK \n",
            "\n",
            "Entrée 3 : ['1', 'dacbe ceabd']\n",
            "Sortie 3 : FAKE \n",
            "\n",
            "Entrée 4 : ['1', 'ccabb bacbc']\n",
            "Sortie 4 : FAKE \n",
            "\n",
            "Entrée 5 : ['10', 'abdbc abcbd', 'bccbd bbcdc', 'badce ebcad', 'abece ebcea', 'cddcd dccdd', 'babba abbab', 'ddccd dcdcd', 'bcabd cabdb', 'dcceb cbecd', 'bceae bacee']\n",
            "Sortie 5 : DEBUNK \n",
            "\n",
            "Entrée 6 : ['10', 'cdcce ecccd', 'cbcce ccecb', 'cbdee beced', 'eadda edada', 'becbd edbbc', 'cdbbd dcbdb', 'bacdd dabcd', 'eedac aceed', 'dcccd dcccd', 'bdece edebc']\n",
            "Sortie 6 : DEBUNK \n",
            "\n",
            "Entrée 7 : ['10', 'bbcca baccb', 'edddc dcedd', 'ddbdb dbddb', 'aedba dbaae', 'ddeac edacd', 'ddbac dbdac', 'eabab ebaba', 'adbcd cbadd', 'cbeed eebcd', 'adbde ddeba']\n",
            "Sortie 7 : FAKE \n",
            "\n",
            "Entrée 8 : ['10', 'abcda abdca', 'abacd badac', 'bddda dbadd', 'ddeca ecdad', 'decbe deceb', 'deada dedaa', 'adaae aadea', 'abcdc accdb', 'daccd cdadc', 'aaddb aaddb']\n",
            "Sortie 8 : FAKE \n",
            "\n",
            "Entrée 9 : ['100', 'bbdec dbcbe', 'cbbbc bccbb', 'beddd bdded', 'ccaad cadac', 'deebc edceb', 'ccbaa cacab', 'eedce edcee', 'bcaea ebcaa', 'eedbb beebd', 'bdcca ccbad', 'ccaac caacc', 'beebc ebcbe', 'bdded dbedd', 'acaba caaab', 'ebabc ecbba', 'edacb cbade', 'abbec bbeca', 'aaced caead', 'bceab bbaec', 'cdeba bdeca', 'adbcb dbabc', 'bbbdc bbcbd', 'dcade dadce', 'dddde ddedd', 'dccec ceccd', 'dbabe edbab', 'dbeed dbeed', 'cacbb bcabc', 'eaaba abeaa', 'ebbae eabeb', 'bdbdb ddbbb', 'eadca acdae', 'cdeac ccdea', 'eacce eaecc', 'beccc cccbe', 'ccabb cabcb', 'ebcca acecb', 'daebd edadb', 'beeac cbeea', 'bdeab babed', 'addbe debda', 'bedac abecd', 'adabe eabad', 'bcade cebad', 'caadb adbac', 'bedaa adbea', 'aeede edaee', 'dccbd dccdb', 'bddda bddda', 'bbbad dabbb', 'ebcca cbcea', 'adada aaadd', 'ebdbe bdeeb', 'debbc ebcdb', 'adbec bcdea', 'edcbb bcbde', 'deace cdeea', 'cbcad bcdac', 'decbd bedcd', 'acbdb dbcba', 'dccdc cdcdc', 'babda daabb', 'cecca accce', 'dacdd dcadd', 'ecbbd dbbec', 'ecbcd cdebc', 'baeee eebea', 'cbcbc cbbcc', 'addcc ddcac', 'bccdd ddcbc', 'daacb dacba', 'eddee eeded', 'bceec ceecb', 'deded eddde', 'cbcad cbcda', 'ddbcb bdbdc', 'beabb ebabb', 'adaaa aadaa', 'dbcde bddce', 'bdabc cbbda', 'dcaea adaec', 'baeca ceaab', 'abcbd adbbc', 'bddad bdadd', 'dbdaa dadba', 'aaadd aaadd', 'ccbcc cbccc', 'abeed beaed', 'accdc acdcc', 'adccc cdcca', 'beace becea', 'bcdad cabdd', 'bbadd ddbba', 'bbbbc bbbcb', 'abcbd dbbca', 'dccca cacdc', 'cccda daccc', 'daeee aeeed', 'abbbd babdb', 'adeaa aaaed']\n",
            "Sortie 9 : DEBUNK \n",
            "\n",
            "Entrée 10 : ['100', 'aebba bbaea', 'bcecc ecbcc', 'cdbae dcbea', 'dbcda abdcd', 'ebddc decbd', 'cbbde dcbeb', 'baacd adbca', 'bbdea babde', 'eeedd edede', 'daaba daaab', 'dbabb dabbb', 'addbd bddad', 'bbbeb bbbbe', 'ddece decde', 'acaec caeca', 'dedac ddcea', 'badca dcbaa', 'abdab bdaba', 'cbbce eccbb', 'ceded ceedd', 'adadc cdaad', 'ebbde bedeb', 'edaec eeadc', 'cecdb dbecc', 'eccba beacc', 'baddc dbacd', 'ccbad ccbad', 'baaab baaab', 'aaaca aaaac', 'bbaad abdba', 'ceceb bceec', 'dcacb dcabc', 'ceaeb ecbae', 'dcaaa acada', 'eddac eacdd', 'aeebc beace', 'ceecd deecc', 'cebba beacb', 'becee ebcee', 'aadac aaadc', 'dbcea ceadb', 'cdebc cbdce', 'cabde bcdae', 'dddad adddd', 'baeea eeaba', 'cebed ebdce', 'accbb abbcc', 'edddb ddebd', 'adedd daedd', 'aedce eedca', 'ddadb bddad', 'ecade eeadc', 'eaaba aaeba', 'abacb baabc', 'cdabe cdbae', 'beede eedbe', 'bdedc ddecb', 'eaded ddaee', 'eaacc aeacc', 'ccaed ceadc', 'dcddc dcddc', 'baced dcbae', 'deded eeddd', 'eabca ebaac', 'ddddb dddbd', 'aaeac eaaac', 'eccbe ebcce', 'dabcb bcabd', 'eaada aadea', 'edaed aeedd', 'ccadd cdacd', 'eaedd aedde', 'bdeab bdbea', 'cadca aadcc', 'adacc daacc', 'bdebc dbcbe', 'ccece cecec', 'cedac decac', 'eaeab baeae', 'eceec eecec', 'acddc accdd', 'eacbd cdabe', 'ebbcb bbceb', 'aabde dabea', 'cbeee ecebe', 'dabed eadbd', 'aecbe acbee', 'eecac aeecc', 'ebebc becbe', 'abbba bbaab', 'aeaca acaea', 'bddec ecdbd', 'caebe eaecb', 'cbdca cdbca', 'edaed aeedd', 'aedca eacda', 'ecdce ccdee', 'ccaca accca', 'beadc ecbad', 'bdece deebc']\n",
            "Sortie 10 : DEBUNK \n",
            "\n",
            "Entrée 11 : ['100', 'dbced bcdde', 'aeace ceeaa', 'aedbb adbbe', 'dcbac abdcc', 'edece ecdee', 'daaab badaa', 'bcdad cabdd', 'cdcca ccdac', 'dbcda dbdca', 'ccedc dcecc', 'dcacd dacdc', 'bcece ebcec', 'adbea aeadb', 'dbddb bddbd', 'deccd eccdd', 'adada ddaaa', 'daadd ddaad', 'cccdd cdccd', 'decab ebadc', 'dbbea abdeb', 'ddacc cddca', 'ebbcc cebbc', 'deaee eeade', 'bdcba adcbb', 'aeacb abcea', 'eeeda aedee', 'debdc bddec', 'cdbdc dcbdc', 'cbbcc ccbcb', 'adbca baadc', 'acccd daccc', 'cecaa aacec', 'eddde dddee', 'bbbac bcabb', 'ddbdc cdbdd', 'dbead bdade', 'ccedc eccdc', 'bedcc ccbed', 'bdbee debeb', 'aeecc acece', 'ebaad aadbe', 'ecdda ecdad', 'dccba bcadc', 'aaaca caaaa', 'baaac acaab', 'dbaaa adbaa', 'bdabe dabbe', 'daace acdae', 'eebdc ecdbe', 'beeab eaebb', 'eddba eddba', 'eabcd cbeda', 'eddaa adead', 'bddae ebadd', 'acbcb bccba', 'deeed deeed', 'daead daaed', 'eaada aaeda', 'daeaa aeaad', 'adaba aaadb', 'ebacc ccbea', 'beebc ebceb', 'abedb ebabd', 'caedc ceacd', 'dbeae eadbe', 'aabbc baabc', 'aecde edace', 'dceea aceed', 'dcbbd cddbb', 'cebed ebdec', 'daccc ccdca', 'edeac cdeea', 'cdaea aaecd', 'bbdba abdbb', 'bebcb cebbb', 'eccaa cceaa', 'cbbab bbcba', 'bacac abcac', 'dbecd dcebd', 'cedbc dcbec', 'bdcbb cbdbb', 'eacad aacde', 'bbdec dbbec', 'ababb aabbb', 'cebdd decdb', 'bbece ebceb', 'eeadc cdeae', 'cbcbe bcecb', 'ebbca ecbab', 'babcc ccbab', 'cdddd ddcdd', 'ebbad aebdb', 'dacbe cdbae', 'eacdc caced', 'bdeed beedd', 'eabdc decab', 'abcba bacab', 'ebaaa abeaa', 'addbd bddad', 'beeab bbeea']\n",
            "Sortie 11 : FAKE \n",
            "\n",
            "Entrée 12 : ['100', 'dcbdb cddbb', 'beddc ecddb', 'eeded eeedd', 'cdaed caded', 'aaeae aeaae', 'ebacb becba', 'accee eeacc', 'ccabd bacdc', 'bcadc cbcad', 'deabe beaed', 'cdbbc cdbbc', 'ddddc ddcdd', 'dddca adddc', 'beced beedc', 'caddc caddc', 'acdbe ecdba', 'ecaca eacca', 'beadc cadbe', 'cedbd ddebc', 'badad badad', 'baabe bbeaa', 'ccaeb acbec', 'aeccd eacdc', 'ceaae eceaa', 'bdace aecbd', 'badbe abedb', 'bbade eadbb', 'bbbae bbabe', 'ddcec cedcd', 'cbeba caebb', 'eceba bceea', 'aaace aaeac', 'deeae eeaed', 'aeccc caecc', 'ccede edcce', 'abeee ebaee', 'deced eecdd', 'eccde ccdee', 'bddae daedb', 'eaccc ccace', 'dbbeb bedbb', 'abdae bdaae', 'acbad aabcd', 'cbdac dcbac', 'aeaad eaaad', 'eccdc eccdc', 'bbcaa bcaab', 'acaad acaad', 'ecbaa abeac', 'bdeed ddebe', 'ccdac adccc', 'bccbd ccbdb', 'aeabc baace', 'cecbb cbcbe', 'eaede aeede', 'ceaae aeace', 'bcabe babec', 'ddbdd bdddd', 'bbbeb bbbbe', 'eeaba eeaab', 'addba ddbaa', 'acedd dacde', 'bcaaa bacaa', 'aaadb badaa', 'ceedd dedec', 'dcade edcad', 'baecc acceb', 'dbcdc dbccd', 'dedae deade', 'adebb eabbd', 'dbbce bcebd', 'decbd cddbe', 'babde ebbad', 'abdec acebd', 'beeda ebead', 'bdcee ebced', 'eeaab eeaab', 'caeeb eecab', 'aadbd dbdaa', 'ecdeb ebced', 'ebbec bbcee', 'acece eaecc', 'eceee eceee', 'bbbec ebbbc', 'dcaea aaedc', 'bccae ecbca', 'bddcc bdcdc', 'bebee bebee', 'eecda adece', 'aaccc aaccc', 'bdcad cdbad', 'daeaa aeaad', 'adaee aeead', 'dcecd ceddc', 'ccadb dccab', 'dacab dcaab', 'cecde cedce', 'cbedd bdcde', 'acaab aacba', 'bcecd cedbc']\n",
            "Sortie 12 : FAKE \n",
            "\n"
          ],
          "name": "stdout"
        }
      ]
    }
  ]
}