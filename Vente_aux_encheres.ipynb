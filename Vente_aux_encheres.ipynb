{
  "nbformat": 4,
  "nbformat_minor": 0,
  "metadata": {
    "colab": {
      "name": "Vente aux encheres.ipynb",
      "provenance": [],
      "collapsed_sections": [],
      "authorship_tag": "ABX9TyNV1zNJop3dm1UKNGSpdlvR",
      "include_colab_link": true
    },
    "kernelspec": {
      "name": "python3",
      "display_name": "Python 3"
    }
  },
  "cells": [
    {
      "cell_type": "markdown",
      "metadata": {
        "id": "view-in-github",
        "colab_type": "text"
      },
      "source": [
        "<a href=\"https://colab.research.google.com/github/GeoLabUniLaSalle/Python/blob/main/Vente_aux_encheres.ipynb\" target=\"_parent\"><img src=\"https://colab.research.google.com/assets/colab-badge.svg\" alt=\"Open In Colab\"/></a>"
      ]
    },
    {
      "cell_type": "markdown",
      "metadata": {
        "id": "R8kQ2CJh9aDY"
      },
      "source": [
        "## **Vente aux enchères ★☆☆**\n",
        "\n",
        "\n",
        "\n",
        "\n",
        "*Exercice disponible sur la plateforme TOSA : Battle Dev Hello Works - Novembre 2018 : https://www.isograd.com/FR/solutionconcours.php*\n",
        "\n",
        "\n",
        "\n",
        "**Enoncé**\n",
        "\n",
        "\n",
        "Finalement, pour créer sa société, il n'est pas nécessaire d'avoir une idée. On peut prendre une idée qui marche déjà et refaire la même chose. Ensuite, il suffit d'acheter des clics et d'avoir un e-marketing performant. Vous voyez donc les choses en grand : vous allez clôner ebay car faire un site d'enchères ce n'est pas bien compliqué. On reçoit des enchères, on vérifie qu'elles sont strictement supérieures au prix de réserve et on détermine le nom du gagnant à la fin.\n",
        "\n",
        "**Format des données**\n",
        "\n",
        "*Entrée*\n",
        "\n",
        "\n",
        "Ligne 1 : un entier N compris entre 2 et 1 000 correspondant au nombre d'enchères reçues.\n",
        "\n",
        "Ligne 2 : un entier compris entre 1 et 500 correspondant au prix de réserve de l'objet.\n",
        "\n",
        "Lignes 3 à N+2 : un entier P compris entre 1 et 10 000 et une chaîne de caractères E séparés par un espace où P correspond au prix de l'enchère et E correspond au prénom de l’enchérisseur.\n",
        "\n",
        "\n",
        "\n",
        "*Sortie*\n",
        "\n",
        "Une chaîne de caractères correspondant au prénom de vainqueur. Si personne ne remporte l'enchère (car toutes les offres sont inférieures ou égales au prix de réserve), renvoyez KO. On vous garantit que s'il y a un vainqueur, alors il n'y en a qu'un seul."
      ]
    },
    {
      "cell_type": "markdown",
      "metadata": {
        "id": "LaFrvPhE-Ezb"
      },
      "source": [
        "## **Données**\n",
        "\n",
        "*Accès aux données*"
      ]
    },
    {
      "cell_type": "code",
      "metadata": {
        "colab": {
          "base_uri": "https://localhost:8080/"
        },
        "id": "2HlpCu_r-aqr",
        "outputId": "89d4d5b0-8d41-4cb7-f322-f36ce1a81b53"
      },
      "source": [
        "import csv\n",
        "filedir = ('https://cours.unilasalle.fr/courses/SG4007/document/Exercices_Python/Vente_aux_encheres/')\n",
        "\n",
        "import ssl\n",
        "ssl._create_default_https_context = ssl._create_unverified_context\n",
        "\n",
        "import urllib.request\n",
        "\n",
        "for x in range(1,6):\n",
        "  f = urllib.request.urlopen(str(filedir+\"input\"+str(x)+\".txt\"))\n",
        "\n",
        "  data=[]\n",
        "  for i in f:\n",
        "      line=i.decode('utf-8').strip()\n",
        "      data.append(line)\n",
        "  print('Entrée',x,':',data)\n",
        "\n",
        "  f = urllib.request.urlopen(str(filedir+\"output\"+str(x)+\".txt\"))\n",
        "  for i in f:\n",
        "      line=i.decode('utf-8').strip()\n",
        "  print('Sortie',x,':',line,'\\n')"
      ],
      "execution_count": 1,
      "outputs": [
        {
          "output_type": "stream",
          "text": [
            "Entrée 1 : ['3', '200', '100 adef', '200 ibts', '50 ruef']\n",
            "Sortie 1 : KO \n",
            "\n",
            "Entrée 2 : ['3', '30', '100 adef', '200 ibts', '300 ruef']\n",
            "Sortie 2 : RUEF \n",
            "\n",
            "Entrée 3 : ['3', '2', '1 adef', '1 ibts', '1 ruef']\n",
            "Sortie 3 : KO \n",
            "\n",
            "Entrée 4 : ['70', '118', '6006 ncwb', '5037 ewbr', '1705 pxxd', '403 gtlw', '2649 pxxd', '9358 ewbr', '2399 bsbp', '4883 pxxd', '3164 bsbp', '151 pxxd', '9157 gqsz', '7412 xlyk', '3123 qtxl', '9662 gtlw', '8866 gtlw', '6039 ncwb', '8536 qtxl', '3431 ncwb', '9421 xlyk', '525 pxxd', '2690 pxxd', '9249 gqsz', '5907 qtxl', '4777 ewbr', '3199 xlyk', '7170 pxxd', '2665 gtlw', '2331 qtxl', '1077 gqsz', '5254 ncwb', '6368 ncwb', '9405 gqsz', '8259 xlyk', '2510 ncwb', '5841 bsbp', '4265 qtxl', '8955 qtxl', '9801 chsd', '7831 bsbp', '7936 bsbp', '9596 bsbp', '6967 xlyk', '3998 xlyk', '8181 pxxd', '1726 qtxl', '3703 qtxl', '7014 ncwb', '2620 pxxd', '1861 pxxd', '8451 ewbr', '1493 pxxd', '7938 pxxd', '1195 qtxl', '7051 ewbr', '1496 xlyk', '9687 vmvv', '6656 ewbr', '2185 gtlw', '1156 chsd', '4827 gqsz', '9041 qtxl', '7907 gqsz', '343 qtxl', '5529 qtxl', '9353 gqsz', '7956 xlyk', '7730 vmvv', '8373 xlyk', '7584 gqsz', '625 gqsz']\n",
            "Sortie 4 : CHSD \n",
            "\n",
            "Entrée 5 : ['192', '37', '9373 evgx', '8624 bkas', '4283 hftm', '3320 jdpu', '5769 mxck', '3410 zmmn', '6737 hion', '142 yvrr', '7447 hftm', '6692 hion', '1382 yvrr', '353 tlpo', '1569 fcyy', '6667 tlpo', '335 veld', '1157 dyej', '5169 tlpo', '3618 inta', '1148 hion', '5746 hftm', '4871 hion', '5203 evgx', '6236 ogci', '3227 zqda', '2404 mxck', '6681 jdpu', '4000 inta', '1135 zqda', '7607 dyej', '5328 uwlu', '179 bkas', '9672 czfx', '8288 veld', '306 uwlu', '3663 jdpu', '7764 inta', '6583 mxck', '7745 uwlu', '2055 hion', '2953 bkas', '6769 bkas', '4901 veld', '8014 jdpu', '3720 mxck', '763 uwlu', '726 czfx', '9838 dyej', '6194 tlpo', '7302 inta', '4574 hion', '5888 dyej', '9837 yvrr', '5975 hftm', '6038 uwlu', '5064 yvrr', '2133 czfx', '8121 dyej', '2199 mxck', '2282 ogci', '7212 jdpu', '8047 zmmn', '4730 evgx', '2252 gxta', '5294 zqda', '3828 mxck', '8378 tlpo', '5791 fcyy', '6781 hftm', '2289 hftm', '5965 evgx', '3870 gxta', '1027 zqda', '70 zqda', '1025 bkas', '689 hion', '7776 bkas', '6366 ammr', '7203 czfx', '4601 dyej', '1354 zmmn', '6769 ammr', '3063 ammr', '8336 gxta', '2817 jdpu', '5026 fneb', '8142 fcyy', '4934 zqda', '7393 uwlu', '4139 bkas', '2673 veld', '2657 ogci', '4937 ammr', '5763 hftm', '4097 veld', '4739 inta', '8772 hftm', '4118 fcyy', '5660 fcyy', '4002 tlpo', '3201 evgx', '706 bkas', '116 hion', '8803 gxta', '6956 uwlu', '902 ogci', '1397 ogci', '4165 gxta', '6288 ogci', '6747 yvrr', '4364 ammr', '1959 czfx', '9777 dyej', '7112 bkas', '9506 evgx', '9056 inta', '4150 hftm', '2321 fneb', '782 czfx', '8409 yvrr', '2102 evgx', '696 hion', '434 dyej', '260 fneb', '6209 mxck', '3001 veld', '5614 hftm', '5489 uwlu', '7294 gxta', '5843 hion', '3822 jdpu', '7041 hion', '863 fcyy', '94 jdpu', '3754 gxta', '744 fcyy', '5100 gxta', '5545 ogci', '5025 fneb', '9230 zmmn', '7890 zqda', '4126 tlpo', '3117 yvrr', '8427 evgx', '5268 tlpo', '2718 zmmn', '486 jdpu', '4571 dyej', '9411 evgx', '2157 bkas', '7972 czfx', '6775 ammr', '3388 hion', '2564 tlpo', '9751 fcyy', '9906 fneb', '5561 mxck', '6997 tlpo', '6220 zmmn', '633 ogci', '3678 evgx', '2752 bkas', '7761 dyej', '1399 veld', '8040 fneb', '1384 zqda', '3812 ogci', '645 fcyy', '5918 veld', '1947 zmmn', '4421 evgx', '7920 gxta', '9927 tlpo', '8134 ogci', '7789 hftm', '7369 fcyy', '7491 gxta', '4186 hftm', '9557 uwlu', '1234 czfx', '5275 ogci', '4294 yvrr', '8092 czfx', '5192 zqda', '6407 dyej', '410 zqda', '4231 fneb', '593 inta', '8873 fcyy', '1497 ammr', '4085 zmmn', '3939 veld', '9691 jdpu']\n",
            "Sortie 5 : TLPO \n",
            "\n"
          ],
          "name": "stdout"
        }
      ]
    }
  ]
}