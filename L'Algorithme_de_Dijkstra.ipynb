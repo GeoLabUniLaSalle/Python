{
  "nbformat": 4,
  "nbformat_minor": 0,
  "metadata": {
    "colab": {
      "name": "L'Algorithme de Dijkstra.ipynb",
      "provenance": [],
      "collapsed_sections": [],
      "authorship_tag": "ABX9TyPlc3JetCQxmeon/+6V/4Xq",
      "include_colab_link": true
    },
    "kernelspec": {
      "name": "python3",
      "display_name": "Python 3"
    },
    "language_info": {
      "name": "python"
    }
  },
  "cells": [
    {
      "cell_type": "markdown",
      "metadata": {
        "id": "view-in-github",
        "colab_type": "text"
      },
      "source": [
        "<a href=\"https://colab.research.google.com/github/GeoLabUniLaSalle/Python/blob/main/L'Algorithme_de_Dijkstra.ipynb\" target=\"_parent\"><img src=\"https://colab.research.google.com/assets/colab-badge.svg\" alt=\"Open In Colab\"/></a>"
      ]
    },
    {
      "cell_type": "markdown",
      "metadata": {
        "id": "5_5wJTud39gG"
      },
      "source": [
        "# **L'Algorithme de Dijkstra**\n",
        "\n",
        "Voici un exercice qui vous permettra de vous exercer sur la pratique d'optimisation.\n",
        "\n",
        "L'Algorithme de Dijkstra sert à résoudre le problème du **plus court chemin** dans un **graphe pondéré** (orienté ou non orienté). Il permet, par exemple, de déterminer un plus court chemin pour se rendre d'une ville à une autre connaissant le réseau routier d'une région. Plus précisément, il calcule des plus courts chemins à partir d'une source vers tous les autres sommets dans un graphe orienté pondéré par des réels positifs. On peut aussi l'utiliser pour calculer un plus court chemin entre un sommet de départ et un sommet d'arrivée.\n",
        "\n",
        "Cet algorithme est de **complexité polynomiale**. Plus précisément, pour *n* sommets et *a* arêtes, le temps est en *O(a+n.log(n)*.\n",
        "\n",
        "Nous disposons des paramètres suivants :\n",
        "- *D*, un graphe stocké sous la forme d'un dictionnaire de dictionnaires pour pouvoir pondérer les arêtes:"
      ]
    },
    {
      "cell_type": "code",
      "metadata": {
        "id": "WzZtzVa8361z"
      },
      "source": [
        "D = {'A': {'B': {'weight' : 12.3}},\n",
        "     'B': {'F' : {'weight' : 6.1}},\n",
        "     'C': {'D' : {'weight' : 4.2}, 'E' : {'weight' : 17.0}, 'F' : {'weight' : 9.8}},\n",
        "     'D': {'E': {'weight' : 3.3}},\n",
        "     'E': {},\n",
        "     'F': {'G': {'weight' : 6.2}, 'A' : {'weight' : 14.5}},\n",
        "     'G': {'D' : {'weight' : 10.6}}}"
      ],
      "execution_count": null,
      "outputs": []
    },
    {
      "cell_type": "markdown",
      "metadata": {
        "id": "295XMJh7Yc7s"
      },
      "source": [
        "## **Représentation graphique du graphe**\n",
        "\n",
        "Importons les modules nécessaires pour pouvoir visualiser le graphe."
      ]
    },
    {
      "cell_type": "code",
      "metadata": {
        "id": "yEBy0curYkCR"
      },
      "source": [
        "import networkx as nx\n",
        "import matplotlib.pyplot as plt"
      ],
      "execution_count": null,
      "outputs": []
    },
    {
      "cell_type": "markdown",
      "metadata": {
        "id": "kq4sGuHOYb7-"
      },
      "source": [
        "En cas d'erreur sur ce bloc d'instructions, lancez l'installation des modules matplotlib et networkx, redémarrez le noyau, puis re-exécutez la dernière cellule de code.\n"
      ]
    },
    {
      "cell_type": "code",
      "metadata": {
        "id": "Q2c0cUAe1c3u"
      },
      "source": [
        "import sys  \n",
        "!{sys.executable} -m pip install --user matplotlib\n",
        "!{sys.executable} -m pip install --user networkx"
      ],
      "execution_count": null,
      "outputs": []
    },
    {
      "cell_type": "markdown",
      "metadata": {
        "id": "7jPIWUkLYpqe"
      },
      "source": [
        "Voici un affichage graphique de notre graphe."
      ]
    },
    {
      "cell_type": "code",
      "metadata": {
        "colab": {
          "base_uri": "https://localhost:8080/",
          "height": 248
        },
        "id": "puLVZli3XMu9",
        "outputId": "eec595eb-b6f7-472a-8672-5cda481240ec"
      },
      "source": [
        "G = nx.Graph(D) \n",
        "\n",
        "pos = nx.spring_layout(G)\n",
        "\n",
        "nx.draw_networkx_nodes(G, pos)\n",
        "nx.draw_networkx_labels(G, pos)\n",
        "nx.draw_networkx_edges(G, pos)\n",
        "\n",
        "labels = nx.get_edge_attributes(G,'weight')\n",
        "nx.draw_networkx_edge_labels(G,pos,edge_labels=labels)\n",
        "\n",
        "plt.show()"
      ],
      "execution_count": null,
      "outputs": [
        {
          "output_type": "display_data",
          "data": {
            "image/png": "[encoded data removed]",
            "text/plain": [
              "<Figure size 432x288 with 1 Axes>"
            ]
          },
          "metadata": {
            "tags": []
          }
        }
      ]
    },
    {
      "cell_type": "markdown",
      "metadata": {
        "id": "OehgFlITY0hR"
      },
      "source": [
        "## **Manipulation du graphe**\n",
        "\n",
        "Recréons D à partir du graphe G qui n'est pas orienté :"
      ]
    },
    {
      "cell_type": "code",
      "metadata": {
        "colab": {
          "base_uri": "https://localhost:8080/"
        },
        "id": "TbmSczUKY_Pb",
        "outputId": "0b8f2213-2d71-44ad-a68e-44dfd2ff0e19"
      },
      "source": [
        "D = nx.to_dict_of_dicts(G)\n",
        "for i in D:\n",
        "  print(i,':',D[i])"
      ],
      "execution_count": null,
      "outputs": [
        {
          "output_type": "stream",
          "text": [
            "A : {'B': {'weight': 12.3}, 'F': {'weight': 14.5}}\n",
            "B : {'A': {'weight': 12.3}, 'F': {'weight': 6.1}}\n",
            "C : {'D': {'weight': 4.2}, 'E': {'weight': 17.0}, 'F': {'weight': 9.8}}\n",
            "D : {'C': {'weight': 4.2}, 'E': {'weight': 3.3}, 'G': {'weight': 10.6}}\n",
            "E : {'C': {'weight': 17.0}, 'D': {'weight': 3.3}}\n",
            "F : {'B': {'weight': 6.1}, 'C': {'weight': 9.8}, 'G': {'weight': 6.2}, 'A': {'weight': 14.5}}\n",
            "G : {'F': {'weight': 6.2}, 'D': {'weight': 10.6}}\n"
          ],
          "name": "stdout"
        }
      ]
    },
    {
      "cell_type": "markdown",
      "metadata": {
        "id": "bMxgDvvXZeNN"
      },
      "source": [
        "Pour manipuler notre dictionnaire, on observe que *D['A']* nous donne le dictionnaire des voisins du sommet 'A'"
      ]
    },
    {
      "cell_type": "code",
      "metadata": {
        "colab": {
          "base_uri": "https://localhost:8080/"
        },
        "id": "rpzfAueHXvJA",
        "outputId": "a5ed928e-2763-4b00-cfd7-3d01bab3c9a5"
      },
      "source": [
        "print(D['A'])"
      ],
      "execution_count": null,
      "outputs": [
        {
          "output_type": "stream",
          "text": [
            "{'B': {'weight': 12.3}, 'F': {'weight': 14.5}}\n"
          ],
          "name": "stdout"
        }
      ]
    },
    {
      "cell_type": "markdown",
      "metadata": {
        "id": "IUfrNNmYZ4sk"
      },
      "source": [
        "Si on souhaite accéder au poids d'une arête, on écrit :"
      ]
    },
    {
      "cell_type": "code",
      "metadata": {
        "colab": {
          "base_uri": "https://localhost:8080/"
        },
        "id": "vle0GFqiZ2j0",
        "outputId": "82114e8c-3144-42e5-b958-d502ae0e683d"
      },
      "source": [
        "print(D['A']['F']['weight'])"
      ],
      "execution_count": null,
      "outputs": [
        {
          "output_type": "stream",
          "text": [
            "14.5\n"
          ],
          "name": "stdout"
        }
      ]
    },
    {
      "cell_type": "markdown",
      "metadata": {
        "id": "WD81sSQSaLqT"
      },
      "source": [
        "Pour savoir s'il existe une arête reliant deux sommets, on écrit :"
      ]
    },
    {
      "cell_type": "code",
      "metadata": {
        "colab": {
          "base_uri": "https://localhost:8080/"
        },
        "id": "li97kx7kaCa_",
        "outputId": "cde2fef4-ff2d-48fe-b3ab-e5fe84aebf73"
      },
      "source": [
        "print('X' in D['A'])\n",
        "print('F' in D['A'])"
      ],
      "execution_count": null,
      "outputs": [
        {
          "output_type": "stream",
          "text": [
            "False\n",
            "True\n"
          ],
          "name": "stdout"
        }
      ]
    },
    {
      "cell_type": "markdown",
      "metadata": {
        "id": "TS0zsEOMhaB2"
      },
      "source": [
        "Pour savoir si un sommet est présent, on écrit :"
      ]
    },
    {
      "cell_type": "code",
      "metadata": {
        "colab": {
          "base_uri": "https://localhost:8080/"
        },
        "id": "Q6w0zTlBhds2",
        "outputId": "95964b67-530a-4cce-c8b8-fba91919bcbb"
      },
      "source": [
        "print('A' in D)\n",
        "print('X' in D)"
      ],
      "execution_count": null,
      "outputs": [
        {
          "output_type": "stream",
          "text": [
            "True\n",
            "False\n"
          ],
          "name": "stdout"
        }
      ]
    },
    {
      "cell_type": "markdown",
      "metadata": {
        "id": "XAzkFACgiAUf"
      },
      "source": [
        "## **Résolution du problème**\n",
        "\n",
        "Pour résoudre le poblème, nous allons utiliser une File *queue* à laquelle nous allons ajouter les sommets à parcourir, et réaliser un parcours en profondeur.\n",
        "\n",
        "Pour chaque sommet, nous allons stocker le plus court chemin qui permet de l'atteindre dans un dictionnaire *distance*.\n",
        "\n",
        "Lorsque l'on traite un sommet qui n'a pas été traité ou pour lequel nous obtenons un chemin plus cours, nous mettons à jour *distance*."
      ]
    },
    {
      "cell_type": "code",
      "metadata": {
        "colab": {
          "base_uri": "https://localhost:8080/"
        },
        "id": "_Sl8AZwFy-i2",
        "outputId": "7a6dfc9e-0e99-4cd3-d73c-be9a469a9810"
      },
      "source": [
        "def dijkstra(graph, debut):\n",
        "  queue = [debut]\n",
        "  distance = {debut: 0}\n",
        "  while queue:\n",
        "    t = queue.pop(0)\n",
        "    for voisin in graph[t]:\n",
        "      if voisin not in distance :\n",
        "        queue.append(voisin)\n",
        "      nouvelle_distance = distance[t] + graph[t][voisin]['weight']\n",
        "      if(voisin not in distance or nouvelle_distance < distance[voisin]):\n",
        "        distance[voisin] = nouvelle_distance\n",
        "  return distance\n",
        "\n",
        "debut = 'A'\n",
        "print('Distances entre le sommet',debut,'et les autres sommets du graphe :',dijkstra(D,debut))"
      ],
      "execution_count": null,
      "outputs": [
        {
          "output_type": "stream",
          "text": [
            "Distances entre le sommet A et les autres sommets du graphe : {'A': 0, 'B': 12.3, 'F': 14.5, 'C': 24.3, 'G': 20.7, 'D': 28.5, 'E': 31.8}\n"
          ],
          "name": "stdout"
        }
      ]
    },
    {
      "cell_type": "markdown",
      "metadata": {
        "id": "e-3-bHKs6xa8"
      },
      "source": [
        "Cet algorithme permet de connaître le plus court chemin entre deux poins.\n"
      ]
    },
    {
      "cell_type": "code",
      "metadata": {
        "colab": {
          "base_uri": "https://localhost:8080/"
        },
        "id": "azzlpNzB6_B_",
        "outputId": "3e4c4282-f24a-43d6-c8b0-1659010d412f"
      },
      "source": [
        "debut = 'A'\n",
        "fin = 'E'\n",
        "print('Distance entre',debut,'et',fin,':',dijkstra(D,debut)[fin])"
      ],
      "execution_count": null,
      "outputs": [
        {
          "output_type": "stream",
          "text": [
            "Distance entre A et E : 31.8\n"
          ],
          "name": "stdout"
        }
      ]
    },
    {
      "cell_type": "markdown",
      "metadata": {
        "id": "f5Ko_IZ06oF1"
      },
      "source": [
        "il est aussi possible de résoudre le problème avec une fonction du module networkx."
      ]
    },
    {
      "cell_type": "code",
      "metadata": {
        "colab": {
          "base_uri": "https://localhost:8080/"
        },
        "id": "xV023Hml62it",
        "outputId": "0e167870-3481-4d38-b973-b1df8c2ced81"
      },
      "source": [
        "debut = 'A'\n",
        "print('Distances entre le sommet',debut,'et les autres sommets du graphe :',nx.shortest_path_length(G,debut,weight='weight'))"
      ],
      "execution_count": null,
      "outputs": [
        {
          "output_type": "stream",
          "text": [
            "Distances entre le sommet A et les autres sommets du graphe : {'A': 0, 'B': 12.3, 'F': 14.5, 'G': 20.7, 'C': 24.3, 'D': 28.5, 'E': 31.8}\n"
          ],
          "name": "stdout"
        }
      ]
    }
  ]
}