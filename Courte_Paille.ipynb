{
  "nbformat": 4,
  "nbformat_minor": 0,
  "metadata": {
    "colab": {
      "name": "Courte Paille.ipynb",
      "provenance": [],
      "collapsed_sections": [],
      "authorship_tag": "ABX9TyOl55Vy/HCOmDlre79+x3Jt",
      "include_colab_link": true
    },
    "kernelspec": {
      "name": "python3",
      "display_name": "Python 3"
    }
  },
  "cells": [
    {
      "cell_type": "markdown",
      "metadata": {
        "id": "view-in-github",
        "colab_type": "text"
      },
      "source": [
        "<a href=\"https://colab.research.google.com/github/GeoLabUniLaSalle/Python/blob/main/Courte_Paille.ipynb\" target=\"_parent\"><img src=\"https://colab.research.google.com/assets/colab-badge.svg\" alt=\"Open In Colab\"/></a>"
      ]
    },
    {
      "cell_type": "markdown",
      "metadata": {
        "id": "R8kQ2CJh9aDY"
      },
      "source": [
        "## **Courte paille ★☆☆**\n",
        "\n",
        "\n",
        "\n",
        "\n",
        "*Exercice disponible sur la plateforme TOSA : Battle Dev Hello Works - Novembre 2019 : https://www.isograd.com/FR/solutionconcours.php*\n",
        "\n",
        "\n",
        "\n",
        "**Enoncé**\n",
        "\n",
        "\n",
        "En séminaire avec votre entreprise dans un pays exotique, vous avez la possibilité de participer à plusieurs activités. L’excursion sur une île a l’air sympa mais vous préférez participer à la randonnée sur 2 jours. Les paysages sur les chemins sont magnifiques et vous n’avez encore jamais dormi à la belle étoile.\n",
        "\n",
        "Vous êtes partis depuis plus de 10h et malheureusement tout ne se passe pas comme prévu. Il pleut beaucoup, les paysages ne sont pas au rendez-vous et vous êtes épuisés. Vous pensiez que sortir les tentes allait vous soulager mais vous vous rendez compte qu’il en manque une.\n",
        "\n",
        "Le soleil est presque couché donc il faut vite trouver une solution. C'est décidé, une personne doit se sacrifier et ça va se jouer à la courte paille. Vous ramassez autant de bout de bois qu’il y a de personnes et chacun votre tour vous allez en tirer un. Celui qui tire le plus petit bout de bois dormira sans tente.\n",
        "\n",
        "Vous devez déterminer le prénom de la personne qui va dormir sans tente.\n",
        "\n",
        "On vous garantit qu’il n’y a pas d’égalité possible.\n",
        "\n",
        "\n",
        "\n",
        "\n",
        "**Format des données**\n",
        "\n",
        "*Entrée*\n",
        "\n",
        "Ligne 1 : un entier N compris entre 10 et 100 correspondant au nombre de personnes participant à la randonnée.\n",
        "Lignes 2 à N+1 : une chaîne de caractères comprenant entre 5 et 10 caractères en minuscules et un entier compris entre 1 et 1000 séparés par un espace représentant respectivement le prénom d'un participant et la longueur de son bout de bois en centimètres.\n",
        "\n",
        "*Sortie*\n",
        "\n",
        "Le prénom de la personne qui dormira sans tente."
      ]
    },
    {
      "cell_type": "markdown",
      "metadata": {
        "id": "LaFrvPhE-Ezb"
      },
      "source": [
        "## **Données**\n",
        "\n",
        "*Accès aux données*"
      ]
    },
    {
      "cell_type": "code",
      "metadata": {
        "colab": {
          "base_uri": "https://localhost:8080/"
        },
        "id": "2HlpCu_r-aqr",
        "outputId": "d2f4bd51-48f6-4b0f-c1b0-a3a545429035"
      },
      "source": [
        "import csv\n",
        "filedir = ('https://cours.unilasalle.fr/courses/SG4007/document/Exercices_Python/Courte_paille/')\n",
        "\n",
        "import ssl\n",
        "ssl._create_default_https_context = ssl._create_unverified_context\n",
        "\n",
        "import urllib.request\n",
        "\n",
        "for x in range(1,3):\n",
        "  f = urllib.request.urlopen(str(filedir+\"input\"+str(x)+\".txt\"))\n",
        "\n",
        "  data=[]\n",
        "  for i in f:\n",
        "      line=i.decode('utf-8').strip()\n",
        "      data.append(line)\n",
        "  print('Entrée',x,':',data)\n",
        "\n",
        "  f = urllib.request.urlopen(str(filedir+\"output\"+str(x)+\".txt\"))\n",
        "  for i in f:\n",
        "      line=i.decode('utf-8').strip()\n",
        "  print('Sortie',x,':',line,'\\n')"
      ],
      "execution_count": 1,
      "outputs": [
        {
          "output_type": "stream",
          "text": [
            "Entrée 1 : ['10', 'clalnvq 400', 'eqeshq 269', 'kjpnjnph 402', 'acznx 377', 'mueauv 157', 'kulzwg 577', 'mgnhwskh 693', 'vkxjlde 936', 'cbikkt 804', 'kedbzyed 414']\n",
            "Sortie 1 : mueauv \n",
            "\n",
            "Entrée 2 : ['16', 'jmfmdja 136', 'thfljrdb 460', 'bybtzt 496', 'tqcyen 522', 'qdyovl 187', 'kmkmoxs 717', 'vzzbaw 46', 'pqnlpf 580', 'xeaejtn 927', 'tsaqbje 732', 'sqcjhpvfy 709', 'qwqousgl 168', 'oefvjr 993', 'vbxfvry 789', 'ecmye 394', 'umpen 192']\n",
            "Sortie 2 : vzzbaw \n",
            "\n"
          ],
          "name": "stdout"
        }
      ]
    }
  ]
}