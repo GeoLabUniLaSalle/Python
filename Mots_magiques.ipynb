{
  "nbformat": 4,
  "nbformat_minor": 0,
  "metadata": {
    "colab": {
      "name": "Mots magiques.ipynb",
      "provenance": [],
      "collapsed_sections": [],
      "authorship_tag": "ABX9TyN0Luajrprtof97fEqaMJyE",
      "include_colab_link": true
    },
    "kernelspec": {
      "name": "python3",
      "display_name": "Python 3"
    }
  },
  "cells": [
    {
      "cell_type": "markdown",
      "metadata": {
        "id": "view-in-github",
        "colab_type": "text"
      },
      "source": [
        "<a href=\"https://colab.research.google.com/github/GeoLabUniLaSalle/Python/blob/main/Mots_magiques.ipynb\" target=\"_parent\"><img src=\"https://colab.research.google.com/assets/colab-badge.svg\" alt=\"Open In Colab\"/></a>"
      ]
    },
    {
      "cell_type": "markdown",
      "metadata": {
        "id": "R8kQ2CJh9aDY"
      },
      "source": [
        "## **Mots magiques ★☆☆**\n",
        "\n",
        "\n",
        "\n",
        "\n",
        "*Exercice disponible sur la plateforme TOSA : Battle Dev Hello Works - Novembre 2018 : https://www.isograd.com/FR/solutionconcours.php*\n",
        "\n",
        "\n",
        "\n",
        "**Enoncé**\n",
        "\n",
        "\n",
        "Un de vos amis joue dans une équipe de Rugby. Il est lanceur lors des touches. Lors d'une touche le lanceur doit communiquer aux autres joueurs à quelle hauteur il va envoyer le ballon à l'aide d'un code que les adversaires ne doivent pas pouvoir décoder. Pour chaque hauteur, il y a plusieurs codes. Le lanceur crie alors plusieurs mots dont un seul correspond à un code et toute l'équipe peut ainsi déterminer la hauteur choisie.\n",
        "\n",
        "Votre ami vous présente une liste de mots que les joueurs ont proposé (un mot peut donc figurer plusieurs fois dans sa liste) et vous demande de trouver une méthode pour en extraire des mots \"magiques\" qui seront utilisés comme code. Il leur associera des hauteurs ensuite. Vous avez décidé qu'un mot magique aurait les caractéristiques suivantes :\n",
        "- Il doit contenir entre 5 et 7 lettres.\n",
        "- Il doit commencer par deux lettres de l'alphabet qui se suivent dans l'ordre alphabétique.\n",
        "- Il doit se terminer par une voyelle (a, e, i, o, u, ou y).\n",
        "\n",
        "\n",
        "Vous devez déterminer combien de mots magiques différents figurent dans sa liste.\n",
        "\n",
        "**Format des données**\n",
        "\n",
        "*Entrée*\n",
        "\n",
        "\n",
        "Ligne 1 : un entier N compris entre 10 et 1000 correspondant au nombre de mots dans la liste.\n",
        "\n",
        "Ligne 2 à N+1 : une chaîne de caractères contenant entre 2 et 20 caractères en minuscule correspondant à un mot.\n",
        "\n",
        "\n",
        "\n",
        "*Sortie*\n",
        "\n",
        "Un entier correspondant au nombre de mots magiques différents contenus dans la liste."
      ]
    },
    {
      "cell_type": "markdown",
      "metadata": {
        "id": "LaFrvPhE-Ezb"
      },
      "source": [
        "## **Données**\n",
        "\n",
        "*Accès aux données*"
      ]
    },
    {
      "cell_type": "code",
      "metadata": {
        "colab": {
          "base_uri": "https://localhost:8080/"
        },
        "id": "2HlpCu_r-aqr",
        "outputId": "dac3be53-d705-419a-e8ad-10b012163d13"
      },
      "source": [
        "import csv\n",
        "filedir = ('https://cours.unilasalle.fr/courses/SG4007/document/Exercices_Python/Mots_magiques/')\n",
        "\n",
        "import ssl\n",
        "ssl._create_default_https_context = ssl._create_unverified_context\n",
        "\n",
        "import urllib.request\n",
        "\n",
        "for x in range(1,6):\n",
        "  f = urllib.request.urlopen(str(filedir+\"input\"+str(x)+\".txt\"))\n",
        "\n",
        "  data=[]\n",
        "  for i in f:\n",
        "      line=i.decode('utf-8').strip()\n",
        "      data.append(line)\n",
        "  print('Entrée',x,':',data)\n",
        "\n",
        "  f = urllib.request.urlopen(str(filedir+\"output\"+str(x)+\".txt\"))\n",
        "  for i in f:\n",
        "      line=i.decode('utf-8').strip()\n",
        "  print('Sortie',x,':',line,'\\n')"
      ],
      "execution_count": 1,
      "outputs": [
        {
          "output_type": "stream",
          "text": [
            "Entrée 1 : ['2', 'abuiko', 'abuiko']\n",
            "Sortie 1 : 1 \n",
            "\n",
            "Entrée 2 : ['2', 'tbuiko', 'ijkiom']\n",
            "Sortie 2 : 0 \n",
            "\n",
            "Entrée 3 : ['2', 'abuiko', 'abkjdo', 'efpoyggbhbo']\n",
            "Sortie 3 : 2 \n",
            "\n",
            "Entrée 4 : ['27', 'itlap', 'macieqcl', 'wxhvqia', 'fxdlzuuvx', 'usnoo', 'nbjnchhfqj', 'lflngldvm', 'kltfdo', 'xybvoxu', 'qrdqy', 'fsdleky', 'aoujqdsg', 'hiry', 'pynmqvzkw', 'gsjkpqffyr', 'rsrio', 'krlbcbg', 'fa', 'eftcri', 'yzegxca', 'jqjo', 'cplp', 'stxwnu', 'usuhw', 'zffknhjutj', 'vwfeta', 'zpfjxqv']\n",
            "Sortie 4 : 9 \n",
            "\n",
            "Entrée 5 : ['61', 'sthtu', 'fbjbwspe', 'rlsoqcoa', 'mneuhta', 'ppijycton', 'deydbo', 'dzgob', 'nomz', 'klebi', 'cyibire', 'vg', 'nfztsqzxk', 'vjclgfjnff', 'yhwboqud', 'twvwwf', 'stdlby', 'xkh', 'ghv', 'ltmn', 'qdggm', 'wrk', 'vphyv', 'xvlvjbd', 'gxpqoc', 'fgfsmy', 'yjoncarhuo', 'iq', 'pdjnrbet', 'eic', 'uvsvnu', 'wgn', 'rfro', 'yc', 'dfcokeohx', 'imsdwse', 'erqusgg', 'jvtxfar', 'hes', 'hipyncy', 'dtkalb', 'xzlfbe', 'xycuzsi', 'wxyciea', 'bcqua', 'iujzao', 'ldrlhd', 'phtklh', 'ihmzkf', 'kjrjm', 'hkihs', 'xygku', 'jte', 'uaktpjmc', 'chqmv', 'opuuiou', 'lmvtxto', 'vdlmcwf', 'opujqka', 'rsajvve', 'ghymu', 'cinwgw']\n",
            "Sortie 5 : 17 \n",
            "\n"
          ],
          "name": "stdout"
        }
      ]
    }
  ]
}