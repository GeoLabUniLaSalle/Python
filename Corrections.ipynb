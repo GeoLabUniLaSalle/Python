{
  "nbformat": 4,
  "nbformat_minor": 0,
  "metadata": {
    "colab": {
      "name": "Corrections.ipynb",
      "provenance": [],
      "collapsed_sections": [],
      "authorship_tag": "ABX9TyMH3bLmZj7RfqqK7PMN++65",
      "include_colab_link": true
    },
    "kernelspec": {
      "name": "python3",
      "display_name": "Python 3"
    }
  },
  "cells": [
    {
      "cell_type": "markdown",
      "metadata": {
        "id": "view-in-github",
        "colab_type": "text"
      },
      "source": [
        "<a href=\"https://colab.research.google.com/github/GeoLabUniLaSalle/Python/blob/main/Corrections.ipynb\" target=\"_parent\"><img src=\"https://colab.research.google.com/assets/colab-badge.svg\" alt=\"Open In Colab\"/></a>"
      ]
    },
    {
      "cell_type": "markdown",
      "metadata": {
        "id": "yQp4ukJMI0Ap"
      },
      "source": [
        "Tours de Hanoï"
      ]
    },
    {
      "cell_type": "code",
      "metadata": {
        "colab": {
          "base_uri": "https://localhost:8080/"
        },
        "id": "1o-eHnhiIv-H",
        "outputId": "f826ebb0-9a5a-4d32-88f0-a68c1c235cd0"
      },
      "source": [
        "def hanoi(n,debut,inter,fin):\n",
        "  if n==1:\n",
        "    print(debut,fin)\n",
        "  else:\n",
        "    hanoi(n-1,debut,fin,inter)\n",
        "    hanoi(1,debut,inter,fin)\n",
        "    hanoi(n-1,inter,debut,fin)\n",
        "hanoi(3,'A','B','C')"
      ],
      "execution_count": null,
      "outputs": [
        {
          "output_type": "stream",
          "text": [
            "A C\n",
            "A B\n",
            "C B\n",
            "A C\n",
            "B A\n",
            "B C\n",
            "A C\n"
          ],
          "name": "stdout"
        }
      ]
    },
    {
      "cell_type": "code",
      "metadata": {
        "colab": {
          "base_uri": "https://localhost:8080/"
        },
        "id": "6Fz23_Agjl9k",
        "outputId": "a6bf25f7-25c4-4d0e-be9c-c84c1c964b5c"
      },
      "source": [
        "def hanoi(n,debut,inter,fin):\n",
        "  if n==1:\n",
        "    print(debut,fin)\n",
        "    return 1\n",
        "  else:\n",
        "    return(hanoi(n-1,debut,fin,inter)+hanoi(1,debut,inter,fin)+hanoi(n-1,inter,debut,fin))\n",
        "print(hanoi(3,'A','B','C'))"
      ],
      "execution_count": null,
      "outputs": [
        {
          "output_type": "stream",
          "text": [
            "A C\n",
            "A B\n",
            "C B\n",
            "A C\n",
            "B A\n",
            "B C\n",
            "A C\n",
            "7\n"
          ],
          "name": "stdout"
        }
      ]
    },
    {
      "cell_type": "markdown",
      "metadata": {
        "id": "WbVwJzgoIxQ6"
      },
      "source": [
        "Notation Polonaise Inverse"
      ]
    },
    {
      "cell_type": "code",
      "metadata": {
        "id": "PzYuq70aIzRQ"
      },
      "source": [
        "def calcul_NPI(e):\n",
        "  e=e.split()\n",
        "  p = Pile()\n",
        "  for i in e:\n",
        "    if p.taille()>0:\n",
        "      print(p)\n",
        "    if est_Operateur(i):\n",
        "      p.empile(calcul(i,p.depile(),p.depile()))\n",
        "    else:\n",
        "      p.empile(int(i))\n",
        "  return p.depile()\n",
        "\n",
        "print(calcul_NPI(s))"
      ],
      "execution_count": null,
      "outputs": []
    },
    {
      "cell_type": "markdown",
      "metadata": {
        "id": "ugR5MzjBSsGa"
      },
      "source": [
        "La suite de Hamming"
      ]
    },
    {
      "cell_type": "code",
      "metadata": {
        "id": "c4W3DueoStLu"
      },
      "source": [
        "f2 = File()\n",
        "f3 = File()\n",
        "f5 = File()\n",
        "f2.enfile(1)\n",
        "f3.enfile(1)\n",
        "f5.enfile(1)\n",
        "\n",
        "for i in range(2002):\n",
        "  m = min(f2.sommet(),f3.sommet(),f5.sommet())\n",
        "  print(m)\n",
        "  if(m==f2.sommet()):\n",
        "    f2.defile()\n",
        "  if (m==f3.sommet()):\n",
        "    f3.defile()\n",
        "  if (m==f5.sommet()):\n",
        "    f5.defile()\n",
        "  f2.enfile(2*m)\n",
        "  f3.enfile(3*m)\n",
        "  f5.enfile(5*m)"
      ],
      "execution_count": null,
      "outputs": []
    },
    {
      "cell_type": "markdown",
      "metadata": {
        "id": "DL8FANzRvZes"
      },
      "source": [
        "Plus court chemin"
      ]
    },
    {
      "cell_type": "code",
      "metadata": {
        "id": "KckQsPOFvYqq"
      },
      "source": [
        "def distance(D, debut, fin):\n",
        "  couleur = dict()\n",
        "  for x in D:\n",
        "    couleur[x] = 'green'\n",
        "  P = {debut : 0}\n",
        "  couleur[debut] = 'orange'\n",
        "  Q = [debut]\n",
        "  while Q:\n",
        "    u = Q[0]\n",
        "    for v in D[u]:\n",
        "      if couleur[v] == 'green':\n",
        "        P[v] = P[u] + 1\n",
        "        couleur[v] = 'orange'\n",
        "        Q.append(v)\n",
        "    Q.pop(0)\n",
        "    couleur[u] = 'red'\n",
        "  if fin in P:\n",
        "    return P[fin]\n",
        "  else:\n",
        "    return False"
      ],
      "execution_count": null,
      "outputs": []
    },
    {
      "cell_type": "markdown",
      "metadata": {
        "id": "JlE1XHTn3Kr4"
      },
      "source": [
        "Chemin parcouru"
      ]
    },
    {
      "cell_type": "code",
      "metadata": {
        "colab": {
          "base_uri": "https://localhost:8080/"
        },
        "id": "d3hcn0MO3LwZ",
        "outputId": "6b1a4859-1f0f-4959-8fa3-52215bfd3a92"
      },
      "source": [
        "def chemin(D,debut,fin):\n",
        "  u=fin\n",
        "  c=[fin]\n",
        "  for i in range(distance(D,debut,fin)):\n",
        "    c.append(P[u])\n",
        "    u=P[u]\n",
        "  return list(reversed(c))\n",
        "\n",
        "print(P)\n",
        "\n",
        "print(chemin(D,1,36))"
      ],
      "execution_count": null,
      "outputs": [
        {
          "output_type": "stream",
          "text": [
            "{1: None, 2: 1, 3: 2, 9: 3, 8: 9, 15: 9, 7: 8, 16: 15, 13: 7, 10: 16, 19: 13, 4: 10, 25: 19, 20: 19, 5: 4, 31: 25, 14: 20, 6: 5, 32: 31, 12: 6, 26: 32, 18: 12, 27: 26, 24: 18, 33: 27, 21: 27, 30: 24, 34: 33, 22: 21, 29: 30, 35: 34, 28: 34, 23: 22, 36: 35, 17: 23, 11: 17}\n",
            "[1, 2, 3, 9, 8, 7, 13, 19, 25, 31, 32, 26, 27, 33, 34, 35, 36]\n"
          ],
          "name": "stdout"
        }
      ]
    },
    {
      "cell_type": "code",
      "metadata": {
        "id": "E6CE5SXh3e2F"
      },
      "source": [
        "def cheminBFS(l,debut,fin):\n",
        "  P = {debut : None}\n",
        "  Q = [debut]\n",
        "  while Q:\n",
        "    u = Q.pop(0)\n",
        "    for v in l[u]:\n",
        "      if v in P:\n",
        "        continue\n",
        "      P[v] = u\n",
        "      Q.append(v)\n",
        "  return fin in P\n",
        "\n",
        "A = (rd.randint(0,HAUTEUR-1),rd.randint(0,LARGEUR-1))\n",
        "B = (rd.randint(0,HAUTEUR-1),rd.randint(0,LARGEUR-1))\n",
        "c = cheminBFS(D,A,B)\n",
        "if c:\n",
        "  print(\"Il existe un chemin reliant les sommets\",A,\"et\",B)\n",
        "else:\n",
        "  print(\"Il n'existe pas de chemin reliant les sommets\",A,\"et\",B)"
      ],
      "execution_count": null,
      "outputs": []
    },
    {
      "cell_type": "code",
      "metadata": {
        "id": "-pIxY-4nDudi"
      },
      "source": [
        "def cheminDFS(l,debut,fin):\n",
        "  P={s:None}\n",
        "  Q=[s]\n",
        "  while Q:\n",
        "    u=Q[-1]\n",
        "    R=[y for y in voisins(u) if y not in P]\n",
        "    if R :\n",
        "      v=rd.choice(R) # Tire un élément au hasard parmi R (parmi les voisins possibles)\n",
        "      P[v]=u\n",
        "      Q.append(v)\n",
        "    else :\n",
        "      Q.pop()\n",
        "  return fin in P\n",
        "\n",
        "A = (rd.randint(0,HAUTEUR-1),rd.randint(0,LARGEUR-1))\n",
        "B = (rd.randint(0,HAUTEUR-1),rd.randint(0,LARGEUR-1))\n",
        "c = cheminBFS(D,A,B)\n",
        "if c:\n",
        "  print(\"Il existe un chemin reliant les sommets\",A,\"et\",B)\n",
        "else:\n",
        "  print(\"Il n'existe pas de chemin reliant les sommets\",A,\"et\",B)"
      ],
      "execution_count": null,
      "outputs": []
    }
  ]
}