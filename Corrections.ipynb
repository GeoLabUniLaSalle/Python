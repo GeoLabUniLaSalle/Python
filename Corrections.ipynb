{
  "nbformat": 4,
  "nbformat_minor": 0,
  "metadata": {
    "colab": {
      "name": "Corrections.ipynb",
      "provenance": [],
      "collapsed_sections": [],
      "authorship_tag": "ABX9TyPdihZOgWS9oxKpDnx0lbUD",
      "include_colab_link": true
    },
    "kernelspec": {
      "name": "python3",
      "display_name": "Python 3"
    }
  },
  "cells": [
    {
      "cell_type": "markdown",
      "metadata": {
        "id": "view-in-github",
        "colab_type": "text"
      },
      "source": [
        "<a href=\"https://colab.research.google.com/github/GeoLabUniLaSalle/Python/blob/main/Corrections.ipynb\" target=\"_parent\"><img src=\"https://colab.research.google.com/assets/colab-badge.svg\" alt=\"Open In Colab\"/></a>"
      ]
    },
    {
      "cell_type": "markdown",
      "metadata": {
        "id": "yQp4ukJMI0Ap"
      },
      "source": [
        "Tours de Hanoï"
      ]
    },
    {
      "cell_type": "code",
      "metadata": {
        "colab": {
          "base_uri": "https://localhost:8080/"
        },
        "id": "1o-eHnhiIv-H",
        "outputId": "f826ebb0-9a5a-4d32-88f0-a68c1c235cd0"
      },
      "source": [
        "def hanoi(n,debut,inter,fin):\n",
        "  if n==1:\n",
        "    print(debut,fin)\n",
        "  else:\n",
        "    hanoi(n-1,debut,fin,inter)\n",
        "    hanoi(1,debut,inter,fin)\n",
        "    hanoi(n-1,inter,debut,fin)\n",
        "hanoi(3,'A','B','C')"
      ],
      "execution_count": null,
      "outputs": [
        {
          "output_type": "stream",
          "text": [
            "A C\n",
            "A B\n",
            "C B\n",
            "A C\n",
            "B A\n",
            "B C\n",
            "A C\n"
          ],
          "name": "stdout"
        }
      ]
    },
    {
      "cell_type": "code",
      "metadata": {
        "colab": {
          "base_uri": "https://localhost:8080/"
        },
        "id": "6Fz23_Agjl9k",
        "outputId": "a6bf25f7-25c4-4d0e-be9c-c84c1c964b5c"
      },
      "source": [
        "def hanoi(n,debut,inter,fin):\n",
        "  if n==1:\n",
        "    print(debut,fin)\n",
        "    return 1\n",
        "  else:\n",
        "    return(hanoi(n-1,debut,fin,inter)+hanoi(1,debut,inter,fin)+hanoi(n-1,inter,debut,fin))\n",
        "print(hanoi(3,'A','B','C'))"
      ],
      "execution_count": null,
      "outputs": [
        {
          "output_type": "stream",
          "text": [
            "A C\n",
            "A B\n",
            "C B\n",
            "A C\n",
            "B A\n",
            "B C\n",
            "A C\n",
            "7\n"
          ],
          "name": "stdout"
        }
      ]
    },
    {
      "cell_type": "markdown",
      "metadata": {
        "id": "WbVwJzgoIxQ6"
      },
      "source": [
        "Notation Polonaise Inverse"
      ]
    },
    {
      "cell_type": "code",
      "metadata": {
        "id": "PzYuq70aIzRQ"
      },
      "source": [
        "def calcul_NPI(e):\n",
        "  e=e.split()\n",
        "  p = Pile()\n",
        "  for i in e:\n",
        "    if p.taille()>0:\n",
        "      print(p)\n",
        "    if est_Operateur(i):\n",
        "      p.empile(calcul(i,p.depile(),p.depile()))\n",
        "    else:\n",
        "      p.empile(int(i))\n",
        "  return p.depile()\n",
        "\n",
        "print(calcul_NPI(s))"
      ],
      "execution_count": null,
      "outputs": []
    },
    {
      "cell_type": "markdown",
      "metadata": {
        "id": "ugR5MzjBSsGa"
      },
      "source": [
        "La suite de Hamming"
      ]
    },
    {
      "cell_type": "code",
      "metadata": {
        "id": "c4W3DueoStLu"
      },
      "source": [
        "f2 = File()\n",
        "f3 = File()\n",
        "f5 = File()\n",
        "f2.enfile(1)\n",
        "f3.enfile(1)\n",
        "f5.enfile(1)\n",
        "\n",
        "for i in range(2002):\n",
        "  m = min(f2.sommet(),f3.sommet(),f5.sommet())\n",
        "  print(m)\n",
        "  if(m==f2.sommet()):\n",
        "    f2.defile()\n",
        "  if (m==f3.sommet()):\n",
        "    f3.defile()\n",
        "  if (m==f5.sommet()):\n",
        "    f5.defile()\n",
        "  f2.enfile(2*m)\n",
        "  f3.enfile(3*m)\n",
        "  f5.enfile(5*m)"
      ],
      "execution_count": null,
      "outputs": []
    },
    {
      "cell_type": "markdown",
      "metadata": {
        "id": "DL8FANzRvZes"
      },
      "source": [
        "Plus court chemin"
      ]
    },
    {
      "cell_type": "code",
      "metadata": {
        "id": "KckQsPOFvYqq"
      },
      "source": [
        "def distance(D, debut, fin):\n",
        "  couleur = dict()\n",
        "  for x in D:\n",
        "    couleur[x] = 'green'\n",
        "  P = {debut : 0}\n",
        "  couleur[debut] = 'orange'\n",
        "  Q = [debut]\n",
        "  while Q:\n",
        "    u = Q[0]\n",
        "    for v in D[u]:\n",
        "      if couleur[v] == 'green':\n",
        "        P[v] = P[u] + 1\n",
        "        couleur[v] = 'orange'\n",
        "        Q.append(v)\n",
        "    Q.pop(0)\n",
        "    couleur[u] = 'red'\n",
        "  if fin in P:\n",
        "    return P[fin]\n",
        "  else:\n",
        "    return False"
      ],
      "execution_count": null,
      "outputs": []
    },
    {
      "cell_type": "markdown",
      "metadata": {
        "id": "JlE1XHTn3Kr4"
      },
      "source": [
        "Chemin parcouru"
      ]
    },
    {
      "cell_type": "code",
      "metadata": {
        "colab": {
          "base_uri": "https://localhost:8080/"
        },
        "id": "d3hcn0MO3LwZ",
        "outputId": "6b1a4859-1f0f-4959-8fa3-52215bfd3a92"
      },
      "source": [
        "def chemin(D,debut,fin):\n",
        "  u=fin\n",
        "  c=[fin]\n",
        "  for i in range(distance(D,debut,fin)):\n",
        "    c.append(P[u])\n",
        "    u=P[u]\n",
        "  return list(reversed(c))\n",
        "\n",
        "print(P)\n",
        "\n",
        "print(chemin(D,1,36))"
      ],
      "execution_count": null,
      "outputs": [
        {
          "output_type": "stream",
          "text": [
            "{1: None, 2: 1, 3: 2, 9: 3, 8: 9, 15: 9, 7: 8, 16: 15, 13: 7, 10: 16, 19: 13, 4: 10, 25: 19, 20: 19, 5: 4, 31: 25, 14: 20, 6: 5, 32: 31, 12: 6, 26: 32, 18: 12, 27: 26, 24: 18, 33: 27, 21: 27, 30: 24, 34: 33, 22: 21, 29: 30, 35: 34, 28: 34, 23: 22, 36: 35, 17: 23, 11: 17}\n",
            "[1, 2, 3, 9, 8, 7, 13, 19, 25, 31, 32, 26, 27, 33, 34, 35, 36]\n"
          ],
          "name": "stdout"
        }
      ]
    },
    {
      "cell_type": "markdown",
      "metadata": {
        "id": "XRO2x_CvtVo5"
      },
      "source": [
        "Chemin BFS"
      ]
    },
    {
      "cell_type": "code",
      "metadata": {
        "id": "E6CE5SXh3e2F"
      },
      "source": [
        "def cheminBFS(l,debut,fin):\n",
        "  P = {debut : None}\n",
        "  Q = [debut]\n",
        "  while Q:\n",
        "    u = Q.pop(0)\n",
        "    for v in l[u]:\n",
        "      if v in P:\n",
        "        continue\n",
        "      P[v] = u\n",
        "      Q.append(v)\n",
        "  return fin in P\n",
        "\n",
        "A = (rd.randint(0,HAUTEUR-1),rd.randint(0,LARGEUR-1))\n",
        "B = (rd.randint(0,HAUTEUR-1),rd.randint(0,LARGEUR-1))\n",
        "c = cheminBFS(D,A,B)\n",
        "if c:\n",
        "  print(\"Il existe un chemin reliant les sommets\",A,\"et\",B)\n",
        "else:\n",
        "  print(\"Il n'existe pas de chemin reliant les sommets\",A,\"et\",B)"
      ],
      "execution_count": null,
      "outputs": []
    },
    {
      "cell_type": "markdown",
      "metadata": {
        "id": "XWOdvdZOtWwA"
      },
      "source": [
        "Chemin DFS"
      ]
    },
    {
      "cell_type": "code",
      "metadata": {
        "id": "-pIxY-4nDudi"
      },
      "source": [
        "def cheminDFS(l,debut,fin):\n",
        "  P={s:None}\n",
        "  Q=[s]\n",
        "  while Q:\n",
        "    u=Q[-1]\n",
        "    R=[y for y in voisins(u) if y not in P]\n",
        "    if R :\n",
        "      v=rd.choice(R) # Tire un élément au hasard parmi R (parmi les voisins possibles)\n",
        "      P[v]=u\n",
        "      Q.append(v)\n",
        "    else :\n",
        "      Q.pop()\n",
        "  return fin in P\n",
        "\n",
        "A = (rd.randint(0,HAUTEUR-1),rd.randint(0,LARGEUR-1))\n",
        "B = (rd.randint(0,HAUTEUR-1),rd.randint(0,LARGEUR-1))\n",
        "c = cheminBFS(D,A,B)\n",
        "if c:\n",
        "  print(\"Il existe un chemin reliant les sommets\",A,\"et\",B)\n",
        "else:\n",
        "  print(\"Il n'existe pas de chemin reliant les sommets\",A,\"et\",B)"
      ],
      "execution_count": null,
      "outputs": []
    },
    {
      "cell_type": "markdown",
      "metadata": {
        "id": "y8zZbzHatYct"
      },
      "source": [
        "Affichage chemin BFS"
      ]
    },
    {
      "cell_type": "code",
      "metadata": {
        "id": "sGPcH33EspEO"
      },
      "source": [
        "import random as rd\n",
        "import matplotlib.pyplot as plt\n",
        "import time\n",
        "from IPython import display\n",
        "\n",
        "LARGEUR = 20\n",
        "HAUTEUR = 20\n",
        "\n",
        "def voisins(couple):\n",
        "  \"\"\"\n",
        "  Renvoie la liste des cellules voisines\n",
        "  de la cellule 'couple'\n",
        "  \"\"\"\n",
        "  listeVoisins = []\n",
        "  i, j = couple\n",
        "  for d in (-1, 1):\n",
        "    if -1 < i+d < HAUTEUR:\n",
        "      listeVoisins.append((i+d, j))\n",
        "    if   -1 < j+d < LARGEUR:\n",
        "      listeVoisins.append((i, j+d))\n",
        "  return listeVoisins\n",
        "\n",
        "def dfs(s) :\n",
        "  P={s:None}\n",
        "  Q=[s]\n",
        "  while Q:\n",
        "    u=Q[-1]\n",
        "    R=[y for y in voisins(u) if y not in P]\n",
        "    if R :\n",
        "      v=rd.choice(R) # Tire un élément au hasard parmi R (parmi les voisins possibles)\n",
        "      P[v]=u\n",
        "      Q.append(v)\n",
        "    else :\n",
        "      Q.pop()\n",
        "  return P\n",
        "\n",
        "def generer2():\n",
        "  labyrinthe = [[0] * (2*LARGEUR+1) for i in range(2*HAUTEUR+1)]\n",
        "  parcours = dfs((0,0))\n",
        "  for i,j in parcours:\n",
        "    labyrinthe[2*i+1][2*j+1] = 1\n",
        "    if (i,j)!=(0,0):\n",
        "      k,l = parcours[(i,j)]\n",
        "      labyrinthe[i+k+1][j+l+1] = 1\n",
        "  return labyrinthe, parcours\n",
        "\n",
        "def affichebfs(G, S, fin, f, labyrinthe):\n",
        "  P = {S : None}\n",
        "  Q = [S]\n",
        "  while Q:\n",
        "    u = Q.pop(0)\n",
        "    if u==fin:\n",
        "      break\n",
        "    i,j = u\n",
        "    if u!=S:\n",
        "      labyrinthe[2*i+1][2*j+1] = 2\n",
        "    for v in G[u]:\n",
        "      if v in P:\n",
        "        continue\n",
        "      P[v] = u\n",
        "      Q.append(v)\n",
        "      k,l = v\n",
        "      labyrinthe[i+k+1][j+l+1] = 2\n",
        "      affiche(f,labyrinthe)\n",
        "\n",
        "def graphe(l):\n",
        "  G = dict()\n",
        "  for i in range(HAUTEUR):\n",
        "    for j in range(LARGEUR):\n",
        "      v=voisins((i,j))\n",
        "      val = []\n",
        "      for k in v:\n",
        "        a,b = k\n",
        "        if l[i+a+1][j+b+1] == 1:\n",
        "          val.append((a,b))\n",
        "      G[(i,j)]=val\n",
        "  return G\n",
        "\n",
        "def affiche(f,l):\n",
        "  f.set_data(l)\n",
        "  display.display(plt.gcf())\n",
        "  display.clear_output(wait=True)\n",
        "  time.sleep(0.05)\n",
        "\n",
        "\n",
        "A = (rd.randint(0,HAUTEUR-1),rd.randint(0,LARGEUR-1))\n",
        "B = (rd.randint(0,HAUTEUR-1),rd.randint(0,LARGEUR-1))\n",
        "print(A,B)\n",
        "\n",
        "l, p = generer2()\n",
        "l[A[0]*2+1][A[1]*2+1]=3\n",
        "l[B[0]*2+1][B[1]*2+1]=3\n",
        "D = graphe(l)\n",
        "f = plt.imshow(l)\n",
        "plt.xticks([])\n",
        "plt.yticks([])\n",
        "affichebfs(D,A,B,f,l)\n",
        "print('Chemin reliant les points',A,'et',B)"
      ],
      "execution_count": null,
      "outputs": []
    },
    {
      "cell_type": "markdown",
      "metadata": {
        "id": "08ix7oIhtbbV"
      },
      "source": [
        "Affichage chemin DFS"
      ]
    },
    {
      "cell_type": "code",
      "metadata": {
        "id": "Z9-7wZAlspQQ"
      },
      "source": [
        "import random as rd\n",
        "import matplotlib.pyplot as plt\n",
        "import time\n",
        "from IPython import display\n",
        "\n",
        "LARGEUR = 20\n",
        "HAUTEUR = 20\n",
        "\n",
        "def voisins(couple):\n",
        "  \"\"\"\n",
        "  Renvoie la liste des cellules voisines\n",
        "  de la cellule 'couple'\n",
        "  \"\"\"\n",
        "  listeVoisins = []\n",
        "  i, j = couple\n",
        "  for d in (-1, 1):\n",
        "    if -1 < i+d < HAUTEUR:\n",
        "      listeVoisins.append((i+d, j))\n",
        "    if   -1 < j+d < LARGEUR:\n",
        "      listeVoisins.append((i, j+d))\n",
        "  return listeVoisins\n",
        "\n",
        "def dfs(s) :\n",
        "  P={s:None}\n",
        "  Q=[s]\n",
        "  while Q:\n",
        "    u=Q[-1]\n",
        "    R=[y for y in voisins(u) if y not in P]\n",
        "    if R :\n",
        "      v=rd.choice(R) # Tire un élément au hasard parmi R (parmi les voisins possibles)\n",
        "      P[v]=u\n",
        "      Q.append(v)\n",
        "    else :\n",
        "      Q.pop()\n",
        "  return P\n",
        "\n",
        "def generer2():\n",
        "  labyrinthe = [[0] * (2*LARGEUR+1) for i in range(2*HAUTEUR+1)]\n",
        "  parcours = dfs((0,0))\n",
        "  for i,j in parcours:\n",
        "    labyrinthe[2*i+1][2*j+1] = 1\n",
        "    if (i,j)!=(0,0):\n",
        "      k,l = parcours[(i,j)]\n",
        "      labyrinthe[i+k+1][j+l+1] = 1\n",
        "  return labyrinthe, parcours\n",
        "\n",
        "def affichedfs(G, s, fin, f, labyrinthe):\n",
        "  P={s:None}\n",
        "  Q=[s]\n",
        "  while Q:\n",
        "    u=Q[-1]\n",
        "    if u==fin:\n",
        "      break\n",
        "    i,j = u\n",
        "    if u!=s:\n",
        "      labyrinthe[2*i+1][2*j+1] = 2\n",
        "    R=[y for y in G[u] if y not in P]\n",
        "    if R :\n",
        "      v=R[0]\n",
        "      P[v]=u\n",
        "      Q.append(v)\n",
        "      k,l = v\n",
        "      labyrinthe[i+k+1][j+l+1] = 2\n",
        "    else :\n",
        "      Q.pop()\n",
        "    affiche(f,labyrinthe)\n",
        "\n",
        "def graphe(l):\n",
        "  G = dict()\n",
        "  for i in range(HAUTEUR):\n",
        "    for j in range(LARGEUR):\n",
        "      v=voisins((i,j))\n",
        "      val = []\n",
        "      for k in v:\n",
        "        a,b = k\n",
        "        if l[i+a+1][j+b+1] == 1:\n",
        "          val.append((a,b))\n",
        "      G[(i,j)]=val\n",
        "  return G\n",
        "\n",
        "def affiche(f,l):\n",
        "  f.set_data(l)\n",
        "  display.display(plt.gcf())\n",
        "  display.clear_output(wait=True)\n",
        "  time.sleep(0.05)\n",
        "\n",
        "\n",
        "A = (rd.randint(0,HAUTEUR-1),rd.randint(0,LARGEUR-1))\n",
        "B = (rd.randint(0,HAUTEUR-1),rd.randint(0,LARGEUR-1))\n",
        "print(A,B)\n",
        "\n",
        "l, p = generer2()\n",
        "l[A[0]*2+1][A[1]*2+1]=3\n",
        "l[B[0]*2+1][B[1]*2+1]=3\n",
        "D = graphe(l)\n",
        "f = plt.imshow(l)\n",
        "plt.xticks([])\n",
        "plt.yticks([])\n",
        "affichedfs(D,A,B,f,l)\n",
        "print('Chemin reliant les points',A,'et',B)"
      ],
      "execution_count": null,
      "outputs": []
    },
    {
      "cell_type": "markdown",
      "metadata": {
        "id": "yzEy9OHCteNi"
      },
      "source": [
        "Gants"
      ]
    },
    {
      "cell_type": "code",
      "metadata": {
        "colab": {
          "base_uri": "https://localhost:8080/"
        },
        "id": "MtWLPTaZfZME",
        "outputId": "2dd2a665-4a5e-4beb-c4cc-5d7a92f61b16"
      },
      "source": [
        "lines = ['100', 'blanc', 'vert', 'bleu', 'noir', 'y', 'or', 'perle', 'diamant', 'saphir', 'blanc', 'argent', 'y', 'x', 'platine', 'argent', 'blanc', 'or', 'blanc', 'x', 'vert', 'argent', 'blanc', 'platine', 'platine', 'saphir', 'rubis', 'rouge', 'perle', 'jaune', 'or', 'rubis', 'rubis', 'rouge', 'saphir', 'y', 'vert', 'saphir', 'jaune', 'or', 'x', 'vert', 'y', 'bleu', 'platine', 'or', 'rubis', 'argent', 'platine', 'x', 'blanc', 'or', 'rouge', 'perle', 'rouge', 'noir', 'blanc', 'saphir', 'bleu', 'diamant', 'vert', 'platine', 'or', 'jaune', 'vert', 'x', 'platine', 'saphir', 'jaune', 'noir', 'diamant', 'bleu', 'y', 'perle', 'platine', 'argent', 'or', 'rubis', 'bleu', 'perle', 'diamant', 'vert', 'perle', 'rouge', 'rubis', 'x', 'jaune', 'rubis', 'diamant', 'diamant', 'platine', 'noir', 'saphir', 'x', 'saphir', 'saphir', 'bleu', 'jaune', 'rouge', 'saphir', 'perle']\n",
        "\n",
        "s = set(lines[1:])\n",
        "\n",
        "cpt=0\n",
        "for i in s:\n",
        "  cpt+=(lines[1:].count(i))//2\n",
        "print(cpt)"
      ],
      "execution_count": null,
      "outputs": [
        {
          "output_type": "stream",
          "text": [
            "46\n"
          ],
          "name": "stdout"
        }
      ]
    },
    {
      "cell_type": "markdown",
      "metadata": {
        "id": "TVQ6PE9qte97"
      },
      "source": [
        "Flocons"
      ]
    },
    {
      "cell_type": "code",
      "metadata": {
        "colab": {
          "base_uri": "https://localhost:8080/"
        },
        "id": "zlIWmCjXfe1f",
        "outputId": "364fc255-caec-4d58-dc5a-cd485baaf48e"
      },
      "source": [
        "lines = ['13']\n",
        "taille = int(lines[0])\n",
        "L = [['.']*taille for x in range(taille)]\n",
        "d = taille//2\n",
        "l=0\n",
        "for i in range(taille):\n",
        "  j=d\n",
        "  while j <= d+l:\n",
        "    L[i][j]='*'\n",
        "    j+=1\n",
        "  if i<taille/2-1:\n",
        "    d-=1\n",
        "    l+=2\n",
        "  else:\n",
        "    d+=1\n",
        "    l-=2\n",
        "for i in L:\n",
        "  print(''.join(i))"
      ],
      "execution_count": null,
      "outputs": [
        {
          "output_type": "stream",
          "text": [
            "......*......\n",
            ".....***.....\n",
            "....*****....\n",
            "...*******...\n",
            "..*********..\n",
            ".***********.\n",
            "*************\n",
            ".***********.\n",
            "..*********..\n",
            "...*******...\n",
            "....*****....\n",
            ".....***.....\n",
            "......*......\n"
          ],
          "name": "stdout"
        }
      ]
    },
    {
      "cell_type": "markdown",
      "metadata": {
        "id": "-rrvpmumtgat"
      },
      "source": [
        "Topographie"
      ]
    },
    {
      "cell_type": "code",
      "metadata": {
        "colab": {
          "base_uri": "https://localhost:8080/"
        },
        "id": "nLMhqUcygeOq",
        "outputId": "f9bf9348-ecb6-4c35-b712-a4827d273bc2"
      },
      "source": [
        "import math as m\n",
        "\n",
        "lines = ['100', '5 4 5', '3 5 1', '7 1 2', '5 1 2', '8 10 3', '7 6 4', '1 4 5', '6 10 3', '6 8 3', '4 7 2', '4 2 4', '4 4 1', '4 1 2', '8 5 2', '1 2 1', '7 9 4', '5 10 1', '4 5 5', '9 1 4', '5 4 2', '8 8 3', '5 2 5', '7 6 5', '9 3 2', '2 4 3', '3 1 3', '10 5 2', '10 8 5', '10 6 5', '8 10 2', '1 8 1', '6 2 1', '5 9 4', '4 7 5', '8 8 2', '4 1 2', '8 1 4', '2 1 2', '10 1 5', '9 8 5', '2 8 4', '2 4 5', '4 8 4', '10 1 3', '9 8 2', '2 2 2', '4 9 2', '1 10 3', '5 10 3', '4 9 1', '4 1 5', '1 2 2', '10 6 5', '7 5 1', '1 4 5', '3 6 5', '6 10 4', '10 10 4', '4 5 4', '9 8 4', '10 2 4', '10 2 4', '2 2 2', '2 8 5', '3 9 1', '1 2 4', '10 8 4', '7 8 4', '5 1 1', '2 10 5', '8 9 5', '4 9 1', '2 1 2', '5 2 1', '4 4 5', '6 4 1', '3 4 5', '9 10 4', '6 5 4', '6 6 4', '5 4 3', '5 8 2', '7 10 2', '10 5 3', '1 8 5', '1 3 2', '2 5 4', '1 4 4', '8 10 1', '5 5 4', '1 10 1', '7 4 4', '10 10 4', '4 10 1', '9 10 5', '9 10 1', '2 2 3', '9 3 5', '5 10 5', '6 4 2']\n",
        "l=[]\n",
        "for i in lines[1:]:\n",
        "  a=i.split()\n",
        "  l.append([int(a[0]),int(a[1]),int(a[2])])\n",
        "v='OK'\n",
        "for i in l:\n",
        "  for j in l:\n",
        "    if i!=j:\n",
        "      dist = m.sqrt((i[0]-j[0])**2+(i[1]-j[1])**2)\n",
        "      r1=i[2]\n",
        "      r2=j[2]\n",
        "      if min(r1, r2) + dist >= max(r1, r2) and dist<=r1+r2:\n",
        "        v='KO'\n",
        "        break\n",
        "print(v)\n"
      ],
      "execution_count": 47,
      "outputs": [
        {
          "output_type": "stream",
          "text": [
            "KO\n"
          ],
          "name": "stdout"
        }
      ]
    }
  ]
}