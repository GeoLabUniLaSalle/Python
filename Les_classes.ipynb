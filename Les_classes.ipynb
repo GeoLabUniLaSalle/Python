{
  "nbformat": 4,
  "nbformat_minor": 0,
  "metadata": {
    "colab": {
      "name": "Les classes.ipynb",
      "provenance": [],
      "authorship_tag": "ABX9TyPWxSuAEkuhcdkQu4Arf4st",
      "include_colab_link": true
    },
    "kernelspec": {
      "name": "python3",
      "display_name": "Python 3"
    }
  },
  "cells": [
    {
      "cell_type": "markdown",
      "metadata": {
        "id": "view-in-github",
        "colab_type": "text"
      },
      "source": [
        "<a href=\"https://colab.research.google.com/github/GeoLabUniLaSalle/Python/blob/main/Les_classes.ipynb\" target=\"_parent\"><img src=\"https://colab.research.google.com/assets/colab-badge.svg\" alt=\"Open In Colab\"/></a>"
      ]
    },
    {
      "cell_type": "markdown",
      "metadata": {
        "id": "-UXBmGV9OY4a"
      },
      "source": [
        "# **Les classes**\n",
        "\n",
        "Dans ce chapitre, nous allons voir comment créer et utiliser nos propres classes en Python.\n",
        "\n",
        "Débutons par la création d'une classe Voiture, constituée d’un constructeur, d’une méthode permettant d'accélérer, et d’une méthode permettant d’afficher une instance"
      ]
    },
    {
      "cell_type": "code",
      "metadata": {
        "id": "5Wvh5KPfOVeb"
      },
      "source": [
        "class Voiture :\n",
        "  \"\"\"\n",
        "  Classe pour représenter une voiture.\n",
        "  \"\"\"\n",
        "  \n",
        "  def __init__(self, puissance, vitesse) :\n",
        "    \"\"\"\n",
        "    Creation d'une nouvelle voiture constituée d'une puissance en chevaux fiscaux, et d'une vitesse en km/h.\n",
        "    \"\"\"\n",
        "    self.puissance = puissance\n",
        "    self.vitesse = vitesse\n",
        "\n",
        "  def accelere(self, x) :\n",
        "    \"\"\"\n",
        "    Accélere de x km/h.\n",
        "    \"\"\"\n",
        "    self.vitesse += x\n",
        "\n",
        "  def __str__(self) :\n",
        "    \"\"\"\n",
        "    Méthode invoquée lors de l'affichage d'une instance.\n",
        "    \"\"\"\n",
        "    return 'Voiture : '+str(self.puissance)+' CV - '+str(self.vitesse)+' km/h'"
      ],
      "execution_count": 20,
      "outputs": []
    },
    {
      "cell_type": "markdown",
      "metadata": {
        "id": "rP52jHOCPIpb"
      },
      "source": [
        "Nous allons maintennant créer une instance de Voiture et consulter la valeur de ses attributs."
      ]
    },
    {
      "cell_type": "code",
      "metadata": {
        "colab": {
          "base_uri": "https://localhost:8080/"
        },
        "id": "JPWnqjxGO4sh",
        "outputId": "56ff61bd-09ff-4193-ef8b-eec0742d9d32"
      },
      "source": [
        "v = Voiture(puissance=6, vitesse=40) # appel à __init__\n",
        "print(v.puissance)\n",
        "print(v.vitesse)\n",
        "print(v) # appel à __str__"
      ],
      "execution_count": 22,
      "outputs": [
        {
          "output_type": "stream",
          "text": [
            "6\n",
            "40\n",
            "Voiture : 6 CV - 40 km/h\n"
          ],
          "name": "stdout"
        }
      ]
    },
    {
      "cell_type": "markdown",
      "metadata": {
        "id": "4zYWvMNkPeHp"
      },
      "source": [
        "Il est possible d'utiliser les méthodes définies dans la classe Voiture."
      ]
    },
    {
      "cell_type": "code",
      "metadata": {
        "colab": {
          "base_uri": "https://localhost:8080/"
        },
        "id": "-mWcf55UPYbm",
        "outputId": "b436da09-e0e8-4622-fa0f-e73d8f603c44"
      },
      "source": [
        "v.accelere(2)\n",
        "print(vs)"
      ],
      "execution_count": 23,
      "outputs": [
        {
          "output_type": "stream",
          "text": [
            "Voiture : 6 CV - 42 km/h\n"
          ],
          "name": "stdout"
        }
      ]
    }
  ]
}