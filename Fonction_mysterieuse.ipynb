{
  "nbformat": 4,
  "nbformat_minor": 0,
  "metadata": {
    "colab": {
      "name": "Fonction mysterieuse.ipynb",
      "provenance": [],
      "collapsed_sections": [],
      "authorship_tag": "ABX9TyP37hhve2M2QRePRTViQFjQ",
      "include_colab_link": true
    },
    "kernelspec": {
      "name": "python3",
      "display_name": "Python 3"
    }
  },
  "cells": [
    {
      "cell_type": "markdown",
      "metadata": {
        "id": "view-in-github",
        "colab_type": "text"
      },
      "source": [
        "<a href=\"https://colab.research.google.com/github/GeoLabUniLaSalle/Python/blob/main/Fonction_mysterieuse.ipynb\" target=\"_parent\"><img src=\"https://colab.research.google.com/assets/colab-badge.svg\" alt=\"Open In Colab\"/></a>"
      ]
    },
    {
      "cell_type": "markdown",
      "metadata": {
        "id": "R8kQ2CJh9aDY"
      },
      "source": [
        "## **Fonction mystérieuse ★★☆**\n",
        "\n",
        "\n",
        "\n",
        "\n",
        "*Exercice disponible sur la plateforme TOSA : Battle Dev Hello Works - Novembre 2018 : https://www.isograd.com/FR/solutionconcours.php*\n",
        "\n",
        "\n",
        "\n",
        "**Enoncé**\n",
        "\n",
        "\n",
        "Depuis les diverses révélations au sujet de la NSA, vous ne faites plus confiance au générateur de nombres aléatoires de votre système d'exploitation. Vous avez donc mis en place la contre-mesure suivante : après avoir tiré un entier aléatoire, vous le passez à une fonction (déterministe) mystérieuse faite maison, qui associe à chaque entier entre 0 et N un autre entier entre 0 et N.\n",
        "\n",
        "Votre hiérarchie a été tellement séduite par la simplicité de cette idée qu'elle vous a demandé d'étendre cette fonction mystérieuse à des nombres décimaux. Pour cela, vous faites une interpolation linéaire sur chaque intervalle [i, i+1] (cf. exemple ci-dessous pour une explication).\n",
        "\n",
        "Toutefois, vous commencez à douter : les nombres proches du milieu de l'intervalle [0,N] n'apparaîtraient-ils pas plus souvent que ceux aux extrémités ? Ce serait un défaut fâcheux pour votre génération aléatoire. C'est pourquoi vous voulez déterminer le nombre de fois où la fonction passe par N/2.\n",
        "\n",
        "Exemple d'interpolation linéaire\n",
        "\n",
        "![Sans titre4.png](data:image/png;base64,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)\n",
        "\n",
        "Le graphe ci-dessus représente la fonction interpolée à partir des valeurs :\n",
        "f(0) = 0, f(1) = 2, f(2) = 1, f(3) = 5, f(4) = 3, f(5) = 3\n",
        "\n",
        "On constate par exemple qu'entre 2 et 3, f prend toutes les valeurs de 1 à 5, chacune une fois. Donc, comme 1 < 2,5 < 5, il y a un x entre 2 et 3 tel que f(x) = 2,5.\n",
        "On voit aussi que la fonction prend la valeur 1,5 trois fois :\n",
        "- entre 0 et 1 puisque f(0) < 1,5 < f(1) ;\n",
        "- entre 1 et 2 puisque f(1) > 1,5 > f(2) ;\n",
        "- puis entre 2 et 3 puisque f(2) < 1,5 < f(3).\n",
        "\n",
        "De plus, elle prend la valeur 2 deux fois (une fois exactement en 1, puisque f(1) = 2, et une autre fois en un certain point compris entre 2 et 3, puisque f(2) < 2 < f(3)), et la valeur 3 une infinité de fois (en effet, toute entrée entre 4 et 5 donnera une sortie égale à 3, et il y a une infinité de nombres réels compris entre 4 et 5.).\n",
        "\n",
        "**Format des données**\n",
        "\n",
        "*Entrée*\n",
        "\n",
        "\n",
        "Ligne 1: un entier N entre 1 et 99.\n",
        "\n",
        "Ligne 2 : N+1 entiers (et non N, attention !) séparés par des espaces, indiquant f(0), f(1), …, f(N) (f étant votre fonction), tous sont compris entre 0 et N inclus.\n",
        "\n",
        "\n",
        "\n",
        "*Sortie*\n",
        "\n",
        "Un entier, le nombre d'entrées x différentes comprises entre 0 et N pour lesquelles f(x) vaut N/2. Si ce nombre est infini, écrivez INF sur la sortie.\n",
        "\n",
        "*Exemple*\n",
        "\n",
        "L'entrée correspondant à l'exemple donné plus haut est la suivante :\n",
        "\n",
        "5\n",
        "\n",
        "0 2 1 5 3 3\n",
        "\n",
        "La sortie attendue est 1, en effet il y a exactement un x pour lequel f(x) = 5/2 = 2,5, comme dit plus haut ce x est compris entre 2 et 3.\n",
        "\n",
        "Sur l'entrée suivante :\n",
        "\n",
        "4\n",
        "\n",
        "0 2 2 1 0\n",
        "\n",
        "La sortie attendue est INF."
      ]
    },
    {
      "cell_type": "markdown",
      "metadata": {
        "id": "LaFrvPhE-Ezb"
      },
      "source": [
        "## **Données**\n",
        "\n",
        "*Accès aux données*"
      ]
    },
    {
      "cell_type": "code",
      "metadata": {
        "colab": {
          "base_uri": "https://localhost:8080/"
        },
        "id": "2HlpCu_r-aqr",
        "outputId": "3141cdeb-bcc3-4515-9b75-571323b539f6"
      },
      "source": [
        "import csv\n",
        "filedir = ('https://cours.unilasalle.fr/courses/SG4007/document/Exercices_Python/Fonction_mysterieuse/')\n",
        "\n",
        "import ssl\n",
        "ssl._create_default_https_context = ssl._create_unverified_context\n",
        "\n",
        "import urllib.request\n",
        "\n",
        "for x in range(1,6):\n",
        "  f = urllib.request.urlopen(str(filedir+\"input\"+str(x)+\".txt\"))\n",
        "\n",
        "  data=[]\n",
        "  for i in f:\n",
        "      line=i.decode('utf-8').strip()\n",
        "      data.append(line)\n",
        "  print('Entrée',x,':',data)\n",
        "\n",
        "  f = urllib.request.urlopen(str(filedir+\"output\"+str(x)+\".txt\"))\n",
        "  for i in f:\n",
        "      line=i.decode('utf-8').strip()\n",
        "  print('Sortie',x,':',line,'\\n')"
      ],
      "execution_count": 1,
      "outputs": [
        {
          "output_type": "stream",
          "text": [
            "Entrée 1 : ['15', '5 0 7 14 12 5 0 0 15 13 8 11 3 4 11 3']\n",
            "Sortie 1 : 6 \n",
            "\n",
            "Entrée 2 : ['4', '0 2 2 1 0']\n",
            "Sortie 2 : INF \n",
            "\n",
            "Entrée 3 : ['20', '18 13 8 17 9 12 3 12 2 18 1 7 10 15 10 20 20 9 11 11 7']\n",
            "Sortie 3 : 14 \n",
            "\n",
            "Entrée 4 : ['50', '31 1 23 41 6 1 6 35 7 50 6 43 39 18 35 43 10 44 19 6 6 15 26 3 6 43 50 17 28 7 19 1 4 41 3 1 29 33 15 24 22 29 21 9 2 25 32 3 8 13 42']\n",
            "Sortie 4 : 28 \n",
            "\n",
            "Entrée 5 : ['99', '41 17 51 73 90 79 9 92 91 31 2 72 76 80 3 76 63 73 24 99 46 20 60 7 84 28 26 57 27 65 48 38 95 38 19 57 32 36 6 15 25 7 6 35 87 28 89 28 90 37 37 73 70 37 48 78 65 68 57 55 63 21 87 38 50 6 54 16 29 28 83 53 57 17 32 59 15 83 25 87 17 93 10 63 96 1 76 92 44 0 23 36 16 72 31 31 54 24 58 47']\n",
            "Sortie 5 : 58 \n",
            "\n"
          ],
          "name": "stdout"
        }
      ]
    }
  ]
}