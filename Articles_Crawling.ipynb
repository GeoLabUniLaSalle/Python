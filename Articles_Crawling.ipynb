{
 "cells": [
  {
   "cell_type": "code",
   "execution_count": 1,
   "metadata": {},
   "outputs": [],
   "source": [
    "import bs4\n",
    "import requests\n",
    "import datetime\n",
    "import pandas as pd"
   ]
  },
  {
   "cell_type": "markdown",
   "metadata": {},
   "source": [
    "# Python basics"
   ]
  },
  {
   "cell_type": "code",
   "execution_count": 2,
   "metadata": {},
   "outputs": [
    {
     "name": "stdout",
     "output_type": "stream",
     "text": [
      "4\n",
      "text\n"
     ]
    }
   ],
   "source": [
    "# Define a variable and print it to the screen\n",
    "a = 4\n",
    "print(a)\n",
    "\n",
    "t = \"text\"\n",
    "print(t)"
   ]
  },
  {
   "cell_type": "code",
   "execution_count": 3,
   "metadata": {},
   "outputs": [
    {
     "name": "stdout",
     "output_type": "stream",
     "text": [
      "Bonjour à tous\n"
     ]
    }
   ],
   "source": [
    "# Basic operations \n",
    "s1 = 'Bonjour '\n",
    "s2 = 'à '\n",
    "s3 = 'tous'\n",
    "s = s1 + s2 + s3\n",
    "\n",
    "print(s)"
   ]
  },
  {
   "cell_type": "code",
   "execution_count": 4,
   "metadata": {},
   "outputs": [
    {
     "name": "stdout",
     "output_type": "stream",
     "text": [
      "['valeur 1', 'valeur 2', 'valeur 3']\n",
      "['valeur 1', 'valeur 2', 'valeur 3', 'nouvelle valeur']\n",
      "\n",
      "valeur 1\n",
      "valeur 2\n",
      "valeur 3\n",
      "nouvelle valeur\n"
     ]
    }
   ],
   "source": [
    "# Define a list \n",
    "l = ['valeur 1', 'valeur 2', 'valeur 3']\n",
    "print(l)\n",
    "\n",
    "# Add an element to a list\n",
    "l.append('nouvelle valeur')\n",
    "print(l)\n",
    "print() \n",
    "\n",
    "# Loop through values of a list (note the indentation). Try to comment line 4\n",
    "for elt in l:\n",
    "    print(elt)"
   ]
  },
  {
   "cell_type": "code",
   "execution_count": 5,
   "metadata": {},
   "outputs": [
    {
     "name": "stdout",
     "output_type": "stream",
     "text": [
      "range(1, 10)\n"
     ]
    }
   ],
   "source": [
    "# Create a list of integers\n",
    "l = range(1,10)\n",
    "print(l)"
   ]
  },
  {
   "cell_type": "code",
   "execution_count": 6,
   "metadata": {},
   "outputs": [
    {
     "name": "stdout",
     "output_type": "stream",
     "text": [
      "<class 'int'>\n",
      "99\n",
      "\n",
      "<class 'str'>\n",
      "99\n",
      "\n",
      "<class 'str'>\n",
      "99\n"
     ]
    }
   ],
   "source": [
    "# Be careful with types:\n",
    "a = 99\n",
    "print(type(a))\n",
    "print(a)\n",
    "\n",
    "print()\n",
    "\n",
    "b = '99'\n",
    "print(type(b))\n",
    "print(b)\n",
    "\n",
    "print()\n",
    "\n",
    "c = str(a)\n",
    "print(type(c))\n",
    "print(c)"
   ]
  },
  {
   "cell_type": "code",
   "execution_count": 7,
   "metadata": {},
   "outputs": [],
   "source": [
    "# Create a dictionnary\n",
    "dic = {\n",
    "    'title': 'un titre quelconque',\n",
    "    'text' : 'un long texte à propos de rigs de forage'\n",
    "}"
   ]
  },
  {
   "cell_type": "code",
   "execution_count": 8,
   "metadata": {},
   "outputs": [
    {
     "data": {
      "text/html": [
       "<div>\n",
       "<style scoped>\n",
       "    .dataframe tbody tr th:only-of-type {\n",
       "        vertical-align: middle;\n",
       "    }\n",
       "\n",
       "    .dataframe tbody tr th {\n",
       "        vertical-align: top;\n",
       "    }\n",
       "\n",
       "    .dataframe thead th {\n",
       "        text-align: right;\n",
       "    }\n",
       "</style>\n",
       "<table border=\"1\" class=\"dataframe\">\n",
       "  <thead>\n",
       "    <tr style=\"text-align: right;\">\n",
       "      <th></th>\n",
       "      <th>text</th>\n",
       "      <th>title</th>\n",
       "    </tr>\n",
       "  </thead>\n",
       "  <tbody>\n",
       "    <tr>\n",
       "      <th>0</th>\n",
       "      <td>un long texte à propos de rigs de forage</td>\n",
       "      <td>un titre quelconque</td>\n",
       "    </tr>\n",
       "  </tbody>\n",
       "</table>\n",
       "</div>"
      ],
      "text/plain": [
       "                                       text                title\n",
       "0  un long texte à propos de rigs de forage  un titre quelconque"
      ]
     },
     "execution_count": 8,
     "metadata": {},
     "output_type": "execute_result"
    }
   ],
   "source": [
    "# Create an table\n",
    "tab = pd.DataFrame()\n",
    "\n",
    "# Add a line\n",
    "tab = tab.append(dic, ignore_index=True)\n",
    "\n",
    "# Display the table\n",
    "tab"
   ]
  },
  {
   "cell_type": "markdown",
   "metadata": {},
   "source": [
    "# Crawling basics"
   ]
  },
  {
   "cell_type": "code",
   "execution_count": 9,
   "metadata": {},
   "outputs": [],
   "source": [
    "# Define URL\n",
    "url = 'https://www.windpowermonthly.com/article/1728570/siemens-gamesa-starts-installing-first-14mw-offshore-wind-turbine-prototype-denmark'\n"
   ]
  },
  {
   "cell_type": "code",
   "execution_count": 10,
   "metadata": {},
   "outputs": [],
   "source": [
    "# Get the content of the page \n",
    "html_code = requests.get(url).content\n",
    "#print(html_code)\n",
    "\n",
    "# Transform it to a tree of tags\n",
    "soup = bs4.BeautifulSoup(html_code, 'lxml')"
   ]
  },
  {
   "cell_type": "code",
   "execution_count": 11,
   "metadata": {
    "scrolled": false
   },
   "outputs": [
    {
     "name": "stdout",
     "output_type": "stream",
     "text": [
      "<p><img height=\"1066\" src=\"https://cached.offlinehbpl.hbpl.co.uk/news/WPW/SG14MWprototypefullportrait.jpeg\" width=\"800\"/></p>\n",
      "\n",
      "<p>Siemens Gamesa Renewable Energy (SGRE) has started installing the prototype of its SG 14-222 DD offshore wind turbine in Denmark.</p>\n",
      "\n",
      "<p>The turbine manufacturer has installed the 150-metre-plus tower at a test site in Østerild.</p>\n",
      "\n",
      "<p>It is due to add the nacelle and <a href=\"https://www.windpowermonthly.com/article/1707665/first-picture-siemens-gamesas-record-breaking-blade\">108-metre blades</a> in the coming weeks.</p>\n",
      "\n",
      "<p>The company aims to complete installation by the end of the year, a spokeswoman advised.</p>\n",
      "\n",
      "<p>When completed, the turbine will become the world’s most powerful operational wind turbine, surpassing  <a href=\"https://www.windpowermonthly.com/article/1698085/ge-upgrades-haliade-x-prototype-13mw\">GE’s 13MW Haliade-X prototype</a>, which is installed in the Netherlands.</p>\n",
      "\n",
      "<p>Since <a href=\"https://www.windpowermonthly.com/article/1683570/sgre-upped-offshore-stakes-14mw+-turbine-222m-rotor\">first announcing its 14MW offshore wind turbine</a> in May 2020, Siemens Gamesa has received provisional orders to supply its SG 14-222 DD turbine at projects in <a href=\"https://www.windpowermonthly.com/article/1684216/sgre-lines-first-14mw-orders-4gw\">the UK, the US and Asia Pacific</a>.</p>\n",
      "\n",
      "<p>It plans to begin serial production in 2024.</p>\n",
      "\n"
     ]
    }
   ],
   "source": [
    "# Use selectors to get the content you are looking for \n",
    "l = soup.select('div.ArticleBodyPaywall p')\n",
    "\n",
    "#l = soup.select('header p.byline')\n",
    "\n",
    "# Have a look at what you just crawled\n",
    "for elt in l:\n",
    "    print(elt)\n",
    "    print()"
   ]
  },
  {
   "cell_type": "code",
   "execution_count": 12,
   "metadata": {
    "scrolled": true
   },
   "outputs": [
    {
     "name": "stdout",
     "output_type": "stream",
     "text": [
      "\n",
      "\n",
      "Siemens Gamesa Renewable Energy (SGRE) has started installing the prototype of its SG 14-222 DD offshore wind turbine in Denmark.\n",
      "\n",
      "The turbine manufacturer has installed the 150-metre-plus tower at a test site in Østerild.\n",
      "\n",
      "It is due to add the nacelle and 108-metre blades in the coming weeks.\n",
      "\n",
      "The company aims to complete installation by the end of the year, a spokeswoman advised.\n",
      "\n",
      "When completed, the turbine will become the world’s most powerful operational wind turbine, surpassing  GE’s 13MW Haliade-X prototype, which is installed in the Netherlands.\n",
      "\n",
      "Since first announcing its 14MW offshore wind turbine in May 2020, Siemens Gamesa has received provisional orders to supply its SG 14-222 DD turbine at projects in the UK, the US and Asia Pacific.\n",
      "\n",
      "It plans to begin serial production in 2024.\n",
      "\n"
     ]
    }
   ],
   "source": [
    "# Remove tags:\n",
    "l_cleaned = []\n",
    "\n",
    "for elt in l:\n",
    "    l_cleaned.append( elt.get_text() )\n",
    "\n",
    "for elt in l_cleaned:\n",
    "    print(elt)\n",
    "    print()\n"
   ]
  },
  {
   "cell_type": "code",
   "execution_count": 13,
   "metadata": {},
   "outputs": [
    {
     "name": "stdout",
     "output_type": "stream",
     "text": [
      "<a data-id=\"1728570\" data-url=\"https://www.windpowermonthly.com/article/1728570\" href=\"/article/1728570/siemens-gamesa-starts-installing-first-14mw-offshore-wind-turbine-prototype-denmark\" title=\"Siemens Gamesa starts installing 14MW prototype\">Siemens Gamesa starts installing 14MW prototype</a>\n"
     ]
    }
   ],
   "source": [
    "# Select a link\n",
    "elt = soup.select('h3 a')[0]\n",
    "print(elt)"
   ]
  },
  {
   "cell_type": "code",
   "execution_count": 14,
   "metadata": {},
   "outputs": [
    {
     "name": "stdout",
     "output_type": "stream",
     "text": [
      "/article/1728570/siemens-gamesa-starts-installing-first-14mw-offshore-wind-turbine-prototype-denmark\n"
     ]
    }
   ],
   "source": [
    "# Get the targeted link\n",
    "print(elt.get('href'))"
   ]
  },
  {
   "cell_type": "code",
   "execution_count": null,
   "metadata": {},
   "outputs": [],
   "source": []
  }
 ],
 "metadata": {
  "anaconda-cloud": {},
  "kernelspec": {
   "display_name": "Python 3",
   "language": "python",
   "name": "python3"
  },
  "language_info": {
   "codemirror_mode": {
    "name": "ipython",
    "version": 3
   },
   "file_extension": ".py",
   "mimetype": "text/x-python",
   "name": "python",
   "nbconvert_exporter": "python",
   "pygments_lexer": "ipython3",
   "version": "3.8.3"
  },
  "toc": {
   "base_numbering": 1,
   "nav_menu": {},
   "number_sections": false,
   "sideBar": true,
   "skip_h1_title": false,
   "title_cell": "Table of Contents",
   "title_sidebar": "Contents",
   "toc_cell": false,
   "toc_position": {},
   "toc_section_display": true,
   "toc_window_display": false
  }
 },
 "nbformat": 4,
 "nbformat_minor": 1
}
