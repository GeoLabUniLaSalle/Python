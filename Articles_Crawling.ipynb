{
  "nbformat": 4,
  "nbformat_minor": 0,
  "metadata": {
    "anaconda-cloud": {},
    "kernelspec": {
      "display_name": "Python 3",
      "language": "python",
      "name": "python3"
    },
    "language_info": {
      "codemirror_mode": {
        "name": "ipython",
        "version": 3
      },
      "file_extension": ".py",
      "mimetype": "text/x-python",
      "name": "python",
      "nbconvert_exporter": "python",
      "pygments_lexer": "ipython3",
      "version": "3.8.3"
    },
    "toc": {
      "base_numbering": 1,
      "nav_menu": {},
      "number_sections": false,
      "sideBar": true,
      "skip_h1_title": false,
      "title_cell": "Table of Contents",
      "title_sidebar": "Contents",
      "toc_cell": false,
      "toc_position": {},
      "toc_section_display": true,
      "toc_window_display": false
    },
    "colab": {
      "name": "Articles_Crawling.ipynb",
      "provenance": [],
      "include_colab_link": true
    }
  },
  "cells": [
    {
      "cell_type": "markdown",
      "metadata": {
        "id": "view-in-github",
        "colab_type": "text"
      },
      "source": [
        "<a href=\"https://colab.research.google.com/github/GeoLabUniLaSalle/Python/blob/main/Articles_Crawling.ipynb\" target=\"_parent\"><img src=\"https://colab.research.google.com/assets/colab-badge.svg\" alt=\"Open In Colab\"/></a>"
      ]
    },
    {
      "cell_type": "code",
      "metadata": {
        "id": "pYOLFC8GWBHE"
      },
      "source": [
        "import bs4\n",
        "import requests\n",
        "import datetime\n",
        "import pandas as pd"
      ],
      "execution_count": null,
      "outputs": []
    },
    {
      "cell_type": "markdown",
      "metadata": {
        "id": "EP3l0gXsWJIF"
      },
      "source": [
        "En cas d'erreur sur ces lignes, lancez l'installation des modules manquants, redémarrez le noyau, puis re-exécutez l'import du module."
      ]
    },
    {
      "cell_type": "code",
      "metadata": {
        "id": "7Yib5pLyWOVq"
      },
      "source": [
        "import sys\n",
        "!{sys.executable} -m pip install --user bs4\n",
        "!{sys.executable} -m pip install --user pandas"
      ],
      "execution_count": null,
      "outputs": []
    },
    {
      "cell_type": "markdown",
      "metadata": {
        "id": "v-0wXCkBWBHI"
      },
      "source": [
        "# Python basics"
      ]
    },
    {
      "cell_type": "code",
      "metadata": {
        "id": "RuDh541JWBHJ",
        "outputId": "1f88aad1-462c-4d2d-fd61-44376eef7004"
      },
      "source": [
        "# Define a variable and print it to the screen\n",
        "a = 4\n",
        "print(a)\n",
        "\n",
        "t = \"text\"\n",
        "print(t)"
      ],
      "execution_count": null,
      "outputs": [
        {
          "name": "stdout",
          "output_type": "stream",
          "text": [
            "4\n",
            "text\n"
          ]
        }
      ]
    },
    {
      "cell_type": "code",
      "metadata": {
        "id": "HLfoYnvvWBHK",
        "outputId": "b8e4c537-87e6-49ed-c480-e7e2ea49d288"
      },
      "source": [
        "# Basic operations \n",
        "s1 = 'Bonjour '\n",
        "s2 = 'à '\n",
        "s3 = 'tous'\n",
        "s = s1 + s2 + s3\n",
        "\n",
        "print(s)"
      ],
      "execution_count": null,
      "outputs": [
        {
          "name": "stdout",
          "output_type": "stream",
          "text": [
            "Bonjour à tous\n"
          ]
        }
      ]
    },
    {
      "cell_type": "code",
      "metadata": {
        "id": "0qDffyaMWBHL",
        "outputId": "deda5a10-3b96-4cf2-96da-9706067fbc8a"
      },
      "source": [
        "# Define a list \n",
        "l = ['valeur 1', 'valeur 2', 'valeur 3']\n",
        "print(l)\n",
        "\n",
        "# Add an element to a list\n",
        "l.append('nouvelle valeur')\n",
        "print(l)\n",
        "print() \n",
        "\n",
        "# Loop through values of a list (note the indentation). Try to comment line 4\n",
        "for elt in l:\n",
        "    print(elt)"
      ],
      "execution_count": null,
      "outputs": [
        {
          "name": "stdout",
          "output_type": "stream",
          "text": [
            "['valeur 1', 'valeur 2', 'valeur 3']\n",
            "['valeur 1', 'valeur 2', 'valeur 3', 'nouvelle valeur']\n",
            "\n",
            "valeur 1\n",
            "valeur 2\n",
            "valeur 3\n",
            "nouvelle valeur\n"
          ]
        }
      ]
    },
    {
      "cell_type": "code",
      "metadata": {
        "id": "oWyROqJ2WBHL",
        "outputId": "86ce826b-45b5-4047-88b8-9ea91f1ed2c9"
      },
      "source": [
        "# Create a list of integers\n",
        "l = range(1,10)\n",
        "print(l)"
      ],
      "execution_count": null,
      "outputs": [
        {
          "name": "stdout",
          "output_type": "stream",
          "text": [
            "range(1, 10)\n"
          ]
        }
      ]
    },
    {
      "cell_type": "code",
      "metadata": {
        "id": "lxEebHP4WBHM",
        "outputId": "9a59c81e-7d22-4649-ee1a-9fbd2b640fe8"
      },
      "source": [
        "# Be careful with types:\n",
        "a = 99\n",
        "print(type(a))\n",
        "print(a)\n",
        "\n",
        "print()\n",
        "\n",
        "b = '99'\n",
        "print(type(b))\n",
        "print(b)\n",
        "\n",
        "print()\n",
        "\n",
        "c = str(a)\n",
        "print(type(c))\n",
        "print(c)"
      ],
      "execution_count": null,
      "outputs": [
        {
          "name": "stdout",
          "output_type": "stream",
          "text": [
            "<class 'int'>\n",
            "99\n",
            "\n",
            "<class 'str'>\n",
            "99\n",
            "\n",
            "<class 'str'>\n",
            "99\n"
          ]
        }
      ]
    },
    {
      "cell_type": "code",
      "metadata": {
        "colab": {
          "base_uri": "https://localhost:8080/"
        },
        "id": "b53CLhPfWBHN",
        "outputId": "418ba0ef-8612-4560-b179-1d07d3ee7a5c"
      },
      "source": [
        "# Create a dictionnary\n",
        "dic = {\n",
        "    'title': 'un titre quelconque',\n",
        "    'text' : 'un long texte à propos de rigs de forage'\n",
        "}\n",
        "dic"
      ],
      "execution_count": null,
      "outputs": [
        {
          "output_type": "execute_result",
          "data": {
            "text/plain": [
              "{'text': 'un long texte à propos de rigs de forage',\n",
              " 'title': 'un titre quelconque'}"
            ]
          },
          "metadata": {},
          "execution_count": 1
        }
      ]
    },
    {
      "cell_type": "code",
      "metadata": {
        "id": "u-aqP15BWBHN",
        "outputId": "15b2d01a-a85e-45e3-8c34-bf2f8d7d9b90"
      },
      "source": [
        "# Create an table\n",
        "tab = pd.DataFrame()\n",
        "\n",
        "# Add a line\n",
        "tab = tab.append(dic, ignore_index=True)\n",
        "\n",
        "# Display the table\n",
        "tab"
      ],
      "execution_count": null,
      "outputs": [
        {
          "data": {
            "text/html": [
              "<div>\n",
              "<style scoped>\n",
              "    .dataframe tbody tr th:only-of-type {\n",
              "        vertical-align: middle;\n",
              "    }\n",
              "\n",
              "    .dataframe tbody tr th {\n",
              "        vertical-align: top;\n",
              "    }\n",
              "\n",
              "    .dataframe thead th {\n",
              "        text-align: right;\n",
              "    }\n",
              "</style>\n",
              "<table border=\"1\" class=\"dataframe\">\n",
              "  <thead>\n",
              "    <tr style=\"text-align: right;\">\n",
              "      <th></th>\n",
              "      <th>text</th>\n",
              "      <th>title</th>\n",
              "    </tr>\n",
              "  </thead>\n",
              "  <tbody>\n",
              "    <tr>\n",
              "      <th>0</th>\n",
              "      <td>un long texte à propos de rigs de forage</td>\n",
              "      <td>un titre quelconque</td>\n",
              "    </tr>\n",
              "  </tbody>\n",
              "</table>\n",
              "</div>"
            ],
            "text/plain": [
              "                                       text                title\n",
              "0  un long texte à propos de rigs de forage  un titre quelconque"
            ]
          },
          "execution_count": 8,
          "metadata": {},
          "output_type": "execute_result"
        }
      ]
    },
    {
      "cell_type": "markdown",
      "metadata": {
        "id": "tCLCxYXOWBHO"
      },
      "source": [
        "# Crawling basics"
      ]
    },
    {
      "cell_type": "code",
      "metadata": {
        "id": "M816uD_5WBHO"
      },
      "source": [
        "# Define URL\n",
        "url = 'https://www.windpowermonthly.com/article/1728570/siemens-gamesa-starts-installing-first-14mw-offshore-wind-turbine-prototype-denmark'"
      ],
      "execution_count": null,
      "outputs": []
    },
    {
      "cell_type": "code",
      "metadata": {
        "colab": {
          "base_uri": "https://localhost:8080/",
          "height": 232
        },
        "id": "437S-hToWBHP",
        "outputId": "23ccce1f-f4db-4165-dd0a-78b36981b6fa"
      },
      "source": [
        "# Get the content of the page \n",
        "html_code = requests.get(url).content\n",
        "#print(html_code)\n",
        "\n",
        "# Transform it to a tree of tags\n",
        "soup = bs4.BeautifulSoup(html_code, 'html.parser')"
      ],
      "execution_count": null,
      "outputs": [
        {
          "output_type": "error",
          "ename": "NameError",
          "evalue": "ignored",
          "traceback": [
            "\u001b[0;31m---------------------------------------------------------------------------\u001b[0m",
            "\u001b[0;31mNameError\u001b[0m                                 Traceback (most recent call last)",
            "\u001b[0;32m<ipython-input-3-15168ccf3d2e>\u001b[0m in \u001b[0;36m<module>\u001b[0;34m()\u001b[0m\n\u001b[1;32m      1\u001b[0m \u001b[0;31m# Get the content of the page\u001b[0m\u001b[0;34m\u001b[0m\u001b[0;34m\u001b[0m\u001b[0;34m\u001b[0m\u001b[0m\n\u001b[0;32m----> 2\u001b[0;31m \u001b[0mhtml_code\u001b[0m \u001b[0;34m=\u001b[0m \u001b[0mrequests\u001b[0m\u001b[0;34m.\u001b[0m\u001b[0mget\u001b[0m\u001b[0;34m(\u001b[0m\u001b[0murl\u001b[0m\u001b[0;34m)\u001b[0m\u001b[0;34m.\u001b[0m\u001b[0mcontent\u001b[0m\u001b[0;34m\u001b[0m\u001b[0;34m\u001b[0m\u001b[0m\n\u001b[0m\u001b[1;32m      3\u001b[0m \u001b[0;31m#print(html_code)\u001b[0m\u001b[0;34m\u001b[0m\u001b[0;34m\u001b[0m\u001b[0;34m\u001b[0m\u001b[0m\n\u001b[1;32m      4\u001b[0m \u001b[0;34m\u001b[0m\u001b[0m\n\u001b[1;32m      5\u001b[0m \u001b[0;31m# Transform it to a tree of tags\u001b[0m\u001b[0;34m\u001b[0m\u001b[0;34m\u001b[0m\u001b[0;34m\u001b[0m\u001b[0m\n",
            "\u001b[0;31mNameError\u001b[0m: name 'requests' is not defined"
          ]
        }
      ]
    },
    {
      "cell_type": "code",
      "metadata": {
        "scrolled": false,
        "id": "vxR7qsW0WBHP",
        "outputId": "05b81a4c-bfe2-4db7-df61-67c51111dd4c"
      },
      "source": [
        "# Use selectors to get the content you are looking for \n",
        "l = soup.select('div.ArticleBodyPaywall p')\n",
        "\n",
        "#l = soup.select('header p.byline')\n",
        "\n",
        "# Have a look at what you just crawled\n",
        "for elt in l:\n",
        "    print(elt)\n",
        "    print()"
      ],
      "execution_count": null,
      "outputs": [
        {
          "name": "stdout",
          "output_type": "stream",
          "text": [
            "<p><img height=\"1066\" src=\"https://cached.offlinehbpl.hbpl.co.uk/news/WPW/SG14MWprototypefullportrait.jpeg\" width=\"800\"/></p>\n",
            "\n",
            "<p>Siemens Gamesa Renewable Energy (SGRE) has started installing the prototype of its SG 14-222 DD offshore wind turbine in Denmark.</p>\n",
            "\n",
            "<p>The turbine manufacturer has installed the 150-metre-plus tower at a test site in Østerild.</p>\n",
            "\n",
            "<p>It is due to add the nacelle and <a href=\"https://www.windpowermonthly.com/article/1707665/first-picture-siemens-gamesas-record-breaking-blade\">108-metre blades</a> in the coming weeks.</p>\n",
            "\n",
            "<p>The company aims to complete installation by the end of the year, a spokeswoman advised.</p>\n",
            "\n",
            "<p>When completed, the turbine will become the world’s most powerful operational wind turbine, surpassing  <a href=\"https://www.windpowermonthly.com/article/1698085/ge-upgrades-haliade-x-prototype-13mw\">GE’s 13MW Haliade-X prototype</a>, which is installed in the Netherlands.</p>\n",
            "\n",
            "<p>Since <a href=\"https://www.windpowermonthly.com/article/1683570/sgre-upped-offshore-stakes-14mw+-turbine-222m-rotor\">first announcing its 14MW offshore wind turbine</a> in May 2020, Siemens Gamesa has received provisional orders to supply its SG 14-222 DD turbine at projects in <a href=\"https://www.windpowermonthly.com/article/1684216/sgre-lines-first-14mw-orders-4gw\">the UK, the US and Asia Pacific</a>.</p>\n",
            "\n",
            "<p>It plans to begin serial production in 2024.</p>\n",
            "\n"
          ]
        }
      ]
    },
    {
      "cell_type": "code",
      "metadata": {
        "scrolled": true,
        "id": "kd24WG8lWBHQ",
        "outputId": "d003c29f-3086-4066-9efd-5f02f444b1c7"
      },
      "source": [
        "# Remove tags:\n",
        "l_cleaned = []\n",
        "\n",
        "for elt in l:\n",
        "    l_cleaned.append( elt.get_text() )\n",
        "\n",
        "for elt in l_cleaned:\n",
        "    print(elt)\n",
        "    print()\n"
      ],
      "execution_count": null,
      "outputs": [
        {
          "name": "stdout",
          "output_type": "stream",
          "text": [
            "\n",
            "\n",
            "Siemens Gamesa Renewable Energy (SGRE) has started installing the prototype of its SG 14-222 DD offshore wind turbine in Denmark.\n",
            "\n",
            "The turbine manufacturer has installed the 150-metre-plus tower at a test site in Østerild.\n",
            "\n",
            "It is due to add the nacelle and 108-metre blades in the coming weeks.\n",
            "\n",
            "The company aims to complete installation by the end of the year, a spokeswoman advised.\n",
            "\n",
            "When completed, the turbine will become the world’s most powerful operational wind turbine, surpassing  GE’s 13MW Haliade-X prototype, which is installed in the Netherlands.\n",
            "\n",
            "Since first announcing its 14MW offshore wind turbine in May 2020, Siemens Gamesa has received provisional orders to supply its SG 14-222 DD turbine at projects in the UK, the US and Asia Pacific.\n",
            "\n",
            "It plans to begin serial production in 2024.\n",
            "\n"
          ]
        }
      ]
    },
    {
      "cell_type": "code",
      "metadata": {
        "id": "yliZjbMfWBHQ",
        "outputId": "0ae0a41d-079d-4734-ab5e-ab4eb492b260"
      },
      "source": [
        "# Select a link\n",
        "elt = soup.select('h3 a')[0]\n",
        "print(elt)"
      ],
      "execution_count": null,
      "outputs": [
        {
          "name": "stdout",
          "output_type": "stream",
          "text": [
            "<a data-id=\"1728570\" data-url=\"https://www.windpowermonthly.com/article/1728570\" href=\"/article/1728570/siemens-gamesa-starts-installing-first-14mw-offshore-wind-turbine-prototype-denmark\" title=\"Siemens Gamesa starts installing 14MW prototype\">Siemens Gamesa starts installing 14MW prototype</a>\n"
          ]
        }
      ]
    },
    {
      "cell_type": "code",
      "metadata": {
        "id": "Spep2BfRWBHQ",
        "outputId": "d708b25e-0d8b-483f-e99a-5eabd53e3d81"
      },
      "source": [
        "# Get the targeted link\n",
        "print(elt.get('href'))"
      ],
      "execution_count": null,
      "outputs": [
        {
          "name": "stdout",
          "output_type": "stream",
          "text": [
            "/article/1728570/siemens-gamesa-starts-installing-first-14mw-offshore-wind-turbine-prototype-denmark\n"
          ]
        }
      ]
    }
  ]
}