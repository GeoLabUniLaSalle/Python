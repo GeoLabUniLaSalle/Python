{
  "nbformat": 4,
  "nbformat_minor": 0,
  "metadata": {
    "colab": {
      "name": "Notation Polonaise Inverse.ipynb",
      "provenance": [],
      "collapsed_sections": [],
      "authorship_tag": "ABX9TyNiOCEr4OwMZ6ejvEa6Lig1",
      "include_colab_link": true
    },
    "kernelspec": {
      "name": "python3",
      "display_name": "Python 3"
    }
  },
  "cells": [
    {
      "cell_type": "markdown",
      "metadata": {
        "id": "view-in-github",
        "colab_type": "text"
      },
      "source": [
        "<a href=\"https://colab.research.google.com/github/GeoLabUniLaSalle/Python/blob/main/Notation_Polonaise_Inverse.ipynb\" target=\"_parent\"><img src=\"https://colab.research.google.com/assets/colab-badge.svg\" alt=\"Open In Colab\"/></a>"
      ]
    },
    {
      "cell_type": "markdown",
      "metadata": {
        "id": "9QBV6Wc8BPQg"
      },
      "source": [
        "# **Notation Polonaise Inverse**\n",
        "\n",
        "La Notation Polonaise Inverse (NPI), également connue sous le nom de notation post-fixée, permet d'écrire des formules arithmétiques sans utiliser de parenthèses, en plaçant chaque opérateur juste après ses deux opérandes. L'expression 2+3 devient en NPI 2 3 +.\n",
        "\n",
        "Prenons quelques exemples :\n",
        "2+6−1 s’écrit 2 6 + 1 -\n",
        "5∗3+4 s’écrit 5 3 * 4 +\n",
        "((1+2)∗4)+3 s’écrit 1 2 + 4 * 3 +\n",
        "\n",
        "Pour évaluer une telle expression, il faut lire l’expression de gauche à droite et d’appliquer chaque opérateur aux deux opérandes qui le précèdent.\n",
        "\n",
        "Si l’opérateur n’est pas le dernier symbole de l'expression, on replace le résultat du calcul dans l’expression et on recommence avec l’opérateur suivant.\n",
        "\n",
        "Ce problème est résolu grâce à une pile. On lit tous les éléments de l'expression, et :\n",
        "*   Si le caractère lu est un opérande, on l'empile\n",
        "*   Si le caractère lu est un opérateur, on dépile les deux éléments situés en haut de la pile, on calcule le résultat en appliquant l'opérateur sur les deux opérandes dépilées (attention à l'ordre dans les cas - et /), et on empile le résultat.\n",
        "Une fois que tous les caractères ont été lus, la pile ne contient plus qu'un seul élément qui est le résultat final.\n",
        "\n",
        "Pour réaliser cet exercice, nous utiliserons la classe Pile vue dans le chapitre sur [les piles](https://mybinder.org/v2/gh/GeoLabUniLaSalle/Python/HEAD?filepath=Les_piles.ipynb)."
      ]
    },
    {
      "cell_type": "code",
      "metadata": {
        "id": "zeNCIar7BIsB"
      },
      "source": [
        "class Pile:\n",
        "  \n",
        "  def __init__(self):\n",
        "    self.elements = []\n",
        "    \n",
        "  def empile(self, element):\n",
        "    self.elements.append(element)\n",
        "\n",
        "  def depile(self):\n",
        "    if self.elements:\n",
        "      return self.elements.pop()\n",
        "  \n",
        "  def taille(self):\n",
        "    return len(self.elements)\n",
        "\n",
        "  def sommet(self):\n",
        "    if len(self.elements)==0:\n",
        "         raise Exception(\"La pile est vide\")\n",
        "    return self.elements[-1]\n",
        "    \n",
        "  def __str__(self):\n",
        "    out = str(self.elements[0])\n",
        "    for x in self.elements[1:]:\n",
        "      out = str(x) + \" -> \" + out\n",
        "    out = \"Pile : \" + out\n",
        "    return out"
      ],
      "execution_count": 1,
      "outputs": []
    },
    {
      "cell_type": "markdown",
      "metadata": {
        "id": "sUuIcjDeDSOU"
      },
      "source": [
        "Ecrivez un programme qui réalise le calcul d'une expression en NPI. Les caractères autorisés dans l'expressions sont les chiffres de 0 à 9, et les opérateurs +, -, *, /.\n",
        "\n",
        "Voici 2 fonctions qui nous seront utiles :\n",
        "- est_Operateur(x) qui prend un caractère en paramètre et retourne True s'il s'agit d'un opérateur, False sinon.\n",
        "- calcul(op, n, m) qui prend en paramètre : op, un opérateur parmi les 4 opérateurs autorisés et n et m, les deux nombres sur lesquels réaliser le calcul. La fonction retourne le résultat du calcul.\n",
        "\n",
        "\n",
        "\n",
        "\n"
      ]
    },
    {
      "cell_type": "code",
      "metadata": {
        "id": "yvE6i0x9EzvI"
      },
      "source": [
        "def est_Operateur(x):\n",
        "  if x in '+-*/':\n",
        "    return True\n",
        "  else:\n",
        "    return False\n",
        "\n",
        "def calcul(op,m,n):\n",
        "  if op=='+':\n",
        "    return n+m\n",
        "  elif op=='-':\n",
        "    return n-m\n",
        "  elif op=='*':\n",
        "    return n*m\n",
        "  else:\n",
        "    return n/m"
      ],
      "execution_count": 20,
      "outputs": []
    },
    {
      "cell_type": "markdown",
      "metadata": {
        "id": "p4_QD7UAKeIM"
      },
      "source": [
        "Réalisez la fonction calcul_NPI(x) qui prend en paramètre une expression en NPI sous la forme d'une liste de str et qui affiche le résultat du calcul.\n",
        "\n",
        "Testez votre programme sur l'expression 5 8 3 - * 3 * 3 1 - 2 * 3 / +.\n"
      ]
    },
    {
      "cell_type": "code",
      "metadata": {
        "id": "hSH7Cu-CGLyL"
      },
      "source": [
        "s = '5 8 3 - * 3 * 3 1 - 2 * 3 / +'\n",
        "e = s.split()\n",
        "\n",
        "def calcul_NPI(x):\n",
        "  # A completer\n",
        "\n",
        "print(calcul_NPI(e))"
      ],
      "execution_count": null,
      "outputs": []
    }
  ]
}