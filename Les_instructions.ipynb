{
  "nbformat": 4,
  "nbformat_minor": 0,
  "metadata": {
    "colab": {
      "name": "Les instructions.ipynb",
      "provenance": [],
      "collapsed_sections": [],
      "authorship_tag": "ABX9TyPP0mQ4yxDMpYcUVIWdrpvP",
      "include_colab_link": true
    },
    "kernelspec": {
      "name": "python3",
      "display_name": "Python 3"
    }
  },
  "cells": [
    {
      "cell_type": "markdown",
      "metadata": {
        "id": "view-in-github",
        "colab_type": "text"
      },
      "source": [
        "<a href=\"https://colab.research.google.com/github/GeoLabUniLaSalle/Python/blob/main/Les_instructions.ipynb\" target=\"_parent\"><img src=\"https://colab.research.google.com/assets/colab-badge.svg\" alt=\"Open In Colab\"/></a>"
      ]
    },
    {
      "cell_type": "markdown",
      "metadata": {
        "id": "mVgKL-USL8W8"
      },
      "source": [
        "# **Les instructions**\n",
        "\n",
        "Dans ce chapitre, nous allons voir comment réaliser les principales instructions en langage Python : les tests et les boucles.\n",
        "\n",
        "## **Les tests**\n",
        "\n",
        "Débutons avec les structures conditionnelles (tests) :"
      ]
    },
    {
      "cell_type": "code",
      "metadata": {
        "colab": {
          "base_uri": "https://localhost:8080/"
        },
        "id": "eDJMe39xL6TJ",
        "outputId": "610a8797-0278-4f4b-84ba-4dac50e886be"
      },
      "source": [
        "note = 12 # Faites des tests en modifiant ici la valeur de note\n",
        "if note>=10:\n",
        "  print('validé')\n",
        "  print('bravo !')\n",
        "else:\n",
        "  print('rattrapage')"
      ],
      "execution_count": 2,
      "outputs": [
        {
          "output_type": "stream",
          "text": [
            "validé\n",
            "bravo !\n"
          ],
          "name": "stdout"
        }
      ]
    },
    {
      "cell_type": "markdown",
      "metadata": {
        "id": "3J_2OnhlMoEi"
      },
      "source": [
        "Les blocs d'instruction sont repérés par le caractère \":\" qui matérialise le début du bloc, et l'indentation des lignes qui composent le bloc d'instructions.\n",
        "\n",
        "L'indentation est capitale en Python :"
      ]
    },
    {
      "cell_type": "code",
      "metadata": {
        "colab": {
          "base_uri": "https://localhost:8080/",
          "height": 130
        },
        "id": "h1GyXokvMawC",
        "outputId": "f0b5223a-9fdf-4540-abdf-00d9f7f648a3"
      },
      "source": [
        "note = 12\n",
        "if note>=10:\n",
        "print('validé') # Ne fonctionne pas\n",
        "print('bravo !')\n",
        "else:\n",
        "  print('rattrapage')"
      ],
      "execution_count": 6,
      "outputs": [
        {
          "output_type": "error",
          "ename": "IndentationError",
          "evalue": "ignored",
          "traceback": [
            "\u001b[0;36m  File \u001b[0;32m\"<ipython-input-6-50eb6ea852da>\"\u001b[0;36m, line \u001b[0;32m3\u001b[0m\n\u001b[0;31m    print('validé') # Ne fonctionne pas\u001b[0m\n\u001b[0m        ^\u001b[0m\n\u001b[0;31mIndentationError\u001b[0m\u001b[0;31m:\u001b[0m expected an indented block\n"
          ]
        }
      ]
    },
    {
      "cell_type": "markdown",
      "metadata": {
        "id": "GPvt0Na3NIuN"
      },
      "source": [
        "Toute instruction donnant lieu à la création d'un bloc d'instructions se termine par un \":\" (si, sinon, tant que, pour, ...)"
      ]
    },
    {
      "cell_type": "code",
      "metadata": {
        "colab": {
          "base_uri": "https://localhost:8080/",
          "height": 130
        },
        "id": "WFKpC2dMNFqr",
        "outputId": "28a621a9-9ec3-4d62-9bb7-a687c458af3e"
      },
      "source": [
        "note = 12\n",
        "if note>=10 # Ne fonctionne pas\n",
        "  print('validé')\n",
        "  print('bravo !')\n",
        "else:\n",
        "  print('rattrapage')"
      ],
      "execution_count": 7,
      "outputs": [
        {
          "output_type": "error",
          "ename": "SyntaxError",
          "evalue": "ignored",
          "traceback": [
            "\u001b[0;36m  File \u001b[0;32m\"<ipython-input-7-1888028d01cd>\"\u001b[0;36m, line \u001b[0;32m2\u001b[0m\n\u001b[0;31m    if note>=10 # Ne fonctionne pas\u001b[0m\n\u001b[0m                                   ^\u001b[0m\n\u001b[0;31mSyntaxError\u001b[0m\u001b[0;31m:\u001b[0m invalid syntax\n"
          ]
        }
      ]
    },
    {
      "cell_type": "markdown",
      "metadata": {
        "id": "HVzhH_wzNg4U"
      },
      "source": [
        "Il est possible d'impbriquer des tests avec l'opérateur elif :"
      ]
    },
    {
      "cell_type": "code",
      "metadata": {
        "colab": {
          "base_uri": "https://localhost:8080/"
        },
        "id": "gq5wDMqnNXY1",
        "outputId": "781a21fd-aa6b-498a-dfd0-601312783d9c"
      },
      "source": [
        "note = 12 # Faites des tests en modifiant ici la valeur de note\n",
        "if note<10:\n",
        "  print('rattrapage')\n",
        "elif note<14: # note comprise entre 10 et 14\n",
        "  print('validé')\n",
        "else: # note supérieure à 14\n",
        "  print('validé avec mention BIEN')"
      ],
      "execution_count": 9,
      "outputs": [
        {
          "output_type": "stream",
          "text": [
            "validé\n"
          ],
          "name": "stdout"
        }
      ]
    },
    {
      "cell_type": "markdown",
      "metadata": {
        "id": "Qy-pc5rNODIB"
      },
      "source": [
        "En Python, il est possible d'écrire les tests de manière plus concise :"
      ]
    },
    {
      "cell_type": "code",
      "metadata": {
        "colab": {
          "base_uri": "https://localhost:8080/"
        },
        "id": "aJRhyaF4N4yq",
        "outputId": "ed9df90f-7e06-4292-e0fc-f8e0b1c7b46a"
      },
      "source": [
        "note = 12 # Faites des tests en modifiant ici la valeur de note\n",
        "print('validé') if note>=10 else print('rattrapage')"
      ],
      "execution_count": 10,
      "outputs": [
        {
          "output_type": "stream",
          "text": [
            "validé\n"
          ],
          "name": "stdout"
        }
      ]
    },
    {
      "cell_type": "markdown",
      "metadata": {
        "id": "Rg6RIbyUOWMB"
      },
      "source": [
        "En complexifiant un peu, on obtient :"
      ]
    },
    {
      "cell_type": "code",
      "metadata": {
        "colab": {
          "base_uri": "https://localhost:8080/"
        },
        "id": "RbLeQjleOTs9",
        "outputId": "b9c309a3-fd19-4e81-d6ee-544372aaa57d"
      },
      "source": [
        "note = 12 # Faites des tests en modifiant ici la valeur de note\n",
        "print('rattrapage') if note<10 else print('validé') if note<14 else print('validé avec mention BIEN')"
      ],
      "execution_count": 13,
      "outputs": [
        {
          "output_type": "stream",
          "text": [
            "validé\n"
          ],
          "name": "stdout"
        }
      ]
    },
    {
      "cell_type": "markdown",
      "metadata": {
        "id": "_Gci-RfnO6iv"
      },
      "source": [
        "## **Les boucles**\n",
        "\n",
        "Débutons par le parcours d'une liste avec une boucle :"
      ]
    },
    {
      "cell_type": "code",
      "metadata": {
        "colab": {
          "base_uri": "https://localhost:8080/"
        },
        "id": "NKbXsMlROhsg",
        "outputId": "b6390eff-7e09-4d6a-f93c-4d981337bcd4"
      },
      "source": [
        "l = [\"hello\",4,True,27.6]\n",
        "for i in l:\n",
        "  print(i)\n",
        "print('fin')"
      ],
      "execution_count": 17,
      "outputs": [
        {
          "output_type": "stream",
          "text": [
            "hello\n",
            "4\n",
            "True\n",
            "27.6\n",
            "fin\n"
          ],
          "name": "stdout"
        }
      ]
    },
    {
      "cell_type": "markdown",
      "metadata": {
        "id": "5BOvK7qjPVVq"
      },
      "source": [
        "Nous appliquons les mêmes conventions que pour les structures conditionnelles pour signaler les blocs d'instructions (caractère \":\" et indentation).\n",
        "\n",
        "Notons que le print('fin') n'est pas indenté et est donc positionné en dehors de la boucle. Cette instruction n'est exécutée qu'une seule fois, quand la boucle a terminé son exécution.\n",
        "\n",
        "Il est possible des réaliser n'importe quelle opération dans une boucle :"
      ]
    },
    {
      "cell_type": "code",
      "metadata": {
        "colab": {
          "base_uri": "https://localhost:8080/"
        },
        "id": "ebZeF9DzPQ2d",
        "outputId": "db9bce8b-4eea-48fe-833c-112343f476df"
      },
      "source": [
        "l = [2,3,5,7,11,13]\n",
        "for i in l:\n",
        "  print(i,i**2) # On élève au carré chaque terme de l"
      ],
      "execution_count": 23,
      "outputs": [
        {
          "output_type": "stream",
          "text": [
            "2 4\n",
            "3 9\n",
            "5 25\n",
            "7 49\n",
            "11 121\n",
            "13 169\n"
          ],
          "name": "stdout"
        }
      ]
    },
    {
      "cell_type": "markdown",
      "metadata": {
        "id": "zJG6mU5yRGuP"
      },
      "source": [
        "Pour créer un compteur, on combine souvent les boucles à la fonction range qui génère une liste de nombres."
      ]
    },
    {
      "cell_type": "code",
      "metadata": {
        "colab": {
          "base_uri": "https://localhost:8080/"
        },
        "id": "TJd-02iORUP9",
        "outputId": "4ff65163-5a89-49aa-efcb-101d81dfe626"
      },
      "source": [
        "for i in range(10):\n",
        "  print(i,i**2)"
      ],
      "execution_count": 24,
      "outputs": [
        {
          "output_type": "stream",
          "text": [
            "0 0\n",
            "1 1\n",
            "2 4\n",
            "3 9\n",
            "4 16\n",
            "5 25\n",
            "6 36\n",
            "7 49\n",
            "8 64\n",
            "9 81\n"
          ],
          "name": "stdout"
        }
      ]
    },
    {
      "cell_type": "markdown",
      "metadata": {
        "id": "IP6XFIw-QYUq"
      },
      "source": [
        "Les boucles et tests peuvent être combinés à l'infini :\n",
        "\n"
      ]
    },
    {
      "cell_type": "code",
      "metadata": {
        "colab": {
          "base_uri": "https://localhost:8080/"
        },
        "id": "k7T1gDhVQSbU",
        "outputId": "7a04d709-223e-4e70-8fa4-1574fcab0f8f"
      },
      "source": [
        "for i in range(10):\n",
        "  if i%2==0: # Si l'élèment est divisible par 2 (est pair)\n",
        "    print(i,i**2)"
      ],
      "execution_count": 25,
      "outputs": [
        {
          "output_type": "stream",
          "text": [
            "0 0\n",
            "2 4\n",
            "4 16\n",
            "6 36\n",
            "8 64\n"
          ],
          "name": "stdout"
        }
      ]
    },
    {
      "cell_type": "markdown",
      "metadata": {
        "id": "QIjHq5DbQ61n"
      },
      "source": [
        "Comme pour les tests, les boucles peuvent être écrites de manière plus concise :"
      ]
    },
    {
      "cell_type": "code",
      "metadata": {
        "colab": {
          "base_uri": "https://localhost:8080/"
        },
        "id": "3TPpbitiQyfO",
        "outputId": "7157b33f-f848-430a-972b-b14438196739"
      },
      "source": [
        "l = [(i,i**2) for i in range(10)]\n",
        "l"
      ],
      "execution_count": 34,
      "outputs": [
        {
          "output_type": "execute_result",
          "data": {
            "text/plain": [
              "[(0, 0),\n",
              " (1, 1),\n",
              " (2, 4),\n",
              " (3, 9),\n",
              " (4, 16),\n",
              " (5, 25),\n",
              " (6, 36),\n",
              " (7, 49),\n",
              " (8, 64),\n",
              " (9, 81)]"
            ]
          },
          "metadata": {
            "tags": []
          },
          "execution_count": 34
        }
      ]
    },
    {
      "cell_type": "markdown",
      "metadata": {
        "id": "vBISZi_cSEVC"
      },
      "source": [
        "Ou bien :"
      ]
    },
    {
      "cell_type": "code",
      "metadata": {
        "colab": {
          "base_uri": "https://localhost:8080/"
        },
        "id": "TB6NFDKRRkNq",
        "outputId": "767b607e-28d7-4bff-e7ed-eafef5b60089"
      },
      "source": [
        "print([(i,i**2) for i in range(10)])"
      ],
      "execution_count": 35,
      "outputs": [
        {
          "output_type": "stream",
          "text": [
            "[(0, 0), (1, 1), (2, 4), (3, 9), (4, 16), (5, 25), (6, 36), (7, 49), (8, 64), (9, 81)]\n"
          ],
          "name": "stdout"
        }
      ]
    },
    {
      "cell_type": "markdown",
      "metadata": {
        "id": "YsPLTVynSLO4"
      },
      "source": [
        "En ajoutant un test, cela donne :"
      ]
    },
    {
      "cell_type": "code",
      "metadata": {
        "colab": {
          "base_uri": "https://localhost:8080/"
        },
        "id": "qxbNaUq9SHxQ",
        "outputId": "bc4b5377-be73-4cab-be00-9bae388a624f"
      },
      "source": [
        "l = [(i,i**2) for i in range(10) if i%2==0]\n",
        "l"
      ],
      "execution_count": 37,
      "outputs": [
        {
          "output_type": "execute_result",
          "data": {
            "text/plain": [
              "[(0, 0), (2, 4), (4, 16), (6, 36), (8, 64)]"
            ]
          },
          "metadata": {
            "tags": []
          },
          "execution_count": 37
        }
      ]
    }
  ]
}