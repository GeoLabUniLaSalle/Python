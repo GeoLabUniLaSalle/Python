{
  "nbformat": 4,
  "nbformat_minor": 0,
  "metadata": {
    "colab": {
      "name": "regretorch_practice_etu.ipynb",
      "provenance": [],
      "collapsed_sections": [],
      "include_colab_link": true
    },
    "kernelspec": {
      "name": "python3",
      "display_name": "Python 3"
    },
    "language_info": {
      "name": "python"
    }
  },
  "cells": [
    {
      "cell_type": "markdown",
      "metadata": {
        "id": "view-in-github",
        "colab_type": "text"
      },
      "source": [
        "<a href=\"https://colab.research.google.com/github/GeoLabUniLaSalle/Python/blob/main/regretorch_practice_etu.ipynb\" target=\"_parent\"><img src=\"https://colab.research.google.com/assets/colab-badge.svg\" alt=\"Open In Colab\"/></a>"
      ]
    },
    {
      "cell_type": "markdown",
      "metadata": {
        "id": "I74u7JDHw6NF"
      },
      "source": [
        "#TD Régression pytorch 1 \n",
        "\n",
        "A partir du cours proposez une éxpérimentation du premier modèle définis avec la nouvelle fonction donnée. \n",
        "Vous pouvez utiliser la méthode de conception de modèle que vous souhaitez (classe ou séquentiel)"
      ]
    },
    {
      "cell_type": "markdown",
      "metadata": {
        "id": "0LS35ioRxYCk"
      },
      "source": [
        "Imporation des bibliothèques "
      ]
    },
    {
      "cell_type": "code",
      "metadata": {
        "id": "PA57GD-cxXYl"
      },
      "source": [
        "import torch\n",
        "from torch.autograd import Variable\n",
        "import torch.nn.functional as F\n",
        "import torch.utils.data as Data\n",
        "\n",
        "import matplotlib.pyplot as plt\n",
        "%matplotlib inline\n",
        "\n",
        "import numpy as np\n",
        "import imageio"
      ],
      "execution_count": null,
      "outputs": []
    },
    {
      "cell_type": "code",
      "metadata": {
        "id": "UrLWMJFJseDG"
      },
      "source": [
        "# Notre nouvelle target est basée sur une fonction sin sur laquelle du bruit à été ajouté \n",
        "x = torch.unsqueeze(torch.linspace(-10, 10, 1000), dim=1)  \n",
        "y = torch.sin(x) + 0.2*torch.rand(x.size())                 \n"
      ],
      "execution_count": null,
      "outputs": []
    },
    {
      "cell_type": "markdown",
      "metadata": {
        "id": "Kp_JOeoqxu9z"
      },
      "source": [
        "Défintion du modèle Net"
      ]
    },
    {
      "cell_type": "code",
      "metadata": {
        "id": "hW5Dh7Olx5BC"
      },
      "source": [
        ""
      ],
      "execution_count": null,
      "outputs": []
    },
    {
      "cell_type": "markdown",
      "metadata": {
        "id": "j4TWeoHPOvaL"
      },
      "source": [
        "Entrainement"
      ]
    },
    {
      "cell_type": "code",
      "metadata": {
        "id": "eiZ8BElIsKNg"
      },
      "source": [
        ""
      ],
      "execution_count": null,
      "outputs": []
    },
    {
      "cell_type": "markdown",
      "metadata": {
        "id": "1K0r4xJOOyRr"
      },
      "source": [
        "Visualisation\n"
      ]
    },
    {
      "cell_type": "code",
      "metadata": {
        "id": "Z-ShIaVUO05b"
      },
      "source": [
        ""
      ],
      "execution_count": null,
      "outputs": []
    }
  ]
}