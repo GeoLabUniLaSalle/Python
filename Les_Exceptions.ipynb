{
  "nbformat": 4,
  "nbformat_minor": 0,
  "metadata": {
    "colab": {
      "name": "Les Exceptions.ipynb",
      "provenance": [],
      "collapsed_sections": [],
      "authorship_tag": "ABX9TyNUbRf5+w2MK2Yej9pScJbm",
      "include_colab_link": true
    },
    "kernelspec": {
      "name": "python3",
      "display_name": "Python 3"
    }
  },
  "cells": [
    {
      "cell_type": "markdown",
      "metadata": {
        "id": "view-in-github",
        "colab_type": "text"
      },
      "source": [
        "<a href=\"https://colab.research.google.com/github/GeoLabUniLaSalle/Python/blob/main/Les_Exceptions.ipynb\" target=\"_parent\"><img src=\"https://colab.research.google.com/assets/colab-badge.svg\" alt=\"Open In Colab\"/></a>"
      ]
    },
    {
      "cell_type": "markdown",
      "metadata": {
        "id": "yPYqO6YqTDde"
      },
      "source": [
        "# **Les Exceptions**\n",
        "\n",
        "Dans ce chapitre, nous allons voir comment gérer les Exceptions en Python.\n",
        "\n",
        "Créeons une fonction qui affiche un message d'erreur si la valeur fournie en paramètre n'est pas de type list."
      ]
    },
    {
      "cell_type": "code",
      "metadata": {
        "id": "0N4jSQijS6QU"
      },
      "source": [
        "def ma_fonction(arg) :\n",
        "  if not isinstance(arg, list) :\n",
        "    raise Exception('arg doit être de type list')\n",
        "  print(arg)"
      ],
      "execution_count": null,
      "outputs": []
    },
    {
      "cell_type": "markdown",
      "metadata": {
        "id": "gQI0DZEETm3H"
      },
      "source": [
        "Utilisons cette fonction en lui fournissant une liste en paramètre."
      ]
    },
    {
      "cell_type": "code",
      "metadata": {
        "colab": {
          "base_uri": "https://localhost:8080/"
        },
        "id": "ExWr0BwiTrUD",
        "outputId": "243ad5f1-fe16-4c44-80c2-827d254e5fcd"
      },
      "source": [
        "ma_fonction([True,5.3])"
      ],
      "execution_count": null,
      "outputs": [
        {
          "output_type": "stream",
          "text": [
            "[True, 5.3]\n"
          ],
          "name": "stdout"
        }
      ]
    },
    {
      "cell_type": "markdown",
      "metadata": {
        "id": "cDxb5IibTagg"
      },
      "source": [
        "Visualisons le message d'erreur produit lorsque le paramètre n'est pas de type list."
      ]
    },
    {
      "cell_type": "code",
      "metadata": {
        "colab": {
          "base_uri": "https://localhost:8080/",
          "height": 266
        },
        "id": "4xheRI7tTZ8o",
        "outputId": "70289ee2-14de-4cde-e0fe-b048eb2757b8"
      },
      "source": [
        "ma_fonction(42)"
      ],
      "execution_count": null,
      "outputs": [
        {
          "output_type": "error",
          "ename": "Exception",
          "evalue": "ignored",
          "traceback": [
            "\u001b[0;31m---------------------------------------------------------------------------\u001b[0m",
            "\u001b[0;31mException\u001b[0m                                 Traceback (most recent call last)",
            "\u001b[0;32m<ipython-input-5-4266a93b7def>\u001b[0m in \u001b[0;36m<module>\u001b[0;34m()\u001b[0m\n\u001b[0;32m----> 1\u001b[0;31m \u001b[0mma_fonction\u001b[0m\u001b[0;34m(\u001b[0m\u001b[0;36m42\u001b[0m\u001b[0;34m)\u001b[0m\u001b[0;34m\u001b[0m\u001b[0;34m\u001b[0m\u001b[0m\n\u001b[0m",
            "\u001b[0;32m<ipython-input-1-bde3d3d22241>\u001b[0m in \u001b[0;36mma_fonction\u001b[0;34m(arg)\u001b[0m\n\u001b[1;32m      1\u001b[0m \u001b[0;32mdef\u001b[0m \u001b[0mma_fonction\u001b[0m\u001b[0;34m(\u001b[0m\u001b[0marg\u001b[0m\u001b[0;34m)\u001b[0m \u001b[0;34m:\u001b[0m\u001b[0;34m\u001b[0m\u001b[0;34m\u001b[0m\u001b[0m\n\u001b[1;32m      2\u001b[0m   \u001b[0;32mif\u001b[0m \u001b[0;32mnot\u001b[0m \u001b[0misinstance\u001b[0m\u001b[0;34m(\u001b[0m\u001b[0marg\u001b[0m\u001b[0;34m,\u001b[0m \u001b[0mlist\u001b[0m\u001b[0;34m)\u001b[0m \u001b[0;34m:\u001b[0m\u001b[0;34m\u001b[0m\u001b[0;34m\u001b[0m\u001b[0m\n\u001b[0;32m----> 3\u001b[0;31m     \u001b[0;32mraise\u001b[0m \u001b[0mException\u001b[0m\u001b[0;34m(\u001b[0m\u001b[0;34m'arg doit être de type list'\u001b[0m\u001b[0;34m)\u001b[0m\u001b[0;34m\u001b[0m\u001b[0;34m\u001b[0m\u001b[0m\n\u001b[0m\u001b[1;32m      4\u001b[0m   \u001b[0mprint\u001b[0m\u001b[0;34m(\u001b[0m\u001b[0marg\u001b[0m\u001b[0;34m)\u001b[0m\u001b[0;34m\u001b[0m\u001b[0;34m\u001b[0m\u001b[0m\n",
            "\u001b[0;31mException\u001b[0m: arg doit être de type list"
          ]
        }
      ]
    },
    {
      "cell_type": "markdown",
      "metadata": {
        "id": "ZhmoTyriT0nS"
      },
      "source": [
        "Réalisons maintenant une capture d'Exception."
      ]
    },
    {
      "cell_type": "code",
      "metadata": {
        "colab": {
          "base_uri": "https://localhost:8080/"
        },
        "id": "tmYwobSZTgLh",
        "outputId": "dbe38648-757f-4ce7-d147-e8fa7a0122ab"
      },
      "source": [
        "try: # code à exécuter si tout se passe bien\n",
        "  ma_fonction(42)\n",
        "  print('ok')\n",
        "except: # code à exécuter si une exception est générée\n",
        "  print('Exception interceptée')"
      ],
      "execution_count": null,
      "outputs": [
        {
          "output_type": "stream",
          "text": [
            "Exception interceptée\n"
          ],
          "name": "stdout"
        }
      ]
    },
    {
      "cell_type": "markdown",
      "metadata": {
        "id": "am06VtknUIVp"
      },
      "source": [
        "Il est possible d'afficher les informations sur l'Exception interceptée."
      ]
    },
    {
      "cell_type": "code",
      "metadata": {
        "colab": {
          "base_uri": "https://localhost:8080/"
        },
        "id": "_jJeGWmiT9Kw",
        "outputId": "9ab459f3-888b-45dc-f8cc-b06b962fb348"
      },
      "source": [
        "try :\n",
        "  ma_fonction(42)\n",
        "except Exception as e :\n",
        "  print('Exception interceptée : ',e)"
      ],
      "execution_count": null,
      "outputs": [
        {
          "output_type": "stream",
          "text": [
            "Exception interceptée :  arg doit être de type list\n"
          ],
          "name": "stdout"
        }
      ]
    }
  ]
}