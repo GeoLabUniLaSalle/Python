{
  "nbformat": 4,
  "nbformat_minor": 0,
  "metadata": {
    "colab": {
      "name": "Cryptographie - Algorithme RSA.ipynb",
      "provenance": [],
      "collapsed_sections": [],
      "authorship_tag": "ABX9TyPMluUBctGO491CzB+pd1za",
      "include_colab_link": true
    },
    "kernelspec": {
      "name": "python3",
      "display_name": "Python 3"
    },
    "language_info": {
      "name": "python"
    }
  },
  "cells": [
    {
      "cell_type": "markdown",
      "metadata": {
        "id": "view-in-github",
        "colab_type": "text"
      },
      "source": [
        "<a href=\"https://colab.research.google.com/github/GeoLabUniLaSalle/Python/blob/main/Cryptographie_Algorithme_RSA.ipynb\" target=\"_parent\"><img src=\"https://colab.research.google.com/assets/colab-badge.svg\" alt=\"Open In Colab\"/></a>"
      ]
    },
    {
      "cell_type": "markdown",
      "metadata": {
        "id": "OhJVhglUOLuq"
      },
      "source": [
        "# **Algorithme RSA**\n",
        "\n",
        "Dans ce chapitre, nous allons découvrir un exemple de **chiffrement asymétrique**. L'idée est de ne pas utiliser la même clé pour chiffrer et déchiffrer un texte. Nous aurons une clé dite **publique** pour **encoder** le message, et une clé dite **privée** pour le **décoder**.\n",
        "\n",
        "Cette méthode permet de distribuer des clés publiques et que seul le propriétaire de la clé privée soit capable de décoder les messages codés avec la clé publique.\n",
        "\n",
        "Ici, nous allons découvrir le fonctionnement de l'**algorithme** **RSA** (*en référence à ses inventeurs Rivest Shamir et Adleman*).\n",
        "\n",
        "Cet algorithme repose sur un principe mathématique simple mais ingénieux.\n",
        "\n",
        "A partir de deux **nombres premiers** P et Q, on crée une clé publique N dont la valeur est égale à P x Q.\n",
        "\n",
        "La clé privée s'obtient à partir de P et Q.\n",
        "\n",
        "En théorie, il est possible de retrouver P et Q à partir de N en le factorisant.\n",
        "\n",
        "En pratique, si P et Q sont suffisament grands, aucun ordinateur n'est capable de retrouver les valeurs, le nombre d'opérations nécessaires étant trop élevé pour une résolution par force brute (nombre d'opérations exponentiel en fonction de la taille des facteurs premiers).\n",
        "\n",
        "L'algorithme RSA est utilisé dans beaucoup de protocoles de sécurité sur internet.\n",
        "\n",
        "Voici le fonctionnement de l'algorithme RSA. Commençons par choisir des valeurs pour P et Q."
      ]
    },
    {
      "cell_type": "code",
      "metadata": {
        "id": "BocCT04yzb0o"
      },
      "source": [
        "P = 13\n",
        "Q = 19"
      ],
      "execution_count": 128,
      "outputs": []
    },
    {
      "cell_type": "markdown",
      "metadata": {
        "id": "Tn6SluJ_SKsn"
      },
      "source": [
        "Calculons N, le produit de P par Q."
      ]
    },
    {
      "cell_type": "code",
      "metadata": {
        "colab": {
          "base_uri": "https://localhost:8080/"
        },
        "id": "bZneH-tjzeab",
        "outputId": "90c39ba4-8ccf-4033-8d19-3b218d7941aa"
      },
      "source": [
        "N = P*Q\n",
        "N"
      ],
      "execution_count": 129,
      "outputs": [
        {
          "output_type": "execute_result",
          "data": {
            "text/plain": [
              "247"
            ]
          },
          "metadata": {
            "tags": []
          },
          "execution_count": 129
        }
      ]
    },
    {
      "cell_type": "markdown",
      "metadata": {
        "id": "izTq-xaMSSKO"
      },
      "source": [
        "Choisissons E un nombre n'ayant pas de facteur commun avec R = (P-1)x(Q-1)."
      ]
    },
    {
      "cell_type": "code",
      "metadata": {
        "colab": {
          "base_uri": "https://localhost:8080/"
        },
        "id": "006x8ACk0QMN",
        "outputId": "d4e902fa-4004-4b79-d93a-f13c2889fdfe"
      },
      "source": [
        "R = (P-1)*(Q-1)\n",
        "R"
      ],
      "execution_count": 130,
      "outputs": [
        {
          "output_type": "execute_result",
          "data": {
            "text/plain": [
              "216"
            ]
          },
          "metadata": {
            "tags": []
          },
          "execution_count": 130
        }
      ]
    },
    {
      "cell_type": "code",
      "metadata": {
        "id": "-omg8Saizhb4"
      },
      "source": [
        "import math\n",
        "\n",
        "def decomposition(x):\n",
        "  \"\"\"\n",
        "  Retourne la décomposition de x en facteurs premiers, sous la forme d'une liste\n",
        "  \"\"\"\n",
        "  d = []\n",
        "  for  i in range(2,int(math.sqrt(x)+1)):\n",
        "    while x%i==0:\n",
        "      x = int(x/i)\n",
        "      d.append(i)\n",
        "    if x>1:\n",
        "      d.append(x)\n",
        "  d=sorted(list(set(d)))\n",
        "  return d"
      ],
      "execution_count": 132,
      "outputs": []
    },
    {
      "cell_type": "code",
      "metadata": {
        "colab": {
          "base_uri": "https://localhost:8080/"
        },
        "id": "YrzEC_Sd0PJW",
        "outputId": "72741fdf-8c10-4f8e-b53f-b7ce07480b70"
      },
      "source": [
        "decomposition(R)"
      ],
      "execution_count": 133,
      "outputs": [
        {
          "output_type": "execute_result",
          "data": {
            "text/plain": [
              "[2, 3, 27]"
            ]
          },
          "metadata": {
            "tags": []
          },
          "execution_count": 133
        }
      ]
    },
    {
      "cell_type": "code",
      "metadata": {
        "id": "Jc04w6Zn18do"
      },
      "source": [
        "E = 11"
      ],
      "execution_count": 134,
      "outputs": []
    },
    {
      "cell_type": "markdown",
      "metadata": {
        "id": "JBWSWPZeStGa"
      },
      "source": [
        "La **clé publique** P est la paire (E,N)"
      ]
    },
    {
      "cell_type": "code",
      "metadata": {
        "colab": {
          "base_uri": "https://localhost:8080/"
        },
        "id": "S8hgqXAB5JqT",
        "outputId": "3e4e99d4-5ca2-49ba-b5f8-1998b904c854"
      },
      "source": [
        "P = (E,N)\n",
        "P"
      ],
      "execution_count": 135,
      "outputs": [
        {
          "output_type": "execute_result",
          "data": {
            "text/plain": [
              "(11, 247)"
            ]
          },
          "metadata": {
            "tags": []
          },
          "execution_count": 135
        }
      ]
    },
    {
      "cell_type": "markdown",
      "metadata": {
        "id": "AFYd7KkSS1fN"
      },
      "source": [
        "Choisissons maintenant D telque E x D % R = 1."
      ]
    },
    {
      "cell_type": "code",
      "metadata": {
        "id": "bjWQcCZO5N-n",
        "colab": {
          "base_uri": "https://localhost:8080/"
        },
        "outputId": "8f53d24e-e1fd-4885-ec95-27b10a992b84"
      },
      "source": [
        "i=1\n",
        "while i*E%R!=1:\n",
        "  i+=1\n",
        "D=i\n",
        "print(D,'*',E,'%',R,'=',i*E%R)"
      ],
      "execution_count": 136,
      "outputs": [
        {
          "output_type": "stream",
          "text": [
            "59 * 11 % 216 = 1\n"
          ],
          "name": "stdout"
        }
      ]
    },
    {
      "cell_type": "markdown",
      "metadata": {
        "id": "FowLLU_eTCzP"
      },
      "source": [
        "Prenons le premier nombre qui remplisse cette condition : 59.\n",
        "\n",
        "La **clé privée** Q est la paire (D,N)."
      ]
    },
    {
      "cell_type": "code",
      "metadata": {
        "colab": {
          "base_uri": "https://localhost:8080/"
        },
        "id": "c0exnCKhHfZa",
        "outputId": "4228a5da-c070-4d11-fa87-34b211be954d"
      },
      "source": [
        "Q = (D,N)\n",
        "Q"
      ],
      "execution_count": 137,
      "outputs": [
        {
          "output_type": "execute_result",
          "data": {
            "text/plain": [
              "(59, 247)"
            ]
          },
          "metadata": {
            "tags": []
          },
          "execution_count": 137
        }
      ]
    },
    {
      "cell_type": "markdown",
      "metadata": {
        "id": "rg06gsqETWgV"
      },
      "source": [
        "Afin d'encode ou de décoder un texte, nous allons avoir besoin de transformer les lettres du texte en nombres et inversement. Nous affecterons la valeur 1 à a, 2 à B, etc.\n",
        "\n",
        "Importont le module nécessaire."
      ]
    },
    {
      "cell_type": "code",
      "metadata": {
        "colab": {
          "base_uri": "https://localhost:8080/"
        },
        "id": "0GfJdSMaJWsv",
        "outputId": "118db1b1-7f87-4e1d-833e-e49a5f59a07d"
      },
      "source": [
        "from string import ascii_lowercase\n",
        "print(ascii_lowercase)"
      ],
      "execution_count": 139,
      "outputs": [
        {
          "output_type": "stream",
          "text": [
            "abcdefghijklmnopqrstuvwxyz\n"
          ],
          "name": "stdout"
        }
      ]
    },
    {
      "cell_type": "markdown",
      "metadata": {
        "id": "M6HN_HJ2TqKn"
      },
      "source": [
        "En cas d'erreur sur ce bloc d'instructions, lancez l'installation du module string, redémarrez le noyau, puis re-exécutez la dernière cellule de code."
      ]
    },
    {
      "cell_type": "code",
      "metadata": {
        "id": "jUq8EMvETtP_"
      },
      "source": [
        "import sys  \n",
        "!{sys.executable} -m pip install --user string"
      ],
      "execution_count": null,
      "outputs": []
    },
    {
      "cell_type": "markdown",
      "metadata": {
        "id": "nKT68TYqTyQM"
      },
      "source": [
        "Nous allons créer des fonctions permettant de transformer une lettre un nombre M, et inversement."
      ]
    },
    {
      "cell_type": "code",
      "metadata": {
        "id": "M4BFa-WuT7Gw"
      },
      "source": [
        "lower = ascii_lowercase"
      ],
      "execution_count": 140,
      "outputs": []
    },
    {
      "cell_type": "code",
      "metadata": {
        "id": "klD0bNaKI-W-"
      },
      "source": [
        "def nombre(x):\n",
        "  '''\n",
        "  Retourne la lettre x sous la forme d'un nombre\n",
        "  '''\n",
        "  if x in lower:\n",
        "    return lower.index(x)+1\n",
        "  else:\n",
        "    return 0"
      ],
      "execution_count": 152,
      "outputs": []
    },
    {
      "cell_type": "code",
      "metadata": {
        "id": "Dc9-TISkNFVc"
      },
      "source": [
        "def lettre(x):\n",
        "  '''\n",
        "  Retourne le nombre x sous la forme d'une lettre\n",
        "  '''\n",
        "  if x>0:\n",
        "    return lower[x-1]\n",
        "  else:\n",
        "    return ' '"
      ],
      "execution_count": 153,
      "outputs": []
    },
    {
      "cell_type": "code",
      "metadata": {
        "colab": {
          "base_uri": "https://localhost:8080/"
        },
        "id": "osrFJd2hJ1yV",
        "outputId": "c5c007fa-415e-47a2-de1e-95d3bab3a422"
      },
      "source": [
        "print(nombre('b'))\n",
        "print(nombre('z'))"
      ],
      "execution_count": 154,
      "outputs": [
        {
          "output_type": "stream",
          "text": [
            "2\n",
            "26\n"
          ],
          "name": "stdout"
        }
      ]
    },
    {
      "cell_type": "code",
      "metadata": {
        "colab": {
          "base_uri": "https://localhost:8080/"
        },
        "id": "mgVwCg_MNVtq",
        "outputId": "c839a516-dee7-4610-d00c-1c77bf6afb8d"
      },
      "source": [
        "print(lettre(2))\n",
        "print(lettre(26))"
      ],
      "execution_count": 155,
      "outputs": [
        {
          "output_type": "stream",
          "text": [
            "b\n",
            "z\n"
          ],
          "name": "stdout"
        }
      ]
    },
    {
      "cell_type": "markdown",
      "metadata": {
        "id": "kWeP75EpUHtj"
      },
      "source": [
        "Réalisons maintenant la fonction de chiffrement RSA dont le principe est, pour chaque lettre du texte à chiffrer M, de calculer C = M ^ E % N où (E,N) est la clé publique."
      ]
    },
    {
      "cell_type": "code",
      "metadata": {
        "id": "l7tD2EKxIx63"
      },
      "source": [
        "def codeRSA(x,cle):\n",
        "  '''\n",
        "  Retourne x chiffré avec l'algorithme RSA et la clé publique cle\n",
        "  '''\n",
        "  a = []\n",
        "  for i in x:\n",
        "    a.append(nombre(i)**cle[0]%cle[1])\n",
        "  return a"
      ],
      "execution_count": 179,
      "outputs": []
    },
    {
      "cell_type": "code",
      "metadata": {
        "colab": {
          "base_uri": "https://localhost:8080/"
        },
        "id": "hbWDQvyLKWmG",
        "outputId": "c6081fb5-599b-4e7a-8e81-8db3a23da5b4"
      },
      "source": [
        "C = codeRSA('bonjour',P)\n",
        "print(C)"
      ],
      "execution_count": 180,
      "outputs": [
        {
          "output_type": "stream",
          "text": [
            "[72, 98, 222, 147, 98, 148, 151]\n"
          ],
          "name": "stdout"
        }
      ]
    },
    {
      "cell_type": "markdown",
      "metadata": {
        "id": "SNiHOiRoW2De"
      },
      "source": [
        "Pour décoder C, il suffit de calculer S = C ^ D % N où (D,N) est la clé privée."
      ]
    },
    {
      "cell_type": "code",
      "metadata": {
        "id": "xPlvfDYuKgRx"
      },
      "source": [
        "def decodeRSA(x,cle):\n",
        "  '''\n",
        "  Retourne x déchiffré avec l'algorithme RSA et la clé privée cle\n",
        "  '''\n",
        "  a = ''\n",
        "  for i in x:\n",
        "    a+=lettre(i**cle[0]%cle[1])\n",
        "  return a"
      ],
      "execution_count": 184,
      "outputs": []
    },
    {
      "cell_type": "code",
      "metadata": {
        "colab": {
          "base_uri": "https://localhost:8080/"
        },
        "id": "FaF3OVjsLBgY",
        "outputId": "b04fd98c-2c22-4bba-cffa-f2f17637cbe6"
      },
      "source": [
        "S = decodeRSA(C,Q)\n",
        "print(S)"
      ],
      "execution_count": 185,
      "outputs": [
        {
          "output_type": "stream",
          "text": [
            "bonjour\n"
          ],
          "name": "stdout"
        }
      ]
    },
    {
      "cell_type": "markdown",
      "metadata": {
        "id": "U7F4JdoRXbB-"
      },
      "source": [
        "Cet algorithme de cryptographie repose sur la démonstration mathématique de l'égalité :\n",
        "\n",
        "\n",
        "> (M ^ E % N) ^ D % N = M\n",
        "\n"
      ]
    }
  ]
}