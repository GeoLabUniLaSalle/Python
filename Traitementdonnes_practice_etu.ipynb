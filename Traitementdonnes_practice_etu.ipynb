{
  "nbformat": 4,
  "nbformat_minor": 0,
  "metadata": {
    "colab": {
      "name": "Traitementdonnes_practice_etu.ipynb",
      "provenance": [],
      "collapsed_sections": [],
      "include_colab_link": true
    },
    "kernelspec": {
      "name": "python3",
      "display_name": "Python 3"
    },
    "language_info": {
      "name": "python"
    }
  },
  "cells": [
    {
      "cell_type": "markdown",
      "metadata": {
        "id": "view-in-github",
        "colab_type": "text"
      },
      "source": [
        "<a href=\"https://colab.research.google.com/github/GeoLabUniLaSalle/Python/blob/main/Traitementdonnes_practice_etu.ipynb\" target=\"_parent\"><img src=\"https://colab.research.google.com/assets/colab-badge.svg\" alt=\"Open In Colab\"/></a>"
      ]
    },
    {
      "cell_type": "markdown",
      "metadata": {
        "id": "754mtic59aL8"
      },
      "source": [
        "# Exercice traitement de données oragnisation d'un jeu de données\n",
        "\n",
        "A partir d'un je de données complet, vous aller devoir créer une matrice masquée comprenant les information suivante : \n",
        "* Un découpage de la matrice horaire en uune matrice journalière pour les 365 premier jours\n",
        "* Concatener les deux matrice de données de concentrations obtenues \n",
        "* Le calcul de la moyenne spatial de la matrie créée, présenté sous forme de carte avec latitutes et longitues en x et y \n",
        "* Une série temporelle de la valeur moyenne par jour avec en x les dates correspondantes \n",
        "* Proposer une série glissante des cartes journalières\n",
        "* Utiliser la matrice de nuages fournis pour créer une matrice masquée sur les 365 jours\n",
        "* Les mêmes calculs statistiques et graphiques avec la nouvelles matrice nuage \n"
      ]
    },
    {
      "cell_type": "code",
      "metadata": {
        "id": "iFRPx6WN9ZWe"
      },
      "source": [
        "dataset= np.load(\".../Dataset_64_ZOI.npy\",allow_pickle='TRUE').item()\n",
        "dataH=dataset['CSED_Hourly']\n",
        "mask=dataset['Cloud_Daily']\n",
        "lat_grid=dataset['Lat_ZOI']\n",
        "lon_grid=dataset['Lon_ZOI']\n"
      ],
      "execution_count": null,
      "outputs": []
    },
    {
      "cell_type": "code",
      "metadata": {
        "id": "ClXAkIHeAA7u"
      },
      "source": [
        ""
      ],
      "execution_count": null,
      "outputs": []
    }
  ]
}