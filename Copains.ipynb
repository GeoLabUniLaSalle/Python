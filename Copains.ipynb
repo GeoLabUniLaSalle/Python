{
  "nbformat": 4,
  "nbformat_minor": 0,
  "metadata": {
    "colab": {
      "name": "Copains.ipynb",
      "provenance": [],
      "collapsed_sections": [],
      "authorship_tag": "ABX9TyMHapyRMwUlXgicwyFoofG+",
      "include_colab_link": true
    },
    "kernelspec": {
      "name": "python3",
      "display_name": "Python 3"
    }
  },
  "cells": [
    {
      "cell_type": "markdown",
      "metadata": {
        "id": "view-in-github",
        "colab_type": "text"
      },
      "source": [
        "<a href=\"https://colab.research.google.com/github/GeoLabUniLaSalle/Python/blob/main/Copains.ipynb\" target=\"_parent\"><img src=\"https://colab.research.google.com/assets/colab-badge.svg\" alt=\"Open In Colab\"/></a>"
      ]
    },
    {
      "cell_type": "markdown",
      "metadata": {
        "id": "mhsKRPIjYnLT"
      },
      "source": [
        "## **Copains ★★☆**\n",
        "\n",
        "*Exercice disponible sur la plateforme TOSA : Battle Dev RegionJob - Mars 2018 : https://www.isograd.com/FR/solutionconcours.php*\n",
        "\n",
        "**Énoncé**\n",
        "\n",
        "Vos goûts cinématographiques sont très moyens, à tel point que lorsque vous demandez à vos K meilleurs copains quelle note ils ont donnée à un film, vous l'avez généralement évalué à la moyenne de leurs notes.\n",
        "\n",
        "Un nouvel épisode, Rocky VI, arrive au cinéma. Est-il vraiment mieux que les précédents ?\n",
        "Pour protéger votre santé mentale, vous décidez de prédire votre appréciation de Rocky VI avant d'aller (ou non) le voir.\n",
        "\n",
        "Vos N copains ont tous vus les 5 premiers épisodes Rocky (sinon ils ne seraient pas vos copains) ainsi que le nouvel épisode.\n",
        "Mais pour vous, vos K meilleurs copains (K≤N) sont ceux qui comptent vraiment, même si vous n'avez pas encore décidé qui ils sont.\n",
        "Pour choisir ces K copains parmi N, vous allez prendre ceux qui ont des goûts les plus similaires aux vôtres sur les 5 premiers épisodes Rocky.\n",
        "\n",
        "La distance entre vos goûts et ceux d'un copain donné est calculée comme suit :\n",
        "- pour chacun des 5 premiers Rocky, on regarde l'écart entre votre note et la note donnée par le copain en question (plus précisément, la valeur absolue de la différence) ;\n",
        "- on prend ensuite la somme des écarts pour les 5 épisodes.\n",
        "\n",
        "\n",
        "Les K meilleurs copains sont alors ceux dont les goûts sont à plus petite distance de vous. Pour vous épargner un terrible dilemme on vous garantit que le choix est unique, ainsi il ne peut pas y avoir deux K-ièmes plus proches copains ex æquo. Vous calculerez la moyenne de leurs notes pour le nouveau Rocky arrondie à l'entier inférieur : ceci vous donnera une prédiction de la note que vous risquez de mettre à cet épisode si vous le regardez.\n",
        "\n",
        "\n",
        "\n",
        "**Format des données**\n",
        "\n",
        "*Entrée*\n",
        "\n",
        "Ligne 1 : cinq entiers entre 0 et 10 inclus séparés par des espaces, les notes que vous avez données aux cinq premiers Rocky.\n",
        "Ligne 2 : un entier N compris entre 1 et 20 inclus, représentant votre nombre de copains.\n",
        "Ligne 3 : un entier K compris entre 1 et N inclus, représentant votre nombre de meilleurs copains.\n",
        "Lignes 4 à N+3 : six entiers compris entre 0 et 10 séparés par des espaces, chaque ligne correspond à un de vos copains, les cinq premiers entiers sont les notes des premiers Rocky, le sixième la note du nouvel épisode.\n",
        "\n",
        "*Sortie*\n",
        "\n",
        "Un entier, indiquant la moyenne des notes que vos K meilleurs copains ont donnée au nouvel épisode, arrondie à l'entier inférieur.\n",
        "\n",
        "Exemple\n",
        "\n",
        "Pour l'entrée suivante :\n",
        "\n",
        "10 7 3 4 3\n",
        "\n",
        "4\n",
        "\n",
        "2\n",
        "\n",
        "9 4 7 2 1 1\n",
        "\n",
        "2 1 3 2 10 5\n",
        "\n",
        "9 10 10 9 10 10\n",
        "\n",
        "8 9 2 4 3 4\n",
        "\n",
        "\n",
        "\n",
        "Vos deux meilleurs copains sont le premier (distance 12 = (10-9)+(7-4)+(7-3)+(4-2)+(3-1)) et le dernier (distance 5) de la liste, ils ont donné les notes 1 et 4 au nouvel épisode, vous allez donner la moyenne (1+4)/2 arrondie à l'entier inférieur, la réponse est donc 2."
      ]
    },
    {
      "cell_type": "markdown",
      "metadata": {
        "id": "Hne78QemZTGy"
      },
      "source": [
        "## **Données**\n",
        "\n",
        "*Accès aux données*"
      ]
    },
    {
      "cell_type": "code",
      "metadata": {
        "colab": {
          "base_uri": "https://localhost:8080/"
        },
        "id": "52g_kxL9Ykx7",
        "outputId": "78dd64a8-6d1e-4cc4-86dd-948398a00d5f"
      },
      "source": [
        "import csv\n",
        "filedir = ('https://cours.unilasalle.fr/courses/SG4007/document/Exercices_Python/Copains/')\n",
        "\n",
        "import ssl\n",
        "ssl._create_default_https_context = ssl._create_unverified_context\n",
        "\n",
        "import urllib.request\n",
        "\n",
        "for x in range(1,6):\n",
        "  f = urllib.request.urlopen(str(filedir+\"input\"+str(x)+\".txt\"))\n",
        "\n",
        "  data=[]\n",
        "  for i in f:\n",
        "      line=i.decode('utf-8').strip()\n",
        "      data.append(line)\n",
        "  print('Entrée',x,':',data)\n",
        "\n",
        "  f = urllib.request.urlopen(str(filedir+\"output\"+str(x)+\".txt\"))\n",
        "  for i in f:\n",
        "      line=i.decode('utf-8').strip()\n",
        "  print('Sortie',x,':',line,'\\n')"
      ],
      "execution_count": 1,
      "outputs": [
        {
          "output_type": "stream",
          "text": [
            "Entrée 1 : ['2 2 9 1 2', '5', '2', '10 7 1 7 3 0', '7 6 1 7 6 7', '7 6 5 7 7 3', '8 4 2 9 5 4', '7 3 2 5 6 1']\n",
            "Sortie 1 : 2 \n",
            "\n",
            "Entrée 2 : ['6 1 7 5 0', '5', '4', '8 7 1 1 0 5', '3 10 9 4 9 7', '6 3 9 10 10 2', '10 9 1 8 1 10', '2 3 7 1 3 5']\n",
            "Sortie 2 : 5 \n",
            "\n",
            "Entrée 3 : ['7 10 6 1 7', '10', '3', '10 10 0 5 6 2', '7 3 7 2 7 6', '8 8 4 7 0 2', '8 2 4 1 5 1', '8 2 4 9 10 10', '3 5 5 7 6 2', '9 5 4 8 10 9', '9 6 10 5 5 9', '4 6 0 10 0 9', '10 6 8 2 9 5']\n",
            "Sortie 3 : 4 \n",
            "\n",
            "Entrée 4 : ['9 4 7 6 4', '20', '1', '1 1 0 1 6 8', '10 6 4 6 4 3', '7 5 8 9 8 0', '1 3 0 1 4 2', '8 6 3 6 6 9', '6 8 8 0 8 10', '10 6 10 7 4 8', '3 9 8 3 9 2', '8 1 10 10 5 5', '0 9 10 3 7 7', '8 4 2 5 5 4', '8 9 0 4 8 7', '0 10 0 3 1 8', '7 1 1 2 5 6', '5 8 8 6 3 3', '6 8 10 6 0 7', '7 5 0 3 4 4', '6 6 0 9 6 10', '0 9 3 9 1 2', '1 9 7 7 5 5']\n",
            "Sortie 4 : 3 \n",
            "\n",
            "Entrée 5 : ['6 7 0 7 1', '20', '10', '7 7 1 8 8 2', '3 5 0 1 9 3', '6 3 8 2 8 10', '10 1 7 4 0 1', '0 10 0 4 0 6', '4 1 3 4 10 8', '4 5 2 10 7 9', '0 4 10 2 8 0', '5 2 9 6 3 0', '5 6 8 6 7 0', '6 0 6 2 5 4', '5 5 4 4 2 4', '0 9 10 5 10 10', '1 4 9 5 9 3', '2 7 7 8 3 0', '4 2 9 7 10 5', '6 3 1 9 6 3', '8 7 6 2 4 0', '2 2 7 5 3 9', '0 2 7 0 0 2']\n",
            "Sortie 5 : 2 \n",
            "\n"
          ],
          "name": "stdout"
        }
      ]
    },
    {
      "cell_type": "markdown",
      "metadata": {
        "id": "rkAMlY7WZtLR"
      },
      "source": [
        "## **Traitement**\n",
        "\n",
        "Reprenons de jeu de données 1 :"
      ]
    },
    {
      "cell_type": "code",
      "metadata": {
        "colab": {
          "base_uri": "https://localhost:8080/"
        },
        "id": "_1xBUH5YZnVq",
        "outputId": "d775f70e-4717-4f03-e5cb-fece8e1bec1a"
      },
      "source": [
        "lines = ['2 2 9 1 2', '5', '2', '10 7 1 7 3 0', '7 6 1 7 6 7', '7 6 5 7 7 3', '8 4 2 9 5 4', '7 3 2 5 6 1']\n",
        "print(lines)"
      ],
      "execution_count": 2,
      "outputs": [
        {
          "output_type": "stream",
          "text": [
            "['2 2 9 1 2', '5', '2', '10 7 1 7 3 0', '7 6 1 7 6 7', '7 6 5 7 7 3', '8 4 2 9 5 4', '7 3 2 5 6 1']\n"
          ],
          "name": "stdout"
        }
      ]
    },
    {
      "cell_type": "markdown",
      "metadata": {
        "id": "3By3GwzFZzG9"
      },
      "source": [
        "Ici, nous avons 5 copains et nous devons choisir les 2 copains ayant un avis le plus proche du notre sur les 5 premiers Rocky. Stockons ces valeurs dans des varianbles N et K."
      ]
    },
    {
      "cell_type": "code",
      "metadata": {
        "colab": {
          "base_uri": "https://localhost:8080/"
        },
        "id": "69xDUkcxZw9-",
        "outputId": "4ac00baf-25d2-497a-fbfd-50ee93454a82"
      },
      "source": [
        "N = int(lines[1])\n",
        "K = int(lines[2])\n",
        "print('Nombre de copains',N)\n",
        "print('Nombre de meilleurs copains',K)"
      ],
      "execution_count": 9,
      "outputs": [
        {
          "output_type": "stream",
          "text": [
            "Nombre de copains 5\n",
            "Nombre de meilleurs copains 2\n"
          ],
          "name": "stdout"
        }
      ]
    },
    {
      "cell_type": "markdown",
      "metadata": {
        "id": "3HPxozHTyeID"
      },
      "source": [
        "Les notes que nous avons attribuées aux films sont 2, 2, 9, 1, et 2."
      ]
    },
    {
      "cell_type": "code",
      "metadata": {
        "colab": {
          "base_uri": "https://localhost:8080/"
        },
        "id": "7cetBvGTyi_l",
        "outputId": "4a951e96-465e-443a-bba5-7899a759cbca"
      },
      "source": [
        "print(lines[0])"
      ],
      "execution_count": 6,
      "outputs": [
        {
          "output_type": "stream",
          "text": [
            "2 2 9 1 2\n"
          ],
          "name": "stdout"
        }
      ]
    },
    {
      "cell_type": "markdown",
      "metadata": {
        "id": "H6yC96PyyrbF"
      },
      "source": [
        "Stockons ces valeurs dans une liste :"
      ]
    },
    {
      "cell_type": "code",
      "metadata": {
        "colab": {
          "base_uri": "https://localhost:8080/"
        },
        "id": "bsl2MAd_ytpo",
        "outputId": "7e12ce98-ba93-4f6a-d72c-5ad06fbd0456"
      },
      "source": [
        "notes=[]\n",
        "for x in lines[0].split():\n",
        "  notes.append(int(x))\n",
        "print(notes)"
      ],
      "execution_count": 7,
      "outputs": [
        {
          "output_type": "stream",
          "text": [
            "[2, 2, 9, 1, 2]\n"
          ],
          "name": "stdout"
        }
      ]
    },
    {
      "cell_type": "markdown",
      "metadata": {
        "id": "hdshTnzgyHfG"
      },
      "source": [
        "Voici les notes attribuées aux films par chacun des copains :"
      ]
    },
    {
      "cell_type": "code",
      "metadata": {
        "colab": {
          "base_uri": "https://localhost:8080/"
        },
        "id": "EZO3u6VsyC7B",
        "outputId": "f4e78e7a-55a8-4b75-bd59-b82dbc23f791"
      },
      "source": [
        "for i in lines[3:]:\n",
        "  print(i)"
      ],
      "execution_count": 4,
      "outputs": [
        {
          "output_type": "stream",
          "text": [
            "10 7 1 7 3 0\n",
            "7 6 1 7 6 7\n",
            "7 6 5 7 7 3\n",
            "8 4 2 9 5 4\n",
            "7 3 2 5 6 1\n"
          ],
          "name": "stdout"
        }
      ]
    },
    {
      "cell_type": "markdown",
      "metadata": {
        "id": "3-GRYsoazOHq"
      },
      "source": [
        "Stockons maintenant ces notes dans une liste :"
      ]
    },
    {
      "cell_type": "code",
      "metadata": {
        "colab": {
          "base_uri": "https://localhost:8080/"
        },
        "id": "DVl2ZS3gyWRh",
        "outputId": "8bc873be-ef10-42c8-c92a-65664fbfc51e"
      },
      "source": [
        "l = []\n",
        "for i in lines[3:]:\n",
        "  m = []\n",
        "  for j in i.split():\n",
        "    m.append(int(j))\n",
        "  l.append(m)\n",
        "print(l)"
      ],
      "execution_count": 12,
      "outputs": [
        {
          "output_type": "stream",
          "text": [
            "[[10, 7, 1, 7, 3, 0], [7, 6, 1, 7, 6, 7], [7, 6, 5, 7, 7, 3], [8, 4, 2, 9, 5, 4], [7, 3, 2, 5, 6, 1]]\n"
          ],
          "name": "stdout"
        }
      ]
    },
    {
      "cell_type": "markdown",
      "metadata": {
        "id": "yxP4VjolznPW"
      },
      "source": [
        "Modifions ce code pour stocker la somme des différences entre nos notes et les notes de nos copains :"
      ]
    },
    {
      "cell_type": "code",
      "metadata": {
        "colab": {
          "base_uri": "https://localhost:8080/"
        },
        "id": "Sf-tRI8-zd6T",
        "outputId": "3f10c5fd-3824-4a86-8163-cd8c979ff934"
      },
      "source": [
        "sommes = []\n",
        "for x in lines[3:]:\n",
        "  x = x.split()\n",
        "  s = 0\n",
        "  for i in range(5): # Compteur i allant de 0 à 5 (exclu) pour parcourir les indices des films\n",
        "    s+=abs(notes[i]-int(x[i])) # abs permet d'obtenir la valeur absolue\n",
        "  sommes.append(s)\n",
        "print(sommes)"
      ],
      "execution_count": 15,
      "outputs": [
        {
          "output_type": "stream",
          "text": [
            "[28, 27, 24, 26, 21]\n"
          ],
          "name": "stdout"
        }
      ]
    },
    {
      "cell_type": "markdown",
      "metadata": {
        "id": "JKrzQMAl0j4W"
      },
      "source": [
        "Trions maintenant cette liste de sommes des différences pour identifier les plus petites sommes (meilleurs copains)"
      ]
    },
    {
      "cell_type": "code",
      "metadata": {
        "colab": {
          "base_uri": "https://localhost:8080/"
        },
        "id": "9HvcvyYQ0rso",
        "outputId": "9dd75f9b-5395-4b28-bab8-f900f7d1d5c4"
      },
      "source": [
        "tri=sorted(sommes)\n",
        "tri"
      ],
      "execution_count": 17,
      "outputs": [
        {
          "output_type": "execute_result",
          "data": {
            "text/plain": [
              "[21, 24, 26, 27, 28]"
            ]
          },
          "metadata": {
            "tags": []
          },
          "execution_count": 17
        }
      ]
    },
    {
      "cell_type": "markdown",
      "metadata": {
        "id": "xKJe-Cf30wnU"
      },
      "source": [
        "Identifions la plus petite somme de différence acceptée"
      ]
    },
    {
      "cell_type": "code",
      "metadata": {
        "colab": {
          "base_uri": "https://localhost:8080/"
        },
        "id": "TM8e4p2300Hc",
        "outputId": "645d0912-81be-44e3-9c7d-386fb839bfa9"
      },
      "source": [
        "diff=tri[K-1]\n",
        "diff"
      ],
      "execution_count": 19,
      "outputs": [
        {
          "output_type": "execute_result",
          "data": {
            "text/plain": [
              "24"
            ]
          },
          "metadata": {
            "tags": []
          },
          "execution_count": 19
        }
      ]
    },
    {
      "cell_type": "markdown",
      "metadata": {
        "id": "XlPnrCRA0_ff"
      },
      "source": [
        "Calculons ensuite la somme des notes de Rocky VI des meilleurs copains"
      ]
    },
    {
      "cell_type": "code",
      "metadata": {
        "colab": {
          "base_uri": "https://localhost:8080/"
        },
        "id": "UHid3XYS0ddz",
        "outputId": "7c1e0543-e1bf-4012-e0cc-5ab85e02f7ce"
      },
      "source": [
        "s2=0\n",
        "for i in range(N):\n",
        "  if sommes[i]<=diff:\n",
        "    j=lines[i+3].split()\n",
        "    s2+=int(j[5])\n",
        "print(s2)"
      ],
      "execution_count": 23,
      "outputs": [
        {
          "output_type": "stream",
          "text": [
            "4\n"
          ],
          "name": "stdout"
        }
      ]
    },
    {
      "cell_type": "markdown",
      "metadata": {
        "id": "HCKoWFRe1hEq"
      },
      "source": [
        "Affichons enfin la moyenne de ces notes"
      ]
    },
    {
      "cell_type": "code",
      "metadata": {
        "colab": {
          "base_uri": "https://localhost:8080/"
        },
        "id": "IgXuZd3K1dJq",
        "outputId": "1c01f5cb-b6a9-4adb-cd3e-a5c5a6f62bb6"
      },
      "source": [
        "print(int(s2/int(K)))"
      ],
      "execution_count": 24,
      "outputs": [
        {
          "output_type": "stream",
          "text": [
            "2\n"
          ],
          "name": "stdout"
        }
      ]
    },
    {
      "cell_type": "markdown",
      "metadata": {
        "id": "ygxb_xcU1nuh"
      },
      "source": [
        "2 est bien la sortie attendue.\n",
        "\n",
        "Voyons maintenant une écriture plus concise"
      ]
    },
    {
      "cell_type": "code",
      "metadata": {
        "colab": {
          "base_uri": "https://localhost:8080/"
        },
        "id": "Sln7EZq11TBK",
        "outputId": "15f1039b-4b92-4659-b404-a6d08c395ded"
      },
      "source": [
        "notes = list(map(int,lines[0].split()))\n",
        "N = int(lines[1])\n",
        "K = int(lines[2])\n",
        "L = [tuple(map(int,x.split())) for x in lines[3:]]\n",
        "L.sort(key=lambda p: sum(abs(p[i] - notes[i]) for i in range(5)))\n",
        "print(int(sum(a[5] for a in L[:K])/K))"
      ],
      "execution_count": 27,
      "outputs": [
        {
          "output_type": "stream",
          "text": [
            "2\n"
          ],
          "name": "stdout"
        }
      ]
    }
  ]
}