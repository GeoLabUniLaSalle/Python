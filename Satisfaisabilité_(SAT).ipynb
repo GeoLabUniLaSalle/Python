{
  "nbformat": 4,
  "nbformat_minor": 0,
  "metadata": {
    "colab": {
      "name": "Satisfaisabilité (SAT).ipynb",
      "provenance": [],
      "collapsed_sections": [],
      "authorship_tag": "ABX9TyNouzZoglAP3cDDEj3JNoyM",
      "include_colab_link": true
    },
    "kernelspec": {
      "name": "python3",
      "display_name": "Python 3"
    },
    "language_info": {
      "name": "python"
    }
  },
  "cells": [
    {
      "cell_type": "markdown",
      "metadata": {
        "id": "view-in-github",
        "colab_type": "text"
      },
      "source": [
        "<a href=\"https://colab.research.google.com/github/GeoLabUniLaSalle/Python/blob/main/Satisfaisabilit%C3%A9_(SAT).ipynb\" target=\"_parent\"><img src=\"https://colab.research.google.com/assets/colab-badge.svg\" alt=\"Open In Colab\"/></a>"
      ]
    },
    {
      "cell_type": "markdown",
      "metadata": {
        "id": "5_5wJTud39gG"
      },
      "source": [
        "# **Satisfaisabilité**\n",
        "\n",
        "Voici un exercice qui vous permettra de vous exercer sur la pratique d'optimisation.\n",
        "\n",
        "Le problème satisfaisabilité traite une formule de logique propositionnelle constituée de variables logiques reliées par des connecteurs logiques : ET, OU, NON). Plus précisément, on analyse des formules de logique propositionnelles en forme normale conjonctive, c'est à dire sous la forme de produits de sommes (x V ¬z V y) Λ (¬y V k) Λ (¬k V ¬x).\n",
        "\n",
        "\n",
        "Son objectif est de déterminer s'il existe une combinaison de valeurs pour les variables qui la composent qui rende la formule vraie.\n",
        "\n",
        "Il en existe plusieurs variantes, suivant le nombre de nombre de littéraux par clause. Voici quelques exemples :\n",
        "\n",
        "*   1-SAT : x Λ ¬y Λ z Λ ¬k\n",
        "*   2-SAT : (x V ¬z) Λ (¬y V k) Λ (¬k V ¬x)\n",
        "*   3-SAT : (x V y V z) Λ (k V ¬x V y) Λ (¬k V x V ¬y)\n",
        " \n",
        "\n",
        "Le problème 3-SAT est un problème **NP-Complet** qui peut être étendu à toute formule en forme normale conjonctive, en montrant que n'importe quelle formule peut être réduite à un expression dont les clauses sont composées de 3 littéraux.\n",
        "\n",
        "Le problème 2-SAT se résoud en **temps polynomial**, et est résolu en utilisant un graphe orienté où :\n",
        "\n",
        "*   Les sommets sont les variables et leurs négations (x, ¬x)\n",
        "*   Les arêtes sont les clauses (V)\n",
        "Une formule est satisfaisable si, pour toutes les variables xᵢ, on a xᵢ et ¬xᵢ dans deux composantes connexes distinctes du graphe.\n",
        "\n",
        "Le problème 1-SAT, ou **Horn-SAT**, se résoud également en **temps polynomial**. Nous allons voir ici comment avec un exemple concret, à partir de quelques propositions logiques :\n",
        "\n",
        "\n",
        "1.   Si Mr White a un chien, alors Mme Brown a un chat\n",
        "2.   Si Mr Green a un chien, alors il a aussi un chat\n",
        "3.   Si Mr White a un chien et Mr Green a un chat, alors Mme Yellow a un chien\n",
        "4.   Si Mme Brown et Mr Green ont un animal de la même espèce, alors Mr White a un chat\n",
        "5.   Tous les hommes ont un chien\n",
        "\n",
        "Soient les variables booléennes suivantes :\n",
        "w, b, g, et y sont vraies si White, Brown, Green et Yellow ont un chien\n",
        "W, B, G, et Y sont vraies si White, Brown, Green et Yellow ont un chat\n",
        "\n",
        "\n",
        "\n",
        "\n"
      ]
    },
    {
      "cell_type": "code",
      "metadata": {
        "id": "v80xy-qdtVf_"
      },
      "source": [
        "p = ['w','b','g','y','W','B','G','Y']"
      ],
      "execution_count": 2,
      "outputs": []
    },
    {
      "cell_type": "markdown",
      "metadata": {
        "id": "peXaPECVtXLb"
      },
      "source": [
        "Ces propositions peuvent être représentées sous la forme de formules logiques :\n",
        "\n",
        "1.  w ⇒ B\n",
        "2.  g ⇒ G\n",
        "3.  (w Λ G) ⇒ y\n",
        "4.  (g Λ b) ⇒ W Λ (G Λ B) ⇒ W)\n",
        "5.  w Λ g\n",
        "\n",
        "Ou bien :\n",
        "\n",
        "w ⇒ B Λ g ⇒ G Λ (w Λ G) ⇒ y Λ (g Λ b) ⇒ W Λ (G Λ B) ⇒ W) Λ w Λ g"
      ]
    },
    {
      "cell_type": "code",
      "metadata": {
        "id": "45fQgaQVtl8X"
      },
      "source": [
        "clauses = [(['w'], 'B'),(['g'], 'G'),(['w', 'G'], 'y'),(['g', 'b'], 'W'),(['G', 'B'], 'W'),([], 'w'),([], 'g')]"
      ],
      "execution_count": 61,
      "outputs": []
    },
    {
      "cell_type": "markdown",
      "metadata": {
        "id": "Nj38hDnQtlcn"
      },
      "source": [
        "Voici une implémentation de Horn-SAT :\n",
        "\n",
        "\n",
        "*   On débute par affecter la valeur False à chaque variable, dans un dictionnaire\n",
        "*   On crée un ensemble de variables qui contient les variables impliquées quand l'impliquant n'est pas vide\n",
        "*   Tant qu'il reste des valeures à traiter dans cet ensemble :\n",
        "\n",
        ">* On supprime *v* une variable de l'ensemble\n",
        "\n",
        ">* On passe la variable *v* à True dans le dictionnaire\n",
        "\n",
        ">* Pour chaque clause *c* ayant *v* parmi ses impliquants :\n",
        "\n",
        ">>* On supprime *v* des impliquants de la clause *c*\n",
        "\n",
        ">>* S'il n'y a plus d'impliquants dans *c*, on ajoute la variables impliquée dans *c* à l'ensemble de variables à traiter , si elle n'y est pas déjà\n",
        "\n",
        "* On retourne l'ensemble \n",
        "\n",
        "\n",
        "\n"
      ]
    },
    {
      "cell_type": "code",
      "metadata": {
        "colab": {
          "base_uri": "https://localhost:8080/"
        },
        "id": "8GLdBODP32oh",
        "outputId": "b41b7518-8300-4dd6-a70c-ceb4ba37847b"
      },
      "source": [
        "def HornSAT(p, cl):\n",
        "  \"\"\"\n",
        "  Retourne les valeurs que doivent prendre chaque variable pour satisfaire l'expression logique caractérisée par les variables 'p' et les clauses 'cl'\n",
        "  \"\"\"\n",
        "  valeurs = dict((v, False) for v in p)\n",
        "  a_traiter = set(t[1] for t in cl if not len(t[0]))\n",
        "  print('Les variables à traiter sont :',a_traiter)\n",
        "  while a_traiter:\n",
        "    v = a_traiter.pop()\n",
        "    valeurs[v] = True\n",
        "    c = [x for x in cl if v in x[0]]\n",
        "    print('On traite la variable',v,', et on la supprime de la liste des variables à traiter qui est réduite à',a_traiter,'. Voici les impliquants contenant',v,':',c)\n",
        "    for x in c:\n",
        "      print(\"Dans l'implication\",x,'on supprime',v,\"de l'impliquant\")\n",
        "      x[0].remove(v)\n",
        "      print('Et on obtient :',x)\n",
        "      if not x[0]:\n",
        "        a_traiter.add(x[1]) \n",
        "        print(\"Cet impliquant devient vide, on ajoute alors l'impliqué\",x[1],\"dans la liste des éléments à traiter :\",a_traiter)\n",
        "  return valeurs\n",
        "\n",
        "clauses = [(['w'], 'B'),(['g'], 'G'),(['w', 'G'], 'y'),(['g', 'b'], 'W'),(['G', 'B'], 'W'),([], 'w'),([], 'g')]\n",
        "print('Les valeurs finales sont :',HornSAT(p,clauses))"
      ],
      "execution_count": 3,
      "outputs": [
        {
          "output_type": "stream",
          "text": [
            "Les variables à traiter sont : {'w', 'g'}\n",
            "On traite la variable w , et on la supprime de la liste des variables à traiter qui est réduite à {'g'} . Voici les impliquants contenant w : [(['w'], 'B'), (['w', 'G'], 'y')]\n",
            "Dans l'implication (['w'], 'B') on supprime w de l'impliquant\n",
            "Et on obtient : ([], 'B')\n",
            "Cet impliquant devient vide, on ajoute alors l'impliqué B dans la liste des éléments à traiter : {'B', 'g'}\n",
            "Dans l'implication (['w', 'G'], 'y') on supprime w de l'impliquant\n",
            "Et on obtient : (['G'], 'y')\n",
            "On traite la variable B , et on la supprime de la liste des variables à traiter qui est réduite à {'g'} . Voici les impliquants contenant B : [(['G', 'B'], 'W')]\n",
            "Dans l'implication (['G', 'B'], 'W') on supprime B de l'impliquant\n",
            "Et on obtient : (['G'], 'W')\n",
            "On traite la variable g , et on la supprime de la liste des variables à traiter qui est réduite à set() . Voici les impliquants contenant g : [(['g'], 'G'), (['g', 'b'], 'W')]\n",
            "Dans l'implication (['g'], 'G') on supprime g de l'impliquant\n",
            "Et on obtient : ([], 'G')\n",
            "Cet impliquant devient vide, on ajoute alors l'impliqué G dans la liste des éléments à traiter : {'G'}\n",
            "Dans l'implication (['g', 'b'], 'W') on supprime g de l'impliquant\n",
            "Et on obtient : (['b'], 'W')\n",
            "On traite la variable G , et on la supprime de la liste des variables à traiter qui est réduite à set() . Voici les impliquants contenant G : [(['G'], 'y'), (['G'], 'W')]\n",
            "Dans l'implication (['G'], 'y') on supprime G de l'impliquant\n",
            "Et on obtient : ([], 'y')\n",
            "Cet impliquant devient vide, on ajoute alors l'impliqué y dans la liste des éléments à traiter : {'y'}\n",
            "Dans l'implication (['G'], 'W') on supprime G de l'impliquant\n",
            "Et on obtient : ([], 'W')\n",
            "Cet impliquant devient vide, on ajoute alors l'impliqué W dans la liste des éléments à traiter : {'y', 'W'}\n",
            "On traite la variable y , et on la supprime de la liste des variables à traiter qui est réduite à {'W'} . Voici les impliquants contenant y : []\n",
            "On traite la variable W , et on la supprime de la liste des variables à traiter qui est réduite à set() . Voici les impliquants contenant W : []\n",
            "Les valeurs finales sont : {'w': True, 'b': False, 'g': True, 'y': True, 'W': True, 'B': True, 'G': True, 'Y': False}\n"
          ],
          "name": "stdout"
        }
      ]
    },
    {
      "cell_type": "markdown",
      "metadata": {
        "id": "_qhhacjL8MUU"
      },
      "source": [
        "Les valeurs finales obtenues nous indiquent que : Mr White et Mr Green ont tous les deux un chien et un chat. Mme Brown a un chat et Mme Yellow a un chien. Il est possible que Mme Brown ait aussi un chien et que Mme Yellow ait aussi un chat.\n",
        "\n",
        "Voici un module permettant de résoudre les problèmes CNF-SAT, c'est à dire tous les problèmes SAT sous forme normale conjonctive."
      ]
    },
    {
      "cell_type": "code",
      "metadata": {
        "id": "gNeRr6OHqYyj"
      },
      "source": [
        "from pysat.solvers import Glucose3"
      ],
      "execution_count": null,
      "outputs": []
    },
    {
      "cell_type": "markdown",
      "metadata": {
        "id": "50RYKRa5tu3D"
      },
      "source": [
        "En cas d'erreur sur ce bloc d'instructions, lancez l'installation des modules matplotlib et networkx, redémarrez le noyau, puis re-exécutez la dernière cellule de code.\n"
      ]
    },
    {
      "cell_type": "code",
      "metadata": {
        "id": "YmbpI8lEt0id"
      },
      "source": [
        "import sys  \n",
        "!{sys.executable} -m pip install --user PySAT"
      ],
      "execution_count": null,
      "outputs": []
    },
    {
      "cell_type": "markdown",
      "metadata": {
        "id": "ZzZ-noAPt26o"
      },
      "source": [
        "Dans PySAT, les variables sont représentées par des entiers : 1 correspond à x₁, et -1 à ¬x₁.\n",
        "\n",
        "Voici un exemple d'expression à 2 littéraux à évaluer :\n",
        "\n",
        "(¬x₁ V x₂) Λ (¬x₂ V x₃) \n"
      ]
    },
    {
      "cell_type": "code",
      "metadata": {
        "colab": {
          "base_uri": "https://localhost:8080/"
        },
        "id": "_MSGX8o5_R_O",
        "outputId": "51743164-91c5-499c-e3f6-2d8265c5baba"
      },
      "source": [
        "g = Glucose3()\n",
        "g.add_clause([-1, 2])\n",
        "g.add_clause([-2, 3])\n",
        "print(g.solve())\n",
        "print(g.get_model())"
      ],
      "execution_count": 15,
      "outputs": [
        {
          "output_type": "stream",
          "text": [
            "True\n",
            "[-1, -2]\n"
          ],
          "name": "stdout"
        }
      ]
    },
    {
      "cell_type": "markdown",
      "metadata": {
        "id": "5Xd0nlP5ulbd"
      },
      "source": [
        "Cette expression est satisfaisable si, par exemple, x₁ vaut False, x₂ vaut False, et x₃ vaut False.\n",
        "\n",
        "Prenons une autre expression à 3 littéraux à évaluer :\n",
        "\n",
        "(x₁ V x₂ V x₃) Λ (¬x₁ V ¬x₂ V x₃) Λ (x₁ V ¬x₂ V x₃) Λ (x₁ V x₂ V ¬x₃) Λ (¬x₁ V x₂ V ¬x₃) Λ (¬x₁ V ¬x₂ V ¬x₃) Λ (¬x₁ V x₂ V x₃) Λ (x₁ V ¬x₂ V ¬x₃) "
      ]
    },
    {
      "cell_type": "code",
      "metadata": {
        "colab": {
          "base_uri": "https://localhost:8080/"
        },
        "id": "_dpLRwyLvS7Q",
        "outputId": "dcea4315-2d66-492c-b698-7b5f90832256"
      },
      "source": [
        "g = Glucose3()\n",
        "g.add_clause([1, 2, 3])\n",
        "g.add_clause([-1, -2, 3])\n",
        "g.add_clause([1, -2, 3])\n",
        "g.add_clause([1, 2, -3])\n",
        "g.add_clause([-1, 2, -3])\n",
        "g.add_clause([-1, -2, -3])\n",
        "g.add_clause([-1, 2, 3])\n",
        "g.add_clause([1, -2, -3])\n",
        "print(g.solve())\n",
        "print(g.get_model())"
      ],
      "execution_count": 27,
      "outputs": [
        {
          "output_type": "stream",
          "text": [
            "False\n",
            "None\n"
          ],
          "name": "stdout"
        }
      ]
    },
    {
      "cell_type": "markdown",
      "metadata": {
        "id": "XV52KowGxOm4"
      },
      "source": [
        "Ici, il n'y a aucune combinaison de valeurs de x₁, x₂, x₃ qui puisse rendre cette expression True.\n",
        "\n",
        "Pour bien le comprendre, donnons un nom aux clauses et à l'expression :\n",
        "\n",
        "a = (x₁ V x₂ V x₃)\n",
        "\n",
        "b = (¬x₁ V ¬x₂ V x₃)\n",
        "\n",
        "c = (x₁ V ¬x₂ V x₃)\n",
        "\n",
        "d = (x₁ V x₂ V ¬x₃)\n",
        "\n",
        "e = (¬x₁ V x₂ V ¬x₃)\n",
        "\n",
        "f = (¬x₁ V ¬x₂ V ¬x₃)\n",
        "\n",
        "g = (¬x₁ V x₂ V x₃)\n",
        "\n",
        "h = (x₁ V ¬x₂ V ¬x₃) \n",
        "\n",
        "S = a Λ b Λ c Λ d Λ e Λ f Λ g Λ h\n",
        "\n",
        "Examinons la table de vérité de S :\n",
        "![Capture d’écran 2021-03-26 à 10.09.25.png](data:image/png;base64,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)\n",
        "\n",
        "On constate que l'expression n'est pas satisfaisable : elle vaut False quelque soit la combinaison de valeurs de x₁, x₂, et x₃."
      ]
    }
  ]
}