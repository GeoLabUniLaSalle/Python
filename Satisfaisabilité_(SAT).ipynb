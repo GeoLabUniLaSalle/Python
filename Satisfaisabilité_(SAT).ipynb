{
  "nbformat": 4,
  "nbformat_minor": 0,
  "metadata": {
    "colab": {
      "name": "Satisfaisabilité (SAT).ipynb",
      "provenance": [],
      "collapsed_sections": [],
      "authorship_tag": "ABX9TyMhjREXILlg+KYJEdSlpbEz",
      "include_colab_link": true
    },
    "kernelspec": {
      "name": "python3",
      "display_name": "Python 3"
    },
    "language_info": {
      "name": "python"
    }
  },
  "cells": [
    {
      "cell_type": "markdown",
      "metadata": {
        "id": "view-in-github",
        "colab_type": "text"
      },
      "source": [
        "<a href=\"https://colab.research.google.com/github/GeoLabUniLaSalle/Python/blob/main/Satisfaisabilit%C3%A9_(SAT).ipynb\" target=\"_parent\"><img src=\"https://colab.research.google.com/assets/colab-badge.svg\" alt=\"Open In Colab\"/></a>"
      ]
    },
    {
      "cell_type": "markdown",
      "metadata": {
        "id": "5_5wJTud39gG"
      },
      "source": [
        "# **Satisfaisabilité**\n",
        "\n",
        "Voici un exercice qui vous permettra de vous exercer sur la pratique d'optimisation.\n",
        "\n",
        "Le problème satisfaisabilité traite une formule de logique propositionnelle constituée de variables logiques reliées par des connecteurs logiques : ET, OU, NON). Plus précisément, on analyse des formules de logique propositionnelles en forme normale conjonctive, c'est à dire sous la forme de produits de sommes (x V ¬z V y) Λ (¬y V k) Λ (¬k V ¬x).\n",
        "\n",
        "\n",
        "Son objectif est de déterminer s'il existe une combinaison de valeurs pour les variables qui la composent qui rende la formule vraie.\n",
        "\n",
        "Il en existe plusieurs variantes, suivant le nombre de nombre de littéraux par clause. Voici quelques exemples :\n",
        "\n",
        "*   1-SAT : x Λ ¬y Λ z Λ ¬k\n",
        "*   2-SAT : (x V ¬z V y) Λ (¬y V k) Λ (¬k V ¬x)\n",
        "*   3-SAT : (x V y V z) Λ (k V ¬x V y) Λ (¬k V x V ¬y)\n",
        " \n",
        "\n",
        "Le problème 3-SAT est un problème **NP-Complet** qui peut être étendu à toute formule en forme normale conjonctive, en montrant que n'importe quelle formule peut être réduite à un expression dont les clauses sont composées de 3 littéraux.\n",
        "\n",
        "Le problème 2-SAT se résoud en **temps polynomial**, et est résolu en utilisant un graphe orienté où :\n",
        "\n",
        "*   Les sommets sont les variables et leurs négations (x, ¬x)\n",
        "*   Les arêtes sont les clauses (V)\n",
        "Une formule est satisfaisable si, pour toutes les variables xᵢ, on a xᵢ et ¬xᵢ dans deux composantes connexes distinctes du graphe.\n",
        "\n",
        "Le problème 1-SAT, ou **Horn-SAT**, se résoud également en **temps polynomial**. Nous allons voir ici comment avec un exemple concret, à partir de quelques propositions logiques :\n",
        "\n",
        "\n",
        "1.   Si Mr White a un chien, alors Mme Brown a un chat\n",
        "2.   Si Mr Green a un chien, alors il a aussi un chat\n",
        "3.   Si Mr White a un chien et Mr Green a un chat, alors Mme Yellow a un chien\n",
        "4.   Si Mme Brown et Mr Green ont un animal de la même espèce, alors Mr White a un chat\n",
        "5.   Tous les hommes ont un chien\n",
        "\n",
        "Soient les variables booléennes suivantes :\n",
        "w, b, g, et y sont vraies si White, Brown, Green et Yellow ont un chien\n",
        "W, B, G, et Y sont vraies si White, Brown, Green et Yellow ont un chat\n",
        "\n",
        "\n",
        "\n",
        "\n"
      ]
    },
    {
      "cell_type": "code",
      "metadata": {
        "id": "v80xy-qdtVf_"
      },
      "source": [
        "p = ['w','b','g','y','W','B','G','Y']"
      ],
      "execution_count": 1,
      "outputs": []
    },
    {
      "cell_type": "markdown",
      "metadata": {
        "id": "peXaPECVtXLb"
      },
      "source": [
        "Ces propositions peuvent être représentées sous la forme de formules logiques :\n",
        "\n",
        "1.  w ⇒ B\n",
        "2.  g ⇒ G\n",
        "3.  (w Λ G) ⇒ y\n",
        "4.  (g Λ b) ⇒ W Λ (G Λ B) ⇒ W)\n",
        "5.  w Λ g\n",
        "\n",
        "Ou bien :\n",
        "\n",
        "w ⇒ B Λ g ⇒ G Λ (w Λ G) ⇒ y Λ (g Λ b) ⇒ W Λ (G Λ B) ⇒ W) Λ w Λ g"
      ]
    },
    {
      "cell_type": "code",
      "metadata": {
        "id": "45fQgaQVtl8X"
      },
      "source": [
        "clauses = [(['w'], 'B'),(['g'], 'G'),(['w', 'G'], 'y'),(['g', 'b'], 'W'),(['G', 'B'], 'W'),([], 'w'),([], 'g')]"
      ],
      "execution_count": 61,
      "outputs": []
    },
    {
      "cell_type": "markdown",
      "metadata": {
        "id": "Nj38hDnQtlcn"
      },
      "source": [
        "Voici une implémentation de Horn-SAT :\n",
        "\n",
        "\n",
        "*   On débute par affecter la valeur False à chaque variable, dans un dictionnaire\n",
        "*   On crée une collection de variables qui contient les variables impliquées quand l'impliquant n'est pas vide\n",
        "*   Tant qu'il reste des valeures à traiter dans cette collection :\n",
        "\n",
        ">* On supprime *v* une variable de la collection\n",
        "\n",
        ">* On passe la variable *v* à True dans le dictionnaire\n",
        "\n",
        ">* Pour chaque clause *c* ayant *v* parmi ses impliquants :\n",
        "\n",
        ">>* On supprime *v* des impliquants de la clause *c*\n",
        "\n",
        ">>* S'il n'y a plus d'impliquants dans *c*, on ajoute la variables impliquée dans *c* à la collection de variables à traiter , si elle n'y est pas déjà\n",
        "\n",
        "* On retourne la collection \n",
        "\n",
        "\n",
        "\n"
      ]
    },
    {
      "cell_type": "code",
      "metadata": {
        "colab": {
          "base_uri": "https://localhost:8080/"
        },
        "id": "8GLdBODP32oh",
        "outputId": "07c7aa94-6586-42b7-81fb-6c4c7831a458"
      },
      "source": [
        "def HornSAT(p, cl):\n",
        "  \"\"\"\n",
        "  Retourne les valeurs que doivent prendre chaque variable pour satisfaire l'expression logique caractérisée par les variables 'p' et les clauses 'cl'\n",
        "  \"\"\"\n",
        "  valeurs = dict((v, False) for v in p)\n",
        "  a_traiter = set(t[1] for t in cl if not len(t[0]))\n",
        "  print('Les variables à traiter sont :',a_traiter)\n",
        "  while a_traiter:\n",
        "    v = a_traiter.pop()\n",
        "    valeurs[v] = True\n",
        "    c = [x for x in cl if v in x[0]]\n",
        "    print('On traite la variable',v,', et on la supprime de la liste des variables à traiter qui est réduite à',a_traiter,'. Voici les impliquants contenant',v,':',c)\n",
        "    for x in c:\n",
        "      print(\"Dans l'implication\",x,'on supprime',v,\"de l'impliquant\")\n",
        "      x[0].remove(v)\n",
        "      print('Et on obtient :',x)\n",
        "      if not x[0]:\n",
        "        a_traiter.add(x[1]) \n",
        "        print(\"Cet impliquant devient vide, on ajoute alors l'impliqué\",x[1],\"dans la liste des éléments à traiter :\",a_traiter)\n",
        "  return valeurs\n",
        "\n",
        "clauses = [(['w'], 'B'),(['g'], 'G'),(['w', 'G'], 'y'),(['g', 'b'], 'W'),(['G', 'B'], 'W'),([], 'w'),([], 'g')]\n",
        "print('Les valeurs finales sont :',HornSAT(p,clauses))"
      ],
      "execution_count": 68,
      "outputs": [
        {
          "output_type": "stream",
          "text": [
            "Les variables à traiter sont : {'g', 'w'}\n",
            "On traite la variable g , et on la supprime de la liste des variables à traiter qui est réduite à {'w'} . Voici les impliquants contenant g : [(['g'], 'G'), (['g', 'b'], 'W')]\n",
            "Dans l'implication (['g'], 'G') on supprime g de l'impliquant\n",
            "Et on obtient : ([], 'G')\n",
            "Cet impliquant devient vide, on ajoute alors l'impliqué G dans la liste des éléments à traiter : {'G', 'w'}\n",
            "Dans l'implication (['g', 'b'], 'W') on supprime g de l'impliquant\n",
            "Et on obtient : (['b'], 'W')\n",
            "On traite la variable w , et on la supprime de la liste des variables à traiter qui est réduite à {'G'} . Voici les impliquants contenant w : [(['w'], 'B'), (['w', 'G'], 'y')]\n",
            "Dans l'implication (['w'], 'B') on supprime w de l'impliquant\n",
            "Et on obtient : ([], 'B')\n",
            "Cet impliquant devient vide, on ajoute alors l'impliqué B dans la liste des éléments à traiter : {'G', 'B'}\n",
            "Dans l'implication (['w', 'G'], 'y') on supprime w de l'impliquant\n",
            "Et on obtient : (['G'], 'y')\n",
            "On traite la variable G , et on la supprime de la liste des variables à traiter qui est réduite à {'B'} . Voici les impliquants contenant G : [(['G'], 'y'), (['G', 'B'], 'W')]\n",
            "Dans l'implication (['G'], 'y') on supprime G de l'impliquant\n",
            "Et on obtient : ([], 'y')\n",
            "Cet impliquant devient vide, on ajoute alors l'impliqué y dans la liste des éléments à traiter : {'y', 'B'}\n",
            "Dans l'implication (['G', 'B'], 'W') on supprime G de l'impliquant\n",
            "Et on obtient : (['B'], 'W')\n",
            "On traite la variable B , et on la supprime de la liste des variables à traiter qui est réduite à {'y'} . Voici les impliquants contenant B : [(['B'], 'W')]\n",
            "Dans l'implication (['B'], 'W') on supprime B de l'impliquant\n",
            "Et on obtient : ([], 'W')\n",
            "Cet impliquant devient vide, on ajoute alors l'impliqué W dans la liste des éléments à traiter : {'y', 'W'}\n",
            "On traite la variable y , et on la supprime de la liste des variables à traiter qui est réduite à {'W'} . Voici les impliquants contenant y : []\n",
            "On traite la variable W , et on la supprime de la liste des variables à traiter qui est réduite à set() . Voici les impliquants contenant W : []\n",
            "Les valeurs finales sont : {'w': True, 'b': False, 'g': True, 'y': True, 'W': True, 'B': True, 'G': True, 'Y': False}\n"
          ],
          "name": "stdout"
        }
      ]
    },
    {
      "cell_type": "markdown",
      "metadata": {
        "id": "_qhhacjL8MUU"
      },
      "source": [
        "Les valeurs finales obtenues nous indiquent que : Mr White et Mr Green ont tous les deux un chien et un chat. Mme Brown a un chat et Mme Yellow a un chien. Il est possible que Mme Brown ait aussi un chien et que Mme Yellow ait aussi un chat.\n",
        "\n",
        "Voici un équivalent en utilisant un module permettant de résoudre les problèmes SAT."
      ]
    },
    {
      "cell_type": "code",
      "metadata": {
        "colab": {
          "base_uri": "https://localhost:8080/",
          "height": 130
        },
        "id": "EIktNveX-pkp",
        "outputId": "befb7410-e748-4eb8-8b93-815707ca9046"
      },
      "source": [
        "from satispy import Variable, Cnf from satispy.solver import Minisat"
      ],
      "execution_count": 73,
      "outputs": [
        {
          "output_type": "error",
          "ename": "SyntaxError",
          "evalue": "ignored",
          "traceback": [
            "\u001b[0;36m  File \u001b[0;32m\"<ipython-input-73-2785239a0aeb>\"\u001b[0;36m, line \u001b[0;32m1\u001b[0m\n\u001b[0;31m    from satispy import Variable, Cnf from satispy.solver import Minisat\u001b[0m\n\u001b[0m                                         ^\u001b[0m\n\u001b[0;31mSyntaxError\u001b[0m\u001b[0;31m:\u001b[0m invalid syntax\n"
          ]
        }
      ]
    },
    {
      "cell_type": "code",
      "metadata": {
        "colab": {
          "base_uri": "https://localhost:8080/"
        },
        "id": "E73nQKa5_aZh",
        "outputId": "0939245e-453d-4c57-e7c0-399dfc91067a"
      },
      "source": [
        "import sys  \n",
        "!{sys.executable} -m pip install --user satispy"
      ],
      "execution_count": 71,
      "outputs": [
        {
          "output_type": "stream",
          "text": [
            "Requirement already satisfied: pysat in /root/.local/lib/python3.7/site-packages (2.2.2)\n",
            "Requirement already satisfied: scipy in /usr/local/lib/python3.7/dist-packages (from pysat) (1.4.1)\n",
            "Requirement already satisfied: madrigalWeb in /root/.local/lib/python3.7/site-packages (from pysat) (3.2)\n",
            "Requirement already satisfied: h5py in /usr/local/lib/python3.7/dist-packages (from pysat) (2.10.0)\n",
            "Requirement already satisfied: requests in /usr/local/lib/python3.7/dist-packages (from pysat) (2.23.0)\n",
            "Requirement already satisfied: beautifulsoup4 in /usr/local/lib/python3.7/dist-packages (from pysat) (4.6.3)\n",
            "Requirement already satisfied: PyForecastTools in /root/.local/lib/python3.7/site-packages (from pysat) (1.1.1)\n",
            "Requirement already satisfied: xarray<0.15 in /root/.local/lib/python3.7/site-packages (from pysat) (0.14.1)\n",
            "Requirement already satisfied: pandas<0.25,>=0.23 in /root/.local/lib/python3.7/site-packages (from pysat) (0.24.2)\n",
            "Requirement already satisfied: pysatCDF in /root/.local/lib/python3.7/site-packages (from pysat) (0.3.1)\n",
            "Requirement already satisfied: numpy>=1.12 in /usr/local/lib/python3.7/dist-packages (from pysat) (1.19.5)\n",
            "Requirement already satisfied: netCDF4 in /root/.local/lib/python3.7/site-packages (from pysat) (1.5.6)\n",
            "Requirement already satisfied: matplotlib in /usr/local/lib/python3.7/dist-packages (from pysat) (3.2.2)\n",
            "Requirement already satisfied: lxml in /usr/local/lib/python3.7/dist-packages (from pysat) (4.2.6)\n",
            "Requirement already satisfied: six in /usr/local/lib/python3.7/dist-packages (from h5py->pysat) (1.15.0)\n",
            "Requirement already satisfied: idna<3,>=2.5 in /usr/local/lib/python3.7/dist-packages (from requests->pysat) (2.10)\n",
            "Requirement already satisfied: certifi>=2017.4.17 in /usr/local/lib/python3.7/dist-packages (from requests->pysat) (2020.12.5)\n",
            "Requirement already satisfied: chardet<4,>=3.0.2 in /usr/local/lib/python3.7/dist-packages (from requests->pysat) (3.0.4)\n",
            "Requirement already satisfied: urllib3!=1.25.0,!=1.25.1,<1.26,>=1.21.1 in /usr/local/lib/python3.7/dist-packages (from requests->pysat) (1.24.3)\n",
            "Requirement already satisfied: python-dateutil>=2.5.0 in /usr/local/lib/python3.7/dist-packages (from pandas<0.25,>=0.23->pysat) (2.8.1)\n",
            "Requirement already satisfied: pytz>=2011k in /usr/local/lib/python3.7/dist-packages (from pandas<0.25,>=0.23->pysat) (2018.9)\n",
            "Requirement already satisfied: cftime in /root/.local/lib/python3.7/site-packages (from netCDF4->pysat) (1.4.1)\n",
            "Requirement already satisfied: kiwisolver>=1.0.1 in /usr/local/lib/python3.7/dist-packages (from matplotlib->pysat) (1.3.1)\n",
            "Requirement already satisfied: pyparsing!=2.0.4,!=2.1.2,!=2.1.6,>=2.0.1 in /usr/local/lib/python3.7/dist-packages (from matplotlib->pysat) (2.4.7)\n",
            "Requirement already satisfied: cycler>=0.10 in /usr/local/lib/python3.7/dist-packages (from matplotlib->pysat) (0.10.0)\n"
          ],
          "name": "stdout"
        }
      ]
    },
    {
      "cell_type": "markdown",
      "metadata": {
        "id": "PtfCGOMX_e6s"
      },
      "source": [
        "Dans pysat, les variables sont représentées par des entiers : 1 correspond à x₁, et -1 à ¬x₁.\n",
        "\n",
        "Revoyons nos variables et clauses avec cette notation :\n"
      ]
    },
    {
      "cell_type": "code",
      "metadata": {
        "id": "CWKRExip_3UZ"
      },
      "source": [
        "p = ['w','b','g','y','W','B','G','Y']\n",
        "clauses = [(['w'], 'B'),(['g'], 'G'),(['w', 'G'], 'y'),(['g', 'b'], 'W'),(['G', 'B'], 'W'),([], 'w'),([], 'g')]\n",
        "\n",
        "w = Variable('w') b = Variable('b') g = Variable('g') y = Variable('y') W = Variable('W') B = Variable('B') G = Variable('G') Y = Variable('Y')\n",
        "\n",
        "exp = (w >> B) & (g >> G) & ((w & G) >> y) & ((g & b) >> W) & ((G & B) >> W) & w & g\n",
        "\n",
        "solver = Minisat()\n",
        "\n",
        "solution = solver.solve(exp)\n",
        "\n",
        "if solution.success:\n",
        "  print(“Found a solution:”, w, solution[w], b, solution[b], g, solution[g], y, solution[y], W, solution[W], B, solution[B], G, solution[G], Y, solution[Y])\n",
        "else:\n",
        "  print “The expression cannot be satisfied”"
      ],
      "execution_count": null,
      "outputs": []
    },
    {
      "cell_type": "code",
      "metadata": {
        "id": "_MSGX8o5_R_O"
      },
      "source": [
        "g = Glucose3()\n",
        "g.add_clause([-1, 2])\n",
        "g.add_clause([-2, 3])\n",
        "print(g.solve())\n",
        "print(g.get_model())"
      ],
      "execution_count": null,
      "outputs": []
    }
  ]
}