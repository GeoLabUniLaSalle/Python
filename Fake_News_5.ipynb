{
  "nbformat": 4,
  "nbformat_minor": 0,
  "metadata": {
    "colab": {
      "name": "Fake News 5.ipynb",
      "provenance": [],
      "authorship_tag": "ABX9TyNGYw9vEtbY5VdVa6gb1KfR",
      "include_colab_link": true
    },
    "kernelspec": {
      "name": "python3",
      "display_name": "Python 3"
    }
  },
  "cells": [
    {
      "cell_type": "markdown",
      "metadata": {
        "id": "view-in-github",
        "colab_type": "text"
      },
      "source": [
        "<a href=\"https://colab.research.google.com/github/GeoLabUniLaSalle/Python/blob/main/Fake_News_5.ipynb\" target=\"_parent\"><img src=\"https://colab.research.google.com/assets/colab-badge.svg\" alt=\"Open In Colab\"/></a>"
      ]
    },
    {
      "cell_type": "markdown",
      "metadata": {
        "id": "txbhAFEJAkr8"
      },
      "source": [
        "## **Fake News 5 ★★★**\n",
        "\n",
        "*Exercice disponible sur la plateforme TOSA : Battle Dev Hello Works - Novembre 2020 : https://www.isograd.com/FR/solutionconcours.php*\n",
        "\n",
        "**Énoncé**\n",
        "\n",
        "\n",
        "Le temps d'une soirée, vous incarnez Jean-Claude Van Debunk, un des plus grands journalistes d'investigations du XXIe siècle.\n",
        "\n",
        "Votre nouvelle enquête ? Vous cherchez la source d'une vague de fake news sans précédent, cherchant à déstabiliser les élections prochaines en Russie. Et vous pensez avoir une excellente piste, qui pourrait mener aux plus grandes révélations de votre carrière !\n",
        "\n",
        "Plusieurs sources vous ont indiqué qui serait à la tête de ce puissant réseau : un mystérieux Dolan Grump.\n",
        "\n",
        "Prêt.e à démasquer Dolan et démanteler son réseau ? Il n'y a pas de temps à perdre, les fake news continuent d'arriver par millions !\n",
        "\n",
        "\n",
        "**Objectif**\n",
        "\n",
        "\n",
        "En interceptant les messages du réseau de Dolan Grump, vous êtes parvenu à obtenir le lien vers une plateforme qui semble coordonner les actions de fake news. Malheureusement, la création de compte invité ne vous permet pas d'accéder aux contenus les plus intéressants du site, il va falloir ruser pour obtenir les bonnes autorisations...\n",
        "\n",
        "Avec vos talents de hacker amateur, vous identifiez une vulnérabilité dans le site : le calcul de l'identifiant d'un utilisateur est effectué via un hachage simple de son pseudonyme. En faisant en sorte que votre hash soit le même que celui d'un chef de réseau, vous parviendrez sûrement à usurper son identité lors du calcul des permissions !\n",
        "\n",
        "La fonction de hachage d'une chaîne S de longueur N est la suivante :\n",
        "\n",
        "hash(S) = (S_0 * 31^(N-1) + S_1 * 31^(N-2) + ... + S_N-2 * 31 + S_N-1) % 4294967296 *texte en italique*, où S_i est le code ASCII du caractère de S à l'index i.\n",
        "\n",
        "\n",
        "\n",
        "\n",
        "**Format des données**\n",
        "\n",
        "*Entrée*\n",
        "\n",
        "Ligne 1 : une chaîne de caractères de longueur 5 à 50, le pseudonyme du chef de réseau.\n",
        "\n",
        "*Sortie*\n",
        "\n",
        "Une chaîne de longueur 1 à 100, le pseudonyme que vous choisissez de telle sorte que le hash de votre pseudonyme soit le même que celui du chef de réseau.\n",
        "\n",
        "*Contraintes*\n",
        "\n",
        "\n",
        "Les chaînes de caractère en entrée et en sortie ne peuvent être composées que de caractères imprimables hors espace (codes ASCII entre 33 et 126 inclus).\n",
        "\n",
        "Si plusieurs réponses valides existent, vous pouvez utiliser n'importe laquelle.\n",
        "\n",
        "Votre pseudonyme doit être différent de celui du chef de réseau.\n",
        "\n",
        "*Exemple*\n",
        "\n",
        "Si le chef de réseau a le pseudo BigBoss, son hash vaut (66 * 31^6 + 105 * 31^5 + 103 * 31^4 + 66 * 31^3 + 111 * 31^2 + 115 * 31 + 115) % 4294967296 = **1548960877**\n",
        "\n",
        "En choisissant le pseudonyme Coolh4cker0780578, votre hash sera également 1548960877, donc cette solution est valide (parmi de nombreuses autres)."
      ]
    },
    {
      "cell_type": "markdown",
      "metadata": {
        "id": "UhF3N0T5BDQR"
      },
      "source": [
        "## **Données**\n",
        "\n",
        "*Accès aux données*"
      ]
    },
    {
      "cell_type": "code",
      "metadata": {
        "colab": {
          "base_uri": "https://localhost:8080/"
        },
        "id": "zR3JnAMlA2Kc",
        "outputId": "3a3096f8-6980-4dcf-b51a-cc016bc16bca"
      },
      "source": [
        "import csv\n",
        "filedir = ('https://cours.unilasalle.fr/courses/SG4007/document/Exercices_Python/Fake_News_5/')\n",
        "\n",
        "import ssl\n",
        "ssl._create_default_https_context = ssl._create_unverified_context\n",
        "\n",
        "import urllib.request\n",
        "\n",
        "for x in range(1,6):\n",
        "  f = urllib.request.urlopen(str(filedir+\"input\"+str(x)+\".txt\"))\n",
        "\n",
        "  data=[]\n",
        "  for i in f:\n",
        "      line=i.decode('utf-8').strip()\n",
        "      data.append(line)\n",
        "  print('Entrée',x,':',data)\n",
        "\n",
        "  f = urllib.request.urlopen(str(filedir+\"output\"+str(x)+\".txt\"))\n",
        "  for i in f:\n",
        "      line=i.decode('utf-8').strip()\n",
        "  print('Sortie',x,':',line,'\\n')"
      ],
      "execution_count": 1,
      "outputs": [
        {
          "output_type": "stream",
          "text": [
            "Entrée 1 : ['adndo']\n",
            "Sortie 1 : MQWR83NK1P \n",
            "\n",
            "Entrée 2 : ['rtJXqgQgpP']\n",
            "Sortie 2 : 1WMDJZZFV9 \n",
            "\n",
            "Entrée 3 : ['Y4IjePBr3BNBaVnjYqL0']\n",
            "Sortie 3 : C20MC0YWAQ \n",
            "\n",
            "Entrée 4 : ['L5F}&LZdX,kT%2>,w&4[ld>){/E1Y=U/G@,g;oAA4Bfe+y?GS.']\n",
            "Sortie 4 : UI719RSLN3 \n",
            "\n",
            "Entrée 5 : [\"c(usH,C?]*D^O~Q1uW55m*j'q}^1y*}`n7CWqlR<YTZ}=$H8xZ\"]\n",
            "Sortie 5 : 7AO66HTRPP \n",
            "\n"
          ],
          "name": "stdout"
        }
      ]
    }
  ]
}