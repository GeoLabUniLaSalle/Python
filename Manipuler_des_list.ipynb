{
  "nbformat": 4,
  "nbformat_minor": 0,
  "metadata": {
    "colab": {
      "name": "Manipuler des list.ipynb",
      "provenance": [],
      "collapsed_sections": [],
      "authorship_tag": "ABX9TyMHH0772DJ+qimEYzGFu0e2",
      "include_colab_link": true
    },
    "kernelspec": {
      "name": "python3",
      "display_name": "Python 3"
    }
  },
  "cells": [
    {
      "cell_type": "markdown",
      "metadata": {
        "id": "view-in-github",
        "colab_type": "text"
      },
      "source": [
        "<a href=\"https://colab.research.google.com/github/GeoLabUniLaSalle/Python/blob/main/Manipuler_des_list.ipynb\" target=\"_parent\"><img src=\"https://colab.research.google.com/assets/colab-badge.svg\" alt=\"Open In Colab\"/></a>"
      ]
    },
    {
      "cell_type": "markdown",
      "metadata": {
        "id": "M9RAKB0HVOj3"
      },
      "source": [
        "## **Manipuler des list**\n",
        "\n",
        "Dans ce chapitre, nous allons apprendre à manipuler des listes par des fonctions spécifiques permettant d'ajouter ou supprimer des éléments.\n",
        "\n",
        "Commençons par créer une liste :"
      ]
    },
    {
      "cell_type": "code",
      "metadata": {
        "id": "ksXm4E8VVM0n",
        "colab": {
          "base_uri": "https://localhost:8080/"
        },
        "outputId": "6e05f8fa-b305-468f-90b6-f6301a23943a"
      },
      "source": [
        "l = [42, False, 'hey', 7.2]\n",
        "l"
      ],
      "execution_count": null,
      "outputs": [
        {
          "output_type": "execute_result",
          "data": {
            "text/plain": [
              "[42, False, 'hey', 7.2]"
            ]
          },
          "metadata": {
            "tags": []
          },
          "execution_count": 7
        }
      ]
    },
    {
      "cell_type": "markdown",
      "metadata": {
        "id": "NEf8QQLT53mj"
      },
      "source": [
        "Pour ajouter un objet à la fin de la liste, on utilise la méthode append qui prend un paramètre un objet à ajouter. Cet objet peut être de n'importe quel type."
      ]
    },
    {
      "cell_type": "code",
      "metadata": {
        "colab": {
          "base_uri": "https://localhost:8080/"
        },
        "id": "uU4xkQvd521C",
        "outputId": "d518d866-e894-48dc-afcb-d6584f6e74d8"
      },
      "source": [
        "l.append(13)\n",
        "print(l)\n",
        "l.append([8,3,6])\n",
        "print(l)"
      ],
      "execution_count": null,
      "outputs": [
        {
          "output_type": "stream",
          "text": [
            "[42, False, 'hey', 7.2, 13]\n",
            "[42, False, 'hey', 7.2, 13, [8, 3, 6]]\n"
          ],
          "name": "stdout"
        }
      ]
    },
    {
      "cell_type": "markdown",
      "metadata": {
        "id": "4tJtd3n66RjY"
      },
      "source": [
        "Etudions maintenant la méthode pop() qui supprime le dernier élément d'une liste, et retourne son contenu."
      ]
    },
    {
      "cell_type": "code",
      "metadata": {
        "colab": {
          "base_uri": "https://localhost:8080/"
        },
        "id": "r95c9syU6Pde",
        "outputId": "39ee132e-d7d8-44c2-ce84-51baaf686fe3"
      },
      "source": [
        "l.pop()\n",
        "print(l)\n",
        "a = l.pop()\n",
        "print(\"L'élément\",a,\"a été supprimé\")\n",
        "print(l)"
      ],
      "execution_count": null,
      "outputs": [
        {
          "output_type": "stream",
          "text": [
            "[42, False, 'hey', 7.2, 13]\n",
            "L'élément 13 a été supprimé\n",
            "[42, False, 'hey', 7.2]\n"
          ],
          "name": "stdout"
        }
      ]
    },
    {
      "cell_type": "markdown",
      "metadata": {
        "id": "TrPDX1OC7MTn"
      },
      "source": [
        "Il est possible de supprimer un élément dont on connaît l'indice"
      ]
    },
    {
      "cell_type": "code",
      "metadata": {
        "colab": {
          "base_uri": "https://localhost:8080/"
        },
        "id": "H5_nZXo_6-wO",
        "outputId": "10b1c7a9-e67a-47aa-b4a4-4a380a2c259b"
      },
      "source": [
        "del(l[1]) # Suppression du 2ème élément\n",
        "print(l)\n",
        "del(l[-1]) # Suppression du dernier élément\n",
        "print(l)"
      ],
      "execution_count": null,
      "outputs": [
        {
          "output_type": "stream",
          "text": [
            "[42, 'hey', 7.2]\n",
            "[42, 'hey']\n"
          ],
          "name": "stdout"
        }
      ]
    },
    {
      "cell_type": "markdown",
      "metadata": {
        "id": "r1m3nHLe7dQw"
      },
      "source": [
        "Nous pouvons insérer une liste dans une liste existante, grâce à la méthode insert qui prend en paramètre la position à laquelle on veut ajouter notre élément, et l'élement à insérer"
      ]
    },
    {
      "cell_type": "code",
      "metadata": {
        "colab": {
          "base_uri": "https://localhost:8080/"
        },
        "id": "n2ZVfQ2r7Zy6",
        "outputId": "2a346f70-1956-418a-f145-1eb68072ea53"
      },
      "source": [
        "l.insert(1,13)\n",
        "print(l)\n",
        "l.insert(1,[8,3,6])\n",
        "print(l)"
      ],
      "execution_count": null,
      "outputs": [
        {
          "output_type": "stream",
          "text": [
            "[42, 13, 'hey']\n",
            "[42, [8, 3, 6], 13, 'hey']\n"
          ],
          "name": "stdout"
        }
      ]
    },
    {
      "cell_type": "code",
      "metadata": {
        "colab": {
          "base_uri": "https://localhost:8080/"
        },
        "id": "SVDjTXEZ72OV",
        "outputId": "d0fe5b6d-3b69-42cb-bcd3-fa21062b4955"
      },
      "source": [
        "l"
      ],
      "execution_count": null,
      "outputs": [
        {
          "output_type": "execute_result",
          "data": {
            "text/plain": [
              "[42, [8, 3, 6], 13, 'hey']"
            ]
          },
          "metadata": {
            "tags": []
          },
          "execution_count": 16
        }
      ]
    },
    {
      "cell_type": "markdown",
      "metadata": {
        "id": "lyq6apjY8Me6"
      },
      "source": [
        "Le type list nous permet d'utiliser naturellement quelques fonctions de tri.\n",
        "\n",
        "Créons une liste d'entiers non triés."
      ]
    },
    {
      "cell_type": "code",
      "metadata": {
        "colab": {
          "base_uri": "https://localhost:8080/"
        },
        "id": "DJi_Zmgm8XW_",
        "outputId": "685d1d2e-a37d-47b6-b204-542401a4291f"
      },
      "source": [
        "s = [8,3,4,1,7]\n",
        "s"
      ],
      "execution_count": null,
      "outputs": [
        {
          "output_type": "execute_result",
          "data": {
            "text/plain": [
              "[8, 3, 4, 1, 7]"
            ]
          },
          "metadata": {
            "tags": []
          },
          "execution_count": 17
        }
      ]
    },
    {
      "cell_type": "markdown",
      "metadata": {
        "id": "uinQsca38dIu"
      },
      "source": [
        "Trions maintenant cette liste en ordre croissant :"
      ]
    },
    {
      "cell_type": "code",
      "metadata": {
        "colab": {
          "base_uri": "https://localhost:8080/"
        },
        "id": "CLznJhUD8Fy-",
        "outputId": "52d50ea1-9208-4329-e0ac-9cbadb424bb7"
      },
      "source": [
        "sorted(s)"
      ],
      "execution_count": null,
      "outputs": [
        {
          "output_type": "execute_result",
          "data": {
            "text/plain": [
              "[1, 3, 4, 7, 8]"
            ]
          },
          "metadata": {
            "tags": []
          },
          "execution_count": 18
        }
      ]
    },
    {
      "cell_type": "markdown",
      "metadata": {
        "id": "ESEFznS-8kLt"
      },
      "source": [
        "Notons que sorted retourne une liste triée, mais ne modifie pas le contenu de s :"
      ]
    },
    {
      "cell_type": "code",
      "metadata": {
        "colab": {
          "base_uri": "https://localhost:8080/"
        },
        "id": "RYyTHksO8i7b",
        "outputId": "91444f24-04e4-4212-ee37-a38e0288cf0f"
      },
      "source": [
        "s"
      ],
      "execution_count": null,
      "outputs": [
        {
          "output_type": "execute_result",
          "data": {
            "text/plain": [
              "[8, 3, 4, 1, 7]"
            ]
          },
          "metadata": {
            "tags": []
          },
          "execution_count": 19
        }
      ]
    },
    {
      "cell_type": "markdown",
      "metadata": {
        "id": "KoZwuTpQ8p-d"
      },
      "source": [
        "A l'inverse, la méthode sort() trie l'objet sur lequel elle est appelée :"
      ]
    },
    {
      "cell_type": "code",
      "metadata": {
        "colab": {
          "base_uri": "https://localhost:8080/"
        },
        "id": "JQpY-vAc8pLz",
        "outputId": "2104da18-fea1-4b72-aec0-6af62654e11a"
      },
      "source": [
        "s.sort()\n",
        "s"
      ],
      "execution_count": null,
      "outputs": [
        {
          "output_type": "execute_result",
          "data": {
            "text/plain": [
              "[1, 3, 4, 7, 8]"
            ]
          },
          "metadata": {
            "tags": []
          },
          "execution_count": 20
        }
      ]
    },
    {
      "cell_type": "markdown",
      "metadata": {
        "id": "-E8mxJ8x81c5"
      },
      "source": [
        "sort() est une méthode définie pour le type list alors que sorted() fonctionne sur tout type de séquence.\n",
        "\n",
        "Nous pouvons bien entendu réaliser des tris en ordre décroissant :"
      ]
    },
    {
      "cell_type": "code",
      "metadata": {
        "colab": {
          "base_uri": "https://localhost:8080/"
        },
        "id": "jzRg6u5g8xha",
        "outputId": "151a90c7-c051-4a7a-876a-92f300bc6985"
      },
      "source": [
        "s = [8,3,4,1,7]\n",
        "sorted(s,reverse=True)"
      ],
      "execution_count": null,
      "outputs": [
        {
          "output_type": "execute_result",
          "data": {
            "text/plain": [
              "[8, 7, 4, 3, 1]"
            ]
          },
          "metadata": {
            "tags": []
          },
          "execution_count": 21
        }
      ]
    },
    {
      "cell_type": "markdown",
      "metadata": {
        "id": "525sYi659L1j"
      },
      "source": [
        "Ou bien :"
      ]
    },
    {
      "cell_type": "code",
      "metadata": {
        "colab": {
          "base_uri": "https://localhost:8080/"
        },
        "id": "OInSAwyW9Hmx",
        "outputId": "410f2ab9-7a57-4416-be42-f8b11dcdd1e1"
      },
      "source": [
        "s.sort(reverse=True)\n",
        "s"
      ],
      "execution_count": null,
      "outputs": [
        {
          "output_type": "execute_result",
          "data": {
            "text/plain": [
              "[8, 7, 4, 3, 1]"
            ]
          },
          "metadata": {
            "tags": []
          },
          "execution_count": 22
        }
      ]
    },
    {
      "cell_type": "markdown",
      "metadata": {
        "id": "6Cfo7kZ59PYt"
      },
      "source": [
        "La méthode reverse permet d'inverser les éléments d'une liste : "
      ]
    },
    {
      "cell_type": "code",
      "metadata": {
        "colab": {
          "base_uri": "https://localhost:8080/"
        },
        "id": "N5TxuTsb9K6O",
        "outputId": "0a5ea393-1a18-4453-ac0a-b28e8b835113"
      },
      "source": [
        "s = [8,3,4,1,7]\n",
        "print(s)\n",
        "s.reverse()\n",
        "print(s)"
      ],
      "execution_count": null,
      "outputs": [
        {
          "output_type": "stream",
          "text": [
            "[8, 3, 4, 1, 7]\n",
            "[7, 1, 4, 3, 8]\n"
          ],
          "name": "stdout"
        }
      ]
    },
    {
      "cell_type": "markdown",
      "metadata": {
        "id": "vpVg2189NCpU"
      },
      "source": [
        "Les fonctions in, not in, min, max, len, count, +, * permettent de réaliser des traitements de base sur les listes."
      ]
    },
    {
      "cell_type": "code",
      "metadata": {
        "colab": {
          "base_uri": "https://localhost:8080/"
        },
        "id": "JaE1GK49Nj45",
        "outputId": "0e5dfd9d-618e-45e2-ff42-452f6d90134f"
      },
      "source": [
        "l = [8,3,4,1,7,3,3,7,8,3,7]\n",
        "print(7 in l)\n",
        "print(7 not in l)\n",
        "print(min(l))\n",
        "print(max(l))\n",
        "print(len(l))\n",
        "print(l.count(7))\n",
        "l=l+[4,7,3]\n",
        "print(l)\n",
        "l=l*2\n",
        "print(l)"
      ],
      "execution_count": 11,
      "outputs": [
        {
          "output_type": "stream",
          "text": [
            "True\n",
            "False\n",
            "1\n",
            "8\n",
            "11\n",
            "3\n",
            "[8, 3, 4, 1, 7, 3, 3, 7, 8, 3, 7, 4, 7, 3]\n",
            "[8, 3, 4, 1, 7, 3, 3, 7, 8, 3, 7, 4, 7, 3, 8, 3, 4, 1, 7, 3, 3, 7, 8, 3, 7, 4, 7, 3]\n"
          ],
          "name": "stdout"
        }
      ]
    },
    {
      "cell_type": "markdown",
      "metadata": {
        "id": "TvBsvmez9miK"
      },
      "source": [
        "Pour transformer une chaîne de caractères (str) en liste, nous utilisons la méthode split() qui retourne la liste convertie. Par défaut, split utilise le caractère espace comme caractère séparateur."
      ]
    },
    {
      "cell_type": "code",
      "metadata": {
        "colab": {
          "base_uri": "https://localhost:8080/"
        },
        "id": "pnkt0X8O9WgZ",
        "outputId": "61ad0945-9622-4bb9-d7d5-67f540a9275a"
      },
      "source": [
        "c = \"un tiens vaut mieux que deux tu l'auras\"\n",
        "l = c.split()\n",
        "l"
      ],
      "execution_count": null,
      "outputs": [
        {
          "output_type": "execute_result",
          "data": {
            "text/plain": [
              "['un', 'tiens', 'vaut', 'mieux', 'que', 'deux', 'tu', \"l'auras\"]"
            ]
          },
          "metadata": {
            "tags": []
          },
          "execution_count": 26
        }
      ]
    },
    {
      "cell_type": "markdown",
      "metadata": {
        "id": "Gt2rQT-n-Dwe"
      },
      "source": [
        "Nous pouvons choisir d'utiliser un autre caractère séparateur, comme la virgule si on traite un fichier csv.\n",
        "\n",
        "Testons avec le caractère 'e' :\n"
      ]
    },
    {
      "cell_type": "code",
      "metadata": {
        "colab": {
          "base_uri": "https://localhost:8080/"
        },
        "id": "JVpHaWCQ9_0f",
        "outputId": "30b16181-4c64-403b-fefb-3feed3dbda77"
      },
      "source": [
        "l = c.split(\"e\")\n",
        "l"
      ],
      "execution_count": null,
      "outputs": [
        {
          "output_type": "execute_result",
          "data": {
            "text/plain": [
              "['un ti', 'ns vaut mi', 'ux qu', ' d', \"ux tu l'auras\"]"
            ]
          },
          "metadata": {
            "tags": []
          },
          "execution_count": 27
        }
      ]
    },
    {
      "cell_type": "markdown",
      "metadata": {
        "id": "m8nZLgPT-cqr"
      },
      "source": [
        "Inversement, nous pouvons créer une chaîne de caractères (str) à partir d'une liste de str avec la méthode join() qui retourne la chaîne de caractères convertie. Le caractère entre guillements indique le séparateur à intégrer."
      ]
    },
    {
      "cell_type": "code",
      "metadata": {
        "colab": {
          "base_uri": "https://localhost:8080/",
          "height": 35
        },
        "id": "pIjE-Twj-T_F",
        "outputId": "fa4f6ecd-95ab-42a3-8288-229c487a05d6"
      },
      "source": [
        "l = ['81','47','52','19']\n",
        "c = \",\".join(l)\n",
        "print(c)\n",
        "c = \"_\".join(l)\n",
        "print(c)"
      ],
      "execution_count": null,
      "outputs": [
        {
          "output_type": "execute_result",
          "data": {
            "application/vnd.google.colaboratory.intrinsic+json": {
              "type": "string"
            },
            "text/plain": [
              "'81_47_52_19'"
            ]
          },
          "metadata": {
            "tags": []
          },
          "execution_count": 37
        }
      ]
    },
    {
      "cell_type": "markdown",
      "metadata": {
        "id": "_p8CD9sPOSsT"
      },
      "source": [
        "Il est possible d'appliquer une fonction à tous les élements d'une liste par la fonction *map*."
      ]
    },
    {
      "cell_type": "code",
      "metadata": {
        "colab": {
          "base_uri": "https://localhost:8080/"
        },
        "id": "6k7Bj8UnOfSP",
        "outputId": "24fc0471-9a12-4ca2-d2fa-a857e3e6bd22"
      },
      "source": [
        "l = ['81','47','52','19']\n",
        "print(type(l[0]))\n",
        "m=list(map(int,l))\n",
        "print(m)\n",
        "print(type(m[0]))"
      ],
      "execution_count": 16,
      "outputs": [
        {
          "output_type": "stream",
          "text": [
            "<class 'str'>\n",
            "[81, 47, 52, 19]\n",
            "<class 'int'>\n"
          ],
          "name": "stdout"
        }
      ]
    },
    {
      "cell_type": "code",
      "metadata": {
        "colab": {
          "base_uri": "https://localhost:8080/"
        },
        "id": "xnPuY9AnOjMZ",
        "outputId": "9503600a-00f9-4ab8-e136-82b381758aaa"
      },
      "source": [
        "n=list(map(lambda x: x * 2 + 3,m))\n",
        "print(n)"
      ],
      "execution_count": 17,
      "outputs": [
        {
          "output_type": "stream",
          "text": [
            "[165, 97, 107, 41]\n"
          ],
          "name": "stdout"
        }
      ]
    }
  ]
}